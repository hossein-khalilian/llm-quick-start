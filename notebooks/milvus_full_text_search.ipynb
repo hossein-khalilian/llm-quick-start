{
 "cells": [
  {
   "cell_type": "markdown",
   "id": "7fc00c51-809a-4606-810e-65e95f303865",
   "metadata": {},
   "source": [
    "# create schema"
   ]
  },
  {
   "cell_type": "code",
   "execution_count": 4,
   "id": "bc2fea62-fb45-4500-89e0-f118d9f1a21d",
   "metadata": {
    "execution": {
     "iopub.execute_input": "2025-06-01T06:42:35.100091Z",
     "iopub.status.busy": "2025-06-01T06:42:35.098802Z",
     "iopub.status.idle": "2025-06-01T06:42:35.114204Z",
     "shell.execute_reply": "2025-06-01T06:42:35.113312Z",
     "shell.execute_reply.started": "2025-06-01T06:42:35.100046Z"
    }
   },
   "outputs": [
    {
     "name": "stdout",
     "output_type": "stream",
     "text": [
      "Milvus client initialized for endpoint: http://host.docker.internal:19530\n"
     ]
    }
   ],
   "source": [
    "from pymilvus import MilvusClient, DataType, Function, FunctionType\n",
    "\n",
    "base_url = \"host.docker.internal\"\n",
    "URI = f\"http://{base_url}:19530\"\n",
    "try:\n",
    "    milvus_client = MilvusClient(\n",
    "        uri=URI,\n",
    "    )\n",
    "    print(f\"Milvus client initialized for endpoint: {URI}\")\n",
    "except Exception as e:\n",
    "    print(f\"Fatal Error: Could not initialize Milvus client: {e}\")"
   ]
  },
  {
   "cell_type": "code",
   "execution_count": 5,
   "id": "ea077053-3e8f-4686-8d32-e00e39a4526d",
   "metadata": {
    "execution": {
     "iopub.execute_input": "2025-06-01T06:42:35.817254Z",
     "iopub.status.busy": "2025-06-01T06:42:35.816933Z",
     "iopub.status.idle": "2025-06-01T06:42:35.826359Z",
     "shell.execute_reply": "2025-06-01T06:42:35.825716Z",
     "shell.execute_reply.started": "2025-06-01T06:42:35.817227Z"
    }
   },
   "outputs": [
    {
     "data": {
      "text/plain": [
       "{'auto_id': False, 'description': '', 'fields': [{'name': 'id', 'description': '', 'type': <DataType.INT64: 5>, 'is_primary': True, 'auto_id': True}, {'name': 'text', 'description': '', 'type': <DataType.VARCHAR: 21>, 'params': {'max_length': 1000, 'enable_analyzer': True}}, {'name': 'sparse', 'description': '', 'type': <DataType.SPARSE_FLOAT_VECTOR: 104>}], 'enable_dynamic_field': False}"
      ]
     },
     "execution_count": 5,
     "metadata": {},
     "output_type": "execute_result"
    }
   ],
   "source": [
    "schema = MilvusClient.create_schema()\n",
    "\n",
    "schema.add_field(field_name=\"id\", datatype=DataType.INT64, is_primary=True, auto_id=True)\n",
    "schema.add_field(field_name=\"text\", datatype=DataType.VARCHAR, max_length=1000, enable_analyzer=True)\n",
    "schema.add_field(field_name=\"sparse\", datatype=DataType.SPARSE_FLOAT_VECTOR)"
   ]
  },
  {
   "cell_type": "code",
   "execution_count": 6,
   "id": "8af73b25-f72b-4896-acd6-bf81a105682a",
   "metadata": {
    "execution": {
     "iopub.execute_input": "2025-06-01T06:42:36.665407Z",
     "iopub.status.busy": "2025-06-01T06:42:36.664643Z",
     "iopub.status.idle": "2025-06-01T06:42:36.673087Z",
     "shell.execute_reply": "2025-06-01T06:42:36.672083Z",
     "shell.execute_reply.started": "2025-06-01T06:42:36.665367Z"
    }
   },
   "outputs": [
    {
     "data": {
      "text/plain": [
       "{'auto_id': False, 'description': '', 'fields': [{'name': 'id', 'description': '', 'type': <DataType.INT64: 5>, 'is_primary': True, 'auto_id': True}, {'name': 'text', 'description': '', 'type': <DataType.VARCHAR: 21>, 'params': {'max_length': 1000, 'enable_analyzer': True}}, {'name': 'sparse', 'description': '', 'type': <DataType.SPARSE_FLOAT_VECTOR: 104>, 'is_function_output': True}], 'enable_dynamic_field': False, 'functions': [{'name': 'text_bm25_emb', 'description': '', 'type': <FunctionType.BM25: 1>, 'input_field_names': ['text'], 'output_field_names': ['sparse'], 'params': {}}]}"
      ]
     },
     "execution_count": 6,
     "metadata": {},
     "output_type": "execute_result"
    }
   ],
   "source": [
    "bm25_function = Function(\n",
    "    name=\"text_bm25_emb\", # Function name\n",
    "    input_field_names=[\"text\"], # Name of the VARCHAR field containing raw text data\n",
    "    output_field_names=[\"sparse\"], # Name of the SPARSE_FLOAT_VECTOR field reserved to store generated embeddings\n",
    "    function_type=FunctionType.BM25, # Set to `BM25`\n",
    ")\n",
    "\n",
    "schema.add_function(bm25_function)"
   ]
  },
  {
   "cell_type": "markdown",
   "id": "7b612535-59d2-4028-84f6-b98c85b12fb6",
   "metadata": {},
   "source": [
    "# configure the index"
   ]
  },
  {
   "cell_type": "code",
   "execution_count": 7,
   "id": "0170368f-61c0-4335-82c5-7bd5bd0e1d80",
   "metadata": {
    "execution": {
     "iopub.execute_input": "2025-06-01T06:55:43.293306Z",
     "iopub.status.busy": "2025-06-01T06:55:43.292292Z",
     "iopub.status.idle": "2025-06-01T06:55:43.305562Z",
     "shell.execute_reply": "2025-06-01T06:55:43.303287Z",
     "shell.execute_reply.started": "2025-06-01T06:55:43.293233Z"
    }
   },
   "outputs": [],
   "source": [
    "index_params = MilvusClient.prepare_index_params()\n",
    "\n",
    "index_params.add_index(\n",
    "    field_name=\"sparse\",\n",
    "\n",
    "    index_type=\"SPARSE_INVERTED_INDEX\",\n",
    "    metric_type=\"BM25\",\n",
    "    params={\n",
    "        \"inverted_index_algo\": \"DAAT_MAXSCORE\",\n",
    "        \"bm25_k1\": 1.2,\n",
    "        \"bm25_b\": 0.75\n",
    "    }\n",
    "\n",
    ")\n"
   ]
  },
  {
   "cell_type": "markdown",
   "id": "d8de2141-8dae-4022-89bf-f43e25ba3e97",
   "metadata": {},
   "source": [
    "# create collection"
   ]
  },
  {
   "cell_type": "code",
   "execution_count": 11,
   "id": "0b70b336-e9bc-4c91-887c-c343b2f6a038",
   "metadata": {
    "execution": {
     "iopub.execute_input": "2025-06-01T07:00:38.764506Z",
     "iopub.status.busy": "2025-06-01T07:00:38.764235Z",
     "iopub.status.idle": "2025-06-01T07:00:39.739274Z",
     "shell.execute_reply": "2025-06-01T07:00:39.738460Z",
     "shell.execute_reply.started": "2025-06-01T07:00:38.764484Z"
    }
   },
   "outputs": [],
   "source": [
    "milvus_client.create_collection(\n",
    "    collection_name='full_text_search_collection', \n",
    "    schema=schema, \n",
    "    index_params=index_params\n",
    ")"
   ]
  },
  {
   "cell_type": "markdown",
   "id": "46a41190-9057-4fad-ba68-b0bec4e1da8c",
   "metadata": {},
   "source": [
    "# insert text data"
   ]
  },
  {
   "cell_type": "code",
   "execution_count": null,
   "id": "a2f244f3-abea-4f81-a988-c9cce294828f",
   "metadata": {
    "execution": {
     "iopub.execute_input": "2025-06-01T07:31:02.865210Z",
     "iopub.status.busy": "2025-06-01T07:31:02.864386Z",
     "iopub.status.idle": "2025-06-01T07:31:02.887772Z",
     "shell.execute_reply": "2025-06-01T07:31:02.886714Z",
     "shell.execute_reply.started": "2025-06-01T07:31:02.865138Z"
    }
   },
   "outputs": [],
   "source": [
    "milvus_client.insert('full_text_search_collection', [\n",
    "    {'text': 'information retrieval is a field of study.'},\n",
    "    {'text': 'information retrieval focuses on finding relevant information in large datasets.'},\n",
    "    {'text': 'data mining and information retrieval overlap in research.'},\n",
    "])"
   ]
  },
  {
   "cell_type": "code",
   "execution_count": null,
   "id": "b9c5c245-9432-4a01-bdb2-bd07c0fe10b7",
   "metadata": {
    "execution": {
     "iopub.execute_input": "2025-06-01T07:31:02.865210Z",
     "iopub.status.busy": "2025-06-01T07:31:02.864386Z",
     "iopub.status.idle": "2025-06-01T07:31:02.887772Z",
     "shell.execute_reply": "2025-06-01T07:31:02.886714Z",
     "shell.execute_reply.started": "2025-06-01T07:31:02.865138Z"
    }
   },
   "outputs": [
    {
     "data": {
      "text/plain": [
       "{'insert_count': 10, 'ids': [458426901916294296, 458426901916294297, 458426901916294298, 458426901916294299, 458426901916294300, 458426901916294301, 458426901916294302, 458426901916294303, 458426901916294304, 458426901916294305], 'cost': 0}"
      ]
     },
     "execution_count": 38,
     "metadata": {},
     "output_type": "execute_result"
    }
   ],
   "source": [
    "documents = [\n",
    "    {'text': 'I had chocolate chip pancakes and scrambled eggs for breakfast this morning.'},\n",
    "    {'text': 'The weather forecast for tomorrow is cloudy and overcast, with a high of 62 degrees.'},\n",
    "    {'text': 'Building an exciting new project with LangChain - come check it out!'},\n",
    "    {'text': 'Robbers broke into the city bank and stole $1 million in cash.'},\n",
    "    {'text': \"Wow! That was an amazing movie. I can't wait to see it again.\"},\n",
    "    {'text': 'Is the new iPhone worth the price? Read this review to find out.'},\n",
    "    {'text': 'The top 10 soccer players in the world right now.'},\n",
    "    {'text': 'LangGraph is the best framework for building stateful, agentic applications!'},\n",
    "    {'text': 'The stock market is down 500 points today due to fears of a recession.'},\n",
    "    {'text': 'I have a bad feeling I am going to get deleted :('}\n",
    "]\n",
    "milvus_client.insert('full_text_search_collection', documents)"
   ]
  },
  {
   "cell_type": "markdown",
   "id": "a7d4e2a7-39bb-42fe-b3ce-5ac01ad885bf",
   "metadata": {
    "execution": {
     "iopub.execute_input": "2025-06-01T07:01:57.254255Z",
     "iopub.status.busy": "2025-06-01T07:01:57.253404Z",
     "iopub.status.idle": "2025-06-01T07:01:57.278683Z",
     "shell.execute_reply": "2025-06-01T07:01:57.277704Z",
     "shell.execute_reply.started": "2025-06-01T07:01:57.254183Z"
    }
   },
   "source": [
    "# perform full text search"
   ]
  },
  {
   "cell_type": "code",
   "execution_count": 40,
   "id": "b1c060fe-9f06-4fc7-a42c-f798d8fca5e8",
   "metadata": {
    "execution": {
     "iopub.execute_input": "2025-06-01T07:31:26.473488Z",
     "iopub.status.busy": "2025-06-01T07:31:26.472928Z",
     "iopub.status.idle": "2025-06-01T07:31:26.484693Z",
     "shell.execute_reply": "2025-06-01T07:31:26.483715Z",
     "shell.execute_reply.started": "2025-06-01T07:31:26.473438Z"
    }
   },
   "outputs": [
    {
     "data": {
      "text/plain": [
       "data: [[{'id': 458426901916294292, 'distance': 3.793283462524414, 'entity': {}}, {'id': 458426901916294288, 'distance': 3.793283462524414, 'entity': {}}, {'id': 458426901916294289, 'distance': 2.3380560874938965, 'entity': {}}]]"
      ]
     },
     "execution_count": 40,
     "metadata": {},
     "output_type": "execute_result"
    }
   ],
   "source": [
    "search_params = {\n",
    "    'params': {'drop_ratio_search': 0.2},\n",
    "}\n",
    "\n",
    "milvus_client.search(\n",
    "    collection_name='full_text_search_collection', \n",
    "    data=['whats the focus of information retrieval?'],\n",
    "    anns_field='sparse',\n",
    "    limit=3,\n",
    "    search_params=search_params\n",
    ")"
   ]
  },
  {
   "cell_type": "code",
   "execution_count": 41,
   "id": "de86137d-6aac-41b5-9dd4-a9f91905b80d",
   "metadata": {
    "execution": {
     "iopub.execute_input": "2025-06-01T07:31:50.409240Z",
     "iopub.status.busy": "2025-06-01T07:31:50.408681Z",
     "iopub.status.idle": "2025-06-01T07:31:50.422819Z",
     "shell.execute_reply": "2025-06-01T07:31:50.422020Z",
     "shell.execute_reply.started": "2025-06-01T07:31:50.409192Z"
    }
   },
   "outputs": [
    {
     "data": {
      "text/plain": [
       "data: [[{'id': 458426901916294303, 'distance': 3.488731861114502, 'entity': {}}, {'id': 458426901916294288, 'distance': 1.1214488744735718, 'entity': {}}, {'id': 458426901916294292, 'distance': 1.1214488744735718, 'entity': {}}]]"
      ]
     },
     "execution_count": 41,
     "metadata": {},
     "output_type": "execute_result"
    }
   ],
   "source": [
    "search_params = {\n",
    "    'params': {'drop_ratio_search': 0.3, \"sort\": True},\n",
    "}\n",
    "\n",
    "milvus_client.search(\n",
    "    collection_name='full_text_search_collection', \n",
    "    data=['what is langgraph'],\n",
    "    anns_field='sparse',\n",
    "    limit=3,\n",
    "    search_params=search_params\n",
    ")"
   ]
  }
 ],
 "metadata": {
  "kernelspec": {
   "display_name": "Python 3 (ipykernel)",
   "language": "python",
   "name": "python3"
  },
  "language_info": {
   "codemirror_mode": {
    "name": "ipython",
    "version": 3
   },
   "file_extension": ".py",
   "mimetype": "text/x-python",
   "name": "python",
   "nbconvert_exporter": "python",
   "pygments_lexer": "ipython3",
   "version": "3.12.9"
  }
 },
 "nbformat": 4,
 "nbformat_minor": 5
}
