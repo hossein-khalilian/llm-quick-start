{
 "cells": [
  {
   "cell_type": "code",
   "execution_count": 1,
   "id": "21224195-c9e9-40fb-b2d7-64cd3fd389e7",
   "metadata": {
    "execution": {
     "iopub.execute_input": "2025-09-09T06:36:50.100955Z",
     "iopub.status.busy": "2025-09-09T06:36:50.100577Z",
     "iopub.status.idle": "2025-09-09T06:36:50.122690Z",
     "shell.execute_reply": "2025-09-09T06:36:50.122127Z",
     "shell.execute_reply.started": "2025-09-09T06:36:50.100930Z"
    }
   },
   "outputs": [
    {
     "data": {
      "text/plain": [
       "True"
      ]
     },
     "execution_count": 1,
     "metadata": {},
     "output_type": "execute_result"
    }
   ],
   "source": [
    "from dotenv import load_dotenv\n",
    "load_dotenv()"
   ]
  },
  {
   "cell_type": "code",
   "execution_count": 2,
   "id": "f892800c-501c-4146-bc96-349e55e0d855",
   "metadata": {
    "execution": {
     "iopub.execute_input": "2025-09-09T06:36:50.880257Z",
     "iopub.status.busy": "2025-09-09T06:36:50.879478Z",
     "iopub.status.idle": "2025-09-09T06:36:51.551856Z",
     "shell.execute_reply": "2025-09-09T06:36:51.551111Z",
     "shell.execute_reply.started": "2025-09-09T06:36:50.880186Z"
    }
   },
   "outputs": [],
   "source": [
    "from openai import OpenAI\n",
    "import base64\n",
    "\n",
    "# Initialize client\n",
    "client = OpenAI()\n",
    "\n",
    "# Function to convert image to base64 (needed if you load from file)\n",
    "def encode_image(image_path):\n",
    "    with open(image_path, \"rb\") as f:\n",
    "        return base64.b64encode(f.read()).decode(\"utf-8\")"
   ]
  },
  {
   "cell_type": "code",
   "execution_count": 8,
   "id": "ba66a2f8-b095-4413-8808-11b93b6b0b8c",
   "metadata": {
    "execution": {
     "iopub.execute_input": "2025-09-09T07:58:23.015984Z",
     "iopub.status.busy": "2025-09-09T07:58:23.015063Z",
     "iopub.status.idle": "2025-09-09T07:58:23.021464Z",
     "shell.execute_reply": "2025-09-09T07:58:23.020228Z",
     "shell.execute_reply.started": "2025-09-09T07:58:23.015934Z"
    }
   },
   "outputs": [],
   "source": [
    "# Path to your annotated screenshot\n",
    "image_path = \"/home/jovyan/projects/data/annotated_screenshot.png\"\n",
    "# image_path = \"/home/jovyan/projects/data/annotated_screenshot_01.png\"\n",
    "base64_image = encode_image(image_path)"
   ]
  },
  {
   "cell_type": "code",
   "execution_count": 10,
   "id": "f5ce67bb-d500-4882-bc1b-2d2f37ceccb8",
   "metadata": {
    "execution": {
     "iopub.execute_input": "2025-09-09T07:59:01.652303Z",
     "iopub.status.busy": "2025-09-09T07:59:01.651384Z",
     "iopub.status.idle": "2025-09-09T07:59:09.524550Z",
     "shell.execute_reply": "2025-09-09T07:59:09.521279Z",
     "shell.execute_reply.started": "2025-09-09T07:59:01.652253Z"
    }
   },
   "outputs": [
    {
     "name": "stdout",
     "output_type": "stream",
     "text": [
      "### نکات کلیدی از اسکرین‌شات:\n",
      "\n",
      "#### بخش نوار بالایی:\n",
      "- **عنوان صفحه**: \"صفحه میزکار\"\n",
      "- **دکمه‌ها**:\n",
      "  - \"باز کردن لیست منوها\": دکمه برای دسترسی به منوی دیگر.\n",
      "  - \"درخواست‌های معطله\": دسترسی به درخواست‌های pending.\n",
      "  - گزینه‌های دیگر برای تنظیمات و عملکردهای مختلف.\n",
      "\n",
      "#### بخش پیام‌های مدیر سیستمی:\n",
      "- **پیام‌ها**: حاوی اطلاعات مهم و وضعیت‌های فعلی.\n",
      "- **نکات**: اشاره به مواردی که باید مورد توجه قرار گیرند.\n",
      "\n",
      "#### بخش آمار و اطلاعات:\n",
      "- **گراف‌ها و نمودارها**:\n",
      "  - نمایش وضعیت و عملکرد به صورت بصری (نمودار دایره‌ای).\n",
      "  - آمارهایی نظیر تعداد درخواست‌ها، وضعیت‌های تکمیل شده، و موارد pending.\n",
      "\n",
      "#### نوار کناری:\n",
      "- **دکمه‌ها و آیتم‌های اضافی**:\n",
      "  - دسترسی آسان به بخش‌های مختلف سیستم.\n",
      "\n",
      "#### ویژگی‌ها و عملکردها:\n",
      "- **تعاملات**: امکان مشاهده و مدیریت درخواست‌ها و پیام‌ها.\n",
      "- **دکمه‌های عملیاتی**: برای تسهیل در انجام اقداماتی نظیر افزودن یا ویرایش اطلاعات.\n",
      "\n",
      "#### پیشنهادات:\n",
      "- **توجه به پیام‌های مدیر**: نکات کلیدی برای کاربر در پیوست‌های سیستمی.\n",
      "- **استفاده از گراف‌ها**: برای تجزیه و تحلیل وضعیت فعلی. \n",
      "\n",
      "این ساختار اطلاعات به کاربر کمک می‌کند تا به راحتی با عناصر و عملکردهای موجود در صفحه آشنا شود.\n"
     ]
    }
   ],
   "source": [
    "# instruction = \"Extract all the text and explanations from this annotated screenshot.\"\n",
    "instruction = \"Convert this annotated image into a clear, continuous text description. Include the objects, labels, and their relationships so that someone who cannot see the image can fully understand what it shows. Write it as natural, fluid prose instead of bullet points or technical formatting.\"\n",
    "instruction = \"تصویرِ توضیحی موجود در این فایل را به متن روان و پیوسته تبدیل کن. تمام برچسب‌ها، پیکان‌ها و بخش‌های هایلایت‌شده را به صورت توصیفی در متن بیاور، به گونه‌ای که خواننده بدون دیدن تصویر هم بتواند مطلب را به‌طور کامل درک کند. متن باید به زبان فارسی روان نوشته شود و مانند توضیح در ادامه‌ی متن اصلی باشد، نه به شکل فهرست یا نکته‌وار.\"\n",
    "instruction = \"Convert the annotated image into a list of bullet points. Each label, arrow, or highlighted section in the image should be expressed as a separate point. The text should be clear, concise, and understandable so that someone can grasp the content without seeing the image.\"\n",
    "instruction = \"You are given an annotated screenshot. Carefully read the annotations, labels, arrows, highlights, and any visible text. Ignore irrelevant UI elements or background clutter. Summarize the key points as concise bullet points, preserving the meaning of the annotations. Keep the language simple, clear, and structured. If multiple areas are highlighted, group the bullet points logically (e.g., by section or feature). Do not describe visual styling, only the content and meaning of the annotations.\"\n",
    "# instruction = \"You are given an annotated screenshot. The annotations, labels, and text are in Persian. Carefully read the annotations, highlights, and arrows. Summarize the information as clear bullet points, preserving the Persian text exactly as it appears (do not translate). Group related points logically. Ignore irrelevant UI elements or background details. Only output structured bullet points in Persian.\"\n",
    "instruction = \"You are given an annotated screenshot. Carefully read all annotations, labels, arrows, highlights, and any visible UI elements (buttons, menus, icons, input fields, etc.). Convert all relevant information into concise, well-structured bullet points. Preserve the meaning of annotations and describe important UI elements clearly, including their labels and function. Organize the bullet points logically by sections, features, or areas of the screenshot. Avoid describing purely visual styles unless they convey functional information.\"\n",
    "instruction = \"شما یک اسکرین‌شات با حاشیه‌نویسی دریافت کرده‌اید. تمام حاشیه‌نویسی‌ها، برچسب‌ها، فلش‌ها، هایلایت‌ها و عناصر رابط کاربری قابل مشاهده (دکمه‌ها، منوها، آیکون‌ها، فیلدهای ورودی و غیره) را با دقت بررسی کنید. تمام اطلاعات مهم را به صورت نکات کوتاه و منظم در قالب بولت پوینت استخراج کنید. معنای حاشیه‌نویسی‌ها و عملکرد عناصر رابط کاربری را به وضوح حفظ کنید. بولت پوینت‌ها را به صورت منطقی بر اساس بخش‌ها، ویژگی‌ها یا مناطق اسکرین‌شات سازمان‌دهی کنید. از توصیف سبک‌های صرفاً بصری خودداری کنید مگر اینکه اطلاعات عملکردی منتقل کنند.\"\n",
    "\n",
    "# instruction = \"\"\"\n",
    "# شما یک صفحه PDF دریافت کرده‌اید. صفحه ممکن است شامل متن، تصاویر، اسکرین‌شات، یا عناصر رابط کاربری باشد. \n",
    "# وظیفه شما:\n",
    "# 1. تمام محتوای متنی صفحه را استخراج کنید.\n",
    "# 2. اگر تصویر یا اسکرین‌شات وجود دارد، تمام حاشیه‌نویسی‌ها، برچسب‌ها، فلش‌ها، هایلایت‌ها و عناصر رابط کاربری قابل مشاهده (دکمه‌ها، منوها، آیکون‌ها، فیلدهای ورودی و غیره) را با دقت بررسی کنید و اطلاعات مهم آن را به صورت نکات کوتاه و منظم در قالب بولت پوینت استخراج کنید.\n",
    "# 3. معنای حاشیه‌نویسی‌ها و عملکرد عناصر رابط کاربری را حفظ کنید.\n",
    "# 4. تمام نکات را به صورت منطقی و بر اساس بخش‌ها، ویژگی‌ها یا مناطق صفحه سازمان‌دهی کنید.\n",
    "# 5. از توصیف سبک‌های صرفاً بصری خودداری کنید مگر اینکه اطلاعات عملکردی منتقل کنند.\n",
    "# 6. متن‌های داخل تصاویر یا اسکرین‌شات را نیز در صورت وجود، استخراج و در بولت پوینت‌ها قرار دهید.\n",
    "# \"\"\"\n",
    "\n",
    "# instruction = \"\"\"\n",
    "# شما یک صفحه PDF دریافت کرده‌اید. صفحه ممکن است شامل متن ساده، تصویر یا اسکرین‌شات با حاشیه‌نویسی باشد.  \n",
    "# وظایف شما:\n",
    "# 1. اگر صفحه شامل متن ساده است، **تمام متن را دقیقاً همان‌طور که هست استخراج کنید**.\n",
    "# 2. اگر صفحه شامل تصویر یا اسکرین‌شات با حاشیه‌نویسی، برچسب‌ها، فلش‌ها، هایلایت‌ها یا عناصر رابط کاربری (دکمه‌ها، منوها، آیکون‌ها، فیلدهای ورودی و غیره) باشد، تمام اطلاعات مهم را به صورت **بولت پوینت کوتاه، منظم و منطقی** استخراج کنید.  \n",
    "#    - معنای حاشیه‌نویسی‌ها و عملکرد عناصر رابط کاربری باید حفظ شود.\n",
    "#    - نکات را بر اساس بخش‌ها، ویژگی‌ها یا مناطق صفحه سازمان‌دهی کنید.\n",
    "#    - از توصیف سبک‌های صرفاً بصری خودداری کنید مگر اینکه اطلاعات عملکردی منتقل کنند.\n",
    "# 3. متن‌های موجود در تصاویر یا اسکرین‌شات‌ها نیز باید استخراج و در بولت پوینت‌ها آورده شوند.\n",
    "# \"\"\"\n",
    "\n",
    "content = \"\"\" کسرای من  \n",
    " صفحه  کسرای من با  نماد            مشاهده میشود  . \n",
    "شرح عملکرد :  \n",
    "نوار ابزار  عمودی  شامل آیکن صفحاتی است  که به آن دسترسی دارید که با کلیک بر روی هر آیکن نام صفحه نمایش  \n",
    "داده میشود  برای مشاهده نام کلیه صفحات کافیست بر روی عالمت  کلیک نمایید .  \n",
    "کلیه پیامهای ارسالی  مدیر سیستم  و صفحات پر کاربرد انتخاب شده در میزکار، در این صفحه مطابق تصویر  قابل مشاهده \n",
    "است .  \n",
    "میزکار توسط شما قابل تنظیم میباشد. توضیحات تکمیلی در خصوص صفحه میزکار را از  اینجا  مشاهده نمایید . \n",
    "\"\"\"\n",
    "\n",
    "# Send to OpenAI Vision model\n",
    "response = client.chat.completions.create(\n",
    "    model=\"gpt-4o-mini\",  # or \"gpt-4o\" for higher quality\n",
    "    messages=[\n",
    "        {\n",
    "            \"role\": \"user\",\n",
    "            \"content\": [\n",
    "                {\"type\": \"text\", \"text\": instruction},\n",
    "                {\"type\": \"image_url\", \"image_url\": {\"url\": f\"data:image/png;base64,{base64_image}\"}}\n",
    "            ],\n",
    "        }\n",
    "    ],\n",
    ")\n",
    "\n",
    "# Print extracted text\n",
    "print(response.choices[0].message.content)"
   ]
  },
  {
   "cell_type": "code",
   "execution_count": null,
   "id": "44dba2cc-badb-4950-a5b0-05ceba497904",
   "metadata": {},
   "outputs": [],
   "source": []
  }
 ],
 "metadata": {
  "kernelspec": {
   "display_name": "Python 3 (ipykernel)",
   "language": "python",
   "name": "python3"
  },
  "language_info": {
   "codemirror_mode": {
    "name": "ipython",
    "version": 3
   },
   "file_extension": ".py",
   "mimetype": "text/x-python",
   "name": "python",
   "nbconvert_exporter": "python",
   "pygments_lexer": "ipython3",
   "version": "3.12.9"
  }
 },
 "nbformat": 4,
 "nbformat_minor": 5
}
