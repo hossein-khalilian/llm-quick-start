{
 "cells": [
  {
   "cell_type": "markdown",
   "id": "521d99f6-e00e-4cac-87d3-7d7041b14837",
   "metadata": {},
   "source": [
    "# setup"
   ]
  },
  {
   "cell_type": "code",
   "execution_count": 6,
   "id": "db407020-d881-42e2-8ddb-5681d8e968af",
   "metadata": {
    "execution": {
     "iopub.execute_input": "2025-08-26T08:08:44.424787Z",
     "iopub.status.busy": "2025-08-26T08:08:44.423710Z",
     "iopub.status.idle": "2025-08-26T08:08:44.430552Z",
     "shell.execute_reply": "2025-08-26T08:08:44.429467Z",
     "shell.execute_reply.started": "2025-08-26T08:08:44.424736Z"
    }
   },
   "outputs": [],
   "source": [
    "import os\n",
    "import uuid\n",
    "from typing import Literal\n",
    "from langchain_core.messages import AIMessage\n",
    "from langchain_core.runnables import RunnableConfig\n",
    "from langgraph.graph import END, START, MessagesState, StateGraph\n",
    "from langgraph.prebuilt import ToolNode\n",
    "from langchain_community.agent_toolkits import SQLDatabaseToolkit"
   ]
  },
  {
   "cell_type": "code",
   "execution_count": 7,
   "id": "b8eb84a1-f5c6-47bf-bf3b-510a8a3b8171",
   "metadata": {
    "execution": {
     "iopub.execute_input": "2025-08-26T08:08:44.610260Z",
     "iopub.status.busy": "2025-08-26T08:08:44.609664Z",
     "iopub.status.idle": "2025-08-26T08:08:44.621953Z",
     "shell.execute_reply": "2025-08-26T08:08:44.620856Z",
     "shell.execute_reply.started": "2025-08-26T08:08:44.610234Z"
    }
   },
   "outputs": [
    {
     "data": {
      "text/plain": [
       "True"
      ]
     },
     "execution_count": 7,
     "metadata": {},
     "output_type": "execute_result"
    }
   ],
   "source": [
    "from dotenv import load_dotenv\n",
    "load_dotenv()"
   ]
  },
  {
   "cell_type": "code",
   "execution_count": 8,
   "id": "b66ed7f3-fb8a-4751-898e-a5aad73b5840",
   "metadata": {
    "execution": {
     "iopub.execute_input": "2025-08-26T08:08:45.029048Z",
     "iopub.status.busy": "2025-08-26T08:08:45.028767Z",
     "iopub.status.idle": "2025-08-26T08:08:45.034289Z",
     "shell.execute_reply": "2025-08-26T08:08:45.033580Z",
     "shell.execute_reply.started": "2025-08-26T08:08:45.029026Z"
    }
   },
   "outputs": [],
   "source": [
    "from langfuse import Langfuse\n",
    "from langfuse.langchain import CallbackHandler\n",
    "\n",
    "langfuse = Langfuse()\n",
    "langfuse_handler = CallbackHandler()"
   ]
  },
  {
   "cell_type": "code",
   "execution_count": 9,
   "id": "cae1ff2c-b99e-40e1-9dcb-5cad1351638e",
   "metadata": {
    "execution": {
     "iopub.execute_input": "2025-08-26T08:08:45.344811Z",
     "iopub.status.busy": "2025-08-26T08:08:45.343758Z",
     "iopub.status.idle": "2025-08-26T08:08:46.456947Z",
     "shell.execute_reply": "2025-08-26T08:08:46.456058Z",
     "shell.execute_reply.started": "2025-08-26T08:08:45.344767Z"
    }
   },
   "outputs": [],
   "source": [
    "from langchain.chat_models import init_chat_model\n",
    "\n",
    "llm = init_chat_model(\"openai:gpt-4o-mini\")"
   ]
  },
  {
   "cell_type": "markdown",
   "id": "88ef7e7a-5b47-460b-a4f8-5facbccf9720",
   "metadata": {
    "jp-MarkdownHeadingCollapsed": true
   },
   "source": [
    "# database setup"
   ]
  },
  {
   "cell_type": "code",
   "execution_count": 10,
   "id": "934bed87-12dc-48bc-bce8-de021d83f856",
   "metadata": {
    "execution": {
     "iopub.execute_input": "2025-08-26T08:08:46.458248Z",
     "iopub.status.busy": "2025-08-26T08:08:46.457998Z",
     "iopub.status.idle": "2025-08-26T08:08:48.708217Z",
     "shell.execute_reply": "2025-08-26T08:08:48.707566Z",
     "shell.execute_reply.started": "2025-08-26T08:08:46.458225Z"
    }
   },
   "outputs": [
    {
     "name": "stdout",
     "output_type": "stream",
     "text": [
      "File downloaded and saved as Chinook.db\n"
     ]
    }
   ],
   "source": [
    "import requests\n",
    "\n",
    "url = \"https://storage.googleapis.com/benchmarks-artifacts/chinook/Chinook.db\"\n",
    "\n",
    "response = requests.get(url)\n",
    "\n",
    "if response.status_code == 200:\n",
    "    # Open a local file in binary write mode\n",
    "    with open(\"Chinook.db\", \"wb\") as file:\n",
    "        # Write the content of the response (the file) to the local file\n",
    "        file.write(response.content)\n",
    "    print(\"File downloaded and saved as Chinook.db\")\n",
    "else:\n",
    "    print(f\"Failed to download the file. Status code: {response.status_code}\")"
   ]
  },
  {
   "cell_type": "code",
   "execution_count": 11,
   "id": "065ca7e0-aa78-4b44-913c-bce2aa0e6d67",
   "metadata": {
    "execution": {
     "iopub.execute_input": "2025-08-26T08:08:48.709428Z",
     "iopub.status.busy": "2025-08-26T08:08:48.709156Z",
     "iopub.status.idle": "2025-08-26T08:08:48.760302Z",
     "shell.execute_reply": "2025-08-26T08:08:48.759620Z",
     "shell.execute_reply.started": "2025-08-26T08:08:48.709404Z"
    }
   },
   "outputs": [
    {
     "name": "stdout",
     "output_type": "stream",
     "text": [
      "Dialect: sqlite\n",
      "Available tables: ['Album', 'Artist', 'Customer', 'Employee', 'Genre', 'Invoice', 'InvoiceLine', 'MediaType', 'Playlist', 'PlaylistTrack', 'Track']\n",
      "Sample output: [(1, 'AC/DC'), (2, 'Accept'), (3, 'Aerosmith'), (4, 'Alanis Morissette'), (5, 'Alice In Chains')]\n"
     ]
    }
   ],
   "source": [
    "from langchain_community.utilities import SQLDatabase\n",
    "\n",
    "db_path = \"~/.cache/Chinook.db\"\n",
    "db_path = os.path.expanduser(db_path)\n",
    "\n",
    "db = SQLDatabase.from_uri(f\"sqlite:///{db_path}\")\n",
    "\n",
    "print(f\"Dialect: {db.dialect}\")\n",
    "print(f\"Available tables: {db.get_usable_table_names()}\")\n",
    "print(f'Sample output: {db.run(\"SELECT * FROM Artist LIMIT 5;\")}')"
   ]
  },
  {
   "cell_type": "markdown",
   "id": "e8546ee6-f951-47d3-b196-b9461e30f850",
   "metadata": {
    "jp-MarkdownHeadingCollapsed": true
   },
   "source": [
    "# agent setup"
   ]
  },
  {
   "cell_type": "code",
   "execution_count": 16,
   "id": "9df2afe5-8525-419a-b205-ea340439faca",
   "metadata": {
    "execution": {
     "iopub.execute_input": "2025-08-25T13:39:43.058230Z",
     "iopub.status.busy": "2025-08-25T13:39:43.057914Z",
     "iopub.status.idle": "2025-08-25T13:39:43.087113Z",
     "shell.execute_reply": "2025-08-25T13:39:43.086391Z",
     "shell.execute_reply.started": "2025-08-25T13:39:43.058205Z"
    }
   },
   "outputs": [
    {
     "name": "stdout",
     "output_type": "stream",
     "text": [
      "sql_db_query: Input to this tool is a detailed and correct SQL query, output is a result from the database. If the query is not correct, an error message will be returned. If an error is returned, rewrite the query, check the query, and try again. If you encounter an issue with Unknown column 'xxxx' in 'field list', use sql_db_schema to query the correct table fields.\n",
      "\n",
      "sql_db_schema: Input to this tool is a comma-separated list of tables, output is the schema and sample rows for those tables. Be sure that the tables actually exist by calling sql_db_list_tables first! Example Input: table1, table2, table3\n",
      "\n",
      "sql_db_list_tables: Input is an empty string, output is a comma-separated list of tables in the database.\n",
      "\n",
      "sql_db_query_checker: Use this tool to double check if your query is correct before executing it. Always use this tool before executing a query with sql_db_query!\n",
      "\n"
     ]
    }
   ],
   "source": [
    "from langchain_community.agent_toolkits import SQLDatabaseToolkit\n",
    "\n",
    "toolkit = SQLDatabaseToolkit(db=db, llm=llm)\n",
    "\n",
    "tools = toolkit.get_tools()\n",
    "\n",
    "for tool in tools:\n",
    "    print(f\"{tool.name}: {tool.description}\\n\")"
   ]
  },
  {
   "cell_type": "code",
   "execution_count": 17,
   "id": "83e661d6-572d-4c2a-b1bb-dfadcbe7a4e1",
   "metadata": {
    "execution": {
     "iopub.execute_input": "2025-08-25T13:39:46.302821Z",
     "iopub.status.busy": "2025-08-25T13:39:46.301308Z",
     "iopub.status.idle": "2025-08-25T13:39:46.343945Z",
     "shell.execute_reply": "2025-08-25T13:39:46.343233Z",
     "shell.execute_reply.started": "2025-08-25T13:39:46.302745Z"
    }
   },
   "outputs": [],
   "source": [
    "from langgraph.prebuilt import create_react_agent\n",
    "\n",
    "system_prompt = \"\"\"\n",
    "You are an agent designed to interact with a SQL database.\n",
    "Given an input question, create a syntactically correct {dialect} query to run,\n",
    "then look at the results of the query and return the answer. Unless the user\n",
    "specifies a specific number of examples they wish to obtain, always limit your\n",
    "query to at most {top_k} results.\n",
    "\n",
    "You can order the results by a relevant column to return the most interesting\n",
    "examples in the database. Never query for all the columns from a specific table,\n",
    "only ask for the relevant columns given the question.\n",
    "\n",
    "You MUST double check your query before executing it. If you get an error while\n",
    "executing a query, rewrite the query and try again.\n",
    "\n",
    "DO NOT make any DML statements (INSERT, UPDATE, DELETE, DROP etc.) to the\n",
    "database.\n",
    "\n",
    "To start you should ALWAYS look at the tables in the database to see what you\n",
    "can query. Do NOT skip this step.\n",
    "\n",
    "Then you should query the schema of the most relevant tables.\n",
    "\"\"\".format(\n",
    "    dialect=db.dialect,\n",
    "    top_k=5,\n",
    ")\n",
    "\n",
    "agent = create_react_agent(\n",
    "    llm,\n",
    "    tools,\n",
    "    prompt=system_prompt,\n",
    ")"
   ]
  },
  {
   "cell_type": "markdown",
   "id": "aafa93f3-a59b-4648-a561-1b758bf1890e",
   "metadata": {
    "jp-MarkdownHeadingCollapsed": true
   },
   "source": [
    "# agent example"
   ]
  },
  {
   "cell_type": "code",
   "execution_count": 18,
   "id": "e5bf58dd-455a-4759-a7eb-29a764272c40",
   "metadata": {
    "execution": {
     "iopub.execute_input": "2025-08-25T13:39:47.399227Z",
     "iopub.status.busy": "2025-08-25T13:39:47.398752Z",
     "iopub.status.idle": "2025-08-25T13:40:03.906380Z",
     "shell.execute_reply": "2025-08-25T13:40:03.905576Z",
     "shell.execute_reply.started": "2025-08-25T13:39:47.399186Z"
    }
   },
   "outputs": [
    {
     "name": "stdout",
     "output_type": "stream",
     "text": [
      "================================\u001b[1m Human Message \u001b[0m=================================\n",
      "\n",
      "Which genre on average has the longest tracks?\n",
      "==================================\u001b[1m Ai Message \u001b[0m==================================\n",
      "Tool Calls:\n",
      "  sql_db_list_tables (call_Bw4fHUPYQTyrkA4mblBkjiZ4)\n",
      " Call ID: call_Bw4fHUPYQTyrkA4mblBkjiZ4\n",
      "  Args:\n",
      "=================================\u001b[1m Tool Message \u001b[0m=================================\n",
      "Name: sql_db_list_tables\n",
      "\n",
      "Album, Artist, Customer, Employee, Genre, Invoice, InvoiceLine, MediaType, Playlist, PlaylistTrack, Track\n",
      "==================================\u001b[1m Ai Message \u001b[0m==================================\n",
      "Tool Calls:\n",
      "  sql_db_schema (call_VxMYWy8CkRSENoaUUmKlCo10)\n",
      " Call ID: call_VxMYWy8CkRSENoaUUmKlCo10\n",
      "  Args:\n",
      "    table_names: Track\n",
      "  sql_db_schema (call_wNf6O9IofLGySgVNMiuiKDEW)\n",
      " Call ID: call_wNf6O9IofLGySgVNMiuiKDEW\n",
      "  Args:\n",
      "    table_names: Genre\n",
      "=================================\u001b[1m Tool Message \u001b[0m=================================\n",
      "Name: sql_db_schema\n",
      "\n",
      "\n",
      "CREATE TABLE \"Genre\" (\n",
      "\t\"GenreId\" INTEGER NOT NULL, \n",
      "\t\"Name\" NVARCHAR(120), \n",
      "\tPRIMARY KEY (\"GenreId\")\n",
      ")\n",
      "\n",
      "/*\n",
      "3 rows from Genre table:\n",
      "GenreId\tName\n",
      "1\tRock\n",
      "2\tJazz\n",
      "3\tMetal\n",
      "*/\n",
      "==================================\u001b[1m Ai Message \u001b[0m==================================\n",
      "Tool Calls:\n",
      "  sql_db_query_checker (call_2gJCEQ9CjnINbzGdpYBWLC9E)\n",
      " Call ID: call_2gJCEQ9CjnINbzGdpYBWLC9E\n",
      "  Args:\n",
      "    query: SELECT g.Name AS Genre, AVG(t.Milliseconds) AS AverageTrackLength \n",
      "FROM Track t \n",
      "JOIN Genre g ON t.GenreId = g.GenreId \n",
      "GROUP BY g.Name \n",
      "ORDER BY AverageTrackLength DESC \n",
      "LIMIT 5;\n",
      "=================================\u001b[1m Tool Message \u001b[0m=================================\n",
      "Name: sql_db_query_checker\n",
      "\n",
      "```sql\n",
      "SELECT g.Name AS Genre, AVG(t.Milliseconds) AS AverageTrackLength \n",
      "FROM Track t \n",
      "JOIN Genre g ON t.GenreId = g.GenreId \n",
      "GROUP BY g.Name \n",
      "ORDER BY AverageTrackLength DESC \n",
      "LIMIT 5;\n",
      "```\n",
      "==================================\u001b[1m Ai Message \u001b[0m==================================\n",
      "Tool Calls:\n",
      "  sql_db_query (call_lA8GPlgpI98UyR1JKhW2Nzs4)\n",
      " Call ID: call_lA8GPlgpI98UyR1JKhW2Nzs4\n",
      "  Args:\n",
      "    query: SELECT g.Name AS Genre, AVG(t.Milliseconds) AS AverageTrackLength \n",
      "FROM Track t \n",
      "JOIN Genre g ON t.GenreId = g.GenreId \n",
      "GROUP BY g.Name \n",
      "ORDER BY AverageTrackLength DESC \n",
      "LIMIT 5;\n",
      "=================================\u001b[1m Tool Message \u001b[0m=================================\n",
      "Name: sql_db_query\n",
      "\n",
      "[('Sci Fi & Fantasy', 2911783.0384615385), ('Science Fiction', 2625549.076923077), ('Drama', 2575283.78125), ('TV Shows', 2145041.0215053763), ('Comedy', 1585263.705882353)]\n",
      "==================================\u001b[1m Ai Message \u001b[0m==================================\n",
      "\n",
      "The genre with the longest average track length is \"Sci Fi & Fantasy,\" with an average length of about 2,911,783 milliseconds (or approximately 48.53 minutes). Here are the top genres by average track length:\n",
      "\n",
      "1. **Sci Fi & Fantasy** - 2,911,783 ms\n",
      "2. **Science Fiction** - 2,625,549 ms\n",
      "3. **Drama** - 2,575,284 ms\n",
      "4. **TV Shows** - 2,145,041 ms\n",
      "5. **Comedy** - 1,585,264 ms\n"
     ]
    }
   ],
   "source": [
    "question = \"Which genre on average has the longest tracks?\"\n",
    "\n",
    "for step in agent.stream(\n",
    "    {\"messages\": [{\"role\": \"user\", \"content\": question}]},\n",
    "    stream_mode=\"values\",\n",
    "):\n",
    "    step[\"messages\"][-1].pretty_print()"
   ]
  },
  {
   "cell_type": "markdown",
   "id": "b0aeeaff-8fb3-4782-9dff-022543930456",
   "metadata": {},
   "source": [
    "# Customized agent"
   ]
  },
  {
   "cell_type": "code",
   "execution_count": 12,
   "id": "44577019-88d8-47a0-bebb-1bb76464327d",
   "metadata": {
    "execution": {
     "iopub.execute_input": "2025-08-26T08:08:54.048351Z",
     "iopub.status.busy": "2025-08-26T08:08:54.047513Z",
     "iopub.status.idle": "2025-08-26T08:08:54.062154Z",
     "shell.execute_reply": "2025-08-26T08:08:54.060373Z",
     "shell.execute_reply.started": "2025-08-26T08:08:54.048280Z"
    }
   },
   "outputs": [],
   "source": [
    "generate_query_system_prompt = \"\"\"\n",
    "You are an agent designed to interact with a SQL database.\n",
    "Given an input question, create a syntactically correct {dialect} query to run,\n",
    "then look at the results of the query and return the answer. Unless the user\n",
    "specifies a specific number of examples they wish to obtain, always limit your\n",
    "query to at most {top_k} results.\n",
    "\n",
    "You can order the results by a relevant column to return the most interesting\n",
    "examples in the database. Never query for all the columns from a specific table,\n",
    "only ask for the relevant columns given the question.\n",
    "\n",
    "DO NOT make any DML statements (INSERT, UPDATE, DELETE, DROP etc.) to the database.\n",
    "\"\"\".format(\n",
    "    dialect=db.dialect,\n",
    "    top_k=5,\n",
    ")\n",
    "\n",
    "check_query_system_prompt = \"\"\"\n",
    "You are a SQL expert with a strong attention to detail.\n",
    "Double check the {dialect} query for common mistakes, including:\n",
    "- Using NOT IN with NULL values\n",
    "- Using UNION when UNION ALL should have been used\n",
    "- Using BETWEEN for exclusive ranges\n",
    "- Data type mismatch in predicates\n",
    "- Properly quoting identifiers\n",
    "- Using the correct number of arguments for functions\n",
    "- Casting to the correct data type\n",
    "- Using the proper columns for joins\n",
    "\n",
    "If there are any of the above mistakes, rewrite the query. If there are no mistakes,\n",
    "just reproduce the original query.\n",
    "\n",
    "You will call the appropriate tool to execute the query after running this check.\n",
    "\"\"\".format(dialect=db.dialect)"
   ]
  },
  {
   "cell_type": "code",
   "execution_count": 13,
   "id": "3da57525-af71-4ac7-bbaf-b29c2d28ff05",
   "metadata": {
    "execution": {
     "iopub.execute_input": "2025-08-26T08:08:55.230018Z",
     "iopub.status.busy": "2025-08-26T08:08:55.229721Z",
     "iopub.status.idle": "2025-08-26T08:08:55.282138Z",
     "shell.execute_reply": "2025-08-26T08:08:55.281468Z",
     "shell.execute_reply.started": "2025-08-26T08:08:55.229995Z"
    }
   },
   "outputs": [],
   "source": [
    "toolkit = SQLDatabaseToolkit(db=db, llm=llm)\n",
    "sql_tools = toolkit.get_tools()\n",
    "\n",
    "get_schema_tool = next(tool for tool in sql_tools if tool.name == \"sql_db_schema\")\n",
    "run_query_tool = next(tool for tool in sql_tools if tool.name == \"sql_db_query\")\n",
    "list_tables_tool = next(tool for tool in sql_tools if tool.name == \"sql_db_list_tables\")\n",
    "\n",
    "get_schema_node = ToolNode([get_schema_tool], name=\"get_schema\")\n",
    "run_query_node = ToolNode([run_query_tool], name=\"run_query\")\n",
    "\n",
    "# Example: create a predetermined tool call\n",
    "def list_tables(state: MessagesState):\n",
    "    tool_call = {\n",
    "        \"name\": \"sql_db_list_tables\",\n",
    "        \"args\": {},\n",
    "        \"id\": f\"call_{uuid.uuid4().hex}\",\n",
    "        \"type\": \"tool_call\",\n",
    "    }\n",
    "    tool_call_message = AIMessage(content=\"\", tool_calls=[tool_call])\n",
    "    tool_message = list_tables_tool.invoke(tool_call)\n",
    "    response = AIMessage(f\"Available tables: {tool_message.content}\")\n",
    "\n",
    "    return {\"messages\": [tool_call_message, tool_message, response]}\n",
    "\n",
    "\n",
    "# Example: force a model to create a tool call\n",
    "def call_get_schema(state: MessagesState):\n",
    "    llm_with_tools = llm.bind_tools([get_schema_tool], tool_choice=\"any\")\n",
    "    response = llm_with_tools.invoke(state[\"messages\"])\n",
    "    print(\"call get schema...\")\n",
    "    print(response)\n",
    "\n",
    "    return {\"messages\": [response]}\n",
    "\n",
    "\n",
    "def generate_query(state: MessagesState):\n",
    "    system_message = {\n",
    "        \"role\": \"system\",\n",
    "        \"content\": generate_query_system_prompt,\n",
    "    }\n",
    "    # We do not force a tool call here, to allow the model to\n",
    "    # respond naturally when it obtains the solution.\n",
    "    llm_with_tools = llm.bind_tools([run_query_tool])\n",
    "    response = llm_with_tools.invoke([system_message] + state[\"messages\"])\n",
    "\n",
    "    return {\"messages\": [response]}\n",
    "    \n",
    "\n",
    "def check_query(state: MessagesState):\n",
    "    system_message = {\n",
    "        \"role\": \"system\",\n",
    "        \"content\": check_query_system_prompt,\n",
    "    }\n",
    "\n",
    "    # Generate an artificial user message to check\n",
    "    tool_call = state[\"messages\"][-1].tool_calls[0]\n",
    "    user_message = {\"role\": \"user\", \"content\": tool_call[\"args\"][\"query\"]}\n",
    "    llm_with_tools = llm.bind_tools([run_query_tool], tool_choice=\"any\")\n",
    "    response = llm_with_tools.invoke([system_message, user_message])\n",
    "    response.id = state[\"messages\"][-1].id\n",
    "\n",
    "    return {\"messages\": [response]}\n",
    "\n",
    "def should_continue(state: MessagesState) -> Literal[END, \"check_query\"]:\n",
    "    messages = state[\"messages\"]\n",
    "    last_message = messages[-1]\n",
    "    if not last_message.tool_calls:\n",
    "        return END\n",
    "    else:\n",
    "        return \"check_query\""
   ]
  },
  {
   "cell_type": "code",
   "execution_count": 14,
   "id": "ebe33d9d-8aa4-4d6d-ad98-2c9c2800800f",
   "metadata": {
    "execution": {
     "iopub.execute_input": "2025-08-26T08:08:56.437906Z",
     "iopub.status.busy": "2025-08-26T08:08:56.437554Z",
     "iopub.status.idle": "2025-08-26T08:08:56.465907Z",
     "shell.execute_reply": "2025-08-26T08:08:56.465191Z",
     "shell.execute_reply.started": "2025-08-26T08:08:56.437830Z"
    }
   },
   "outputs": [],
   "source": [
    "builder = StateGraph(MessagesState)\n",
    "builder.add_node(list_tables)\n",
    "builder.add_node(call_get_schema)\n",
    "builder.add_node(get_schema_node, \"get_schema\")\n",
    "builder.add_node(generate_query)\n",
    "builder.add_node(check_query)\n",
    "builder.add_node(run_query_node, \"run_query\")\n",
    "\n",
    "builder.add_edge(START, \"list_tables\")\n",
    "builder.add_edge(\"list_tables\", \"call_get_schema\")\n",
    "builder.add_edge(\"call_get_schema\", \"get_schema\")\n",
    "builder.add_edge(\"get_schema\", \"generate_query\")\n",
    "builder.add_conditional_edges(\n",
    "    \"generate_query\",\n",
    "    should_continue,\n",
    ")\n",
    "builder.add_edge(\"check_query\", \"run_query\")\n",
    "builder.add_edge(\"run_query\", \"generate_query\")\n",
    "\n",
    "sql_agent = builder.compile()"
   ]
  },
  {
   "cell_type": "code",
   "execution_count": 15,
   "id": "4efcd4bb-d46d-407b-bd8e-e87c577804c2",
   "metadata": {
    "execution": {
     "iopub.execute_input": "2025-08-26T08:08:58.038672Z",
     "iopub.status.busy": "2025-08-26T08:08:58.038347Z",
     "iopub.status.idle": "2025-08-26T08:08:59.548670Z",
     "shell.execute_reply": "2025-08-26T08:08:59.547777Z",
     "shell.execute_reply.started": "2025-08-26T08:08:58.038647Z"
    }
   },
   "outputs": [
    {
     "data": {
      "image/png": "[encoded data removed]",
      "text/plain": [
       "<langgraph.graph.state.CompiledStateGraph object at 0x730a574900e0>"
      ]
     },
     "execution_count": 15,
     "metadata": {},
     "output_type": "execute_result"
    }
   ],
   "source": [
    "sql_agent"
   ]
  },
  {
   "cell_type": "code",
   "execution_count": 22,
   "id": "e37377e6-2a79-4e66-b7e7-e3aa43fe2405",
   "metadata": {
    "execution": {
     "iopub.execute_input": "2025-08-26T08:52:21.464672Z",
     "iopub.status.busy": "2025-08-26T08:52:21.464309Z",
     "iopub.status.idle": "2025-08-26T08:52:21.470190Z",
     "shell.execute_reply": "2025-08-26T08:52:21.469024Z",
     "shell.execute_reply.started": "2025-08-26T08:52:21.464645Z"
    }
   },
   "outputs": [],
   "source": [
    "from langgraph.prebuilt import create_react_agent"
   ]
  },
  {
   "cell_type": "code",
   "execution_count": 23,
   "id": "22ffd353-832c-488a-8699-7820e74c19c9",
   "metadata": {
    "execution": {
     "iopub.execute_input": "2025-08-26T08:52:30.589856Z",
     "iopub.status.busy": "2025-08-26T08:52:30.589584Z",
     "iopub.status.idle": "2025-08-26T08:52:30.687847Z",
     "shell.execute_reply": "2025-08-26T08:52:30.686663Z",
     "shell.execute_reply.started": "2025-08-26T08:52:30.589833Z"
    }
   },
   "outputs": [
    {
     "ename": "TypeError",
     "evalue": "create_react_agent() missing 2 required positional arguments: 'model' and 'tools'",
     "output_type": "error",
     "traceback": [
      "\u001b[31m---------------------------------------------------------------------------\u001b[39m",
      "\u001b[31mTypeError\u001b[39m                                 Traceback (most recent call last)",
      "\u001b[36mCell\u001b[39m\u001b[36m \u001b[39m\u001b[32mIn[23]\u001b[39m\u001b[32m, line 1\u001b[39m\n\u001b[32m----> \u001b[39m\u001b[32m1\u001b[39m \u001b[43mcreate_react_agent\u001b[49m\u001b[43m(\u001b[49m\u001b[43m)\u001b[49m\n",
      "\u001b[31mTypeError\u001b[39m: create_react_agent() missing 2 required positional arguments: 'model' and 'tools'"
     ]
    }
   ],
   "source": [
    "create_react_agent()"
   ]
  },
  {
   "cell_type": "code",
   "execution_count": 16,
   "id": "7ed1a5d9-2c85-4e18-82ae-05ec877b8b3c",
   "metadata": {
    "execution": {
     "iopub.execute_input": "2025-08-26T08:09:03.006764Z",
     "iopub.status.busy": "2025-08-26T08:09:03.005764Z",
     "iopub.status.idle": "2025-08-26T08:09:15.011129Z",
     "shell.execute_reply": "2025-08-26T08:09:15.009557Z",
     "shell.execute_reply.started": "2025-08-26T08:09:03.006692Z"
    }
   },
   "outputs": [
    {
     "name": "stdout",
     "output_type": "stream",
     "text": [
      "================================\u001b[1m Human Message \u001b[0m=================================\n",
      "\n",
      "Which genre on average has the longest tracks?\n",
      "==================================\u001b[1m Ai Message \u001b[0m==================================\n",
      "\n",
      "Available tables: Album, Artist, Customer, Employee, Genre, Invoice, InvoiceLine, MediaType, Playlist, PlaylistTrack, Track\n",
      "call get schema...\n",
      "content='' additional_kwargs={'tool_calls': [{'id': 'call_w7YKICC5NWbHZMhnldgQCSvj', 'function': {'arguments': '{\"table_names\":\"Genre, Track\"}', 'name': 'sql_db_schema'}, 'type': 'function'}], 'refusal': None} response_metadata={'token_usage': {'completion_tokens': 18, 'prompt_tokens': 204, 'total_tokens': 222, 'completion_tokens_details': {'accepted_prediction_tokens': 0, 'audio_tokens': 0, 'reasoning_tokens': 0, 'rejected_prediction_tokens': 0}, 'prompt_tokens_details': {'audio_tokens': 0, 'cached_tokens': 0}}, 'model_name': 'gpt-4o-mini-2024-07-18', 'system_fingerprint': 'fp_560af6e559', 'id': 'chatcmpl-C8j1kXZzwmoCIvsuhnDH07xgnFXdK', 'service_tier': 'default', 'finish_reason': 'tool_calls', 'logprobs': None} id='run--4a3a978d-3b5d-4b07-8850-dff49504b38d-0' tool_calls=[{'name': 'sql_db_schema', 'args': {'table_names': 'Genre, Track'}, 'id': 'call_w7YKICC5NWbHZMhnldgQCSvj', 'type': 'tool_call'}] usage_metadata={'input_tokens': 204, 'output_tokens': 18, 'total_tokens': 222, 'input_token_details': {'audio': 0, 'cache_read': 0}, 'output_token_details': {'audio': 0, 'reasoning': 0}}\n",
      "==================================\u001b[1m Ai Message \u001b[0m==================================\n",
      "Tool Calls:\n",
      "  sql_db_schema (call_w7YKICC5NWbHZMhnldgQCSvj)\n",
      " Call ID: call_w7YKICC5NWbHZMhnldgQCSvj\n",
      "  Args:\n",
      "    table_names: Genre, Track\n",
      "=================================\u001b[1m Tool Message \u001b[0m=================================\n",
      "Name: sql_db_schema\n",
      "\n",
      "\n",
      "CREATE TABLE \"Genre\" (\n",
      "\t\"GenreId\" INTEGER NOT NULL, \n",
      "\t\"Name\" NVARCHAR(120), \n",
      "\tPRIMARY KEY (\"GenreId\")\n",
      ")\n",
      "\n",
      "/*\n",
      "3 rows from Genre table:\n",
      "GenreId\tName\n",
      "1\tRock\n",
      "2\tJazz\n",
      "3\tMetal\n",
      "*/\n",
      "\n",
      "\n",
      "CREATE TABLE \"Track\" (\n",
      "\t\"TrackId\" INTEGER NOT NULL, \n",
      "\t\"Name\" NVARCHAR(200) NOT NULL, \n",
      "\t\"AlbumId\" INTEGER, \n",
      "\t\"MediaTypeId\" INTEGER NOT NULL, \n",
      "\t\"GenreId\" INTEGER, \n",
      "\t\"Composer\" NVARCHAR(220), \n",
      "\t\"Milliseconds\" INTEGER NOT NULL, \n",
      "\t\"Bytes\" INTEGER, \n",
      "\t\"UnitPrice\" NUMERIC(10, 2) NOT NULL, \n",
      "\tPRIMARY KEY (\"TrackId\"), \n",
      "\tFOREIGN KEY(\"MediaTypeId\") REFERENCES \"MediaType\" (\"MediaTypeId\"), \n",
      "\tFOREIGN KEY(\"GenreId\") REFERENCES \"Genre\" (\"GenreId\"), \n",
      "\tFOREIGN KEY(\"AlbumId\") REFERENCES \"Album\" (\"AlbumId\")\n",
      ")\n",
      "\n",
      "/*\n",
      "3 rows from Track table:\n",
      "TrackId\tName\tAlbumId\tMediaTypeId\tGenreId\tComposer\tMilliseconds\tBytes\tUnitPrice\n",
      "1\tFor Those About To Rock (We Salute You)\t1\t1\t1\tAngus Young, Malcolm Young, Brian Johnson\t343719\t11170334\t0.99\n",
      "2\tBalls to the Wall\t2\t2\t1\tNone\t342562\t5510424\t0.99\n",
      "3\tFast As a Shark\t3\t2\t1\tF. Baltes, S. Kaufman, U. Dirkscneider & W. Hoffman\t230619\t3990994\t0.99\n",
      "*/\n",
      "==================================\u001b[1m Ai Message \u001b[0m==================================\n",
      "Tool Calls:\n",
      "  sql_db_query (call_f3RuAal5fEQzyQAxlPcMEJmG)\n",
      " Call ID: call_f3RuAal5fEQzyQAxlPcMEJmG\n",
      "  Args:\n",
      "    query: SELECT g.Name, AVG(t.Milliseconds) AS AverageLength\n",
      "FROM Genre g\n",
      "JOIN Track t ON g.GenreId = t.GenreId\n",
      "GROUP BY g.Name\n",
      "ORDER BY AverageLength DESC\n",
      "LIMIT 5;\n",
      "==================================\u001b[1m Ai Message \u001b[0m==================================\n",
      "Tool Calls:\n",
      "  sql_db_query (call_atx8tnNN63wfvodEXWR8rWFz)\n",
      " Call ID: call_atx8tnNN63wfvodEXWR8rWFz\n",
      "  Args:\n",
      "    query: SELECT g.Name, AVG(t.Milliseconds) AS AverageLength\n",
      "FROM Genre g\n",
      "JOIN Track t ON g.GenreId = t.GenreId\n",
      "GROUP BY g.Name\n",
      "ORDER BY AverageLength DESC\n",
      "LIMIT 5;\n",
      "=================================\u001b[1m Tool Message \u001b[0m=================================\n",
      "Name: sql_db_query\n",
      "\n",
      "[('Sci Fi & Fantasy', 2911783.0384615385), ('Science Fiction', 2625549.076923077), ('Drama', 2575283.78125), ('TV Shows', 2145041.0215053763), ('Comedy', 1585263.705882353)]\n",
      "==================================\u001b[1m Ai Message \u001b[0m==================================\n",
      "\n",
      "The genre with the longest average track length is **Sci Fi & Fantasy**, averaging approximately **2911.83 seconds** (or about 48.7 minutes). Here are the top genres by average track length:\n",
      "\n",
      "1. Sci Fi & Fantasy: 2911783 ms (about 48.7 minutes)\n",
      "2. Science Fiction: 2625549 ms (about 43.8 minutes)\n",
      "3. Drama: 2575283 ms (about 42.6 minutes)\n",
      "4. TV Shows: 2145041 ms (about 35.7 minutes)\n",
      "5. Comedy: 1585263 ms (about 26.4 minutes)\n"
     ]
    }
   ],
   "source": [
    "question = \"Which genre on average has the longest tracks?\"\n",
    "\n",
    "for step in sql_agent.stream(\n",
    "    {\"messages\": [{\"role\": \"user\", \"content\": question}]},\n",
    "    stream_mode=\"values\",\n",
    "    config={\"callbacks\": [langfuse_handler]}\n",
    "):\n",
    "    step[\"messages\"][-1].pretty_print()\n"
   ]
  },
  {
   "cell_type": "code",
   "execution_count": 21,
   "id": "107298ec-5fd9-4050-ba11-20a55da2d043",
   "metadata": {
    "execution": {
     "iopub.execute_input": "2025-08-26T08:09:50.637631Z",
     "iopub.status.busy": "2025-08-26T08:09:50.636525Z",
     "iopub.status.idle": "2025-08-26T08:09:50.644610Z",
     "shell.execute_reply": "2025-08-26T08:09:50.643584Z",
     "shell.execute_reply.started": "2025-08-26T08:09:50.637574Z"
    }
   },
   "outputs": [
    {
     "data": {
      "text/plain": [
       "'The genre with the longest average track length is **Sci Fi & Fantasy**, averaging approximately **2911.83 seconds** (or about 48.7 minutes). Here are the top genres by average track length:\\n\\n1. Sci Fi & Fantasy: 2911783 ms (about 48.7 minutes)\\n2. Science Fiction: 2625549 ms (about 43.8 minutes)\\n3. Drama: 2575283 ms (about 42.6 minutes)\\n4. TV Shows: 2145041 ms (about 35.7 minutes)\\n5. Comedy: 1585263 ms (about 26.4 minutes)'"
      ]
     },
     "execution_count": 21,
     "metadata": {},
     "output_type": "execute_result"
    }
   ],
   "source": [
    "step[\"messages\"][-1].content"
   ]
  },
  {
   "cell_type": "code",
   "execution_count": null,
   "id": "bef9c2a4-e1b8-4faa-afc0-1701eb2aa505",
   "metadata": {},
   "outputs": [],
   "source": []
  }
 ],
 "metadata": {
  "kernelspec": {
   "display_name": "Python 3 (ipykernel)",
   "language": "python",
   "name": "python3"
  },
  "language_info": {
   "codemirror_mode": {
    "name": "ipython",
    "version": 3
   },
   "file_extension": ".py",
   "mimetype": "text/x-python",
   "name": "python",
   "nbconvert_exporter": "python",
   "pygments_lexer": "ipython3",
   "version": "3.12.9"
  }
 },
 "nbformat": 4,
 "nbformat_minor": 5
}
