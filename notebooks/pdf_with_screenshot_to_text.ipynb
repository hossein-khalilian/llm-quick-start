{
 "cells": [
  {
   "cell_type": "code",
   "execution_count": 65,
   "id": "177e7ae6-0602-4c96-ae62-64ca430ad293",
   "metadata": {
    "execution": {
     "iopub.execute_input": "2025-09-09T10:47:08.475635Z",
     "iopub.status.busy": "2025-09-09T10:47:08.473917Z",
     "iopub.status.idle": "2025-09-09T10:47:08.484670Z",
     "shell.execute_reply": "2025-09-09T10:47:08.482307Z",
     "shell.execute_reply.started": "2025-09-09T10:47:08.475556Z"
    }
   },
   "outputs": [],
   "source": [
    "# %pip install -qU langchain-community pypdf"
   ]
  },
  {
   "cell_type": "code",
   "execution_count": 1,
   "id": "c8ac8931-4788-46e1-82f8-ca2819ee5a27",
   "metadata": {
    "execution": {
     "iopub.execute_input": "2025-09-13T05:20:41.277113Z",
     "iopub.status.busy": "2025-09-13T05:20:41.276714Z",
     "iopub.status.idle": "2025-09-13T05:20:41.299980Z",
     "shell.execute_reply": "2025-09-13T05:20:41.299265Z",
     "shell.execute_reply.started": "2025-09-13T05:20:41.277076Z"
    }
   },
   "outputs": [
    {
     "data": {
      "text/plain": [
       "True"
      ]
     },
     "execution_count": 1,
     "metadata": {},
     "output_type": "execute_result"
    }
   ],
   "source": [
    "from dotenv import load_dotenv\n",
    "load_dotenv()"
   ]
  },
  {
   "cell_type": "code",
   "execution_count": 17,
   "id": "c5cb578a-f7f5-497b-8ed1-21ac4de1bcc7",
   "metadata": {
    "execution": {
     "iopub.execute_input": "2025-09-13T07:05:46.099785Z",
     "iopub.status.busy": "2025-09-13T07:05:46.099411Z",
     "iopub.status.idle": "2025-09-13T07:05:46.522561Z",
     "shell.execute_reply": "2025-09-13T07:05:46.521800Z",
     "shell.execute_reply.started": "2025-09-13T07:05:46.099754Z"
    }
   },
   "outputs": [],
   "source": [
    "import hashlib\n",
    "import base64\n",
    "from openai import OpenAI\n",
    "\n",
    "import os\n",
    "import json\n",
    "import fitz  # PyMuPDF\n",
    "import pytesseract\n",
    "from PIL import Image"
   ]
  },
  {
   "cell_type": "code",
   "execution_count": 3,
   "id": "db63035c-16db-46f6-bef4-dd5841c60ba6",
   "metadata": {
    "execution": {
     "iopub.execute_input": "2025-09-13T05:20:57.850948Z",
     "iopub.status.busy": "2025-09-13T05:20:57.850442Z",
     "iopub.status.idle": "2025-09-13T05:20:57.920644Z",
     "shell.execute_reply": "2025-09-13T05:20:57.919655Z",
     "shell.execute_reply.started": "2025-09-13T05:20:57.850905Z"
    }
   },
   "outputs": [],
   "source": [
    "client = OpenAI()"
   ]
  },
  {
   "cell_type": "code",
   "execution_count": 75,
   "id": "522e6f11-d38c-416b-b6c8-87ec3c75f26c",
   "metadata": {
    "execution": {
     "iopub.execute_input": "2025-09-13T08:13:47.577117Z",
     "iopub.status.busy": "2025-09-13T08:13:47.576335Z",
     "iopub.status.idle": "2025-09-13T08:13:47.598869Z",
     "shell.execute_reply": "2025-09-13T08:13:47.598211Z",
     "shell.execute_reply.started": "2025-09-13T08:13:47.577050Z"
    }
   },
   "outputs": [],
   "source": [
    "def encode_image(image_path):\n",
    "    with open(image_path, \"rb\") as f:\n",
    "        return base64.b64encode(f.read()).decode(\"utf-8\")\n",
    "\n",
    "def extract_text_and_images(pdf_path, output_folder, min_width=100, min_height=100, min_filesize=5000):\n",
    "    \"\"\"\n",
    "    Extract text and unique images from each page of a PDF.\n",
    "    Skips small icons/logos and duplicate images (by size + dimensions).\n",
    "    Saves extracted images in output_folder.\n",
    "    Returns a list of dictionaries (one per page) with the same structure as the OCR version.\n",
    "    \"\"\"\n",
    "    doc = fitz.open(pdf_path)\n",
    "    \n",
    "    if not os.path.exists(output_folder):\n",
    "        os.makedirs(output_folder)\n",
    "    \n",
    "    seen = set()  # store (width, height, filesize) triples\n",
    "    results = []  # list of page dictionaries\n",
    "    \n",
    "    for page_num in range(len(doc)):\n",
    "        page = doc.load_page(page_num)\n",
    "        page_dict = {\n",
    "            \"page\": page_num + 1,\n",
    "            \"text\": \"\",\n",
    "            \"screenshots\": [],\n",
    "            \"screenshot_texts\": []\n",
    "        }\n",
    "        \n",
    "        # --- Extract Text ---\n",
    "        text = page.get_text(\"text\").strip()\n",
    "        page_dict[\"text\"] = text if text else \"\"\n",
    "        \n",
    "        # --- Extract Images ---\n",
    "        for img_index, img in enumerate(page.get_images(full=True)):\n",
    "            xref = img[0]\n",
    "            width, height = img[2], img[3]\n",
    "            \n",
    "            base_image = doc.extract_image(xref)\n",
    "            image_bytes = base_image[\"image\"]\n",
    "            image_ext = base_image[\"ext\"]\n",
    "            filesize = len(image_bytes)\n",
    "            \n",
    "            # Skip small images\n",
    "            if width < min_width or height < min_height or filesize < min_filesize:\n",
    "                continue\n",
    "            \n",
    "            # Skip duplicates\n",
    "            key = (width, height, filesize)\n",
    "            if key in seen:\n",
    "                continue\n",
    "            seen.add(key)\n",
    "            \n",
    "            # Save unique image\n",
    "            image_output_path = os.path.join(\n",
    "                output_folder, f\"page_{page_num+1}_img_{img_index+1}.{image_ext}\"\n",
    "            )\n",
    "            with open(image_output_path, \"wb\") as f:\n",
    "                f.write(image_bytes)\n",
    "            \n",
    "            page_dict[\"screenshots\"].append({\n",
    "                \"path\": image_output_path,\n",
    "            })\n",
    "        \n",
    "        results.append(page_dict)\n",
    "    \n",
    "    doc.close()\n",
    "    return results\n",
    "\n",
    "\n",
    "def extract_text_and_images_ocr(pdf_path, output_folder, min_width=100, min_height=100, min_filesize=5000):\n",
    "    \"\"\"\n",
    "    Extract Persian OCR text and unique images from each page of a PDF.\n",
    "    Skips small icons/logos and duplicate images (by size + dimensions).\n",
    "    Saves extracted images in output_folder.\n",
    "    Returns a list of dictionaries (one per page).\n",
    "    \"\"\"\n",
    "    doc = fitz.open(pdf_path)\n",
    "    \n",
    "    if not os.path.exists(output_folder):\n",
    "        os.makedirs(output_folder)\n",
    "    \n",
    "    seen = set()  # store (width, height, filesize) triples\n",
    "    results = []  # list of page dictionaries\n",
    "    \n",
    "    for page_num in range(len(doc)):\n",
    "        print(\"page:\", page_num)\n",
    "        if page_num > 2:\n",
    "            break\n",
    "            \n",
    "        page = doc.load_page(page_num)\n",
    "        page_dict = {\"page\": page_num + 1, \"text\": \"\", \"screenshots\": [], \"screenshot_texts\": []}\n",
    "        \n",
    "        # --- OCR Text (Persian) ---\n",
    "        # Convert the page to an image for OCR\n",
    "        pix = page.get_pixmap(dpi=300)\n",
    "        temp_img_path = os.path.join(output_folder, f\"page_{page_num+1}_ocr.png\")\n",
    "        pix.save(temp_img_path)\n",
    "        page_text = pytesseract.image_to_string(Image.open(temp_img_path), lang=\"fas\")\n",
    "        page_dict[\"text\"] = page_text.strip()\n",
    "        \n",
    "        # --- Extract Images ---\n",
    "        for img_index, img in enumerate(page.get_images(full=True)):\n",
    "            xref = img[0]\n",
    "            width, height = img[2], img[3]\n",
    "            \n",
    "            base_image = doc.extract_image(xref)\n",
    "            image_bytes = base_image[\"image\"]\n",
    "            image_ext = base_image[\"ext\"]\n",
    "            filesize = len(image_bytes)\n",
    "            \n",
    "            # Skip small images\n",
    "            if width < min_width or height < min_height or filesize < min_filesize:\n",
    "                continue\n",
    "            \n",
    "            # Skip duplicates\n",
    "            key = (width, height, filesize)\n",
    "            if key in seen:\n",
    "                continue\n",
    "            seen.add(key)\n",
    "            \n",
    "            # Save unique image\n",
    "            image_output_path = os.path.join(\n",
    "                output_folder, f\"page_{page_num+1}_img_{img_index+1}.{image_ext}\"\n",
    "            )\n",
    "            with open(image_output_path, \"wb\") as f:\n",
    "                f.write(image_bytes)\n",
    "            \n",
    "            page_dict[\"screenshots\"].append({\n",
    "                \"path\": image_output_path,\n",
    "            })\n",
    "        \n",
    "        results.append(page_dict)\n",
    "    \n",
    "    doc.close()\n",
    "    return results\n",
    "\n",
    "\n",
    "def convert_image_to_text(image_path):\n",
    "    instruction = (\n",
    "        \"شما یک اسکرین‌شات با حاشیه‌نویسی دریافت کرده‌اید. \"\n",
    "        \"تمام حاشیه‌نویسی‌ها، برچسب‌ها، فلش‌ها، هایلایت‌ها و عناصر رابط کاربری قابل مشاهده (دکمه‌ها، منوها، آیکون‌ها، فیلدهای ورودی و غیره) را با دقت بررسی کنید. \"\n",
    "        \"تمام اطلاعات مهم را به صورت نکات کوتاه و منظم در قالب بولت پوینت استخراج کنید. \"\n",
    "        \"معنای حاشیه‌نویسی‌ها و عملکرد عناصر رابط کاربری را به وضوح حفظ کنید. \"\n",
    "        \"بولت پوینت‌ها را به صورت منطقی بر اساس بخش‌ها، ویژگی‌ها یا مناطق اسکرین‌شات سازمان‌دهی کنید. \"\n",
    "        \"از توصیف سبک‌های صرفاً بصری خودداری کنید مگر اینکه اطلاعات عملکردی منتقل کنند.\"\n",
    "    )\n",
    "    \n",
    "    base64_image = encode_image(image_path)\n",
    "    response = client.chat.completions.create(\n",
    "    model=\"gpt-4o-mini\",\n",
    "        messages=[\n",
    "            {\n",
    "                \"role\": \"user\",\n",
    "                \"content\": [\n",
    "                    {\"type\": \"text\", \"text\": instruction},\n",
    "                    {\"type\": \"image_url\", \"image_url\": {\"url\": f\"data:image/png;base64,{base64_image}\"}}\n",
    "                ],\n",
    "            }\n",
    "        ],\n",
    "    )\n",
    "    screenshot_text = response.choices[0].message.content\n",
    "    \n",
    "    return screenshot_text"
   ]
  },
  {
   "cell_type": "code",
   "execution_count": 76,
   "id": "817feb3a-53ed-4d25-a61d-1d006495b30c",
   "metadata": {
    "execution": {
     "iopub.execute_input": "2025-09-13T08:13:50.715838Z",
     "iopub.status.busy": "2025-09-13T08:13:50.715196Z",
     "iopub.status.idle": "2025-09-13T08:14:01.963475Z",
     "shell.execute_reply": "2025-09-13T08:14:01.962849Z",
     "shell.execute_reply.started": "2025-09-13T08:13:50.715791Z"
    }
   },
   "outputs": [
    {
     "name": "stdout",
     "output_type": "stream",
     "text": [
      "page: 0\n",
      "page: 1\n",
      "page: 2\n",
      "page: 3\n"
     ]
    }
   ],
   "source": [
    "# pdf_path = \"/home/jovyan/projects/data/helpkasra.pdf\"\n",
    "pdf_path = \"/home/jovyan/projects/data/dining.pdf\"\n",
    "output_folder = \"/home/jovyan/projects/data/extracted_images\"\n",
    "\n",
    "# pdf_data = extract_text_and_images(pdf_path, output_folder)\n",
    "pdf_data = extract_text_and_images_ocr(pdf_path, output_folder)"
   ]
  },
  {
   "cell_type": "code",
   "execution_count": 68,
   "id": "019eeab8-ba81-4852-af88-9bc9df9d5890",
   "metadata": {
    "execution": {
     "iopub.execute_input": "2025-09-13T08:04:36.944306Z",
     "iopub.status.busy": "2025-09-13T08:04:36.943962Z",
     "iopub.status.idle": "2025-09-13T08:04:36.948373Z",
     "shell.execute_reply": "2025-09-13T08:04:36.947473Z",
     "shell.execute_reply.started": "2025-09-13T08:04:36.944277Z"
    }
   },
   "outputs": [],
   "source": [
    "# content = [\n",
    "#     {\"type\": \"text\", \"text\": f\"لطفاً این متن و تصاویر همراه آن را بررسی کن و **توضیح کامل بده**، بدون هیچ مقدمه‌ای:\\n\\n{item['text']}\"}\n",
    "# ]\n",
    "\n",
    "# for img in item[\"images\"]:\n",
    "#     b64 = encode_image(img[\"path\"])\n",
    "#     content.append({\n",
    "#         \"type\": \"image_url\",\n",
    "#         \"image_url\": {\n",
    "#             \"url\": f\"data:image/png;base64,{b64}\"\n",
    "#         }\n",
    "#     })\n",
    "\n",
    "# response = client.chat.completions.create(\n",
    "#     model=\"gpt-4o-mini\",\n",
    "#     messages=[\n",
    "#         {\"role\": \"system\", \"content\": \"تو یک دستیار هوشمند هستی که متن و تصویر را بررسی و توضیح می‌دهی، بدون هیچ جملهٔ اضافی یا مقدمه.\"},\n",
    "#         {\"role\": \"user\", \"content\": content}\n",
    "#     ]\n",
    "# )\n",
    "\n",
    "# print(response.choices[0].message.content)"
   ]
  },
  {
   "cell_type": "code",
   "execution_count": 79,
   "id": "bf1a8edd-3e6f-4c4a-bbba-b197e06b99d0",
   "metadata": {
    "execution": {
     "iopub.execute_input": "2025-09-13T08:14:38.608024Z",
     "iopub.status.busy": "2025-09-13T08:14:38.606489Z",
     "iopub.status.idle": "2025-09-13T08:14:45.465237Z",
     "shell.execute_reply": "2025-09-13T08:14:45.464414Z",
     "shell.execute_reply.started": "2025-09-13T08:14:38.607996Z"
    }
   },
   "outputs": [
    {
     "name": "stdout",
     "output_type": "stream",
     "text": [
      "### نکات کلیدی از اسکرین‌شات\n",
      "\n",
      "#### نوار جستجو و تاریخ\n",
      "- **نوار جستجو**: امکان جستجوی آیتم‌ها یا اطلاعات خاص.\n",
      "- **تاریخ انتخابی**: نمایانگر تاریخ انتخاب‌شده (۱۱-۱۷ تیر).\n",
      "  \n",
      "#### اطلاعات کاربری\n",
      "- **نام کاربر**: نشان‌دهنده نام کاربر (کسری کاربر رشد).\n",
      "- **نشان‌های مربوط به خدمات مشتری**: آیکن‌ها و گزینه‌های اطلاعاتی برای ارتباط با پشتیبانی.\n",
      "\n",
      "#### فیلترها\n",
      "- **دکمه فیلتر**: برای انتخاب فیلترهای مختلف و محدود کردن نتایج. \n",
      "\n",
      "#### نمایش لیست\n",
      "- **روزهای هفته**: نمایش روزهای مختلف هفته (شنبه تا جمعه).\n",
      "- **جدول غذاها**: شامل اطلاعات غذاها و نظرها.\n",
      "  - **غذای ۱۷**: “جلو جوجه کباب” با قیمت ۲۷۵,۰۰۰.\n",
      "  - **غذای ۱۶**: “چلوکباب” با علامت ستاره.\n",
      "  \n",
      "#### عملکرد دکمه‌ها\n",
      "- **دکمه \"شام\" و \"ناهار\"**: انتخاب بین گزینه‌های غذایی مختلف.\n",
      "- **دکمه \"تمام شود\"**: نشان‌دهنده اتمام یک مورد یا غذا.\n",
      "\n",
      "#### آیکن‌های اضافی\n",
      "- **آیکن نظرها**: نشان‌دهنده نظرات یا امتیازهای مربوط به غذاها.\n",
      "- **سمت راست آیکن‌های اجتماعی و زبان**: دسترسی به تنظیمات حساب کاربری و ترجمه محتوا. \n",
      "\n",
      "این نکات به طور مختصر و سازمان‌یافته اطلاعات و عملکردهای موجود در اسکرین‌شات را منتقل می‌کنند.\n",
      "### نکات کلیدی از اسکرین‌شات\n",
      "\n",
      "#### نوار جستجو و تاریخ\n",
      "- **نوار جستجو**: امکان جستجوی آیتم‌ها یا اطلاعات خاص.\n",
      "- **تاریخ انتخابی**: نمایانگر تاریخ انتخاب‌شده (۱۱-۱۷ تیر).\n",
      "  \n",
      "#### اطلاعات کاربری\n",
      "- **نام کاربر**: نشان‌دهنده نام کاربر (کسری کاربر رشد).\n",
      "- **نشان‌های مربوط به خدمات مشتری**: آیکن‌ها و گزینه‌های اطلاعاتی برای ارتباط با پشتیبانی.\n",
      "\n",
      "#### فیلترها\n",
      "- **دکمه فیلتر**: برای انتخاب فیلترهای مختلف و محدود کردن نتایج. \n",
      "\n",
      "#### نمایش لیست\n",
      "- **روزهای هفته**: نمایش روزهای مختلف هفته (شنبه تا جمعه).\n",
      "- **جدول غذاها**: شامل اطلاعات غذاها و نظرها.\n",
      "  - **غذای ۱۷**: “جلو جوجه کباب” با قیمت ۲۷۵,۰۰۰.\n",
      "  - **غذای ۱۶**: “چلوکباب” با علامت ستاره.\n",
      "  \n",
      "#### عملکرد دکمه‌ها\n",
      "- **دکمه \"شام\" و \"ناهار\"**: انتخاب بین گزینه‌های غذایی مختلف.\n",
      "- **دکمه \"تمام شود\"**: نشان‌دهنده اتمام یک مورد یا غذا.\n",
      "\n",
      "#### آیکن‌های اضافی\n",
      "- **آیکن نظرها**: نشان‌دهنده نظرات یا امتیازهای مربوط به غذاها.\n",
      "- **سمت راست آیکن‌های اجتماعی و زبان**: دسترسی به تنظیمات حساب کاربری و ترجمه محتوا. \n",
      "\n",
      "این نکات به طور مختصر و سازمان‌یافته اطلاعات و عملکردهای موجود در اسکرین‌شات را منتقل می‌کنند.\n"
     ]
    }
   ],
   "source": [
    "for image in page_data[\"screenshots\"]:\n",
    "    screenshot_text = convert_image_to_text(image[\"path\"])\n",
    "    page_data[\"screenshot_texts\"].append(screenshot_text)\n",
    "    print(screenshot_text)"
   ]
  },
  {
   "cell_type": "code",
   "execution_count": 80,
   "id": "c3300ca3-d0e4-48ed-9c6d-d75b07800a5d",
   "metadata": {
    "execution": {
     "iopub.execute_input": "2025-09-13T08:14:47.201350Z",
     "iopub.status.busy": "2025-09-13T08:14:47.200561Z",
     "iopub.status.idle": "2025-09-13T08:14:47.216370Z",
     "shell.execute_reply": "2025-09-13T08:14:47.213892Z",
     "shell.execute_reply.started": "2025-09-13T08:14:47.201283Z"
    }
   },
   "outputs": [
    {
     "data": {
      "text/plain": [
       "{'page': 2,\n",
       " 'text': '۱۱\\n۸\\n\\nدر این داکیومنت یاد میگیریم که:\\nچگونه برای پرسنل غذا رزرو کنیم.\\n\\n۰ صفحه ی رزرو به ما چه اطلاعاتی می دهد.\\n\\nدر این صفحه می توانیم برای پرسنل و یا کارت\\u200cهای متفرقه غذا رزرو کنیم.\\n\\nبرای دسترسی به این صفحه از طریق منو سامانه\\u200cی تغذیه»» رزرو غذا »» رزرو غذا اقدام می\\u200cکنیم.\\nبسیاری از سازمانهایی که می\\u200cخواهند به پرسنل خود حق انتخاب بیش از یک مدل غذا در\\nوعده\\u200cهای غذایی بدهند از این قابلیت استفاده می\\u200cکنند. همچنین این قابلیت باعت میيشه غذا\\nفقط به تعداد افرادی که قطعی می\\u200cخواهند سرو کنند طبحخ شود و این کار باعت صرفه\\u200cجویی در\\nمصرف مواد غذایی نیز میشود.\\n\\nدر این صفحه لبست کل غذاهایی که در برنامه\\u200cهای غذایی تعریف شده به شما نمایش داده\\nمی\\u200cشود و می\\u200cتوانید آن ها را تحت شرایطی رزرو کنبد.\\n\\nنحوه رزره غذا در این صفحه:\\n\\nا. اگر بخواهیم رزرو برای تاریخ خاصی انجام دهیم از قسمت تاریخ می توانیم انتخاب کنیم و\\nتوسط فلش\\u200cها به هفته\\u200cهای قبل و بعد برویم. دقت کنید که چون در صفحه\\u200cی رزرو غذا\\nغذاها را به صورت هفتگی نمایش میدهد هر تاریخی را انتخاب کنید لیست کل غذاهای آن\\nهفنه به شما نمایش داده میشود.\\n\\n۱\\n\\nقسمت انتخاب کنید و برای آن ها غذا رزرو کنید و همینطور براساس کارت های منفرقه\\n\\nرات ۱۱ات ۱',\n",
       " 'screenshots': [{'path': '/home/jovyan/projects/data/extracted_images/page_2_img_2.jpeg'}],\n",
       " 'screenshot_texts': ['### نکات کلیدی از اسکرین\\u200cشات\\n\\n#### نوار جستجو و تاریخ\\n- **نوار جستجو**: امکان جستجوی آیتم\\u200cها یا اطلاعات خاص.\\n- **تاریخ انتخابی**: نمایانگر تاریخ انتخاب\\u200cشده (۱۱-۱۷ تیر).\\n  \\n#### اطلاعات کاربری\\n- **نام کاربر**: نشان\\u200cدهنده نام کاربر (کسری کاربر رشد).\\n- **نشان\\u200cهای مربوط به خدمات مشتری**: آیکن\\u200cها و گزینه\\u200cهای اطلاعاتی برای ارتباط با پشتیبانی.\\n\\n#### فیلترها\\n- **دکمه فیلتر**: برای انتخاب فیلترهای مختلف و محدود کردن نتایج. \\n\\n#### نمایش لیست\\n- **روزهای هفته**: نمایش روزهای مختلف هفته (شنبه تا جمعه).\\n- **جدول غذاها**: شامل اطلاعات غذاها و نظرها.\\n  - **غذای ۱۷**: “جلو جوجه کباب” با قیمت ۲۷۵,۰۰۰.\\n  - **غذای ۱۶**: “چلوکباب” با علامت ستاره.\\n  \\n#### عملکرد دکمه\\u200cها\\n- **دکمه \"شام\" و \"ناهار\"**: انتخاب بین گزینه\\u200cهای غذایی مختلف.\\n- **دکمه \"تمام شود\"**: نشان\\u200cدهنده اتمام یک مورد یا غذا.\\n\\n#### آیکن\\u200cهای اضافی\\n- **آیکن نظرها**: نشان\\u200cدهنده نظرات یا امتیازهای مربوط به غذاها.\\n- **سمت راست آیکن\\u200cهای اجتماعی و زبان**: دسترسی به تنظیمات حساب کاربری و ترجمه محتوا. \\n\\nاین نکات به طور مختصر و سازمان\\u200cیافته اطلاعات و عملکردهای موجود در اسکرین\\u200cشات را منتقل می\\u200cکنند.']}"
      ]
     },
     "execution_count": 80,
     "metadata": {},
     "output_type": "execute_result"
    }
   ],
   "source": [
    "page_data"
   ]
  },
  {
   "cell_type": "code",
   "execution_count": null,
   "id": "241acd01-cbe9-43f1-a122-06d836870d90",
   "metadata": {},
   "outputs": [],
   "source": []
  }
 ],
 "metadata": {
  "kernelspec": {
   "display_name": "Python 3 (ipykernel)",
   "language": "python",
   "name": "python3"
  },
  "language_info": {
   "codemirror_mode": {
    "name": "ipython",
    "version": 3
   },
   "file_extension": ".py",
   "mimetype": "text/x-python",
   "name": "python",
   "nbconvert_exporter": "python",
   "pygments_lexer": "ipython3",
   "version": "3.12.9"
  }
 },
 "nbformat": 4,
 "nbformat_minor": 5
}
