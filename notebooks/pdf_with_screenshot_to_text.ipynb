{
 "cells": [
  {
   "cell_type": "code",
   "execution_count": 65,
   "id": "177e7ae6-0602-4c96-ae62-64ca430ad293",
   "metadata": {
    "execution": {
     "iopub.execute_input": "2025-09-09T10:47:08.475635Z",
     "iopub.status.busy": "2025-09-09T10:47:08.473917Z",
     "iopub.status.idle": "2025-09-09T10:47:08.484670Z",
     "shell.execute_reply": "2025-09-09T10:47:08.482307Z",
     "shell.execute_reply.started": "2025-09-09T10:47:08.475556Z"
    }
   },
   "outputs": [],
   "source": [
    "# %pip install -qU langchain-community pypdf\n",
    "\n",
    "# !sudo apt-get install tesseract-ocr tesseract-ocr-fas poppler-utils\n",
    "\n",
    "# !pip install pytesseract pillow pdf2image"
   ]
  },
  {
   "cell_type": "code",
   "execution_count": 1,
   "id": "c8ac8931-4788-46e1-82f8-ca2819ee5a27",
   "metadata": {
    "execution": {
     "iopub.execute_input": "2025-09-13T05:20:41.277113Z",
     "iopub.status.busy": "2025-09-13T05:20:41.276714Z",
     "iopub.status.idle": "2025-09-13T05:20:41.299980Z",
     "shell.execute_reply": "2025-09-13T05:20:41.299265Z",
     "shell.execute_reply.started": "2025-09-13T05:20:41.277076Z"
    }
   },
   "outputs": [
    {
     "data": {
      "text/plain": [
       "True"
      ]
     },
     "execution_count": 1,
     "metadata": {},
     "output_type": "execute_result"
    }
   ],
   "source": [
    "from dotenv import load_dotenv\n",
    "load_dotenv()"
   ]
  },
  {
   "cell_type": "code",
   "execution_count": 17,
   "id": "c5cb578a-f7f5-497b-8ed1-21ac4de1bcc7",
   "metadata": {
    "execution": {
     "iopub.execute_input": "2025-09-13T07:05:46.099785Z",
     "iopub.status.busy": "2025-09-13T07:05:46.099411Z",
     "iopub.status.idle": "2025-09-13T07:05:46.522561Z",
     "shell.execute_reply": "2025-09-13T07:05:46.521800Z",
     "shell.execute_reply.started": "2025-09-13T07:05:46.099754Z"
    }
   },
   "outputs": [],
   "source": [
    "import hashlib\n",
    "import base64\n",
    "from openai import OpenAI\n",
    "\n",
    "import os\n",
    "import json\n",
    "import fitz\n",
    "import pytesseract\n",
    "from PIL import Image"
   ]
  },
  {
   "cell_type": "code",
   "execution_count": 3,
   "id": "db63035c-16db-46f6-bef4-dd5841c60ba6",
   "metadata": {
    "execution": {
     "iopub.execute_input": "2025-09-13T05:20:57.850948Z",
     "iopub.status.busy": "2025-09-13T05:20:57.850442Z",
     "iopub.status.idle": "2025-09-13T05:20:57.920644Z",
     "shell.execute_reply": "2025-09-13T05:20:57.919655Z",
     "shell.execute_reply.started": "2025-09-13T05:20:57.850905Z"
    }
   },
   "outputs": [],
   "source": [
    "client = OpenAI()"
   ]
  },
  {
   "cell_type": "code",
   "execution_count": 83,
   "id": "522e6f11-d38c-416b-b6c8-87ec3c75f26c",
   "metadata": {
    "execution": {
     "iopub.execute_input": "2025-09-13T08:24:07.694826Z",
     "iopub.status.busy": "2025-09-13T08:24:07.693837Z",
     "iopub.status.idle": "2025-09-13T08:24:07.720189Z",
     "shell.execute_reply": "2025-09-13T08:24:07.719406Z",
     "shell.execute_reply.started": "2025-09-13T08:24:07.694757Z"
    }
   },
   "outputs": [],
   "source": [
    "def encode_image(image_path):\n",
    "    with open(image_path, \"rb\") as f:\n",
    "        return base64.b64encode(f.read()).decode(\"utf-8\")\n",
    "\n",
    "def extract_text_and_images(pdf_path, output_folder, min_width=100, min_height=100, min_filesize=5000):\n",
    "    \"\"\"\n",
    "    Extract text and unique images from each page of a PDF.\n",
    "    Skips small icons/logos and duplicate images (by size + dimensions).\n",
    "    Saves extracted images in output_folder.\n",
    "    Returns a list of dictionaries (one per page) with the same structure as the OCR version.\n",
    "    \"\"\"\n",
    "    doc = fitz.open(pdf_path)\n",
    "    \n",
    "    if not os.path.exists(output_folder):\n",
    "        os.makedirs(output_folder)\n",
    "    \n",
    "    seen = set()  # store (width, height, filesize) triples\n",
    "    results = []  # list of page dictionaries\n",
    "    \n",
    "    for page_num in range(len(doc)):\n",
    "        page = doc.load_page(page_num)\n",
    "        page_dict = {\n",
    "            \"page\": page_num + 1,\n",
    "            \"text\": \"\",\n",
    "            \"screenshots\": [],\n",
    "            \"screenshot_texts\": []\n",
    "        }\n",
    "        \n",
    "        # --- Extract Text ---\n",
    "        text = page.get_text(\"text\").strip()\n",
    "        page_dict[\"text\"] = text if text else \"\"\n",
    "        \n",
    "        # --- Extract Images ---\n",
    "        for img_index, img in enumerate(page.get_images(full=True)):\n",
    "            xref = img[0]\n",
    "            width, height = img[2], img[3]\n",
    "            \n",
    "            base_image = doc.extract_image(xref)\n",
    "            image_bytes = base_image[\"image\"]\n",
    "            image_ext = base_image[\"ext\"]\n",
    "            filesize = len(image_bytes)\n",
    "            \n",
    "            # Skip small images\n",
    "            if width < min_width or height < min_height or filesize < min_filesize:\n",
    "                continue\n",
    "            \n",
    "            # Skip duplicates\n",
    "            key = (width, height, filesize)\n",
    "            if key in seen:\n",
    "                continue\n",
    "            seen.add(key)\n",
    "            \n",
    "            # Save unique image\n",
    "            image_output_path = os.path.join(\n",
    "                output_folder, f\"page_{page_num+1}_img_{img_index+1}.{image_ext}\"\n",
    "            )\n",
    "            with open(image_output_path, \"wb\") as f:\n",
    "                f.write(image_bytes)\n",
    "            \n",
    "            page_dict[\"screenshots\"].append({\n",
    "                \"path\": image_output_path,\n",
    "            })\n",
    "        \n",
    "        results.append(page_dict)\n",
    "    \n",
    "    doc.close()\n",
    "    return results\n",
    "\n",
    "\n",
    "def extract_text_and_images_ocr(pdf_path, output_folder, min_width=100, min_height=100, min_filesize=5000):\n",
    "    \"\"\"\n",
    "    Extract Persian OCR text and unique images from each page of a PDF.\n",
    "    Skips small icons/logos and duplicate images (by size + dimensions).\n",
    "    Saves extracted images in output_folder.\n",
    "    Returns a list of dictionaries (one per page).\n",
    "    \"\"\"\n",
    "    doc = fitz.open(pdf_path)\n",
    "    \n",
    "    if not os.path.exists(output_folder):\n",
    "        os.makedirs(output_folder)\n",
    "    \n",
    "    seen = set()  # store (width, height, filesize) triples\n",
    "    results = []  # list of page dictionaries\n",
    "    \n",
    "    for page_num in range(len(doc)):\n",
    "        print(\"page:\", page_num)\n",
    "        # if page_num > 2:\n",
    "        #     break\n",
    "            \n",
    "        page = doc.load_page(page_num)\n",
    "        page_dict = {\"page\": page_num + 1, \"text\": \"\", \"screenshots\": [], \"screenshot_texts\": []}\n",
    "        \n",
    "        # --- OCR Text (Persian) ---\n",
    "        # Convert the page to an image for OCR\n",
    "        pix = page.get_pixmap(dpi=300)\n",
    "        temp_img_path = os.path.join(output_folder, f\"page_{page_num+1}_ocr.png\")\n",
    "        pix.save(temp_img_path)\n",
    "        page_text = pytesseract.image_to_string(Image.open(temp_img_path), lang=\"fas\")\n",
    "        page_dict[\"text\"] = page_text.strip()\n",
    "        \n",
    "        # --- Extract Images ---\n",
    "        for img_index, img in enumerate(page.get_images(full=True)):\n",
    "            xref = img[0]\n",
    "            width, height = img[2], img[3]\n",
    "            \n",
    "            base_image = doc.extract_image(xref)\n",
    "            image_bytes = base_image[\"image\"]\n",
    "            image_ext = base_image[\"ext\"]\n",
    "            filesize = len(image_bytes)\n",
    "            \n",
    "            # Skip small images\n",
    "            if width < min_width or height < min_height or filesize < min_filesize:\n",
    "                continue\n",
    "            \n",
    "            # Skip duplicates\n",
    "            key = (width, height, filesize)\n",
    "            if key in seen:\n",
    "                continue\n",
    "            seen.add(key)\n",
    "            \n",
    "            # Save unique image\n",
    "            image_output_path = os.path.join(\n",
    "                output_folder, f\"page_{page_num+1}_img_{img_index+1}.{image_ext}\"\n",
    "            )\n",
    "            with open(image_output_path, \"wb\") as f:\n",
    "                f.write(image_bytes)\n",
    "            \n",
    "            page_dict[\"screenshots\"].append({\n",
    "                \"path\": image_output_path,\n",
    "            })\n",
    "        \n",
    "        results.append(page_dict)\n",
    "    \n",
    "    doc.close()\n",
    "    return results\n",
    "\n",
    "\n",
    "def convert_image_to_text(image_path):\n",
    "    instruction = (\n",
    "        \"شما یک اسکرین‌شات با حاشیه‌نویسی دریافت کرده‌اید. \"\n",
    "        \"تمام حاشیه‌نویسی‌ها، برچسب‌ها، فلش‌ها، هایلایت‌ها و عناصر رابط کاربری قابل مشاهده \"\n",
    "        \"(دکمه‌ها، منوها، آیکون‌ها، فیلدهای ورودی و غیره) را بررسی کنید. \"\n",
    "        \"تمام اطلاعات مهم را به صورت نکات کوتاه و منظم در قالب بولت پوینت استخراج کنید. \"\n",
    "        \"معنای حاشیه‌نویسی‌ها و عملکرد عناصر رابط کاربری را حفظ کنید. \"\n",
    "        \"بولت پوینت‌ها را بر اساس بخش‌ها، ویژگی‌ها یا مناطق اسکرین‌شات سازمان‌دهی کنید. \"\n",
    "        \"توضیح صرفاً سبک‌های بصری لازم نیست مگر اطلاعات عملکردی داشته باشند. \"\n",
    "        \"اگر هیچ اطلاعات قابل استخراجی وجود ندارد، خروجی باید یک رشته خالی ('') باشد.\"\n",
    "    )\n",
    "    \n",
    "    base64_image = encode_image(image_path)\n",
    "    response = client.chat.completions.create(\n",
    "    model=\"gpt-4o-mini\",\n",
    "        messages=[\n",
    "            {\n",
    "                \"role\": \"user\",\n",
    "                \"content\": [\n",
    "                    {\"type\": \"text\", \"text\": instruction},\n",
    "                    {\"type\": \"image_url\", \"image_url\": {\"url\": f\"data:image/png;base64,{base64_image}\"}}\n",
    "                ],\n",
    "            }\n",
    "        ],\n",
    "    )\n",
    "    screenshot_text = response.choices[0].message.content\n",
    "    \n",
    "    return screenshot_text"
   ]
  },
  {
   "cell_type": "code",
   "execution_count": 101,
   "id": "817feb3a-53ed-4d25-a61d-1d006495b30c",
   "metadata": {
    "execution": {
     "iopub.execute_input": "2025-09-13T08:30:21.839624Z",
     "iopub.status.busy": "2025-09-13T08:30:21.839349Z",
     "iopub.status.idle": "2025-09-13T08:30:32.344186Z",
     "shell.execute_reply": "2025-09-13T08:30:32.342697Z",
     "shell.execute_reply.started": "2025-09-13T08:30:21.839602Z"
    }
   },
   "outputs": [
    {
     "name": "stdout",
     "output_type": "stream",
     "text": [
      "page: 0\n",
      "page: 1\n",
      "page: 2\n",
      "page: 3\n"
     ]
    }
   ],
   "source": [
    "pdf_path = \"/home/jovyan/projects/data/helpkasra.pdf\"\n",
    "pdf_path = \"/home/jovyan/projects/data/dining.pdf\"\n",
    "output_folder = \"/home/jovyan/projects/data/extracted_images\"\n",
    "\n",
    "# pdf_data = extract_text_and_images(pdf_path, output_folder)\n",
    "pdf_data = extract_text_and_images_ocr(pdf_path, output_folder)"
   ]
  },
  {
   "cell_type": "code",
   "execution_count": 103,
   "id": "bf1a8edd-3e6f-4c4a-bbba-b197e06b99d0",
   "metadata": {
    "execution": {
     "iopub.execute_input": "2025-09-13T08:31:34.744160Z",
     "iopub.status.busy": "2025-09-13T08:31:34.743879Z",
     "iopub.status.idle": "2025-09-13T08:32:01.714907Z",
     "shell.execute_reply": "2025-09-13T08:32:01.714182Z",
     "shell.execute_reply.started": "2025-09-13T08:31:34.744138Z"
    },
    "scrolled": true
   },
   "outputs": [
    {
     "name": "stdout",
     "output_type": "stream",
     "text": [
      "page: 1\n",
      "page: 2\n",
      "page: 3\n"
     ]
    }
   ],
   "source": [
    "for page_data in pdf_data:\n",
    "    print(\"page:\", page_data[\"page\"])\n",
    "    for screenshot in page_data[\"screenshots\"]:\n",
    "        screenshot_text = convert_image_to_text(screenshot[\"path\"])\n",
    "        if len(screenshot_text) > 10:\n",
    "            page_data[\"screenshot_texts\"].append(screenshot_text)"
   ]
  },
  {
   "cell_type": "code",
   "execution_count": 104,
   "id": "c3300ca3-d0e4-48ed-9c6d-d75b07800a5d",
   "metadata": {
    "execution": {
     "iopub.execute_input": "2025-09-13T08:32:01.716278Z",
     "iopub.status.busy": "2025-09-13T08:32:01.716022Z",
     "iopub.status.idle": "2025-09-13T08:32:01.723782Z",
     "shell.execute_reply": "2025-09-13T08:32:01.723040Z",
     "shell.execute_reply.started": "2025-09-13T08:32:01.716254Z"
    }
   },
   "outputs": [
    {
     "data": {
      "text/plain": [
       "[{'page': 1,\n",
       "  'text': 'رزرو غدا\\n\\nاوت\\u200cهلنک\\n\\nبح\\n\\n۱۱\\n\\n۷ /\\n۲۲۱ ۳/۸ /',\n",
       "  'screenshots': [{'path': '/home/jovyan/projects/data/extracted_images/page_1_img_1.jpeg'},\n",
       "   {'path': '/home/jovyan/projects/data/extracted_images/page_1_img_2.jpeg'}],\n",
       "  'screenshot_texts': []},\n",
       " {'page': 2,\n",
       "  'text': '۱۱\\n۸\\n\\nدر این داکیومنت یاد میگیریم که:\\nچگونه برای پرسنل غذا رزرو کنیم.\\n\\n۰ صفحه ی رزرو به ما چه اطلاعاتی می دهد.\\n\\nدر این صفحه می توانیم برای پرسنل و یا کارت\\u200cهای متفرقه غذا رزرو کنیم.\\n\\nبرای دسترسی به این صفحه از طریق منو سامانه\\u200cی تغذیه»» رزرو غذا »» رزرو غذا اقدام می\\u200cکنیم.\\nبسیاری از سازمانهایی که می\\u200cخواهند به پرسنل خود حق انتخاب بیش از یک مدل غذا در\\nوعده\\u200cهای غذایی بدهند از این قابلیت استفاده می\\u200cکنند. همچنین این قابلیت باعت میيشه غذا\\nفقط به تعداد افرادی که قطعی می\\u200cخواهند سرو کنند طبحخ شود و این کار باعت صرفه\\u200cجویی در\\nمصرف مواد غذایی نیز میشود.\\n\\nدر این صفحه لبست کل غذاهایی که در برنامه\\u200cهای غذایی تعریف شده به شما نمایش داده\\nمی\\u200cشود و می\\u200cتوانید آن ها را تحت شرایطی رزرو کنبد.\\n\\nنحوه رزره غذا در این صفحه:\\n\\nا. اگر بخواهیم رزرو برای تاریخ خاصی انجام دهیم از قسمت تاریخ می توانیم انتخاب کنیم و\\nتوسط فلش\\u200cها به هفته\\u200cهای قبل و بعد برویم. دقت کنید که چون در صفحه\\u200cی رزرو غذا\\nغذاها را به صورت هفتگی نمایش میدهد هر تاریخی را انتخاب کنید لیست کل غذاهای آن\\nهفنه به شما نمایش داده میشود.\\n\\n۱\\n\\nقسمت انتخاب کنید و برای آن ها غذا رزرو کنید و همینطور براساس کارت های منفرقه\\n\\nرات ۱۱ات ۱',\n",
       "  'screenshots': [{'path': '/home/jovyan/projects/data/extracted_images/page_2_img_2.jpeg'}],\n",
       "  'screenshot_texts': ['- **ناحیه بالایی:**\\n  - **نام کاربر:** کسرا کاربر رشد\\n  - **آیکون\\u200cها:**\\n    - آیکون پشتیبانی/سوال (?)\\n    - آیکون پروفایل\\n  - **پیام سلام:** خدمات کارآموزان\\n\\n- **اطلاعات تاریخ:**  \\n  - **تاریخ انتخابی:** ۱۱ تا ۱۷ تیر\\n  - **فیلد جستجو:** امکان جستجوی افراد\\n\\n- **جدول روزها:**\\n  - **روزها:**\\n    - ۱۷ (جمعه)\\n    - ۱۶ (پنجشنبه)\\n    - ۱۵ (چهارشنبه)\\n    - ۱۴ (سه\\u200cشنبه)\\n    - ۱۳ (دوشنبه)\\n    - ۱۱ (یکشنبه)\\n  - **لغت\\u200cنامه غذاها:** \\n    - غذاها با نام و قیمت مشخص شده\\u200cاند.\\n\\n- **عملیات:**\\n  - **دکمه\\u200cها:**\\n    - نمایش (شام)\\n    - ناهار\\n    - دکمه \"تکمیل\" در بالای جدول برای افزودن غذا\\n',\n",
       "   '- **بخش جستجو**:\\n  - کادر جستجو در بالای صفحه برای جستجوی اقلام خاص.\\n\\n- **فیلتر تاریخ**:\\n  - گزینه انتخاب تاریخ (۱) شامل انتخاب تاریخ خاص.\\n  - نمایش تاریخ انتخاب شده (۱۱-۱۷ تیر).\\n\\n- **وضعیت موجودی**:\\n  - نمایش موجودی (مانده اعتبار: ۷۴۰،۷۰۰).\\n\\n- **جدول اقلام**:\\n  - نمایش روزهای هفته به همراه اقلام غذایی مربوطه.\\n  - قسمت\\u200cهای هر روز با نام روز (مثلاً جمعه، شنبه) و اقلام غذایی.\\n  - نمایش اقلام در روزهای مختلف (مشخصات هر روز در جدول).\\n\\n- **عناصر رابط کاربری**:\\n  - دکمه \"ذخیره\" برای ذخیره تغییرات.\\n  - گزینه\\u200cها برای دیدن جزییات اقلام غذایی (مانند نمایش دقت شفاف اطلاعات).\\n  - امکانات تغییر و ویرایش اقلام با نمادهای مشخص (شامل آیکون\\u200cهای ویرایش). \\n\\n- **تحویل و زمان\\u200cبندی**:\\n  - گزینه\\u200cهای مربوط به زمان\\u200cبندی غذا (مانند صبحانه و شام) در هر قسمت از هفته. \\n\\n- **نظرات و امتیازات**:\\n  - اطلاعات مربوط به امتیازدهی به اقلام غذایی و امکان دسترسی به نظرات. \\n\\n- **آیکون\\u200cهای اضافی**:\\n  - آیکون\\u200cهای مرتبط با زبان و تنظیمات در سمت راست بالای صفحه.']},\n",
       " {'page': 3,\n",
       "  'text': '۳ قسمت وعده\\u200cهای غذایی لیست کل وعده\\u200cهایی که شما مجاز به رزرو آن هستید را نمایش\\n\\nمیدهد و با کلیک روی آن ها میتوان برای آن وعده\\u200cی غذایی غذا انتخاب بکنید\\nدر این قسمت روزها به شما نمایش داده میشود که اگر روزی قرمز رنگ باشد یعنی تعطیل\\n۵ در قسمت رستوران\\u200cها می\\u200cتوانید لیست کل رستوران\\u200cهایی که شما مجاز به سرو غذا در آن\\nهستید را مشاهده کنید و با زدن گزینه\\u200cی ستاره آن رستوران به صورت رستوران پیش\\u200cفرض\\nشما انتخاب میشود و با بارگذاری صفحه\\u200cی رزرو غذا ابتدا میتوانیم غذاهای مربوط به آن\\nرسنوران را ببینیم.\\n\\nفُ\\nت\\n9(\\n\\nار ۱۰۷\\n,\\n6 : _\\n۷ ۳۲ ۲ زد ۱۳ ۳۲ ۴ ۱ 1۵ ۳۲ م1 ۳ ۷ 0۲\\nات تک تسین\\nدر هت ۱ مد وس ۴ ات 2 سب اآ\\n۰ ۳ ۳5\\n۳۱ سبزي پلوباماهي یی جلو جوج ون ۷\" َقْْچلجوجه تیب\\n2 1 ِ\\nصص اص ش \\u200f اس ۵اأاأاث«9«ِ9پ\\u200cِصىأًُ:«.-2۳ ۳۳۵۸۷ ره\\nرز ابا 8 3\\nبار 3 ۷9\\nو ۱ ۵ سس 9\"\\n# منطقه ۳ ماست\\nمنطقه ۲ ۳ نا\\nواحد آموزش\\n#__منطقه سه\\n\\n#. مااز این صفحه یک سری اطلاعات می توانیم به دست بیاوریم ولی غذاهایی که عکس و\\nاسم آن ها به صورت کمرنگ هستند یعنی ما دیگر امکان تغبیر روی رزرو آن ها را نداریم\\nچون برای روزهای قبل از روز جاری امکان رزرو غذا وجود ندارد و تمام آن ها غیرفعال شدند.\\nهمچنین امروز غذای ماکارونی با یک سقف رزروی تعریف شده است مثلا صد عدد و صد\\nنفر این غذا را رزرو کردند و دیگر شما نمی\\u200cتوانید رزرو کنید و همینطور کنار غذا نوشته\\n«تمام شد» و این به این معنی که سقف غذا به پایان رسیده است. این صفحه با قوانین\\nروزهایی که امکان رزرو دارند محدود شده اند بعنوان متال پرسنل فقط تا دو روز بعد را\\nمیتوانند رزرو انجام دهند و به همین دلیل فقط تا دورز بعد از روز جاری فعال است و بقیه\\nروزها با اینکه برنامه غذایی دارند اما غیر فعال هستند.\\n\\nرات اد ارات ۶ ۱۱',\n",
       "  'screenshots': [{'path': '/home/jovyan/projects/data/extracted_images/page_3_img_2.jpeg'}],\n",
       "  'screenshot_texts': ['- **بخش کاربری:**\\n  - آیکون کاربر در گوشه بالا سمت چپ\\n  - محل ورود اطلاعات یا جستجو در بالای صفحه\\n\\n- **اطلاعات تاریخ:**\\n  - بخش تاریخ با عنوان \"تاریخ\" در گوشه بالا سمت راست\\n  - بازه تاریخ: ۱۷-۱۷ تیر\\n\\n- **لیست غذاها:**\\n  - جدول روزها با سرستون\\u200cها (شنبه تا جمعه)\\n  - هر ردیف مربوط به یک روز خاص:\\n    - **شنبه (۱۱)**\\n      - سطرها و آیتم\\u200cهای غذای مختلف\\n    - **یکشنبه (۱۱)**\\n      - شامل گزینه\\u200cها\\n    - **دوشنبه (۱۳)**\\n      - شامل گزینه\\u200cها\\n    - **سه\\u200cشنبه (۱۴)**\\n      - رنگ زمینه قرمز (احتمالاً نشان\\u200cدهنده وضعیت خاص)\\n      - آیتم\\u200cهای غذایی مربوطه\\n    - **چهارشنبه (۱۵)**\\n      - شامل گزینه\\u200cها\\n    - **پنج\\u200cشنبه (۱۶)**\\n      - شامل گزینه\\u200cها\\n    - **جمعه (۱۷)**\\n      - شامل گزینه\\u200cها\\n\\n- **عناصر رابط کاربری:**\\n  - برچسب و آیکون\\u200cهای مربوط به هر غذا\\n  - آیکون\\u200cهای ویژه برای اضافه کردن و مشاهده جزئیات غذاها\\n  - دکمه جستجو و فیلتر در بالای صفحه\\n\\n- **عملکرد عناصر:**\\n  - امکان ایجاد رزرو و دسترسی به جزئیات از طریق آیکون\\u200cها\\n  - فیلتر بر اساس نوع غذایی یا اطلاعات باقی\\u200cمانده\\n  - سیستم ستاره\\u200cگذاری برای هر غذا']}]"
      ]
     },
     "execution_count": 104,
     "metadata": {},
     "output_type": "execute_result"
    }
   ],
   "source": [
    "pdf_data"
   ]
  },
  {
   "cell_type": "markdown",
   "id": "ab9d04dc-5db3-423a-aa54-2fa740f2f162",
   "metadata": {
    "jp-MarkdownHeadingCollapsed": true
   },
   "source": [
    "# test"
   ]
  },
  {
   "cell_type": "code",
   "execution_count": null,
   "id": "241acd01-cbe9-43f1-a122-06d836870d90",
   "metadata": {},
   "outputs": [],
   "source": [
    "# content = [\n",
    "#     {\"type\": \"text\", \"text\": f\"لطفاً این متن و تصاویر همراه آن را بررسی کن و **توضیح کامل بده**، بدون هیچ مقدمه‌ای:\\n\\n{item['text']}\"}\n",
    "# ]\n",
    "\n",
    "# for img in item[\"images\"]:\n",
    "#     b64 = encode_image(img[\"path\"])\n",
    "#     content.append({\n",
    "#         \"type\": \"image_url\",\n",
    "#         \"image_url\": {\n",
    "#             \"url\": f\"data:image/png;base64,{b64}\"\n",
    "#         }\n",
    "#     })\n",
    "\n",
    "# response = client.chat.completions.create(\n",
    "#     model=\"gpt-4o-mini\",\n",
    "#     messages=[\n",
    "#         {\"role\": \"system\", \"content\": \"تو یک دستیار هوشمند هستی که متن و تصویر را بررسی و توضیح می‌دهی، بدون هیچ جملهٔ اضافی یا مقدمه.\"},\n",
    "#         {\"role\": \"user\", \"content\": content}\n",
    "#     ]\n",
    "# )\n",
    "\n",
    "# print(response.choices[0].message.content)"
   ]
  }
 ],
 "metadata": {
  "kernelspec": {
   "display_name": "Python 3 (ipykernel)",
   "language": "python",
   "name": "python3"
  },
  "language_info": {
   "codemirror_mode": {
    "name": "ipython",
    "version": 3
   },
   "file_extension": ".py",
   "mimetype": "text/x-python",
   "name": "python",
   "nbconvert_exporter": "python",
   "pygments_lexer": "ipython3",
   "version": "3.12.9"
  }
 },
 "nbformat": 4,
 "nbformat_minor": 5
}
