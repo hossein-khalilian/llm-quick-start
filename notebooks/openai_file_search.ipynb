{
 "cells": [
  {
   "cell_type": "markdown",
   "id": "52ad97fc-80c5-4d08-8d33-833076a3c9f2",
   "metadata": {
    "jp-MarkdownHeadingCollapsed": true
   },
   "source": [
    "# setup"
   ]
  },
  {
   "cell_type": "code",
   "execution_count": 1,
   "id": "03d6b236-3d08-42fb-a163-ba3f76edb1e5",
   "metadata": {},
   "outputs": [
    {
     "data": {
      "text/plain": [
       "True"
      ]
     },
     "execution_count": 1,
     "metadata": {},
     "output_type": "execute_result"
    }
   ],
   "source": [
    "from dotenv import load_dotenv\n",
    "load_dotenv()"
   ]
  },
  {
   "cell_type": "code",
   "execution_count": 2,
   "id": "a1985afc-1a6a-41ab-8367-1f4899e39c03",
   "metadata": {},
   "outputs": [],
   "source": [
    "import requests\n",
    "from io import BytesIO\n",
    "from openai import OpenAI\n",
    "\n",
    "client = OpenAI()"
   ]
  },
  {
   "cell_type": "markdown",
   "id": "79e1b82e-50a6-484c-b90c-82255fb1f41c",
   "metadata": {
    "jp-MarkdownHeadingCollapsed": true
   },
   "source": [
    "# load file"
   ]
  },
  {
   "cell_type": "code",
   "execution_count": 3,
   "id": "fee05361-2315-4bff-b963-a29559655afa",
   "metadata": {},
   "outputs": [
    {
     "name": "stdout",
     "output_type": "stream",
     "text": [
      "file-CCMoyvub6FNPiKTSD7s1fq\n"
     ]
    }
   ],
   "source": [
    "def create_file(client, file_path):\n",
    "    if file_path.startswith(\"http://\") or file_path.startswith(\"https://\"):\n",
    "        # Download the file content from the URL\n",
    "        response = requests.get(file_path)\n",
    "        file_content = BytesIO(response.content)\n",
    "        file_name = file_path.split(\"/\")[-1]\n",
    "        file_tuple = (file_name, file_content)\n",
    "        result = client.files.create(\n",
    "            file=file_tuple,\n",
    "            purpose=\"assistants\"\n",
    "        )\n",
    "    else:\n",
    "        # Handle local file path\n",
    "        with open(file_path, \"rb\") as file_content:\n",
    "            result = client.files.create(\n",
    "                file=file_content,\n",
    "                purpose=\"assistants\"\n",
    "            )\n",
    "    print(result.id)\n",
    "    \n",
    "    return result.id\n",
    "\n",
    "# Replace with your own file path or URL\n",
    "file_id = create_file(client, \"https://cdn.openai.com/API/docs/deep_research_blog.pdf\")"
   ]
  },
  {
   "cell_type": "code",
   "execution_count": 13,
   "id": "b14105e9-a4ad-4787-a723-3cbb8c939509",
   "metadata": {},
   "outputs": [
    {
     "name": "stdout",
     "output_type": "stream",
     "text": [
      "vs_68297c73e28c81919a823802684a943e\n"
     ]
    }
   ],
   "source": [
    "vector_store = client.vector_stores.create(\n",
    "    name=\"knowledge_base\"\n",
    ")\n",
    "print(vector_store.id)"
   ]
  },
  {
   "cell_type": "code",
   "execution_count": 6,
   "id": "37f646d9-ff39-4663-9e71-8f1bc8043492",
   "metadata": {},
   "outputs": [
    {
     "data": {
      "text/plain": [
       "VectorStoreFile(id='file-CCMoyvub6FNPiKTSD7s1fq', created_at=1747547994, last_error=None, object='vector_store.file', status='in_progress', usage_bytes=0, vector_store_id='vs_6829770cd6108191b450ce28bc6b7a20', attributes={}, chunking_strategy=StaticFileChunkingStrategyObject(static=StaticFileChunkingStrategy(chunk_overlap_tokens=400, max_chunk_size_tokens=800), type='static'))"
      ]
     },
     "execution_count": 6,
     "metadata": {},
     "output_type": "execute_result"
    }
   ],
   "source": [
    "client.vector_stores.files.create(\n",
    "    vector_store_id=vector_store.id,\n",
    "    file_id=file_id\n",
    ")"
   ]
  },
  {
   "cell_type": "code",
   "execution_count": 34,
   "id": "ca951b36-bf35-4320-9257-8be0c5dd366a",
   "metadata": {},
   "outputs": [
    {
     "data": {
      "text/plain": [
       "'vs_68297c73e28c81919a823802684a943e'"
      ]
     },
     "execution_count": 34,
     "metadata": {},
     "output_type": "execute_result"
    }
   ],
   "source": [
    "vector_store.id"
   ]
  },
  {
   "cell_type": "code",
   "execution_count": 37,
   "id": "989e3593-3707-46c4-a234-728604ad9ffe",
   "metadata": {},
   "outputs": [],
   "source": [
    "while client.vector_stores.retrieve(vector_store.id).status != \"completed\":\n",
    "    print(\"Waiting for completion...\")\n",
    "    time.sleep(2)"
   ]
  },
  {
   "cell_type": "markdown",
   "id": "74250a49-d466-4b1e-b67f-8095a29f854d",
   "metadata": {
    "jp-MarkdownHeadingCollapsed": true
   },
   "source": [
    "# file search"
   ]
  },
  {
   "cell_type": "code",
   "execution_count": 28,
   "id": "fde8dc64-6439-4b52-83a8-85930026ec69",
   "metadata": {},
   "outputs": [
    {
     "data": {
      "text/plain": [
       "\"Deep research by OpenAI is a new capabilities feature integrated into ChatGPT. It allows users to conduct multi-step research tasks on the internet, synthesizing large amounts of information and completing complex queries more efficiently than manual work would permit. \\n\\nKey features of deep research include:\\n\\n1. **Independent Research**: The model can find, analyze, and synthesize information from diverse online sources autonomously, generating comprehensive reports similar to those produced by research analysts.\\n\\n2. **Enhanced Performance**: It employs a new version of OpenAI's O3 model optimized for web browsing and data analysis, which demonstrates significant improvements in reasoning and knowledge synthesis.\\n\\n3. **Applications**: Deep research is particularly beneficial for professionals in sectors like finance, science, policy, and engineering, who require reliable and precise information for their work. It can also assist consumers in making detailed purchasing decisions.\\n\\n4. **Documentation and Citations**: The outputs are well-documented, including citations and a summary of the reasoning process, making it easy for users to verify the information.\\n\\n5. **Limitations**: While advanced, it may sometimes hallucinate facts or struggle to distinguish between credible and non-credible sources.\\n\\nOverall, deep research represents a significant step toward more intelligent and responsive AI tools, aligning with OpenAI's long-term objective of developing advanced general intelligence (AGI).\""
      ]
     },
     "execution_count": 28,
     "metadata": {},
     "output_type": "execute_result"
    }
   ],
   "source": [
    "from openai import OpenAI\n",
    "client = OpenAI()\n",
    "\n",
    "response = client.responses.create(\n",
    "    model=\"gpt-4o-mini\",\n",
    "    input=\"What is deep research by OpenAI?\",\n",
    "    tools=[{\n",
    "        \"type\": \"file_search\",\n",
    "        \"vector_store_ids\": [vector_store.id],\n",
    "        # \"max_num_results\": 2\n",
    "    }]\n",
    ")\n",
    "response.output[1].content[0].text"
   ]
  },
  {
   "cell_type": "code",
   "execution_count": 31,
   "id": "ecf09661-53ea-42cc-a898-620b66258746",
   "metadata": {},
   "outputs": [],
   "source": [
    "from openai import OpenAI\n",
    "client = OpenAI()\n",
    "\n",
    "response = client.responses.create(\n",
    "    model=\"gpt-4o-mini\",\n",
    "    input=\"What is task decomposition?\",\n",
    "    instructions=\"If you don't know the answer just say I don't know.\",\n",
    "    tools=[{\n",
    "        \"type\": \"file_search\",\n",
    "        \"vector_store_ids\": ['vs_68297f3275e48191a8e539bcefbb8836'],\n",
    "    }]\n",
    ")"
   ]
  },
  {
   "cell_type": "code",
   "execution_count": 30,
   "id": "d4511f05-a5f7-40bc-891a-346871492e16",
   "metadata": {},
   "outputs": [
    {
     "data": {
      "text/plain": [
       "Response(id='resp_682982b047748191b199e63a4fa477b70699001218d6392c', created_at=1747550896.0, error=None, incomplete_details=None, instructions=\"If you don't know the answer just say I don't know.\", metadata={}, model='gpt-4o-mini-2024-07-18', object='response', output=[ResponseFileSearchToolCall(id='fs_682982b0cb8481919b267db8217640570699001218d6392c', queries=['What is task decomposition?', 'definition of task decomposition', 'explanation of task decomposition'], status='completed', type='file_search_call', results=None), ResponseFileSearchToolCall(id='fs_682982b3679c8191a50291e5ed09a8df0699001218d6392c', queries=['task decomposition definition', 'task decomposition explanation', 'understanding task decomposition'], status='completed', type='file_search_call', results=None), ResponseFileSearchToolCall(id='fs_682982b62ca88191a467b83b3b3ed1980699001218d6392c', queries=['task decomposition examples', 'task decomposition in project management', 'applications of task decomposition'], status='completed', type='file_search_call', results=None), ResponseFileSearchToolCall(id='fs_682982b90a2481918d0d3f5047a16dc80699001218d6392c', queries=['task decomposition', 'definition of task decomposition', 'examples of task decomposition'], status='completed', type='file_search_call', results=None), ResponseOutputMessage(id='msg_682982bb67588191a075f485f4ad6baa0699001218d6392c', content=[ResponseOutputText(annotations=[], text=\"Task decomposition refers to the process of breaking down a complex task into smaller, more manageable sub-tasks. This technique is widely used in various fields, including computer science, project management, and artificial intelligence, to simplify problem-solving and enhance efficiency.\\n\\n### Key Aspects of Task Decomposition:\\n1. **Efficiency**: By dividing a larger task into smaller components, each sub-task can be addressed individually, making the overall task easier and faster to complete.\\n  \\n2. **Specialization**: Different team members or systems can focus on specific sub-tasks, leveraging their unique skills or resources, which often leads to higher quality results.\\n\\n3. **Clarity**: It provides a clearer structure for the task, making it easier to track progress and identify any issues that may arise.\\n\\n4. **Simplification**: The complexity of a problem can be reduced, allowing for focused attention on individual components, which can be particularly beneficial when dealing with multifaceted issues.\\n\\nThis approach can be found in various scenarios, from breaking down software development projects into smaller programming tasks to preparing a detailed project plan by listing each stage of the work separately. \\n\\nIf you're looking for specific definitions or applications from the uploaded files, let me know!\", type='output_text')], role='assistant', status='completed', type='message')], parallel_tool_calls=True, temperature=1.0, tool_choice='auto', tools=[FileSearchTool(type='file_search', vector_store_ids=['vs_68297f3275e48191a8e539bcefbb8836'], filters=None, max_num_results=20, ranking_options=RankingOptions(ranker='auto', score_threshold=0.0))], top_p=1.0, max_output_tokens=None, previous_response_id=None, reasoning=Reasoning(effort=None, generate_summary=None, summary=None), service_tier='default', status='completed', text=ResponseTextConfig(format=ResponseFormatText(type='text')), truncation='disabled', usage=ResponseUsage(input_tokens=68547, input_tokens_details=InputTokensDetails(cached_tokens=0), output_tokens=353, output_tokens_details=OutputTokensDetails(reasoning_tokens=0), total_tokens=68900), user=None, store=True)"
      ]
     },
     "execution_count": 30,
     "metadata": {},
     "output_type": "execute_result"
    }
   ],
   "source": [
    "response"
   ]
  }
 ],
 "metadata": {
  "kernelspec": {
   "display_name": "Python 3 (ipykernel)",
   "language": "python",
   "name": "python3"
  },
  "language_info": {
   "codemirror_mode": {
    "name": "ipython",
    "version": 3
   },
   "file_extension": ".py",
   "mimetype": "text/x-python",
   "name": "python",
   "nbconvert_exporter": "python",
   "pygments_lexer": "ipython3",
   "version": "3.12.9"
  }
 },
 "nbformat": 4,
 "nbformat_minor": 5
}
