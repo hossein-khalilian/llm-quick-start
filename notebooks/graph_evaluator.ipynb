{
 "cells": [
  {
   "cell_type": "code",
   "execution_count": 17,
   "id": "602ead01-6da5-4a0a-924a-34f38eb2ac75",
   "metadata": {
    "execution": {
     "iopub.execute_input": "2025-08-25T10:24:00.685089Z",
     "iopub.status.busy": "2025-08-25T10:24:00.684823Z",
     "iopub.status.idle": "2025-08-25T10:24:00.691862Z",
     "shell.execute_reply": "2025-08-25T10:24:00.690682Z",
     "shell.execute_reply.started": "2025-08-25T10:24:00.685067Z"
    }
   },
   "outputs": [
    {
     "data": {
      "text/plain": [
       "True"
      ]
     },
     "execution_count": 17,
     "metadata": {},
     "output_type": "execute_result"
    }
   ],
   "source": [
    "from dotenv import load_dotenv\n",
    "load_dotenv()"
   ]
  },
  {
   "cell_type": "code",
   "execution_count": 18,
   "id": "273804d2-1475-42c1-828a-21b69dfed1ec",
   "metadata": {
    "execution": {
     "iopub.execute_input": "2025-08-25T10:24:02.829313Z",
     "iopub.status.busy": "2025-08-25T10:24:02.828529Z",
     "iopub.status.idle": "2025-08-25T10:24:02.840950Z",
     "shell.execute_reply": "2025-08-25T10:24:02.838665Z",
     "shell.execute_reply.started": "2025-08-25T10:24:02.829247Z"
    }
   },
   "outputs": [],
   "source": [
    "from typing import Annotated, Literal, TypedDict\n",
    "\n",
    "from langchain.chat_models import init_chat_model\n",
    "from langchain_core.tools import tool\n",
    "from langgraph.graph import END, START, StateGraph\n",
    "from langgraph.prebuilt import ToolNode\n",
    "from langgraph.graph.message import add_messages"
   ]
  },
  {
   "cell_type": "code",
   "execution_count": 19,
   "id": "3e98192b-2f62-4695-b2fe-a0eee45b8ec9",
   "metadata": {
    "execution": {
     "iopub.execute_input": "2025-08-25T10:24:03.070463Z",
     "iopub.status.busy": "2025-08-25T10:24:03.070083Z",
     "iopub.status.idle": "2025-08-25T10:24:03.074997Z",
     "shell.execute_reply": "2025-08-25T10:24:03.074019Z",
     "shell.execute_reply.started": "2025-08-25T10:24:03.070435Z"
    }
   },
   "outputs": [],
   "source": [
    "llm = init_chat_model(\"openai:gpt-4o-mini\")"
   ]
  },
  {
   "cell_type": "code",
   "execution_count": 20,
   "id": "21ae5c11-87b8-40f0-b6c1-1d99a41d9319",
   "metadata": {
    "execution": {
     "iopub.execute_input": "2025-08-25T10:24:03.289246Z",
     "iopub.status.busy": "2025-08-25T10:24:03.288987Z",
     "iopub.status.idle": "2025-08-25T10:24:03.293693Z",
     "shell.execute_reply": "2025-08-25T10:24:03.293044Z",
     "shell.execute_reply.started": "2025-08-25T10:24:03.289224Z"
    }
   },
   "outputs": [],
   "source": [
    "class State(TypedDict): # Messages have the type \"list\". The 'add_messages' function # in the annotation defines how this state key should be updated # (in this case, it appends messages to the list, rather than overwriting them)\n",
    "    messages: Annotated[list, add_messages]"
   ]
  },
  {
   "cell_type": "code",
   "execution_count": 21,
   "id": "5176000f-089f-4e7f-9d42-7892f2b32f9e",
   "metadata": {
    "execution": {
     "iopub.execute_input": "2025-08-25T10:24:03.607560Z",
     "iopub.status.busy": "2025-08-25T10:24:03.607218Z",
     "iopub.status.idle": "2025-08-25T10:24:03.616444Z",
     "shell.execute_reply": "2025-08-25T10:24:03.615479Z",
     "shell.execute_reply.started": "2025-08-25T10:24:03.607520Z"
    }
   },
   "outputs": [],
   "source": [
    "# Define the tools for the agent to use\n",
    "@tool\n",
    "def search(query: str) -> str:\n",
    "    \"\"\"Call to surf the web.\"\"\" # This is a placeholder, but don't tell the LLM that...\n",
    "    if \"sf\" in query.lower() or \"san francisco\" in query.lower():\n",
    "        return \"It's 60 degrees and foggy.\"\n",
    "    return \"It's 90 degrees and sunny.\"\n",
    "\n",
    "tools = [search]"
   ]
  },
  {
   "cell_type": "code",
   "execution_count": 22,
   "id": "d5192084-9dc0-48a1-827f-32e908512090",
   "metadata": {
    "execution": {
     "iopub.execute_input": "2025-08-25T10:24:03.824907Z",
     "iopub.status.busy": "2025-08-25T10:24:03.824502Z",
     "iopub.status.idle": "2025-08-25T10:24:03.836988Z",
     "shell.execute_reply": "2025-08-25T10:24:03.835739Z",
     "shell.execute_reply.started": "2025-08-25T10:24:03.824874Z"
    }
   },
   "outputs": [],
   "source": [
    "tool_node = ToolNode(tools)\n",
    "model = llm.bind_tools(tools)\n",
    "\n",
    "# Define the function that determines whether to continue or not\n",
    "def should_continue(state: State) -> Literal[\"tools\", END]:\n",
    "    messages = state['messages']\n",
    "    last_message = messages[-1] # If the LLM makes a tool call, then we route to the \"tools\" node\n",
    "    if last_message.tool_calls:\n",
    "        return \"tools\" # Otherwise, we stop (reply to the user)\n",
    "    return END\n",
    "\n",
    "# Define the function that calls the model\n",
    "def call_model(state: State):\n",
    "    messages = state['messages']\n",
    "    response = model.invoke(messages) # We return a list, because this will get added to the existing list\n",
    "    return {\"messages\": [response]}"
   ]
  },
  {
   "cell_type": "code",
   "execution_count": 23,
   "id": "4f56f921-55db-471a-baac-16437ab0d844",
   "metadata": {
    "execution": {
     "iopub.execute_input": "2025-08-25T10:24:04.550657Z",
     "iopub.status.busy": "2025-08-25T10:24:04.549850Z",
     "iopub.status.idle": "2025-08-25T10:24:04.570390Z",
     "shell.execute_reply": "2025-08-25T10:24:04.568736Z",
     "shell.execute_reply.started": "2025-08-25T10:24:04.550588Z"
    }
   },
   "outputs": [],
   "source": [
    "# Define a new graph\n",
    "workflow = StateGraph(State)\n",
    "\n",
    "# Define the two nodes we will cycle between\n",
    "workflow.add_node(\"agent\", call_model)\n",
    "workflow.add_node(\"tools\", tool_node)\n",
    "\n",
    "# Set the entrypoint as 'agent'\n",
    "# This means that this node is the first one called\n",
    "workflow.add_edge(START, \"agent\")\n",
    "\n",
    "# We now add a conditional edge\n",
    "workflow.add_conditional_edges( # First, we define the start node. We use 'agent'. # This means these are the edges taken after the 'agent' node is called.\n",
    "    \"agent\", # Next, we pass in the function that will determine which node is called next.\n",
    "    should_continue,\n",
    ")\n",
    "\n",
    "# We now add a normal edge from 'tools' to 'agent'.\n",
    "# This means that after 'tools' is called, 'agent' node is called next.\n",
    "workflow.add_edge(\"tools\", 'agent')\n",
    "\n",
    "# Finally, we compile it!\n",
    "# This compiles it into a LangChain Runnable,\n",
    "# meaning you can use it as you would any other runnable.\n",
    "# Note that we're (optionally) passing the memory when compiling the graph\n",
    "app = workflow.compile()"
   ]
  },
  {
   "cell_type": "code",
   "execution_count": 24,
   "id": "7c379f95-a27b-49bc-a8e4-2dd65d15738d",
   "metadata": {
    "execution": {
     "iopub.execute_input": "2025-08-25T10:24:04.943958Z",
     "iopub.status.busy": "2025-08-25T10:24:04.943386Z",
     "iopub.status.idle": "2025-08-25T10:24:06.318886Z",
     "shell.execute_reply": "2025-08-25T10:24:06.317926Z",
     "shell.execute_reply.started": "2025-08-25T10:24:04.943932Z"
    }
   },
   "outputs": [
    {
     "data": {
      "image/png": "[encoded data removed]",
      "text/plain": [
       "<langgraph.graph.state.CompiledStateGraph object at 0x7278795b2d80>"
      ]
     },
     "execution_count": 24,
     "metadata": {},
     "output_type": "execute_result"
    }
   ],
   "source": [
    "app"
   ]
  },
  {
   "cell_type": "code",
   "execution_count": null,
   "id": "0c58b62e-11b6-4681-bb0b-21bcb98c29df",
   "metadata": {},
   "outputs": [],
   "source": []
  },
  {
   "cell_type": "code",
   "execution_count": 26,
   "id": "c4e6d04e-58d2-48ad-9af8-71a7de592383",
   "metadata": {
    "execution": {
     "iopub.execute_input": "2025-08-25T10:24:31.178971Z",
     "iopub.status.busy": "2025-08-25T10:24:31.177229Z",
     "iopub.status.idle": "2025-08-25T10:24:31.186522Z",
     "shell.execute_reply": "2025-08-25T10:24:31.183771Z",
     "shell.execute_reply.started": "2025-08-25T10:24:31.178935Z"
    }
   },
   "outputs": [],
   "source": [
    "import os"
   ]
  },
  {
   "cell_type": "code",
   "execution_count": null,
   "id": "798885a6-bd9f-4720-a172-433c940c5e62",
   "metadata": {},
   "outputs": [],
   "source": []
  },
  {
   "cell_type": "code",
   "execution_count": 36,
   "id": "20913c5b-12d2-4476-a8db-e050802c8b0d",
   "metadata": {
    "execution": {
     "iopub.execute_input": "2025-08-25T10:27:40.509171Z",
     "iopub.status.busy": "2025-08-25T10:27:40.508704Z",
     "iopub.status.idle": "2025-08-25T10:27:40.543335Z",
     "shell.execute_reply": "2025-08-25T10:27:40.541745Z",
     "shell.execute_reply.started": "2025-08-25T10:27:40.509134Z"
    }
   },
   "outputs": [
    {
     "ename": "TypeError",
     "evalue": "Client.create_dataset() got an unexpected keyword argument 'inputs'",
     "output_type": "error",
     "traceback": [
      "\u001b[31m---------------------------------------------------------------------------\u001b[39m",
      "\u001b[31mTypeError\u001b[39m                                 Traceback (most recent call last)",
      "\u001b[36mCell\u001b[39m\u001b[36m \u001b[39m\u001b[32mIn[36]\u001b[39m\u001b[32m, line 16\u001b[39m\n\u001b[32m      8\u001b[39m answers = [\n\u001b[32m      9\u001b[39m     \u001b[33m\"\u001b[39m\u001b[33mIt\u001b[39m\u001b[33m'\u001b[39m\u001b[33ms 60 degrees and foggy.\u001b[39m\u001b[33m\"\u001b[39m,\n\u001b[32m     10\u001b[39m     \u001b[33m\"\u001b[39m\u001b[33mIt\u001b[39m\u001b[33m'\u001b[39m\u001b[33ms 60 degrees and foggy.\u001b[39m\u001b[33m\"\u001b[39m,\n\u001b[32m     11\u001b[39m     \u001b[33m\"\u001b[39m\u001b[33mIt\u001b[39m\u001b[33m'\u001b[39m\u001b[33ms 90 degrees and sunny.\u001b[39m\u001b[33m\"\u001b[39m,\n\u001b[32m     12\u001b[39m ]\n\u001b[32m     14\u001b[39m ls_client = Client(api_key=os.environ.get(\u001b[33m\"\u001b[39m\u001b[33mLANGSMITH_API_KEY\u001b[39m\u001b[33m\"\u001b[39m))\n\u001b[32m---> \u001b[39m\u001b[32m16\u001b[39m dataset = \u001b[43mls_client\u001b[49m\u001b[43m.\u001b[49m\u001b[43mcreate_dataset\u001b[49m\u001b[43m(\u001b[49m\n\u001b[32m     17\u001b[39m \u001b[43m    \u001b[49m\u001b[43mdataset_name\u001b[49m\u001b[43m=\u001b[49m\u001b[33;43m\"\u001b[39;49m\u001b[33;43mweatheragent\u001b[39;49m\u001b[33;43m\"\u001b[39;49m\u001b[43m,\u001b[49m\n\u001b[32m     18\u001b[39m \u001b[43m    \u001b[49m\u001b[43minputs\u001b[49m\u001b[43m=\u001b[49m\u001b[43m[\u001b[49m\u001b[43m{\u001b[49m\u001b[33;43m\"\u001b[39;49m\u001b[33;43mquestion\u001b[39;49m\u001b[33;43m\"\u001b[39;49m\u001b[43m:\u001b[49m\u001b[43m \u001b[49m\u001b[43mq\u001b[49m\u001b[43m}\u001b[49m\u001b[43m \u001b[49m\u001b[38;5;28;43;01mfor\u001b[39;49;00m\u001b[43m \u001b[49m\u001b[43mq\u001b[49m\u001b[43m \u001b[49m\u001b[38;5;129;43;01min\u001b[39;49;00m\u001b[43m \u001b[49m\u001b[43mquestions\u001b[49m\u001b[43m]\u001b[49m\u001b[43m,\u001b[49m\n\u001b[32m     19\u001b[39m \u001b[43m    \u001b[49m\u001b[43moutputs\u001b[49m\u001b[43m=\u001b[49m\u001b[43m[\u001b[49m\u001b[43m{\u001b[49m\u001b[33;43m\"\u001b[39;49m\u001b[33;43manswers\u001b[39;49m\u001b[33;43m\"\u001b[39;49m\u001b[43m:\u001b[49m\u001b[43m \u001b[49m\u001b[43ma\u001b[49m\u001b[43m}\u001b[49m\u001b[43m \u001b[49m\u001b[38;5;28;43;01mfor\u001b[39;49;00m\u001b[43m \u001b[49m\u001b[43ma\u001b[49m\u001b[43m \u001b[49m\u001b[38;5;129;43;01min\u001b[39;49;00m\u001b[43m \u001b[49m\u001b[43manswers\u001b[49m\u001b[43m]\u001b[49m\u001b[43m,\u001b[49m\n\u001b[32m     20\u001b[39m \u001b[43m)\u001b[49m\n",
      "\u001b[31mTypeError\u001b[39m: Client.create_dataset() got an unexpected keyword argument 'inputs'"
     ]
    }
   ],
   "source": [
    "from langsmith import Client\n",
    "\n",
    "questions = [\n",
    "    \"what's the weather in sf\",\n",
    "    \"whats the weather in san fran\",\n",
    "    \"whats the weather in tangier\"\n",
    "]\n",
    "answers = [\n",
    "    \"It's 60 degrees and foggy.\",\n",
    "    \"It's 60 degrees and foggy.\",\n",
    "    \"It's 90 degrees and sunny.\",\n",
    "]\n",
    "\n",
    "ls_client = Client(api_key=os.environ.get(\"LANGSMITH_API_KEY\"))\n",
    "\n",
    "dataset = ls_client.create_dataset(\n",
    "    dataset_name=\"weatheragent\",\n",
    "    inputs=[{\"question\": q} for q in questions],\n",
    "    outputs=[{\"answers\": a} for a in answers],\n",
    ")"
   ]
  },
  {
   "cell_type": "code",
   "execution_count": 34,
   "id": "068dc074-465a-4861-a585-28df9ed3d669",
   "metadata": {
    "execution": {
     "iopub.execute_input": "2025-08-25T10:26:50.053342Z",
     "iopub.status.busy": "2025-08-25T10:26:50.052967Z",
     "iopub.status.idle": "2025-08-25T10:26:50.060032Z",
     "shell.execute_reply": "2025-08-25T10:26:50.059156Z",
     "shell.execute_reply.started": "2025-08-25T10:26:50.053318Z"
    }
   },
   "outputs": [
    {
     "data": {
      "text/plain": [
       "{'name': 'weather agent',\n",
       " 'description': None,\n",
       " 'data_type': <DataType.kv: 'kv'>,\n",
       " 'id': UUID('9cbddb44-3e85-4e67-962f-37221cd5e539'),\n",
       " 'created_at': datetime.datetime(2025, 8, 25, 10, 25, 14, 396220, tzinfo=datetime.timezone.utc),\n",
       " 'modified_at': datetime.datetime(2025, 8, 25, 10, 25, 14, 396220, tzinfo=datetime.timezone.utc),\n",
       " 'example_count': 0,\n",
       " 'session_count': 0,\n",
       " 'last_session_start_time': None,\n",
       " 'inputs_schema': None,\n",
       " 'outputs_schema': None,\n",
       " 'transformations': None}"
      ]
     },
     "execution_count": 34,
     "metadata": {},
     "output_type": "execute_result"
    }
   ],
   "source": [
    "dataset.dict()"
   ]
  },
  {
   "cell_type": "code",
   "execution_count": 14,
   "id": "a0cfcbe4-cda0-40e4-9b85-b0a517a97c95",
   "metadata": {
    "execution": {
     "iopub.execute_input": "2025-08-25T10:19:18.833021Z",
     "iopub.status.busy": "2025-08-25T10:19:18.830694Z",
     "iopub.status.idle": "2025-08-25T10:19:18.848460Z",
     "shell.execute_reply": "2025-08-25T10:19:18.845979Z",
     "shell.execute_reply.started": "2025-08-25T10:19:18.832938Z"
    }
   },
   "outputs": [],
   "source": [
    "judge_llm = init_chat_model(\"gpt-4o-mini\")\n",
    "\n",
    "async def correct(outputs: dict, reference_outputs: dict) -> bool:\n",
    "    instructions = (\n",
    "        \"Given an actual answer and an expected answer, determine whether\"\n",
    "        \" the actual answer contains all of the information in the\"\n",
    "        \" expected answer. Respond with 'CORRECT' if the actual answer\"\n",
    "        \" does contain all of the expected information and 'INCORRECT'\"\n",
    "        \" otherwise. Do not include anything else in your response.\"\n",
    "    )\n",
    "    # Our graph outputs a State dictionary, which in this case means\n",
    "    # we'll have a 'messages' key and the final message should\n",
    "    # be our actual answer.\n",
    "    actual_answer = outputs[\"messages\"][-1].content\n",
    "    expected_answer = reference_outputs[\"answer\"]\n",
    "    user_msg = (\n",
    "        f\"ACTUAL ANSWER: {actual_answer}\"\n",
    "        f\"\\n\\nEXPECTED ANSWER: {expected_answer}\"\n",
    "    )\n",
    "    response = await judge_llm.ainvoke(\n",
    "        [\n",
    "            {\"role\": \"system\", \"content\": instructions},\n",
    "            {\"role\": \"user\", \"content\": user_msg}\n",
    "        ]\n",
    "    )\n",
    "    return response.content.upper() == \"CORRECT\""
   ]
  },
  {
   "cell_type": "code",
   "execution_count": 37,
   "id": "6a7dc0c6-3d5d-4a65-b7f5-6f17ab0e8f88",
   "metadata": {
    "execution": {
     "iopub.execute_input": "2025-08-25T10:28:36.183454Z",
     "iopub.status.busy": "2025-08-25T10:28:36.182716Z",
     "iopub.status.idle": "2025-08-25T10:28:37.794328Z",
     "shell.execute_reply": "2025-08-25T10:28:37.792455Z",
     "shell.execute_reply.started": "2025-08-25T10:28:36.183389Z"
    }
   },
   "outputs": [
    {
     "ename": "LangSmithAuthError",
     "evalue": "Authentication failed for /datasets. HTTPError('401 Client Error: Unauthorized for url: https://api.smith.langchain.com/datasets?limit=1&name=weather+agent', '{\"detail\":\"Invalid token\"}')",
     "output_type": "error",
     "traceback": [
      "\u001b[31m---------------------------------------------------------------------------\u001b[39m",
      "\u001b[31mHTTPError\u001b[39m                                 Traceback (most recent call last)",
      "\u001b[36mFile \u001b[39m\u001b[32m/opt/conda/lib/python3.12/site-packages/langsmith/utils.py:154\u001b[39m, in \u001b[36mraise_for_status_with_text\u001b[39m\u001b[34m(response)\u001b[39m\n\u001b[32m    153\u001b[39m \u001b[38;5;28;01mtry\u001b[39;00m:\n\u001b[32m--> \u001b[39m\u001b[32m154\u001b[39m     \u001b[43mresponse\u001b[49m\u001b[43m.\u001b[49m\u001b[43mraise_for_status\u001b[49m\u001b[43m(\u001b[49m\u001b[43m)\u001b[49m\n\u001b[32m    155\u001b[39m \u001b[38;5;28;01mexcept\u001b[39;00m requests.HTTPError \u001b[38;5;28;01mas\u001b[39;00m e:\n",
      "\u001b[36mFile \u001b[39m\u001b[32m/opt/conda/lib/python3.12/site-packages/requests/models.py:1024\u001b[39m, in \u001b[36mResponse.raise_for_status\u001b[39m\u001b[34m(self)\u001b[39m\n\u001b[32m   1023\u001b[39m \u001b[38;5;28;01mif\u001b[39;00m http_error_msg:\n\u001b[32m-> \u001b[39m\u001b[32m1024\u001b[39m     \u001b[38;5;28;01mraise\u001b[39;00m HTTPError(http_error_msg, response=\u001b[38;5;28mself\u001b[39m)\n",
      "\u001b[31mHTTPError\u001b[39m: 401 Client Error: Unauthorized for url: https://api.smith.langchain.com/datasets?limit=1&name=weather+agent",
      "\nThe above exception was the direct cause of the following exception:\n",
      "\u001b[31mHTTPError\u001b[39m                                 Traceback (most recent call last)",
      "\u001b[36mFile \u001b[39m\u001b[32m/opt/conda/lib/python3.12/site-packages/langsmith/client.py:840\u001b[39m, in \u001b[36mClient.request_with_retries\u001b[39m\u001b[34m(self, method, pathname, request_kwargs, stop_after_attempt, retry_on, to_ignore, handle_response, _context, **kwargs)\u001b[39m\n\u001b[32m    834\u001b[39m     response = \u001b[38;5;28mself\u001b[39m.session.request(\n\u001b[32m    835\u001b[39m         method,\n\u001b[32m    836\u001b[39m         _construct_url(\u001b[38;5;28mself\u001b[39m.api_url, pathname),\n\u001b[32m    837\u001b[39m         stream=\u001b[38;5;28;01mFalse\u001b[39;00m,\n\u001b[32m    838\u001b[39m         **request_kwargs,\n\u001b[32m    839\u001b[39m     )\n\u001b[32m--> \u001b[39m\u001b[32m840\u001b[39m \u001b[43mls_utils\u001b[49m\u001b[43m.\u001b[49m\u001b[43mraise_for_status_with_text\u001b[49m\u001b[43m(\u001b[49m\u001b[43mresponse\u001b[49m\u001b[43m)\u001b[49m\n\u001b[32m    841\u001b[39m \u001b[38;5;28;01mreturn\u001b[39;00m response\n",
      "\u001b[36mFile \u001b[39m\u001b[32m/opt/conda/lib/python3.12/site-packages/langsmith/utils.py:156\u001b[39m, in \u001b[36mraise_for_status_with_text\u001b[39m\u001b[34m(response)\u001b[39m\n\u001b[32m    155\u001b[39m \u001b[38;5;28;01mexcept\u001b[39;00m requests.HTTPError \u001b[38;5;28;01mas\u001b[39;00m e:\n\u001b[32m--> \u001b[39m\u001b[32m156\u001b[39m     \u001b[38;5;28;01mraise\u001b[39;00m requests.HTTPError(\u001b[38;5;28mstr\u001b[39m(e), response.text) \u001b[38;5;28;01mfrom\u001b[39;00m\u001b[38;5;250m \u001b[39m\u001b[34;01me\u001b[39;00m  \u001b[38;5;66;03m# type: ignore[call-arg]\u001b[39;00m\n\u001b[32m    157\u001b[39m \u001b[38;5;28;01mexcept\u001b[39;00m httpx.HTTPStatusError \u001b[38;5;28;01mas\u001b[39;00m e:\n",
      "\u001b[31mHTTPError\u001b[39m: [Errno 401 Client Error: Unauthorized for url: https://api.smith.langchain.com/datasets?limit=1&name=weather+agent] {\"detail\":\"Invalid token\"}",
      "\nDuring handling of the above exception, another exception occurred:\n",
      "\u001b[31mLangSmithAuthError\u001b[39m                        Traceback (most recent call last)",
      "\u001b[36mCell\u001b[39m\u001b[36m \u001b[39m\u001b[32mIn[37]\u001b[39m\u001b[32m, line 10\u001b[39m\n\u001b[32m      6\u001b[39m \u001b[38;5;66;03m# We use LCEL declarative syntax here.\u001b[39;00m\n\u001b[32m      7\u001b[39m \u001b[38;5;66;03m# Remember that langgraph graphs are also langchain runnables.\u001b[39;00m\n\u001b[32m      8\u001b[39m target = example_to_state | app\n\u001b[32m---> \u001b[39m\u001b[32m10\u001b[39m experiment_results = \u001b[38;5;28;01mawait\u001b[39;00m aevaluate(\n\u001b[32m     11\u001b[39m     target,\n\u001b[32m     12\u001b[39m     data=\u001b[33m\"\u001b[39m\u001b[33mweather agent\u001b[39m\u001b[33m\"\u001b[39m,\n\u001b[32m     13\u001b[39m     evaluators=[correct],\n\u001b[32m     14\u001b[39m     max_concurrency=\u001b[32m4\u001b[39m,  \u001b[38;5;66;03m# optional\u001b[39;00m\n\u001b[32m     15\u001b[39m     experiment_prefix=\u001b[33m\"\u001b[39m\u001b[33mgpt-4o-mini\u001b[39m\u001b[33m\"\u001b[39m,  \u001b[38;5;66;03m# optional\u001b[39;00m\n\u001b[32m     16\u001b[39m )\n",
      "\u001b[36mFile \u001b[39m\u001b[32m/opt/conda/lib/python3.12/site-packages/langsmith/evaluation/_arunner.py:323\u001b[39m, in \u001b[36maevaluate\u001b[39m\u001b[34m(target, data, evaluators, summary_evaluators, metadata, experiment_prefix, description, max_concurrency, num_repetitions, client, blocking, experiment, upload_results, error_handling, **kwargs)\u001b[39m\n\u001b[32m    321\u001b[39m     _warn_once(\u001b[33m\"\u001b[39m\u001b[33m'\u001b[39m\u001b[33mupload_results\u001b[39m\u001b[33m'\u001b[39m\u001b[33m parameter is in beta.\u001b[39m\u001b[33m\"\u001b[39m)\n\u001b[32m    322\u001b[39m logger.debug(\u001b[33mf\u001b[39m\u001b[33m\"\u001b[39m\u001b[33mRunning evaluation over target system \u001b[39m\u001b[38;5;132;01m{\u001b[39;00mtarget\u001b[38;5;132;01m}\u001b[39;00m\u001b[33m...\u001b[39m\u001b[33m\"\u001b[39m)\n\u001b[32m--> \u001b[39m\u001b[32m323\u001b[39m \u001b[38;5;28;01mreturn\u001b[39;00m \u001b[38;5;28;01mawait\u001b[39;00m _aevaluate(\n\u001b[32m    324\u001b[39m     target,\n\u001b[32m    325\u001b[39m     data=data,\n\u001b[32m    326\u001b[39m     evaluators=evaluators,\n\u001b[32m    327\u001b[39m     summary_evaluators=summary_evaluators,\n\u001b[32m    328\u001b[39m     metadata=metadata,\n\u001b[32m    329\u001b[39m     experiment_prefix=experiment_prefix,\n\u001b[32m    330\u001b[39m     description=description,\n\u001b[32m    331\u001b[39m     max_concurrency=max_concurrency,\n\u001b[32m    332\u001b[39m     num_repetitions=num_repetitions,\n\u001b[32m    333\u001b[39m     client=client,\n\u001b[32m    334\u001b[39m     blocking=blocking,\n\u001b[32m    335\u001b[39m     experiment=experiment,\n\u001b[32m    336\u001b[39m     upload_results=upload_results,\n\u001b[32m    337\u001b[39m     error_handling=error_handling,\n\u001b[32m    338\u001b[39m )\n",
      "\u001b[36mFile \u001b[39m\u001b[32m/opt/conda/lib/python3.12/site-packages/langsmith/evaluation/_arunner.py:478\u001b[39m, in \u001b[36m_aevaluate\u001b[39m\u001b[34m(target, data, evaluators, summary_evaluators, metadata, experiment_prefix, description, max_concurrency, num_repetitions, client, blocking, experiment, upload_results, error_handling)\u001b[39m\n\u001b[32m    469\u001b[39m experiment_, runs = \u001b[38;5;28;01mawait\u001b[39;00m aitertools.aio_to_thread(\n\u001b[32m    470\u001b[39m     _resolve_experiment,\n\u001b[32m    471\u001b[39m     experiment,\n\u001b[32m    472\u001b[39m     runs,\n\u001b[32m    473\u001b[39m     client,\n\u001b[32m    474\u001b[39m )\n\u001b[32m    475\u001b[39m num_include_attachments = \u001b[38;5;28mint\u001b[39m(\n\u001b[32m    476\u001b[39m     _target_include_attachments(target)\n\u001b[32m    477\u001b[39m ) + _evaluators_include_attachments(evaluators)\n\u001b[32m--> \u001b[39m\u001b[32m478\u001b[39m manager = \u001b[38;5;28;01mawait\u001b[39;00m _AsyncExperimentManager(\n\u001b[32m    479\u001b[39m     data,\n\u001b[32m    480\u001b[39m     client=client,\n\u001b[32m    481\u001b[39m     metadata=metadata,\n\u001b[32m    482\u001b[39m     experiment=experiment_ \u001b[38;5;129;01mor\u001b[39;00m experiment_prefix,\n\u001b[32m    483\u001b[39m     description=description,\n\u001b[32m    484\u001b[39m     num_repetitions=num_repetitions,\n\u001b[32m    485\u001b[39m     runs=runs,\n\u001b[32m    486\u001b[39m     include_attachments=num_include_attachments > \u001b[32m0\u001b[39m,\n\u001b[32m    487\u001b[39m     reuse_attachments=num_repetitions * num_include_attachments > \u001b[32m1\u001b[39m,\n\u001b[32m    488\u001b[39m     upload_results=upload_results,\n\u001b[32m    489\u001b[39m     error_handling=error_handling,\n\u001b[32m    490\u001b[39m ).astart()\n\u001b[32m    491\u001b[39m cache_dir = ls_utils.get_cache_dir(\u001b[38;5;28;01mNone\u001b[39;00m)\n\u001b[32m    492\u001b[39m \u001b[38;5;28;01mif\u001b[39;00m cache_dir \u001b[38;5;129;01mis\u001b[39;00m \u001b[38;5;129;01mnot\u001b[39;00m \u001b[38;5;28;01mNone\u001b[39;00m:\n",
      "\u001b[36mFile \u001b[39m\u001b[32m/opt/conda/lib/python3.12/site-packages/langsmith/evaluation/_arunner.py:712\u001b[39m, in \u001b[36m_AsyncExperimentManager.astart\u001b[39m\u001b[34m(self)\u001b[39m\n\u001b[32m    710\u001b[39m \u001b[38;5;28;01masync\u001b[39;00m \u001b[38;5;28;01mdef\u001b[39;00m\u001b[38;5;250m \u001b[39m\u001b[34mastart\u001b[39m(\u001b[38;5;28mself\u001b[39m) -> _AsyncExperimentManager:\n\u001b[32m    711\u001b[39m     \u001b[38;5;28;01mtry\u001b[39;00m:\n\u001b[32m--> \u001b[39m\u001b[32m712\u001b[39m         first_example = \u001b[38;5;28;01mawait\u001b[39;00m aitertools.py_anext(\u001b[38;5;28;01mawait\u001b[39;00m \u001b[38;5;28mself\u001b[39m.aget_examples())\n\u001b[32m    713\u001b[39m     \u001b[38;5;28;01mexcept\u001b[39;00m \u001b[38;5;167;01mStopAsyncIteration\u001b[39;00m:\n\u001b[32m    714\u001b[39m         \u001b[38;5;28;01mraise\u001b[39;00m \u001b[38;5;167;01mValueError\u001b[39;00m(\n\u001b[32m    715\u001b[39m             \u001b[33m\"\u001b[39m\u001b[33mNo examples found in the dataset. \u001b[39m\u001b[33m\"\u001b[39m\n\u001b[32m    716\u001b[39m             \u001b[33m\"\u001b[39m\u001b[33mPlease ensure the data provided to aevaluate is not empty.\u001b[39m\u001b[33m\"\u001b[39m\n\u001b[32m    717\u001b[39m         )\n",
      "\u001b[36mFile \u001b[39m\u001b[32m/opt/conda/lib/python3.12/site-packages/langsmith/_internal/_aiter.py:103\u001b[39m, in \u001b[36mtee_peer\u001b[39m\u001b[34m(iterator, buffer, peers, lock)\u001b[39m\n\u001b[32m    101\u001b[39m     \u001b[38;5;28;01mcontinue\u001b[39;00m\n\u001b[32m    102\u001b[39m \u001b[38;5;28;01mtry\u001b[39;00m:\n\u001b[32m--> \u001b[39m\u001b[32m103\u001b[39m     item = \u001b[38;5;28;01mawait\u001b[39;00m iterator.\u001b[34m__anext__\u001b[39m()\n\u001b[32m    104\u001b[39m \u001b[38;5;28;01mexcept\u001b[39;00m \u001b[38;5;167;01mStopAsyncIteration\u001b[39;00m:\n\u001b[32m    105\u001b[39m     \u001b[38;5;28;01mbreak\u001b[39;00m\n",
      "\u001b[36mFile \u001b[39m\u001b[32m/opt/conda/lib/python3.12/site-packages/langsmith/_internal/_aiter.py:244\u001b[39m, in \u001b[36mensure_async_iterator.<locals>.AsyncIteratorWrapper.__anext__\u001b[39m\u001b[34m(self)\u001b[39m\n\u001b[32m    242\u001b[39m \u001b[38;5;28;01masync\u001b[39;00m \u001b[38;5;28;01mdef\u001b[39;00m\u001b[38;5;250m \u001b[39m\u001b[34m__anext__\u001b[39m(\u001b[38;5;28mself\u001b[39m):\n\u001b[32m    243\u001b[39m     \u001b[38;5;28;01mtry\u001b[39;00m:\n\u001b[32m--> \u001b[39m\u001b[32m244\u001b[39m         \u001b[38;5;28;01mreturn\u001b[39;00m \u001b[38;5;28;43mnext\u001b[39;49m\u001b[43m(\u001b[49m\u001b[38;5;28;43mself\u001b[39;49m\u001b[43m.\u001b[49m\u001b[43m_iterator\u001b[49m\u001b[43m)\u001b[49m\n\u001b[32m    245\u001b[39m     \u001b[38;5;28;01mexcept\u001b[39;00m \u001b[38;5;167;01mStopIteration\u001b[39;00m:\n\u001b[32m    246\u001b[39m         \u001b[38;5;28;01mraise\u001b[39;00m \u001b[38;5;167;01mStopAsyncIteration\u001b[39;00m\n",
      "\u001b[36mFile \u001b[39m\u001b[32m/opt/conda/lib/python3.12/site-packages/langsmith/client.py:4903\u001b[39m, in \u001b[36mClient.list_examples\u001b[39m\u001b[34m(self, dataset_id, dataset_name, example_ids, as_of, splits, inline_s3_urls, offset, limit, metadata, filter, include_attachments, **kwargs)\u001b[39m\n\u001b[32m   4901\u001b[39m     params[\u001b[33m\"\u001b[39m\u001b[33mdataset\u001b[39m\u001b[33m\"\u001b[39m] = dataset_id\n\u001b[32m   4902\u001b[39m \u001b[38;5;28;01melif\u001b[39;00m dataset_name \u001b[38;5;129;01mis\u001b[39;00m \u001b[38;5;129;01mnot\u001b[39;00m \u001b[38;5;28;01mNone\u001b[39;00m:\n\u001b[32m-> \u001b[39m\u001b[32m4903\u001b[39m     dataset_id = \u001b[38;5;28;43mself\u001b[39;49m\u001b[43m.\u001b[49m\u001b[43mread_dataset\u001b[49m\u001b[43m(\u001b[49m\u001b[43mdataset_name\u001b[49m\u001b[43m=\u001b[49m\u001b[43mdataset_name\u001b[49m\u001b[43m)\u001b[49m.id\n\u001b[32m   4904\u001b[39m     params[\u001b[33m\"\u001b[39m\u001b[33mdataset\u001b[39m\u001b[33m\"\u001b[39m] = dataset_id\n\u001b[32m   4905\u001b[39m \u001b[38;5;28;01melse\u001b[39;00m:\n",
      "\u001b[36mFile \u001b[39m\u001b[32m/opt/conda/lib/python3.12/site-packages/langsmith/utils.py:142\u001b[39m, in \u001b[36mxor_args.<locals>.decorator.<locals>.wrapper\u001b[39m\u001b[34m(*args, **kwargs)\u001b[39m\n\u001b[32m    136\u001b[39m     invalid_group_names = [\u001b[33m\"\u001b[39m\u001b[33m, \u001b[39m\u001b[33m\"\u001b[39m.join(arg_groups[i]) \u001b[38;5;28;01mfor\u001b[39;00m i \u001b[38;5;129;01min\u001b[39;00m invalid_groups]\n\u001b[32m    137\u001b[39m     \u001b[38;5;28;01mraise\u001b[39;00m \u001b[38;5;167;01mValueError\u001b[39;00m(\n\u001b[32m    138\u001b[39m         \u001b[33m\"\u001b[39m\u001b[33mExactly one argument in each of the following\u001b[39m\u001b[33m\"\u001b[39m\n\u001b[32m    139\u001b[39m         \u001b[33m\"\u001b[39m\u001b[33m groups must be defined:\u001b[39m\u001b[33m\"\u001b[39m\n\u001b[32m    140\u001b[39m         \u001b[33mf\u001b[39m\u001b[33m\"\u001b[39m\u001b[33m \u001b[39m\u001b[38;5;132;01m{\u001b[39;00m\u001b[33m'\u001b[39m\u001b[33m, \u001b[39m\u001b[33m'\u001b[39m.join(invalid_group_names)\u001b[38;5;132;01m}\u001b[39;00m\u001b[33m\"\u001b[39m\n\u001b[32m    141\u001b[39m     )\n\u001b[32m--> \u001b[39m\u001b[32m142\u001b[39m \u001b[38;5;28;01mreturn\u001b[39;00m \u001b[43mfunc\u001b[49m\u001b[43m(\u001b[49m\u001b[43m*\u001b[49m\u001b[43margs\u001b[49m\u001b[43m,\u001b[49m\u001b[43m \u001b[49m\u001b[43m*\u001b[49m\u001b[43m*\u001b[49m\u001b[43mkwargs\u001b[49m\u001b[43m)\u001b[49m\n",
      "\u001b[36mFile \u001b[39m\u001b[32m/opt/conda/lib/python3.12/site-packages/langsmith/client.py:3498\u001b[39m, in \u001b[36mClient.read_dataset\u001b[39m\u001b[34m(self, dataset_name, dataset_id)\u001b[39m\n\u001b[32m   3496\u001b[39m \u001b[38;5;28;01melse\u001b[39;00m:\n\u001b[32m   3497\u001b[39m     \u001b[38;5;28;01mraise\u001b[39;00m \u001b[38;5;167;01mValueError\u001b[39;00m(\u001b[33m\"\u001b[39m\u001b[33mMust provide dataset_name or dataset_id\u001b[39m\u001b[33m\"\u001b[39m)\n\u001b[32m-> \u001b[39m\u001b[32m3498\u001b[39m response = \u001b[38;5;28;43mself\u001b[39;49m\u001b[43m.\u001b[49m\u001b[43mrequest_with_retries\u001b[49m\u001b[43m(\u001b[49m\n\u001b[32m   3499\u001b[39m \u001b[43m    \u001b[49m\u001b[33;43m\"\u001b[39;49m\u001b[33;43mGET\u001b[39;49m\u001b[33;43m\"\u001b[39;49m\u001b[43m,\u001b[49m\n\u001b[32m   3500\u001b[39m \u001b[43m    \u001b[49m\u001b[43mpath\u001b[49m\u001b[43m,\u001b[49m\n\u001b[32m   3501\u001b[39m \u001b[43m    \u001b[49m\u001b[43mparams\u001b[49m\u001b[43m=\u001b[49m\u001b[43mparams\u001b[49m\u001b[43m,\u001b[49m\n\u001b[32m   3502\u001b[39m \u001b[43m\u001b[49m\u001b[43m)\u001b[49m\n\u001b[32m   3503\u001b[39m result = response.json()\n\u001b[32m   3504\u001b[39m \u001b[38;5;28;01mif\u001b[39;00m \u001b[38;5;28misinstance\u001b[39m(result, \u001b[38;5;28mlist\u001b[39m):\n",
      "\u001b[36mFile \u001b[39m\u001b[32m/opt/conda/lib/python3.12/site-packages/langsmith/client.py:875\u001b[39m, in \u001b[36mClient.request_with_retries\u001b[39m\u001b[34m(self, method, pathname, request_kwargs, stop_after_attempt, retry_on, to_ignore, handle_response, _context, **kwargs)\u001b[39m\n\u001b[32m    870\u001b[39m     \u001b[38;5;28;01mraise\u001b[39;00m ls_utils.LangSmithRateLimitError(\n\u001b[32m    871\u001b[39m         \u001b[33mf\u001b[39m\u001b[33m\"\u001b[39m\u001b[33mRate limit exceeded for \u001b[39m\u001b[38;5;132;01m{\u001b[39;00mpathname\u001b[38;5;132;01m}\u001b[39;00m\u001b[33m. \u001b[39m\u001b[38;5;132;01m{\u001b[39;00m\u001b[38;5;28mrepr\u001b[39m(e)\u001b[38;5;132;01m}\u001b[39;00m\u001b[33m\"\u001b[39m\n\u001b[32m    872\u001b[39m         \u001b[33mf\u001b[39m\u001b[33m\"\u001b[39m\u001b[38;5;132;01m{\u001b[39;00m_context\u001b[38;5;132;01m}\u001b[39;00m\u001b[33m\"\u001b[39m\n\u001b[32m    873\u001b[39m     )\n\u001b[32m    874\u001b[39m \u001b[38;5;28;01melif\u001b[39;00m response.status_code == \u001b[32m401\u001b[39m:\n\u001b[32m--> \u001b[39m\u001b[32m875\u001b[39m     \u001b[38;5;28;01mraise\u001b[39;00m ls_utils.LangSmithAuthError(\n\u001b[32m    876\u001b[39m         \u001b[33mf\u001b[39m\u001b[33m\"\u001b[39m\u001b[33mAuthentication failed for \u001b[39m\u001b[38;5;132;01m{\u001b[39;00mpathname\u001b[38;5;132;01m}\u001b[39;00m\u001b[33m. \u001b[39m\u001b[38;5;132;01m{\u001b[39;00m\u001b[38;5;28mrepr\u001b[39m(e)\u001b[38;5;132;01m}\u001b[39;00m\u001b[33m\"\u001b[39m\n\u001b[32m    877\u001b[39m         \u001b[33mf\u001b[39m\u001b[33m\"\u001b[39m\u001b[38;5;132;01m{\u001b[39;00m_context\u001b[38;5;132;01m}\u001b[39;00m\u001b[33m\"\u001b[39m\n\u001b[32m    878\u001b[39m     )\n\u001b[32m    879\u001b[39m \u001b[38;5;28;01melif\u001b[39;00m response.status_code == \u001b[32m404\u001b[39m:\n\u001b[32m    880\u001b[39m     \u001b[38;5;28;01mraise\u001b[39;00m ls_utils.LangSmithNotFoundError(\n\u001b[32m    881\u001b[39m         \u001b[33mf\u001b[39m\u001b[33m\"\u001b[39m\u001b[33mResource not found for \u001b[39m\u001b[38;5;132;01m{\u001b[39;00mpathname\u001b[38;5;132;01m}\u001b[39;00m\u001b[33m. \u001b[39m\u001b[38;5;132;01m{\u001b[39;00m\u001b[38;5;28mrepr\u001b[39m(e)\u001b[38;5;132;01m}\u001b[39;00m\u001b[33m\"\u001b[39m\n\u001b[32m    882\u001b[39m         \u001b[33mf\u001b[39m\u001b[33m\"\u001b[39m\u001b[38;5;132;01m{\u001b[39;00m_context\u001b[38;5;132;01m}\u001b[39;00m\u001b[33m\"\u001b[39m\n\u001b[32m    883\u001b[39m     )\n",
      "\u001b[31mLangSmithAuthError\u001b[39m: Authentication failed for /datasets. HTTPError('401 Client Error: Unauthorized for url: https://api.smith.langchain.com/datasets?limit=1&name=weather+agent', '{\"detail\":\"Invalid token\"}')"
     ]
    }
   ],
   "source": [
    "from langsmith import aevaluate\n",
    "\n",
    "def example_to_state(inputs: dict) -> dict:\n",
    "  return {\"messages\": [{\"role\": \"user\", \"content\": inputs['question']}]}\n",
    "\n",
    "# We use LCEL declarative syntax here.\n",
    "# Remember that langgraph graphs are also langchain runnables.\n",
    "target = example_to_state | app\n",
    "\n",
    "experiment_results = await aevaluate(\n",
    "    target,\n",
    "    data=\"weather agent\",\n",
    "    evaluators=[correct],\n",
    "    max_concurrency=4,  # optional\n",
    "    experiment_prefix=\"gpt-4o-mini\",  # optional\n",
    ")"
   ]
  },
  {
   "cell_type": "code",
   "execution_count": null,
   "id": "5a0571bb-777d-4309-8671-e02b82e688e7",
   "metadata": {},
   "outputs": [],
   "source": []
  }
 ],
 "metadata": {
  "kernelspec": {
   "display_name": "Python 3 (ipykernel)",
   "language": "python",
   "name": "python3"
  },
  "language_info": {
   "codemirror_mode": {
    "name": "ipython",
    "version": 3
   },
   "file_extension": ".py",
   "mimetype": "text/x-python",
   "name": "python",
   "nbconvert_exporter": "python",
   "pygments_lexer": "ipython3",
   "version": "3.12.9"
  }
 },
 "nbformat": 4,
 "nbformat_minor": 5
}
