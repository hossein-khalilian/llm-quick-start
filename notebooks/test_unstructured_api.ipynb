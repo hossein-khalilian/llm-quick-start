{
 "cells": [
  {
   "cell_type": "code",
   "execution_count": 1,
   "id": "a88db964-0d90-4a99-9230-d6b7ec115c46",
   "metadata": {
    "execution": {
     "iopub.execute_input": "2025-09-09T07:34:41.074612Z",
     "iopub.status.busy": "2025-09-09T07:34:41.074207Z",
     "iopub.status.idle": "2025-09-09T07:34:41.097744Z",
     "shell.execute_reply": "2025-09-09T07:34:41.094621Z",
     "shell.execute_reply.started": "2025-09-09T07:34:41.074587Z"
    }
   },
   "outputs": [
    {
     "data": {
      "text/plain": [
       "True"
      ]
     },
     "execution_count": 1,
     "metadata": {},
     "output_type": "execute_result"
    }
   ],
   "source": [
    "from dotenv import load_dotenv\n",
    "load_dotenv()"
   ]
  },
  {
   "cell_type": "code",
   "execution_count": 2,
   "id": "ca6ab8df-e23d-432c-8ff0-cd68a1be16bb",
   "metadata": {
    "execution": {
     "iopub.execute_input": "2025-09-09T07:34:41.178059Z",
     "iopub.status.busy": "2025-09-09T07:34:41.177708Z",
     "iopub.status.idle": "2025-09-09T07:34:41.181524Z",
     "shell.execute_reply": "2025-09-09T07:34:41.180860Z",
     "shell.execute_reply.started": "2025-09-09T07:34:41.178032Z"
    }
   },
   "outputs": [],
   "source": [
    "# Install package, compatible with API partitioning\n",
    "# %pip install --upgrade langchain-unstructured unstructured-client unstructured \"unstructured[pdf]\" python-magic"
   ]
  },
  {
   "cell_type": "code",
   "execution_count": 3,
   "id": "a3d752ab-59d4-4a0b-8933-9c51d35f99ce",
   "metadata": {
    "execution": {
     "iopub.execute_input": "2025-09-09T07:34:53.752076Z",
     "iopub.status.busy": "2025-09-09T07:34:53.749164Z",
     "iopub.status.idle": "2025-09-09T07:35:09.260213Z",
     "shell.execute_reply": "2025-09-09T07:35:09.259552Z",
     "shell.execute_reply.started": "2025-09-09T07:34:53.751997Z"
    }
   },
   "outputs": [
    {
     "name": "stderr",
     "output_type": "stream",
     "text": [
      "INFO: pikepdf C++ to Python logger bridge initialized\n"
     ]
    },
    {
     "name": "stdout",
     "output_type": "stream",
     "text": [
      "Warning: No languages specified, defaulting to English.\n"
     ]
    }
   ],
   "source": [
    "from langchain_unstructured import UnstructuredLoader\n",
    "\n",
    "file_paths = [\n",
    "    \"/home/jovyan/projects/data/helpkasra.pdf\",\n",
    "]\n",
    "\n",
    "\n",
    "loader = UnstructuredLoader(file_paths)\n",
    "docs = loader.load()"
   ]
  },
  {
   "cell_type": "code",
   "execution_count": null,
   "id": "deff8a33-8a95-4c78-a5a6-50919816c852",
   "metadata": {},
   "outputs": [],
   "source": []
  }
 ],
 "metadata": {
  "kernelspec": {
   "display_name": "Python 3 (ipykernel)",
   "language": "python",
   "name": "python3"
  },
  "language_info": {
   "codemirror_mode": {
    "name": "ipython",
    "version": 3
   },
   "file_extension": ".py",
   "mimetype": "text/x-python",
   "name": "python",
   "nbconvert_exporter": "python",
   "pygments_lexer": "ipython3",
   "version": "3.12.9"
  }
 },
 "nbformat": 4,
 "nbformat_minor": 5
}
