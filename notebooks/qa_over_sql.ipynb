{
 "cells": [
  {
   "cell_type": "markdown",
   "id": "311f633a-f56e-46a6-bbd5-2ebad41301d7",
   "metadata": {
    "jp-MarkdownHeadingCollapsed": true
   },
   "source": [
    "# setup"
   ]
  },
  {
   "cell_type": "code",
   "execution_count": 4,
   "id": "b0df31c5-1da8-410b-bf4c-f8ba13620f2a",
   "metadata": {
    "execution": {
     "iopub.execute_input": "2025-05-26T11:45:40.866586Z",
     "iopub.status.busy": "2025-05-26T11:45:40.866260Z",
     "iopub.status.idle": "2025-05-26T11:45:40.875204Z",
     "shell.execute_reply": "2025-05-26T11:45:40.874140Z",
     "shell.execute_reply.started": "2025-05-26T11:45:40.866563Z"
    }
   },
   "outputs": [
    {
     "data": {
      "text/plain": [
       "True"
      ]
     },
     "execution_count": 4,
     "metadata": {},
     "output_type": "execute_result"
    }
   ],
   "source": [
    "from dotenv import load_dotenv\n",
    "load_dotenv()"
   ]
  },
  {
   "cell_type": "code",
   "execution_count": 5,
   "id": "1337dd71-0440-4309-a6ca-c4a73110190e",
   "metadata": {
    "execution": {
     "iopub.execute_input": "2025-05-26T11:45:41.331451Z",
     "iopub.status.busy": "2025-05-26T11:45:41.331147Z",
     "iopub.status.idle": "2025-05-26T11:45:43.267762Z",
     "shell.execute_reply": "2025-05-26T11:45:43.266994Z",
     "shell.execute_reply.started": "2025-05-26T11:45:41.331427Z"
    }
   },
   "outputs": [],
   "source": [
    "import getpass\n",
    "import os\n",
    "\n",
    "if not os.environ.get(\"OPENAI_API_KEY\"):\n",
    "  os.environ[\"OPENAI_API_KEY\"] = getpass.getpass(\"Enter API key for OpenAI: \")\n",
    "\n",
    "from langchain.chat_models import init_chat_model\n",
    "\n",
    "llm = init_chat_model(\"gpt-4o-mini\", model_provider=\"openai\")"
   ]
  },
  {
   "cell_type": "code",
   "execution_count": 1,
   "id": "89ebeed5-1281-4de9-abeb-5694a1bfe76e",
   "metadata": {
    "execution": {
     "iopub.execute_input": "2025-05-26T11:37:19.827816Z",
     "iopub.status.busy": "2025-05-26T11:37:19.827517Z",
     "iopub.status.idle": "2025-05-26T11:37:20.464195Z",
     "shell.execute_reply": "2025-05-26T11:37:20.463508Z",
     "shell.execute_reply.started": "2025-05-26T11:37:19.827790Z"
    }
   },
   "outputs": [
    {
     "name": "stdout",
     "output_type": "stream",
     "text": [
      "sqlite\n",
      "['Album', 'Artist', 'Customer', 'Employee', 'Genre', 'Invoice', 'InvoiceLine', 'MediaType', 'Playlist', 'PlaylistTrack', 'Track']\n"
     ]
    },
    {
     "data": {
      "text/plain": [
       "\"[(1, 'AC/DC'), (2, 'Accept'), (3, 'Aerosmith'), (4, 'Alanis Morissette'), (5, 'Alice In Chains'), (6, 'Antônio Carlos Jobim'), (7, 'Apocalyptica'), (8, 'Audioslave'), (9, 'BackBeat'), (10, 'Billy Cobham')]\""
      ]
     },
     "execution_count": 1,
     "metadata": {},
     "output_type": "execute_result"
    }
   ],
   "source": [
    "from langchain_community.utilities import SQLDatabase\n",
    "\n",
    "db = SQLDatabase.from_uri(\"sqlite:///Chinook.db\")\n",
    "print(db.dialect)\n",
    "print(db.get_usable_table_names())\n",
    "db.run(\"SELECT * FROM Artist LIMIT 10;\")"
   ]
  },
  {
   "cell_type": "markdown",
   "id": "21fcd437-35f4-4253-b4ae-7df4065b1fbd",
   "metadata": {
    "jp-MarkdownHeadingCollapsed": true
   },
   "source": [
    "# prompt"
   ]
  },
  {
   "cell_type": "code",
   "execution_count": 7,
   "id": "ed19bdb8-15a6-4da9-9b4b-44f0cde2f063",
   "metadata": {
    "execution": {
     "iopub.execute_input": "2025-05-26T11:46:02.109258Z",
     "iopub.status.busy": "2025-05-26T11:46:02.108911Z",
     "iopub.status.idle": "2025-05-26T11:46:02.188536Z",
     "shell.execute_reply": "2025-05-26T11:46:02.187861Z",
     "shell.execute_reply.started": "2025-05-26T11:46:02.109233Z"
    }
   },
   "outputs": [
    {
     "name": "stdout",
     "output_type": "stream",
     "text": [
      "================================\u001b[1m System Message \u001b[0m================================\n",
      "\n",
      "\n",
      "Given an input question, create a syntactically correct \u001b[33;1m\u001b[1;3m{dialect}\u001b[0m query to\n",
      "run to help find the answer. Unless the user specifies in his question a\n",
      "specific number of examples they wish to obtain, always limit your query to\n",
      "at most \u001b[33;1m\u001b[1;3m{top_k}\u001b[0m results. You can order the results by a relevant column to\n",
      "return the most interesting examples in the database.\n",
      "\n",
      "Never query for all the columns from a specific table, only ask for a the\n",
      "few relevant columns given the question.\n",
      "\n",
      "Pay attention to use only the column names that you can see in the schema\n",
      "description. Be careful to not query for columns that do not exist. Also,\n",
      "pay attention to which column is in which table.\n",
      "\n",
      "Only use the following tables:\n",
      "\u001b[33;1m\u001b[1;3m{table_info}\u001b[0m\n",
      "\n",
      "================================\u001b[1m Human Message \u001b[0m=================================\n",
      "\n",
      "Question: \u001b[33;1m\u001b[1;3m{input}\u001b[0m\n"
     ]
    }
   ],
   "source": [
    "from langchain_core.prompts import ChatPromptTemplate\n",
    "\n",
    "system_message = \"\"\"\n",
    "Given an input question, create a syntactically correct {dialect} query to\n",
    "run to help find the answer. Unless the user specifies in his question a\n",
    "specific number of examples they wish to obtain, always limit your query to\n",
    "at most {top_k} results. You can order the results by a relevant column to\n",
    "return the most interesting examples in the database.\n",
    "\n",
    "Never query for all the columns from a specific table, only ask for a\n",
    "few relevant columns given the question.\n",
    "\n",
    "Pay attention to use only the column names that you can see in the schema\n",
    "description. Be careful to not query for columns that do not exist. Also,\n",
    "pay attention to which column is in which table.\n",
    "\n",
    "Only use the following tables:\n",
    "{table_info}\n",
    "\"\"\"\n",
    "\n",
    "user_prompt = \"Question: {input}\"\n",
    "\n",
    "query_prompt_template = ChatPromptTemplate(\n",
    "    [(\"system\", system_message), (\"user\", user_prompt)]\n",
    ")\n",
    "\n",
    "for message in query_prompt_template.messages:\n",
    "    message.pretty_print()"
   ]
  },
  {
   "cell_type": "markdown",
   "id": "27c99e39-7b94-4819-819a-cb6d89e421b0",
   "metadata": {
    "jp-MarkdownHeadingCollapsed": true
   },
   "source": [
    "# graph"
   ]
  },
  {
   "cell_type": "code",
   "execution_count": 15,
   "id": "40dca1fa-42f5-4d05-8c65-b7ecac01dd6b",
   "metadata": {
    "execution": {
     "iopub.execute_input": "2025-05-26T11:56:18.040838Z",
     "iopub.status.busy": "2025-05-26T11:56:18.040468Z",
     "iopub.status.idle": "2025-05-26T11:56:18.056969Z",
     "shell.execute_reply": "2025-05-26T11:56:18.055255Z",
     "shell.execute_reply.started": "2025-05-26T11:56:18.040808Z"
    }
   },
   "outputs": [],
   "source": [
    "from typing_extensions import TypedDict\n",
    "from typing_extensions import Annotated\n",
    "from langchain_community.tools.sql_database.tool import QuerySQLDatabaseTool\n",
    "\n",
    "\n",
    "class QueryOutput(TypedDict):\n",
    "    \"\"\"Generated SQL query.\"\"\"\n",
    "    query: Annotated[str, ..., \"Syntactically valid SQL query.\"]\n",
    "\n",
    "class State(TypedDict):\n",
    "    question: str\n",
    "    query: str\n",
    "    result: str\n",
    "    answer: str\n",
    "\n",
    "def write_query(state: State):\n",
    "    \"\"\"Generate SQL query to fetch information.\"\"\"\n",
    "    prompt = query_prompt_template.invoke(\n",
    "        {\n",
    "            \"dialect\": db.dialect,\n",
    "            \"top_k\": 10,\n",
    "            \"table_info\": db.get_table_info(),\n",
    "            \"input\": state[\"question\"],\n",
    "        }\n",
    "    )\n",
    "    structured_llm = llm.with_structured_output(QueryOutput)\n",
    "    result = structured_llm.invoke(prompt)\n",
    "    return {\"query\": result[\"query\"]}\n",
    "\n",
    "\n",
    "def execute_query(state: State):\n",
    "    \"\"\"Execute SQL query.\"\"\"\n",
    "    execute_query_tool = QuerySQLDatabaseTool(db=db)\n",
    "    return {\"result\": execute_query_tool.invoke(state[\"query\"])}\n",
    "\n",
    "def generate_answer(state: State):\n",
    "    \"\"\"Answer question using retrieved information as context.\"\"\"\n",
    "    prompt = (\n",
    "        \"Given the following user question, corresponding SQL query, \"\n",
    "        \"and SQL result, answer the user question.\\n\\n\"\n",
    "        f'Question: {state[\"question\"]}\\n'\n",
    "        f'SQL Query: {state[\"query\"]}\\n'\n",
    "        f'SQL Result: {state[\"result\"]}'\n",
    "    )\n",
    "    response = llm.invoke(prompt)\n",
    "    return {\"answer\": response.content}"
   ]
  },
  {
   "cell_type": "code",
   "execution_count": 13,
   "id": "4117fa07-222b-47cf-a9dc-647840093128",
   "metadata": {
    "execution": {
     "iopub.execute_input": "2025-05-26T11:55:38.324232Z",
     "iopub.status.busy": "2025-05-26T11:55:38.323960Z",
     "iopub.status.idle": "2025-05-26T11:55:41.086545Z",
     "shell.execute_reply": "2025-05-26T11:55:41.085768Z",
     "shell.execute_reply.started": "2025-05-26T11:55:38.324210Z"
    }
   },
   "outputs": [
    {
     "data": {
      "text/plain": [
       "{'query': 'SELECT COUNT(EmployeeId) AS TotalEmployees FROM Employee;'}"
      ]
     },
     "execution_count": 13,
     "metadata": {},
     "output_type": "execute_result"
    }
   ],
   "source": [
    "write_query({\"question\": \"How many Employees are there?\"})"
   ]
  },
  {
   "cell_type": "code",
   "execution_count": 14,
   "id": "fca26a65-bd54-40e0-8eed-0f0dc5f6f184",
   "metadata": {
    "execution": {
     "iopub.execute_input": "2025-05-26T11:55:59.727582Z",
     "iopub.status.busy": "2025-05-26T11:55:59.727207Z",
     "iopub.status.idle": "2025-05-26T11:55:59.736326Z",
     "shell.execute_reply": "2025-05-26T11:55:59.735421Z",
     "shell.execute_reply.started": "2025-05-26T11:55:59.727554Z"
    }
   },
   "outputs": [
    {
     "data": {
      "text/plain": [
       "{'result': '[(8,)]'}"
      ]
     },
     "execution_count": 14,
     "metadata": {},
     "output_type": "execute_result"
    }
   ],
   "source": [
    "execute_query({\"query\": \"SELECT COUNT(EmployeeId) AS EmployeeCount FROM Employee;\"})"
   ]
  },
  {
   "cell_type": "code",
   "execution_count": 17,
   "id": "3ee27137-1810-41df-8ed4-d5f6031799af",
   "metadata": {
    "execution": {
     "iopub.execute_input": "2025-05-26T11:57:07.475402Z",
     "iopub.status.busy": "2025-05-26T11:57:07.474936Z",
     "iopub.status.idle": "2025-05-26T11:57:08.911877Z",
     "shell.execute_reply": "2025-05-26T11:57:08.911094Z",
     "shell.execute_reply.started": "2025-05-26T11:57:07.475376Z"
    }
   },
   "outputs": [
    {
     "data": {
      "image/png": "[encoded data removed]",
      "text/plain": [
       "<langgraph.graph.state.CompiledStateGraph object at 0x7813e8136000>"
      ]
     },
     "execution_count": 17,
     "metadata": {},
     "output_type": "execute_result"
    }
   ],
   "source": [
    "from langgraph.graph import START, StateGraph\n",
    "\n",
    "graph_builder = StateGraph(State).add_sequence(\n",
    "    [write_query, execute_query, generate_answer]\n",
    ")\n",
    "graph_builder.add_edge(START, \"write_query\")\n",
    "graph = graph_builder.compile()\n",
    "\n",
    "graph"
   ]
  },
  {
   "cell_type": "markdown",
   "id": "169212dd-edf7-49aa-b7d6-5dbbe3849e89",
   "metadata": {
    "jp-MarkdownHeadingCollapsed": true
   },
   "source": [
    "# usage"
   ]
  },
  {
   "cell_type": "code",
   "execution_count": 18,
   "id": "4548c952-1b5e-4767-ba41-c03ace28a763",
   "metadata": {
    "execution": {
     "iopub.execute_input": "2025-05-26T11:57:26.096981Z",
     "iopub.status.busy": "2025-05-26T11:57:26.096681Z",
     "iopub.status.idle": "2025-05-26T11:57:33.406917Z",
     "shell.execute_reply": "2025-05-26T11:57:33.405749Z",
     "shell.execute_reply.started": "2025-05-26T11:57:26.096959Z"
    }
   },
   "outputs": [
    {
     "name": "stdout",
     "output_type": "stream",
     "text": [
      "{'write_query': {'query': 'SELECT COUNT(EmployeeId) AS EmployeeCount FROM Employee;'}}\n",
      "{'execute_query': {'result': '[(8,)]'}}\n",
      "{'generate_answer': {'answer': 'There are 8 employees.'}}\n"
     ]
    }
   ],
   "source": [
    "for step in graph.stream(\n",
    "    {\"question\": \"How many employees are there?\"}, stream_mode=\"updates\"\n",
    "):\n",
    "    print(step)"
   ]
  },
  {
   "cell_type": "markdown",
   "id": "33845547-7ce4-4dbc-9466-ab18ad62feab",
   "metadata": {
    "jp-MarkdownHeadingCollapsed": true
   },
   "source": [
    "# human in the loop"
   ]
  },
  {
   "cell_type": "code",
   "execution_count": 20,
   "id": "0b5e098b-3751-4bc5-b372-5061315907b3",
   "metadata": {
    "execution": {
     "iopub.execute_input": "2025-05-26T11:58:50.640872Z",
     "iopub.status.busy": "2025-05-26T11:58:50.640588Z",
     "iopub.status.idle": "2025-05-26T11:58:51.824646Z",
     "shell.execute_reply": "2025-05-26T11:58:51.823852Z",
     "shell.execute_reply.started": "2025-05-26T11:58:50.640845Z"
    }
   },
   "outputs": [
    {
     "data": {
      "image/png": "[encoded data removed]",
      "text/plain": [
       "<langgraph.graph.state.CompiledStateGraph object at 0x7813dfdbc410>"
      ]
     },
     "execution_count": 20,
     "metadata": {},
     "output_type": "execute_result"
    }
   ],
   "source": [
    "from langgraph.checkpoint.memory import MemorySaver\n",
    "\n",
    "memory = MemorySaver()\n",
    "graph = graph_builder.compile(checkpointer=memory, interrupt_before=[\"execute_query\"])\n",
    "graph"
   ]
  },
  {
   "cell_type": "code",
   "execution_count": 21,
   "id": "6065ba59-4edc-47e0-a415-46b0f73f1e47",
   "metadata": {
    "execution": {
     "iopub.execute_input": "2025-05-26T11:58:56.650223Z",
     "iopub.status.busy": "2025-05-26T11:58:56.649942Z",
     "iopub.status.idle": "2025-05-26T11:58:56.658057Z",
     "shell.execute_reply": "2025-05-26T11:58:56.657000Z",
     "shell.execute_reply.started": "2025-05-26T11:58:56.650200Z"
    }
   },
   "outputs": [],
   "source": [
    "# Now that we're using persistence, we need to specify a thread ID\n",
    "# so that we can continue the run after review.\n",
    "config = {\"configurable\": {\"thread_id\": \"1\"}}"
   ]
  },
  {
   "cell_type": "code",
   "execution_count": 23,
   "id": "c284ad18-e31f-4707-83f1-0a9b724df28b",
   "metadata": {
    "execution": {
     "iopub.execute_input": "2025-05-26T11:59:38.639311Z",
     "iopub.status.busy": "2025-05-26T11:59:38.639009Z",
     "iopub.status.idle": "2025-05-26T11:59:44.537215Z",
     "shell.execute_reply": "2025-05-26T11:59:44.536571Z",
     "shell.execute_reply.started": "2025-05-26T11:59:38.639286Z"
    }
   },
   "outputs": [
    {
     "name": "stdout",
     "output_type": "stream",
     "text": [
      "{'write_query': {'query': 'SELECT COUNT(EmployeeId) AS EmployeeCount FROM Employee;'}}\n",
      "{'__interrupt__': ()}\n"
     ]
    },
    {
     "name": "stdin",
     "output_type": "stream",
     "text": [
      "Do you want to go to execute query? (yes/no):  yes\n"
     ]
    },
    {
     "name": "stdout",
     "output_type": "stream",
     "text": [
      "{'execute_query': {'result': '[(8,)]'}}\n",
      "{'generate_answer': {'answer': 'There are 8 employees.'}}\n"
     ]
    }
   ],
   "source": [
    "for step in graph.stream(\n",
    "    {\"question\": \"How many employees are there?\"},\n",
    "    config,\n",
    "    stream_mode=\"updates\",\n",
    "):\n",
    "    print(step)\n",
    "\n",
    "try:\n",
    "    user_approval = input(\"Do you want to go to execute query? (yes/no): \")\n",
    "except Exception:\n",
    "    user_approval = \"no\"\n",
    "\n",
    "if user_approval.lower() == \"yes\":\n",
    "    # If approved, continue the graph execution\n",
    "    for step in graph.stream(None, config, stream_mode=\"updates\"):\n",
    "        print(step)\n",
    "else:\n",
    "    print(\"Operation cancelled by user.\")"
   ]
  }
 ],
 "metadata": {
  "kernelspec": {
   "display_name": "Python 3 (ipykernel)",
   "language": "python",
   "name": "python3"
  },
  "language_info": {
   "codemirror_mode": {
    "name": "ipython",
    "version": 3
   },
   "file_extension": ".py",
   "mimetype": "text/x-python",
   "name": "python",
   "nbconvert_exporter": "python",
   "pygments_lexer": "ipython3",
   "version": "3.12.9"
  }
 },
 "nbformat": 4,
 "nbformat_minor": 5
}
