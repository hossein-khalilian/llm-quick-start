{
 "cells": [
  {
   "cell_type": "markdown",
   "id": "311f633a-f56e-46a6-bbd5-2ebad41301d7",
   "metadata": {},
   "source": [
    "# setup"
   ]
  },
  {
   "cell_type": "code",
   "execution_count": 64,
   "id": "afc2d1f0-7be3-47e5-b715-89e723c5f6a5",
   "metadata": {
    "execution": {
     "iopub.execute_input": "2025-05-26T14:16:28.491208Z",
     "iopub.status.busy": "2025-05-26T14:16:28.490857Z",
     "iopub.status.idle": "2025-05-26T14:16:28.497551Z",
     "shell.execute_reply": "2025-05-26T14:16:28.496665Z",
     "shell.execute_reply.started": "2025-05-26T14:16:28.491166Z"
    }
   },
   "outputs": [],
   "source": [
    "# !curl -s https://raw.githubusercontent.com/lerocha/chinook-database/master/ChinookDatabase/DataSources/Chinook_Sqlite.sql | sqlite3 Chinook.db"
   ]
  },
  {
   "cell_type": "code",
   "execution_count": 3,
   "id": "b0df31c5-1da8-410b-bf4c-f8ba13620f2a",
   "metadata": {
    "execution": {
     "iopub.execute_input": "2025-08-18T08:27:49.548755Z",
     "iopub.status.busy": "2025-08-18T08:27:49.548055Z",
     "iopub.status.idle": "2025-08-18T08:27:49.560648Z",
     "shell.execute_reply": "2025-08-18T08:27:49.560006Z",
     "shell.execute_reply.started": "2025-08-18T08:27:49.548719Z"
    }
   },
   "outputs": [
    {
     "data": {
      "text/plain": [
       "True"
      ]
     },
     "execution_count": 3,
     "metadata": {},
     "output_type": "execute_result"
    }
   ],
   "source": [
    "from dotenv import load_dotenv\n",
    "load_dotenv()"
   ]
  },
  {
   "cell_type": "code",
   "execution_count": 4,
   "id": "1337dd71-0440-4309-a6ca-c4a73110190e",
   "metadata": {
    "execution": {
     "iopub.execute_input": "2025-08-18T08:27:53.579957Z",
     "iopub.status.busy": "2025-08-18T08:27:53.579170Z",
     "iopub.status.idle": "2025-08-18T08:27:53.625139Z",
     "shell.execute_reply": "2025-08-18T08:27:53.624552Z",
     "shell.execute_reply.started": "2025-08-18T08:27:53.579890Z"
    }
   },
   "outputs": [],
   "source": [
    "import getpass\n",
    "import os\n",
    "\n",
    "if not os.environ.get(\"OPENAI_API_KEY\"):\n",
    "  os.environ[\"OPENAI_API_KEY\"] = getpass.getpass(\"Enter API key for OpenAI: \")\n",
    "\n",
    "from langchain_openai import OpenAIEmbeddings\n",
    "from langchain.chat_models import init_chat_model\n",
    "\n",
    "llm = init_chat_model(\"gpt-4o-mini\", model_provider=\"openai\")\n",
    "embeddings = OpenAIEmbeddings(model=\"text-embedding-3-large\")\n",
    "\n",
    "from langchain_core.vectorstores import InMemoryVectorStore\n",
    "vector_store = InMemoryVectorStore(embeddings)"
   ]
  },
  {
   "cell_type": "code",
   "execution_count": 6,
   "id": "89ebeed5-1281-4de9-abeb-5694a1bfe76e",
   "metadata": {
    "execution": {
     "iopub.execute_input": "2025-08-18T08:38:10.724053Z",
     "iopub.status.busy": "2025-08-18T08:38:10.723118Z",
     "iopub.status.idle": "2025-08-18T08:38:10.756587Z",
     "shell.execute_reply": "2025-08-18T08:38:10.755452Z",
     "shell.execute_reply.started": "2025-08-18T08:38:10.724020Z"
    }
   },
   "outputs": [
    {
     "name": "stdout",
     "output_type": "stream",
     "text": [
      "sqlite\n",
      "['Album', 'Artist', 'Customer', 'Employee', 'Genre', 'Invoice', 'InvoiceLine', 'MediaType', 'Playlist', 'PlaylistTrack', 'Track']\n"
     ]
    },
    {
     "data": {
      "text/plain": [
       "\"[(1, 'AC/DC'), (2, 'Accept'), (3, 'Aerosmith'), (4, 'Alanis Morissette'), (5, 'Alice In Chains'), (6, 'Antônio Carlos Jobim'), (7, 'Apocalyptica'), (8, 'Audioslave'), (9, 'BackBeat'), (10, 'Billy Cobham')]\""
      ]
     },
     "execution_count": 6,
     "metadata": {},
     "output_type": "execute_result"
    }
   ],
   "source": [
    "from langchain_community.utilities import SQLDatabase\n",
    "\n",
    "db = SQLDatabase.from_uri(\"sqlite:///Chinook.db\")\n",
    "print(db.dialect)\n",
    "print(db.get_usable_table_names())\n",
    "db.run(\"SELECT * FROM Artist LIMIT 10;\")"
   ]
  },
  {
   "cell_type": "markdown",
   "id": "21fcd437-35f4-4253-b4ae-7df4065b1fbd",
   "metadata": {},
   "source": [
    "# prompt"
   ]
  },
  {
   "cell_type": "code",
   "execution_count": 7,
   "id": "ed19bdb8-15a6-4da9-9b4b-44f0cde2f063",
   "metadata": {
    "execution": {
     "iopub.execute_input": "2025-08-18T08:38:30.910388Z",
     "iopub.status.busy": "2025-08-18T08:38:30.909582Z",
     "iopub.status.idle": "2025-08-18T08:38:30.985741Z",
     "shell.execute_reply": "2025-08-18T08:38:30.984870Z",
     "shell.execute_reply.started": "2025-08-18T08:38:30.910318Z"
    }
   },
   "outputs": [
    {
     "name": "stdout",
     "output_type": "stream",
     "text": [
      "================================\u001b[1m System Message \u001b[0m================================\n",
      "\n",
      "\n",
      "Given an input question, create a syntactically correct \u001b[33;1m\u001b[1;3m{dialect}\u001b[0m query to\n",
      "run to help find the answer. Unless the user specifies in his question a\n",
      "specific number of examples they wish to obtain, always limit your query to\n",
      "at most \u001b[33;1m\u001b[1;3m{top_k}\u001b[0m results. You can order the results by a relevant column to\n",
      "return the most interesting examples in the database.\n",
      "\n",
      "Never query for all the columns from a specific table, only ask for a\n",
      "few relevant columns given the question.\n",
      "\n",
      "Pay attention to use only the column names that you can see in the schema\n",
      "description. Be careful to not query for columns that do not exist. Also,\n",
      "pay attention to which column is in which table.\n",
      "\n",
      "Only use the following tables:\n",
      "\u001b[33;1m\u001b[1;3m{table_info}\u001b[0m\n",
      "\n",
      "================================\u001b[1m Human Message \u001b[0m=================================\n",
      "\n",
      "Question: \u001b[33;1m\u001b[1;3m{input}\u001b[0m\n"
     ]
    }
   ],
   "source": [
    "from langchain_core.prompts import ChatPromptTemplate\n",
    "\n",
    "system_message = \"\"\"\n",
    "Given an input question, create a syntactically correct {dialect} query to\n",
    "run to help find the answer. Unless the user specifies in his question a\n",
    "specific number of examples they wish to obtain, always limit your query to\n",
    "at most {top_k} results. You can order the results by a relevant column to\n",
    "return the most interesting examples in the database.\n",
    "\n",
    "Never query for all the columns from a specific table, only ask for a\n",
    "few relevant columns given the question.\n",
    "\n",
    "Pay attention to use only the column names that you can see in the schema\n",
    "description. Be careful to not query for columns that do not exist. Also,\n",
    "pay attention to which column is in which table.\n",
    "\n",
    "Only use the following tables:\n",
    "{table_info}\n",
    "\"\"\"\n",
    "\n",
    "user_prompt = \"Question: {input}\"\n",
    "\n",
    "query_prompt_template = ChatPromptTemplate(\n",
    "    [(\"system\", system_message), (\"user\", user_prompt)]\n",
    ")\n",
    "\n",
    "for message in query_prompt_template.messages:\n",
    "    message.pretty_print()"
   ]
  },
  {
   "cell_type": "code",
   "execution_count": 12,
   "id": "0733c2d2-b677-470f-a09d-1b97e79467ac",
   "metadata": {
    "execution": {
     "iopub.execute_input": "2025-08-18T08:42:10.970153Z",
     "iopub.status.busy": "2025-08-18T08:42:10.969871Z",
     "iopub.status.idle": "2025-08-18T08:42:10.981727Z",
     "shell.execute_reply": "2025-08-18T08:42:10.980797Z",
     "shell.execute_reply.started": "2025-08-18T08:42:10.970130Z"
    }
   },
   "outputs": [
    {
     "name": "stdout",
     "output_type": "stream",
     "text": [
      "\n",
      "CREATE TABLE \"Album\" (\n",
      "\t\"AlbumId\" INTEGER NOT NULL, \n",
      "\t\"Title\" NVARCHAR(160) NOT NULL, \n",
      "\t\"ArtistId\" INTEGER NOT NULL, \n",
      "\tPRIMARY KEY (\"AlbumId\"), \n",
      "\tFOREIGN KEY(\"ArtistId\") REFERENCES \"Artist\" (\"ArtistId\")\n",
      ")\n",
      "\n",
      "/*\n",
      "3 rows from Album table:\n",
      "AlbumId\tTitle\tArtistId\n",
      "1\tFor Those About To Rock We Salute You\t1\n",
      "2\tBalls to the Wall\t2\n",
      "3\tRestless and Wild\t2\n",
      "*/\n",
      "\n",
      "\n",
      "CREATE TABLE \"Artist\" (\n",
      "\t\"ArtistId\" INTEGER NOT NULL, \n",
      "\t\"Name\" NVARCHAR(120), \n",
      "\tPRIMARY KEY (\"ArtistId\")\n",
      ")\n",
      "\n",
      "/*\n",
      "3 rows from Artist table:\n",
      "ArtistId\tName\n",
      "1\tAC/DC\n",
      "2\tAccept\n",
      "3\tAerosmith\n",
      "*/\n",
      "\n",
      "\n",
      "CREATE TABLE \"Customer\" (\n",
      "\t\"CustomerId\" INTEGER NOT NULL, \n",
      "\t\"FirstName\" NVARCHAR(40) NOT NULL, \n",
      "\t\"LastName\" NVARCHAR(20) NOT NULL, \n",
      "\t\"Company\" NVARCHAR(80), \n",
      "\t\"Address\" NVARCHAR(70), \n",
      "\t\"City\" NVARCHAR(40), \n",
      "\t\"State\" NVARCHAR(40), \n",
      "\t\"Country\" NVARCHAR(40), \n",
      "\t\"PostalCode\" NVARCHAR(10), \n",
      "\t\"Phone\" NVARCHAR(24), \n",
      "\t\"Fax\" NVARCHAR(24), \n",
      "\t\"Email\" NVARCHAR(60) NOT NULL, \n",
      "\t\"SupportRepId\" INTEGER, \n",
      "\tPRIMARY KEY (\"CustomerId\"), \n",
      "\tFOREIGN KEY(\"SupportRepId\") REFERENCES \"Employee\" (\"EmployeeId\")\n",
      ")\n",
      "\n",
      "/*\n",
      "3 rows from Customer table:\n",
      "CustomerId\tFirstName\tLastName\tCompany\tAddress\tCity\tState\tCountry\tPostalCode\tPhone\tFax\tEmail\tSupportRepId\n",
      "1\tLuís\tGonçalves\tEmbraer - Empresa Brasileira de Aeronáutica S.A.\tAv. Brigadeiro Faria Lima, 2170\tSão José dos Campos\tSP\tBrazil\t12227-000\t+55 (12) 3923-5555\t+55 (12) 3923-5566\tluisg@embraer.com.br\t3\n",
      "2\tLeonie\tKöhler\tNone\tTheodor-Heuss-Straße 34\tStuttgart\tNone\tGermany\t70174\t+49 0711 2842222\tNone\tleonekohler@surfeu.de\t5\n",
      "3\tFrançois\tTremblay\tNone\t1498 rue Bélanger\tMontréal\tQC\tCanada\tH2G 1A7\t+1 (514) 721-4711\tNone\tftremblay@gmail.com\t3\n",
      "*/\n",
      "\n",
      "\n",
      "CREATE TABLE \"Employee\" (\n",
      "\t\"EmployeeId\" INTEGER NOT NULL, \n",
      "\t\"LastName\" NVARCHAR(20) NOT NULL, \n",
      "\t\"FirstName\" NVARCHAR(20) NOT NULL, \n",
      "\t\"Title\" NVARCHAR(30), \n",
      "\t\"ReportsTo\" INTEGER, \n",
      "\t\"BirthDate\" DATETIME, \n",
      "\t\"HireDate\" DATETIME, \n",
      "\t\"Address\" NVARCHAR(70), \n",
      "\t\"City\" NVARCHAR(40), \n",
      "\t\"State\" NVARCHAR(40), \n",
      "\t\"Country\" NVARCHAR(40), \n",
      "\t\"PostalCode\" NVARCHAR(10), \n",
      "\t\"Phone\" NVARCHAR(24), \n",
      "\t\"Fax\" NVARCHAR(24), \n",
      "\t\"Email\" NVARCHAR(60), \n",
      "\tPRIMARY KEY (\"EmployeeId\"), \n",
      "\tFOREIGN KEY(\"ReportsTo\") REFERENCES \"Employee\" (\"EmployeeId\")\n",
      ")\n",
      "\n",
      "/*\n",
      "3 rows from Employee table:\n",
      "EmployeeId\tLastName\tFirstName\tTitle\tReportsTo\tBirthDate\tHireDate\tAddress\tCity\tState\tCountry\tPostalCode\tPhone\tFax\tEmail\n",
      "1\tAdams\tAndrew\tGeneral Manager\tNone\t1962-02-18 00:00:00\t2002-08-14 00:00:00\t11120 Jasper Ave NW\tEdmonton\tAB\tCanada\tT5K 2N1\t+1 (780) 428-9482\t+1 (780) 428-3457\tandrew@chinookcorp.com\n",
      "2\tEdwards\tNancy\tSales Manager\t1\t1958-12-08 00:00:00\t2002-05-01 00:00:00\t825 8 Ave SW\tCalgary\tAB\tCanada\tT2P 2T3\t+1 (403) 262-3443\t+1 (403) 262-3322\tnancy@chinookcorp.com\n",
      "3\tPeacock\tJane\tSales Support Agent\t2\t1973-08-29 00:00:00\t2002-04-01 00:00:00\t1111 6 Ave SW\tCalgary\tAB\tCanada\tT2P 5M5\t+1 (403) 262-3443\t+1 (403) 262-6712\tjane@chinookcorp.com\n",
      "*/\n",
      "\n",
      "\n",
      "CREATE TABLE \"Genre\" (\n",
      "\t\"GenreId\" INTEGER NOT NULL, \n",
      "\t\"Name\" NVARCHAR(120), \n",
      "\tPRIMARY KEY (\"GenreId\")\n",
      ")\n",
      "\n",
      "/*\n",
      "3 rows from Genre table:\n",
      "GenreId\tName\n",
      "1\tRock\n",
      "2\tJazz\n",
      "3\tMetal\n",
      "*/\n",
      "\n",
      "\n",
      "CREATE TABLE \"Invoice\" (\n",
      "\t\"InvoiceId\" INTEGER NOT NULL, \n",
      "\t\"CustomerId\" INTEGER NOT NULL, \n",
      "\t\"InvoiceDate\" DATETIME NOT NULL, \n",
      "\t\"BillingAddress\" NVARCHAR(70), \n",
      "\t\"BillingCity\" NVARCHAR(40), \n",
      "\t\"BillingState\" NVARCHAR(40), \n",
      "\t\"BillingCountry\" NVARCHAR(40), \n",
      "\t\"BillingPostalCode\" NVARCHAR(10), \n",
      "\t\"Total\" NUMERIC(10, 2) NOT NULL, \n",
      "\tPRIMARY KEY (\"InvoiceId\"), \n",
      "\tFOREIGN KEY(\"CustomerId\") REFERENCES \"Customer\" (\"CustomerId\")\n",
      ")\n",
      "\n",
      "/*\n",
      "3 rows from Invoice table:\n",
      "InvoiceId\tCustomerId\tInvoiceDate\tBillingAddress\tBillingCity\tBillingState\tBillingCountry\tBillingPostalCode\tTotal\n",
      "1\t2\t2021-01-01 00:00:00\tTheodor-Heuss-Straße 34\tStuttgart\tNone\tGermany\t70174\t1.98\n",
      "2\t4\t2021-01-02 00:00:00\tUllevålsveien 14\tOslo\tNone\tNorway\t0171\t3.96\n",
      "3\t8\t2021-01-03 00:00:00\tGrétrystraat 63\tBrussels\tNone\tBelgium\t1000\t5.94\n",
      "*/\n",
      "\n",
      "\n",
      "CREATE TABLE \"InvoiceLine\" (\n",
      "\t\"InvoiceLineId\" INTEGER NOT NULL, \n",
      "\t\"InvoiceId\" INTEGER NOT NULL, \n",
      "\t\"TrackId\" INTEGER NOT NULL, \n",
      "\t\"UnitPrice\" NUMERIC(10, 2) NOT NULL, \n",
      "\t\"Quantity\" INTEGER NOT NULL, \n",
      "\tPRIMARY KEY (\"InvoiceLineId\"), \n",
      "\tFOREIGN KEY(\"TrackId\") REFERENCES \"Track\" (\"TrackId\"), \n",
      "\tFOREIGN KEY(\"InvoiceId\") REFERENCES \"Invoice\" (\"InvoiceId\")\n",
      ")\n",
      "\n",
      "/*\n",
      "3 rows from InvoiceLine table:\n",
      "InvoiceLineId\tInvoiceId\tTrackId\tUnitPrice\tQuantity\n",
      "1\t1\t2\t0.99\t1\n",
      "2\t1\t4\t0.99\t1\n",
      "3\t2\t6\t0.99\t1\n",
      "*/\n",
      "\n",
      "\n",
      "CREATE TABLE \"MediaType\" (\n",
      "\t\"MediaTypeId\" INTEGER NOT NULL, \n",
      "\t\"Name\" NVARCHAR(120), \n",
      "\tPRIMARY KEY (\"MediaTypeId\")\n",
      ")\n",
      "\n",
      "/*\n",
      "3 rows from MediaType table:\n",
      "MediaTypeId\tName\n",
      "1\tMPEG audio file\n",
      "2\tProtected AAC audio file\n",
      "3\tProtected MPEG-4 video file\n",
      "*/\n",
      "\n",
      "\n",
      "CREATE TABLE \"Playlist\" (\n",
      "\t\"PlaylistId\" INTEGER NOT NULL, \n",
      "\t\"Name\" NVARCHAR(120), \n",
      "\tPRIMARY KEY (\"PlaylistId\")\n",
      ")\n",
      "\n",
      "/*\n",
      "3 rows from Playlist table:\n",
      "PlaylistId\tName\n",
      "1\tMusic\n",
      "2\tMovies\n",
      "3\tTV Shows\n",
      "*/\n",
      "\n",
      "\n",
      "CREATE TABLE \"PlaylistTrack\" (\n",
      "\t\"PlaylistId\" INTEGER NOT NULL, \n",
      "\t\"TrackId\" INTEGER NOT NULL, \n",
      "\tPRIMARY KEY (\"PlaylistId\", \"TrackId\"), \n",
      "\tFOREIGN KEY(\"TrackId\") REFERENCES \"Track\" (\"TrackId\"), \n",
      "\tFOREIGN KEY(\"PlaylistId\") REFERENCES \"Playlist\" (\"PlaylistId\")\n",
      ")\n",
      "\n",
      "/*\n",
      "3 rows from PlaylistTrack table:\n",
      "PlaylistId\tTrackId\n",
      "1\t3402\n",
      "1\t3389\n",
      "1\t3390\n",
      "*/\n",
      "\n",
      "\n",
      "CREATE TABLE \"Track\" (\n",
      "\t\"TrackId\" INTEGER NOT NULL, \n",
      "\t\"Name\" NVARCHAR(200) NOT NULL, \n",
      "\t\"AlbumId\" INTEGER, \n",
      "\t\"MediaTypeId\" INTEGER NOT NULL, \n",
      "\t\"GenreId\" INTEGER, \n",
      "\t\"Composer\" NVARCHAR(220), \n",
      "\t\"Milliseconds\" INTEGER NOT NULL, \n",
      "\t\"Bytes\" INTEGER, \n",
      "\t\"UnitPrice\" NUMERIC(10, 2) NOT NULL, \n",
      "\tPRIMARY KEY (\"TrackId\"), \n",
      "\tFOREIGN KEY(\"MediaTypeId\") REFERENCES \"MediaType\" (\"MediaTypeId\"), \n",
      "\tFOREIGN KEY(\"GenreId\") REFERENCES \"Genre\" (\"GenreId\"), \n",
      "\tFOREIGN KEY(\"AlbumId\") REFERENCES \"Album\" (\"AlbumId\")\n",
      ")\n",
      "\n",
      "/*\n",
      "3 rows from Track table:\n",
      "TrackId\tName\tAlbumId\tMediaTypeId\tGenreId\tComposer\tMilliseconds\tBytes\tUnitPrice\n",
      "1\tFor Those About To Rock (We Salute You)\t1\t1\t1\tAngus Young, Malcolm Young, Brian Johnson\t343719\t11170334\t0.99\n",
      "2\tBalls to the Wall\t2\t2\t1\tU. Dirkschneider, W. Hoffmann, H. Frank, P. Baltes, S. Kaufmann, G. Hoffmann\t342562\t5510424\t0.99\n",
      "3\tFast As a Shark\t3\t2\t1\tF. Baltes, S. Kaufman, U. Dirkscneider & W. Hoffman\t230619\t3990994\t0.99\n",
      "*/\n"
     ]
    }
   ],
   "source": [
    "print(db.get_table_info())"
   ]
  },
  {
   "cell_type": "markdown",
   "id": "27c99e39-7b94-4819-819a-cb6d89e421b0",
   "metadata": {},
   "source": [
    "# graph"
   ]
  },
  {
   "cell_type": "code",
   "execution_count": 8,
   "id": "40dca1fa-42f5-4d05-8c65-b7ecac01dd6b",
   "metadata": {
    "execution": {
     "iopub.execute_input": "2025-08-18T08:39:42.557232Z",
     "iopub.status.busy": "2025-08-18T08:39:42.556431Z",
     "iopub.status.idle": "2025-08-18T08:39:42.606370Z",
     "shell.execute_reply": "2025-08-18T08:39:42.605605Z",
     "shell.execute_reply.started": "2025-08-18T08:39:42.557162Z"
    }
   },
   "outputs": [],
   "source": [
    "from typing_extensions import TypedDict, Annotated\n",
    "from langchain_community.tools.sql_database.tool import QuerySQLDatabaseTool\n",
    "\n",
    "\n",
    "class QueryOutput(TypedDict):\n",
    "    \"\"\"Generated SQL query.\"\"\"\n",
    "    query: Annotated[str, ..., \"Syntactically valid SQL query.\"]\n",
    "\n",
    "class State(TypedDict):\n",
    "    question: str\n",
    "    query: str\n",
    "    result: str\n",
    "    answer: str\n",
    "\n",
    "def write_query(state: State):\n",
    "    \"\"\"Generate SQL query to fetch information.\"\"\"\n",
    "    prompt = query_prompt_template.invoke(\n",
    "        {\n",
    "            \"dialect\": db.dialect,\n",
    "            \"top_k\": 10,\n",
    "            \"table_info\": db.get_table_info(),\n",
    "            \"input\": state[\"question\"],\n",
    "        }\n",
    "    )\n",
    "    structured_llm = llm.with_structured_output(QueryOutput)\n",
    "    result = structured_llm.invoke(prompt)\n",
    "    return {\"query\": result[\"query\"]}\n",
    "\n",
    "\n",
    "def execute_query(state: State):\n",
    "    \"\"\"Execute SQL query.\"\"\"\n",
    "    execute_query_tool = QuerySQLDatabaseTool(db=db)\n",
    "    return {\"result\": execute_query_tool.invoke(state[\"query\"])}\n",
    "\n",
    "def generate_answer(state: State):\n",
    "    \"\"\"Answer question using retrieved information as context.\"\"\"\n",
    "    prompt = (\n",
    "        \"Given the following user question, corresponding SQL query, \"\n",
    "        \"and SQL result, answer the user question.\\n\\n\"\n",
    "        f'Question: {state[\"question\"]}\\n'\n",
    "        f'SQL Query: {state[\"query\"]}\\n'\n",
    "        f'SQL Result: {state[\"result\"]}'\n",
    "    )\n",
    "    response = llm.invoke(prompt)\n",
    "    return {\"answer\": response.content}"
   ]
  },
  {
   "cell_type": "code",
   "execution_count": 13,
   "id": "4117fa07-222b-47cf-a9dc-647840093128",
   "metadata": {
    "execution": {
     "iopub.execute_input": "2025-08-18T08:45:27.575294Z",
     "iopub.status.busy": "2025-08-18T08:45:27.575002Z",
     "iopub.status.idle": "2025-08-18T08:45:29.892736Z",
     "shell.execute_reply": "2025-08-18T08:45:29.891318Z",
     "shell.execute_reply.started": "2025-08-18T08:45:27.575272Z"
    }
   },
   "outputs": [
    {
     "data": {
      "text/plain": [
       "{'query': 'SELECT COUNT(*) AS EmployeeCount FROM Employee;'}"
      ]
     },
     "execution_count": 13,
     "metadata": {},
     "output_type": "execute_result"
    }
   ],
   "source": [
    "write_query({\"question\": \"How many Employees are there?\"})"
   ]
  },
  {
   "cell_type": "code",
   "execution_count": 14,
   "id": "fca26a65-bd54-40e0-8eed-0f0dc5f6f184",
   "metadata": {
    "execution": {
     "iopub.execute_input": "2025-08-18T08:45:31.574335Z",
     "iopub.status.busy": "2025-08-18T08:45:31.573498Z",
     "iopub.status.idle": "2025-08-18T08:45:31.590901Z",
     "shell.execute_reply": "2025-08-18T08:45:31.588727Z",
     "shell.execute_reply.started": "2025-08-18T08:45:31.574244Z"
    }
   },
   "outputs": [
    {
     "data": {
      "text/plain": [
       "{'result': '[(8,)]'}"
      ]
     },
     "execution_count": 14,
     "metadata": {},
     "output_type": "execute_result"
    }
   ],
   "source": [
    "execute_query({\"query\": \"SELECT COUNT(EmployeeId) AS EmployeeCount FROM Employee;\"})"
   ]
  },
  {
   "cell_type": "code",
   "execution_count": 15,
   "id": "3ee27137-1810-41df-8ed4-d5f6031799af",
   "metadata": {
    "execution": {
     "iopub.execute_input": "2025-08-18T08:46:06.059808Z",
     "iopub.status.busy": "2025-08-18T08:46:06.059268Z",
     "iopub.status.idle": "2025-08-18T08:46:07.572180Z",
     "shell.execute_reply": "2025-08-18T08:46:07.570210Z",
     "shell.execute_reply.started": "2025-08-18T08:46:06.059760Z"
    }
   },
   "outputs": [
    {
     "data": {
      "image/png": "[encoded data removed]",
      "text/plain": [
       "<langgraph.graph.state.CompiledStateGraph object at 0x7bc2396fcef0>"
      ]
     },
     "execution_count": 15,
     "metadata": {},
     "output_type": "execute_result"
    }
   ],
   "source": [
    "from langgraph.graph import START, StateGraph\n",
    "\n",
    "graph_builder = StateGraph(State).add_sequence(\n",
    "    [write_query, execute_query, generate_answer]\n",
    ")\n",
    "graph_builder.add_edge(START, \"write_query\")\n",
    "graph = graph_builder.compile()\n",
    "\n",
    "graph"
   ]
  },
  {
   "cell_type": "markdown",
   "id": "169212dd-edf7-49aa-b7d6-5dbbe3849e89",
   "metadata": {},
   "source": [
    "# usage"
   ]
  },
  {
   "cell_type": "code",
   "execution_count": 16,
   "id": "4548c952-1b5e-4767-ba41-c03ace28a763",
   "metadata": {
    "execution": {
     "iopub.execute_input": "2025-08-18T08:46:33.236009Z",
     "iopub.status.busy": "2025-08-18T08:46:33.235196Z",
     "iopub.status.idle": "2025-08-18T08:46:37.131022Z",
     "shell.execute_reply": "2025-08-18T08:46:37.128799Z",
     "shell.execute_reply.started": "2025-08-18T08:46:33.235941Z"
    }
   },
   "outputs": [
    {
     "name": "stdout",
     "output_type": "stream",
     "text": [
      "{'write_query': {'query': 'SELECT COUNT(EmployeeId) AS TotalEmployees FROM Employee;'}}\n",
      "{'execute_query': {'result': '[(8,)]'}}\n",
      "{'generate_answer': {'answer': 'There are 8 employees.'}}\n"
     ]
    }
   ],
   "source": [
    "for step in graph.stream(\n",
    "    {\"question\": \"How many employees are there?\"}, stream_mode=\"updates\"\n",
    "):\n",
    "    print(step)"
   ]
  },
  {
   "cell_type": "markdown",
   "id": "a2b1def6-b583-4045-a128-7a2b5b12a3aa",
   "metadata": {},
   "source": [
    "# query validation"
   ]
  },
  {
   "cell_type": "code",
   "execution_count": 17,
   "id": "24685024-1dcd-442e-9efa-65790a5ec19e",
   "metadata": {
    "execution": {
     "iopub.execute_input": "2025-08-18T08:47:02.886221Z",
     "iopub.status.busy": "2025-08-18T08:47:02.885787Z",
     "iopub.status.idle": "2025-08-18T08:47:02.911583Z",
     "shell.execute_reply": "2025-08-18T08:47:02.910771Z",
     "shell.execute_reply.started": "2025-08-18T08:47:02.886183Z"
    }
   },
   "outputs": [],
   "source": [
    "from langchain.chains import create_sql_query_chain\n",
    "\n",
    "chain = create_sql_query_chain(llm, db)"
   ]
  },
  {
   "cell_type": "code",
   "execution_count": 18,
   "id": "34238038-2ed3-4efc-b2a1-c37ad8a17b7f",
   "metadata": {
    "execution": {
     "iopub.execute_input": "2025-08-18T08:49:09.569089Z",
     "iopub.status.busy": "2025-08-18T08:49:09.568829Z",
     "iopub.status.idle": "2025-08-18T08:49:09.574036Z",
     "shell.execute_reply": "2025-08-18T08:49:09.573284Z",
     "shell.execute_reply.started": "2025-08-18T08:49:09.569067Z"
    }
   },
   "outputs": [],
   "source": [
    "from langchain_core.output_parsers import StrOutputParser\n",
    "from langchain_core.prompts import ChatPromptTemplate\n",
    "\n",
    "system = \"\"\"Double check the user's {dialect} query for common mistakes, including:\n",
    "- Using NOT IN with NULL values\n",
    "- Using UNION when UNION ALL should have been used\n",
    "- Using BETWEEN for exclusive ranges\n",
    "- Data type mismatch in predicates\n",
    "- Properly quoting identifiers\n",
    "- Using the correct number of arguments for functions\n",
    "- Casting to the correct data type\n",
    "- Using the proper columns for joins\n",
    "\n",
    "If there are any of the above mistakes, rewrite the query.\n",
    "If there are no mistakes, just reproduce the original query with no further commentary.\n",
    "\n",
    "Output the final SQL query only.\"\"\"\n",
    "prompt = ChatPromptTemplate.from_messages(\n",
    "    [(\"system\", system), (\"human\", \"{query}\")]\n",
    ").partial(dialect=db.dialect)\n",
    "validation_chain = prompt | llm | StrOutputParser()\n",
    "\n",
    "full_chain = {\"query\": chain} | validation_chain"
   ]
  },
  {
   "cell_type": "code",
   "execution_count": 19,
   "id": "4e3970f8-4e59-4c34-9008-d141241431c1",
   "metadata": {
    "execution": {
     "iopub.execute_input": "2025-08-18T08:49:21.160945Z",
     "iopub.status.busy": "2025-08-18T08:49:21.160642Z",
     "iopub.status.idle": "2025-08-18T08:49:28.737804Z",
     "shell.execute_reply": "2025-08-18T08:49:28.735403Z",
     "shell.execute_reply.started": "2025-08-18T08:49:21.160919Z"
    }
   },
   "outputs": [
    {
     "name": "stdout",
     "output_type": "stream",
     "text": [
      "```sql\n",
      "SELECT AVG(\"Total\") AS \"AverageInvoice\"\n",
      "FROM \"Invoice\" i\n",
      "JOIN \"Customer\" c ON i.\"CustomerId\" = c.\"CustomerId\"\n",
      "WHERE c.\"Country\" = 'America' \n",
      "  AND c.\"Fax\" IS NULL \n",
      "  AND i.\"InvoiceDate\" >= '2003-01-01' \n",
      "  AND i.\"InvoiceDate\" < '2010-01-01';\n",
      "```\n"
     ]
    }
   ],
   "source": [
    "query = full_chain.invoke(\n",
    "    {\n",
    "        \"question\": \"What's the average Invoice from an American customer whose Fax is missing since 2003 but before 2010\"\n",
    "    }\n",
    ")\n",
    "print(query)"
   ]
  },
  {
   "cell_type": "markdown",
   "id": "1ae2d8eb-b4de-42d7-be21-b9b4bec864fd",
   "metadata": {},
   "source": [
    "one llm call approach"
   ]
  },
  {
   "cell_type": "code",
   "execution_count": 20,
   "id": "f0ae280b-d6f3-4ab7-afed-e1d377b7ebfa",
   "metadata": {
    "execution": {
     "iopub.execute_input": "2025-08-18T08:50:58.532446Z",
     "iopub.status.busy": "2025-08-18T08:50:58.531911Z",
     "iopub.status.idle": "2025-08-18T08:50:58.541847Z",
     "shell.execute_reply": "2025-08-18T08:50:58.540620Z",
     "shell.execute_reply.started": "2025-08-18T08:50:58.532400Z"
    }
   },
   "outputs": [
    {
     "name": "stdout",
     "output_type": "stream",
     "text": [
      "================================\u001b[1m System Message \u001b[0m================================\n",
      "\n",
      "You are a \u001b[33;1m\u001b[1;3m{dialect}\u001b[0m expert. Given an input question, create a syntactically correct \u001b[33;1m\u001b[1;3m{dialect}\u001b[0m query to run.\n",
      "Unless the user specifies in the question a specific number of examples to obtain, query for at most \u001b[33;1m\u001b[1;3m{top_k}\u001b[0m results using the LIMIT clause as per \u001b[33;1m\u001b[1;3m{dialect}\u001b[0m. You can order the results to return the most informative data in the database.\n",
      "Never query for all columns from a table. You must query only the columns that are needed to answer the question. Wrap each column name in double quotes (\") to denote them as delimited identifiers.\n",
      "Pay attention to use only the column names you can see in the tables below. Be careful to not query for columns that do not exist. Also, pay attention to which column is in which table.\n",
      "Pay attention to use date('now') function to get the current date, if the question involves \"today\".\n",
      "\n",
      "Only use the following tables:\n",
      "\u001b[33;1m\u001b[1;3m{table_info}\u001b[0m\n",
      "\n",
      "Write an initial draft of the query. Then double check the \u001b[33;1m\u001b[1;3m{dialect}\u001b[0m query for common mistakes, including:\n",
      "- Using NOT IN with NULL values\n",
      "- Using UNION when UNION ALL should have been used\n",
      "- Using BETWEEN for exclusive ranges\n",
      "- Data type mismatch in predicates\n",
      "- Properly quoting identifiers\n",
      "- Using the correct number of arguments for functions\n",
      "- Casting to the correct data type\n",
      "- Using the proper columns for joins\n",
      "\n",
      "Use format:\n",
      "\n",
      "First draft: <<FIRST_DRAFT_QUERY>>\n",
      "Final answer: <<FINAL_ANSWER_QUERY>>\n",
      "\n",
      "\n",
      "================================\u001b[1m Human Message \u001b[0m=================================\n",
      "\n",
      "\u001b[33;1m\u001b[1;3m{input}\u001b[0m\n"
     ]
    }
   ],
   "source": [
    "system = \"\"\"You are a {dialect} expert. Given an input question, create a syntactically correct {dialect} query to run.\n",
    "Unless the user specifies in the question a specific number of examples to obtain, query for at most {top_k} results using the LIMIT clause as per {dialect}. You can order the results to return the most informative data in the database.\n",
    "Never query for all columns from a table. You must query only the columns that are needed to answer the question. Wrap each column name in double quotes (\") to denote them as delimited identifiers.\n",
    "Pay attention to use only the column names you can see in the tables below. Be careful to not query for columns that do not exist. Also, pay attention to which column is in which table.\n",
    "Pay attention to use date('now') function to get the current date, if the question involves \"today\".\n",
    "\n",
    "Only use the following tables:\n",
    "{table_info}\n",
    "\n",
    "Write an initial draft of the query. Then double check the {dialect} query for common mistakes, including:\n",
    "- Using NOT IN with NULL values\n",
    "- Using UNION when UNION ALL should have been used\n",
    "- Using BETWEEN for exclusive ranges\n",
    "- Data type mismatch in predicates\n",
    "- Properly quoting identifiers\n",
    "- Using the correct number of arguments for functions\n",
    "- Casting to the correct data type\n",
    "- Using the proper columns for joins\n",
    "\n",
    "Use format:\n",
    "\n",
    "First draft: <<FIRST_DRAFT_QUERY>>\n",
    "Final answer: <<FINAL_ANSWER_QUERY>>\n",
    "\"\"\"\n",
    "prompt = ChatPromptTemplate.from_messages(\n",
    "    [(\"system\", system), (\"human\", \"{input}\")]\n",
    ").partial(dialect=db.dialect)\n",
    "\n",
    "\n",
    "def parse_final_answer(output: str) -> str:\n",
    "    return output.split(\"Final answer: \")[1]\n",
    "\n",
    "\n",
    "chain = create_sql_query_chain(llm, db, prompt=prompt) | parse_final_answer\n",
    "prompt.pretty_print()"
   ]
  },
  {
   "cell_type": "code",
   "execution_count": 51,
   "id": "28f00346-921b-4c43-b8aa-c19d3e4057c3",
   "metadata": {
    "execution": {
     "iopub.execute_input": "2025-05-26T13:32:25.501898Z",
     "iopub.status.busy": "2025-05-26T13:32:25.501611Z",
     "iopub.status.idle": "2025-05-26T13:32:31.475883Z",
     "shell.execute_reply": "2025-05-26T13:32:31.474321Z",
     "shell.execute_reply.started": "2025-05-26T13:32:25.501876Z"
    }
   },
   "outputs": [
    {
     "name": "stdout",
     "output_type": "stream",
     "text": [
      "\n",
      "```sql\n",
      "SELECT AVG(\"Total\") AS \"AverageInvoice\"\n",
      "FROM \"Invoice\" \n",
      "JOIN \"Customer\" ON \"Invoice\".\"CustomerId\" = \"Customer\".\"CustomerId\"\n",
      "WHERE \"Customer\".\"Country\" = 'United States' \n",
      "AND \"Customer\".\"Fax\" IS NULL \n",
      "AND \"Invoice\".\"InvoiceDate\" >= '2003-01-01' \n",
      "AND \"Invoice\".\"InvoiceDate\" < '2011-01-01';\n",
      "```\n"
     ]
    }
   ],
   "source": [
    "query = chain.invoke(\n",
    "    {\n",
    "        \"question\": \"What's the average Invoice from an American customer whose Fax is missing since 2003 but before 2010\"\n",
    "    }\n",
    ")\n",
    "print(query)"
   ]
  },
  {
   "cell_type": "markdown",
   "id": "33845547-7ce4-4dbc-9466-ab18ad62feab",
   "metadata": {},
   "source": [
    "# human in the loop"
   ]
  },
  {
   "cell_type": "code",
   "execution_count": 21,
   "id": "0b5e098b-3751-4bc5-b372-5061315907b3",
   "metadata": {
    "execution": {
     "iopub.execute_input": "2025-08-18T08:53:08.136364Z",
     "iopub.status.busy": "2025-08-18T08:53:08.135405Z",
     "iopub.status.idle": "2025-08-18T08:53:10.614330Z",
     "shell.execute_reply": "2025-08-18T08:53:10.613501Z",
     "shell.execute_reply.started": "2025-08-18T08:53:08.136291Z"
    }
   },
   "outputs": [
    {
     "data": {
      "image/png": "[encoded data removed]",
      "text/plain": [
       "<langgraph.graph.state.CompiledStateGraph object at 0x7bc239d12240>"
      ]
     },
     "execution_count": 21,
     "metadata": {},
     "output_type": "execute_result"
    }
   ],
   "source": [
    "from langgraph.checkpoint.memory import MemorySaver\n",
    "\n",
    "memory = MemorySaver()\n",
    "graph = graph_builder.compile(checkpointer=memory, interrupt_before=[\"execute_query\"])\n",
    "graph"
   ]
  },
  {
   "cell_type": "code",
   "execution_count": 22,
   "id": "6065ba59-4edc-47e0-a415-46b0f73f1e47",
   "metadata": {
    "execution": {
     "iopub.execute_input": "2025-08-18T08:53:18.212220Z",
     "iopub.status.busy": "2025-08-18T08:53:18.211582Z",
     "iopub.status.idle": "2025-08-18T08:53:18.215367Z",
     "shell.execute_reply": "2025-08-18T08:53:18.214567Z",
     "shell.execute_reply.started": "2025-08-18T08:53:18.212193Z"
    }
   },
   "outputs": [],
   "source": [
    "# Now that we're using persistence, we need to specify a thread ID\n",
    "# so that we can continue the run after review.\n",
    "config = {\"configurable\": {\"thread_id\": \"1\"}}"
   ]
  },
  {
   "cell_type": "code",
   "execution_count": 23,
   "id": "c284ad18-e31f-4707-83f1-0a9b724df28b",
   "metadata": {
    "execution": {
     "iopub.execute_input": "2025-08-18T08:53:51.551698Z",
     "iopub.status.busy": "2025-08-18T08:53:51.549215Z",
     "iopub.status.idle": "2025-08-18T08:54:01.664031Z",
     "shell.execute_reply": "2025-08-18T08:54:01.663184Z",
     "shell.execute_reply.started": "2025-08-18T08:53:51.551640Z"
    }
   },
   "outputs": [
    {
     "name": "stdout",
     "output_type": "stream",
     "text": [
      "{'write_query': {'query': 'SELECT COUNT(*) AS EmployeeCount FROM Employee;'}}\n",
      "{'__interrupt__': ()}\n"
     ]
    },
    {
     "name": "stdin",
     "output_type": "stream",
     "text": [
      "Do you want to go to execute query? (yes/no):  yes\n"
     ]
    },
    {
     "name": "stdout",
     "output_type": "stream",
     "text": [
      "{'execute_query': {'result': '[(8,)]'}}\n",
      "{'generate_answer': {'answer': 'There are 8 employees.'}}\n"
     ]
    }
   ],
   "source": [
    "for step in graph.stream(\n",
    "    {\"question\": \"How many employees are there?\"},\n",
    "    config,\n",
    "    stream_mode=\"updates\",\n",
    "):\n",
    "    print(step)\n",
    "\n",
    "try:\n",
    "    user_approval = input(\"Do you want to go to execute query? (yes/no): \")\n",
    "except Exception:\n",
    "    user_approval = \"no\"\n",
    "\n",
    "if user_approval.lower() == \"yes\":\n",
    "    # If approved, continue the graph execution\n",
    "    for step in graph.stream(None, config, stream_mode=\"updates\"):\n",
    "        print(step)\n",
    "else:\n",
    "    print(\"Operation cancelled by user.\")"
   ]
  },
  {
   "cell_type": "markdown",
   "id": "0ce59cb6-8e72-4870-9573-88cc327a3dec",
   "metadata": {},
   "source": [
    "# agentic"
   ]
  },
  {
   "cell_type": "code",
   "execution_count": 46,
   "id": "b0419fbe-6bd1-469b-b7f6-5a4a89e90eaa",
   "metadata": {
    "execution": {
     "iopub.execute_input": "2025-08-18T11:54:07.861851Z",
     "iopub.status.busy": "2025-08-18T11:54:07.861388Z",
     "iopub.status.idle": "2025-08-18T11:54:07.868153Z",
     "shell.execute_reply": "2025-08-18T11:54:07.867055Z",
     "shell.execute_reply.started": "2025-08-18T11:54:07.861811Z"
    }
   },
   "outputs": [],
   "source": [
    "from langchain_community.agent_toolkits import SQLDatabaseToolkit\n",
    "toolkit = SQLDatabaseToolkit(db=db, llm=llm)\n",
    "tools = toolkit.get_tools()"
   ]
  },
  {
   "cell_type": "code",
   "execution_count": 47,
   "id": "da4d1294-7999-4c4a-806b-d1808f7b2cef",
   "metadata": {
    "execution": {
     "iopub.execute_input": "2025-08-18T11:54:08.539493Z",
     "iopub.status.busy": "2025-08-18T11:54:08.539010Z",
     "iopub.status.idle": "2025-08-18T11:54:08.549355Z",
     "shell.execute_reply": "2025-08-18T11:54:08.546884Z",
     "shell.execute_reply.started": "2025-08-18T11:54:08.539452Z"
    }
   },
   "outputs": [
    {
     "name": "stdout",
     "output_type": "stream",
     "text": [
      "==============================\n",
      "QuerySQLDatabaseTool(description=\"Input to this tool is a detailed and correct SQL query, output is a result from the database. If the query is not correct, an error message will be returned. If an error is returned, rewrite the query, check the query, and try again. If you encounter an issue with Unknown column 'xxxx' in 'field list', use sql_db_schema to query the correct table fields.\", db=<langchain_community.utilities.sql_database.SQLDatabase object at 0x7bc23a60af90>)\n",
      "==============================\n",
      "InfoSQLDatabaseTool(description='Input to this tool is a comma-separated list of tables, output is the schema and sample rows for those tables. Be sure that the tables actually exist by calling sql_db_list_tables first! Example Input: table1, table2, table3', db=<langchain_community.utilities.sql_database.SQLDatabase object at 0x7bc23a60af90>)\n",
      "==============================\n",
      "ListSQLDatabaseTool(db=<langchain_community.utilities.sql_database.SQLDatabase object at 0x7bc23a60af90>)\n",
      "==============================\n",
      "QuerySQLCheckerTool(description='Use this tool to double check if your query is correct before executing it. Always use this tool before executing a query with sql_db_query!', db=<langchain_community.utilities.sql_database.SQLDatabase object at 0x7bc23a60af90>, llm=ChatOpenAI(client=<openai.resources.chat.completions.completions.Completions object at 0x7bc23ab8e5a0>, async_client=<openai.resources.chat.completions.completions.AsyncCompletions object at 0x7bc23ab8dc70>, root_client=<openai.OpenAI object at 0x7bc26407e1b0>, root_async_client=<openai.AsyncOpenAI object at 0x7bc23ab8e360>, model_name='gpt-4o-mini', model_kwargs={}, openai_api_key=SecretStr('**********')), llm_chain=LLMChain(verbose=False, prompt=PromptTemplate(input_variables=['dialect', 'query'], input_types={}, partial_variables={}, template='\\n{query}\\nDouble check the {dialect} query above for common mistakes, including:\\n- Using NOT IN with NULL values\\n- Using UNION when UNION ALL should have been used\\n- Using BETWEEN for exclusive ranges\\n- Data type mismatch in predicates\\n- Properly quoting identifiers\\n- Using the correct number of arguments for functions\\n- Casting to the correct data type\\n- Using the proper columns for joins\\n\\nIf there are any of the above mistakes, rewrite the query. If there are no mistakes, just reproduce the original query.\\n\\nOutput the final SQL query only.\\n\\nSQL Query: '), llm=ChatOpenAI(client=<openai.resources.chat.completions.completions.Completions object at 0x7bc23ab8e5a0>, async_client=<openai.resources.chat.completions.completions.AsyncCompletions object at 0x7bc23ab8dc70>, root_client=<openai.OpenAI object at 0x7bc26407e1b0>, root_async_client=<openai.AsyncOpenAI object at 0x7bc23ab8e360>, model_name='gpt-4o-mini', model_kwargs={}, openai_api_key=SecretStr('**********')), output_parser=StrOutputParser(), llm_kwargs={}))\n"
     ]
    }
   ],
   "source": [
    "from pprint import pprint\n",
    "for item in tools:\n",
    "    print(\"=\"*30)\n",
    "    pprint(item)"
   ]
  },
  {
   "cell_type": "code",
   "execution_count": 53,
   "id": "abfb2af5-8b80-419c-942c-21be5225e975",
   "metadata": {
    "execution": {
     "iopub.execute_input": "2025-05-26T13:48:42.109017Z",
     "iopub.status.busy": "2025-05-26T13:48:42.108748Z",
     "iopub.status.idle": "2025-05-26T13:48:42.112689Z",
     "shell.execute_reply": "2025-05-26T13:48:42.111988Z",
     "shell.execute_reply.started": "2025-05-26T13:48:42.108995Z"
    }
   },
   "outputs": [],
   "source": [
    "system_message = \"\"\"\n",
    "You are an agent designed to interact with a SQL database.\n",
    "Given an input question, create a syntactically correct {dialect} query to run,\n",
    "then look at the results of the query and return the answer. Unless the user\n",
    "specifies a specific number of examples they wish to obtain, always limit your\n",
    "query to at most {top_k} results.\n",
    "\n",
    "You can order the results by a relevant column to return the most interesting\n",
    "examples in the database. Never query for all the columns from a specific table,\n",
    "only ask for the relevant columns given the question.\n",
    "\n",
    "You MUST double check your query before executing it. If you get an error while\n",
    "executing a query, rewrite the query and try again.\n",
    "\n",
    "DO NOT make any DML statements (INSERT, UPDATE, DELETE, DROP etc.) to the\n",
    "database.\n",
    "\n",
    "To start you should ALWAYS look at the tables in the database to see what you\n",
    "can query. Do NOT skip this step.\n",
    "\n",
    "Then you should query the schema of the most relevant tables.\n",
    "\"\"\".format(\n",
    "    dialect=\"SQLite\",\n",
    "    top_k=5,\n",
    ")"
   ]
  },
  {
   "cell_type": "code",
   "execution_count": 44,
   "id": "64ea59bc-c913-4bad-be6e-8c4a44a14feb",
   "metadata": {
    "execution": {
     "iopub.execute_input": "2025-08-18T11:53:45.444489Z",
     "iopub.status.busy": "2025-08-18T11:53:45.444204Z",
     "iopub.status.idle": "2025-08-18T11:53:45.488426Z",
     "shell.execute_reply": "2025-08-18T11:53:45.487699Z",
     "shell.execute_reply.started": "2025-08-18T11:53:45.444465Z"
    }
   },
   "outputs": [],
   "source": [
    "from langchain_core.messages import HumanMessage\n",
    "from langgraph.prebuilt import create_react_agent\n",
    "\n",
    "agent_executor = create_react_agent(llm, tools, prompt=system_message)"
   ]
  },
  {
   "cell_type": "code",
   "execution_count": 45,
   "id": "0d074263-083b-4449-8824-046def54920c",
   "metadata": {
    "execution": {
     "iopub.execute_input": "2025-08-18T11:53:48.552118Z",
     "iopub.status.busy": "2025-08-18T11:53:48.551326Z",
     "iopub.status.idle": "2025-08-18T11:54:05.887332Z",
     "shell.execute_reply": "2025-08-18T11:54:05.885998Z",
     "shell.execute_reply.started": "2025-08-18T11:53:48.552049Z"
    }
   },
   "outputs": [
    {
     "name": "stdout",
     "output_type": "stream",
     "text": [
      "================================\u001b[1m Human Message \u001b[0m=================================\n",
      "\n",
      "Which country's customers spent the most?\n",
      "==================================\u001b[1m Ai Message \u001b[0m==================================\n",
      "Tool Calls:\n",
      "  sql_db_list_tables (call_IUWl28CW1Wu8WawNe0bBqAit)\n",
      " Call ID: call_IUWl28CW1Wu8WawNe0bBqAit\n",
      "  Args:\n",
      "=================================\u001b[1m Tool Message \u001b[0m=================================\n",
      "Name: sql_db_list_tables\n",
      "\n",
      "Album, Artist, Customer, Employee, Genre, Invoice, InvoiceLine, MediaType, Playlist, PlaylistTrack, Track\n",
      "==================================\u001b[1m Ai Message \u001b[0m==================================\n",
      "Tool Calls:\n",
      "  sql_db_schema (call_ZupozFPb7GrjN17HhsnoJnNe)\n",
      " Call ID: call_ZupozFPb7GrjN17HhsnoJnNe\n",
      "  Args:\n",
      "    table_names: Customer\n",
      "  sql_db_schema (call_VwZaExgYqsABLe20e4ic7naT)\n",
      " Call ID: call_VwZaExgYqsABLe20e4ic7naT\n",
      "  Args:\n",
      "    table_names: Invoice\n",
      "  sql_db_schema (call_MBYqoVMY1a0I8Q5HGOXI2IQ0)\n",
      " Call ID: call_MBYqoVMY1a0I8Q5HGOXI2IQ0\n",
      "  Args:\n",
      "    table_names: InvoiceLine\n",
      "=================================\u001b[1m Tool Message \u001b[0m=================================\n",
      "Name: sql_db_schema\n",
      "\n",
      "\n",
      "CREATE TABLE \"InvoiceLine\" (\n",
      "\t\"InvoiceLineId\" INTEGER NOT NULL, \n",
      "\t\"InvoiceId\" INTEGER NOT NULL, \n",
      "\t\"TrackId\" INTEGER NOT NULL, \n",
      "\t\"UnitPrice\" NUMERIC(10, 2) NOT NULL, \n",
      "\t\"Quantity\" INTEGER NOT NULL, \n",
      "\tPRIMARY KEY (\"InvoiceLineId\"), \n",
      "\tFOREIGN KEY(\"TrackId\") REFERENCES \"Track\" (\"TrackId\"), \n",
      "\tFOREIGN KEY(\"InvoiceId\") REFERENCES \"Invoice\" (\"InvoiceId\")\n",
      ")\n",
      "\n",
      "/*\n",
      "3 rows from InvoiceLine table:\n",
      "InvoiceLineId\tInvoiceId\tTrackId\tUnitPrice\tQuantity\n",
      "1\t1\t2\t0.99\t1\n",
      "2\t1\t4\t0.99\t1\n",
      "3\t2\t6\t0.99\t1\n",
      "*/\n",
      "==================================\u001b[1m Ai Message \u001b[0m==================================\n",
      "Tool Calls:\n",
      "  sql_db_query_checker (call_bQuZGdc19lCXUmp5lOYPX46K)\n",
      " Call ID: call_bQuZGdc19lCXUmp5lOYPX46K\n",
      "  Args:\n",
      "    query: SELECT Customer.Country, SUM(Invoice.Total) AS TotalSpent \n",
      "FROM Customer \n",
      "JOIN Invoice ON Customer.CustomerId = Invoice.CustomerId \n",
      "GROUP BY Customer.Country \n",
      "ORDER BY TotalSpent DESC \n",
      "LIMIT 5;\n",
      "=================================\u001b[1m Tool Message \u001b[0m=================================\n",
      "Name: sql_db_query_checker\n",
      "\n",
      "```sql\n",
      "SELECT Customer.Country, SUM(Invoice.Total) AS TotalSpent \n",
      "FROM Customer \n",
      "JOIN Invoice ON Customer.CustomerId = Invoice.CustomerId \n",
      "GROUP BY Customer.Country \n",
      "ORDER BY TotalSpent DESC \n",
      "LIMIT 5;\n",
      "```\n",
      "==================================\u001b[1m Ai Message \u001b[0m==================================\n",
      "Tool Calls:\n",
      "  sql_db_query (call_kF02IR42Js3WoircewxZK8Ap)\n",
      " Call ID: call_kF02IR42Js3WoircewxZK8Ap\n",
      "  Args:\n",
      "    query: SELECT Customer.Country, SUM(Invoice.Total) AS TotalSpent \n",
      "FROM Customer \n",
      "JOIN Invoice ON Customer.CustomerId = Invoice.CustomerId \n",
      "GROUP BY Customer.Country \n",
      "ORDER BY TotalSpent DESC \n",
      "LIMIT 5;\n",
      "=================================\u001b[1m Tool Message \u001b[0m=================================\n",
      "Name: sql_db_query\n",
      "\n",
      "[('USA', 523.06), ('Canada', 303.96), ('France', 195.1), ('Brazil', 190.1), ('Germany', 156.48)]\n",
      "==================================\u001b[1m Ai Message \u001b[0m==================================\n",
      "\n",
      "The countries where customers spent the most are as follows:\n",
      "\n",
      "1. USA: $523.06\n",
      "2. Canada: $303.96\n",
      "3. France: $195.10\n",
      "4. Brazil: $190.10\n",
      "5. Germany: $156.48\n"
     ]
    }
   ],
   "source": [
    "question = \"Which country's customers spent the most?\"\n",
    "\n",
    "for step in agent_executor.stream(\n",
    "    {\"messages\": [{\"role\": \"user\", \"content\": question}]},\n",
    "    stream_mode=\"values\",\n",
    "):\n",
    "    step[\"messages\"][-1].pretty_print()"
   ]
  },
  {
   "cell_type": "code",
   "execution_count": 28,
   "id": "33c507e7-e566-4efb-87c2-48f7de44109a",
   "metadata": {
    "execution": {
     "iopub.execute_input": "2025-05-26T12:38:35.116069Z",
     "iopub.status.busy": "2025-05-26T12:38:35.115498Z",
     "iopub.status.idle": "2025-05-26T12:38:41.792211Z",
     "shell.execute_reply": "2025-05-26T12:38:41.791258Z",
     "shell.execute_reply.started": "2025-05-26T12:38:35.116036Z"
    }
   },
   "outputs": [
    {
     "name": "stdout",
     "output_type": "stream",
     "text": [
      "================================\u001b[1m Human Message \u001b[0m=================================\n",
      "\n",
      "Describe the playlisttrack table\n",
      "==================================\u001b[1m Ai Message \u001b[0m==================================\n",
      "Tool Calls:\n",
      "  sql_db_list_tables (call_gidhGBlC50MvXy6IAZd6O8sN)\n",
      " Call ID: call_gidhGBlC50MvXy6IAZd6O8sN\n",
      "  Args:\n",
      "=================================\u001b[1m Tool Message \u001b[0m=================================\n",
      "Name: sql_db_list_tables\n",
      "\n",
      "Album, Artist, Customer, Employee, Genre, Invoice, InvoiceLine, MediaType, Playlist, PlaylistTrack, Track\n",
      "==================================\u001b[1m Ai Message \u001b[0m==================================\n",
      "Tool Calls:\n",
      "  sql_db_schema (call_Zwgp1uLBD1VPk9MogMyvqBNf)\n",
      " Call ID: call_Zwgp1uLBD1VPk9MogMyvqBNf\n",
      "  Args:\n",
      "    table_names: PlaylistTrack\n",
      "=================================\u001b[1m Tool Message \u001b[0m=================================\n",
      "Name: sql_db_schema\n",
      "\n",
      "\n",
      "CREATE TABLE \"PlaylistTrack\" (\n",
      "\t\"PlaylistId\" INTEGER NOT NULL, \n",
      "\t\"TrackId\" INTEGER NOT NULL, \n",
      "\tPRIMARY KEY (\"PlaylistId\", \"TrackId\"), \n",
      "\tFOREIGN KEY(\"TrackId\") REFERENCES \"Track\" (\"TrackId\"), \n",
      "\tFOREIGN KEY(\"PlaylistId\") REFERENCES \"Playlist\" (\"PlaylistId\")\n",
      ")\n",
      "\n",
      "/*\n",
      "3 rows from PlaylistTrack table:\n",
      "PlaylistId\tTrackId\n",
      "1\t3402\n",
      "1\t3389\n",
      "1\t3390\n",
      "*/\n",
      "==================================\u001b[1m Ai Message \u001b[0m==================================\n",
      "\n",
      "The `PlaylistTrack` table is structured to store associations between playlists and tracks. Here are the details of the table:\n",
      "\n",
      "- **Columns**:\n",
      "  - `PlaylistId`: INTEGER, represents the ID of the playlist. This is part of the primary key.\n",
      "  - `TrackId`: INTEGER, represents the ID of the track. This is also part of the primary key.\n",
      "  \n",
      "- **Constraints**:\n",
      "  - The combination of `PlaylistId` and `TrackId` serves as the primary key, ensuring that the same track cannot be added to the same playlist more than once.\n",
      "  - It has foreign keys:\n",
      "    - `TrackId` references `Track(TrackId)`, linking to the tracks in the `Track` table.\n",
      "    - `PlaylistId` references `Playlist(PlaylistId)`, linking to the playlists in the `Playlist` table.\n",
      "\n",
      "### Sample Data:\n",
      "Here are 3 rows from the `PlaylistTrack` table:\n",
      "\n",
      "| PlaylistId | TrackId |\n",
      "|------------|---------|\n",
      "| 1          | 3402    |\n",
      "| 1          | 3389    |\n",
      "| 1          | 3390    |\n"
     ]
    }
   ],
   "source": [
    "question = \"Describe the playlisttrack table\"\n",
    "\n",
    "for step in agent_executor.stream(\n",
    "    {\"messages\": [{\"role\": \"user\", \"content\": question}]},\n",
    "    stream_mode=\"values\",\n",
    "):\n",
    "    step[\"messages\"][-1].pretty_print()"
   ]
  },
  {
   "cell_type": "code",
   "execution_count": 29,
   "id": "c454ada4-38cc-4f67-be46-fd1f7d29d678",
   "metadata": {
    "execution": {
     "iopub.execute_input": "2025-05-26T12:42:59.130930Z",
     "iopub.status.busy": "2025-05-26T12:42:59.129214Z",
     "iopub.status.idle": "2025-05-26T12:43:11.825442Z",
     "shell.execute_reply": "2025-05-26T12:43:11.823856Z",
     "shell.execute_reply.started": "2025-05-26T12:42:59.130898Z"
    }
   },
   "outputs": [
    {
     "name": "stdout",
     "output_type": "stream",
     "text": [
      "================================\u001b[1m Human Message \u001b[0m=================================\n",
      "\n",
      "Can you analyze my data in one point?\n",
      "==================================\u001b[1m Ai Message \u001b[0m==================================\n",
      "Tool Calls:\n",
      "  sql_db_list_tables (call_RyQdAn12iE7WxFW9XViBsRin)\n",
      " Call ID: call_RyQdAn12iE7WxFW9XViBsRin\n",
      "  Args:\n",
      "=================================\u001b[1m Tool Message \u001b[0m=================================\n",
      "Name: sql_db_list_tables\n",
      "\n",
      "Album, Artist, Customer, Employee, Genre, Invoice, InvoiceLine, MediaType, Playlist, PlaylistTrack, Track\n",
      "==================================\u001b[1m Ai Message \u001b[0m==================================\n",
      "Tool Calls:\n",
      "  sql_db_schema (call_eI3nkolmF3gGR2yq90p7Ftkw)\n",
      " Call ID: call_eI3nkolmF3gGR2yq90p7Ftkw\n",
      "  Args:\n",
      "    table_names: Album, Artist, Customer, Employee, Genre, Invoice, InvoiceLine, MediaType, Playlist, PlaylistTrack, Track\n",
      "  sql_db_schema (call_Lab2zRvBBZgZnfS0bXYJKUQb)\n",
      " Call ID: call_Lab2zRvBBZgZnfS0bXYJKUQb\n",
      "  Args:\n",
      "    table_names: Invoice, InvoiceLine\n",
      "=================================\u001b[1m Tool Message \u001b[0m=================================\n",
      "Name: sql_db_schema\n",
      "\n",
      "\n",
      "CREATE TABLE \"Invoice\" (\n",
      "\t\"InvoiceId\" INTEGER NOT NULL, \n",
      "\t\"CustomerId\" INTEGER NOT NULL, \n",
      "\t\"InvoiceDate\" DATETIME NOT NULL, \n",
      "\t\"BillingAddress\" NVARCHAR(70), \n",
      "\t\"BillingCity\" NVARCHAR(40), \n",
      "\t\"BillingState\" NVARCHAR(40), \n",
      "\t\"BillingCountry\" NVARCHAR(40), \n",
      "\t\"BillingPostalCode\" NVARCHAR(10), \n",
      "\t\"Total\" NUMERIC(10, 2) NOT NULL, \n",
      "\tPRIMARY KEY (\"InvoiceId\"), \n",
      "\tFOREIGN KEY(\"CustomerId\") REFERENCES \"Customer\" (\"CustomerId\")\n",
      ")\n",
      "\n",
      "/*\n",
      "3 rows from Invoice table:\n",
      "InvoiceId\tCustomerId\tInvoiceDate\tBillingAddress\tBillingCity\tBillingState\tBillingCountry\tBillingPostalCode\tTotal\n",
      "1\t2\t2021-01-01 00:00:00\tTheodor-Heuss-Straße 34\tStuttgart\tNone\tGermany\t70174\t1.98\n",
      "2\t4\t2021-01-02 00:00:00\tUllevålsveien 14\tOslo\tNone\tNorway\t0171\t3.96\n",
      "3\t8\t2021-01-03 00:00:00\tGrétrystraat 63\tBrussels\tNone\tBelgium\t1000\t5.94\n",
      "*/\n",
      "\n",
      "\n",
      "CREATE TABLE \"InvoiceLine\" (\n",
      "\t\"InvoiceLineId\" INTEGER NOT NULL, \n",
      "\t\"InvoiceId\" INTEGER NOT NULL, \n",
      "\t\"TrackId\" INTEGER NOT NULL, \n",
      "\t\"UnitPrice\" NUMERIC(10, 2) NOT NULL, \n",
      "\t\"Quantity\" INTEGER NOT NULL, \n",
      "\tPRIMARY KEY (\"InvoiceLineId\"), \n",
      "\tFOREIGN KEY(\"TrackId\") REFERENCES \"Track\" (\"TrackId\"), \n",
      "\tFOREIGN KEY(\"InvoiceId\") REFERENCES \"Invoice\" (\"InvoiceId\")\n",
      ")\n",
      "\n",
      "/*\n",
      "3 rows from InvoiceLine table:\n",
      "InvoiceLineId\tInvoiceId\tTrackId\tUnitPrice\tQuantity\n",
      "1\t1\t2\t0.99\t1\n",
      "2\t1\t4\t0.99\t1\n",
      "3\t2\t6\t0.99\t1\n",
      "*/\n",
      "==================================\u001b[1m Ai Message \u001b[0m==================================\n",
      "\n",
      "The database contains the following tables:\n",
      "\n",
      "1. **Album**\n",
      "2. **Artist**\n",
      "3. **Customer**\n",
      "4. **Employee**\n",
      "5. **Genre**\n",
      "6. **Invoice**\n",
      "7. **InvoiceLine**\n",
      "8. **MediaType**\n",
      "9. **Playlist**\n",
      "10. **PlaylistTrack**\n",
      "11. **Track**\n",
      "\n",
      "### Relevant Tables and Sample Rows\n",
      "\n",
      "#### 1. Invoice\n",
      "- **InvoiceId**: INTEGER\n",
      "- **CustomerId**: INTEGER\n",
      "- **InvoiceDate**: DATETIME\n",
      "- **BillingAddress**: NVARCHAR(70)\n",
      "- **BillingCity**: NVARCHAR(40)\n",
      "- **BillingState**: NVARCHAR(40)\n",
      "- **BillingCountry**: NVARCHAR(40)\n",
      "- **BillingPostalCode**: NVARCHAR(10)\n",
      "- **Total**: NUMERIC(10, 2)\n",
      "\n",
      "**Sample Data:**\n",
      "- 1 | 2 | 2021-01-01 00:00:00 | Theodor-Heuss-Straße 34 | Stuttgart | None | Germany | 70174 | 1.98\n",
      "- 2 | 4 | 2021-01-02 00:00:00 | Ullevålsveien 14 | Oslo | None | Norway | 0171 | 3.96\n",
      "- 3 | 8 | 2021-01-03 00:00:00 | Grétrystraat 63 | Brussels | None | Belgium | 1000 | 5.94\n",
      "\n",
      "#### 2. InvoiceLine\n",
      "- **InvoiceLineId**: INTEGER\n",
      "- **InvoiceId**: INTEGER\n",
      "- **TrackId**: INTEGER\n",
      "- **UnitPrice**: NUMERIC(10, 2)\n",
      "- **Quantity**: INTEGER\n",
      "\n",
      "**Sample Data:**\n",
      "- 1 | 1 | 2 | 0.99 | 1\n",
      "- 2 | 1 | 4 | 0.99 | 1\n",
      "- 3 | 2 | 6 | 0.99 | 1\n",
      "\n",
      "### Analysis Opportunity\n",
      "Could you specify what particular analysis you are interested in? For instance:\n",
      "- Summarizing sales?\n",
      "- Analyzing customer purchasing behavior?\n",
      "- Information on the most popular tracks or albums?\n",
      "\n",
      "Please clarify your request so I can provide the most relevant analysis for your data.\n"
     ]
    }
   ],
   "source": [
    "question = \"Can you analyze my data in one point?\"\n",
    "\n",
    "for step in agent_executor.stream(\n",
    "    {\"messages\": [{\"role\": \"user\", \"content\": question}]},\n",
    "    stream_mode=\"values\",\n",
    "):\n",
    "    step[\"messages\"][-1].pretty_print()"
   ]
  },
  {
   "cell_type": "code",
   "execution_count": 30,
   "id": "0015b8ed-aaba-4f78-afaa-99d49bf7ae55",
   "metadata": {
    "execution": {
     "iopub.execute_input": "2025-05-26T12:44:02.045535Z",
     "iopub.status.busy": "2025-05-26T12:44:02.045257Z",
     "iopub.status.idle": "2025-05-26T12:44:22.872058Z",
     "shell.execute_reply": "2025-05-26T12:44:22.871316Z",
     "shell.execute_reply.started": "2025-05-26T12:44:02.045512Z"
    }
   },
   "outputs": [
    {
     "name": "stdout",
     "output_type": "stream",
     "text": [
      "================================\u001b[1m Human Message \u001b[0m=================================\n",
      "\n",
      "Analyzing customer purchasing behavior?\n",
      "==================================\u001b[1m Ai Message \u001b[0m==================================\n",
      "Tool Calls:\n",
      "  sql_db_list_tables (call_clC515yFjscDbjhBzwNE4z9c)\n",
      " Call ID: call_clC515yFjscDbjhBzwNE4z9c\n",
      "  Args:\n",
      "=================================\u001b[1m Tool Message \u001b[0m=================================\n",
      "Name: sql_db_list_tables\n",
      "\n",
      "Album, Artist, Customer, Employee, Genre, Invoice, InvoiceLine, MediaType, Playlist, PlaylistTrack, Track\n",
      "==================================\u001b[1m Ai Message \u001b[0m==================================\n",
      "Tool Calls:\n",
      "  sql_db_schema (call_17Keo1G5G0gDZ5pSpzMjXqzP)\n",
      " Call ID: call_17Keo1G5G0gDZ5pSpzMjXqzP\n",
      "  Args:\n",
      "    table_names: Customer\n",
      "  sql_db_schema (call_F4w5CEiVVor5ptiInoMX6h49)\n",
      " Call ID: call_F4w5CEiVVor5ptiInoMX6h49\n",
      "  Args:\n",
      "    table_names: Invoice\n",
      "  sql_db_schema (call_cqwwjwwt4rjk9Mjukn8lP8o2)\n",
      " Call ID: call_cqwwjwwt4rjk9Mjukn8lP8o2\n",
      "  Args:\n",
      "    table_names: InvoiceLine\n",
      "=================================\u001b[1m Tool Message \u001b[0m=================================\n",
      "Name: sql_db_schema\n",
      "\n",
      "\n",
      "CREATE TABLE \"InvoiceLine\" (\n",
      "\t\"InvoiceLineId\" INTEGER NOT NULL, \n",
      "\t\"InvoiceId\" INTEGER NOT NULL, \n",
      "\t\"TrackId\" INTEGER NOT NULL, \n",
      "\t\"UnitPrice\" NUMERIC(10, 2) NOT NULL, \n",
      "\t\"Quantity\" INTEGER NOT NULL, \n",
      "\tPRIMARY KEY (\"InvoiceLineId\"), \n",
      "\tFOREIGN KEY(\"TrackId\") REFERENCES \"Track\" (\"TrackId\"), \n",
      "\tFOREIGN KEY(\"InvoiceId\") REFERENCES \"Invoice\" (\"InvoiceId\")\n",
      ")\n",
      "\n",
      "/*\n",
      "3 rows from InvoiceLine table:\n",
      "InvoiceLineId\tInvoiceId\tTrackId\tUnitPrice\tQuantity\n",
      "1\t1\t2\t0.99\t1\n",
      "2\t1\t4\t0.99\t1\n",
      "3\t2\t6\t0.99\t1\n",
      "*/\n",
      "==================================\u001b[1m Ai Message \u001b[0m==================================\n",
      "\n",
      "The database has the following relevant tables for analyzing customer purchasing behavior:\n",
      "\n",
      "1. **Customer**: Contains customer details such as names, addresses, email, and a support representative ID.\n",
      "   - **Relevant Columns**: CustomerId, FirstName, LastName, Email\n",
      "\n",
      "2. **Invoice**: Contains records of invoices issued to customers.\n",
      "   - **Relevant Columns**: InvoiceId, CustomerId, InvoiceDate, Total\n",
      "\n",
      "3. **InvoiceLine**: Contains detailed records of items included in each invoice.\n",
      "   - **Relevant Columns**: InvoiceLineId, InvoiceId, TrackId, UnitPrice, Quantity\n",
      "\n",
      "Given this information, how about we analyze recent customer purchasing behavior by retrieving a summary of purchases from the last 30 days? This will include customer names and the total amounts they spent. Let me create that query. \n",
      "\n",
      "The query will join the Customer, Invoice, and InvoiceLine tables to get the relevant data.\n",
      "\n",
      "### Query\n",
      "```sql\n",
      "SELECT \n",
      "    c.FirstName, \n",
      "    c.LastName, \n",
      "    SUM(i.Total) AS TotalSpent\n",
      "FROM \n",
      "    Customer c\n",
      "JOIN \n",
      "    Invoice i ON c.CustomerId = i.CustomerId\n",
      "WHERE \n",
      "    i.InvoiceDate >= DATE('now', '-30 days')\n",
      "GROUP BY \n",
      "    c.CustomerId\n",
      "ORDER BY \n",
      "    TotalSpent DESC\n",
      "LIMIT 5;\n",
      "```\n",
      "\n",
      "I'll check this query for correctness before executing it.\n",
      "Tool Calls:\n",
      "  sql_db_query_checker (call_3LlemOavYFofJtr8CSYRCQgZ)\n",
      " Call ID: call_3LlemOavYFofJtr8CSYRCQgZ\n",
      "  Args:\n",
      "    query: SELECT \n",
      "    c.FirstName, \n",
      "    c.LastName, \n",
      "    SUM(i.Total) AS TotalSpent\n",
      "FROM \n",
      "    Customer c\n",
      "JOIN \n",
      "    Invoice i ON c.CustomerId = i.CustomerId\n",
      "WHERE \n",
      "    i.InvoiceDate >= DATE('now', '-30 days')\n",
      "GROUP BY \n",
      "    c.CustomerId\n",
      "ORDER BY \n",
      "    TotalSpent DESC\n",
      "LIMIT 5;\n",
      "=================================\u001b[1m Tool Message \u001b[0m=================================\n",
      "Name: sql_db_query_checker\n",
      "\n",
      "```sql\n",
      "SELECT \n",
      "    c.FirstName, \n",
      "    c.LastName, \n",
      "    SUM(i.Total) AS TotalSpent\n",
      "FROM \n",
      "    Customer c\n",
      "JOIN \n",
      "    Invoice i ON c.CustomerId = i.CustomerId\n",
      "WHERE \n",
      "    i.InvoiceDate >= DATE('now', '-30 days')\n",
      "GROUP BY \n",
      "    c.CustomerId, c.FirstName, c.LastName\n",
      "ORDER BY \n",
      "    TotalSpent DESC\n",
      "LIMIT 5;\n",
      "```\n",
      "==================================\u001b[1m Ai Message \u001b[0m==================================\n",
      "Tool Calls:\n",
      "  sql_db_query (call_qSEgwo5BMhWpCGP8VtiL96VW)\n",
      " Call ID: call_qSEgwo5BMhWpCGP8VtiL96VW\n",
      "  Args:\n",
      "    query: SELECT \n",
      "    c.FirstName, \n",
      "    c.LastName, \n",
      "    SUM(i.Total) AS TotalSpent\n",
      "FROM \n",
      "    Customer c\n",
      "JOIN \n",
      "    Invoice i ON c.CustomerId = i.CustomerId\n",
      "WHERE \n",
      "    i.InvoiceDate >= DATE('now', '-30 days')\n",
      "GROUP BY \n",
      "    c.CustomerId, c.FirstName, c.LastName\n",
      "ORDER BY \n",
      "    TotalSpent DESC\n",
      "LIMIT 5;\n",
      "=================================\u001b[1m Tool Message \u001b[0m=================================\n",
      "Name: sql_db_query\n",
      "\n",
      "[('Helena', 'Holý', 27.84), ('Eduardo', 'Martins', 15.84), ('Patrick', 'Gray', 15.84), ('Martha', 'Silk', 15.84), ('Terhi', 'Hämäläinen', 15.84)]\n",
      "==================================\u001b[1m Ai Message \u001b[0m==================================\n",
      "\n",
      "Here are the top customers based on their spending in the last 30 days:\n",
      "\n",
      "1. **Helena Holý** - Total Spent: $27.84\n",
      "2. **Eduardo Martins** - Total Spent: $15.84\n",
      "3. **Patrick Gray** - Total Spent: $15.84\n",
      "4. **Martha Silk** - Total Spent: $15.84\n",
      "5. **Terhi Hämäläinen** - Total Spent: $15.84\n",
      "\n",
      "This summary provides insights into the recent purchasing behavior of customers, highlighting those who have spent the most in the recent month. If you need additional analysis or specific data, feel free to ask!\n"
     ]
    }
   ],
   "source": [
    "question = \"Analyzing customer purchasing behavior?\"\n",
    "\n",
    "for step in agent_executor.stream(\n",
    "    {\"messages\": [{\"role\": \"user\", \"content\": question}]},\n",
    "    stream_mode=\"values\",\n",
    "):\n",
    "    step[\"messages\"][-1].pretty_print()"
   ]
  },
  {
   "cell_type": "markdown",
   "id": "5e7a58c9-eed6-43a6-b6f0-e9e517988709",
   "metadata": {},
   "source": [
    "# agentic with spell checking"
   ]
  },
  {
   "cell_type": "code",
   "execution_count": 49,
   "id": "67e50cef-8dad-4b80-aa83-7e70189047fb",
   "metadata": {
    "execution": {
     "iopub.execute_input": "2025-08-18T12:16:18.848944Z",
     "iopub.status.busy": "2025-08-18T12:16:18.847123Z",
     "iopub.status.idle": "2025-08-18T12:16:18.878102Z",
     "shell.execute_reply": "2025-08-18T12:16:18.877283Z",
     "shell.execute_reply.started": "2025-08-18T12:16:18.848862Z"
    }
   },
   "outputs": [
    {
     "data": {
      "text/plain": [
       "['The Ultimate Relexation Album',\n",
       " 'Supernatural',\n",
       " 'Dance Of Death',\n",
       " 'Charpentier: Divertissements, Airs & Concerts',\n",
       " 'Live On Two Legs [Live]']"
      ]
     },
     "execution_count": 49,
     "metadata": {},
     "output_type": "execute_result"
    }
   ],
   "source": [
    "import ast\n",
    "import re\n",
    "\n",
    "\n",
    "def query_as_list(db, query):\n",
    "    res = db.run(query)\n",
    "    res = [el for sub in ast.literal_eval(res) for el in sub if el]\n",
    "    res = [re.sub(r\"\\b\\d+\\b\", \"\", string).strip() for string in res]\n",
    "    return list(set(res))\n",
    "\n",
    "\n",
    "artists = query_as_list(db, \"SELECT Name FROM Artist\")\n",
    "albums = query_as_list(db, \"SELECT Title FROM Album\")\n",
    "albums[:5]"
   ]
  },
  {
   "cell_type": "code",
   "execution_count": 51,
   "id": "120e5517-a668-4997-9af1-3eaf07beccee",
   "metadata": {
    "execution": {
     "iopub.execute_input": "2025-08-18T12:17:38.496240Z",
     "iopub.status.busy": "2025-08-18T12:17:38.495813Z",
     "iopub.status.idle": "2025-08-18T12:17:45.867855Z",
     "shell.execute_reply": "2025-08-18T12:17:45.867071Z",
     "shell.execute_reply.started": "2025-08-18T12:17:38.496202Z"
    }
   },
   "outputs": [],
   "source": [
    "from langchain.agents.agent_toolkits import create_retriever_tool\n",
    "\n",
    "_ = vector_store.add_texts(artists + albums)\n",
    "retriever = vector_store.as_retriever(search_kwargs={\"k\": 5})\n",
    "description = (\n",
    "    \"Use to look up values to filter on. Input is an approximate spelling \"\n",
    "    \"of the proper noun, output is valid proper nouns. Use the noun most \"\n",
    "    \"similar to the search.\"\n",
    ")\n",
    "retriever_tool = create_retriever_tool(\n",
    "    retriever,\n",
    "    name=\"search_proper_nouns\",\n",
    "    description=description,\n",
    ")"
   ]
  },
  {
   "cell_type": "code",
   "execution_count": 37,
   "id": "05bd1168-f488-4835-8645-cb4228d51189",
   "metadata": {
    "execution": {
     "iopub.execute_input": "2025-05-26T13:17:37.156492Z",
     "iopub.status.busy": "2025-05-26T13:17:37.156014Z",
     "iopub.status.idle": "2025-05-26T13:17:39.047075Z",
     "shell.execute_reply": "2025-05-26T13:17:39.045133Z",
     "shell.execute_reply.started": "2025-05-26T13:17:37.156466Z"
    }
   },
   "outputs": [
    {
     "name": "stdout",
     "output_type": "stream",
     "text": [
      "Alice In Chains\n",
      "\n",
      "Alanis Morissette\n",
      "\n",
      "Jagged Little Pill\n",
      "\n",
      "Angel Dust\n",
      "\n",
      "Amy Winehouse\n"
     ]
    }
   ],
   "source": [
    "print(retriever_tool.invoke(\"Alice Chains\"))"
   ]
  },
  {
   "cell_type": "code",
   "execution_count": 38,
   "id": "0468ffd9-03b4-4cd6-8353-f420ffaa0f97",
   "metadata": {
    "execution": {
     "iopub.execute_input": "2025-05-26T13:17:50.245966Z",
     "iopub.status.busy": "2025-05-26T13:17:50.245442Z",
     "iopub.status.idle": "2025-05-26T13:17:50.302289Z",
     "shell.execute_reply": "2025-05-26T13:17:50.301415Z",
     "shell.execute_reply.started": "2025-05-26T13:17:50.245939Z"
    }
   },
   "outputs": [],
   "source": [
    "suffix = (\n",
    "    \"If you need to filter on a proper noun like a Name, you must ALWAYS first look up \"\n",
    "    \"the filter value using the 'search_proper_nouns' tool! Do not try to \"\n",
    "    \"guess at the proper name - use this function to find similar ones.\"\n",
    ")\n",
    "\n",
    "system = f\"{system_message}\\n\\n{suffix}\"\n",
    "\n",
    "tools.append(retriever_tool)\n",
    "\n",
    "agent = create_react_agent(llm, tools, prompt=system)"
   ]
  },
  {
   "cell_type": "code",
   "execution_count": 39,
   "id": "3441967f-e345-4062-833b-8672eac253f6",
   "metadata": {
    "execution": {
     "iopub.execute_input": "2025-05-26T13:17:51.996988Z",
     "iopub.status.busy": "2025-05-26T13:17:51.993502Z",
     "iopub.status.idle": "2025-05-26T13:18:01.795822Z",
     "shell.execute_reply": "2025-05-26T13:18:01.794768Z",
     "shell.execute_reply.started": "2025-05-26T13:17:51.996944Z"
    }
   },
   "outputs": [
    {
     "name": "stdout",
     "output_type": "stream",
     "text": [
      "================================\u001b[1m Human Message \u001b[0m=================================\n",
      "\n",
      "How many albums does alis in chain have?\n",
      "==================================\u001b[1m Ai Message \u001b[0m==================================\n",
      "Tool Calls:\n",
      "  sql_db_list_tables (call_UIytwVeGrqaw92p5E7amv3WS)\n",
      " Call ID: call_UIytwVeGrqaw92p5E7amv3WS\n",
      "  Args:\n",
      "=================================\u001b[1m Tool Message \u001b[0m=================================\n",
      "Name: sql_db_list_tables\n",
      "\n",
      "Album, Artist, Customer, Employee, Genre, Invoice, InvoiceLine, MediaType, Playlist, PlaylistTrack, Track\n",
      "==================================\u001b[1m Ai Message \u001b[0m==================================\n",
      "Tool Calls:\n",
      "  sql_db_schema (call_5MY59ONogqm384RdyfKCgBtQ)\n",
      " Call ID: call_5MY59ONogqm384RdyfKCgBtQ\n",
      "  Args:\n",
      "    table_names: Album, Artist\n",
      "=================================\u001b[1m Tool Message \u001b[0m=================================\n",
      "Name: sql_db_schema\n",
      "\n",
      "\n",
      "CREATE TABLE \"Album\" (\n",
      "\t\"AlbumId\" INTEGER NOT NULL, \n",
      "\t\"Title\" NVARCHAR(160) NOT NULL, \n",
      "\t\"ArtistId\" INTEGER NOT NULL, \n",
      "\tPRIMARY KEY (\"AlbumId\"), \n",
      "\tFOREIGN KEY(\"ArtistId\") REFERENCES \"Artist\" (\"ArtistId\")\n",
      ")\n",
      "\n",
      "/*\n",
      "3 rows from Album table:\n",
      "AlbumId\tTitle\tArtistId\n",
      "1\tFor Those About To Rock We Salute You\t1\n",
      "2\tBalls to the Wall\t2\n",
      "3\tRestless and Wild\t2\n",
      "*/\n",
      "\n",
      "\n",
      "CREATE TABLE \"Artist\" (\n",
      "\t\"ArtistId\" INTEGER NOT NULL, \n",
      "\t\"Name\" NVARCHAR(120), \n",
      "\tPRIMARY KEY (\"ArtistId\")\n",
      ")\n",
      "\n",
      "/*\n",
      "3 rows from Artist table:\n",
      "ArtistId\tName\n",
      "1\tAC/DC\n",
      "2\tAccept\n",
      "3\tAerosmith\n",
      "*/\n",
      "==================================\u001b[1m Ai Message \u001b[0m==================================\n",
      "Tool Calls:\n",
      "  search_proper_nouns (call_OMrVGRTtA07Y80gxs2FCzwZi)\n",
      " Call ID: call_OMrVGRTtA07Y80gxs2FCzwZi\n",
      "  Args:\n",
      "    query: alis in chain\n",
      "=================================\u001b[1m Tool Message \u001b[0m=================================\n",
      "Name: search_proper_nouns\n",
      "\n",
      "Alice In Chains\n",
      "\n",
      "Alanis Morissette\n",
      "\n",
      "Up An' Atom\n",
      "\n",
      "A-Sides\n",
      "\n",
      "Jagged Little Pill\n",
      "==================================\u001b[1m Ai Message \u001b[0m==================================\n",
      "Tool Calls:\n",
      "  sql_db_query (call_ikbE2J433Eb0OzURbcxE6GY2)\n",
      " Call ID: call_ikbE2J433Eb0OzURbcxE6GY2\n",
      "  Args:\n",
      "    query: SELECT COUNT(*) as AlbumCount FROM Album JOIN Artist ON Album.ArtistId = Artist.ArtistId WHERE Artist.Name = 'Alice In Chains'\n",
      "=================================\u001b[1m Tool Message \u001b[0m=================================\n",
      "Name: sql_db_query\n",
      "\n",
      "[(1,)]\n",
      "==================================\u001b[1m Ai Message \u001b[0m==================================\n",
      "\n",
      "Alice In Chains has 1 album in the database.\n"
     ]
    }
   ],
   "source": [
    "question = \"How many albums does alis in chain have?\"\n",
    "\n",
    "for step in agent.stream(\n",
    "    {\"messages\": [{\"role\": \"user\", \"content\": question}]},\n",
    "    stream_mode=\"values\",\n",
    "):\n",
    "    step[\"messages\"][-1].pretty_print()"
   ]
  }
 ],
 "metadata": {
  "kernelspec": {
   "display_name": "Python 3 (ipykernel)",
   "language": "python",
   "name": "python3"
  },
  "language_info": {
   "codemirror_mode": {
    "name": "ipython",
    "version": 3
   },
   "file_extension": ".py",
   "mimetype": "text/x-python",
   "name": "python",
   "nbconvert_exporter": "python",
   "pygments_lexer": "ipython3",
   "version": "3.12.9"
  }
 },
 "nbformat": 4,
 "nbformat_minor": 5
}
