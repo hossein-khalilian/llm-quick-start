{
 "cells": [
  {
   "cell_type": "markdown",
   "id": "b0d6f536-87a7-499c-b3af-1715fa9027ff",
   "metadata": {
    "jp-MarkdownHeadingCollapsed": true
   },
   "source": [
    "# Setup"
   ]
  },
  {
   "cell_type": "code",
   "execution_count": 7,
   "id": "7aab98de-0572-484f-a39a-8a92e4eb8447",
   "metadata": {},
   "outputs": [],
   "source": [
    "# !proxychains pip install langchain-tavily"
   ]
  },
  {
   "cell_type": "code",
   "execution_count": 8,
   "id": "94309301-addf-4dfa-b6df-abeb8be3f270",
   "metadata": {},
   "outputs": [],
   "source": [
    "from langfuse.callback import CallbackHandler\n",
    "\n",
    "langfuse_handler = CallbackHandler(\n",
    "  secret_key=\"sk-lf-97826ab0-bdc0-4159-a34b-20c4ef35f598\",\n",
    "  public_key=\"pk-lf-ba431a2c-da14-42c0-9e43-5af9e5f4d126\",\n",
    "  host=\"https://cloud.langfuse.com\"\n",
    ")\n",
    "\n",
    "# chain.invoke({\"input\": \"<user_input>\"}, config={\"callbacks\": [langfuse_handler]})"
   ]
  },
  {
   "cell_type": "code",
   "execution_count": 9,
   "id": "7bb6026d-85ee-425e-8e61-d228a4d1d304",
   "metadata": {},
   "outputs": [
    {
     "data": {
      "text/plain": [
       "True"
      ]
     },
     "execution_count": 9,
     "metadata": {},
     "output_type": "execute_result"
    }
   ],
   "source": [
    "from dotenv import load_dotenv\n",
    "load_dotenv()"
   ]
  },
  {
   "cell_type": "code",
   "execution_count": 10,
   "id": "df594411-7ba0-45e6-b2d0-a70f96cc8dad",
   "metadata": {},
   "outputs": [],
   "source": [
    "import getpass\n",
    "import os\n",
    "\n",
    "if not os.environ.get(\"OPENAI_API_KEY\"):\n",
    "  os.environ[\"OPENAI_API_KEY\"] = getpass.getpass(\"Enter API key for OpenAI: \")\n",
    "\n",
    "from langchain.chat_models import init_chat_model\n",
    "\n",
    "llm = init_chat_model(\"gpt-4o-mini\", model_provider=\"openai\")"
   ]
  },
  {
   "cell_type": "code",
   "execution_count": 11,
   "id": "f164c3b7-a733-458b-8596-d1bd30ae864d",
   "metadata": {},
   "outputs": [],
   "source": [
    "import getpass\n",
    "import os\n",
    "\n",
    "if not os.environ.get(\"OPENAI_API_KEY\"):\n",
    "  os.environ[\"OPENAI_API_KEY\"] = getpass.getpass(\"Enter API key for OpenAI: \")\n",
    "\n",
    "from langchain_openai import OpenAIEmbeddings\n",
    "\n",
    "embeddings = OpenAIEmbeddings(model=\"text-embedding-3-large\")"
   ]
  },
  {
   "cell_type": "code",
   "execution_count": 12,
   "id": "6a4886bd-b06b-4bc1-8450-8e0ea5105ab8",
   "metadata": {},
   "outputs": [],
   "source": [
    "from langchain_core.vectorstores import InMemoryVectorStore\n",
    "\n",
    "vector_store = InMemoryVectorStore(embeddings)"
   ]
  },
  {
   "cell_type": "code",
   "execution_count": 40,
   "id": "9ac2d4b6-e077-4547-8b8c-924fc6f46854",
   "metadata": {},
   "outputs": [],
   "source": [
    "from langchain_tavily import TavilySearch\n",
    "\n",
    "search_tool = TavilySearch(max_results=2)"
   ]
  },
  {
   "cell_type": "code",
   "execution_count": 21,
   "id": "8a98db48-2f78-4919-83d1-7acb55c4fee1",
   "metadata": {},
   "outputs": [],
   "source": [
    "from langgraph.checkpoint.memory import MemorySaver\n",
    "\n",
    "memory = MemorySaver()"
   ]
  },
  {
   "cell_type": "markdown",
   "id": "7b1ac1e2-11b9-4237-9ec2-0960283e91b8",
   "metadata": {
    "jp-MarkdownHeadingCollapsed": true
   },
   "source": [
    "# tools"
   ]
  },
  {
   "cell_type": "code",
   "execution_count": 43,
   "id": "c3bebcbf-7385-400b-af5d-2be494940d09",
   "metadata": {},
   "outputs": [],
   "source": [
    "from langgraph.types import Command, interrupt\n",
    "from langchain.tools import tool"
   ]
  },
  {
   "cell_type": "code",
   "execution_count": 45,
   "id": "9cd198ad-ff77-4aac-8802-50910915b05f",
   "metadata": {},
   "outputs": [],
   "source": [
    "@tool\n",
    "def human_assistance(query: str) -> str:\n",
    "    \"\"\"Request assistance from a human.\"\"\"\n",
    "    human_response = interrupt({\"query\": query})\n",
    "    return human_response[\"data\"]\n",
    "    \n",
    "tools = [search_tool, human_assistance]\n",
    "llm_with_tools = llm.bind_tools(tools)"
   ]
  },
  {
   "cell_type": "markdown",
   "id": "290b5e7c-48c2-4216-a7be-47983ebb6ddb",
   "metadata": {
    "jp-MarkdownHeadingCollapsed": true
   },
   "source": [
    "# graph"
   ]
  },
  {
   "cell_type": "code",
   "execution_count": 46,
   "id": "83e7be4a-5206-4802-a802-65c7188eb955",
   "metadata": {},
   "outputs": [],
   "source": [
    "from typing import Annotated\n",
    "\n",
    "from typing_extensions import TypedDict\n",
    "from langgraph.graph import StateGraph, START\n",
    "from langgraph.graph.message import add_messages\n",
    "from langgraph.prebuilt import ToolNode, tools_condition\n",
    "\n",
    "class State(TypedDict):\n",
    "    messages: Annotated[list, add_messages]\n",
    "\n",
    "def chatbot(state: State):\n",
    "    message = llm_with_tools.invoke(state[\"messages\"])\n",
    "    # Because we will be interrupting during tool execution,\n",
    "    # we disable parallel tool calling to avoid repeating any\n",
    "    # tool invocations when we resume.\n",
    "    assert len(message.tool_calls) <= 1\n",
    "    return {\"messages\": [message]}"
   ]
  },
  {
   "cell_type": "code",
   "execution_count": 47,
   "id": "ebf2060d-ed84-4f05-ba4f-57cd10c9c588",
   "metadata": {},
   "outputs": [
    {
     "data": {
      "image/png": "[encoded data removed]",
      "text/plain": [
       "<langgraph.graph.state.CompiledStateGraph object at 0x7f82d6ed1c70>"
      ]
     },
     "execution_count": 47,
     "metadata": {},
     "output_type": "execute_result"
    }
   ],
   "source": [
    "graph_builder = StateGraph(State)\n",
    "graph_builder.add_node(\"chatbot\", chatbot)\n",
    "graph_builder.add_edge(START, \"chatbot\")\n",
    "\n",
    "tool_node = ToolNode(tools=tools)\n",
    "graph_builder.add_node(\"tools\", tool_node)\n",
    "\n",
    "graph_builder.add_conditional_edges(\n",
    "    \"chatbot\",\n",
    "    tools_condition,\n",
    ")\n",
    "# Any time a tool is called, we return to the chatbot to decide the next step\n",
    "graph_builder.add_edge(\"tools\", \"chatbot\")\n",
    "graph = graph_builder.compile(checkpointer=memory)\n",
    "graph"
   ]
  },
  {
   "cell_type": "markdown",
   "id": "d2f7b281-36ae-4b5e-83e7-d6fc4a39075e",
   "metadata": {
    "jp-MarkdownHeadingCollapsed": true
   },
   "source": [
    "# Usage"
   ]
  },
  {
   "cell_type": "code",
   "execution_count": 23,
   "id": "53bf2aad-e714-4e77-96e6-ad6c5fe07aa0",
   "metadata": {},
   "outputs": [],
   "source": [
    "config = {\"configurable\": {\"thread_id\": \"1\"}}"
   ]
  },
  {
   "cell_type": "code",
   "execution_count": 24,
   "id": "3a0ff69a-5214-47cb-b462-a514e1beae42",
   "metadata": {},
   "outputs": [
    {
     "name": "stdout",
     "output_type": "stream",
     "text": [
      "================================\u001b[1m Human Message \u001b[0m=================================\n",
      "\n",
      "Hi there! My name is Will.\n",
      "==================================\u001b[1m Ai Message \u001b[0m==================================\n",
      "\n",
      "Hello, Will! How can I assist you today?\n"
     ]
    }
   ],
   "source": [
    "user_input = \"Hi there! My name is Will.\"\n",
    "\n",
    "# The config is the **second positional argument** to stream() or invoke()!\n",
    "events = graph.stream(\n",
    "    {\"messages\": [{\"role\": \"user\", \"content\": user_input}]},\n",
    "    config,\n",
    "    stream_mode=\"values\",\n",
    ")\n",
    "for event in events:\n",
    "    event[\"messages\"][-1].pretty_print()"
   ]
  },
  {
   "cell_type": "code",
   "execution_count": 26,
   "id": "0d92f205-9136-4c81-ae28-c8a43dd40c3f",
   "metadata": {},
   "outputs": [
    {
     "name": "stdout",
     "output_type": "stream",
     "text": [
      "================================\u001b[1m Human Message \u001b[0m=================================\n",
      "\n",
      "Remember my name?\n",
      "==================================\u001b[1m Ai Message \u001b[0m==================================\n",
      "\n",
      "Yes, Will! I remember your name. How can I assist you today?\n"
     ]
    }
   ],
   "source": [
    "user_input = \"Remember my name?\"\n",
    "\n",
    "# The config is the **second positional argument** to stream() or invoke()!\n",
    "events = graph.stream(\n",
    "    {\"messages\": [{\"role\": \"user\", \"content\": user_input}]},\n",
    "    config,\n",
    "    stream_mode=\"values\",\n",
    ")\n",
    "for event in events:\n",
    "    event[\"messages\"][-1].pretty_print()"
   ]
  },
  {
   "cell_type": "code",
   "execution_count": 27,
   "id": "f9fa24b3-9ad5-4f3d-ae8b-7c54908e37ae",
   "metadata": {},
   "outputs": [
    {
     "name": "stdout",
     "output_type": "stream",
     "text": [
      "================================\u001b[1m Human Message \u001b[0m=================================\n",
      "\n",
      "Do you know anything about agentic programming?\n",
      "==================================\u001b[1m Ai Message \u001b[0m==================================\n",
      "Tool Calls:\n",
      "  tavily_search (call_HWMo0SeoZ4dFS3czfZXvulSD)\n",
      " Call ID: call_HWMo0SeoZ4dFS3czfZXvulSD\n",
      "  Args:\n",
      "    query: agentic programming\n",
      "    search_depth: advanced\n",
      "=================================\u001b[1m Tool Message \u001b[0m=================================\n",
      "Name: tavily_search\n",
      "\n",
      "{\"query\": \"agentic programming\", \"follow_up_questions\": null, \"answer\": null, \"images\": [], \"results\": [{\"url\": \"https://en.wikipedia.org/wiki/Agent-oriented_programming\", \"title\": \"Agent-oriented programming - Wikipedia\", \"content\": \"Agent-oriented programming (AOP) is a programming paradigm where the construction of the software is centered on the concept of software agents.\", \"score\": 0.8482825, \"raw_content\": null}, {\"url\": \"https://www.riis.com/blog/introduction-to-agentic-programming-part-1\", \"title\": \"Introduction to Agentic Programming Part 1 - RIIS LLC\", \"content\": \"Explore agentic programming: autonomous AI agents using LLMs for complex tasks. Learn about frameworks like LangChain, CrewAI, and advanced applications.\", \"score\": 0.7520312, \"raw_content\": null}], \"response_time\": 2.08}\n",
      "==================================\u001b[1m Ai Message \u001b[0m==================================\n",
      "\n",
      "Agentic programming refers to a programming paradigm that focuses on the use of autonomous AI agents capable of performing complex tasks. This approach leverages frameworks such as LangChain and CrewAI to create software that can operate with a degree of autonomy.\n",
      "\n",
      "1. **Agent-oriented programming (AOP)**: This is a general term related to programming paradigms centered on software agents, which are entities that can act on behalf of users or other entities. You can find more about it [here](https://en.wikipedia.org/wiki/Agent-oriented_programming).\n",
      "\n",
      "2. **Introduction to Agentic Programming**: An article from RIIS LLC provides insights into how agentic programming utilizes large language models (LLMs) for complex tasks and explores various frameworks related to this concept. You can read it [here](https://www.riis.com/blog/introduction-to-agentic-programming-part-1).\n",
      "\n",
      "If you would like to know more about any specific aspect of agentic programming, feel free to ask!\n"
     ]
    }
   ],
   "source": [
    "user_input = \"Do you know anything about agentic programming?\"\n",
    "\n",
    "# The config is the **second positional argument** to stream() or invoke()!\n",
    "events = graph.stream(\n",
    "    {\"messages\": [{\"role\": \"user\", \"content\": user_input}]},\n",
    "    config,\n",
    "    stream_mode=\"values\",\n",
    ")\n",
    "for event in events:\n",
    "    event[\"messages\"][-1].pretty_print()"
   ]
  },
  {
   "cell_type": "code",
   "execution_count": 36,
   "id": "dc3776e9-7f88-41f9-b9f5-635d24bf0a32",
   "metadata": {},
   "outputs": [
    {
     "name": "stdout",
     "output_type": "stream",
     "text": [
      "================================\u001b[1m Human Message \u001b[0m=================================\n",
      "\n",
      "Hi there! My name is Will.\n",
      "None\n",
      "==================================\u001b[1m Ai Message \u001b[0m==================================\n",
      "\n",
      "Hello, Will! How can I assist you today?\n",
      "None\n",
      "================================\u001b[1m Human Message \u001b[0m=================================\n",
      "\n",
      "Hi there! My name is Will.\n",
      "None\n",
      "==================================\u001b[1m Ai Message \u001b[0m==================================\n",
      "\n",
      "Hello again, Will! How can I help you today?\n",
      "None\n",
      "================================\u001b[1m Human Message \u001b[0m=================================\n",
      "\n",
      "Remember my name?\n",
      "None\n",
      "==================================\u001b[1m Ai Message \u001b[0m==================================\n",
      "\n",
      "Yes, Will! I remember your name. How can I assist you today?\n",
      "None\n",
      "================================\u001b[1m Human Message \u001b[0m=================================\n",
      "\n",
      "Do you know anything about agentic programming?\n",
      "None\n",
      "==================================\u001b[1m Ai Message \u001b[0m==================================\n",
      "Tool Calls:\n",
      "  tavily_search (call_HWMo0SeoZ4dFS3czfZXvulSD)\n",
      " Call ID: call_HWMo0SeoZ4dFS3czfZXvulSD\n",
      "  Args:\n",
      "    query: agentic programming\n",
      "    search_depth: advanced\n",
      "None\n",
      "=================================\u001b[1m Tool Message \u001b[0m=================================\n",
      "Name: tavily_search\n",
      "\n",
      "{\"query\": \"agentic programming\", \"follow_up_questions\": null, \"answer\": null, \"images\": [], \"results\": [{\"url\": \"https://en.wikipedia.org/wiki/Agent-oriented_programming\", \"title\": \"Agent-oriented programming - Wikipedia\", \"content\": \"Agent-oriented programming (AOP) is a programming paradigm where the construction of the software is centered on the concept of software agents.\", \"score\": 0.8482825, \"raw_content\": null}, {\"url\": \"https://www.riis.com/blog/introduction-to-agentic-programming-part-1\", \"title\": \"Introduction to Agentic Programming Part 1 - RIIS LLC\", \"content\": \"Explore agentic programming: autonomous AI agents using LLMs for complex tasks. Learn about frameworks like LangChain, CrewAI, and advanced applications.\", \"score\": 0.7520312, \"raw_content\": null}], \"response_time\": 2.08}\n",
      "None\n",
      "==================================\u001b[1m Ai Message \u001b[0m==================================\n",
      "\n",
      "Agentic programming refers to a programming paradigm that focuses on the use of autonomous AI agents capable of performing complex tasks. This approach leverages frameworks such as LangChain and CrewAI to create software that can operate with a degree of autonomy.\n",
      "\n",
      "1. **Agent-oriented programming (AOP)**: This is a general term related to programming paradigms centered on software agents, which are entities that can act on behalf of users or other entities. You can find more about it [here](https://en.wikipedia.org/wiki/Agent-oriented_programming).\n",
      "\n",
      "2. **Introduction to Agentic Programming**: An article from RIIS LLC provides insights into how agentic programming utilizes large language models (LLMs) for complex tasks and explores various frameworks related to this concept. You can read it [here](https://www.riis.com/blog/introduction-to-agentic-programming-part-1).\n",
      "\n",
      "If you would like to know more about any specific aspect of agentic programming, feel free to ask!\n",
      "None\n"
     ]
    }
   ],
   "source": [
    "snapshot = graph.get_state(config)\n",
    "for message in snapshot.values[\"messages\"]:\n",
    "    print(message.pretty_print())"
   ]
  },
  {
   "cell_type": "markdown",
   "id": "ce02c3f2-f9b1-4278-b8ad-891eccebcced",
   "metadata": {
    "jp-MarkdownHeadingCollapsed": true
   },
   "source": [
    "# Usage with human intruption"
   ]
  },
  {
   "cell_type": "code",
   "execution_count": 49,
   "id": "a32624a8-0e2e-4809-8374-4b390f3fca35",
   "metadata": {},
   "outputs": [
    {
     "name": "stdout",
     "output_type": "stream",
     "text": [
      "================================\u001b[1m Human Message \u001b[0m=================================\n",
      "\n",
      "I need some expert guidance for building an AI agent. Could you request assistance for me?\n",
      "==================================\u001b[1m Ai Message \u001b[0m==================================\n",
      "Tool Calls:\n",
      "  human_assistance (call_BZApKqtJERUtBdNs6OBqdUcN)\n",
      " Call ID: call_BZApKqtJERUtBdNs6OBqdUcN\n",
      "  Args:\n",
      "    query: I need expert guidance for building an AI agent. Can you provide assistance or resources for this?\n"
     ]
    }
   ],
   "source": [
    "user_input = \"I need some expert guidance for building an AI agent. Could you request assistance for me?\"\n",
    "config = {\"configurable\": {\"thread_id\": \"1\"}}\n",
    "\n",
    "events = graph.stream(\n",
    "    {\"messages\": [{\"role\": \"user\", \"content\": user_input}]},\n",
    "    config,\n",
    "    stream_mode=\"values\",\n",
    ")\n",
    "for event in events:\n",
    "    if \"messages\" in event:\n",
    "        event[\"messages\"][-1].pretty_print()"
   ]
  },
  {
   "cell_type": "code",
   "execution_count": 50,
   "id": "1520df56-de75-4bca-811c-c17b128e6261",
   "metadata": {},
   "outputs": [
    {
     "data": {
      "text/plain": [
       "('tools',)"
      ]
     },
     "execution_count": 50,
     "metadata": {},
     "output_type": "execute_result"
    }
   ],
   "source": [
    "snapshot = graph.get_state(config)\n",
    "snapshot.next"
   ]
  },
  {
   "cell_type": "code",
   "execution_count": 51,
   "id": "db3b1c4b-fb97-4158-a8fb-df6f14c6db98",
   "metadata": {},
   "outputs": [
    {
     "name": "stdout",
     "output_type": "stream",
     "text": [
      "==================================\u001b[1m Ai Message \u001b[0m==================================\n",
      "Tool Calls:\n",
      "  human_assistance (call_BZApKqtJERUtBdNs6OBqdUcN)\n",
      " Call ID: call_BZApKqtJERUtBdNs6OBqdUcN\n",
      "  Args:\n",
      "    query: I need expert guidance for building an AI agent. Can you provide assistance or resources for this?\n",
      "=================================\u001b[1m Tool Message \u001b[0m=================================\n",
      "Name: human_assistance\n",
      "\n",
      "We, the experts are here to help! We'd recommend you check out LangGraph to build your agent. It's much more reliable and extensible than simple autonomous agents.\n",
      "==================================\u001b[1m Ai Message \u001b[0m==================================\n",
      "\n",
      "I've reached out for expert guidance, and they recommend checking out **LangGraph** for building your AI agent. LangGraph is noted for being more reliable and extensible compared to simpler autonomous agents.\n",
      "\n",
      "If you need further assistance or have more specific questions, feel free to ask!\n"
     ]
    }
   ],
   "source": [
    "human_response = (\n",
    "    \"We, the experts are here to help! We'd recommend you check out LangGraph to build your agent.\"\n",
    "    \" It's much more reliable and extensible than simple autonomous agents.\"\n",
    ")\n",
    "\n",
    "human_command = Command(resume={\"data\": human_response})\n",
    "\n",
    "events = graph.stream(human_command, config, stream_mode=\"values\")\n",
    "for event in events:\n",
    "    if \"messages\" in event:\n",
    "        event[\"messages\"][-1].pretty_print()"
   ]
  },
  {
   "cell_type": "code",
   "execution_count": 10,
   "id": "bb59ba79-65bb-443a-b465-8da077524eed",
   "metadata": {},
   "outputs": [
    {
     "name": "stderr",
     "output_type": "stream",
     "text": [
      "USER_AGENT environment variable not set, consider setting it to identify your requests.\n"
     ]
    }
   ],
   "source": [
    "import bs4\n",
    "from langchain import hub\n",
    "from langchain_community.document_loaders import WebBaseLoader\n",
    "from langchain_core.documents import Document\n",
    "from langchain_text_splitters import RecursiveCharacterTextSplitter\n",
    "from typing_extensions import List, TypedDict\n",
    "\n",
    "# Load and chunk contents of the blog\n",
    "loader = WebBaseLoader(\n",
    "    web_paths=(\"https://lilianweng.github.io/posts/2023-06-23-agent/\",),\n",
    "    bs_kwargs=dict(\n",
    "        parse_only=bs4.SoupStrainer(\n",
    "            class_=(\"post-content\", \"post-title\", \"post-header\")\n",
    "        )\n",
    "    ),\n",
    ")\n",
    "docs = loader.load()\n",
    "\n",
    "text_splitter = RecursiveCharacterTextSplitter(chunk_size=1000, chunk_overlap=200)\n",
    "all_splits = text_splitter.split_documents(docs)"
   ]
  },
  {
   "cell_type": "code",
   "execution_count": 11,
   "id": "9457d9ca-7c45-445a-98d6-df5a1bd059cd",
   "metadata": {},
   "outputs": [],
   "source": [
    "# Index chunks\n",
    "_ = vector_store.add_documents(documents=all_splits)"
   ]
  },
  {
   "cell_type": "code",
   "execution_count": 31,
   "id": "0a58853e-768c-4788-8ced-7a7372f6257b",
   "metadata": {},
   "outputs": [],
   "source": [
    "from langchain_core.tools import tool\n",
    "from langchain_core.tools import ToolException\n",
    "\n",
    "@tool(response_format=\"content_and_artifact\")\n",
    "def retrieve(query: str):\n",
    "    \"\"\"Retrieve information related to a query.\"\"\"\n",
    "    retrieved_docs = vector_store.similarity_search(query, k=2)\n",
    "    serialized = \"\\n\\n\".join(\n",
    "        (f\"Source: {doc.metadata}\\n\" f\"Content: {doc.page_content}\")\n",
    "        for doc in retrieved_docs\n",
    "    )\n",
    "    return serialized, retrieved_docs\n",
    "\n",
    "\n",
    "@tool\n",
    "def calculator(query):\n",
    "    \"\"\"Useful for performing basic math calculations. Input should be a valid math expression like '2 + 2'.\"\"\"\n",
    "\n",
    "    return eval(query)\n",
    "\n",
    "\n",
    "@tool\n",
    "def get_weather(city: str) -> int:\n",
    "    \"\"\"Get weather for the given city.\"\"\"\n",
    "    raise ToolException(f\"Error: There is no city by the name of {city}.\")\n",
    "\n",
    "tools = [retrieve, calculator, get_weather]"
   ]
  },
  {
   "cell_type": "code",
   "execution_count": 32,
   "id": "1e9b1a82-6ddc-4a73-9dc5-f2cbd4d35de8",
   "metadata": {},
   "outputs": [],
   "source": [
    "from langchain_core.messages import SystemMessage\n",
    "from langgraph.prebuilt import ToolNode\n",
    "from langgraph.graph import MessagesState, StateGraph\n",
    "\n",
    "def query_or_respond(state: MessagesState):\n",
    "    \"\"\"Generate tool call or respond.\"\"\"\n",
    "    llm_with_tools = llm.bind_tools(tools)\n",
    "    response = llm_with_tools.invoke(state[\"messages\"])\n",
    "\n",
    "    return {\"messages\": [response]}\n",
    "\n",
    "\n",
    "def generate(state: MessagesState):\n",
    "    \"\"\"Generate answer.\"\"\"\n",
    "    # Get generated ToolMessages\n",
    "    recent_tool_messages = []\n",
    "    for message in reversed(state[\"messages\"]):\n",
    "        if message.type == \"tool\":\n",
    "            recent_tool_messages.append(message)\n",
    "        else:\n",
    "            break\n",
    "    tool_messages = recent_tool_messages[::-1]\n",
    "\n",
    "    # Format into prompt\n",
    "    docs_content = \"\\n\\n\".join(doc.content for doc in tool_messages)\n",
    "    system_message_content = (\n",
    "        \"You are an assistant for question-answering tasks. \"\n",
    "        \"Use the following pieces of retrieved context to answer \"\n",
    "        \"the question. If you don't know the answer, say that you \"\n",
    "        \"don't know. Use three sentences maximum and keep the \"\n",
    "        \"answer concise.\"\n",
    "        \"\\n\\n\"\n",
    "        f\"{docs_content}\"\n",
    "    )\n",
    "    conversation_messages = [\n",
    "        message\n",
    "        for message in state[\"messages\"]\n",
    "        if message.type in (\"human\", \"system\")\n",
    "        or (message.type == \"ai\" and not message.tool_calls)\n",
    "    ]\n",
    "    prompt = [SystemMessage(system_message_content)] + conversation_messages\n",
    "\n",
    "    # Run\n",
    "    response = llm.invoke(prompt)\n",
    "    return {\"messages\": [response]}"
   ]
  },
  {
   "cell_type": "code",
   "execution_count": 33,
   "id": "8c85bdf4-8b8b-4a43-98ce-840ef7c2e79a",
   "metadata": {},
   "outputs": [
    {
     "data": {
      "image/png": "[encoded data removed]",
      "text/plain": [
       "<langgraph.graph.state.CompiledStateGraph object at 0x75d2e83140e0>"
      ]
     },
     "execution_count": 33,
     "metadata": {},
     "output_type": "execute_result"
    }
   ],
   "source": [
    "from langgraph.graph import END\n",
    "from langgraph.prebuilt import ToolNode, tools_condition\n",
    "from langgraph.checkpoint.memory import MemorySaver\n",
    "\n",
    "graph_builder = StateGraph(MessagesState)\n",
    "graph_builder.add_node(query_or_respond)\n",
    "graph_builder.add_node(ToolNode(tools))\n",
    "graph_builder.add_node(generate)\n",
    "\n",
    "graph_builder.set_entry_point(\"query_or_respond\")\n",
    "graph_builder.add_conditional_edges(\n",
    "    \"query_or_respond\",\n",
    "    tools_condition,\n",
    "    {END: END, \"tools\": \"tools\"},\n",
    ")\n",
    "graph_builder.add_edge(\"tools\", \"generate\")\n",
    "graph_builder.add_edge(\"generate\", END)\n",
    "\n",
    "\n",
    "memory = MemorySaver()\n",
    "graph = graph_builder.compile(checkpointer=memory)\n",
    "graph"
   ]
  },
  {
   "cell_type": "code",
   "execution_count": 35,
   "id": "7a5e8a8c-b482-4fe5-8d72-047b4f55a380",
   "metadata": {},
   "outputs": [],
   "source": [
    "import uuid\n",
    "thread_id = str(uuid.uuid4())\n",
    "config={\n",
    "    \"callbacks\": [langfuse_handler],\n",
    "    \"configurable\": {\"thread_id\": thread_id},\n",
    "    \"metadata\": {\"langfuse_session_id\": thread_id},\n",
    "}"
   ]
  },
  {
   "cell_type": "code",
   "execution_count": 36,
   "id": "5772f913-de09-4abe-8d00-12e7bd1992bf",
   "metadata": {
    "scrolled": true
   },
   "outputs": [
    {
     "name": "stdout",
     "output_type": "stream",
     "text": [
      "================================\u001b[1m Human Message \u001b[0m=================================\n",
      "\n",
      "20424 * 3\n",
      "==================================\u001b[1m Ai Message \u001b[0m==================================\n",
      "Tool Calls:\n",
      "  calculator (call_mFnBLqYytJ6cYArkTUQuBbbB)\n",
      " Call ID: call_mFnBLqYytJ6cYArkTUQuBbbB\n",
      "  Args:\n",
      "    query: 20424 * 3\n",
      "=================================\u001b[1m Tool Message \u001b[0m=================================\n",
      "Name: calculator\n",
      "\n",
      "61272\n",
      "==================================\u001b[1m Ai Message \u001b[0m==================================\n",
      "\n",
      "20424 * 3 equals 61272.\n"
     ]
    }
   ],
   "source": [
    "input_message = \"20424 * 3\"\n",
    "\n",
    "for step in graph.stream(\n",
    "    {\"messages\": [{\"role\": \"human\", \"content\": input_message}]},\n",
    "    stream_mode=\"values\",\n",
    "    config=config\n",
    "):\n",
    "    step[\"messages\"][-1].pretty_print()"
   ]
  },
  {
   "cell_type": "code",
   "execution_count": 37,
   "id": "e3d10a13-bcdf-4185-b642-86d4f06aefd4",
   "metadata": {},
   "outputs": [
    {
     "name": "stdout",
     "output_type": "stream",
     "text": [
      "================================\u001b[1m Human Message \u001b[0m=================================\n",
      "\n",
      "What is Task Decomposition?\n",
      "==================================\u001b[1m Ai Message \u001b[0m==================================\n",
      "Tool Calls:\n",
      "  retrieve (call_9oKnotSiyON2c8N5Y6lJ34Xa)\n",
      " Call ID: call_9oKnotSiyON2c8N5Y6lJ34Xa\n",
      "  Args:\n",
      "    query: Task Decomposition\n",
      "=================================\u001b[1m Tool Message \u001b[0m=================================\n",
      "Name: retrieve\n",
      "\n",
      "Source: {'source': 'https://lilianweng.github.io/posts/2023-06-23-agent/'}\n",
      "Content: Task decomposition can be done (1) by LLM with simple prompting like \"Steps for XYZ.\\n1.\", \"What are the subgoals for achieving XYZ?\", (2) by using task-specific instructions; e.g. \"Write a story outline.\" for writing a novel, or (3) with human inputs.\n",
      "Another quite distinct approach, LLM+P (Liu et al. 2023), involves relying on an external classical planner to do long-horizon planning. This approach utilizes the Planning Domain Definition Language (PDDL) as an intermediate interface to describe the planning problem. In this process, LLM (1) translates the problem into “Problem PDDL”, then (2) requests a classical planner to generate a PDDL plan based on an existing “Domain PDDL”, and finally (3) translates the PDDL plan back into natural language. Essentially, the planning step is outsourced to an external tool, assuming the availability of domain-specific PDDL and a suitable planner which is common in certain robotic setups but not in many other domains.\n",
      "Self-Reflection#\n",
      "\n",
      "Source: {'source': 'https://lilianweng.github.io/posts/2023-06-23-agent/'}\n",
      "Content: Component One: Planning#\n",
      "A complicated task usually involves many steps. An agent needs to know what they are and plan ahead.\n",
      "Task Decomposition#\n",
      "Chain of thought (CoT; Wei et al. 2022) has become a standard prompting technique for enhancing model performance on complex tasks. The model is instructed to “think step by step” to utilize more test-time computation to decompose hard tasks into smaller and simpler steps. CoT transforms big tasks into multiple manageable tasks and shed lights into an interpretation of the model’s thinking process.\n",
      "Tree of Thoughts (Yao et al. 2023) extends CoT by exploring multiple reasoning possibilities at each step. It first decomposes the problem into multiple thought steps and generates multiple thoughts per step, creating a tree structure. The search process can be BFS (breadth-first search) or DFS (depth-first search) with each state evaluated by a classifier (via a prompt) or majority vote.\n",
      "==================================\u001b[1m Ai Message \u001b[0m==================================\n",
      "\n",
      "Task decomposition is the process of breaking down a complicated task into smaller, manageable sub-tasks or steps. This can be achieved through various methods, such as prompting with specific questions, using task-specific instructions, or incorporating human inputs. Techniques like Chain of Thought (CoT) and Tree of Thoughts are often employed to facilitate this process.\n"
     ]
    }
   ],
   "source": [
    "input_message = \"What is Task Decomposition?\"\n",
    "\n",
    "for step in graph.stream(\n",
    "    {\"messages\": [{\"role\": \"human\", \"content\": input_message}]},\n",
    "    stream_mode=\"values\",\n",
    "    config=config,\n",
    "):\n",
    "    step[\"messages\"][-1].pretty_print()"
   ]
  },
  {
   "cell_type": "code",
   "execution_count": 38,
   "id": "2c46cf5d-90b5-4235-ad9c-2aeac047e1b8",
   "metadata": {},
   "outputs": [
    {
     "name": "stdout",
     "output_type": "stream",
     "text": [
      "================================\u001b[1m Human Message \u001b[0m=================================\n",
      "\n",
      "Can you look up some common ways of doing it?\n",
      "==================================\u001b[1m Ai Message \u001b[0m==================================\n",
      "Tool Calls:\n",
      "  retrieve (call_u8466tsXnzrnXaffqqqZYhc9)\n",
      " Call ID: call_u8466tsXnzrnXaffqqqZYhc9\n",
      "  Args:\n",
      "    query: common ways of task decomposition\n",
      "=================================\u001b[1m Tool Message \u001b[0m=================================\n",
      "Name: retrieve\n",
      "\n",
      "Source: {'source': 'https://lilianweng.github.io/posts/2023-06-23-agent/'}\n",
      "Content: Task decomposition can be done (1) by LLM with simple prompting like \"Steps for XYZ.\\n1.\", \"What are the subgoals for achieving XYZ?\", (2) by using task-specific instructions; e.g. \"Write a story outline.\" for writing a novel, or (3) with human inputs.\n",
      "Another quite distinct approach, LLM+P (Liu et al. 2023), involves relying on an external classical planner to do long-horizon planning. This approach utilizes the Planning Domain Definition Language (PDDL) as an intermediate interface to describe the planning problem. In this process, LLM (1) translates the problem into “Problem PDDL”, then (2) requests a classical planner to generate a PDDL plan based on an existing “Domain PDDL”, and finally (3) translates the PDDL plan back into natural language. Essentially, the planning step is outsourced to an external tool, assuming the availability of domain-specific PDDL and a suitable planner which is common in certain robotic setups but not in many other domains.\n",
      "Self-Reflection#\n",
      "\n",
      "Source: {'source': 'https://lilianweng.github.io/posts/2023-06-23-agent/'}\n",
      "Content: Component One: Planning#\n",
      "A complicated task usually involves many steps. An agent needs to know what they are and plan ahead.\n",
      "Task Decomposition#\n",
      "Chain of thought (CoT; Wei et al. 2022) has become a standard prompting technique for enhancing model performance on complex tasks. The model is instructed to “think step by step” to utilize more test-time computation to decompose hard tasks into smaller and simpler steps. CoT transforms big tasks into multiple manageable tasks and shed lights into an interpretation of the model’s thinking process.\n",
      "Tree of Thoughts (Yao et al. 2023) extends CoT by exploring multiple reasoning possibilities at each step. It first decomposes the problem into multiple thought steps and generates multiple thoughts per step, creating a tree structure. The search process can be BFS (breadth-first search) or DFS (depth-first search) with each state evaluated by a classifier (via a prompt) or majority vote.\n",
      "==================================\u001b[1m Ai Message \u001b[0m==================================\n",
      "\n",
      "Common ways to achieve task decomposition include: \n",
      "\n",
      "1. Using simple prompting techniques like asking \"What are the subgoals for achieving XYZ?\" \n",
      "2. Implementing task-specific instructions, such as \"Write a story outline\" for specific tasks. \n",
      "3. Incorporating human inputs to guide the decomposition process.\n"
     ]
    }
   ],
   "source": [
    "input_message = \"Can you look up some common ways of doing it?\"\n",
    "\n",
    "for step in graph.stream(\n",
    "    {\"messages\": [{\"role\": \"user\", \"content\": input_message}]},\n",
    "    stream_mode=\"values\",\n",
    "    config=config,\n",
    "):\n",
    "    step[\"messages\"][-1].pretty_print()"
   ]
  },
  {
   "cell_type": "code",
   "execution_count": 39,
   "id": "24d1214f-19ec-49c6-bc29-b8a759108a31",
   "metadata": {},
   "outputs": [
    {
     "name": "stdout",
     "output_type": "stream",
     "text": [
      "================================\u001b[1m Human Message \u001b[0m=================================\n",
      "\n",
      "weather condition in paris\n",
      "==================================\u001b[1m Ai Message \u001b[0m==================================\n",
      "Tool Calls:\n",
      "  get_weather (call_olu3E8WnKK2YsRI5t7BKkV3k)\n",
      " Call ID: call_olu3E8WnKK2YsRI5t7BKkV3k\n",
      "  Args:\n",
      "    city: Paris\n",
      "=================================\u001b[1m Tool Message \u001b[0m=================================\n",
      "Name: get_weather\n",
      "\n",
      "Error: ToolException('Error: There is no city by the name of Paris.')\n",
      " Please fix your mistakes.\n",
      "==================================\u001b[1m Ai Message \u001b[0m==================================\n",
      "\n",
      "I don't know.\n"
     ]
    }
   ],
   "source": [
    "input_message = \"weather condition in paris\"\n",
    "\n",
    "for step in graph.stream(\n",
    "    {\"messages\": [{\"role\": \"user\", \"content\": input_message}]},\n",
    "    stream_mode=\"values\",\n",
    "    config=config,\n",
    "):\n",
    "    step[\"messages\"][-1].pretty_print()"
   ]
  },
  {
   "cell_type": "code",
   "execution_count": 40,
   "id": "b78859c6-2be1-4e86-a913-dca6f4122b60",
   "metadata": {},
   "outputs": [
    {
     "name": "stdout",
     "output_type": "stream",
     "text": [
      "================================\u001b[1m Human Message \u001b[0m=================================\n",
      "\n",
      "Hi can you help me please?\n",
      "==================================\u001b[1m Ai Message \u001b[0m==================================\n",
      "\n",
      "Of course! How can I assist you today?\n"
     ]
    }
   ],
   "source": [
    "input_message = \"Hi can you help me please?\"\n",
    "\n",
    "for step in graph.stream(\n",
    "    {\"messages\": [{\"role\": \"user\", \"content\": input_message}]},\n",
    "    stream_mode=\"values\",\n",
    "    config=config,\n",
    "):\n",
    "    step[\"messages\"][-1].pretty_print()"
   ]
  },
  {
   "cell_type": "code",
   "execution_count": 46,
   "id": "9aa1e62f-58c5-441f-ac10-673af616385d",
   "metadata": {},
   "outputs": [],
   "source": [
    "tools = [retrieve, calculator, get_weather]"
   ]
  },
  {
   "cell_type": "code",
   "execution_count": 47,
   "id": "4e704d81-e4d6-430f-a520-c6b089ce4a62",
   "metadata": {},
   "outputs": [
    {
     "data": {
      "image/png": "[encoded data removed]",
      "text/plain": [
       "<langgraph.graph.state.CompiledStateGraph object at 0x75d2e3e52720>"
      ]
     },
     "execution_count": 47,
     "metadata": {},
     "output_type": "execute_result"
    }
   ],
   "source": [
    "from langgraph.prebuilt import create_react_agent\n",
    "\n",
    "agent_executor = create_react_agent(llm, tools, checkpointer=memory)\n",
    "agent_executor"
   ]
  },
  {
   "cell_type": "code",
   "execution_count": 49,
   "id": "183f917f-5ab3-4be4-9ee9-f46bb1cd0dbd",
   "metadata": {},
   "outputs": [],
   "source": [
    "import uuid\n",
    "thread_id = str(uuid.uuid4())\n",
    "config={\n",
    "    \"callbacks\": [langfuse_handler],\n",
    "    \"configurable\": {\"thread_id\": thread_id},\n",
    "    \"metadata\": {\"langfuse_session_id\": thread_id},\n",
    "}"
   ]
  },
  {
   "cell_type": "code",
   "execution_count": 50,
   "id": "c632dcf4-dd95-4fb4-8b8e-9b4fad4d8374",
   "metadata": {},
   "outputs": [
    {
     "name": "stdout",
     "output_type": "stream",
     "text": [
      "================================\u001b[1m Human Message \u001b[0m=================================\n",
      "\n",
      "What is the standard method for Task Decomposition?\n",
      "\n",
      "Once you get the answer, look up common extensions of that method.whether condition in paris\n",
      "==================================\u001b[1m Ai Message \u001b[0m==================================\n",
      "Tool Calls:\n",
      "  retrieve (call_8rSoDoTUkqzv7787lmcFwAPo)\n",
      " Call ID: call_8rSoDoTUkqzv7787lmcFwAPo\n",
      "  Args:\n",
      "    query: standard method for Task Decomposition\n",
      "  get_weather (call_3gaD3j6fF2QVnMzfqmDMPivx)\n",
      " Call ID: call_3gaD3j6fF2QVnMzfqmDMPivx\n",
      "  Args:\n",
      "    city: Paris\n",
      "=================================\u001b[1m Tool Message \u001b[0m=================================\n",
      "Name: get_weather\n",
      "\n",
      "Error: ToolException('Error: There is no city by the name of Paris.')\n",
      " Please fix your mistakes.\n",
      "==================================\u001b[1m Ai Message \u001b[0m==================================\n",
      "Tool Calls:\n",
      "  retrieve (call_ofIq7ZYzCWj4AzWQnVJnH4Vr)\n",
      " Call ID: call_ofIq7ZYzCWj4AzWQnVJnH4Vr\n",
      "  Args:\n",
      "    query: standard method for Task Decomposition\n",
      "  get_weather (call_XcTYGUen3kOLGW7nNp0jeGHn)\n",
      " Call ID: call_XcTYGUen3kOLGW7nNp0jeGHn\n",
      "  Args:\n",
      "    city: Paris, France\n",
      "=================================\u001b[1m Tool Message \u001b[0m=================================\n",
      "Name: get_weather\n",
      "\n",
      "Error: ToolException('Error: There is no city by the name of Paris, France.')\n",
      " Please fix your mistakes.\n",
      "==================================\u001b[1m Ai Message \u001b[0m==================================\n",
      "Tool Calls:\n",
      "  get_weather (call_P9Jhjk0dsSm74FlhsafknD58)\n",
      " Call ID: call_P9Jhjk0dsSm74FlhsafknD58\n",
      "  Args:\n",
      "    city: Paris\n",
      "=================================\u001b[1m Tool Message \u001b[0m=================================\n",
      "Name: get_weather\n",
      "\n",
      "Error: ToolException('Error: There is no city by the name of Paris.')\n",
      " Please fix your mistakes.\n",
      "==================================\u001b[1m Ai Message \u001b[0m==================================\n",
      "\n",
      "### Standard Method for Task Decomposition\n",
      "\n",
      "Task decomposition can be approached through various methods, including:\n",
      "\n",
      "1. **LLM with Simple Prompting**:\n",
      "   - Use prompts such as \"Steps for XYZ\" or \"What are the subgoals for achieving XYZ?\" to break the task down into smaller parts.\n",
      "\n",
      "2. **Task-Specific Instructions**:\n",
      "   - Provide specific instructions tailored to the task at hand, like \"Write a story outline\" for novel writing.\n",
      "\n",
      "3. **Human Inputs**:\n",
      "   - Engage human expertise to guide the decomposition process.\n",
      "\n",
      "4. **LLM+P Approach**:\n",
      "   - This method involves using an external classical planner for long-term planning. It utilizes the Planning Domain Definition Language (PDDL) as an interface to outline the planning problem. The approach includes:\n",
      "     1. Translating the problem into \"Problem PDDL\".\n",
      "     2. Requesting a classical planner to generate a plan based on an existing \"Domain PDDL\".\n",
      "     3. Translating the PDDL plan back into natural language.\n",
      "\n",
      "5. **Chain of Thought (CoT)**:\n",
      "   - This technique guides the model to \"think step by step,\" enhancing performance on complex tasks by transforming larger tasks into smaller, manageable ones.\n",
      "\n",
      "6. **Tree of Thoughts**:\n",
      "   - This method extends CoT by exploring multiple reasoning paths at each step, generating a tree structure of thoughts. It can use breadth-first search (BFS) or depth-first search (DFS) for evaluation.\n",
      "\n",
      "### Common Extensions of Task Decomposition\n",
      "- **Chain of Thought (CoT)**: Enhances model performance on complex tasks.\n",
      "- **Tree of Thoughts**: Explores multiple reasoning possibilities per step.\n",
      "\n",
      "### Weather in Paris\n",
      "I attempted to look up the weather for Paris, but it appears there was an issue with the query. Would you like me to try again or provide alternative information?\n"
     ]
    }
   ],
   "source": [
    "input_message = (\n",
    "    \"What is the standard method for Task Decomposition?\\n\\n\"\n",
    "    \"Once you get the answer, look up common extensions of that method.\"\n",
    "    \"whether condition in paris\"\n",
    ")\n",
    "\n",
    "for event in agent_executor.stream(\n",
    "    {\"messages\": [{\"role\": \"user\", \"content\": input_message}]},\n",
    "    stream_mode=\"values\",\n",
    "    config=config,\n",
    "):\n",
    "    event[\"messages\"][-1].pretty_print()"
   ]
  },
  {
   "cell_type": "code",
   "execution_count": null,
   "id": "fcab461d-4534-499b-9f1c-ddcb3d413c18",
   "metadata": {},
   "outputs": [],
   "source": []
  }
 ],
 "metadata": {
  "kernelspec": {
   "display_name": "Python 3 (ipykernel)",
   "language": "python",
   "name": "python3"
  },
  "language_info": {
   "codemirror_mode": {
    "name": "ipython",
    "version": 3
   },
   "file_extension": ".py",
   "mimetype": "text/x-python",
   "name": "python",
   "nbconvert_exporter": "python",
   "pygments_lexer": "ipython3",
   "version": "3.12.9"
  }
 },
 "nbformat": 4,
 "nbformat_minor": 5
}
