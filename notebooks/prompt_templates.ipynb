{
 "cells": [
  {
   "cell_type": "code",
   "execution_count": 1,
   "id": "bf893099-a519-4338-a8a2-01d4666d3739",
   "metadata": {
    "execution": {
     "iopub.execute_input": "2025-05-24T10:56:27.414192Z",
     "iopub.status.busy": "2025-05-24T10:56:27.413417Z",
     "iopub.status.idle": "2025-05-24T10:56:28.020047Z",
     "shell.execute_reply": "2025-05-24T10:56:28.018206Z",
     "shell.execute_reply.started": "2025-05-24T10:56:27.414121Z"
    }
   },
   "outputs": [
    {
     "data": {
      "text/plain": [
       "StringPromptValue(text='Tell me a joke about cats')"
      ]
     },
     "execution_count": 1,
     "metadata": {},
     "output_type": "execute_result"
    }
   ],
   "source": [
    "from langchain_core.prompts import PromptTemplate\n",
    "\n",
    "prompt_template = PromptTemplate.from_template(\"Tell me a joke about {topic}\")\n",
    "\n",
    "prompt_template.invoke({\"topic\": \"cats\"})"
   ]
  },
  {
   "cell_type": "code",
   "execution_count": 14,
   "id": "1213f572-846b-4764-b5e8-f8166d875465",
   "metadata": {
    "execution": {
     "iopub.execute_input": "2025-05-24T11:00:48.934754Z",
     "iopub.status.busy": "2025-05-24T11:00:48.934418Z",
     "iopub.status.idle": "2025-05-24T11:00:48.947458Z",
     "shell.execute_reply": "2025-05-24T11:00:48.946805Z",
     "shell.execute_reply.started": "2025-05-24T11:00:48.934732Z"
    }
   },
   "outputs": [],
   "source": [
    "from langchain_core.tools import tool\n",
    "\n",
    "\n",
    "@tool\n",
    "def multiply(x: float, y: float) -> float:\n",
    "    \"\"\"Multiply two numbers together.\"\"\"\n",
    "    return x * y\n",
    "\n",
    "\n",
    "@tool\n",
    "def add(x: int, y: int) -> int:\n",
    "    \"Add two numbers.\"\n",
    "    return x + y\n",
    "\n",
    "tools = [multiply, add]\n",
    "rendered_tools = [tool.args_schema.model_json_schema() for tool in tools]"
   ]
  },
  {
   "cell_type": "code",
   "execution_count": 18,
   "id": "88a2192e-008e-4795-ba69-3fdd7d4b740b",
   "metadata": {
    "execution": {
     "iopub.execute_input": "2025-05-24T11:02:13.109344Z",
     "iopub.status.busy": "2025-05-24T11:02:13.108918Z",
     "iopub.status.idle": "2025-05-24T11:02:13.118312Z",
     "shell.execute_reply": "2025-05-24T11:02:13.117578Z",
     "shell.execute_reply.started": "2025-05-24T11:02:13.109309Z"
    }
   },
   "outputs": [
    {
     "data": {
      "text/plain": [
       "ChatPromptValue(messages=[SystemMessage(content=\"You are a helpful assistant with the following tools: [{'description': 'Multiply two numbers together.', 'properties': {'x': {'title': 'X', 'type': 'number'}, 'y': {'title': 'Y', 'type': 'number'}}, 'required': ['x', 'y'], 'title': 'multiply', 'type': 'object'}, {'description': 'Add two numbers.', 'properties': {'x': {'title': 'X', 'type': 'integer'}, 'y': {'title': 'Y', 'type': 'integer'}}, 'required': ['x', 'y'], 'title': 'add', 'type': 'object'}]\", additional_kwargs={}, response_metadata={}), HumanMessage(content='Tell me a joke about cats', additional_kwargs={}, response_metadata={})])"
      ]
     },
     "execution_count": 18,
     "metadata": {},
     "output_type": "execute_result"
    }
   ],
   "source": [
    "from langchain_core.prompts import ChatPromptTemplate, SystemMessagePromptTemplate\n",
    "\n",
    "prompt_template = ChatPromptTemplate([\n",
    "    (\"system\", \"You are a helpful assistant.\"),\n",
    "    (\"user\", \"Tell me a joke about {topic}\")\n",
    "])\n",
    "\n",
    "prompt_template.invoke({\"topic\": \"cats\"})"
   ]
  },
  {
   "cell_type": "code",
   "execution_count": 23,
   "id": "400f24d2-355f-412f-bf30-a2d79cd676c2",
   "metadata": {
    "execution": {
     "iopub.execute_input": "2025-05-24T11:05:25.611928Z",
     "iopub.status.busy": "2025-05-24T11:05:25.609155Z",
     "iopub.status.idle": "2025-05-24T11:05:25.621391Z",
     "shell.execute_reply": "2025-05-24T11:05:25.619296Z",
     "shell.execute_reply.started": "2025-05-24T11:05:25.611847Z"
    }
   },
   "outputs": [],
   "source": [
    "system_prompt_template = \"You are a helpful assistant with the following tools: {tools}\"\n",
    "system_prompt = SystemMessagePromptTemplate.from_template(system_prompt_template).format(tools=rendered_tools)"
   ]
  },
  {
   "cell_type": "code",
   "execution_count": 26,
   "id": "3c1b96f3-1cee-4dde-bf85-140854de4ba4",
   "metadata": {
    "execution": {
     "iopub.execute_input": "2025-05-24T11:06:44.109554Z",
     "iopub.status.busy": "2025-05-24T11:06:44.109186Z",
     "iopub.status.idle": "2025-05-24T11:06:44.116209Z",
     "shell.execute_reply": "2025-05-24T11:06:44.114776Z",
     "shell.execute_reply.started": "2025-05-24T11:06:44.109529Z"
    }
   },
   "outputs": [],
   "source": [
    "prompt_template = ChatPromptTemplate([\n",
    "    (\"system\", \"You are a helpful assistant with the following tools: {tools}\"),\n",
    "    (\"user\", \"Tell me a joke about {topic}\")\n",
    "])"
   ]
  },
  {
   "cell_type": "code",
   "execution_count": 27,
   "id": "2f19af09-62ad-4a31-b7f6-007ee0417b57",
   "metadata": {
    "execution": {
     "iopub.execute_input": "2025-05-24T11:07:07.952027Z",
     "iopub.status.busy": "2025-05-24T11:07:07.951464Z",
     "iopub.status.idle": "2025-05-24T11:07:07.969749Z",
     "shell.execute_reply": "2025-05-24T11:07:07.968163Z",
     "shell.execute_reply.started": "2025-05-24T11:07:07.951979Z"
    }
   },
   "outputs": [
    {
     "data": {
      "text/plain": [
       "ChatPromptTemplate(input_variables=['tools', 'topic'], input_types={}, partial_variables={}, messages=[SystemMessagePromptTemplate(prompt=PromptTemplate(input_variables=['tools'], input_types={}, partial_variables={}, template='You are a helpful assistant with the following tools: {tools}'), additional_kwargs={}), HumanMessagePromptTemplate(prompt=PromptTemplate(input_variables=['topic'], input_types={}, partial_variables={}, template='Tell me a joke about {topic}'), additional_kwargs={})])"
      ]
     },
     "execution_count": 27,
     "metadata": {},
     "output_type": "execute_result"
    }
   ],
   "source": [
    "prompt_template"
   ]
  }
 ],
 "metadata": {
  "kernelspec": {
   "display_name": "Python 3 (ipykernel)",
   "language": "python",
   "name": "python3"
  },
  "language_info": {
   "codemirror_mode": {
    "name": "ipython",
    "version": 3
   },
   "file_extension": ".py",
   "mimetype": "text/x-python",
   "name": "python",
   "nbconvert_exporter": "python",
   "pygments_lexer": "ipython3",
   "version": "3.12.9"
  }
 },
 "nbformat": 4,
 "nbformat_minor": 5
}
