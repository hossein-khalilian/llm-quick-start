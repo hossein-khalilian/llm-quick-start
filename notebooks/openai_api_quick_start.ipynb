{
 "cells": [
  {
   "cell_type": "markdown",
   "id": "2ca30f6b-20b7-4911-8a19-709979f3d00e",
   "metadata": {
    "jp-MarkdownHeadingCollapsed": true
   },
   "source": [
    "# setup"
   ]
  },
  {
   "cell_type": "code",
   "execution_count": 4,
   "id": "5742d6d1-a0b2-4169-bb20-45d1d55ba45e",
   "metadata": {},
   "outputs": [
    {
     "data": {
      "text/plain": [
       "True"
      ]
     },
     "execution_count": 4,
     "metadata": {},
     "output_type": "execute_result"
    }
   ],
   "source": [
    "from dotenv import load_dotenv\n",
    "load_dotenv()"
   ]
  },
  {
   "cell_type": "markdown",
   "id": "5df31414-3abf-4ee3-bf4d-b310a11509b5",
   "metadata": {
    "jp-MarkdownHeadingCollapsed": true
   },
   "source": [
    "# simple prompt"
   ]
  },
  {
   "cell_type": "code",
   "execution_count": 3,
   "id": "64c926d0-ccff-431b-9cef-9f38f1555368",
   "metadata": {},
   "outputs": [
    {
     "name": "stdout",
     "output_type": "stream",
     "text": [
      "As the moonlight shimmered on the tranquil lake, the little unicorn whispered her wishes to the stars, knowing that with each twinkle, her dreams would come true.\n"
     ]
    }
   ],
   "source": [
    "from openai import OpenAI\n",
    "client = OpenAI()\n",
    "\n",
    "response = client.responses.create(\n",
    "    model=\"gpt-4o-mini\",\n",
    "    input=\"Write a one-sentence bedtime story about a unicorn.\"\n",
    ")\n",
    "\n",
    "print(response.output_text)"
   ]
  },
  {
   "cell_type": "markdown",
   "id": "a10111b1-c171-4430-9a89-652654e56162",
   "metadata": {
    "jp-MarkdownHeadingCollapsed": true
   },
   "source": [
    "# web search tool"
   ]
  },
  {
   "cell_type": "code",
   "execution_count": 4,
   "id": "0b461e19-4bad-409b-98f2-a3df70ef9e28",
   "metadata": {},
   "outputs": [
    {
     "name": "stdout",
     "output_type": "stream",
     "text": [
      "As of May 18, 2025, here are some positive news stories:\n",
      "\n",
      "**1. Endangered Sea Turtles Show Signs of Recovery**\n",
      "\n",
      "A recent global survey indicates that endangered sea turtle populations are showing signs of recovery in more than half of their habitats worldwide. This positive trend suggests that conservation efforts are yielding tangible results. ([new.globalgoodnews.com](https://new.globalgoodnews.com/?utm_source=openai))\n",
      "\n",
      "**2. Swedish TV Show 'The Great Moose Migration' Draws Millions**\n",
      "\n",
      "The Swedish TV show \"The Great Moose Migration\" has captivated audiences, with nearly 9 million viewers tuning in to watch the annual migration of moose across the Angerman River. The live coverage has become an unexpected hit, highlighting the public's interest in wildlife and nature. ([new.globalgoodnews.com](https://new.globalgoodnews.com/?utm_source=openai))\n",
      "\n",
      "**3. Advances in Textile Recycling Technology**\n",
      "\n",
      "A partnership between Goodwill and Reju, a textile-to-textile regeneration company, is paving the way for sustainable textile recycling. This collaboration aims to address the global issue of textile waste by converting old polyester into new fabrics, using a process that consumes 50% less energy than traditional methods. ([dailymotivation.site](https://www.dailymotivation.site/positively-uplifting-stories-may-5-2025/?utm_source=openai))\n",
      "\n",
      "These stories highlight positive developments in environmental conservation, public engagement with nature, and sustainable practices in industry. \n"
     ]
    }
   ],
   "source": [
    "from openai import OpenAI\n",
    "client = OpenAI()\n",
    "\n",
    "response = client.responses.create(\n",
    "    model=\"gpt-4o-mini\",\n",
    "    tools=[{\"type\": \"web_search_preview\"}],\n",
    "    input=\"What was a positive news story from today?\"\n",
    ")\n",
    "\n",
    "print(response.output_text)"
   ]
  },
  {
   "cell_type": "markdown",
   "id": "5d138d70-f9b1-42f2-be4e-3863abf54201",
   "metadata": {
    "jp-MarkdownHeadingCollapsed": true
   },
   "source": [
    "# streaming"
   ]
  },
  {
   "cell_type": "code",
   "execution_count": 6,
   "id": "987b9376-9713-461d-bef5-e757bc59b6d1",
   "metadata": {},
   "outputs": [
    {
     "name": "stdout",
     "output_type": "stream",
     "text": [
      "ResponseCreatedEvent(response=Response(id='resp_682965cfcd4881919795d7aba4e0a1760f0fdedda97aa2c0', created_at=1747543503.0, error=None, incomplete_details=None, instructions=None, metadata={}, model='gpt-4o-mini-2024-07-18', object='response', output=[], parallel_tool_calls=True, temperature=1.0, tool_choice='auto', tools=[], top_p=1.0, max_output_tokens=None, previous_response_id=None, reasoning=Reasoning(effort=None, generate_summary=None, summary=None), service_tier='auto', status='in_progress', text=ResponseTextConfig(format=ResponseFormatText(type='text')), truncation='disabled', usage=None, user=None, store=True), type='response.created')\n",
      "ResponseInProgressEvent(response=Response(id='resp_682965cfcd4881919795d7aba4e0a1760f0fdedda97aa2c0', created_at=1747543503.0, error=None, incomplete_details=None, instructions=None, metadata={}, model='gpt-4o-mini-2024-07-18', object='response', output=[], parallel_tool_calls=True, temperature=1.0, tool_choice='auto', tools=[], top_p=1.0, max_output_tokens=None, previous_response_id=None, reasoning=Reasoning(effort=None, generate_summary=None, summary=None), service_tier='auto', status='in_progress', text=ResponseTextConfig(format=ResponseFormatText(type='text')), truncation='disabled', usage=None, user=None, store=True), type='response.in_progress')\n",
      "ResponseOutputItemAddedEvent(item=ResponseOutputMessage(id='msg_682965d011a08191a8b561cd0db01bd30f0fdedda97aa2c0', content=[], role='assistant', status='in_progress', type='message'), output_index=0, type='response.output_item.added')\n",
      "ResponseContentPartAddedEvent(content_index=0, item_id='msg_682965d011a08191a8b561cd0db01bd30f0fdedda97aa2c0', output_index=0, part=ResponseOutputText(annotations=[], text='', type='output_text'), type='response.content_part.added')\n",
      "ResponseTextDeltaEvent(content_index=0, delta='Sure', item_id='msg_682965d011a08191a8b561cd0db01bd30f0fdedda97aa2c0', output_index=0, type='response.output_text.delta')\n",
      "ResponseTextDeltaEvent(content_index=0, delta='!', item_id='msg_682965d011a08191a8b561cd0db01bd30f0fdedda97aa2c0', output_index=0, type='response.output_text.delta')\n",
      "ResponseTextDeltaEvent(content_index=0, delta=' Here', item_id='msg_682965d011a08191a8b561cd0db01bd30f0fdedda97aa2c0', output_index=0, type='response.output_text.delta')\n",
      "ResponseTextDeltaEvent(content_index=0, delta=' it', item_id='msg_682965d011a08191a8b561cd0db01bd30f0fdedda97aa2c0', output_index=0, type='response.output_text.delta')\n",
      "ResponseTextDeltaEvent(content_index=0, delta=' goes', item_id='msg_682965d011a08191a8b561cd0db01bd30f0fdedda97aa2c0', output_index=0, type='response.output_text.delta')\n",
      "ResponseTextDeltaEvent(content_index=0, delta=':', item_id='msg_682965d011a08191a8b561cd0db01bd30f0fdedda97aa2c0', output_index=0, type='response.output_text.delta')\n",
      "ResponseTextDeltaEvent(content_index=0, delta=' \\n\\n', item_id='msg_682965d011a08191a8b561cd0db01bd30f0fdedda97aa2c0', output_index=0, type='response.output_text.delta')\n",
      "ResponseTextDeltaEvent(content_index=0, delta='Double', item_id='msg_682965d011a08191a8b561cd0db01bd30f0fdedda97aa2c0', output_index=0, type='response.output_text.delta')\n",
      "ResponseTextDeltaEvent(content_index=0, delta=' bubble', item_id='msg_682965d011a08191a8b561cd0db01bd30f0fdedda97aa2c0', output_index=0, type='response.output_text.delta')\n",
      "ResponseTextDeltaEvent(content_index=0, delta=' bath', item_id='msg_682965d011a08191a8b561cd0db01bd30f0fdedda97aa2c0', output_index=0, type='response.output_text.delta')\n",
      "ResponseTextDeltaEvent(content_index=0, delta=',', item_id='msg_682965d011a08191a8b561cd0db01bd30f0fdedda97aa2c0', output_index=0, type='response.output_text.delta')\n",
      "ResponseTextDeltaEvent(content_index=0, delta=' double', item_id='msg_682965d011a08191a8b561cd0db01bd30f0fdedda97aa2c0', output_index=0, type='response.output_text.delta')\n",
      "ResponseTextDeltaEvent(content_index=0, delta=' bubble', item_id='msg_682965d011a08191a8b561cd0db01bd30f0fdedda97aa2c0', output_index=0, type='response.output_text.delta')\n",
      "ResponseTextDeltaEvent(content_index=0, delta=' bath', item_id='msg_682965d011a08191a8b561cd0db01bd30f0fdedda97aa2c0', output_index=0, type='response.output_text.delta')\n",
      "ResponseTextDeltaEvent(content_index=0, delta=',', item_id='msg_682965d011a08191a8b561cd0db01bd30f0fdedda97aa2c0', output_index=0, type='response.output_text.delta')\n",
      "ResponseTextDeltaEvent(content_index=0, delta=' double', item_id='msg_682965d011a08191a8b561cd0db01bd30f0fdedda97aa2c0', output_index=0, type='response.output_text.delta')\n",
      "ResponseTextDeltaEvent(content_index=0, delta=' bubble', item_id='msg_682965d011a08191a8b561cd0db01bd30f0fdedda97aa2c0', output_index=0, type='response.output_text.delta')\n",
      "ResponseTextDeltaEvent(content_index=0, delta=' bath', item_id='msg_682965d011a08191a8b561cd0db01bd30f0fdedda97aa2c0', output_index=0, type='response.output_text.delta')\n",
      "ResponseTextDeltaEvent(content_index=0, delta=',', item_id='msg_682965d011a08191a8b561cd0db01bd30f0fdedda97aa2c0', output_index=0, type='response.output_text.delta')\n",
      "ResponseTextDeltaEvent(content_index=0, delta=' double', item_id='msg_682965d011a08191a8b561cd0db01bd30f0fdedda97aa2c0', output_index=0, type='response.output_text.delta')\n",
      "ResponseTextDeltaEvent(content_index=0, delta=' bubble', item_id='msg_682965d011a08191a8b561cd0db01bd30f0fdedda97aa2c0', output_index=0, type='response.output_text.delta')\n",
      "ResponseTextDeltaEvent(content_index=0, delta=' bath', item_id='msg_682965d011a08191a8b561cd0db01bd30f0fdedda97aa2c0', output_index=0, type='response.output_text.delta')\n",
      "ResponseTextDeltaEvent(content_index=0, delta=',', item_id='msg_682965d011a08191a8b561cd0db01bd30f0fdedda97aa2c0', output_index=0, type='response.output_text.delta')\n",
      "ResponseTextDeltaEvent(content_index=0, delta=' double', item_id='msg_682965d011a08191a8b561cd0db01bd30f0fdedda97aa2c0', output_index=0, type='response.output_text.delta')\n",
      "ResponseTextDeltaEvent(content_index=0, delta=' bubble', item_id='msg_682965d011a08191a8b561cd0db01bd30f0fdedda97aa2c0', output_index=0, type='response.output_text.delta')\n",
      "ResponseTextDeltaEvent(content_index=0, delta=' bath', item_id='msg_682965d011a08191a8b561cd0db01bd30f0fdedda97aa2c0', output_index=0, type='response.output_text.delta')\n",
      "ResponseTextDeltaEvent(content_index=0, delta=',', item_id='msg_682965d011a08191a8b561cd0db01bd30f0fdedda97aa2c0', output_index=0, type='response.output_text.delta')\n",
      "ResponseTextDeltaEvent(content_index=0, delta=' double', item_id='msg_682965d011a08191a8b561cd0db01bd30f0fdedda97aa2c0', output_index=0, type='response.output_text.delta')\n",
      "ResponseTextDeltaEvent(content_index=0, delta=' bubble', item_id='msg_682965d011a08191a8b561cd0db01bd30f0fdedda97aa2c0', output_index=0, type='response.output_text.delta')\n",
      "ResponseTextDeltaEvent(content_index=0, delta=' bath', item_id='msg_682965d011a08191a8b561cd0db01bd30f0fdedda97aa2c0', output_index=0, type='response.output_text.delta')\n",
      "ResponseTextDeltaEvent(content_index=0, delta=',', item_id='msg_682965d011a08191a8b561cd0db01bd30f0fdedda97aa2c0', output_index=0, type='response.output_text.delta')\n",
      "ResponseTextDeltaEvent(content_index=0, delta=' double', item_id='msg_682965d011a08191a8b561cd0db01bd30f0fdedda97aa2c0', output_index=0, type='response.output_text.delta')\n",
      "ResponseTextDeltaEvent(content_index=0, delta=' bubble', item_id='msg_682965d011a08191a8b561cd0db01bd30f0fdedda97aa2c0', output_index=0, type='response.output_text.delta')\n",
      "ResponseTextDeltaEvent(content_index=0, delta=' bath', item_id='msg_682965d011a08191a8b561cd0db01bd30f0fdedda97aa2c0', output_index=0, type='response.output_text.delta')\n",
      "ResponseTextDeltaEvent(content_index=0, delta=',', item_id='msg_682965d011a08191a8b561cd0db01bd30f0fdedda97aa2c0', output_index=0, type='response.output_text.delta')\n",
      "ResponseTextDeltaEvent(content_index=0, delta=' double', item_id='msg_682965d011a08191a8b561cd0db01bd30f0fdedda97aa2c0', output_index=0, type='response.output_text.delta')\n",
      "ResponseTextDeltaEvent(content_index=0, delta=' bubble', item_id='msg_682965d011a08191a8b561cd0db01bd30f0fdedda97aa2c0', output_index=0, type='response.output_text.delta')\n",
      "ResponseTextDeltaEvent(content_index=0, delta=' bath', item_id='msg_682965d011a08191a8b561cd0db01bd30f0fdedda97aa2c0', output_index=0, type='response.output_text.delta')\n",
      "ResponseTextDeltaEvent(content_index=0, delta=',', item_id='msg_682965d011a08191a8b561cd0db01bd30f0fdedda97aa2c0', output_index=0, type='response.output_text.delta')\n",
      "ResponseTextDeltaEvent(content_index=0, delta=' double', item_id='msg_682965d011a08191a8b561cd0db01bd30f0fdedda97aa2c0', output_index=0, type='response.output_text.delta')\n",
      "ResponseTextDeltaEvent(content_index=0, delta=' bubble', item_id='msg_682965d011a08191a8b561cd0db01bd30f0fdedda97aa2c0', output_index=0, type='response.output_text.delta')\n",
      "ResponseTextDeltaEvent(content_index=0, delta=' bath', item_id='msg_682965d011a08191a8b561cd0db01bd30f0fdedda97aa2c0', output_index=0, type='response.output_text.delta')\n",
      "ResponseTextDeltaEvent(content_index=0, delta=',', item_id='msg_682965d011a08191a8b561cd0db01bd30f0fdedda97aa2c0', output_index=0, type='response.output_text.delta')\n",
      "ResponseTextDeltaEvent(content_index=0, delta=' double', item_id='msg_682965d011a08191a8b561cd0db01bd30f0fdedda97aa2c0', output_index=0, type='response.output_text.delta')\n",
      "ResponseTextDeltaEvent(content_index=0, delta=' bubble', item_id='msg_682965d011a08191a8b561cd0db01bd30f0fdedda97aa2c0', output_index=0, type='response.output_text.delta')\n",
      "ResponseTextDeltaEvent(content_index=0, delta=' bath', item_id='msg_682965d011a08191a8b561cd0db01bd30f0fdedda97aa2c0', output_index=0, type='response.output_text.delta')\n",
      "ResponseTextDeltaEvent(content_index=0, delta='!\\n\\n', item_id='msg_682965d011a08191a8b561cd0db01bd30f0fdedda97aa2c0', output_index=0, type='response.output_text.delta')\n",
      "ResponseTextDeltaEvent(content_index=0, delta='That', item_id='msg_682965d011a08191a8b561cd0db01bd30f0fdedda97aa2c0', output_index=0, type='response.output_text.delta')\n",
      "ResponseTextDeltaEvent(content_index=0, delta='’s', item_id='msg_682965d011a08191a8b561cd0db01bd30f0fdedda97aa2c0', output_index=0, type='response.output_text.delta')\n",
      "ResponseTextDeltaEvent(content_index=0, delta=' quite', item_id='msg_682965d011a08191a8b561cd0db01bd30f0fdedda97aa2c0', output_index=0, type='response.output_text.delta')\n",
      "ResponseTextDeltaEvent(content_index=0, delta=' a', item_id='msg_682965d011a08191a8b561cd0db01bd30f0fdedda97aa2c0', output_index=0, type='response.output_text.delta')\n",
      "ResponseTextDeltaEvent(content_index=0, delta=' tongue', item_id='msg_682965d011a08191a8b561cd0db01bd30f0fdedda97aa2c0', output_index=0, type='response.output_text.delta')\n",
      "ResponseTextDeltaEvent(content_index=0, delta=' tw', item_id='msg_682965d011a08191a8b561cd0db01bd30f0fdedda97aa2c0', output_index=0, type='response.output_text.delta')\n",
      "ResponseTextDeltaEvent(content_index=0, delta='ister', item_id='msg_682965d011a08191a8b561cd0db01bd30f0fdedda97aa2c0', output_index=0, type='response.output_text.delta')\n",
      "ResponseTextDeltaEvent(content_index=0, delta='!', item_id='msg_682965d011a08191a8b561cd0db01bd30f0fdedda97aa2c0', output_index=0, type='response.output_text.delta')\n",
      "ResponseTextDoneEvent(content_index=0, item_id='msg_682965d011a08191a8b561cd0db01bd30f0fdedda97aa2c0', output_index=0, text='Sure! Here it goes: \\n\\nDouble bubble bath, double bubble bath, double bubble bath, double bubble bath, double bubble bath, double bubble bath, double bubble bath, double bubble bath, double bubble bath, double bubble bath!\\n\\nThat’s quite a tongue twister!', type='response.output_text.done')\n",
      "ResponseContentPartDoneEvent(content_index=0, item_id='msg_682965d011a08191a8b561cd0db01bd30f0fdedda97aa2c0', output_index=0, part=ResponseOutputText(annotations=[], text='Sure! Here it goes: \\n\\nDouble bubble bath, double bubble bath, double bubble bath, double bubble bath, double bubble bath, double bubble bath, double bubble bath, double bubble bath, double bubble bath, double bubble bath!\\n\\nThat’s quite a tongue twister!', type='output_text'), type='response.content_part.done')\n",
      "ResponseOutputItemDoneEvent(item=ResponseOutputMessage(id='msg_682965d011a08191a8b561cd0db01bd30f0fdedda97aa2c0', content=[ResponseOutputText(annotations=[], text='Sure! Here it goes: \\n\\nDouble bubble bath, double bubble bath, double bubble bath, double bubble bath, double bubble bath, double bubble bath, double bubble bath, double bubble bath, double bubble bath, double bubble bath!\\n\\nThat’s quite a tongue twister!', type='output_text')], role='assistant', status='completed', type='message'), output_index=0, type='response.output_item.done')\n",
      "ResponseCompletedEvent(response=Response(id='resp_682965cfcd4881919795d7aba4e0a1760f0fdedda97aa2c0', created_at=1747543503.0, error=None, incomplete_details=None, instructions=None, metadata={}, model='gpt-4o-mini-2024-07-18', object='response', output=[ResponseOutputMessage(id='msg_682965d011a08191a8b561cd0db01bd30f0fdedda97aa2c0', content=[ResponseOutputText(annotations=[], text='Sure! Here it goes: \\n\\nDouble bubble bath, double bubble bath, double bubble bath, double bubble bath, double bubble bath, double bubble bath, double bubble bath, double bubble bath, double bubble bath, double bubble bath!\\n\\nThat’s quite a tongue twister!', type='output_text')], role='assistant', status='completed', type='message')], parallel_tool_calls=True, temperature=1.0, tool_choice='auto', tools=[], top_p=1.0, max_output_tokens=None, previous_response_id=None, reasoning=Reasoning(effort=None, generate_summary=None, summary=None), service_tier='default', status='completed', text=ResponseTextConfig(format=ResponseFormatText(type='text')), truncation='disabled', usage=ResponseUsage(input_tokens=17, input_tokens_details=InputTokensDetails(cached_tokens=0), output_tokens=56, output_tokens_details=OutputTokensDetails(reasoning_tokens=0), total_tokens=73), user=None, store=True), type='response.completed')\n"
     ]
    }
   ],
   "source": [
    "from openai import OpenAI\n",
    "client = OpenAI()\n",
    "\n",
    "stream = client.responses.create(\n",
    "    model=\"gpt-4o-mini\",\n",
    "    input=[\n",
    "        {\n",
    "            \"role\": \"user\",\n",
    "            \"content\": \"Say 'double bubble bath' ten times fast.\",\n",
    "        },\n",
    "    ],\n",
    "    stream=True,\n",
    ")\n",
    "\n",
    "for event in stream:\n",
    "    print(event)"
   ]
  },
  {
   "cell_type": "markdown",
   "id": "fa2320c4-e44b-4da4-884f-1164421ca4c5",
   "metadata": {
    "jp-MarkdownHeadingCollapsed": true
   },
   "source": [
    "# agents"
   ]
  },
  {
   "cell_type": "code",
   "execution_count": 2,
   "id": "5cc53c00-afb7-4d6c-acc4-64db977f3ba0",
   "metadata": {},
   "outputs": [],
   "source": [
    "# !proxychains pip install openai-agents"
   ]
  },
  {
   "cell_type": "code",
   "execution_count": 5,
   "id": "4acf127f-670b-4d23-a0a2-f47815a60f7d",
   "metadata": {},
   "outputs": [
    {
     "name": "stdout",
     "output_type": "stream",
     "text": [
      "Hello! Yes, I'm here and ready to help. What can I assist you with today?\n"
     ]
    }
   ],
   "source": [
    "from agents import Agent, Runner\n",
    "\n",
    "# No need for asyncio.run() in notebooks\n",
    "agent = Agent(\n",
    "   name=\"Test Agent\",\n",
    "   instructions=\"You are a helpful assistant that provides concise responses.\"\n",
    ")\n",
    "result = await Runner.run(agent, \"Hello! Are you working correctly?\")\n",
    "print(result.final_output)"
   ]
  },
  {
   "cell_type": "code",
   "execution_count": 8,
   "id": "4b4c914a-2c64-4e3f-85a3-7fc472d9a312",
   "metadata": {},
   "outputs": [
    {
     "name": "stdout",
     "output_type": "stream",
     "text": [
      "¡Hola! Estoy bien, gracias. ¿Y tú?\n"
     ]
    }
   ],
   "source": [
    "from agents import Agent, Runner\n",
    "\n",
    "spanish_agent = Agent(\n",
    "    name=\"Spanish agent\",\n",
    "    instructions=\"You only speak Spanish.\",\n",
    ")\n",
    "\n",
    "english_agent = Agent(\n",
    "    name=\"English agent\",\n",
    "    instructions=\"You only speak English\",\n",
    ")\n",
    "\n",
    "triage_agent = Agent(\n",
    "    name=\"Triage agent\",\n",
    "    instructions=\"Handoff to the appropriate agent based on the language of the request.\",\n",
    "    handoffs=[spanish_agent, english_agent],\n",
    ")\n",
    "\n",
    "result = await Runner.run(triage_agent, input=\"Hola, ¿cómo estás?\")\n",
    "print(result.final_output)"
   ]
  }
 ],
 "metadata": {
  "kernelspec": {
   "display_name": "Python 3 (ipykernel)",
   "language": "python",
   "name": "python3"
  },
  "language_info": {
   "codemirror_mode": {
    "name": "ipython",
    "version": 3
   },
   "file_extension": ".py",
   "mimetype": "text/x-python",
   "name": "python",
   "nbconvert_exporter": "python",
   "pygments_lexer": "ipython3",
   "version": "3.12.9"
  }
 },
 "nbformat": 4,
 "nbformat_minor": 5
}
