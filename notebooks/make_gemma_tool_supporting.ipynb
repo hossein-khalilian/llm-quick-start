{
 "cells": [
  {
   "cell_type": "markdown",
   "id": "67a96243-6f28-4356-be5f-04cd73fecf1d",
   "metadata": {
    "jp-MarkdownHeadingCollapsed": true
   },
   "source": [
    "# functions"
   ]
  },
  {
   "cell_type": "code",
   "execution_count": 1,
   "id": "5d389167-4dce-4839-b29c-905ed19448ee",
   "metadata": {
    "execution": {
     "iopub.execute_input": "2025-05-21T13:26:12.161549Z",
     "iopub.status.busy": "2025-05-21T13:26:12.161006Z",
     "iopub.status.idle": "2025-05-21T13:26:12.535538Z",
     "shell.execute_reply": "2025-05-21T13:26:12.534814Z",
     "shell.execute_reply.started": "2025-05-21T13:26:12.161498Z"
    }
   },
   "outputs": [],
   "source": [
    "import uuid\n",
    "from langchain_core.output_parsers import JsonOutputParser\n",
    "\n",
    "class JsonOrRawParser(JsonOutputParser):\n",
    "    def invoke(self, input, config=None):\n",
    "        try:\n",
    "            tool_calls = super().invoke(input)\n",
    "            tool_calls = [tool_call | {\"id\": str(uuid.uuid4()), \"type\": \"tool_call\"} for tool_call in tool_calls]\n",
    "            input.tool_calls = tool_calls\n",
    "            input.content = \"\"\n",
    "            \n",
    "            return input\n",
    "            \n",
    "        except Exception as e:\n",
    "            return input"
   ]
  },
  {
   "cell_type": "code",
   "execution_count": 12,
   "id": "03441dc2-726e-4550-8454-1b27905e2014",
   "metadata": {
    "execution": {
     "iopub.execute_input": "2025-05-21T13:27:45.468568Z",
     "iopub.status.busy": "2025-05-21T13:27:45.467785Z",
     "iopub.status.idle": "2025-05-21T13:27:45.497742Z",
     "shell.execute_reply": "2025-05-21T13:27:45.496814Z",
     "shell.execute_reply.started": "2025-05-21T13:27:45.468493Z"
    }
   },
   "outputs": [],
   "source": [
    "from langchain_ollama import ChatOllama\n",
    "from langchain_core.prompts import ChatPromptTemplate\n",
    "from langchain_core.tools import render_text_description\n",
    "\n",
    "class ChatOllamaCustomized(ChatOllama):\n",
    "    def bind_tools(self, tools):\n",
    "        rendered_tools = render_text_description(tools)\n",
    "        system_prompt = f\"\"\"\\\n",
    "        You have access to functions. If you decide to invoke any of the function(s),\n",
    "        you MUST put it in the format of\n",
    "        json[\n",
    "          {{{{\n",
    "            \"name\": \"tool_name\",\n",
    "            \"arguments\": dictionary of argument name and its value\n",
    "          }}}},\n",
    "          ...\n",
    "        ]\n",
    "        You SHOULD NOT include any other text in the response if you call a function.\n",
    "        {rendered_tools}\n",
    "        \"\"\"\n",
    "        prompt = ChatPromptTemplate.from_messages(\n",
    "            [(\"system\", system_prompt), (\"user\", \"{input}\")]\n",
    "        )\n",
    "        chain = prompt | llm | JsonOrRawParser()\n",
    "\n",
    "        return chain.bind()"
   ]
  },
  {
   "cell_type": "markdown",
   "id": "254119bd-bb67-4ade-94c3-123db5f222ea",
   "metadata": {
    "jp-MarkdownHeadingCollapsed": true
   },
   "source": [
    "# setup"
   ]
  },
  {
   "cell_type": "code",
   "execution_count": 13,
   "id": "25570893-c09e-477e-8ab3-4f891a5cdf14",
   "metadata": {
    "execution": {
     "iopub.execute_input": "2025-05-21T13:27:47.245446Z",
     "iopub.status.busy": "2025-05-21T13:27:47.245127Z",
     "iopub.status.idle": "2025-05-21T13:27:47.271777Z",
     "shell.execute_reply": "2025-05-21T13:27:47.270913Z",
     "shell.execute_reply.started": "2025-05-21T13:27:47.245421Z"
    }
   },
   "outputs": [],
   "source": [
    "base_url=\"http://host.docker.internal:11434\"\n",
    "model_name = \"gemma3:27b\"\n",
    "llm = ChatOllamaCustomized(\n",
    "    model=model_name,\n",
    "    base_url=base_url,\n",
    ")"
   ]
  },
  {
   "cell_type": "markdown",
   "id": "353c513e-f979-4c76-bdd0-5ff71159ef7c",
   "metadata": {
    "jp-MarkdownHeadingCollapsed": true
   },
   "source": [
    "# tools"
   ]
  },
  {
   "cell_type": "code",
   "execution_count": 14,
   "id": "ca8a405e-0060-4418-a416-c654b5b27b01",
   "metadata": {
    "execution": {
     "iopub.execute_input": "2025-05-21T13:27:48.652499Z",
     "iopub.status.busy": "2025-05-21T13:27:48.652077Z",
     "iopub.status.idle": "2025-05-21T13:27:48.665165Z",
     "shell.execute_reply": "2025-05-21T13:27:48.664418Z",
     "shell.execute_reply.started": "2025-05-21T13:27:48.652469Z"
    }
   },
   "outputs": [],
   "source": [
    "from langchain_core.tools import tool\n",
    "\n",
    "\n",
    "@tool\n",
    "def multiply(a: float, b: float) -> float:\n",
    "    \"\"\"Multiply two numbers together.\"\"\"\n",
    "    return a * b\n",
    "\n",
    "\n",
    "@tool\n",
    "def add(x: int, y: int) -> int:\n",
    "    \"Add two numbers.\"\n",
    "    return x + y\n",
    "\n",
    "tools = [multiply, add]"
   ]
  },
  {
   "cell_type": "markdown",
   "id": "a20732c0-556d-456a-88aa-dd2e7097f2ee",
   "metadata": {},
   "source": [
    "# usage"
   ]
  },
  {
   "cell_type": "code",
   "execution_count": 15,
   "id": "6fd7c64e-794d-4e7e-be12-3572ecf0b72d",
   "metadata": {
    "execution": {
     "iopub.execute_input": "2025-05-21T13:27:49.422307Z",
     "iopub.status.busy": "2025-05-21T13:27:49.421977Z",
     "iopub.status.idle": "2025-05-21T13:27:49.454716Z",
     "shell.execute_reply": "2025-05-21T13:27:49.453902Z",
     "shell.execute_reply.started": "2025-05-21T13:27:49.422279Z"
    }
   },
   "outputs": [],
   "source": [
    "llm = ChatOllamaCustomized(\n",
    "    model=model_name,\n",
    "    base_url=base_url,\n",
    ")"
   ]
  },
  {
   "cell_type": "code",
   "execution_count": 16,
   "id": "69564917-7f8d-4016-b9ac-eebe47015e20",
   "metadata": {
    "execution": {
     "iopub.execute_input": "2025-05-21T13:27:50.076479Z",
     "iopub.status.busy": "2025-05-21T13:27:50.074163Z",
     "iopub.status.idle": "2025-05-21T13:27:50.092025Z",
     "shell.execute_reply": "2025-05-21T13:27:50.089491Z",
     "shell.execute_reply.started": "2025-05-21T13:27:50.076393Z"
    }
   },
   "outputs": [],
   "source": [
    "llm_with_tools = llm.bind_tools(tools)"
   ]
  },
  {
   "cell_type": "code",
   "execution_count": 18,
   "id": "abf79b37-7f8c-40e4-a7a6-83635a8a8772",
   "metadata": {
    "execution": {
     "iopub.execute_input": "2025-05-21T13:28:25.676446Z",
     "iopub.status.busy": "2025-05-21T13:28:25.674871Z",
     "iopub.status.idle": "2025-05-21T13:28:28.356264Z",
     "shell.execute_reply": "2025-05-21T13:28:28.354424Z",
     "shell.execute_reply.started": "2025-05-21T13:28:25.676366Z"
    }
   },
   "outputs": [
    {
     "data": {
      "text/plain": [
       "AIMessage(content='', additional_kwargs={}, response_metadata={'model': 'gemma3:27b', 'created_at': '2025-05-21T13:28:28.064469726Z', 'done': True, 'done_reason': 'stop', 'total_duration': 2239327612, 'load_duration': 95832384, 'prompt_eval_count': 149, 'prompt_eval_duration': 44729189, 'eval_count': 87, 'eval_duration': 2096660456, 'model_name': 'gemma3:27b'}, id='run--a13b9783-dc90-4089-b92c-baf004a422d9-0', tool_calls=[{'name': 'multiply', 'arguments': {'a': 12, 'b': 7}, 'id': '55bb3b42-d775-464d-a6db-2efe48d7f7c5', 'type': 'tool_call'}, {'name': 'add', 'arguments': {'x': 15, 'y': 8}, 'id': '6779fc31-fc9f-47bd-a1ee-4aa1366c5c5d', 'type': 'tool_call'}], usage_metadata={'input_tokens': 149, 'output_tokens': 87, 'total_tokens': 236})"
      ]
     },
     "execution_count": 18,
     "metadata": {},
     "output_type": "execute_result"
    }
   ],
   "source": [
    "llm_with_tools.invoke(\"12*7 and 15+8\")"
   ]
  },
  {
   "cell_type": "code",
   "execution_count": null,
   "id": "71f86f26-59b9-4583-a669-1e30a0f266c9",
   "metadata": {},
   "outputs": [],
   "source": []
  }
 ],
 "metadata": {
  "kernelspec": {
   "display_name": "Python 3 (ipykernel)",
   "language": "python",
   "name": "python3"
  },
  "language_info": {
   "codemirror_mode": {
    "name": "ipython",
    "version": 3
   },
   "file_extension": ".py",
   "mimetype": "text/x-python",
   "name": "python",
   "nbconvert_exporter": "python",
   "pygments_lexer": "ipython3",
   "version": "3.12.9"
  }
 },
 "nbformat": 4,
 "nbformat_minor": 5
}
