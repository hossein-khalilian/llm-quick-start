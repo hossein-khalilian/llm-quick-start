{
 "cells": [
  {
   "cell_type": "markdown",
   "id": "67a96243-6f28-4356-be5f-04cd73fecf1d",
   "metadata": {},
   "source": [
    "# functions"
   ]
  },
  {
   "cell_type": "code",
   "execution_count": 1,
   "id": "5d389167-4dce-4839-b29c-905ed19448ee",
   "metadata": {
    "execution": {
     "iopub.execute_input": "2025-05-24T08:56:18.935196Z",
     "iopub.status.busy": "2025-05-24T08:56:18.934920Z",
     "iopub.status.idle": "2025-05-24T08:56:19.319121Z",
     "shell.execute_reply": "2025-05-24T08:56:19.318389Z",
     "shell.execute_reply.started": "2025-05-24T08:56:18.935164Z"
    }
   },
   "outputs": [],
   "source": [
    "import uuid\n",
    "from langchain_core.output_parsers import JsonOutputParser\n",
    "\n",
    "class JsonOrRawParser(JsonOutputParser):\n",
    "    def invoke(self, input, config=None):\n",
    "        try:\n",
    "            input.content = input.content.replace(\"tool_call\", \"\")\n",
    "            tool_calls = super().invoke(input)\n",
    "            tool_calls = [tool_call | {\"id\": str(uuid.uuid4()), \"type\": \"tool_call\"} for tool_call in tool_calls]\n",
    "            input.tool_calls = tool_calls\n",
    "            input.content = \"\"\n",
    "            \n",
    "            return input\n",
    "            \n",
    "        except Exception as e:\n",
    "            print(e)\n",
    "            return input"
   ]
  },
  {
   "cell_type": "code",
   "execution_count": null,
   "id": "fd94c492-05a3-405b-97b4-61b1f6dce25e",
   "metadata": {},
   "outputs": [],
   "source": [
    "# system_template = \"\"\"\\\n",
    "# You have access to tools. If you decide to invoke any of the tools(s),\n",
    "# you MUST put it in the format of\n",
    "# [\n",
    "#   {{{{\n",
    "#     \"name\": \"tool_name\",\n",
    "#     \"arguments\": {{{{ \"arg1\": \"value1\", \"arg2\": \"value2\" }}}}\n",
    "#   }}}},\n",
    "#   ...\n",
    "# ]\n",
    "# You SHOULD NOT include any other text in the response if you call a function.\n",
    "# Available functions:\n",
    "# [{rendered_tools}]\n",
    "# \"\"\""
   ]
  },
  {
   "cell_type": "code",
   "execution_count": 34,
   "id": "03441dc2-726e-4550-8454-1b27905e2014",
   "metadata": {
    "execution": {
     "iopub.execute_input": "2025-05-24T11:14:09.177449Z",
     "iopub.status.busy": "2025-05-24T11:14:09.176850Z",
     "iopub.status.idle": "2025-05-24T11:14:09.192426Z",
     "shell.execute_reply": "2025-05-24T11:14:09.191625Z",
     "shell.execute_reply.started": "2025-05-24T11:14:09.177421Z"
    }
   },
   "outputs": [],
   "source": [
    "import json\n",
    "from langchain_ollama import ChatOllama\n",
    "from langchain_core.prompts import ChatPromptTemplate, SystemMessagePromptTemplate\n",
    "from langchain_core.tools import render_text_description\n",
    "\n",
    "\n",
    "class ChatOllamaCustomized(ChatOllama):\n",
    "    def bind_tools(self, tools):\n",
    "\n",
    "        system_template = \"\"\"\\\n",
    "        You are a helpful assistant with access to the following powerful tools:\n",
    "\n",
    "        [{rendered_tools}]\n",
    "\n",
    "        **Crucial Instruction:**\n",
    "        If a user's request can be answered by using any of the available tools, you MUST use the tool(s) to retrieve the information.\n",
    "        Only if no tool is suitable, you may respond directly.\n",
    "\n",
    "        When using a tool, you MUST respond ONLY with the tool invocation(s) in the exact JSON format below. Do NOT include any other text, explanation, or commentary outside this JSON structure:\n",
    "\n",
    "        [\n",
    "          {{{{\n",
    "            \"name\": \"tool_name\",\n",
    "            \"args\": {{{{\n",
    "              \"arg1\": \"value1\",\n",
    "              \"arg2\": \"value2\"\n",
    "            }}}}\n",
    "          }}}},\n",
    "          ...\n",
    "        ]\n",
    "\n",
    "        If no tool is appropriate for the user's query, you may respond normally with a direct answer.\n",
    "        \"\"\"\n",
    "        \n",
    "        rendered_tools = json.dumps([tool.args_schema.model_json_schema() for tool in tools], indent=2)\n",
    "        rendered_tools = rendered_tools.replace(\"{\", \"{{\").replace(\"}\", \"}}\")\n",
    "        \n",
    "        system_prompt_template = SystemMessagePromptTemplate.from_template(system_template)\n",
    "        system_prompt = system_prompt_template.format_messages(rendered_tools=rendered_tools)\n",
    "        \n",
    "        prompt = ChatPromptTemplate.from_messages(\n",
    "            [(\"system\", system_prompt[0].content), (\"user\", \"{input}\")]\n",
    "        )\n",
    "\n",
    "        chain = prompt | self | JsonOrRawParser()\n",
    "\n",
    "        return chain.bind()"
   ]
  },
  {
   "cell_type": "markdown",
   "id": "254119bd-bb67-4ade-94c3-123db5f222ea",
   "metadata": {},
   "source": [
    "# setup"
   ]
  },
  {
   "cell_type": "code",
   "execution_count": 35,
   "id": "25570893-c09e-477e-8ab3-4f891a5cdf14",
   "metadata": {
    "execution": {
     "iopub.execute_input": "2025-05-24T11:14:10.418689Z",
     "iopub.status.busy": "2025-05-24T11:14:10.417827Z",
     "iopub.status.idle": "2025-05-24T11:14:10.442131Z",
     "shell.execute_reply": "2025-05-24T11:14:10.441405Z",
     "shell.execute_reply.started": "2025-05-24T11:14:10.418662Z"
    }
   },
   "outputs": [],
   "source": [
    "base_url=\"http://host.docker.internal:11434\"\n",
    "model_name = \"gemma3:27b\"\n",
    "\n",
    "llm = ChatOllama(\n",
    "    model=model_name,\n",
    "    base_url=base_url,\n",
    "    temperature=0.7,\n",
    ")"
   ]
  },
  {
   "cell_type": "markdown",
   "id": "353c513e-f979-4c76-bdd0-5ff71159ef7c",
   "metadata": {},
   "source": [
    "# tools"
   ]
  },
  {
   "cell_type": "code",
   "execution_count": 36,
   "id": "ca8a405e-0060-4418-a416-c654b5b27b01",
   "metadata": {
    "execution": {
     "iopub.execute_input": "2025-05-24T11:14:11.362657Z",
     "iopub.status.busy": "2025-05-24T11:14:11.362311Z",
     "iopub.status.idle": "2025-05-24T11:14:11.386886Z",
     "shell.execute_reply": "2025-05-24T11:14:11.386222Z",
     "shell.execute_reply.started": "2025-05-24T11:14:11.362634Z"
    }
   },
   "outputs": [],
   "source": [
    "from langchain_core.tools import tool\n",
    "\n",
    "\n",
    "@tool\n",
    "def multiply(x: float, y: float) -> float:\n",
    "    \"\"\"Multiply two numbers together.\"\"\"\n",
    "    return x * y\n",
    "\n",
    "\n",
    "@tool\n",
    "def add(x: int, y: int) -> int:\n",
    "    \"Add two numbers.\"\n",
    "    return x + y\n",
    "\n",
    "@tool\n",
    "def retrieve(input_query: str):\n",
    "    \"\"\"\n",
    "    Accesses an external knowledge base to retrieve relevant and useful documents based on the user's query.\n",
    "    Use this function whenever the query requires detailed factual information, specific reference material,\n",
    "    or external background context that might not be part of my general training data.\n",
    "    This function is particularly useful for questions seeking explanations, definitions, or examples\n",
    "    that benefit from a comprehensive document search.\n",
    "    \"\"\"\n",
    "    retrieved_docs = vector_store.similarity_search(query, k=2)\n",
    "    serialized = \"\\n\\n\".join(\n",
    "        (f\"Source: {doc.metadata}\\n\" f\"Content: {doc.page_content}\")\n",
    "        for doc in retrieved_docs\n",
    "    )\n",
    "    return serialized\n",
    "\n",
    "tools = [retrieve]\n",
    "\n",
    "tools = [retrieve, multiply, add]\n"
   ]
  },
  {
   "cell_type": "markdown",
   "id": "a20732c0-556d-456a-88aa-dd2e7097f2ee",
   "metadata": {},
   "source": [
    "# usage"
   ]
  },
  {
   "cell_type": "code",
   "execution_count": 37,
   "id": "6fd7c64e-794d-4e7e-be12-3572ecf0b72d",
   "metadata": {
    "execution": {
     "iopub.execute_input": "2025-05-24T11:14:12.483275Z",
     "iopub.status.busy": "2025-05-24T11:14:12.482991Z",
     "iopub.status.idle": "2025-05-24T11:14:12.510854Z",
     "shell.execute_reply": "2025-05-24T11:14:12.510244Z",
     "shell.execute_reply.started": "2025-05-24T11:14:12.483250Z"
    }
   },
   "outputs": [],
   "source": [
    "llm = ChatOllamaCustomized(\n",
    "    model=model_name,\n",
    "    base_url=base_url,\n",
    ")"
   ]
  },
  {
   "cell_type": "code",
   "execution_count": 38,
   "id": "69564917-7f8d-4016-b9ac-eebe47015e20",
   "metadata": {
    "execution": {
     "iopub.execute_input": "2025-05-24T11:14:12.711633Z",
     "iopub.status.busy": "2025-05-24T11:14:12.711354Z",
     "iopub.status.idle": "2025-05-24T11:14:12.718978Z",
     "shell.execute_reply": "2025-05-24T11:14:12.716726Z",
     "shell.execute_reply.started": "2025-05-24T11:14:12.711609Z"
    }
   },
   "outputs": [],
   "source": [
    "llm_with_tools = llm.bind_tools(tools)"
   ]
  },
  {
   "cell_type": "code",
   "execution_count": 39,
   "id": "abf79b37-7f8c-40e4-a7a6-83635a8a8772",
   "metadata": {
    "execution": {
     "iopub.execute_input": "2025-05-24T11:14:13.271515Z",
     "iopub.status.busy": "2025-05-24T11:14:13.268715Z",
     "iopub.status.idle": "2025-05-24T11:14:19.769952Z",
     "shell.execute_reply": "2025-05-24T11:14:19.769140Z",
     "shell.execute_reply.started": "2025-05-24T11:14:13.271360Z"
    }
   },
   "outputs": [
    {
     "data": {
      "text/plain": [
       "AIMessage(content='', additional_kwargs={}, response_metadata={'model': 'gemma3:27b', 'created_at': '2025-05-24T11:14:19.343095168Z', 'done': True, 'done_reason': 'stop', 'total_duration': 6052999342, 'load_duration': 3130651443, 'prompt_eval_count': 594, 'prompt_eval_duration': 567274183, 'eval_count': 87, 'eval_duration': 2310784576, 'model_name': 'gemma3:27b'}, id='run--7b93889b-3fa1-4065-bb05-8c42c5a5f448-0', tool_calls=[{'name': 'add', 'args': {'x': 12, 'y': 7}, 'id': 'c7052ff9-5649-4a70-b14c-bf7ee7ff2204', 'type': 'tool_call'}, {'name': 'multiply', 'args': {'x': 15, 'y': 8}, 'id': '57348c0c-5298-487e-b9f8-3f4933f7133c', 'type': 'tool_call'}], usage_metadata={'input_tokens': 594, 'output_tokens': 87, 'total_tokens': 681})"
      ]
     },
     "execution_count": 39,
     "metadata": {},
     "output_type": "execute_result"
    }
   ],
   "source": [
    "llm_with_tools.invoke(\"12+7 and 15*8\")"
   ]
  },
  {
   "cell_type": "code",
   "execution_count": 15,
   "id": "2593eb34-3ae0-464a-9466-4f3b15c1aae1",
   "metadata": {
    "execution": {
     "iopub.execute_input": "2025-05-24T08:57:36.946474Z",
     "iopub.status.busy": "2025-05-24T08:57:36.945535Z",
     "iopub.status.idle": "2025-05-24T08:57:38.533127Z",
     "shell.execute_reply": "2025-05-24T08:57:38.532455Z",
     "shell.execute_reply.started": "2025-05-24T08:57:36.946399Z"
    }
   },
   "outputs": [
    {
     "data": {
      "text/plain": [
       "AIMessage(content='', additional_kwargs={}, response_metadata={'model': 'gemma3:27b', 'created_at': '2025-05-24T08:57:38.214447774Z', 'done': True, 'done_reason': 'stop', 'total_duration': 1360452524, 'load_duration': 32244382, 'prompt_eval_count': 582, 'prompt_eval_duration': 44999883, 'eval_count': 49, 'eval_duration': 1281181997, 'model_name': 'gemma3:27b'}, id='run--7fc3017b-b1b8-4b9c-a4be-7bf22cb60c02-0', tool_calls=[{'name': 'retrieve', 'arguments': {'input_query': 'when the first man landed on the moon'}, 'id': '13a19ad1-2063-4c4f-bad5-896eb33a6887', 'type': 'tool_call'}], usage_metadata={'input_tokens': 582, 'output_tokens': 49, 'total_tokens': 631})"
      ]
     },
     "execution_count": 15,
     "metadata": {},
     "output_type": "execute_result"
    }
   ],
   "source": [
    "llm_with_tools.invoke(\"when the first man landed on the moon\")"
   ]
  },
  {
   "cell_type": "code",
   "execution_count": 16,
   "id": "40b9b10a-3711-4afc-b464-e3d9bcb74d78",
   "metadata": {
    "execution": {
     "iopub.execute_input": "2025-05-24T08:57:38.533910Z",
     "iopub.status.busy": "2025-05-24T08:57:38.533673Z",
     "iopub.status.idle": "2025-05-24T08:57:40.065304Z",
     "shell.execute_reply": "2025-05-24T08:57:40.064706Z",
     "shell.execute_reply.started": "2025-05-24T08:57:38.533887Z"
    }
   },
   "outputs": [
    {
     "data": {
      "text/plain": [
       "AIMessage(content='', additional_kwargs={}, response_metadata={'model': 'gemma3:27b', 'created_at': '2025-05-24T08:57:39.744597884Z', 'done': True, 'done_reason': 'stop', 'total_duration': 1307607485, 'load_duration': 30020848, 'prompt_eval_count': 593, 'prompt_eval_duration': 44223384, 'eval_count': 47, 'eval_duration': 1231470291, 'model_name': 'gemma3:27b'}, id='run--ee7f6e9c-2d66-4d3f-aa22-cc3ffb7c3e6e-0', tool_calls=[{'name': 'retrieve', 'arguments': {'input_query': 'task decomposition techniques in AI agents'}, 'id': 'd8766db4-0227-41ea-b6e3-c1f7bdf68731', 'type': 'tool_call'}], usage_metadata={'input_tokens': 593, 'output_tokens': 47, 'total_tokens': 640})"
      ]
     },
     "execution_count": 16,
     "metadata": {},
     "output_type": "execute_result"
    }
   ],
   "source": [
    "llm_with_tools.invoke(\"What are the different types of task decomposition techniques, and how are they used in AI agents?\")"
   ]
  },
  {
   "cell_type": "code",
   "execution_count": 17,
   "id": "034c24ef-9233-4cad-8a0c-d8ff75622d0c",
   "metadata": {
    "execution": {
     "iopub.execute_input": "2025-05-24T08:57:40.066451Z",
     "iopub.status.busy": "2025-05-24T08:57:40.066204Z",
     "iopub.status.idle": "2025-05-24T08:57:41.493370Z",
     "shell.execute_reply": "2025-05-24T08:57:41.491289Z",
     "shell.execute_reply.started": "2025-05-24T08:57:40.066429Z"
    }
   },
   "outputs": [
    {
     "data": {
      "text/plain": [
       "AIMessage(content='', additional_kwargs={}, response_metadata={'model': 'gemma3:27b', 'created_at': '2025-05-24T08:57:41.16583997Z', 'done': True, 'done_reason': 'stop', 'total_duration': 1196044471, 'load_duration': 30180782, 'prompt_eval_count': 578, 'prompt_eval_duration': 43297192, 'eval_count': 43, 'eval_duration': 1120802804, 'model_name': 'gemma3:27b'}, id='run--eacc2869-fa7c-4587-adc1-ac43753d01d2-0', tool_calls=[{'name': 'retrieve', 'arguments': {'input_query': 'task decomposition'}, 'id': 'f3fcf5e6-e9c7-493d-8a6b-6c30be99b5ea', 'type': 'tool_call'}], usage_metadata={'input_tokens': 578, 'output_tokens': 43, 'total_tokens': 621})"
      ]
     },
     "execution_count": 17,
     "metadata": {},
     "output_type": "execute_result"
    }
   ],
   "source": [
    "llm_with_tools.invoke(\"what is task decomposition\")"
   ]
  },
  {
   "cell_type": "markdown",
   "id": "947382df-3285-4366-83dd-55929c917aed",
   "metadata": {},
   "source": [
    "# test"
   ]
  }
 ],
 "metadata": {
  "kernelspec": {
   "display_name": "Python 3 (ipykernel)",
   "language": "python",
   "name": "python3"
  },
  "language_info": {
   "codemirror_mode": {
    "name": "ipython",
    "version": 3
   },
   "file_extension": ".py",
   "mimetype": "text/x-python",
   "name": "python",
   "nbconvert_exporter": "python",
   "pygments_lexer": "ipython3",
   "version": "3.12.9"
  }
 },
 "nbformat": 4,
 "nbformat_minor": 5
}
