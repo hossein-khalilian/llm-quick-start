{
 "cells": [
  {
   "cell_type": "markdown",
   "id": "f1c4dcae-e94f-4140-908f-1939bafa4fa0",
   "metadata": {
    "jp-MarkdownHeadingCollapsed": true
   },
   "source": [
    "# setup"
   ]
  },
  {
   "cell_type": "code",
   "execution_count": 1,
   "id": "d4219f80-3791-4332-9aff-0a338d54fdf1",
   "metadata": {
    "execution": {
     "iopub.execute_input": "2025-06-03T07:16:33.779117Z",
     "iopub.status.busy": "2025-06-03T07:16:33.778843Z",
     "iopub.status.idle": "2025-06-03T07:16:33.783153Z",
     "shell.execute_reply": "2025-06-03T07:16:33.782369Z",
     "shell.execute_reply.started": "2025-06-03T07:16:33.779092Z"
    }
   },
   "outputs": [],
   "source": [
    "# !proxychains pip install -q -U google-genai"
   ]
  },
  {
   "cell_type": "code",
   "execution_count": 1,
   "id": "3cead315-25b2-4a29-8c09-79f6418e24d5",
   "metadata": {
    "execution": {
     "iopub.execute_input": "2025-06-03T07:17:14.897921Z",
     "iopub.status.busy": "2025-06-03T07:17:14.897646Z",
     "iopub.status.idle": "2025-06-03T07:17:14.916517Z",
     "shell.execute_reply": "2025-06-03T07:17:14.915712Z",
     "shell.execute_reply.started": "2025-06-03T07:17:14.897895Z"
    }
   },
   "outputs": [
    {
     "data": {
      "text/plain": [
       "True"
      ]
     },
     "execution_count": 1,
     "metadata": {},
     "output_type": "execute_result"
    }
   ],
   "source": [
    "from dotenv import load_dotenv\n",
    "load_dotenv()"
   ]
  },
  {
   "cell_type": "code",
   "execution_count": 2,
   "id": "09416027-4c0f-443f-b7bf-256703d15e61",
   "metadata": {
    "execution": {
     "iopub.execute_input": "2025-06-03T07:17:14.917848Z",
     "iopub.status.busy": "2025-06-03T07:17:14.917585Z",
     "iopub.status.idle": "2025-06-03T07:17:14.924118Z",
     "shell.execute_reply": "2025-06-03T07:17:14.922357Z",
     "shell.execute_reply.started": "2025-06-03T07:17:14.917824Z"
    }
   },
   "outputs": [],
   "source": [
    "import getpass\n",
    "import os\n",
    "\n",
    "if not os.environ.get(\"GOOGLE_API_KEY\"):\n",
    "  os.environ[\"GOOGLE_API_KEY\"] = getpass.getpass(\"Enter API key for Google Gemini: \")"
   ]
  },
  {
   "cell_type": "code",
   "execution_count": 3,
   "id": "18143379-70a9-41d0-a07a-4bf0fc362a45",
   "metadata": {
    "execution": {
     "iopub.execute_input": "2025-06-03T07:17:15.041859Z",
     "iopub.status.busy": "2025-06-03T07:17:15.041579Z",
     "iopub.status.idle": "2025-06-03T07:17:16.085523Z",
     "shell.execute_reply": "2025-06-03T07:17:16.084771Z",
     "shell.execute_reply.started": "2025-06-03T07:17:15.041836Z"
    }
   },
   "outputs": [],
   "source": [
    "from google import genai\n",
    "\n",
    "client = genai.Client()"
   ]
  },
  {
   "cell_type": "markdown",
   "id": "10d78f75-37f2-4da7-a878-e1972a75577c",
   "metadata": {
    "jp-MarkdownHeadingCollapsed": true
   },
   "source": [
    "# generate text"
   ]
  },
  {
   "cell_type": "code",
   "execution_count": 5,
   "id": "0e30e665-4769-4801-9cf2-401ef4ca1a2d",
   "metadata": {
    "execution": {
     "iopub.execute_input": "2025-06-03T07:16:35.358847Z",
     "iopub.status.busy": "2025-06-03T07:16:35.358422Z",
     "iopub.status.idle": "2025-06-03T07:16:37.039177Z",
     "shell.execute_reply": "2025-06-03T07:16:37.038370Z",
     "shell.execute_reply.started": "2025-06-03T07:16:35.358820Z"
    }
   },
   "outputs": [
    {
     "name": "stdout",
     "output_type": "stream",
     "text": [
      "AI learns from data to make predictions or decisions.\n",
      "\n"
     ]
    }
   ],
   "source": [
    "response = client.models.generate_content(\n",
    "    model=\"gemini-2.0-flash\", contents=\"Explain how AI works in a few words\"\n",
    ")\n",
    "print(response.text)"
   ]
  },
  {
   "cell_type": "markdown",
   "id": "a654d89e-8df3-49b6-817a-b8f0e246b78f",
   "metadata": {},
   "source": [
    "stream"
   ]
  },
  {
   "cell_type": "code",
   "execution_count": 6,
   "id": "89dccaf2-e8c7-47cc-afa8-168b0c3f470d",
   "metadata": {
    "execution": {
     "iopub.execute_input": "2025-06-03T07:16:37.039996Z",
     "iopub.status.busy": "2025-06-03T07:16:37.039743Z",
     "iopub.status.idle": "2025-06-03T07:16:46.715310Z",
     "shell.execute_reply": "2025-06-03T07:16:46.713638Z",
     "shell.execute_reply.started": "2025-06-03T07:16:37.039968Z"
    }
   },
   "outputs": [
    {
     "name": "stdout",
     "output_type": "stream",
     "text": [
      "Okay, let's break down how AI works. It's a broad field, so I'll focus on the core concepts and common techniques.  Think of AI as a multi-layered cake, with different layers representing different approaches and technologies.\n",
      "\n",
      "**The Basic Idea: Mimicking Intelligence**\n",
      "\n",
      " that typically require human intelligence. This includes:tasks\n",
      "\n",
      "*   **Learning:** Acquiring information and rules for using the information.\n",
      " information to draw conclusions.\n",
      "*   **Problem-solving:** Finding solutions to complex issues.\n",
      "*   **Perception:** Interpreting sensory input (like images, sound, or text).\n",
      " to human language. Language:** Processing and responding\n",
      "\n",
      "**Key Components & Approaches:**\n",
      "\n",
      "AI achieves these goals through a variety of techniques. Here's a breakdown of some of the most important:\n",
      "\n",
      "1.  **Machine Learning (ML):  Learning from Data**\n",
      "\n",
      "    *   **What it is:**  Instead of explicitly programming rules, ML algorithms allow computers to learn from data.  The more data they're fed, the better they become at performing a specific task.\n",
      " these patterns to make predictions or decisions on new, unseen data.onships within data.  They then use\n",
      "    *   **Types of Machine Learning:**\n",
      " spam filter using emails labeled as \"spam\" or \"not spam.\"ined on labeled data (data with correct answers already provided).  It learns to map inputs to outputs.  *Example:* Training an email\n",
      "        *   **Unsupervised Learning:**  The algorithm is trained on unlabeled data.  It tries to find hidden structures or patterns within the data. *Example:* Clustering customers into different groups based on their purchasing behavior.\n",
      "Reinforcement Learning:**  The algorithm learns through trial and error, receiving rewards or penalties for its actions. *Example:* Training a computer to play a game by rewarding it for winning and penalizing it for losing.\n",
      "    *   **Common ML Algorithms:**\n",
      " continuous value based on input features.ting a\n",
      "        *   **Logistic Regression:**  Predicting a binary outcome (e.g., yes/no, true/false).\n",
      "        *   **Decision Trees:**  Creating a tree-like structure to make decisions based on a series of rules.\n",
      "Support Vector Machines (SVMs):**  Finding the best boundary to separate different classes of data.\n",
      "        *   **Clustering Algorithms (K-Means, etc.):**  Grouping similar data points together.\n",
      "        *   **Naive Bayes:**  Using probability to classify data.\n",
      "\n",
      "DL):  Neural Networks on Steroids**\n",
      "\n",
      "    *   **What it is:** A subfield of machine learning that uses artificial neural networks with multiple layers (hence \"deep\").  Inspired by the structure of the human brain.\n",
      "  Each layer in the network extracts increasingly abstract features from the input.a.\n",
      "    *   **Key Concepts:**\n",
      "        *   **Artificial Neural Networks (ANNs):**  Interconnected nodes (neurons) that process and transmit information.\n",
      ".       *   **Layers:** Input layer, hidden layers, and output layer\n",
      "        *   **Weights and Biases:** Parameters that are adjusted during training to optimize the network's performance.\n",
      "        *   **Activation Functions:**  Introduce non-linearity into the network, allowing it to learn more complex patterns.\n",
      " biases based on the error between the network's predictions and the actual values.\n",
      "    *   **Types of Deep Learning Architectures:**\n",
      "        *   **Convolutional Neural Networks (CNNs):**  Excellent for image and video processing.\n",
      "Well-suited for processing sequential data, like text and time series.  LSTMs and GRUs are common types of RNNs.\n",
      "        *   **Transformers:**  A more recent architecture that has revolutionized natural language processing (NLP).  They use attention mechanisms to focus on the most relevant parts of the input.\n",
      "    *   **Why is it so powerful?** Deep learning can automatically learn complex features from raw data, reducing the need for manual feature engineering.  It excels in tasks like image recognition, natural language processing, and speech recognition.\n",
      "\n",
      "3.  **Natural Language Processing (NLP): Understanding and Generating Language**\n",
      "\n",
      "   **What it is:**  A field of AI that focuses on enabling computers to understand, interpret, and generate human language.\n",
      "    *   **How it works:** NLP combines computational linguistics with machine learning and deep learning techniques.\n",
      "    *   **Key Tasks:**\n",
      " into different topics (e.g., spam detection, sentiment analysis).\n",
      "        *   **Named Entity Recognition (NER):** Identifying and classifying named entities in text (e.g., people, organizations, locations).\n",
      "        *   **Machine Translation:** Translating text from one language to another.\n",
      "Sentiment Analysis:**  Determining the emotional tone of text (e.g., positive, negative, neutral).\n",
      "        *   **Question Answering:**  Answering questions posed in natural language.\n",
      "        *   **Text Summarization:**  Generating concise summaries of longer texts.\n",
      " Conversational AI:**  Creating systems that can engage in natural language conversations with humans.\n",
      "    *   **Techniques Used:**\n",
      "        *   **Tokenization:** Breaking text into individual words or units.\n",
      " in a sentence.art-of-Speech (POS) Tagging:** Identifying the grammatical role of each word\n",
      "        *   **Parsing:**  Analyzing the grammatical structure of a sentence.\n",
      "        *   **Word Embeddings (Word2Vec, GloVe, FastText):** Representing words as vectors in a high-dimensional space, capturing their semantic meaning.\n",
      "BERT, GPT-3, etc.):**  State-of-the-art models for many NLP tasks.\n",
      "\n",
      "4.  **Computer Vision:  Seeing and Understanding Images**\n",
      "\n",
      " like humans do.t is:**  A field of AI that enables computers to \"see\" and interpret images and videos, much\n",
      "    *   **How it works:** Computer vision algorithms analyze images to identify objects, scenes, and other visual elements.\n",
      "    *   **Key Tasks:**\n",
      "        *   **Image Classification:**  Identifying the overall content of an image (e.g., \"cat,\" \"dog,\" \"car"
     ]
    },
    {
     "name": "stderr",
     "output_type": "stream",
     "text": [
      "\n",
      "KeyboardInterrupt\n",
      "\n"
     ]
    }
   ],
   "source": [
    "response = client.models.generate_content_stream(\n",
    "    model=\"gemini-2.0-flash\",\n",
    "    contents=[\"Explain how AI works\"]\n",
    ")\n",
    "for chunk in response:\n",
    "    print(chunk.text, end=\"\")\n"
   ]
  },
  {
   "cell_type": "markdown",
   "id": "876bd277-bbcb-4a87-9181-eb0eec44e86b",
   "metadata": {},
   "source": [
    "conversation"
   ]
  },
  {
   "cell_type": "code",
   "execution_count": null,
   "id": "aefc878f-09c3-414c-8cbe-d22bf7fc97cd",
   "metadata": {
    "execution": {
     "iopub.status.busy": "2025-06-03T07:16:46.715763Z",
     "iopub.status.idle": "2025-06-03T07:16:46.716046Z",
     "shell.execute_reply": "2025-06-03T07:16:46.715920Z",
     "shell.execute_reply.started": "2025-06-03T07:16:46.715906Z"
    }
   },
   "outputs": [],
   "source": [
    "chat = client.chats.create(model=\"gemini-2.0-flash\")\n",
    "\n",
    "response = chat.send_message(\"I have 2 dogs in my house.\")\n",
    "print(response.text)\n",
    "\n",
    "response = chat.send_message(\"How many paws are in my house?\")\n",
    "print(response.text)\n",
    "\n",
    "for message in chat.get_history():\n",
    "    print(f'role - {message.role}',end=\": \")\n",
    "    print(message.parts[0].text)"
   ]
  },
  {
   "cell_type": "code",
   "execution_count": null,
   "id": "c30e462f-dc71-432b-87f4-1143921072ac",
   "metadata": {
    "execution": {
     "iopub.status.busy": "2025-06-03T07:16:46.717862Z",
     "iopub.status.idle": "2025-06-03T07:16:46.718863Z",
     "shell.execute_reply": "2025-06-03T07:16:46.718691Z",
     "shell.execute_reply.started": "2025-06-03T07:16:46.718671Z"
    }
   },
   "outputs": [],
   "source": [
    "chat = client.chats.create(model=\"gemini-2.0-flash\")\n",
    "\n",
    "response = chat.send_message(\"How many paws are in my house?\")\n",
    "print(response.text)\n"
   ]
  },
  {
   "cell_type": "markdown",
   "id": "8b91bb82-be48-4a47-a315-fb41cae90af5",
   "metadata": {
    "jp-MarkdownHeadingCollapsed": true
   },
   "source": [
    "# working with audio"
   ]
  },
  {
   "cell_type": "code",
   "execution_count": 26,
   "id": "563f5d24-e609-4c90-bbad-252fc963b65c",
   "metadata": {
    "execution": {
     "iopub.execute_input": "2025-06-03T07:24:08.958930Z",
     "iopub.status.busy": "2025-06-03T07:24:08.958140Z",
     "iopub.status.idle": "2025-06-03T07:24:08.970818Z",
     "shell.execute_reply": "2025-06-03T07:24:08.967433Z",
     "shell.execute_reply.started": "2025-06-03T07:24:08.958862Z"
    }
   },
   "outputs": [],
   "source": [
    "audio_path = \"/home/jovyan/projects/data/sample_01.mp3\""
   ]
  },
  {
   "cell_type": "code",
   "execution_count": 15,
   "id": "53d754d1-f7f4-45e6-8693-dc8431027e1a",
   "metadata": {
    "execution": {
     "iopub.execute_input": "2025-06-03T07:22:58.553005Z",
     "iopub.status.busy": "2025-06-03T07:22:58.552574Z",
     "iopub.status.idle": "2025-06-03T07:23:04.846339Z",
     "shell.execute_reply": "2025-06-03T07:23:04.844908Z",
     "shell.execute_reply.started": "2025-06-03T07:22:58.552967Z"
    }
   },
   "outputs": [
    {
     "name": "stdout",
     "output_type": "stream",
     "text": [
      "این یک کلیپ صوتی با یک نفر است که درباره محصول نرم افزاری شرکت خود صحبت می کند. به نظر می رسد این محصول یک پلت فرم ارتباطی سازمانی به نام Gapido است. سخنران درباره تاریخچه شرکت، مشتریان خود و ویژگی های Gapido صحبت می کند. او ذکر می کند که Gapido یک \"ابر برنامه\" است که شامل پیام رسان، ویدئو کنفرانس و شبکه های اجتماعی است.\n"
     ]
    }
   ],
   "source": [
    "myfile = client.files.upload(file=audio_path)\n",
    "\n",
    "response = client.models.generate_content(\n",
    "    model=\"gemini-2.0-flash\", contents=[\"Describe this audio clip\", myfile]\n",
    ")\n",
    "\n",
    "print(response.text)"
   ]
  },
  {
   "cell_type": "code",
   "execution_count": 27,
   "id": "bd8f465b-18bf-4749-a5dc-06ba3f7b7ccd",
   "metadata": {
    "execution": {
     "iopub.execute_input": "2025-06-03T07:24:10.456457Z",
     "iopub.status.busy": "2025-06-03T07:24:10.455625Z",
     "iopub.status.idle": "2025-06-03T07:24:16.201398Z",
     "shell.execute_reply": "2025-06-03T07:24:16.200630Z",
     "shell.execute_reply.started": "2025-06-03T07:24:10.456380Z"
    }
   },
   "outputs": [
    {
     "name": "stdout",
     "output_type": "stream",
     "text": [
      "سلام حالا چطوره محصول راهکار ارتباط سازمانی گپیدو شرکت ما نزدیک به ۲۳ سال است که در صنعت فناوری اطلاعات و ارتباطات در حال فعالیت و این افتخار را داشتیم که با بیش از ۶ هزار دستگاه اجرایی در حال فعالیت هستیم شرکت ما در حین فعالیت به واسطه محصول منحصر به فرد خود به شرکت دانش بنیان تبدیل شده رتبه برتر انفورماتیک را داریم و جز معدود شرکت هایی هستیم که گواهی امنیتی افزار را از آزمایشگاه مورد تایید خود وزارت ارتباطات دریافت کردیم به هر صورت کلی شرکت یک هولدینگ است که در دو زمینه در حال فعالیت بحث سامانه های مالیه داری که خارج از بحث امروز و بحث راهکار ارتباط سازمانی گپیدو گپیدو یک سوپر اپ هست که از پیام رسان ویدیو کنفرانس و شبکه اجتماعی اجتماعی در واقع چند ثانیه شد ۵۱ ثانیه شبکه تمام ماجول ها قرار داره و بهره وری را افزایش میده و هم به صورت جداگانه قابل استفاده نباشد نسخه اندروید و دیگه همین\n"
     ]
    }
   ],
   "source": [
    "myfile = client.files.upload(file=audio_path)\n",
    "\n",
    "response = client.models.generate_content(\n",
    "    model=\"gemini-2.0-flash\", contents=[\"Transcribe this audio clip\", myfile]\n",
    ")\n",
    "\n",
    "print(response.text)"
   ]
  },
  {
   "cell_type": "code",
   "execution_count": null,
   "id": "5eed810d-0cad-4df1-9cd4-b2ef4c8ad0bf",
   "metadata": {
    "execution": {
     "iopub.status.busy": "2025-06-03T07:16:46.724718Z",
     "iopub.status.idle": "2025-06-03T07:16:46.725500Z",
     "shell.execute_reply": "2025-06-03T07:16:46.725331Z",
     "shell.execute_reply.started": "2025-06-03T07:16:46.725304Z"
    }
   },
   "outputs": [],
   "source": [
    "from google.genai import types\n",
    "\n",
    "with open('/home/jovyan/projects/data/sample.wav', 'rb') as f:\n",
    "    audio_bytes = f.read()\n",
    "\n",
    "response = client.models.generate_content(\n",
    "  model='gemini-2.0-flash',\n",
    "  contents=[\n",
    "    'Describe this audio clip',\n",
    "    types.Part.from_bytes(\n",
    "      data=audio_bytes,\n",
    "      mime_type='audio/mp3',\n",
    "    )\n",
    "  ]\n",
    ")\n",
    "\n",
    "print(response.text)"
   ]
  },
  {
   "cell_type": "code",
   "execution_count": null,
   "id": "4934908e-3f3f-4dc1-8bde-8e1df883daab",
   "metadata": {
    "execution": {
     "iopub.status.busy": "2025-06-03T07:16:46.726139Z",
     "iopub.status.idle": "2025-06-03T07:16:46.726465Z",
     "shell.execute_reply": "2025-06-03T07:16:46.726330Z",
     "shell.execute_reply.started": "2025-06-03T07:16:46.726305Z"
    }
   },
   "outputs": [],
   "source": [
    "myfile = client.files.upload(file=audio_path)\n",
    "prompt = 'Generate a transcript of the speech.'\n",
    "\n",
    "response = client.models.generate_content(\n",
    "  model='gemini-2.0-flash',\n",
    "  contents=[prompt, myfile]\n",
    ")\n",
    "\n",
    "print(response.text)\n"
   ]
  },
  {
   "cell_type": "code",
   "execution_count": null,
   "id": "bf00b468-9607-4a5f-9516-eb9f50781743",
   "metadata": {
    "execution": {
     "iopub.status.busy": "2025-06-03T07:16:46.727228Z",
     "iopub.status.idle": "2025-06-03T07:16:46.728330Z",
     "shell.execute_reply": "2025-06-03T07:16:46.728154Z",
     "shell.execute_reply.started": "2025-06-03T07:16:46.728137Z"
    }
   },
   "outputs": [],
   "source": [
    "myfile = client.files.upload(file=audio_path)\n",
    "prompt = 'Generate a transcript of the speech from second 15 to the end.'\n",
    "\n",
    "response = client.models.generate_content(\n",
    "  model='gemini-2.0-flash',\n",
    "  contents=[prompt, myfile]\n",
    ")\n",
    "\n",
    "print(response.text)\n"
   ]
  },
  {
   "cell_type": "markdown",
   "id": "3d530520-5d43-4d5e-996e-26f8e987e319",
   "metadata": {},
   "source": [
    "# count tokens"
   ]
  },
  {
   "cell_type": "code",
   "execution_count": 23,
   "id": "b15fd3bb-1b92-4322-8aac-babd8a1c2fb1",
   "metadata": {
    "execution": {
     "iopub.execute_input": "2025-06-03T07:23:45.316792Z",
     "iopub.status.busy": "2025-06-03T07:23:45.315985Z",
     "iopub.status.idle": "2025-06-03T07:23:45.323999Z",
     "shell.execute_reply": "2025-06-03T07:23:45.322665Z",
     "shell.execute_reply.started": "2025-06-03T07:23:45.316750Z"
    }
   },
   "outputs": [],
   "source": [
    "audio_path = \"/home/jovyan/projects/data/sample_01.wav\""
   ]
  },
  {
   "cell_type": "code",
   "execution_count": 32,
   "id": "88ddcaff-ce5f-468d-bfef-04de6e7ca311",
   "metadata": {
    "execution": {
     "iopub.execute_input": "2025-06-03T07:26:51.634411Z",
     "iopub.status.busy": "2025-06-03T07:26:51.634077Z",
     "iopub.status.idle": "2025-06-03T07:26:52.744126Z",
     "shell.execute_reply": "2025-06-03T07:26:52.743238Z",
     "shell.execute_reply.started": "2025-06-03T07:26:51.634383Z"
    }
   },
   "outputs": [
    {
     "name": "stdout",
     "output_type": "stream",
     "text": [
      "total_tokens=26 cached_content_token_count=None\n"
     ]
    }
   ],
   "source": [
    "prompt = 'Generate a transcript of the speech.'\n",
    "\n",
    "response = client.models.count_tokens(\n",
    "  model='gemini-2.0-flash',\n",
    "  contents=[prompt, audio_path]\n",
    ")\n",
    "\n",
    "print(response)"
   ]
  },
  {
   "cell_type": "code",
   "execution_count": 40,
   "id": "fc4a05d2-eda0-4a0e-977e-ec297bdeb740",
   "metadata": {
    "execution": {
     "iopub.execute_input": "2025-06-03T07:40:31.788441Z",
     "iopub.status.busy": "2025-06-03T07:40:31.787911Z",
     "iopub.status.idle": "2025-06-03T07:40:34.702533Z",
     "shell.execute_reply": "2025-06-03T07:40:34.700230Z",
     "shell.execute_reply.started": "2025-06-03T07:40:31.788406Z"
    }
   },
   "outputs": [
    {
     "data": {
      "text/plain": [
       "CountTokensResponse(total_tokens=1884, cached_content_token_count=None)"
      ]
     },
     "execution_count": 40,
     "metadata": {},
     "output_type": "execute_result"
    }
   ],
   "source": [
    "from google.genai import types\n",
    "\n",
    "audio_path = \"/home/jovyan/projects/data/sample_02.wav\"\n",
    "\n",
    "with open(audio_path, 'rb') as f:\n",
    "    audio_bytes = f.read()\n",
    "\n",
    "prompt = 'Generate a transcript of the speech.'\n",
    "\n",
    "response = client.models.count_tokens(\n",
    "  model='gemini-2.0-flash',\n",
    "  contents=[\n",
    "    prompt,\n",
    "    types.Part.from_bytes(\n",
    "      data=audio_bytes,\n",
    "      mime_type='audio/mp3',\n",
    "    )\n",
    "  ]\n",
    ")\n",
    "\n",
    "response"
   ]
  },
  {
   "cell_type": "code",
   "execution_count": 39,
   "id": "690aebc8-caeb-4568-af31-2a79e8dc36f3",
   "metadata": {
    "execution": {
     "iopub.execute_input": "2025-06-03T07:40:27.404998Z",
     "iopub.status.busy": "2025-06-03T07:40:27.404465Z",
     "iopub.status.idle": "2025-06-03T07:40:30.955572Z",
     "shell.execute_reply": "2025-06-03T07:40:30.953466Z",
     "shell.execute_reply.started": "2025-06-03T07:40:27.404953Z"
    }
   },
   "outputs": [
    {
     "data": {
      "text/plain": [
       "CountTokensResponse(total_tokens=2107, cached_content_token_count=None)"
      ]
     },
     "execution_count": 39,
     "metadata": {},
     "output_type": "execute_result"
    }
   ],
   "source": [
    "from google.genai import types\n",
    "\n",
    "audio_path = \"/home/jovyan/projects/data/sample_01.wav\"\n",
    "\n",
    "with open(audio_path, 'rb') as f:\n",
    "    audio_bytes = f.read()\n",
    "\n",
    "prompt = 'Generate a transcript of the speech.'\n",
    "\n",
    "response = client.models.count_tokens(\n",
    "  model='gemini-2.0-flash',\n",
    "  contents=[\n",
    "    prompt,\n",
    "    types.Part.from_bytes(\n",
    "      data=audio_bytes,\n",
    "      mime_type='audio/mp3',\n",
    "    )\n",
    "  ]\n",
    ")\n",
    "\n",
    "response"
   ]
  },
  {
   "cell_type": "code",
   "execution_count": 38,
   "id": "e684e25d-acee-41a9-b767-cb73d34e3ad2",
   "metadata": {
    "execution": {
     "iopub.execute_input": "2025-06-03T07:39:32.857855Z",
     "iopub.status.busy": "2025-06-03T07:39:32.857588Z",
     "iopub.status.idle": "2025-06-03T07:40:14.292110Z",
     "shell.execute_reply": "2025-06-03T07:40:14.291000Z",
     "shell.execute_reply.started": "2025-06-03T07:39:32.857831Z"
    }
   },
   "outputs": [
    {
     "data": {
      "text/plain": [
       "CountTokensResponse(total_tokens=3975, cached_content_token_count=None)"
      ]
     },
     "execution_count": 38,
     "metadata": {},
     "output_type": "execute_result"
    }
   ],
   "source": [
    "from google.genai import types\n",
    "\n",
    "audio_path = \"/home/jovyan/projects/data/output.wav\"\n",
    "\n",
    "with open(audio_path, 'rb') as f:\n",
    "    audio_bytes = f.read()\n",
    "\n",
    "prompt = 'Generate a transcript of the speech.'\n",
    "\n",
    "response = client.models.count_tokens(\n",
    "  model='gemini-2.0-flash',\n",
    "  contents=[\n",
    "    prompt,\n",
    "    types.Part.from_bytes(\n",
    "      data=audio_bytes,\n",
    "      mime_type='audio/mp3',\n",
    "    )\n",
    "  ]\n",
    ")\n",
    "\n",
    "response"
   ]
  },
  {
   "cell_type": "code",
   "execution_count": 42,
   "id": "94c9747e-6717-46d2-a172-d93cb774bcb7",
   "metadata": {
    "execution": {
     "iopub.execute_input": "2025-06-03T07:54:03.930172Z",
     "iopub.status.busy": "2025-06-03T07:54:03.929886Z",
     "iopub.status.idle": "2025-06-03T07:54:06.799248Z",
     "shell.execute_reply": "2025-06-03T07:54:06.797397Z",
     "shell.execute_reply.started": "2025-06-03T07:54:03.930148Z"
    }
   },
   "outputs": [
    {
     "data": {
      "text/plain": [
       "CountTokensResponse(total_tokens=1995, cached_content_token_count=None)"
      ]
     },
     "execution_count": 42,
     "metadata": {},
     "output_type": "execute_result"
    }
   ],
   "source": [
    "from google.genai import types\n",
    "\n",
    "audio_path = \"/home/jovyan/projects/data/output_2x_16k.wav\"\n",
    "\n",
    "with open(audio_path, 'rb') as f:\n",
    "    audio_bytes = f.read()\n",
    "\n",
    "prompt = 'Generate a transcript of the speech.'\n",
    "\n",
    "response = client.models.count_tokens(\n",
    "  model='gemini-2.0-flash',\n",
    "  contents=[\n",
    "    prompt,\n",
    "    types.Part.from_bytes(\n",
    "      data=audio_bytes,\n",
    "      mime_type='audio/mp3',\n",
    "    )\n",
    "  ]\n",
    ")\n",
    "\n",
    "response"
   ]
  },
  {
   "cell_type": "code",
   "execution_count": 43,
   "id": "52a674b0-a5ab-4c2b-990c-c64370633641",
   "metadata": {
    "execution": {
     "iopub.execute_input": "2025-06-03T07:55:14.386688Z",
     "iopub.status.busy": "2025-06-03T07:55:14.386408Z",
     "iopub.status.idle": "2025-06-03T07:55:17.719541Z",
     "shell.execute_reply": "2025-06-03T07:55:17.718823Z",
     "shell.execute_reply.started": "2025-06-03T07:55:14.386660Z"
    }
   },
   "outputs": [
    {
     "data": {
      "text/plain": [
       "CountTokensResponse(total_tokens=2658, cached_content_token_count=None)"
      ]
     },
     "execution_count": 43,
     "metadata": {},
     "output_type": "execute_result"
    }
   ],
   "source": [
    "from google.genai import types\n",
    "\n",
    "audio_path = \"/home/jovyan/projects/data/output_15x_16k.wav\"\n",
    "\n",
    "with open(audio_path, 'rb') as f:\n",
    "    audio_bytes = f.read()\n",
    "\n",
    "prompt = 'Generate a transcript of the speech.'\n",
    "\n",
    "response = client.models.count_tokens(\n",
    "  model='gemini-2.0-flash',\n",
    "  contents=[\n",
    "    prompt,\n",
    "    types.Part.from_bytes(\n",
    "      data=audio_bytes,\n",
    "      mime_type='audio/mp3',\n",
    "    )\n",
    "  ]\n",
    ")\n",
    "\n",
    "response"
   ]
  },
  {
   "cell_type": "code",
   "execution_count": 44,
   "id": "3bdf18a7-6272-479b-8449-82b0739831d8",
   "metadata": {
    "execution": {
     "iopub.execute_input": "2025-06-03T10:48:18.341565Z",
     "iopub.status.busy": "2025-06-03T10:48:18.341216Z",
     "iopub.status.idle": "2025-06-03T10:48:27.353358Z",
     "shell.execute_reply": "2025-06-03T10:48:27.352460Z",
     "shell.execute_reply.started": "2025-06-03T10:48:18.341539Z"
    }
   },
   "outputs": [
    {
     "data": {
      "text/plain": [
       "CountTokensResponse(total_tokens=1995, cached_content_token_count=None)"
      ]
     },
     "execution_count": 44,
     "metadata": {},
     "output_type": "execute_result"
    }
   ],
   "source": [
    "from google.genai import types\n",
    "\n",
    "audio_path = \"/home/jovyan/projects/data/sample_02.wav\"\n",
    "\n",
    "with open(audio_path, 'rb') as f:\n",
    "    audio_bytes = f.read()\n",
    "\n",
    "prompt = 'Generate a transcript of the speech.'\n",
    "\n",
    "response = client.models.count_tokens(\n",
    "  model='gemini-2.0-flash',\n",
    "  contents=[\n",
    "    prompt,\n",
    "    types.Part.from_bytes(\n",
    "      data=audio_bytes,\n",
    "      mime_type='audio/mp3',\n",
    "    )\n",
    "  ]\n",
    ")\n",
    "\n",
    "response"
   ]
  }
 ],
 "metadata": {
  "kernelspec": {
   "display_name": "Python 3 (ipykernel)",
   "language": "python",
   "name": "python3"
  },
  "language_info": {
   "codemirror_mode": {
    "name": "ipython",
    "version": 3
   },
   "file_extension": ".py",
   "mimetype": "text/x-python",
   "name": "python",
   "nbconvert_exporter": "python",
   "pygments_lexer": "ipython3",
   "version": "3.12.9"
  }
 },
 "nbformat": 4,
 "nbformat_minor": 5
}
