{
 "cells": [
  {
   "cell_type": "markdown",
   "id": "7b206d9d-967a-4882-a9ce-921d991ac3cd",
   "metadata": {
    "jp-MarkdownHeadingCollapsed": true
   },
   "source": [
    "# setup"
   ]
  },
  {
   "cell_type": "code",
   "execution_count": 3,
   "id": "c72a874a-f015-47da-aca9-878f547322d2",
   "metadata": {
    "execution": {
     "iopub.execute_input": "2025-05-25T05:30:15.614328Z",
     "iopub.status.busy": "2025-05-25T05:30:15.613178Z",
     "iopub.status.idle": "2025-05-25T05:30:15.627589Z",
     "shell.execute_reply": "2025-05-25T05:30:15.623574Z",
     "shell.execute_reply.started": "2025-05-25T05:30:15.614223Z"
    }
   },
   "outputs": [],
   "source": [
    "# !proxychains pip install -U pymilvus"
   ]
  },
  {
   "cell_type": "markdown",
   "id": "4e476781-36ef-4226-938b-e16dbed8cf9a",
   "metadata": {
    "jp-MarkdownHeadingCollapsed": true
   },
   "source": [
    "# client"
   ]
  },
  {
   "cell_type": "code",
   "execution_count": 183,
   "id": "f7829e33-e43f-4d74-a108-7d1049dacdd1",
   "metadata": {
    "execution": {
     "iopub.execute_input": "2025-05-25T07:23:13.096866Z",
     "iopub.status.busy": "2025-05-25T07:23:13.096027Z",
     "iopub.status.idle": "2025-05-25T07:23:15.090316Z",
     "shell.execute_reply": "2025-05-25T07:23:15.088018Z",
     "shell.execute_reply.started": "2025-05-25T07:23:13.096798Z"
    }
   },
   "outputs": [
    {
     "data": {
      "text/plain": [
       "['default', 'milvus_quick_start']"
      ]
     },
     "execution_count": 183,
     "metadata": {},
     "output_type": "execute_result"
    }
   ],
   "source": [
    "from pymilvus import MilvusClient\n",
    "\n",
    "base_url = \"host.docker.internal\"\n",
    "client = MilvusClient(\n",
    "    uri=f\"http://{base_url}:19530\",\n",
    ")\n",
    "\n",
    "client.list_databases()"
   ]
  },
  {
   "cell_type": "markdown",
   "id": "7165b618-868f-46ce-bd2f-62fdb35367de",
   "metadata": {
    "jp-MarkdownHeadingCollapsed": true
   },
   "source": [
    "# create and use database"
   ]
  },
  {
   "cell_type": "code",
   "execution_count": null,
   "id": "0b042906-6b73-4d9b-9818-f29722a7cdb2",
   "metadata": {
    "execution": {
     "iopub.execute_input": "2025-05-25T06:40:59.628207Z",
     "iopub.status.busy": "2025-05-25T06:40:59.627652Z",
     "iopub.status.idle": "2025-05-25T06:40:59.644858Z",
     "shell.execute_reply": "2025-05-25T06:40:59.643957Z",
     "shell.execute_reply.started": "2025-05-25T06:40:59.628161Z"
    }
   },
   "outputs": [],
   "source": [
    "db_name=\"milvus_quick_start\"\n",
    "try:\n",
    "    client.create_database(db_name=db_name)\n",
    "except Exception as e:\n",
    "    print(e)"
   ]
  },
  {
   "cell_type": "code",
   "execution_count": null,
   "id": "6f45d0f9-af2f-4848-b35a-d678258c38e0",
   "metadata": {
    "execution": {
     "iopub.execute_input": "2025-05-25T06:40:59.628207Z",
     "iopub.status.busy": "2025-05-25T06:40:59.627652Z",
     "iopub.status.idle": "2025-05-25T06:40:59.644858Z",
     "shell.execute_reply": "2025-05-25T06:40:59.643957Z",
     "shell.execute_reply.started": "2025-05-25T06:40:59.628161Z"
    }
   },
   "outputs": [
    {
     "name": "stderr",
     "output_type": "stream",
     "text": [
      "2025-05-25 06:40:59,634 [ERROR][handler]: RPC error: [create_database], <MilvusException: (code=65535, message=database already exist: milvus_quick_start)>, <Time:{'RPC start': '2025-05-25 06:40:59.630445', 'RPC error': '2025-05-25 06:40:59.634343'}> (decorators.py:140)\n"
     ]
    },
    {
     "name": "stdout",
     "output_type": "stream",
     "text": [
      "<MilvusException: (code=65535, message=database already exist: milvus_quick_start)>\n"
     ]
    }
   ],
   "source": [
    "client.use_database(\n",
    "    db_name=db_name\n",
    ")"
   ]
  },
  {
   "cell_type": "markdown",
   "id": "25ea08dc-a109-4ca2-9e8b-7e9237414d58",
   "metadata": {},
   "source": [
    "drop database"
   ]
  },
  {
   "cell_type": "code",
   "execution_count": 184,
   "id": "65472678-c324-48a3-9656-bc6783369b56",
   "metadata": {
    "execution": {
     "iopub.execute_input": "2025-05-25T07:30:55.144562Z",
     "iopub.status.busy": "2025-05-25T07:30:55.144289Z",
     "iopub.status.idle": "2025-05-25T07:30:55.151312Z",
     "shell.execute_reply": "2025-05-25T07:30:55.149924Z",
     "shell.execute_reply.started": "2025-05-25T07:30:55.144540Z"
    }
   },
   "outputs": [],
   "source": [
    "# client.drop_database(\n",
    "#     db_name=\"milvus_quick_start\"\n",
    "# )"
   ]
  },
  {
   "cell_type": "markdown",
   "id": "5c99529e-0d15-4e0f-a9e2-2634f9dc9c97",
   "metadata": {
    "jp-MarkdownHeadingCollapsed": true
   },
   "source": [
    "# create collection"
   ]
  },
  {
   "cell_type": "code",
   "execution_count": 53,
   "id": "296f1347-813d-4cc0-9eb9-695dc3d7c114",
   "metadata": {
    "execution": {
     "iopub.execute_input": "2025-05-25T06:41:02.668095Z",
     "iopub.status.busy": "2025-05-25T06:41:02.667303Z",
     "iopub.status.idle": "2025-05-25T06:41:03.658827Z",
     "shell.execute_reply": "2025-05-25T06:41:03.658233Z",
     "shell.execute_reply.started": "2025-05-25T06:41:02.668030Z"
    }
   },
   "outputs": [],
   "source": [
    "if client.has_collection(collection_name=\"demo_collection\"):\n",
    "    client.drop_collection(collection_name=\"demo_collection\")\n",
    "client.create_collection(\n",
    "    collection_name=\"demo_collection\",\n",
    "    dimension=768,  # The vectors we will use in this demo has 768 dimensions\n",
    ")"
   ]
  },
  {
   "cell_type": "markdown",
   "id": "9bb8335b-11ad-4a4a-a247-7f3921ef69d4",
   "metadata": {
    "jp-MarkdownHeadingCollapsed": true
   },
   "source": [
    "# text embedding"
   ]
  },
  {
   "cell_type": "code",
   "execution_count": 23,
   "id": "b8ba376c-99d9-4564-bead-26d255c164f4",
   "metadata": {
    "execution": {
     "iopub.execute_input": "2025-05-25T05:53:24.446338Z",
     "iopub.status.busy": "2025-05-25T05:53:24.446003Z",
     "iopub.status.idle": "2025-05-25T05:53:28.692362Z",
     "shell.execute_reply": "2025-05-25T05:53:28.691781Z",
     "shell.execute_reply.started": "2025-05-25T05:53:24.446304Z"
    }
   },
   "outputs": [
    {
     "name": "stdout",
     "output_type": "stream",
     "text": [
      "Dim: 768 (768,)\n",
      "Data has 3 entities, each with fields:  dict_keys(['id', 'vector', 'text', 'subject'])\n",
      "Vector dim: 768\n"
     ]
    }
   ],
   "source": [
    "from pymilvus import model\n",
    "\n",
    "\n",
    "embedding_fn = model.DefaultEmbeddingFunction()\n",
    "\n",
    "docs = [\n",
    "    \"Artificial intelligence was founded as an academic discipline in 1956.\",\n",
    "    \"Alan Turing was the first person to conduct substantial research in AI.\",\n",
    "    \"Born in Maida Vale, London, Turing was raised in southern England.\",\n",
    "]\n",
    "\n",
    "vectors = embedding_fn.encode_documents(docs)\n",
    "print(\"Dim:\", embedding_fn.dim, vectors[0].shape)  # Dim: 768 (768,)\n",
    "\n",
    "data = [\n",
    "    {\"id\": i, \"vector\": vectors[i], \"text\": docs[i], \"subject\": \"history\"}\n",
    "    for i in range(len(vectors))\n",
    "]\n",
    "\n",
    "print(\"Data has\", len(data), \"entities, each with fields: \", data[0].keys())\n",
    "print(\"Vector dim:\", len(data[0][\"vector\"]))\n"
   ]
  },
  {
   "cell_type": "code",
   "execution_count": 24,
   "id": "64d9f5f2-e6ab-499e-8d6c-4488c23b720c",
   "metadata": {
    "execution": {
     "iopub.execute_input": "2025-05-25T05:53:28.693301Z",
     "iopub.status.busy": "2025-05-25T05:53:28.693076Z",
     "iopub.status.idle": "2025-05-25T05:53:28.722152Z",
     "shell.execute_reply": "2025-05-25T05:53:28.717871Z",
     "shell.execute_reply.started": "2025-05-25T05:53:28.693280Z"
    }
   },
   "outputs": [
    {
     "name": "stdout",
     "output_type": "stream",
     "text": [
      "{'insert_count': 3, 'ids': [0, 1, 2]}\n"
     ]
    }
   ],
   "source": [
    "res = client.insert(collection_name=\"demo_collection\", data=data)\n",
    "print(res)"
   ]
  },
  {
   "cell_type": "code",
   "execution_count": 30,
   "id": "c14934be-248a-43f4-8461-70a579f82f28",
   "metadata": {
    "execution": {
     "iopub.execute_input": "2025-05-25T05:54:49.172399Z",
     "iopub.status.busy": "2025-05-25T05:54:49.171998Z",
     "iopub.status.idle": "2025-05-25T05:54:49.181990Z",
     "shell.execute_reply": "2025-05-25T05:54:49.181171Z",
     "shell.execute_reply.started": "2025-05-25T05:54:49.172358Z"
    }
   },
   "outputs": [
    {
     "name": "stdout",
     "output_type": "stream",
     "text": [
      "{'insert_count': 3, 'ids': [0, 1, 2]}\n"
     ]
    }
   ],
   "source": [
    "res = client.insert(collection_name=\"demo_collection\", data=data)\n",
    "print(res)"
   ]
  },
  {
   "cell_type": "markdown",
   "id": "a0f018c0-c3fe-437d-88d2-6451c7e735e9",
   "metadata": {
    "jp-MarkdownHeadingCollapsed": true
   },
   "source": [
    "# semantic search"
   ]
  },
  {
   "cell_type": "code",
   "execution_count": 37,
   "id": "d44dc4ed-0f69-41c8-94d2-6f36a18a2f60",
   "metadata": {
    "execution": {
     "iopub.execute_input": "2025-05-25T06:10:40.822889Z",
     "iopub.status.busy": "2025-05-25T06:10:40.822077Z",
     "iopub.status.idle": "2025-05-25T06:10:42.157989Z",
     "shell.execute_reply": "2025-05-25T06:10:42.157349Z",
     "shell.execute_reply.started": "2025-05-25T06:10:40.822821Z"
    }
   },
   "outputs": [
    {
     "name": "stdout",
     "output_type": "stream",
     "text": [
      "data: [[{'id': 2, 'distance': 0.5859946012496948, 'entity': {'text': 'Born in Maida Vale, London, Turing was raised in southern England.', 'subject': 'history'}}], [{'id': 0, 'distance': 0.47026658058166504, 'entity': {'text': 'Artificial intelligence was founded as an academic discipline in 1956.', 'subject': 'history'}}], [{'id': 2, 'distance': 0.5865286588668823, 'entity': {'text': 'Born in Maida Vale, London, Turing was raised in southern England.', 'subject': 'history'}}]]\n"
     ]
    }
   ],
   "source": [
    "query_vectors = embedding_fn.encode_queries([\"Who is Alan Turing?\", \"Artificial intelligence\", \"Alan Turing\"])\n",
    "\n",
    "res = client.search(\n",
    "    collection_name=\"demo_collection\",  # target collection\n",
    "    data=query_vectors,  # query vectors\n",
    "    limit=2,  # number of returned entities\n",
    "    output_fields=[\"text\", \"subject\"],  # specifies fields to be returned\n",
    ")\n",
    "\n",
    "print(res)\n"
   ]
  },
  {
   "cell_type": "markdown",
   "id": "c0adc0bb-3b43-44dd-9fc6-ad7e1795074c",
   "metadata": {
    "execution": {
     "iopub.execute_input": "2025-05-25T06:13:32.634515Z",
     "iopub.status.busy": "2025-05-25T06:13:32.633711Z",
     "iopub.status.idle": "2025-05-25T06:13:32.664089Z",
     "shell.execute_reply": "2025-05-25T06:13:32.662732Z",
     "shell.execute_reply.started": "2025-05-25T06:13:32.634447Z"
    },
    "jp-MarkdownHeadingCollapsed": true
   },
   "source": [
    "# meta data filtering"
   ]
  },
  {
   "cell_type": "code",
   "execution_count": null,
   "id": "29bafa77-c1fc-42f1-8ff1-2ccd4424e3d8",
   "metadata": {
    "execution": {
     "iopub.execute_input": "2025-05-25T06:13:36.931537Z",
     "iopub.status.busy": "2025-05-25T06:13:36.930767Z",
     "iopub.status.idle": "2025-05-25T06:13:38.443246Z",
     "shell.execute_reply": "2025-05-25T06:13:38.442298Z",
     "shell.execute_reply.started": "2025-05-25T06:13:36.931472Z"
    }
   },
   "outputs": [],
   "source": [
    "docs = [\n",
    "    \"Machine learning has been used for drug design.\",\n",
    "    \"Computational synthesis with AI algorithms predicts molecular properties.\",\n",
    "    \"DDR1 is involved in cancers and fibrosis.\",\n",
    "]\n",
    "vectors = embedding_fn.encode_documents(docs)\n",
    "data = [\n",
    "    {\"id\": 3 + i, \"vector\": vectors[i], \"text\": docs[i], \"subject\": \"biology\"}\n",
    "    for i in range(len(vectors))\n",
    "]\n",
    "\n",
    "client.insert(collection_name=\"demo_collection\", data=data)"
   ]
  },
  {
   "cell_type": "code",
   "execution_count": 41,
   "id": "5b1a22e9-f9ae-4117-88d0-126d671e165f",
   "metadata": {
    "execution": {
     "iopub.execute_input": "2025-05-25T06:14:24.168638Z",
     "iopub.status.busy": "2025-05-25T06:14:24.167642Z",
     "iopub.status.idle": "2025-05-25T06:14:24.598745Z",
     "shell.execute_reply": "2025-05-25T06:14:24.596926Z",
     "shell.execute_reply.started": "2025-05-25T06:14:24.168568Z"
    }
   },
   "outputs": [
    {
     "name": "stdout",
     "output_type": "stream",
     "text": [
      "data: [[{'id': 4, 'distance': 0.2703055739402771, 'entity': {'text': 'Computational synthesis with AI algorithms predicts molecular properties.', 'subject': 'biology'}}, {'id': 3, 'distance': 0.16425904631614685, 'entity': {'text': 'Machine learning has been used for drug design.', 'subject': 'biology'}}]]\n"
     ]
    }
   ],
   "source": [
    "res = client.search(\n",
    "    collection_name=\"demo_collection\",\n",
    "    data=embedding_fn.encode_queries([\"tell me AI related information\"]),\n",
    "    filter=\"subject == 'biology'\",\n",
    "    limit=2,\n",
    "    output_fields=[\"text\", \"subject\"],\n",
    ")\n",
    "\n",
    "print(res)"
   ]
  },
  {
   "cell_type": "code",
   "execution_count": 43,
   "id": "9fb2462d-2463-4dc4-98ac-f66151b0ff1c",
   "metadata": {
    "execution": {
     "iopub.execute_input": "2025-05-25T06:15:16.112342Z",
     "iopub.status.busy": "2025-05-25T06:15:16.112053Z",
     "iopub.status.idle": "2025-05-25T06:15:16.537015Z",
     "shell.execute_reply": "2025-05-25T06:15:16.536444Z",
     "shell.execute_reply.started": "2025-05-25T06:15:16.112320Z"
    }
   },
   "outputs": [
    {
     "name": "stdout",
     "output_type": "stream",
     "text": [
      "data: [[{'id': 1, 'distance': 0.44280391931533813, 'entity': {'text': 'Alan Turing was the first person to conduct substantial research in AI.', 'subject': 'history'}}, {'id': 4, 'distance': 0.2703055739402771, 'entity': {'text': 'Computational synthesis with AI algorithms predicts molecular properties.', 'subject': 'biology'}}, {'id': 0, 'distance': 0.23993626236915588, 'entity': {'text': 'Artificial intelligence was founded as an academic discipline in 1956.', 'subject': 'history'}}]]\n"
     ]
    }
   ],
   "source": [
    "res = client.search(\n",
    "    collection_name=\"demo_collection\",\n",
    "    data=embedding_fn.encode_queries([\"tell me AI related information\"]),\n",
    "    # filter=\"subject == 'biology'\",\n",
    "    limit=10,\n",
    "    output_fields=[\"text\", \"subject\"],\n",
    ")\n",
    "\n",
    "print(res)"
   ]
  },
  {
   "cell_type": "markdown",
   "id": "84be4c4c-69a2-48a2-8cfe-84cf47572c71",
   "metadata": {
    "jp-MarkdownHeadingCollapsed": true
   },
   "source": [
    "# query"
   ]
  },
  {
   "cell_type": "code",
   "execution_count": 45,
   "id": "cafba1de-7af8-4346-b7d6-d5f30d00a065",
   "metadata": {
    "execution": {
     "iopub.execute_input": "2025-05-25T06:20:14.566348Z",
     "iopub.status.busy": "2025-05-25T06:20:14.564325Z",
     "iopub.status.idle": "2025-05-25T06:20:14.583673Z",
     "shell.execute_reply": "2025-05-25T06:20:14.582390Z",
     "shell.execute_reply.started": "2025-05-25T06:20:14.566264Z"
    }
   },
   "outputs": [
    {
     "data": {
      "text/plain": [
       "data: [\"{'text': 'Artificial intelligence was founded as an academic discipline in 1956.', 'subject': 'history', 'id': 0}\", \"{'text': 'Alan Turing was the first person to conduct substantial research in AI.', 'subject': 'history', 'id': 1}\", \"{'text': 'Born in Maida Vale, London, Turing was raised in southern England.', 'subject': 'history', 'id': 2}\"]"
      ]
     },
     "execution_count": 45,
     "metadata": {},
     "output_type": "execute_result"
    }
   ],
   "source": [
    "res = client.query(\n",
    "    collection_name=\"demo_collection\",\n",
    "    filter=\"subject == 'history'\",\n",
    "    output_fields=[\"text\", \"subject\"],\n",
    ")\n",
    "\n",
    "res"
   ]
  },
  {
   "cell_type": "code",
   "execution_count": 47,
   "id": "9bcec671-b588-4f8e-a7fd-d14a5a5c5653",
   "metadata": {
    "execution": {
     "iopub.execute_input": "2025-05-25T06:21:02.747802Z",
     "iopub.status.busy": "2025-05-25T06:21:02.746400Z",
     "iopub.status.idle": "2025-05-25T06:21:02.766146Z",
     "shell.execute_reply": "2025-05-25T06:21:02.765222Z",
     "shell.execute_reply.started": "2025-05-25T06:21:02.747683Z"
    }
   },
   "outputs": [
    {
     "data": {
      "text/plain": [
       "data: [\"{'text': 'Artificial intelligence was founded as an academic discipline in 1956.', 'subject': 'history', 'id': 0}\", \"{'text': 'Born in Maida Vale, London, Turing was raised in southern England.', 'subject': 'history', 'id': 2}\"]"
      ]
     },
     "execution_count": 47,
     "metadata": {},
     "output_type": "execute_result"
    }
   ],
   "source": [
    "res = client.query(\n",
    "    collection_name=\"demo_collection\",\n",
    "    ids=[0, 2],\n",
    "    output_fields=[\"text\", \"subject\"],\n",
    ")\n",
    "\n",
    "res"
   ]
  },
  {
   "cell_type": "markdown",
   "id": "949a6d0f-a257-4759-85aa-2a7f6309b8b6",
   "metadata": {
    "jp-MarkdownHeadingCollapsed": true
   },
   "source": [
    "# delete entities"
   ]
  },
  {
   "cell_type": "code",
   "execution_count": 48,
   "id": "6de4a901-9ad5-4b51-9028-2e8624e8c99d",
   "metadata": {
    "execution": {
     "iopub.execute_input": "2025-05-25T06:22:32.843514Z",
     "iopub.status.busy": "2025-05-25T06:22:32.840023Z",
     "iopub.status.idle": "2025-05-25T06:22:32.964779Z",
     "shell.execute_reply": "2025-05-25T06:22:32.964111Z",
     "shell.execute_reply.started": "2025-05-25T06:22:32.843449Z"
    }
   },
   "outputs": [
    {
     "name": "stdout",
     "output_type": "stream",
     "text": [
      "{'delete_count': 2}\n",
      "{'delete_count': 3}\n"
     ]
    }
   ],
   "source": [
    "res = client.delete(collection_name=\"demo_collection\", ids=[0, 2])\n",
    "\n",
    "print(res)\n",
    "\n",
    "res = client.delete(\n",
    "    collection_name=\"demo_collection\",\n",
    "    filter=\"subject == 'biology'\",\n",
    ")\n",
    "\n",
    "print(res)"
   ]
  },
  {
   "cell_type": "markdown",
   "id": "43cb86c3-3765-4157-9870-7ddcfcab60c6",
   "metadata": {
    "jp-MarkdownHeadingCollapsed": true
   },
   "source": [
    "# drop collection"
   ]
  },
  {
   "cell_type": "code",
   "execution_count": 49,
   "id": "24bcd4c3-5f86-432e-84ba-368e019ef9dc",
   "metadata": {
    "execution": {
     "iopub.execute_input": "2025-05-25T06:23:48.572009Z",
     "iopub.status.busy": "2025-05-25T06:23:48.571195Z",
     "iopub.status.idle": "2025-05-25T06:23:48.594059Z",
     "shell.execute_reply": "2025-05-25T06:23:48.592856Z",
     "shell.execute_reply.started": "2025-05-25T06:23:48.571937Z"
    }
   },
   "outputs": [],
   "source": [
    "client.drop_collection(collection_name=\"demo_collection\")"
   ]
  },
  {
   "cell_type": "code",
   "execution_count": 50,
   "id": "8a77e00a-5d1a-45e9-9f00-ad9b7b8d3a05",
   "metadata": {
    "execution": {
     "iopub.execute_input": "2025-05-25T06:24:12.801474Z",
     "iopub.status.busy": "2025-05-25T06:24:12.800584Z",
     "iopub.status.idle": "2025-05-25T06:24:12.820610Z",
     "shell.execute_reply": "2025-05-25T06:24:12.818734Z",
     "shell.execute_reply.started": "2025-05-25T06:24:12.801406Z"
    }
   },
   "outputs": [
    {
     "data": {
      "text/plain": [
       "[]"
      ]
     },
     "execution_count": 50,
     "metadata": {},
     "output_type": "execute_result"
    }
   ],
   "source": [
    "client.list_collections()"
   ]
  },
  {
   "cell_type": "markdown",
   "id": "44fcc389-e739-4d5b-a335-b4426eaec12f",
   "metadata": {
    "jp-MarkdownHeadingCollapsed": true
   },
   "source": [
    "# test duplicate insertion"
   ]
  },
  {
   "cell_type": "code",
   "execution_count": 54,
   "id": "89ee3359-c513-4b3e-a53a-a6c639c3ebc5",
   "metadata": {
    "execution": {
     "iopub.execute_input": "2025-05-25T06:41:23.271933Z",
     "iopub.status.busy": "2025-05-25T06:41:23.271129Z",
     "iopub.status.idle": "2025-05-25T06:41:24.246933Z",
     "shell.execute_reply": "2025-05-25T06:41:24.245201Z",
     "shell.execute_reply.started": "2025-05-25T06:41:23.271861Z"
    }
   },
   "outputs": [],
   "source": [
    "if client.has_collection(collection_name=\"demo_collection\"):\n",
    "    client.drop_collection(collection_name=\"demo_collection\")\n",
    "client.create_collection(\n",
    "    collection_name=\"demo_collection\",\n",
    "    dimension=768,\n",
    "    auto_id=True\n",
    ")"
   ]
  },
  {
   "cell_type": "code",
   "execution_count": 56,
   "id": "7b2d063c-ee32-4be8-b951-bd5858132b5e",
   "metadata": {
    "execution": {
     "iopub.execute_input": "2025-05-25T06:42:23.501937Z",
     "iopub.status.busy": "2025-05-25T06:42:23.500435Z",
     "iopub.status.idle": "2025-05-25T06:42:24.482785Z",
     "shell.execute_reply": "2025-05-25T06:42:24.479798Z",
     "shell.execute_reply.started": "2025-05-25T06:42:23.501860Z"
    }
   },
   "outputs": [
    {
     "data": {
      "text/plain": [
       "{'insert_count': 3, 'ids': [458266833003755594, 458266833003755595, 458266833003755596], 'cost': 0}"
      ]
     },
     "execution_count": 56,
     "metadata": {},
     "output_type": "execute_result"
    }
   ],
   "source": [
    "docs = [\n",
    "    \"Machine learning has been used for drug design.\",\n",
    "    \"Computational synthesis with AI algorithms predicts molecular properties.\",\n",
    "    \"DDR1 is involved in cancers and fibrosis.\",\n",
    "]\n",
    "vectors = embedding_fn.encode_documents(docs)\n",
    "data = [\n",
    "    {\"vector\": vectors[i], \"text\": docs[i], \"subject\": \"biology\"}\n",
    "    for i in range(len(vectors))\n",
    "]\n",
    "\n",
    "client.insert(collection_name=\"demo_collection\", data=data)"
   ]
  },
  {
   "cell_type": "code",
   "execution_count": 57,
   "id": "80118f37-af8d-48ec-8710-e99fa58d44a7",
   "metadata": {
    "execution": {
     "iopub.execute_input": "2025-05-25T06:42:29.575280Z",
     "iopub.status.busy": "2025-05-25T06:42:29.574445Z",
     "iopub.status.idle": "2025-05-25T06:42:30.642629Z",
     "shell.execute_reply": "2025-05-25T06:42:30.642057Z",
     "shell.execute_reply.started": "2025-05-25T06:42:29.575212Z"
    }
   },
   "outputs": [
    {
     "data": {
      "text/plain": [
       "{'insert_count': 3, 'ids': [458266833003755598, 458266833003755599, 458266833003755600], 'cost': 0}"
      ]
     },
     "execution_count": 57,
     "metadata": {},
     "output_type": "execute_result"
    }
   ],
   "source": [
    "docs = [\n",
    "    \"Machine learning has been used for drug design.\",\n",
    "    \"Computational synthesis with AI algorithms predicts molecular properties.\",\n",
    "    \"DDR1 is involved in cancers and fibrosis.\",\n",
    "]\n",
    "vectors = embedding_fn.encode_documents(docs)\n",
    "data = [\n",
    "    {\"vector\": vectors[i], \"text\": docs[i], \"subject\": \"biology\"}\n",
    "    for i in range(len(vectors))\n",
    "]\n",
    "\n",
    "client.insert(collection_name=\"demo_collection\", data=data)"
   ]
  },
  {
   "cell_type": "code",
   "execution_count": 58,
   "id": "3d000866-d020-40d0-ab7f-9d69375d214d",
   "metadata": {
    "execution": {
     "iopub.execute_input": "2025-05-25T06:43:01.248093Z",
     "iopub.status.busy": "2025-05-25T06:43:01.246575Z",
     "iopub.status.idle": "2025-05-25T06:43:01.652571Z",
     "shell.execute_reply": "2025-05-25T06:43:01.651983Z",
     "shell.execute_reply.started": "2025-05-25T06:43:01.248008Z"
    }
   },
   "outputs": [
    {
     "name": "stdout",
     "output_type": "stream",
     "text": [
      "data: [[{'id': 458266833003755599, 'distance': 0.2703055739402771, 'entity': {'subject': 'biology', 'text': 'Computational synthesis with AI algorithms predicts molecular properties.'}}, {'id': 458266833003755595, 'distance': 0.2703055739402771, 'entity': {'subject': 'biology', 'text': 'Computational synthesis with AI algorithms predicts molecular properties.'}}]]\n"
     ]
    }
   ],
   "source": [
    "res = client.search(\n",
    "    collection_name=\"demo_collection\",\n",
    "    data=embedding_fn.encode_queries([\"tell me AI related information\"]),\n",
    "    filter=\"subject == 'biology'\",\n",
    "    limit=2,\n",
    "    output_fields=[\"text\", \"subject\"],\n",
    ")\n",
    "\n",
    "print(res)"
   ]
  },
  {
   "cell_type": "code",
   "execution_count": 92,
   "id": "ad898e8c-70e2-4129-9a20-7b1ed4ccbf46",
   "metadata": {
    "execution": {
     "iopub.execute_input": "2025-05-25T06:55:07.197927Z",
     "iopub.status.busy": "2025-05-25T06:55:07.197348Z",
     "iopub.status.idle": "2025-05-25T06:55:07.219556Z",
     "shell.execute_reply": "2025-05-25T06:55:07.218710Z",
     "shell.execute_reply.started": "2025-05-25T06:55:07.197877Z"
    }
   },
   "outputs": [],
   "source": [
    "client.drop_collection(collection_name=\"demo_collection\")"
   ]
  },
  {
   "cell_type": "markdown",
   "id": "35e2ad07-8003-4471-93c3-341ac3b5566c",
   "metadata": {
    "jp-MarkdownHeadingCollapsed": true
   },
   "source": [
    "# handle duplicate insertion by id"
   ]
  },
  {
   "cell_type": "code",
   "execution_count": 167,
   "id": "6387b7d6-ae98-4db0-b28f-8929d23c83fb",
   "metadata": {
    "execution": {
     "iopub.execute_input": "2025-05-25T07:15:38.788460Z",
     "iopub.status.busy": "2025-05-25T07:15:38.787672Z",
     "iopub.status.idle": "2025-05-25T07:15:39.561700Z",
     "shell.execute_reply": "2025-05-25T07:15:39.560938Z",
     "shell.execute_reply.started": "2025-05-25T07:15:38.788392Z"
    }
   },
   "outputs": [],
   "source": [
    "from pymilvus import MilvusClient, DataType\n",
    "\n",
    "if client.has_collection(collection_name=\"demo_collection\"):\n",
    "    client.drop_collection(collection_name=\"demo_collection\")\n",
    "client.create_collection(\n",
    "    collection_name=\"demo_collection\",\n",
    "    dimension=768,\n",
    "    # id_type=\"str\",\n",
    "    # max_length=64,\n",
    ")"
   ]
  },
  {
   "cell_type": "code",
   "execution_count": 168,
   "id": "c5754ab6-9f86-4113-8363-9803798dce9b",
   "metadata": {
    "execution": {
     "iopub.execute_input": "2025-05-25T07:15:44.158344Z",
     "iopub.status.busy": "2025-05-25T07:15:44.157709Z",
     "iopub.status.idle": "2025-05-25T07:15:44.166989Z",
     "shell.execute_reply": "2025-05-25T07:15:44.165981Z",
     "shell.execute_reply.started": "2025-05-25T07:15:44.158289Z"
    }
   },
   "outputs": [],
   "source": [
    "import hashlib\n",
    "import numpy as np\n",
    "\n",
    "def get_vector_hash(vector: list[float]) -> str:\n",
    "    vec_bytes = np.array(vector, dtype=np.float32).tobytes()\n",
    "    return hashlib.sha256(vec_bytes).hexdigest()\n",
    "\n",
    "\n",
    "def get_vector_hash_as_int(vector: list[float]) -> int:\n",
    "    vec_bytes = np.array(vector, dtype=np.float32).tobytes()\n",
    "    hash_object = hashlib.sha256(vec_bytes)\n",
    "    hash_int = int(hash_object.hexdigest(), 16)\n",
    "    hash_int = hash_int & ((1 << 63) - 1)\n",
    "    \n",
    "    return np.int64(hash_int)"
   ]
  },
  {
   "cell_type": "code",
   "execution_count": 177,
   "id": "52514d28-0f76-466a-b4fe-94b24c263520",
   "metadata": {
    "execution": {
     "iopub.execute_input": "2025-05-25T07:17:15.161525Z",
     "iopub.status.busy": "2025-05-25T07:17:15.160960Z",
     "iopub.status.idle": "2025-05-25T07:17:16.413789Z",
     "shell.execute_reply": "2025-05-25T07:17:16.413049Z",
     "shell.execute_reply.started": "2025-05-25T07:17:15.161472Z"
    }
   },
   "outputs": [
    {
     "data": {
      "text/plain": [
       "{'insert_count': 3, 'ids': [4491577877253948629, 3150481097735110647, 5568380074954272606], 'cost': 0}"
      ]
     },
     "execution_count": 177,
     "metadata": {},
     "output_type": "execute_result"
    }
   ],
   "source": [
    "docs = [\n",
    "    \"Machine learning has been used for drug design.\",\n",
    "    \"Computational synthesis with AI algorithms predicts molecular properties.\",\n",
    "    \"DDR1 is involved in cancers and fibrosis.\",\n",
    "]\n",
    "vectors = embedding_fn.encode_documents(docs)\n",
    "data = [\n",
    "    {\"id\": get_vector_hash_as_int(vectors[i]), \"vector\": vectors[i], \"text\": docs[i], \"subject\": \"biology\"}\n",
    "    for i in range(len(vectors))\n",
    "]\n",
    "\n",
    "client.insert(collection_name=\"demo_collection\", data=data)"
   ]
  },
  {
   "cell_type": "code",
   "execution_count": 181,
   "id": "2697579f-bc94-4ac3-ad74-5553b217c4fc",
   "metadata": {
    "execution": {
     "iopub.execute_input": "2025-05-25T07:19:48.618092Z",
     "iopub.status.busy": "2025-05-25T07:19:48.617012Z",
     "iopub.status.idle": "2025-05-25T07:19:48.634417Z",
     "shell.execute_reply": "2025-05-25T07:19:48.632834Z",
     "shell.execute_reply.started": "2025-05-25T07:19:48.617917Z"
    }
   },
   "outputs": [
    {
     "data": {
      "text/plain": [
       "{'row_count': 3}"
      ]
     },
     "execution_count": 181,
     "metadata": {},
     "output_type": "execute_result"
    }
   ],
   "source": [
    "client.get_collection_stats(\"demo_collection\")"
   ]
  },
  {
   "cell_type": "code",
   "execution_count": 178,
   "id": "91bbc6b5-4587-4d7d-85b7-81dcc4ebea6e",
   "metadata": {
    "execution": {
     "iopub.execute_input": "2025-05-25T07:18:31.234698Z",
     "iopub.status.busy": "2025-05-25T07:18:31.233913Z",
     "iopub.status.idle": "2025-05-25T07:18:31.244322Z",
     "shell.execute_reply": "2025-05-25T07:18:31.241818Z",
     "shell.execute_reply.started": "2025-05-25T07:18:31.234631Z"
    }
   },
   "outputs": [],
   "source": [
    "client.close()"
   ]
  },
  {
   "cell_type": "markdown",
   "id": "b3e19d37-2b7d-4602-8f98-a738dfda8ddf",
   "metadata": {
    "jp-MarkdownHeadingCollapsed": true
   },
   "source": [
    "# generate file_id"
   ]
  },
  {
   "cell_type": "code",
   "execution_count": 191,
   "id": "4cfa8432-bfbe-4ad8-a243-9dba51ee2eec",
   "metadata": {
    "execution": {
     "iopub.execute_input": "2025-05-25T07:35:14.085408Z",
     "iopub.status.busy": "2025-05-25T07:35:14.085094Z",
     "iopub.status.idle": "2025-05-25T07:35:14.090197Z",
     "shell.execute_reply": "2025-05-25T07:35:14.089482Z",
     "shell.execute_reply.started": "2025-05-25T07:35:14.085384Z"
    }
   },
   "outputs": [
    {
     "name": "stdout",
     "output_type": "stream",
     "text": [
      "file-ecaa7994348e4444YGEE8q\n"
     ]
    }
   ],
   "source": [
    "import uuid\n",
    "import random\n",
    "import string\n",
    "\n",
    "def generate_file_id(prefix=\"file-\"):\n",
    "    # Generate a random UUID and convert it to a string\n",
    "    random_uuid = uuid.uuid4().hex[:16]  # 12 characters from UUID\n",
    "    # Generate a random string of 6 characters (could be alphanumeric)\n",
    "    random_str = ''.join(random.choices(string.ascii_letters + string.digits, k=6))\n",
    "    # Combine the prefix, the UUID segment, and the random string\n",
    "    return f\"{prefix}{random_uuid}{random_str}\"\n",
    "\n",
    "# Example usage\n",
    "file_id = generate_file_id()\n",
    "print(file_id)"
   ]
  }
 ],
 "metadata": {
  "kernelspec": {
   "display_name": "Python 3 (ipykernel)",
   "language": "python",
   "name": "python3"
  },
  "language_info": {
   "codemirror_mode": {
    "name": "ipython",
    "version": 3
   },
   "file_extension": ".py",
   "mimetype": "text/x-python",
   "name": "python",
   "nbconvert_exporter": "python",
   "pygments_lexer": "ipython3",
   "version": "3.12.9"
  }
 },
 "nbformat": 4,
 "nbformat_minor": 5
}
