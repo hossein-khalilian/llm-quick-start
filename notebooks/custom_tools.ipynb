{
 "cells": [
  {
   "cell_type": "code",
   "execution_count": 2,
   "id": "9fd34a63-7a4e-4b50-b2d3-e31084821b0b",
   "metadata": {},
   "outputs": [],
   "source": [
    "from langchain_core.tools import tool"
   ]
  },
  {
   "cell_type": "markdown",
   "id": "6f62e1dc-84b7-425f-8268-20b5af59a815",
   "metadata": {},
   "source": [
    "simple tool"
   ]
  },
  {
   "cell_type": "code",
   "execution_count": 36,
   "id": "5d4eb32d-7d6b-4797-8302-9736cf4863f6",
   "metadata": {},
   "outputs": [
    {
     "name": "stdout",
     "output_type": "stream",
     "text": [
      "multiply\n",
      "Multiply two numbers.\n",
      "{'a': {'title': 'A', 'type': 'integer'}, 'b': {'title': 'B', 'type': 'integer'}}\n"
     ]
    }
   ],
   "source": [
    "@tool\n",
    "def multiply(a: int, b: int) -> int:\n",
    "    \"\"\"Multiply two numbers.\"\"\"\n",
    "    return a * b\n",
    "\n",
    "\n",
    "# Let's inspect some of the attributes associated with the tool.\n",
    "print(multiply.name)\n",
    "print(multiply.description)\n",
    "print(multiply.args)"
   ]
  },
  {
   "cell_type": "code",
   "execution_count": 37,
   "id": "fae26e96-6dc5-4aaf-b4aa-05ee0c1a3ebc",
   "metadata": {},
   "outputs": [
    {
     "data": {
      "text/plain": [
       "6"
      ]
     },
     "execution_count": 37,
     "metadata": {},
     "output_type": "execute_result"
    }
   ],
   "source": [
    "multiply.invoke({\"a\": 2, \"b\": 3})"
   ]
  },
  {
   "cell_type": "code",
   "execution_count": 38,
   "id": "e6fb2f64-6f97-43bb-a403-8c6a939df956",
   "metadata": {},
   "outputs": [
    {
     "name": "stdout",
     "output_type": "stream",
     "text": [
      "ainvoke run without error with builtin async implementation\n"
     ]
    }
   ],
   "source": [
    "try:\n",
    "    await multiply.ainvoke({\"a\": 2, \"b\": 3})\n",
    "    print(\"ainvoke run without error with builtin async implementation\")\n",
    "except Exception as e:\n",
    "    print(e)"
   ]
  },
  {
   "cell_type": "markdown",
   "id": "734be5e9-9feb-4eb9-8edb-53a448a52ea9",
   "metadata": {},
   "source": [
    "async"
   ]
  },
  {
   "cell_type": "code",
   "execution_count": 40,
   "id": "ff791a28-52da-4efe-8246-d24579fad192",
   "metadata": {},
   "outputs": [
    {
     "data": {
      "text/plain": [
       "StructuredTool(name='amultiply', description='Multiply two numbers.', args_schema=<class 'langchain_core.utils.pydantic.amultiply'>, coroutine=<function amultiply at 0x74c545798b80>)"
      ]
     },
     "execution_count": 40,
     "metadata": {},
     "output_type": "execute_result"
    }
   ],
   "source": [
    "@tool\n",
    "async def amultiply(a: int, b: int) -> int:\n",
    "    \"\"\"Multiply two numbers.\"\"\"\n",
    "    return a * b\n",
    "\n",
    "amultiply"
   ]
  },
  {
   "cell_type": "code",
   "execution_count": 41,
   "id": "8a6b72cb-09c1-46ec-ad23-391179945c32",
   "metadata": {},
   "outputs": [
    {
     "data": {
      "text/plain": [
       "6"
      ]
     },
     "execution_count": 41,
     "metadata": {},
     "output_type": "execute_result"
    }
   ],
   "source": [
    "await amultiply.ainvoke({\"a\": 2, \"b\": 3})"
   ]
  },
  {
   "cell_type": "code",
   "execution_count": 42,
   "id": "f5a1048d-0685-4a3a-bf29-fbfa557b6cbc",
   "metadata": {},
   "outputs": [
    {
     "name": "stdout",
     "output_type": "stream",
     "text": [
      "StructuredTool does not support sync invocation.\n"
     ]
    }
   ],
   "source": [
    "try:\n",
    "    amultiply.invoke({\"a\": 2, \"b\": 3})\n",
    "except Exception as e:\n",
    "    print(e)"
   ]
  },
  {
   "cell_type": "markdown",
   "id": "2bc69a97-eed7-4d08-a894-6e5dcfa7cd82",
   "metadata": {},
   "source": [
    "nested schemas"
   ]
  },
  {
   "cell_type": "code",
   "execution_count": 23,
   "id": "f2d1920c-98fa-43cb-a10d-4ff0934b879b",
   "metadata": {},
   "outputs": [
    {
     "name": "stdout",
     "output_type": "stream",
     "text": [
      "{'description': 'Multiply a by the maximum of b.', 'properties': {'a': {'description': 'scale factor', 'title': 'A', 'type': 'integer'}, 'b': {'description': 'list of ints over which to take maximum', 'items': {'type': 'integer'}, 'title': 'B', 'type': 'array'}}, 'required': ['a', 'b'], 'title': 'multiply_by_max', 'type': 'object'}\n"
     ]
    }
   ],
   "source": [
    "from typing import Annotated, List\n",
    "\n",
    "\n",
    "@tool\n",
    "def multiply_by_max(\n",
    "    a: Annotated[int, \"scale factor\"],\n",
    "    b: Annotated[List[int], \"list of ints over which to take maximum\"],\n",
    ") -> int:\n",
    "    \"\"\"Multiply a by the maximum of b.\"\"\"\n",
    "    return a * max(b)\n",
    "\n",
    "\n",
    "print(multiply_by_max.args_schema.model_json_schema())"
   ]
  },
  {
   "cell_type": "markdown",
   "id": "c7b5ab01-38eb-4516-a18d-29e44f507106",
   "metadata": {},
   "source": [
    "customize tool name and json args"
   ]
  },
  {
   "cell_type": "code",
   "execution_count": 24,
   "id": "a2771c2c-b608-4815-a1c8-6ab0ae8995c8",
   "metadata": {},
   "outputs": [
    {
     "name": "stdout",
     "output_type": "stream",
     "text": [
      "multiplication-tool\n",
      "Multiply two numbers.\n",
      "{'a': {'description': 'first number', 'title': 'A', 'type': 'integer'}, 'b': {'description': 'second number', 'title': 'B', 'type': 'integer'}}\n",
      "True\n"
     ]
    }
   ],
   "source": [
    "from pydantic import BaseModel, Field\n",
    "\n",
    "\n",
    "class CalculatorInput(BaseModel):\n",
    "    a: int = Field(description=\"first number\")\n",
    "    b: int = Field(description=\"second number\")\n",
    "\n",
    "\n",
    "@tool(\"multiplication-tool\", args_schema=CalculatorInput, return_direct=True)\n",
    "def multiply(a: int, b: int) -> int:\n",
    "    \"\"\"Multiply two numbers.\"\"\"\n",
    "    return a * b\n",
    "\n",
    "\n",
    "# Let's inspect some of the attributes associated with the tool.\n",
    "print(multiply.name)\n",
    "print(multiply.description)\n",
    "print(multiply.args)\n",
    "print(multiply.return_direct)"
   ]
  },
  {
   "cell_type": "markdown",
   "id": "89c99a06-4f47-4e3d-94d0-4ebdbe47efc4",
   "metadata": {},
   "source": [
    "docstring parsing"
   ]
  },
  {
   "cell_type": "code",
   "execution_count": 25,
   "id": "773addef-4f65-432c-9b37-845e62775e34",
   "metadata": {},
   "outputs": [
    {
     "name": "stdout",
     "output_type": "stream",
     "text": [
      "{'description': 'The foo.', 'properties': {'bar': {'description': 'The bar.', 'title': 'Bar', 'type': 'string'}, 'baz': {'description': 'The baz.', 'title': 'Baz', 'type': 'integer'}}, 'required': ['bar', 'baz'], 'title': 'foo', 'type': 'object'}\n"
     ]
    }
   ],
   "source": [
    "@tool(parse_docstring=True)\n",
    "def foo(bar: str, baz: int) -> str:\n",
    "    \"\"\"The foo.\n",
    "\n",
    "    Args:\n",
    "        bar: The bar.\n",
    "        baz: The baz.\n",
    "    \"\"\"\n",
    "    return bar\n",
    "\n",
    "\n",
    "print(foo.args_schema.model_json_schema())"
   ]
  },
  {
   "cell_type": "markdown",
   "id": "1c91a501-ee5a-4790-a023-b0770be29314",
   "metadata": {},
   "source": [
    "# structuredTool"
   ]
  },
  {
   "cell_type": "code",
   "execution_count": 27,
   "id": "69c1c8e2-f24c-4844-8084-95e3ff766561",
   "metadata": {},
   "outputs": [
    {
     "name": "stdout",
     "output_type": "stream",
     "text": [
      "6\n",
      "10\n"
     ]
    }
   ],
   "source": [
    "from langchain_core.tools import StructuredTool\n",
    "\n",
    "\n",
    "def multiply(a: int, b: int) -> int:\n",
    "    \"\"\"Multiply two numbers.\"\"\"\n",
    "    return a * b\n",
    "\n",
    "\n",
    "async def amultiply(a: int, b: int) -> int:\n",
    "    \"\"\"Multiply two numbers.\"\"\"\n",
    "    return a * b\n",
    "\n",
    "\n",
    "calculator = StructuredTool.from_function(func=multiply, coroutine=amultiply)\n",
    "\n",
    "print(calculator.invoke({\"a\": 2, \"b\": 3}))\n",
    "print(await calculator.ainvoke({\"a\": 2, \"b\": 5}))"
   ]
  },
  {
   "cell_type": "markdown",
   "id": "fdefe428-db4e-425e-9786-4d5f367457c9",
   "metadata": {},
   "source": [
    "customization"
   ]
  },
  {
   "cell_type": "code",
   "execution_count": 28,
   "id": "ab69e5c9-d652-415e-a6b1-3f719129b661",
   "metadata": {},
   "outputs": [
    {
     "name": "stdout",
     "output_type": "stream",
     "text": [
      "6\n",
      "Calculator\n",
      "multiply numbers\n",
      "{'a': {'description': 'first number', 'title': 'A', 'type': 'integer'}, 'b': {'description': 'second number', 'title': 'B', 'type': 'integer'}}\n"
     ]
    }
   ],
   "source": [
    "class CalculatorInput(BaseModel):\n",
    "    a: int = Field(description=\"first number\")\n",
    "    b: int = Field(description=\"second number\")\n",
    "\n",
    "\n",
    "def multiply(a: int, b: int) -> int:\n",
    "    \"\"\"Multiply two numbers.\"\"\"\n",
    "    return a * b\n",
    "\n",
    "\n",
    "calculator = StructuredTool.from_function(\n",
    "    func=multiply,\n",
    "    name=\"Calculator\",\n",
    "    description=\"multiply numbers\",\n",
    "    args_schema=CalculatorInput,\n",
    "    return_direct=True,\n",
    "    # coroutine= ... <- you can specify an async method if desired as well\n",
    ")\n",
    "\n",
    "print(calculator.invoke({\"a\": 2, \"b\": 3}))\n",
    "print(calculator.name)\n",
    "print(calculator.description)\n",
    "print(calculator.args)"
   ]
  },
  {
   "cell_type": "markdown",
   "id": "6af6682c-c684-48b6-ba1f-5b236d91a415",
   "metadata": {},
   "source": [
    "# Creating tools from Runnables"
   ]
  },
  {
   "cell_type": "code",
   "execution_count": 29,
   "id": "5743d072-cbf6-4cee-acca-817cf4c140a6",
   "metadata": {},
   "outputs": [
    {
     "name": "stderr",
     "output_type": "stream",
     "text": [
      "/tmp/ipykernel_227483/2548361071.py:14: LangChainBetaWarning: This API is in beta and may change in the future.\n",
      "  as_tool = chain.as_tool(\n"
     ]
    },
    {
     "data": {
      "text/plain": [
       "{'answer_style': {'title': 'Answer Style', 'type': 'string'}}"
      ]
     },
     "execution_count": 29,
     "metadata": {},
     "output_type": "execute_result"
    }
   ],
   "source": [
    "from langchain_core.language_models import GenericFakeChatModel\n",
    "from langchain_core.output_parsers import StrOutputParser\n",
    "from langchain_core.prompts import ChatPromptTemplate\n",
    "\n",
    "prompt = ChatPromptTemplate.from_messages(\n",
    "    [(\"human\", \"Hello. Please respond in the style of {answer_style}.\")]\n",
    ")\n",
    "\n",
    "# Placeholder LLM\n",
    "llm = GenericFakeChatModel(messages=iter([\"hello matey\"]))\n",
    "\n",
    "chain = prompt | llm | StrOutputParser()\n",
    "\n",
    "as_tool = chain.as_tool(\n",
    "    name=\"Style responder\", description=\"Description of when to use tool.\"\n",
    ")\n",
    "as_tool.args"
   ]
  },
  {
   "cell_type": "markdown",
   "id": "73b53e99-1cb5-439f-b905-53085dfaac97",
   "metadata": {},
   "source": [
    "# Subclass BaseTool"
   ]
  },
  {
   "cell_type": "code",
   "execution_count": 30,
   "id": "fe24c2eb-0e37-491b-a028-911b74815aee",
   "metadata": {},
   "outputs": [],
   "source": [
    "from typing import Optional\n",
    "\n",
    "from langchain_core.callbacks import (\n",
    "    AsyncCallbackManagerForToolRun,\n",
    "    CallbackManagerForToolRun,\n",
    ")\n",
    "from langchain_core.tools import BaseTool\n",
    "from langchain_core.tools.base import ArgsSchema\n",
    "from pydantic import BaseModel, Field\n",
    "\n",
    "\n",
    "class CalculatorInput(BaseModel):\n",
    "    a: int = Field(description=\"first number\")\n",
    "    b: int = Field(description=\"second number\")\n",
    "\n",
    "\n",
    "# Note: It's important that every field has type hints. BaseTool is a\n",
    "# Pydantic class and not having type hints can lead to unexpected behavior.\n",
    "class CustomCalculatorTool(BaseTool):\n",
    "    name: str = \"Calculator\"\n",
    "    description: str = \"useful for when you need to answer questions about math\"\n",
    "    args_schema: Optional[ArgsSchema] = CalculatorInput\n",
    "    return_direct: bool = True\n",
    "\n",
    "    def _run(\n",
    "        self, a: int, b: int, run_manager: Optional[CallbackManagerForToolRun] = None\n",
    "    ) -> str:\n",
    "        \"\"\"Use the tool.\"\"\"\n",
    "        return a * b\n",
    "\n",
    "    async def _arun(\n",
    "        self,\n",
    "        a: int,\n",
    "        b: int,\n",
    "        run_manager: Optional[AsyncCallbackManagerForToolRun] = None,\n",
    "    ) -> str:\n",
    "        \"\"\"Use the tool asynchronously.\"\"\"\n",
    "        # If the calculation is cheap, you can just delegate to the sync implementation\n",
    "        # as shown below.\n",
    "        # If the sync calculation is expensive, you should delete the entire _arun method.\n",
    "        # LangChain will automatically provide a better implementation that will\n",
    "        # kick off the task in a thread to make sure it doesn't block other async code.\n",
    "        return self._run(a, b, run_manager=run_manager.get_sync())"
   ]
  },
  {
   "cell_type": "code",
   "execution_count": 31,
   "id": "06a0bac9-b0ad-471e-b3e3-aa64081a66bc",
   "metadata": {},
   "outputs": [
    {
     "name": "stdout",
     "output_type": "stream",
     "text": [
      "Calculator\n",
      "useful for when you need to answer questions about math\n",
      "{'a': {'description': 'first number', 'title': 'A', 'type': 'integer'}, 'b': {'description': 'second number', 'title': 'B', 'type': 'integer'}}\n",
      "True\n",
      "6\n",
      "6\n"
     ]
    }
   ],
   "source": [
    "multiply = CustomCalculatorTool()\n",
    "print(multiply.name)\n",
    "print(multiply.description)\n",
    "print(multiply.args)\n",
    "print(multiply.return_direct)\n",
    "\n",
    "print(multiply.invoke({\"a\": 2, \"b\": 3}))\n",
    "print(await multiply.ainvoke({\"a\": 2, \"b\": 3}))"
   ]
  },
  {
   "cell_type": "markdown",
   "id": "659d9579-3bf5-4918-b8e9-e3b471cca478",
   "metadata": {},
   "source": [
    "# Handling tool Errors"
   ]
  },
  {
   "cell_type": "code",
   "execution_count": 45,
   "id": "2a63c9ad-c1b6-4f59-b836-88ee86c562bc",
   "metadata": {},
   "outputs": [],
   "source": [
    "from langchain_core.tools import ToolException"
   ]
  },
  {
   "cell_type": "markdown",
   "id": "a6b6d922-7a9f-407a-8470-c016b5a37607",
   "metadata": {},
   "source": [
    "handling error with ToolException"
   ]
  },
  {
   "cell_type": "code",
   "execution_count": 46,
   "id": "09c5b430-10f9-4e42-a756-d2cce4342996",
   "metadata": {},
   "outputs": [],
   "source": [
    "def get_weather(city: str) -> int:\n",
    "    \"\"\"Get weather for the given city.\"\"\"\n",
    "    raise ToolException(f\"Error: There is no city by the name of {city}.\")"
   ]
  },
  {
   "cell_type": "code",
   "execution_count": 47,
   "id": "1da1067f-b78b-4c6b-ac23-00ea4a7056d5",
   "metadata": {},
   "outputs": [
    {
     "data": {
      "text/plain": [
       "'Error: There is no city by the name of foobar.'"
      ]
     },
     "execution_count": 47,
     "metadata": {},
     "output_type": "execute_result"
    }
   ],
   "source": [
    "get_weather_tool = StructuredTool.from_function(\n",
    "    func=get_weather,\n",
    "    handle_tool_error=True,\n",
    ")\n",
    "\n",
    "get_weather_tool.invoke({\"city\": \"foobar\"})"
   ]
  },
  {
   "cell_type": "markdown",
   "id": "149750e1-7e15-4042-9f28-6abb50fe3018",
   "metadata": {},
   "source": [
    "handling error with a string"
   ]
  },
  {
   "cell_type": "code",
   "execution_count": 48,
   "id": "16ef043b-9927-4caa-a8e2-7eead6fa1bd8",
   "metadata": {},
   "outputs": [
    {
     "data": {
      "text/plain": [
       "\"There is no such city, but it's probably above 0K there!\""
      ]
     },
     "execution_count": 48,
     "metadata": {},
     "output_type": "execute_result"
    }
   ],
   "source": [
    "get_weather_tool = StructuredTool.from_function(\n",
    "    func=get_weather,\n",
    "    handle_tool_error=\"There is no such city, but it's probably above 0K there!\",\n",
    ")\n",
    "\n",
    "get_weather_tool.invoke({\"city\": \"foobar\"})"
   ]
  },
  {
   "cell_type": "markdown",
   "id": "f781d92b-7508-4cff-9fe4-22db8e7db757",
   "metadata": {},
   "source": [
    "handing error with a function"
   ]
  },
  {
   "cell_type": "code",
   "execution_count": 49,
   "id": "6bca2e22-1598-4c1c-8a12-97883dba2d79",
   "metadata": {},
   "outputs": [
    {
     "data": {
      "text/plain": [
       "'The following errors occurred during tool execution: `Error: There is no city by the name of foobar.`'"
      ]
     },
     "execution_count": 49,
     "metadata": {},
     "output_type": "execute_result"
    }
   ],
   "source": [
    "def _handle_error(error: ToolException) -> str:\n",
    "    return f\"The following errors occurred during tool execution: `{error.args[0]}`\"\n",
    "\n",
    "\n",
    "get_weather_tool = StructuredTool.from_function(\n",
    "    func=get_weather,\n",
    "    handle_tool_error=_handle_error,\n",
    ")\n",
    "\n",
    "get_weather_tool.invoke({\"city\": \"foobar\"})"
   ]
  },
  {
   "cell_type": "markdown",
   "id": "01a5690c-565d-4e57-a819-acf3540fead2",
   "metadata": {},
   "source": [
    "# tool Artifacts"
   ]
  },
  {
   "cell_type": "code",
   "execution_count": 53,
   "id": "282e8cf2-eb08-4e6c-bb72-fd2056ed1ae3",
   "metadata": {},
   "outputs": [],
   "source": [
    "import random\n",
    "from typing import List, Tuple\n",
    "\n",
    "from langchain_core.tools import tool\n",
    "\n",
    "\n",
    "@tool(response_format=\"content_and_artifact\")\n",
    "def generate_random_ints(min: int, max: int, size: int) -> Tuple[str, List[int]]:\n",
    "    \"\"\"Generate size random ints in the range [min, max].\"\"\"\n",
    "    array = [random.randint(min, max) for _ in range(size)]\n",
    "    content = f\"Successfully generated array of {size} random ints in [{min}, {max}].\"\n",
    "    return content, array #message, artifact"
   ]
  },
  {
   "cell_type": "code",
   "execution_count": 54,
   "id": "077570cd-080c-4875-9d22-40dab0f6e0b4",
   "metadata": {},
   "outputs": [
    {
     "data": {
      "text/plain": [
       "'Successfully generated array of 10 random ints in [0, 9].'"
      ]
     },
     "execution_count": 54,
     "metadata": {},
     "output_type": "execute_result"
    }
   ],
   "source": [
    "generate_random_ints.invoke({\"min\": 0, \"max\": 9, \"size\": 10})"
   ]
  },
  {
   "cell_type": "code",
   "execution_count": 61,
   "id": "7066135c-88af-4230-a4c0-e6790cbf1b16",
   "metadata": {},
   "outputs": [
    {
     "data": {
      "text/plain": [
       "ToolMessage(content='Successfully generated array of 10 random ints in [0, 9].', name='generate_random_ints', tool_call_id='123', artifact=[7, 8, 3, 8, 7, 9, 8, 6, 6, 5])"
      ]
     },
     "execution_count": 61,
     "metadata": {},
     "output_type": "execute_result"
    }
   ],
   "source": [
    "generate_random_ints.invoke(\n",
    "    {\n",
    "        \"name\": \"generate_random_ints\",\n",
    "        \"args\": {\"min\": 0, \"max\": 9, \"size\": 10},\n",
    "        \"id\": \"123\",  # required\n",
    "        \"type\": \"tool_call\",\n",
    "    }\n",
    ")"
   ]
  },
  {
   "cell_type": "markdown",
   "id": "5c1c64d8-3245-4ee6-927d-29ed248f6c5b",
   "metadata": {},
   "source": [
    "with subclassing BaseTool"
   ]
  },
  {
   "cell_type": "code",
   "execution_count": 59,
   "id": "ff6137fe-8229-4a24-87bb-76b26c683622",
   "metadata": {},
   "outputs": [],
   "source": [
    "from langchain_core.tools import BaseTool\n",
    "\n",
    "\n",
    "class GenerateRandomFloats(BaseTool):\n",
    "    name: str = \"generate_random_floats\"\n",
    "    description: str = \"Generate size random floats in the range [min, max].\"\n",
    "    response_format: str = \"content_and_artifact\"\n",
    "\n",
    "    ndigits: int = 2\n",
    "\n",
    "    def _run(self, min: float, max: float, size: int) -> Tuple[str, List[float]]:\n",
    "        range_ = max - min\n",
    "        array = [\n",
    "            round(min + (range_ * random.random()), ndigits=self.ndigits)\n",
    "            for _ in range(size)\n",
    "        ]\n",
    "        content = f\"Generated {size} floats in [{min}, {max}], rounded to {self.ndigits} decimals.\"\n",
    "        return content, array\n",
    "\n",
    "    # Optionally define an equivalent async method\n",
    "\n",
    "    # async def _arun(self, min: float, max: float, size: int) -> Tuple[str, List[float]]:\n",
    "    #     ..."
   ]
  },
  {
   "cell_type": "code",
   "execution_count": 60,
   "id": "5ef92318-fe1f-460b-8609-53317bfc4513",
   "metadata": {},
   "outputs": [
    {
     "data": {
      "text/plain": [
       "ToolMessage(content='Generated 3 floats in [0.1, 3.3333], rounded to 4 decimals.', name='generate_random_floats', tool_call_id='123', artifact=[3.2525, 1.2313, 2.8993])"
      ]
     },
     "execution_count": 60,
     "metadata": {},
     "output_type": "execute_result"
    }
   ],
   "source": [
    "rand_gen = GenerateRandomFloats(ndigits=4)\n",
    "\n",
    "rand_gen.invoke(\n",
    "    {\n",
    "        \"name\": \"generate_random_floats\",\n",
    "        \"args\": {\"min\": 0.1, \"max\": 3.3333, \"size\": 3},\n",
    "        \"id\": \"123\",\n",
    "        \"type\": \"tool_call\",\n",
    "    }\n",
    ")"
   ]
  },
  {
   "cell_type": "markdown",
   "id": "37ef46ec-c14e-4ba6-939c-6f492a41badc",
   "metadata": {},
   "source": [
    "# Tools with hidden input arguments for llms"
   ]
  },
  {
   "cell_type": "code",
   "execution_count": 70,
   "id": "7a10eabb-c9dc-4600-8164-e3e18bc6abd7",
   "metadata": {},
   "outputs": [],
   "source": [
    "from langchain_core.tools import tool, InjectedToolArg\n",
    "\n",
    "@tool\n",
    "def user_specific_tool(input_data: str, user_id: InjectedToolArg) -> str:\n",
    "    \"\"\"Tool that processes input data.\"\"\"\n",
    "    return f\"User {user_id} processed {input_data}\""
   ]
  },
  {
   "cell_type": "code",
   "execution_count": 71,
   "id": "fd763adc-c700-4b79-b2f1-7640cd7d5cda",
   "metadata": {},
   "outputs": [],
   "source": [
    "from langchain_core.runnables import RunnableConfig\n",
    "\n",
    "@tool\n",
    "async def some_func(input_data: str, config: RunnableConfig):\n",
    "    \"\"\"Tool that does something.\"\"\"\n",
    "    # do something with config\n",
    "    pass\n",
    "\n",
    "await some_func.ainvoke(input={\"input_data\": \"\"}, config={\"configurable\": {\"value\": \"some_value\"}})"
   ]
  }
 ],
 "metadata": {
  "kernelspec": {
   "display_name": "Python 3 (ipykernel)",
   "language": "python",
   "name": "python3"
  },
  "language_info": {
   "codemirror_mode": {
    "name": "ipython",
    "version": 3
   },
   "file_extension": ".py",
   "mimetype": "text/x-python",
   "name": "python",
   "nbconvert_exporter": "python",
   "pygments_lexer": "ipython3",
   "version": "3.12.9"
  }
 },
 "nbformat": 4,
 "nbformat_minor": 5
}
