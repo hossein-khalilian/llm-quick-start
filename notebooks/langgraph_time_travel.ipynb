{
 "cells": [
  {
   "cell_type": "markdown",
   "id": "d31b5928-3d6c-4232-b554-78575a561cac",
   "metadata": {
    "jp-MarkdownHeadingCollapsed": true
   },
   "source": [
    "# setup"
   ]
  },
  {
   "cell_type": "code",
   "execution_count": 1,
   "id": "8f19a591-600c-439f-b07f-0d752d830313",
   "metadata": {},
   "outputs": [
    {
     "data": {
      "text/plain": [
       "True"
      ]
     },
     "execution_count": 1,
     "metadata": {},
     "output_type": "execute_result"
    }
   ],
   "source": [
    "from dotenv import load_dotenv\n",
    "load_dotenv()"
   ]
  },
  {
   "cell_type": "code",
   "execution_count": 6,
   "id": "c4cd574a-3c27-4d88-9674-868ae7d76233",
   "metadata": {},
   "outputs": [],
   "source": [
    "import getpass\n",
    "import os\n",
    "\n",
    "if not os.environ.get(\"OPENAI_API_KEY\"):\n",
    "  os.environ[\"OPENAI_API_KEY\"] = getpass.getpass(\"Enter API key for OpenAI: \")\n",
    "\n",
    "from langchain.chat_models import init_chat_model\n",
    "\n",
    "llm = init_chat_model(\"gpt-4o-mini\", model_provider=\"openai\")"
   ]
  },
  {
   "cell_type": "code",
   "execution_count": 3,
   "id": "fa0bda42-992b-4e3d-83ba-74446ca3d1dc",
   "metadata": {},
   "outputs": [],
   "source": [
    "from langchain_tavily import TavilySearch\n",
    "from langgraph.checkpoint.memory import MemorySaver"
   ]
  },
  {
   "cell_type": "markdown",
   "id": "48a2ce0e-b1c7-4950-847f-df1133a3bb69",
   "metadata": {
    "jp-MarkdownHeadingCollapsed": true
   },
   "source": [
    "# tools"
   ]
  },
  {
   "cell_type": "code",
   "execution_count": 4,
   "id": "c1bf47d2-c194-4d54-8110-c15112b601cc",
   "metadata": {},
   "outputs": [],
   "source": [
    "search_tool = TavilySearch(max_results=2)\n",
    "tools = [search_tool]"
   ]
  },
  {
   "cell_type": "markdown",
   "id": "05396b45-7a9e-447d-b896-4e918eebe598",
   "metadata": {
    "jp-MarkdownHeadingCollapsed": true
   },
   "source": [
    "# graph"
   ]
  },
  {
   "cell_type": "code",
   "execution_count": 9,
   "id": "8876106c-b5a3-4ad7-8c81-a10093d5cee3",
   "metadata": {},
   "outputs": [],
   "source": [
    "from typing import Annotated\n",
    "\n",
    "from typing_extensions import TypedDict\n",
    "from langgraph.graph import StateGraph, START\n",
    "from langgraph.graph.message import add_messages\n",
    "from langgraph.prebuilt import ToolNode, tools_condition\n",
    "\n",
    "class State(TypedDict):\n",
    "    messages: Annotated[list, add_messages]\n",
    "\n",
    "llm_with_tools = llm.bind_tools(tools)\n",
    "def chatbot(state: State):\n",
    "    message = llm_with_tools.invoke(state[\"messages\"])\n",
    "    return {\"messages\": [message]}"
   ]
  },
  {
   "cell_type": "code",
   "execution_count": 21,
   "id": "0ef47ae7-2a1f-4687-a544-01fe7743e9e2",
   "metadata": {},
   "outputs": [],
   "source": [
    "graph_builder = StateGraph(State)\n",
    "graph_builder.add_node(\"chatbot\", chatbot)\n",
    "\n",
    "tool_node = ToolNode(tools=tools)\n",
    "graph_builder.add_node(\"tools\", tool_node)\n",
    "\n",
    "graph_builder.add_conditional_edges(\n",
    "    \"chatbot\",\n",
    "    tools_condition,\n",
    ")\n",
    "graph_builder.add_edge(\"tools\", \"chatbot\")\n",
    "graph_builder.add_edge(START, \"chatbot\")\n",
    "\n",
    "memory = MemorySaver()\n",
    "graph = graph_builder.compile(checkpointer=memory)"
   ]
  },
  {
   "cell_type": "markdown",
   "id": "1bac3604-6ff3-4b62-8eb2-e4ccabbd51d3",
   "metadata": {
    "jp-MarkdownHeadingCollapsed": true
   },
   "source": [
    "# multi-step usage with resuming example"
   ]
  },
  {
   "cell_type": "code",
   "execution_count": 22,
   "id": "9cf64c4c-7af1-4d89-b577-1c78138570f5",
   "metadata": {},
   "outputs": [],
   "source": [
    "config = {\"configurable\": {\"thread_id\": \"1122\"}}"
   ]
  },
  {
   "cell_type": "code",
   "execution_count": 23,
   "id": "bb3a414a-2857-458f-b443-18799f8a7b75",
   "metadata": {},
   "outputs": [
    {
     "name": "stdout",
     "output_type": "stream",
     "text": [
      "================================\u001b[1m Human Message \u001b[0m=================================\n",
      "\n",
      "I'm learning LangGraph. Could you do some research on it for me?\n",
      "==================================\u001b[1m Ai Message \u001b[0m==================================\n",
      "Tool Calls:\n",
      "  tavily_search (call_3LXyg3h9D4lJUgEFtmZtwQSo)\n",
      " Call ID: call_3LXyg3h9D4lJUgEFtmZtwQSo\n",
      "  Args:\n",
      "    query: LangGraph\n",
      "    search_depth: advanced\n",
      "=================================\u001b[1m Tool Message \u001b[0m=================================\n",
      "Name: tavily_search\n",
      "\n",
      "{\"query\": \"LangGraph\", \"follow_up_questions\": null, \"answer\": null, \"images\": [], \"results\": [{\"url\": \"https://www.ibm.com/think/topics/langgraph\", \"title\": \"What is LangGraph? - IBM\", \"content\": \"LangGraph, created by LangChain, is an open source AI agent framework designed to build, deploy and manage complex generative AI agent workflows. It provides a set of tools and libraries that enable users to create, run and optimize large language models (LLMs) in a scalable and efficient manner. At its core, LangGraph uses the power of graph-based architectures to model and manage the intricate relationships between various components of an AI agent workflow. [...] Agent systems: LangGraph provides a framework for building agent-based systems, which can be used in applications such as robotics, autonomous vehicles or video games.\\n\\nLLM applications: By using LangGraph’s capabilities, developers can build more sophisticated AI models that learn and improve over time. Norwegian Cruise Line uses LangGraph to compile, construct and refine guest-facing AI solutions. This capability allows for improved and personalized guest experiences. [...] By using a graph-based architecture, LangGraph enables users to scale artificial intelligence workflows without slowing down or sacrificing efficiency. LangGraph uses enhanced decision-making by modeling complex relationships between nodes, which means it uses AI agents to analyze their past actions and feedback. In the world of LLMs, this process is referred to as reflection.\", \"score\": 0.9353998, \"raw_content\": null}, {\"url\": \"https://langchain-ai.github.io/langgraph/tutorials/introduction/\", \"title\": \"LangGraph Quickstart - GitHub Pages\", \"content\": \"[](https://langchain-ai.github.io/langgraph/tutorials/introduction/#__codelineno-9-1)Assistant: LangGraph is a library designed to help build stateful multi-agent applications using language models. It provides tools for creating workflows and state machines to coordinate multiple AI agents or language model interactions. LangGraph is built on top of LangChain, leveraging its components while adding graph-based coordination capabilities. It's particularly useful for developing more complex, [...] [](https://langchain-ai.github.io/langgraph/tutorials/introduction/#__codelineno-21-6)   LangGraph is a library designed for building stateful, multi-actor applications with Large Language Models (LLMs). It's particularly useful for creating agent and multi-agent workflows.\\n[](https://langchain-ai.github.io/langgraph/tutorials/introduction/#__codelineno-21-7)\\n[](https://langchain-ai.github.io/langgraph/tutorials/introduction/#__codelineno-21-8)2. Developer: [...] [](https://langchain-ai.github.io/langgraph/tutorials/introduction/#__codelineno-48-19)LangGraph is likely a framework or library designed specifically for creating AI agents with advanced capabilities. Here are a few points to consider based on this recommendation:\\n[](https://langchain-ai.github.io/langgraph/tutorials/introduction/#__codelineno-48-20)\", \"score\": 0.9328032, \"raw_content\": null}], \"response_time\": 1.56}\n",
      "==================================\u001b[1m Ai Message \u001b[0m==================================\n",
      "\n",
      "Here are some key insights about LangGraph based on current resources:\n",
      "\n",
      "1. **Overview and Purpose**:\n",
      "   - **LangGraph** is an open-source AI agent framework developed by LangChain, designed for building, deploying, and managing complex generative AI workflows.\n",
      "   - It provides tools and libraries for creating, running, and optimizing large language models (LLMs) in a scalable and efficient manner by utilizing a graph-based architecture. This architecture helps to model intricate relationships between various components in an AI agent workflow.\n",
      "\n",
      "2. **Key Features**:\n",
      "   - **Agent Systems**: LangGraph facilitates the creation of agent-based systems suitable for various applications, including robotics, autonomous vehicles, and video games.\n",
      "   - **LLM Applications**: It allows developers to construct sophisticated AI models that can learn and improve over time. Companies like Norwegian Cruise Line use LangGraph to enhance guest-facing AI solutions, ultimately providing more personalized experiences.\n",
      "\n",
      "3. **Efficiency and Scalability**:\n",
      "   - The graph-based architecture allows for scaling AI workflows without compromising efficiency. LangGraph enhances decision-making by modeling complex relationships between nodes and utilizing AI agents that analyze their past actions and feedback—a process known in the world of LLMs as reflection.\n",
      "\n",
      "4. **Multi-Agent Applications**:\n",
      "   - LangGraph is particularly valuable for creating stateful multi-agent applications, using workflows and state machines to coordinate interactions among multiple AI agents or language models.\n",
      "\n",
      "### Additional Resources:\n",
      "- For more detailed information and tutorials, you can check the official [LangGraph Quickstart Guide](https://langchain-ai.github.io/langgraph/tutorials/introduction/) and the overview by [IBM](https://www.ibm.com/think/topics/langgraph).\n",
      "\n",
      "Feel free to ask if you have more specific questions or need further details!\n"
     ]
    }
   ],
   "source": [
    "events = graph.stream(\n",
    "    {\n",
    "        \"messages\": [\n",
    "            {\n",
    "                \"role\": \"user\",\n",
    "                \"content\": (\n",
    "                    \"I'm learning LangGraph. \"\n",
    "                    \"Could you do some research on it for me?\"\n",
    "                ),\n",
    "            },\n",
    "        ],\n",
    "    },\n",
    "    config,\n",
    "    stream_mode=\"values\",\n",
    ")\n",
    "for event in events:\n",
    "    if \"messages\" in event:\n",
    "        event[\"messages\"][-1].pretty_print()"
   ]
  },
  {
   "cell_type": "code",
   "execution_count": 24,
   "id": "85da9702-d5c0-47e9-ac00-681fe671356b",
   "metadata": {},
   "outputs": [
    {
     "name": "stdout",
     "output_type": "stream",
     "text": [
      "================================\u001b[1m Human Message \u001b[0m=================================\n",
      "\n",
      "Ya that's helpful. Maybe I'll build an autonomous agent with it!Can you give me some resources with explaination\n",
      "==================================\u001b[1m Ai Message \u001b[0m==================================\n",
      "Tool Calls:\n",
      "  tavily_search (call_LmsywJCwvGRZPnntIN4Wvee6)\n",
      " Call ID: call_LmsywJCwvGRZPnntIN4Wvee6\n",
      "  Args:\n",
      "    query: LangGraph autonomous agent tutorial\n",
      "    search_depth: advanced\n",
      "=================================\u001b[1m Tool Message \u001b[0m=================================\n",
      "Name: tavily_search\n",
      "\n",
      "{\"query\": \"LangGraph autonomous agent tutorial\", \"follow_up_questions\": null, \"answer\": null, \"images\": [], \"results\": [{\"url\": \"https://www.projectpro.io/article/langgraph/1109\", \"title\": \"LangGraph Tutorial for Beginners to Build AI Agents - ProjectPro\", \"content\": \"Last Updated: 12 Mar 2025  | BY ProjectPro\\nIf you're eager to build intelligent, multi-agent AI systems that don’t just react but remember, adapt, and collaborate, LangGraph is your go-to tool. This LangGraph tutorial will walk you through its core concepts, helping you go beyond basic AI agents to create stateful, multi-agent workflows that handle user input, tool calls, and complex decision-making—all while keeping track of conversation history and agent states.\", \"score\": 0.8619225, \"raw_content\": null}, {\"url\": \"https://langchain-ai.github.io/langgraph/tutorials/introduction/\", \"title\": \"LangGraph Quickstart - GitHub Pages\", \"content\": \"[](https://langchain-ai.github.io/langgraph/tutorials/introduction/#__codelineno-74-20)2. Integration with Large Language Models (LLMs):\\n[](https://langchain-ai.github.io/langgraph/tutorials/introduction/#__codelineno-74-21)   There's a tutorial that specifically mentions using Gemini 2.0 (Google's LLM) with LangGraph to build autonomous agents. This suggests that LangGraph can be integrated with various LLMs, giving you flexibility in choosing the language model that best fits your needs. [...] [](https://langchain-ai.github.io/langgraph/tutorials/introduction/#__codelineno-68-6)[{'text': \\\"That's an exciting idea! Building an autonomous agent with LangGraph is indeed a great application of this technology. LangGraph is particularly well-suited for creating complex, multi-step AI workflows, which is perfect for autonomous agents. Let me gather some more specific information about using LangGraph for building autonomous agents.\\\", 'type': 'text'}, {'id': 'toolu_01QWNHhUaeeWcGXvA4eHT7Zo', [...] [](https://langchain-ai.github.io/langgraph/tutorials/introduction/#__codelineno-74-17)1. Multi-Tool Agents:\\n[](https://langchain-ai.github.io/langgraph/tutorials/introduction/#__codelineno-74-18)   LangGraph is well-suited for building autonomous agents that can use multiple tools. This allows your agent to have a variety of capabilities and choose the appropriate tool based on the task at hand.\\n[](https://langchain-ai.github.io/langgraph/tutorials/introduction/#__codelineno-74-19)\", \"score\": 0.85421735, \"raw_content\": null}], \"response_time\": 2.17}\n",
      "==================================\u001b[1m Ai Message \u001b[0m==================================\n",
      "\n",
      "Here are some valuable resources and tutorials that can help you build an autonomous agent using LangGraph:\n",
      "\n",
      "1. **LangGraph Tutorial for Beginners to Build AI Agents - ProjectPro**:\n",
      "   - This tutorial provides a comprehensive guide to LangGraph, focusing on building intelligent, multi-agent AI systems that are capable of memory, adaptation, and collaboration. It covers core concepts necessary to create stateful, multi-agent workflows that can handle user input, tool calls, and complex decision-making. \n",
      "   - [Read the full tutorial here](https://www.projectpro.io/article/langgraph/1109).\n",
      "\n",
      "2. **LangGraph Quickstart - GitHub Pages**:\n",
      "   - This official quickstart guide offers insights on integrating LangGraph with various Large Language Models (LLMs) such as Google's Gemini 2.0. It discusses the potential for building autonomous agents and how to implement multi-tool capabilities, allowing your agents to use various tools to handle different tasks effectively.\n",
      "   - [Explore the Quickstart Guide](https://langchain-ai.github.io/langgraph/tutorials/introduction/).\n",
      "\n",
      "These resources should provide you with the foundational knowledge and practical steps to start building your autonomous agent with LangGraph. If you need further assistance or specific topics, feel free to ask!\n"
     ]
    }
   ],
   "source": [
    "events = graph.stream(\n",
    "    {\n",
    "        \"messages\": [\n",
    "            {\n",
    "                \"role\": \"user\",\n",
    "                \"content\": (\n",
    "                    \"Ya that's helpful. Maybe I'll \"\n",
    "                    \"build an autonomous agent with it!\"\n",
    "                    \"Can you give me some resources with explaination\"\n",
    "                ),\n",
    "            },\n",
    "        ],\n",
    "    },\n",
    "    config,\n",
    "    stream_mode=\"values\",\n",
    ")\n",
    "for event in events:\n",
    "    if \"messages\" in event:\n",
    "        event[\"messages\"][-1].pretty_print()"
   ]
  },
  {
   "cell_type": "code",
   "execution_count": 27,
   "id": "d3939b88-d651-4ff0-94b2-2ffcbacff158",
   "metadata": {},
   "outputs": [
    {
     "name": "stdout",
     "output_type": "stream",
     "text": [
      "Num Messages:  8 Next:  ()\n",
      "--------------------------------------------------------------------------------\n",
      "Num Messages:  7 Next:  ('chatbot',)\n",
      "--------------------------------------------------------------------------------\n",
      "Num Messages:  6 Next:  ('tools',)\n",
      "--------------------------------------------------------------------------------\n",
      "Num Messages:  5 Next:  ('chatbot',)\n",
      "--------------------------------------------------------------------------------\n",
      "Num Messages:  4 Next:  ('__start__',)\n",
      "--------------------------------------------------------------------------------\n",
      "Num Messages:  4 Next:  ()\n",
      "--------------------------------------------------------------------------------\n",
      "Num Messages:  3 Next:  ('chatbot',)\n",
      "--------------------------------------------------------------------------------\n",
      "Num Messages:  2 Next:  ('tools',)\n",
      "--------------------------------------------------------------------------------\n",
      "Num Messages:  1 Next:  ('chatbot',)\n",
      "--------------------------------------------------------------------------------\n",
      "Num Messages:  0 Next:  ('__start__',)\n",
      "--------------------------------------------------------------------------------\n"
     ]
    }
   ],
   "source": [
    "to_replay = None\n",
    "for state in graph.get_state_history(config):\n",
    "    print(\"Num Messages: \", len(state.values[\"messages\"]), \"Next: \", state.next)\n",
    "    print(\"-\" * 80)\n",
    "    if len(state.values[\"messages\"]) == 6:\n",
    "        # We are somewhat arbitrarily selecting a specific state based on the number of chat messages in the state.\n",
    "        to_replay = state"
   ]
  },
  {
   "cell_type": "code",
   "execution_count": 28,
   "id": "f78ff90c-69d0-49e7-97a9-19299018aeb5",
   "metadata": {},
   "outputs": [
    {
     "name": "stdout",
     "output_type": "stream",
     "text": [
      "('tools',)\n",
      "{'configurable': {'thread_id': '1122', 'checkpoint_ns': '', 'checkpoint_id': '1f033d9e-252b-629c-8006-9708e4d2bb09'}}\n"
     ]
    }
   ],
   "source": [
    "print(to_replay.next)\n",
    "print(to_replay.config)"
   ]
  },
  {
   "cell_type": "code",
   "execution_count": 29,
   "id": "d180182f-a94e-461f-b5c2-9f6940ce05eb",
   "metadata": {},
   "outputs": [
    {
     "name": "stdout",
     "output_type": "stream",
     "text": [
      "==================================\u001b[1m Ai Message \u001b[0m==================================\n",
      "Tool Calls:\n",
      "  tavily_search (call_LmsywJCwvGRZPnntIN4Wvee6)\n",
      " Call ID: call_LmsywJCwvGRZPnntIN4Wvee6\n",
      "  Args:\n",
      "    query: LangGraph autonomous agent tutorial\n",
      "    search_depth: advanced\n",
      "=================================\u001b[1m Tool Message \u001b[0m=================================\n",
      "Name: tavily_search\n",
      "\n",
      "{\"query\": \"LangGraph autonomous agent tutorial\", \"follow_up_questions\": null, \"answer\": null, \"images\": [], \"results\": [{\"url\": \"https://www.projectpro.io/article/langgraph/1109\", \"title\": \"LangGraph Tutorial for Beginners to Build AI Agents - ProjectPro\", \"content\": \"Last Updated: 12 Mar 2025  | BY ProjectPro\\nIf you're eager to build intelligent, multi-agent AI systems that don’t just react but remember, adapt, and collaborate, LangGraph is your go-to tool. This LangGraph tutorial will walk you through its core concepts, helping you go beyond basic AI agents to create stateful, multi-agent workflows that handle user input, tool calls, and complex decision-making—all while keeping track of conversation history and agent states.\", \"score\": 0.8619225, \"raw_content\": null}, {\"url\": \"https://langchain-ai.github.io/langgraph/tutorials/introduction/\", \"title\": \"LangGraph Quickstart - GitHub Pages\", \"content\": \"[](https://langchain-ai.github.io/langgraph/tutorials/introduction/#__codelineno-74-20)2. Integration with Large Language Models (LLMs):\\n[](https://langchain-ai.github.io/langgraph/tutorials/introduction/#__codelineno-74-21)   There's a tutorial that specifically mentions using Gemini 2.0 (Google's LLM) with LangGraph to build autonomous agents. This suggests that LangGraph can be integrated with various LLMs, giving you flexibility in choosing the language model that best fits your needs. [...] [](https://langchain-ai.github.io/langgraph/tutorials/introduction/#__codelineno-68-6)[{'text': \\\"That's an exciting idea! Building an autonomous agent with LangGraph is indeed a great application of this technology. LangGraph is particularly well-suited for creating complex, multi-step AI workflows, which is perfect for autonomous agents. Let me gather some more specific information about using LangGraph for building autonomous agents.\\\", 'type': 'text'}, {'id': 'toolu_01QWNHhUaeeWcGXvA4eHT7Zo', [...] [](https://langchain-ai.github.io/langgraph/tutorials/introduction/#__codelineno-74-17)1. Multi-Tool Agents:\\n[](https://langchain-ai.github.io/langgraph/tutorials/introduction/#__codelineno-74-18)   LangGraph is well-suited for building autonomous agents that can use multiple tools. This allows your agent to have a variety of capabilities and choose the appropriate tool based on the task at hand.\\n[](https://langchain-ai.github.io/langgraph/tutorials/introduction/#__codelineno-74-19)\", \"score\": 0.85421735, \"raw_content\": null}], \"response_time\": 1.89}\n",
      "==================================\u001b[1m Ai Message \u001b[0m==================================\n",
      "\n",
      "Here are some valuable resources to help you build autonomous agents using LangGraph:\n",
      "\n",
      "1. **LangGraph Tutorial for Beginners**:\n",
      "   - This comprehensive tutorial from ProjectPro is designed to help you build intelligent, multi-agent AI systems. You will learn the core concepts of LangGraph, focusing on creating stateful workflows that manage user input, tool calls, and complex decision-making while maintaining conversation history and agent states.\n",
      "   - [Read the tutorial here](https://www.projectpro.io/article/langgraph/1109)\n",
      "\n",
      "2. **LangGraph Quickstart**:\n",
      "   - This page provides a quickstart guide to using LangGraph, including how to integrate it with various Large Language Models (LLMs) such as Gemini 2.0 (Google's LLM). The tutorial discusses building autonomous agents and highlights LangGraph's capabilities for creating complex AI workflows. It emphasizes the potential for multi-tool agents, allowing you to equip your agent with a variety of capabilities tailored to different tasks.\n",
      "   - [Explore the quickstart guide](https://langchain-ai.github.io/langgraph/tutorials/introduction/)\n",
      "\n",
      "These resources will help you understand the intricacies of LangGraph and guide you in developing your autonomous agent. Happy coding! If you have any more questions or need further assistance, feel free to ask!\n"
     ]
    }
   ],
   "source": [
    "# The `checkpoint_id` in the `to_replay.config` corresponds to a state we've persisted to our checkpointer.\n",
    "for event in graph.stream(None, to_replay.config, stream_mode=\"values\"):\n",
    "    if \"messages\" in event:\n",
    "        event[\"messages\"][-1].pretty_print()"
   ]
  },
  {
   "cell_type": "code",
   "execution_count": null,
   "id": "731c3c7b-e2f0-4d50-b1fd-3e070ab114a1",
   "metadata": {},
   "outputs": [],
   "source": []
  }
 ],
 "metadata": {
  "kernelspec": {
   "display_name": "Python 3 (ipykernel)",
   "language": "python",
   "name": "python3"
  },
  "language_info": {
   "codemirror_mode": {
    "name": "ipython",
    "version": 3
   },
   "file_extension": ".py",
   "mimetype": "text/x-python",
   "name": "python",
   "nbconvert_exporter": "python",
   "pygments_lexer": "ipython3",
   "version": "3.12.9"
  }
 },
 "nbformat": 4,
 "nbformat_minor": 5
}
