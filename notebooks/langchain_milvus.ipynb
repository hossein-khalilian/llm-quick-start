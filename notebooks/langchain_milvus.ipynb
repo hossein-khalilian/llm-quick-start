{
 "cells": [
  {
   "cell_type": "code",
   "execution_count": 1,
   "id": "07f11e81-b798-4cb5-8956-1e8e5b53337b",
   "metadata": {
    "execution": {
     "iopub.execute_input": "2025-05-25T10:22:16.056351Z",
     "iopub.status.busy": "2025-05-25T10:22:16.055593Z",
     "iopub.status.idle": "2025-05-25T10:22:16.106813Z",
     "shell.execute_reply": "2025-05-25T10:22:16.106052Z",
     "shell.execute_reply.started": "2025-05-25T10:22:16.056277Z"
    }
   },
   "outputs": [
    {
     "data": {
      "text/plain": [
       "True"
      ]
     },
     "execution_count": 1,
     "metadata": {},
     "output_type": "execute_result"
    }
   ],
   "source": [
    "from dotenv import load_dotenv\n",
    "load_dotenv()"
   ]
  },
  {
   "cell_type": "code",
   "execution_count": 2,
   "id": "fca9f3e7-3bcd-4b18-945a-e4b20ad1b806",
   "metadata": {
    "execution": {
     "iopub.execute_input": "2025-05-25T10:22:16.109502Z",
     "iopub.status.busy": "2025-05-25T10:22:16.107669Z",
     "iopub.status.idle": "2025-05-25T10:22:17.510276Z",
     "shell.execute_reply": "2025-05-25T10:22:17.509430Z",
     "shell.execute_reply.started": "2025-05-25T10:22:16.109468Z"
    }
   },
   "outputs": [],
   "source": [
    "import getpass\n",
    "import os\n",
    "\n",
    "if not os.environ.get(\"OPENAI_API_KEY\"):\n",
    "  os.environ[\"OPENAI_API_KEY\"] = getpass.getpass(\"Enter API key for OpenAI: \")\n",
    "\n",
    "from langchain_openai import OpenAIEmbeddings\n",
    "\n",
    "embeddings = OpenAIEmbeddings(model=\"text-embedding-3-large\")"
   ]
  },
  {
   "cell_type": "code",
   "execution_count": 3,
   "id": "f11a837f-d3e0-488e-b3c2-da2e07e1ff50",
   "metadata": {
    "execution": {
     "iopub.execute_input": "2025-05-25T10:22:17.511249Z",
     "iopub.status.busy": "2025-05-25T10:22:17.510997Z",
     "iopub.status.idle": "2025-05-25T10:22:17.515919Z",
     "shell.execute_reply": "2025-05-25T10:22:17.515080Z",
     "shell.execute_reply.started": "2025-05-25T10:22:17.511226Z"
    }
   },
   "outputs": [],
   "source": [
    "def drop_db_with_collections(db_name):\n",
    "    try:\n",
    "        client.use_database(db_name)\n",
    "        for collection in client.list_collections():\n",
    "            client.drop_collection(collection)\n",
    "    \n",
    "        client.drop_database(db_name)\n",
    "    \n",
    "        return True\n",
    "\n",
    "    except Exception as e:\n",
    "        print(e.message)\n",
    "        return False"
   ]
  },
  {
   "cell_type": "code",
   "execution_count": 14,
   "id": "06111533-54f9-4f09-833b-3e408de5faee",
   "metadata": {
    "execution": {
     "iopub.execute_input": "2025-05-25T10:23:47.096580Z",
     "iopub.status.busy": "2025-05-25T10:23:47.095327Z",
     "iopub.status.idle": "2025-05-25T10:23:48.275404Z",
     "shell.execute_reply": "2025-05-25T10:23:48.274308Z",
     "shell.execute_reply.started": "2025-05-25T10:23:47.096506Z"
    }
   },
   "outputs": [
    {
     "name": "stderr",
     "output_type": "stream",
     "text": [
      "2025-05-25 10:23:48,267 [ERROR][handler]: RPC error: [create_database], <MilvusException: (code=65535, message=database already exist: milvus_example)>, <Time:{'RPC start': '2025-05-25 10:23:48.265455', 'RPC error': '2025-05-25 10:23:48.267879'}> (decorators.py:140)\n"
     ]
    },
    {
     "name": "stdout",
     "output_type": "stream",
     "text": [
      "database already exist: milvus_example\n"
     ]
    },
    {
     "data": {
      "text/plain": [
       "['milvus_quick_start',\n",
       " 'langchain_example',\n",
       " 'milvus_demo',\n",
       " 'milvus_example',\n",
       " 'default']"
      ]
     },
     "execution_count": 14,
     "metadata": {},
     "output_type": "execute_result"
    }
   ],
   "source": [
    "from pymilvus import MilvusClient\n",
    "\n",
    "base_url = \"host.docker.internal\"\n",
    "URI = f\"http://{base_url}:19530\"\n",
    "client = MilvusClient(\n",
    "    uri=URI,\n",
    ")\n",
    "\n",
    "db_name=\"milvus_example\"\n",
    "\n",
    "# drop_db_with_collections(db_name)\n",
    "\n",
    "try:\n",
    "    client.create_database(db_name=db_name)\n",
    "except Exception as e:\n",
    "    print(e.message)\n",
    "    \n",
    "client.list_databases()"
   ]
  },
  {
   "cell_type": "code",
   "execution_count": 15,
   "id": "c4b9fe87-629f-49cb-acbe-43f97dd4b63a",
   "metadata": {
    "execution": {
     "iopub.execute_input": "2025-05-25T10:23:48.276709Z",
     "iopub.status.busy": "2025-05-25T10:23:48.276413Z",
     "iopub.status.idle": "2025-05-25T10:23:50.282396Z",
     "shell.execute_reply": "2025-05-25T10:23:50.280125Z",
     "shell.execute_reply.started": "2025-05-25T10:23:48.276686Z"
    }
   },
   "outputs": [],
   "source": [
    "from langchain_milvus import Milvus\n",
    "\n",
    "vector_store = Milvus(\n",
    "    embedding_function=embeddings,\n",
    "    connection_args={\"uri\": f\"http://{base_url}:19530\", \"db_name\": db_name},\n",
    "    index_params={\"index_type\": \"FLAT\", \"metric_type\": \"L2\"},\n",
    "    # auto_id=True,\n",
    ")"
   ]
  },
  {
   "cell_type": "code",
   "execution_count": 16,
   "id": "e668e5d6-169c-4f52-83fe-d5f3fc5efb51",
   "metadata": {
    "execution": {
     "iopub.execute_input": "2025-05-25T10:23:50.285764Z",
     "iopub.status.busy": "2025-05-25T10:23:50.284395Z",
     "iopub.status.idle": "2025-05-25T10:23:50.303448Z",
     "shell.execute_reply": "2025-05-25T10:23:50.301085Z",
     "shell.execute_reply.started": "2025-05-25T10:23:50.285667Z"
    }
   },
   "outputs": [],
   "source": [
    "from uuid import uuid4\n",
    "\n",
    "from langchain_core.documents import Document\n",
    "\n",
    "document_1 = Document(\n",
    "    page_content=\"I had chocolate chip pancakes and scrambled eggs for breakfast this morning.\",\n",
    "    metadata={\"source\": \"tweet\"},\n",
    ")\n",
    "\n",
    "document_2 = Document(\n",
    "    page_content=\"The weather forecast for tomorrow is cloudy and overcast, with a high of 62 degrees.\",\n",
    "    metadata={\"source\": \"news\"},\n",
    ")\n",
    "\n",
    "document_3 = Document(\n",
    "    page_content=\"Building an exciting new project with LangChain - come check it out!\",\n",
    "    metadata={\"source\": \"tweet\"},\n",
    ")\n",
    "\n",
    "document_4 = Document(\n",
    "    page_content=\"Robbers broke into the city bank and stole $1 million in cash.\",\n",
    "    metadata={\"source\": \"news\"},\n",
    ")\n",
    "\n",
    "document_5 = Document(\n",
    "    page_content=\"Wow! That was an amazing movie. I can't wait to see it again.\",\n",
    "    metadata={\"source\": \"tweet\"},\n",
    ")\n",
    "\n",
    "document_6 = Document(\n",
    "    page_content=\"Is the new iPhone worth the price? Read this review to find out.\",\n",
    "    metadata={\"source\": \"website\"},\n",
    ")\n",
    "\n",
    "document_7 = Document(\n",
    "    page_content=\"The top 10 soccer players in the world right now.\",\n",
    "    metadata={\"source\": \"website\"},\n",
    ")\n",
    "\n",
    "document_8 = Document(\n",
    "    page_content=\"LangGraph is the best framework for building stateful, agentic applications!\",\n",
    "    metadata={\"source\": \"tweet\"},\n",
    ")\n",
    "\n",
    "document_9 = Document(\n",
    "    page_content=\"The stock market is down 500 points today due to fears of a recession.\",\n",
    "    metadata={\"source\": \"news\"},\n",
    ")\n",
    "\n",
    "document_10 = Document(\n",
    "    page_content=\"I have a bad feeling I am going to get deleted :(\",\n",
    "    metadata={\"source\": \"tweet\"},\n",
    ")\n",
    "\n",
    "documents = [\n",
    "    document_1,\n",
    "    document_2,\n",
    "    document_3,\n",
    "    document_4,\n",
    "    document_5,\n",
    "    document_6,\n",
    "    document_7,\n",
    "    document_8,\n",
    "    document_9,\n",
    "    document_10,\n",
    "]\n",
    "uuids = [str(uuid4()) for _ in range(len(documents))]"
   ]
  },
  {
   "cell_type": "code",
   "execution_count": 17,
   "id": "653aa453-e177-49c6-b685-9ad8f473cde8",
   "metadata": {
    "execution": {
     "iopub.execute_input": "2025-05-25T10:23:50.308310Z",
     "iopub.status.busy": "2025-05-25T10:23:50.307319Z",
     "iopub.status.idle": "2025-05-25T10:23:53.662315Z",
     "shell.execute_reply": "2025-05-25T10:23:53.659610Z",
     "shell.execute_reply.started": "2025-05-25T10:23:50.308239Z"
    }
   },
   "outputs": [
    {
     "data": {
      "text/plain": [
       "['a22c84ae-8308-41ea-9022-d91ab40c8abe',\n",
       " '9fa7bbab-a027-431a-9749-19bf2b7e9db8',\n",
       " '81d0ac68-bdbc-4c24-bb46-f4c4151cf2c1',\n",
       " '15189f45-234d-4d49-9a70-4f488e5eb965',\n",
       " 'b48abbaa-089f-459e-9459-15d67f3e1f58',\n",
       " 'f0961880-3cd8-45e1-8eb7-235aa321606e',\n",
       " '92cd8245-b457-4595-8b8d-3cbf73683a3c',\n",
       " '7916739d-91bd-44ac-9801-3bf23cbb52b9',\n",
       " '7c1a816f-72b9-4080-8f4e-539166750413',\n",
       " 'a05a4389-ad6b-42a8-9c4b-029da42a3406']"
      ]
     },
     "execution_count": 17,
     "metadata": {},
     "output_type": "execute_result"
    }
   ],
   "source": [
    "ids = vector_store.add_documents(documents=documents, ids=uuids)\n",
    "ids"
   ]
  },
  {
   "cell_type": "code",
   "execution_count": 18,
   "id": "0b158bb7-dcf3-43a0-8bed-e290721ed94d",
   "metadata": {
    "execution": {
     "iopub.execute_input": "2025-05-25T10:23:53.664812Z",
     "iopub.status.busy": "2025-05-25T10:23:53.664025Z",
     "iopub.status.idle": "2025-05-25T10:23:58.617184Z",
     "shell.execute_reply": "2025-05-25T10:23:58.614866Z",
     "shell.execute_reply.started": "2025-05-25T10:23:53.664684Z"
    }
   },
   "outputs": [],
   "source": [
    "from langchain_milvus import BM25BuiltInFunction, Milvus\n",
    "from langchain_openai import OpenAIEmbeddings\n",
    "\n",
    "vectorstore = Milvus.from_documents(\n",
    "    documents=documents,\n",
    "    embedding=OpenAIEmbeddings(),\n",
    "    builtin_function=BM25BuiltInFunction(),\n",
    "    # `dense` is for OpenAI embeddings, `sparse` is the output field of BM25 function\n",
    "    vector_field=[\"dense\", \"sparse\"],\n",
    "    connection_args={\n",
    "        \"uri\": URI,\n",
    "    },\n",
    "    consistency_level=\"Strong\",\n",
    "    drop_old=True,\n",
    ")"
   ]
  },
  {
   "cell_type": "code",
   "execution_count": 24,
   "id": "b8babd2c-5cb0-4d18-bd8f-8339f2f14a85",
   "metadata": {
    "execution": {
     "iopub.execute_input": "2025-05-25T10:32:17.422110Z",
     "iopub.status.busy": "2025-05-25T10:32:17.421295Z",
     "iopub.status.idle": "2025-05-25T10:32:19.366538Z",
     "shell.execute_reply": "2025-05-25T10:32:19.365696Z",
     "shell.execute_reply.started": "2025-05-25T10:32:17.422033Z"
    }
   },
   "outputs": [
    {
     "data": {
      "text/plain": [
       "[(Document(metadata={'source': 'tweet', 'pk': 458266833003756618}, page_content='I had chocolate chip pancakes and scrambled eggs for breakfast this morning.'),\n",
       "  1.4779618978500366),\n",
       " (Document(metadata={'source': 'news', 'pk': 458266833003756621}, page_content='Robbers broke into the city bank and stole $1 million in cash.'),\n",
       "  0.6912291646003723),\n",
       " (Document(metadata={'source': 'tweet', 'pk': 458266833003756622}, page_content=\"Wow! That was an amazing movie. I can't wait to see it again.\"),\n",
       "  0.6895994544029236),\n",
       " (Document(metadata={'source': 'website', 'pk': 458266833003756624}, page_content='The top 10 soccer players in the world right now.'),\n",
       "  0.6816434264183044)]"
      ]
     },
     "execution_count": 24,
     "metadata": {},
     "output_type": "execute_result"
    }
   ],
   "source": [
    "vectorstore.similarity_search_with_score(\"chocolate\")"
   ]
  },
  {
   "cell_type": "code",
   "execution_count": 25,
   "id": "91ae11ca-6800-4413-b240-3af0111c95c7",
   "metadata": {
    "execution": {
     "iopub.execute_input": "2025-05-25T10:32:21.344141Z",
     "iopub.status.busy": "2025-05-25T10:32:21.343876Z",
     "iopub.status.idle": "2025-05-25T10:32:21.348769Z",
     "shell.execute_reply": "2025-05-25T10:32:21.348179Z",
     "shell.execute_reply.started": "2025-05-25T10:32:21.344115Z"
    }
   },
   "outputs": [
    {
     "data": {
      "text/plain": [
       "['text', 'pk', 'dense', 'sparse', 'source']"
      ]
     },
     "execution_count": 25,
     "metadata": {},
     "output_type": "execute_result"
    }
   ],
   "source": [
    "vectorstore.fields"
   ]
  }
 ],
 "metadata": {
  "kernelspec": {
   "display_name": "Python 3 (ipykernel)",
   "language": "python",
   "name": "python3"
  },
  "language_info": {
   "codemirror_mode": {
    "name": "ipython",
    "version": 3
   },
   "file_extension": ".py",
   "mimetype": "text/x-python",
   "name": "python",
   "nbconvert_exporter": "python",
   "pygments_lexer": "ipython3",
   "version": "3.12.9"
  }
 },
 "nbformat": 4,
 "nbformat_minor": 5
}
