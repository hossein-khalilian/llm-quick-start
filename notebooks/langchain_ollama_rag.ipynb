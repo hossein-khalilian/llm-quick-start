{
 "cells": [
  {
   "cell_type": "markdown",
   "id": "c7b4790f-b792-4745-8836-b4e9243a74cc",
   "metadata": {
    "jp-MarkdownHeadingCollapsed": true
   },
   "source": [
    "# setup"
   ]
  },
  {
   "cell_type": "code",
   "execution_count": 2,
   "id": "7287be26-224a-4792-bc92-1793161c1021",
   "metadata": {
    "execution": {
     "iopub.execute_input": "2025-05-19T13:02:53.427692Z",
     "iopub.status.busy": "2025-05-19T13:02:53.427431Z",
     "iopub.status.idle": "2025-05-19T13:02:53.431399Z",
     "shell.execute_reply": "2025-05-19T13:02:53.430645Z",
     "shell.execute_reply.started": "2025-05-19T13:02:53.427669Z"
    }
   },
   "outputs": [],
   "source": [
    "# !proxychains pip install -U langchain-ollama ollama"
   ]
  },
  {
   "cell_type": "code",
   "execution_count": 5,
   "id": "fa800dfd-619a-433b-97e8-cf6efddcca0a",
   "metadata": {
    "execution": {
     "iopub.execute_input": "2025-05-20T08:09:33.724457Z",
     "iopub.status.busy": "2025-05-20T08:09:33.724170Z",
     "iopub.status.idle": "2025-05-20T08:09:33.730503Z",
     "shell.execute_reply": "2025-05-20T08:09:33.728980Z",
     "shell.execute_reply.started": "2025-05-20T08:09:33.724433Z"
    }
   },
   "outputs": [
    {
     "data": {
      "text/plain": [
       "{0: 'gemma3:12b',\n",
       " 1: 'gemma3:27b',\n",
       " 2: 'gemma2:27b',\n",
       " 3: 'gemma2:9b',\n",
       " 4: 'qwen3:32b',\n",
       " 5: 'qwen3:14b',\n",
       " 6: 'qwen2.5:32b',\n",
       " 7: 'qwen2.5:7b',\n",
       " 8: 'mistral-small3.1:24b'}"
      ]
     },
     "execution_count": 5,
     "metadata": {},
     "output_type": "execute_result"
    }
   ],
   "source": [
    "models = [\n",
    "    \"gemma3:12b\", # gemma3\n",
    "    \"gemma3:27b\",\n",
    "    \"gemma2:27b\", # gemma2\n",
    "    \"gemma2:9b\",\n",
    "    \"qwen3:32b\", # qwen3\n",
    "    \"qwen3:14b\",\n",
    "    \"qwen2.5:32b\", # qwen2.5\n",
    "    \"qwen2.5:7b\",\n",
    "    \"mistral-small3.1:24b\" # misteral\n",
    "]\n",
    "models = dict(zip(range(len(models)), models))\n",
    "models"
   ]
  },
  {
   "cell_type": "code",
   "execution_count": 6,
   "id": "10b6e15d-b5b6-4035-89c0-9e1253295224",
   "metadata": {
    "execution": {
     "iopub.execute_input": "2025-05-20T08:09:33.993908Z",
     "iopub.status.busy": "2025-05-20T08:09:33.993481Z",
     "iopub.status.idle": "2025-05-20T08:09:33.999204Z",
     "shell.execute_reply": "2025-05-20T08:09:33.998283Z",
     "shell.execute_reply.started": "2025-05-20T08:09:33.993876Z"
    }
   },
   "outputs": [
    {
     "data": {
      "text/plain": [
       "'qwen3:32b'"
      ]
     },
     "execution_count": 6,
     "metadata": {},
     "output_type": "execute_result"
    }
   ],
   "source": [
    "model = models[4]\n",
    "model"
   ]
  },
  {
   "cell_type": "code",
   "execution_count": 7,
   "id": "7496f95e-797c-43cb-98d8-322cad86d9ab",
   "metadata": {
    "execution": {
     "iopub.execute_input": "2025-05-20T08:09:34.917487Z",
     "iopub.status.busy": "2025-05-20T08:09:34.916061Z",
     "iopub.status.idle": "2025-05-20T08:09:34.980926Z",
     "shell.execute_reply": "2025-05-20T08:09:34.980140Z",
     "shell.execute_reply.started": "2025-05-20T08:09:34.917403Z"
    }
   },
   "outputs": [],
   "source": [
    "base_url=\"http://host.docker.internal:11434\"\n",
    "\n",
    "from langchain_ollama import ChatOllama\n",
    "llm = ChatOllama(\n",
    "    model=model,\n",
    "    base_url=base_url,\n",
    ")\n",
    "\n",
    "from langchain_ollama import OllamaEmbeddings\n",
    "\n",
    "embeddings = OllamaEmbeddings(\n",
    "    model=\"mxbai-embed-large\",\n",
    "    base_url=base_url,\n",
    ")"
   ]
  },
  {
   "cell_type": "code",
   "execution_count": 8,
   "id": "2829ce10-71fb-4a61-9835-de6804f00ec5",
   "metadata": {
    "execution": {
     "iopub.execute_input": "2025-05-20T08:09:37.184910Z",
     "iopub.status.busy": "2025-05-20T08:09:37.184449Z",
     "iopub.status.idle": "2025-05-20T08:09:37.212819Z",
     "shell.execute_reply": "2025-05-20T08:09:37.212222Z",
     "shell.execute_reply.started": "2025-05-20T08:09:37.184863Z"
    }
   },
   "outputs": [],
   "source": [
    "from langchain_core.vectorstores import InMemoryVectorStore\n",
    "\n",
    "vector_store = InMemoryVectorStore(embeddings)"
   ]
  },
  {
   "cell_type": "markdown",
   "id": "90ea5f5e-4347-4b2f-8aed-c81bc3c0d292",
   "metadata": {
    "jp-MarkdownHeadingCollapsed": true
   },
   "source": [
    "# Load documents"
   ]
  },
  {
   "cell_type": "code",
   "execution_count": 9,
   "id": "d57d8057-55f0-4303-bffc-de3ec9648835",
   "metadata": {
    "execution": {
     "iopub.execute_input": "2025-05-20T08:09:39.451224Z",
     "iopub.status.busy": "2025-05-20T08:09:39.449219Z",
     "iopub.status.idle": "2025-05-20T08:09:40.459351Z",
     "shell.execute_reply": "2025-05-20T08:09:40.458617Z",
     "shell.execute_reply.started": "2025-05-20T08:09:39.451157Z"
    }
   },
   "outputs": [
    {
     "name": "stderr",
     "output_type": "stream",
     "text": [
      "USER_AGENT environment variable not set, consider setting it to identify your requests.\n"
     ]
    }
   ],
   "source": [
    "import bs4\n",
    "from langchain import hub\n",
    "from langchain_community.document_loaders import WebBaseLoader\n",
    "from langchain_core.documents import Document\n",
    "from langchain_text_splitters import RecursiveCharacterTextSplitter\n",
    "from typing_extensions import List, TypedDict\n",
    "\n",
    "# Load and chunk contents of the blog\n",
    "loader = WebBaseLoader(\n",
    "    web_paths=(\"https://lilianweng.github.io/posts/2023-06-23-agent/\",),\n",
    "    bs_kwargs=dict(\n",
    "        parse_only=bs4.SoupStrainer(\n",
    "            class_=(\"post-content\", \"post-title\", \"post-header\")\n",
    "        )\n",
    "    ),\n",
    ")\n",
    "docs = loader.load()\n",
    "\n",
    "text_splitter = RecursiveCharacterTextSplitter(chunk_size=1000, chunk_overlap=200) # openai file search chunck_size=800, chuck_overlap=400\n",
    "all_splits = text_splitter.split_documents(docs)"
   ]
  },
  {
   "cell_type": "code",
   "execution_count": 10,
   "id": "442354e6-4155-49a6-a90a-38a9774a1e6e",
   "metadata": {
    "execution": {
     "iopub.execute_input": "2025-05-20T08:09:40.460429Z",
     "iopub.status.busy": "2025-05-20T08:09:40.460169Z",
     "iopub.status.idle": "2025-05-20T08:09:42.710829Z",
     "shell.execute_reply": "2025-05-20T08:09:42.709799Z",
     "shell.execute_reply.started": "2025-05-20T08:09:40.460405Z"
    }
   },
   "outputs": [],
   "source": [
    "# Index chunks\n",
    "_ = vector_store.add_documents(documents=all_splits)"
   ]
  },
  {
   "cell_type": "markdown",
   "id": "aa25581f-5eb5-4632-bf17-30ec3e465a5e",
   "metadata": {
    "jp-MarkdownHeadingCollapsed": true
   },
   "source": [
    "# tool calling"
   ]
  },
  {
   "cell_type": "code",
   "execution_count": 11,
   "id": "4695a874-70b2-4c4e-9bf2-de7514708d2d",
   "metadata": {
    "execution": {
     "iopub.execute_input": "2025-05-20T08:09:42.712563Z",
     "iopub.status.busy": "2025-05-20T08:09:42.712222Z",
     "iopub.status.idle": "2025-05-20T08:09:42.741718Z",
     "shell.execute_reply": "2025-05-20T08:09:42.740990Z",
     "shell.execute_reply.started": "2025-05-20T08:09:42.712532Z"
    }
   },
   "outputs": [],
   "source": [
    "from langchain_core.tools import tool\n",
    "\n",
    "\n",
    "@tool(response_format=\"content_and_artifact\")\n",
    "def retrieve(query: str):\n",
    "    \"\"\"Retrieve information related to a query.\"\"\"\n",
    "    retrieved_docs = vector_store.similarity_search(query, k=2)\n",
    "    serialized = \"\\n\\n\".join(\n",
    "        (f\"Source: {doc.metadata}\\n\" f\"Content: {doc.page_content}\")\n",
    "        for doc in retrieved_docs\n",
    "    )\n",
    "    return serialized, retrieved_docs"
   ]
  },
  {
   "cell_type": "code",
   "execution_count": 12,
   "id": "a5c419cf-03f9-42bf-b37a-1eb0af08a037",
   "metadata": {
    "execution": {
     "iopub.execute_input": "2025-05-20T08:09:42.742592Z",
     "iopub.status.busy": "2025-05-20T08:09:42.742382Z",
     "iopub.status.idle": "2025-05-20T08:09:42.811204Z",
     "shell.execute_reply": "2025-05-20T08:09:42.810425Z",
     "shell.execute_reply.started": "2025-05-20T08:09:42.742571Z"
    }
   },
   "outputs": [],
   "source": [
    "from langgraph.graph import MessagesState, StateGraph\n",
    "\n",
    "graph_builder = StateGraph(MessagesState)\n",
    "\n",
    "from langchain_core.messages import SystemMessage\n",
    "from langgraph.prebuilt import ToolNode\n",
    "\n",
    "\n",
    "# Step 1: Generate an AIMessage that may include a tool-call to be sent.\n",
    "def query_or_respond(state: MessagesState):\n",
    "    \"\"\"Generate tool call for retrieval or respond.\"\"\"\n",
    "    llm_with_tools = llm.bind_tools([retrieve])\n",
    "    response = llm_with_tools.invoke(state[\"messages\"])\n",
    "    # MessagesState appends messages to state instead of overwriting\n",
    "    return {\"messages\": [response]}\n",
    "\n",
    "\n",
    "# Step 2: Execute the retrieval.\n",
    "tools = ToolNode([retrieve])\n",
    "\n",
    "\n",
    "# Step 3: Generate a response using the retrieved content.\n",
    "def generate(state: MessagesState):\n",
    "    \"\"\"Generate answer.\"\"\"\n",
    "    # Get generated ToolMessages\n",
    "    recent_tool_messages = []\n",
    "    for message in reversed(state[\"messages\"]):\n",
    "        if message.type == \"tool\":\n",
    "            recent_tool_messages.append(message)\n",
    "        else:\n",
    "            break\n",
    "    tool_messages = recent_tool_messages[::-1]\n",
    "\n",
    "    # Format into prompt\n",
    "    docs_content = \"\\n\\n\".join(doc.content for doc in tool_messages)\n",
    "    system_message_content = (\n",
    "        \"You are an assistant for question-answering tasks. \"\n",
    "        \"Use the following pieces of retrieved context to answer \"\n",
    "        \"the question. If you don't know the answer, say that you \"\n",
    "        \"don't know. Use three sentences maximum and keep the \"\n",
    "        \"answer concise.\"\n",
    "        \"\\n\\n\"\n",
    "        f\"{docs_content}\"\n",
    "    )\n",
    "    conversation_messages = [\n",
    "        message\n",
    "        for message in state[\"messages\"]\n",
    "        if message.type in (\"human\", \"system\")\n",
    "        or (message.type == \"ai\" and not message.tool_calls)\n",
    "    ]\n",
    "    prompt = [SystemMessage(system_message_content)] + conversation_messages\n",
    "\n",
    "    # Run\n",
    "    response = llm.invoke(prompt)\n",
    "    return {\"messages\": [response]}"
   ]
  },
  {
   "cell_type": "code",
   "execution_count": 13,
   "id": "f0ed7639-9efe-4d92-9ad9-2d70c1e11068",
   "metadata": {
    "execution": {
     "iopub.execute_input": "2025-05-20T08:09:42.812680Z",
     "iopub.status.busy": "2025-05-20T08:09:42.812450Z",
     "iopub.status.idle": "2025-05-20T08:09:44.029493Z",
     "shell.execute_reply": "2025-05-20T08:09:44.028786Z",
     "shell.execute_reply.started": "2025-05-20T08:09:42.812657Z"
    }
   },
   "outputs": [
    {
     "data": {
      "image/png": "[encoded data removed]",
      "text/plain": [
       "<langgraph.graph.state.CompiledStateGraph object at 0x7747352cdd30>"
      ]
     },
     "execution_count": 13,
     "metadata": {},
     "output_type": "execute_result"
    }
   ],
   "source": [
    "from langgraph.graph import END\n",
    "from langgraph.prebuilt import ToolNode, tools_condition\n",
    "\n",
    "graph_builder.add_node(query_or_respond)\n",
    "graph_builder.add_node(tools)\n",
    "graph_builder.add_node(generate)\n",
    "\n",
    "graph_builder.set_entry_point(\"query_or_respond\")\n",
    "graph_builder.add_conditional_edges(\n",
    "    \"query_or_respond\",\n",
    "    tools_condition,\n",
    "    {END: END, \"tools\": \"tools\"},\n",
    ")\n",
    "graph_builder.add_edge(\"tools\", \"generate\")\n",
    "graph_builder.add_edge(\"generate\", END)\n",
    "\n",
    "graph = graph_builder.compile()\n",
    "graph"
   ]
  },
  {
   "cell_type": "markdown",
   "id": "5a9f3c6f-1c7f-440f-a8ae-bc0f91173de3",
   "metadata": {
    "jp-MarkdownHeadingCollapsed": true
   },
   "source": [
    "# Usage"
   ]
  },
  {
   "cell_type": "code",
   "execution_count": 14,
   "id": "a998a310-98f0-455c-a745-939d9cfee0d3",
   "metadata": {
    "execution": {
     "iopub.execute_input": "2025-05-20T08:09:44.030469Z",
     "iopub.status.busy": "2025-05-20T08:09:44.030228Z",
     "iopub.status.idle": "2025-05-20T08:09:44.889440Z",
     "shell.execute_reply": "2025-05-20T08:09:44.886630Z",
     "shell.execute_reply.started": "2025-05-20T08:09:44.030445Z"
    }
   },
   "outputs": [
    {
     "name": "stdout",
     "output_type": "stream",
     "text": [
      "================================\u001b[1m Human Message \u001b[0m=================================\n",
      "\n",
      "/nothink Hello\n",
      "==================================\u001b[1m Ai Message \u001b[0m==================================\n",
      "\n",
      "<think>\n",
      "\n",
      "</think>\n",
      "\n",
      "Hi, how can I help you today?\n"
     ]
    }
   ],
   "source": [
    "input_message = \"Hello\"\n",
    "input_message = f\"/nothink {input_message}\"\n",
    "\n",
    "for step in graph.stream(\n",
    "    {\"messages\": [{\"role\": \"user\", \"content\": input_message}]},\n",
    "    stream_mode=\"values\",\n",
    "):\n",
    "    step[\"messages\"][-1].pretty_print()"
   ]
  },
  {
   "cell_type": "code",
   "execution_count": 15,
   "id": "10773adb-e8b2-459a-a7db-ef6617c00885",
   "metadata": {
    "execution": {
     "iopub.execute_input": "2025-05-20T08:09:44.893141Z",
     "iopub.status.busy": "2025-05-20T08:09:44.892141Z",
     "iopub.status.idle": "2025-05-20T08:09:49.167565Z",
     "shell.execute_reply": "2025-05-20T08:09:49.165669Z",
     "shell.execute_reply.started": "2025-05-20T08:09:44.893084Z"
    }
   },
   "outputs": [
    {
     "name": "stdout",
     "output_type": "stream",
     "text": [
      "================================\u001b[1m Human Message \u001b[0m=================================\n",
      "\n",
      "/nothink What is Task Decomposition?\n",
      "==================================\u001b[1m Ai Message \u001b[0m==================================\n",
      "Tool Calls:\n",
      "  retrieve (5ec283a2-4044-4928-af20-9473a14ca860)\n",
      " Call ID: 5ec283a2-4044-4928-af20-9473a14ca860\n",
      "  Args:\n",
      "    query: What is Task Decomposition?\n",
      "=================================\u001b[1m Tool Message \u001b[0m=================================\n",
      "Name: retrieve\n",
      "\n",
      "Source: {'source': 'https://lilianweng.github.io/posts/2023-06-23-agent/'}\n",
      "Content: Component One: Planning#\n",
      "A complicated task usually involves many steps. An agent needs to know what they are and plan ahead.\n",
      "Task Decomposition#\n",
      "Chain of thought (CoT; Wei et al. 2022) has become a standard prompting technique for enhancing model performance on complex tasks. The model is instructed to “think step by step” to utilize more test-time computation to decompose hard tasks into smaller and simpler steps. CoT transforms big tasks into multiple manageable tasks and shed lights into an interpretation of the model’s thinking process.\n",
      "Tree of Thoughts (Yao et al. 2023) extends CoT by exploring multiple reasoning possibilities at each step. It first decomposes the problem into multiple thought steps and generates multiple thoughts per step, creating a tree structure. The search process can be BFS (breadth-first search) or DFS (depth-first search) with each state evaluated by a classifier (via a prompt) or majority vote.\n",
      "\n",
      "Source: {'source': 'https://lilianweng.github.io/posts/2023-06-23-agent/'}\n",
      "Content: Task decomposition can be done (1) by LLM with simple prompting like \"Steps for XYZ.\\n1.\", \"What are the subgoals for achieving XYZ?\", (2) by using task-specific instructions; e.g. \"Write a story outline.\" for writing a novel, or (3) with human inputs.\n",
      "Another quite distinct approach, LLM+P (Liu et al. 2023), involves relying on an external classical planner to do long-horizon planning. This approach utilizes the Planning Domain Definition Language (PDDL) as an intermediate interface to describe the planning problem. In this process, LLM (1) translates the problem into “Problem PDDL”, then (2) requests a classical planner to generate a PDDL plan based on an existing “Domain PDDL”, and finally (3) translates the PDDL plan back into natural language. Essentially, the planning step is outsourced to an external tool, assuming the availability of domain-specific PDDL and a suitable planner which is common in certain robotic setups but not in many other domains.\n",
      "Self-Reflection#\n",
      "==================================\u001b[1m Ai Message \u001b[0m==================================\n",
      "\n",
      "<think>\n",
      "\n",
      "</think>\n",
      "\n",
      "Task Decomposition is a technique where a complex task is broken down into smaller, more manageable subtasks. This allows an agent or model to handle each part step by step, improving performance and clarity. It can be achieved through prompting, task-specific instructions, or external planning tools like PDDL-based planners.\n"
     ]
    }
   ],
   "source": [
    "input_message = \"What is Task Decomposition?\"\n",
    "input_message = f\"/nothink {input_message}\"\n",
    "\n",
    "for step in graph.stream(\n",
    "    {\"messages\": [{\"role\": \"user\", \"content\": input_message}]},\n",
    "    stream_mode=\"values\",\n",
    "):\n",
    "    step[\"messages\"][-1].pretty_print()"
   ]
  },
  {
   "cell_type": "code",
   "execution_count": null,
   "id": "474faed1-a3be-4eee-87fe-edb7b534e673",
   "metadata": {},
   "outputs": [],
   "source": []
  }
 ],
 "metadata": {
  "kernelspec": {
   "display_name": "Python 3 (ipykernel)",
   "language": "python",
   "name": "python3"
  },
  "language_info": {
   "codemirror_mode": {
    "name": "ipython",
    "version": 3
   },
   "file_extension": ".py",
   "mimetype": "text/x-python",
   "name": "python",
   "nbconvert_exporter": "python",
   "pygments_lexer": "ipython3",
   "version": "3.12.9"
  }
 },
 "nbformat": 4,
 "nbformat_minor": 5
}
