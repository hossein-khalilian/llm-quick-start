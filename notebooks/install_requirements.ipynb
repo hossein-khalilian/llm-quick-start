{
 "cells": [
  {
   "cell_type": "code",
   "execution_count": null,
   "id": "03e58b02-fbb0-44a1-b6e9-968736f52b3a",
   "metadata": {
    "execution": {
     "iopub.execute_input": "2025-08-06T09:22:56.909713Z",
     "iopub.status.busy": "2025-08-06T09:22:56.908209Z",
     "iopub.status.idle": "2025-08-06T09:22:56.932124Z",
     "shell.execute_reply": "2025-08-06T09:22:56.931128Z",
     "shell.execute_reply.started": "2025-08-06T09:22:56.909629Z"
    }
   },
   "outputs": [],
   "source": [
    "!pip install minio\n",
    "!pip install pymilvus"
   ]
  },
  {
   "cell_type": "code",
   "execution_count": 2,
   "id": "f55ee904-0945-4afb-8904-e6d2d8660b18",
   "metadata": {
    "execution": {
     "iopub.execute_input": "2025-08-06T09:24:15.908996Z",
     "iopub.status.busy": "2025-08-06T09:24:15.907583Z",
     "iopub.status.idle": "2025-08-06T09:24:21.955920Z",
     "shell.execute_reply": "2025-08-06T09:24:21.953163Z",
     "shell.execute_reply.started": "2025-08-06T09:24:15.908916Z"
    }
   },
   "outputs": [
    {
     "name": "stdout",
     "output_type": "stream",
     "text": [
      "Collecting langchain-milvus\n",
      "  Downloading langchain_milvus-0.2.1-py3-none-any.whl.metadata (3.8 kB)\n",
      "Requirement already satisfied: langchain-core<0.4,>=0.2.38 in /opt/conda/lib/python3.12/site-packages (from langchain-milvus) (0.3.68)\n",
      "Requirement already satisfied: pymilvus<3.0,>=2.5.7 in /opt/conda/lib/python3.12/site-packages (from langchain-milvus) (2.6.0)\n",
      "Requirement already satisfied: langsmith>=0.3.45 in /opt/conda/lib/python3.12/site-packages (from langchain-core<0.4,>=0.2.38->langchain-milvus) (0.4.5)\n",
      "Requirement already satisfied: tenacity!=8.4.0,<10.0.0,>=8.1.0 in /opt/conda/lib/python3.12/site-packages (from langchain-core<0.4,>=0.2.38->langchain-milvus) (9.1.2)\n",
      "Requirement already satisfied: jsonpatch<2.0,>=1.33 in /opt/conda/lib/python3.12/site-packages (from langchain-core<0.4,>=0.2.38->langchain-milvus) (1.33)\n",
      "Requirement already satisfied: PyYAML>=5.3 in /opt/conda/lib/python3.12/site-packages (from langchain-core<0.4,>=0.2.38->langchain-milvus) (6.0.2)\n",
      "Requirement already satisfied: packaging<25,>=23.2 in /opt/conda/lib/python3.12/site-packages (from langchain-core<0.4,>=0.2.38->langchain-milvus) (24.2)\n",
      "Requirement already satisfied: typing-extensions>=4.7 in /opt/conda/lib/python3.12/site-packages (from langchain-core<0.4,>=0.2.38->langchain-milvus) (4.14.1)\n",
      "Requirement already satisfied: pydantic>=2.7.4 in /opt/conda/lib/python3.12/site-packages (from langchain-core<0.4,>=0.2.38->langchain-milvus) (2.10.6)\n",
      "Requirement already satisfied: setuptools>69 in /opt/conda/lib/python3.12/site-packages (from pymilvus<3.0,>=2.5.7->langchain-milvus) (75.8.2)\n",
      "Requirement already satisfied: grpcio!=1.68.0,!=1.68.1,!=1.69.0,!=1.70.0,!=1.70.1,!=1.71.0,!=1.72.1,!=1.73.0,>=1.66.2 in /opt/conda/lib/python3.12/site-packages (from pymilvus<3.0,>=2.5.7->langchain-milvus) (1.73.1)\n",
      "Requirement already satisfied: protobuf>=5.27.2 in /opt/conda/lib/python3.12/site-packages (from pymilvus<3.0,>=2.5.7->langchain-milvus) (5.29.5)\n",
      "Requirement already satisfied: python-dotenv<2.0.0,>=1.0.1 in /opt/conda/lib/python3.12/site-packages (from pymilvus<3.0,>=2.5.7->langchain-milvus) (1.1.1)\n",
      "Requirement already satisfied: ujson>=2.0.0 in /opt/conda/lib/python3.12/site-packages (from pymilvus<3.0,>=2.5.7->langchain-milvus) (5.10.0)\n",
      "Requirement already satisfied: pandas>=1.2.4 in /opt/conda/lib/python3.12/site-packages (from pymilvus<3.0,>=2.5.7->langchain-milvus) (2.3.0)\n",
      "Requirement already satisfied: milvus-lite>=2.4.0 in /opt/conda/lib/python3.12/site-packages (from pymilvus<3.0,>=2.5.7->langchain-milvus) (2.5.1)\n",
      "Requirement already satisfied: jsonpointer>=1.9 in /opt/conda/lib/python3.12/site-packages (from jsonpatch<2.0,>=1.33->langchain-core<0.4,>=0.2.38->langchain-milvus) (3.0.0)\n",
      "Requirement already satisfied: httpx<1,>=0.23.0 in /opt/conda/lib/python3.12/site-packages (from langsmith>=0.3.45->langchain-core<0.4,>=0.2.38->langchain-milvus) (0.28.1)\n",
      "Requirement already satisfied: orjson<4.0.0,>=3.9.14 in /opt/conda/lib/python3.12/site-packages (from langsmith>=0.3.45->langchain-core<0.4,>=0.2.38->langchain-milvus) (3.10.18)\n",
      "Requirement already satisfied: requests<3,>=2 in /opt/conda/lib/python3.12/site-packages (from langsmith>=0.3.45->langchain-core<0.4,>=0.2.38->langchain-milvus) (2.32.3)\n",
      "Requirement already satisfied: requests-toolbelt<2.0.0,>=1.0.0 in /opt/conda/lib/python3.12/site-packages (from langsmith>=0.3.45->langchain-core<0.4,>=0.2.38->langchain-milvus) (1.0.0)\n",
      "Requirement already satisfied: zstandard<0.24.0,>=0.23.0 in /opt/conda/lib/python3.12/site-packages (from langsmith>=0.3.45->langchain-core<0.4,>=0.2.38->langchain-milvus) (0.23.0)\n",
      "Requirement already satisfied: tqdm in /opt/conda/lib/python3.12/site-packages (from milvus-lite>=2.4.0->pymilvus<3.0,>=2.5.7->langchain-milvus) (4.67.1)\n",
      "Requirement already satisfied: numpy>=1.26.0 in /opt/conda/lib/python3.12/site-packages (from pandas>=1.2.4->pymilvus<3.0,>=2.5.7->langchain-milvus) (1.26.4)\n",
      "Requirement already satisfied: python-dateutil>=2.8.2 in /opt/conda/lib/python3.12/site-packages (from pandas>=1.2.4->pymilvus<3.0,>=2.5.7->langchain-milvus) (2.9.0.post0)\n",
      "Requirement already satisfied: pytz>=2020.1 in /opt/conda/lib/python3.12/site-packages (from pandas>=1.2.4->pymilvus<3.0,>=2.5.7->langchain-milvus) (2025.1)\n",
      "Requirement already satisfied: tzdata>=2022.7 in /opt/conda/lib/python3.12/site-packages (from pandas>=1.2.4->pymilvus<3.0,>=2.5.7->langchain-milvus) (2025.2)\n",
      "Requirement already satisfied: annotated-types>=0.6.0 in /opt/conda/lib/python3.12/site-packages (from pydantic>=2.7.4->langchain-core<0.4,>=0.2.38->langchain-milvus) (0.7.0)\n",
      "Requirement already satisfied: pydantic-core==2.27.2 in /opt/conda/lib/python3.12/site-packages (from pydantic>=2.7.4->langchain-core<0.4,>=0.2.38->langchain-milvus) (2.27.2)\n",
      "Requirement already satisfied: anyio in /opt/conda/lib/python3.12/site-packages (from httpx<1,>=0.23.0->langsmith>=0.3.45->langchain-core<0.4,>=0.2.38->langchain-milvus) (4.8.0)\n",
      "Requirement already satisfied: certifi in /opt/conda/lib/python3.12/site-packages (from httpx<1,>=0.23.0->langsmith>=0.3.45->langchain-core<0.4,>=0.2.38->langchain-milvus) (2025.6.15)\n",
      "Requirement already satisfied: httpcore==1.* in /opt/conda/lib/python3.12/site-packages (from httpx<1,>=0.23.0->langsmith>=0.3.45->langchain-core<0.4,>=0.2.38->langchain-milvus) (1.0.7)\n",
      "Requirement already satisfied: idna in /opt/conda/lib/python3.12/site-packages (from httpx<1,>=0.23.0->langsmith>=0.3.45->langchain-core<0.4,>=0.2.38->langchain-milvus) (3.10)\n",
      "Requirement already satisfied: h11<0.15,>=0.13 in /opt/conda/lib/python3.12/site-packages (from httpcore==1.*->httpx<1,>=0.23.0->langsmith>=0.3.45->langchain-core<0.4,>=0.2.38->langchain-milvus) (0.14.0)\n",
      "Requirement already satisfied: six>=1.5 in /opt/conda/lib/python3.12/site-packages (from python-dateutil>=2.8.2->pandas>=1.2.4->pymilvus<3.0,>=2.5.7->langchain-milvus) (1.17.0)\n",
      "Requirement already satisfied: charset_normalizer<4,>=2 in /opt/conda/lib/python3.12/site-packages (from requests<3,>=2->langsmith>=0.3.45->langchain-core<0.4,>=0.2.38->langchain-milvus) (3.4.1)\n",
      "Requirement already satisfied: urllib3<3,>=1.21.1 in /opt/conda/lib/python3.12/site-packages (from requests<3,>=2->langsmith>=0.3.45->langchain-core<0.4,>=0.2.38->langchain-milvus) (2.3.0)\n",
      "Requirement already satisfied: sniffio>=1.1 in /opt/conda/lib/python3.12/site-packages (from anyio->httpx<1,>=0.23.0->langsmith>=0.3.45->langchain-core<0.4,>=0.2.38->langchain-milvus) (1.3.1)\n",
      "Downloading langchain_milvus-0.2.1-py3-none-any.whl (36 kB)\n",
      "Installing collected packages: langchain-milvus\n",
      "Successfully installed langchain-milvus-0.2.1\n",
      "Note: you may need to restart the kernel to use updated packages.\n"
     ]
    }
   ],
   "source": [
    "pip install langchain-milvus"
   ]
  },
  {
   "cell_type": "code",
   "execution_count": 3,
   "id": "28b141be-5780-4047-b7d7-4f19302cf16a",
   "metadata": {
    "execution": {
     "iopub.execute_input": "2025-08-06T09:24:40.008148Z",
     "iopub.status.busy": "2025-08-06T09:24:40.007332Z",
     "iopub.status.idle": "2025-08-06T09:24:52.625432Z",
     "shell.execute_reply": "2025-08-06T09:24:52.624498Z",
     "shell.execute_reply.started": "2025-08-06T09:24:40.008056Z"
    }
   },
   "outputs": [
    {
     "name": "stdout",
     "output_type": "stream",
     "text": [
      "Collecting boto3\n",
      "  Downloading boto3-1.40.3-py3-none-any.whl.metadata (6.7 kB)\n",
      "Collecting botocore<1.41.0,>=1.40.3 (from boto3)\n",
      "  Downloading botocore-1.40.3-py3-none-any.whl.metadata (5.7 kB)\n",
      "Collecting jmespath<2.0.0,>=0.7.1 (from boto3)\n",
      "  Using cached jmespath-1.0.1-py3-none-any.whl.metadata (7.6 kB)\n",
      "Collecting s3transfer<0.14.0,>=0.13.0 (from boto3)\n",
      "  Downloading s3transfer-0.13.1-py3-none-any.whl.metadata (1.7 kB)\n",
      "Requirement already satisfied: python-dateutil<3.0.0,>=2.1 in /opt/conda/lib/python3.12/site-packages (from botocore<1.41.0,>=1.40.3->boto3) (2.9.0.post0)\n",
      "Requirement already satisfied: urllib3!=2.2.0,<3,>=1.25.4 in /opt/conda/lib/python3.12/site-packages (from botocore<1.41.0,>=1.40.3->boto3) (2.3.0)\n",
      "Requirement already satisfied: six>=1.5 in /opt/conda/lib/python3.12/site-packages (from python-dateutil<3.0.0,>=2.1->botocore<1.41.0,>=1.40.3->boto3) (1.17.0)\n",
      "Downloading boto3-1.40.3-py3-none-any.whl (139 kB)\n",
      "Downloading botocore-1.40.3-py3-none-any.whl (14.0 MB)\n",
      "\u001b[2K   \u001b[90m━━━━━━━━━━━━━━━━━━━━━━━━━━━━━━━━━━━━━━━━\u001b[0m \u001b[32m14.0/14.0 MB\u001b[0m \u001b[31m6.7 MB/s\u001b[0m eta \u001b[36m0:00:00\u001b[0ma \u001b[36m0:00:01\u001b[0m\n",
      "\u001b[?25hUsing cached jmespath-1.0.1-py3-none-any.whl (20 kB)\n",
      "Downloading s3transfer-0.13.1-py3-none-any.whl (85 kB)\n",
      "Installing collected packages: jmespath, botocore, s3transfer, boto3\n",
      "Successfully installed boto3-1.40.3 botocore-1.40.3 jmespath-1.0.1 s3transfer-0.13.1\n",
      "Note: you may need to restart the kernel to use updated packages.\n"
     ]
    }
   ],
   "source": [
    "pip install boto3"
   ]
  },
  {
   "cell_type": "code",
   "execution_count": 4,
   "id": "a5e1ec2e-78d5-46fd-837c-ad551b8dc74b",
   "metadata": {
    "execution": {
     "iopub.execute_input": "2025-08-06T09:29:59.395520Z",
     "iopub.status.busy": "2025-08-06T09:29:59.394258Z",
     "iopub.status.idle": "2025-08-06T09:30:21.318301Z",
     "shell.execute_reply": "2025-08-06T09:30:21.315597Z",
     "shell.execute_reply.started": "2025-08-06T09:29:59.395408Z"
    }
   },
   "outputs": [
    {
     "name": "stdout",
     "output_type": "stream",
     "text": [
      "Collecting unstructured\n",
      "  Downloading unstructured-0.18.11-py3-none-any.whl.metadata (24 kB)\n",
      "Requirement already satisfied: charset-normalizer in /opt/conda/lib/python3.12/site-packages (from unstructured) (3.4.1)\n",
      "Collecting filetype (from unstructured)\n",
      "  Downloading filetype-1.2.0-py2.py3-none-any.whl.metadata (6.5 kB)\n",
      "Collecting python-magic (from unstructured)\n",
      "  Downloading python_magic-0.4.27-py2.py3-none-any.whl.metadata (5.8 kB)\n",
      "Requirement already satisfied: lxml in /opt/conda/lib/python3.12/site-packages (from unstructured) (5.4.0)\n",
      "Requirement already satisfied: nltk in /opt/conda/lib/python3.12/site-packages (from unstructured) (3.9.1)\n",
      "Requirement already satisfied: requests in /opt/conda/lib/python3.12/site-packages (from unstructured) (2.32.3)\n",
      "Requirement already satisfied: beautifulsoup4 in /opt/conda/lib/python3.12/site-packages (from unstructured) (4.13.3)\n",
      "Collecting emoji (from unstructured)\n",
      "  Downloading emoji-2.14.1-py3-none-any.whl.metadata (5.7 kB)\n",
      "Requirement already satisfied: dataclasses-json in /opt/conda/lib/python3.12/site-packages (from unstructured) (0.6.7)\n",
      "Collecting python-iso639 (from unstructured)\n",
      "  Downloading python_iso639-2025.2.18-py3-none-any.whl.metadata (14 kB)\n",
      "Collecting langdetect (from unstructured)\n",
      "  Downloading langdetect-1.0.9.tar.gz (981 kB)\n",
      "\u001b[2K     \u001b[90m━━━━━━━━━━━━━━━━━━━━━━━━━━━━━━━━━━━━━━━\u001b[0m \u001b[32m981.5/981.5 kB\u001b[0m \u001b[31m3.4 MB/s\u001b[0m eta \u001b[36m0:00:00\u001b[0ma \u001b[36m0:00:01\u001b[0m\n",
      "  Preparing metadata (setup.py) ... \u001b[?25done\n",
      "\u001b[?25hRequirement already satisfied: numpy in /opt/conda/lib/python3.12/site-packages (from unstructured) (1.26.4)\n",
      "Requirement already satisfied: rapidfuzz in /opt/conda/lib/python3.12/site-packages (from unstructured) (3.13.0)\n",
      "Requirement already satisfied: backoff in /opt/conda/lib/python3.12/site-packages (from unstructured) (2.2.1)\n",
      "Requirement already satisfied: typing-extensions in /opt/conda/lib/python3.12/site-packages (from unstructured) (4.14.1)\n",
      "Collecting unstructured-client (from unstructured)\n",
      "  Downloading unstructured_client-0.42.1-py3-none-any.whl.metadata (23 kB)\n",
      "Requirement already satisfied: wrapt in /opt/conda/lib/python3.12/site-packages (from unstructured) (1.17.2)\n",
      "Requirement already satisfied: tqdm in /opt/conda/lib/python3.12/site-packages (from unstructured) (4.67.1)\n",
      "Requirement already satisfied: psutil in /opt/conda/lib/python3.12/site-packages (from unstructured) (7.0.0)\n",
      "Collecting python-oxmsg (from unstructured)\n",
      "  Downloading python_oxmsg-0.0.2-py3-none-any.whl.metadata (5.0 kB)\n",
      "Collecting html5lib (from unstructured)\n",
      "  Downloading html5lib-1.1-py2.py3-none-any.whl.metadata (16 kB)\n",
      "Requirement already satisfied: soupsieve>1.2 in /opt/conda/lib/python3.12/site-packages (from beautifulsoup4->unstructured) (2.5)\n",
      "Requirement already satisfied: marshmallow<4.0.0,>=3.18.0 in /opt/conda/lib/python3.12/site-packages (from dataclasses-json->unstructured) (3.26.1)\n",
      "Requirement already satisfied: typing-inspect<1,>=0.4.0 in /opt/conda/lib/python3.12/site-packages (from dataclasses-json->unstructured) (0.9.0)\n",
      "Requirement already satisfied: six>=1.9 in /opt/conda/lib/python3.12/site-packages (from html5lib->unstructured) (1.17.0)\n",
      "Requirement already satisfied: webencodings in /opt/conda/lib/python3.12/site-packages (from html5lib->unstructured) (0.5.1)\n",
      "Requirement already satisfied: click in /opt/conda/lib/python3.12/site-packages (from nltk->unstructured) (8.2.1)\n",
      "Requirement already satisfied: joblib in /opt/conda/lib/python3.12/site-packages (from nltk->unstructured) (1.5.1)\n",
      "Requirement already satisfied: regex>=2021.8.3 in /opt/conda/lib/python3.12/site-packages (from nltk->unstructured) (2024.11.6)\n",
      "Collecting olefile (from python-oxmsg->unstructured)\n",
      "  Using cached olefile-0.47-py2.py3-none-any.whl.metadata (9.7 kB)\n",
      "Requirement already satisfied: idna<4,>=2.5 in /opt/conda/lib/python3.12/site-packages (from requests->unstructured) (3.10)\n",
      "Requirement already satisfied: urllib3<3,>=1.21.1 in /opt/conda/lib/python3.12/site-packages (from requests->unstructured) (2.3.0)\n",
      "Requirement already satisfied: certifi>=2017.4.17 in /opt/conda/lib/python3.12/site-packages (from requests->unstructured) (2025.6.15)\n",
      "Requirement already satisfied: aiofiles>=24.1.0 in /opt/conda/lib/python3.12/site-packages (from unstructured-client->unstructured) (24.1.0)\n",
      "Requirement already satisfied: cryptography>=3.1 in /opt/conda/lib/python3.12/site-packages (from unstructured-client->unstructured) (44.0.2)\n",
      "Collecting httpcore>=1.0.9 (from unstructured-client->unstructured)\n",
      "  Using cached httpcore-1.0.9-py3-none-any.whl.metadata (21 kB)\n",
      "Requirement already satisfied: httpx>=0.27.0 in /opt/conda/lib/python3.12/site-packages (from unstructured-client->unstructured) (0.28.1)\n",
      "Collecting pydantic>=2.11.2 (from unstructured-client->unstructured)\n",
      "  Downloading pydantic-2.11.7-py3-none-any.whl.metadata (67 kB)\n",
      "Collecting pypdf>=4.0 (from unstructured-client->unstructured)\n",
      "  Downloading pypdf-5.9.0-py3-none-any.whl.metadata (7.1 kB)\n",
      "Requirement already satisfied: requests-toolbelt>=1.0.0 in /opt/conda/lib/python3.12/site-packages (from unstructured-client->unstructured) (1.0.0)\n",
      "Requirement already satisfied: cffi>=1.12 in /opt/conda/lib/python3.12/site-packages (from cryptography>=3.1->unstructured-client->unstructured) (1.17.1)\n",
      "Collecting h11>=0.16 (from httpcore>=1.0.9->unstructured-client->unstructured)\n",
      "  Using cached h11-0.16.0-py3-none-any.whl.metadata (8.3 kB)\n",
      "Requirement already satisfied: anyio in /opt/conda/lib/python3.12/site-packages (from httpx>=0.27.0->unstructured-client->unstructured) (4.8.0)\n",
      "Requirement already satisfied: packaging>=17.0 in /opt/conda/lib/python3.12/site-packages (from marshmallow<4.0.0,>=3.18.0->dataclasses-json->unstructured) (24.2)\n",
      "Requirement already satisfied: annotated-types>=0.6.0 in /opt/conda/lib/python3.12/site-packages (from pydantic>=2.11.2->unstructured-client->unstructured) (0.7.0)\n",
      "Collecting pydantic-core==2.33.2 (from pydantic>=2.11.2->unstructured-client->unstructured)\n",
      "  Using cached pydantic_core-2.33.2-cp312-cp312-manylinux_2_17_x86_64.manylinux2014_x86_64.whl.metadata (6.8 kB)\n",
      "Requirement already satisfied: typing-inspection>=0.4.0 in /opt/conda/lib/python3.12/site-packages (from pydantic>=2.11.2->unstructured-client->unstructured) (0.4.1)\n",
      "Requirement already satisfied: mypy-extensions>=0.3.0 in /opt/conda/lib/python3.12/site-packages (from typing-inspect<1,>=0.4.0->dataclasses-json->unstructured) (1.1.0)\n",
      "Requirement already satisfied: pycparser in /opt/conda/lib/python3.12/site-packages (from cffi>=1.12->cryptography>=3.1->unstructured-client->unstructured) (2.22)\n",
      "Requirement already satisfied: sniffio>=1.1 in /opt/conda/lib/python3.12/site-packages (from anyio->httpx>=0.27.0->unstructured-client->unstructured) (1.3.1)\n",
      "Downloading unstructured-0.18.11-py3-none-any.whl (1.8 MB)\n",
      "\u001b[2K   \u001b[90m━━━━━━━━━━━━━━━━━━━━━━━━━━━━━━━━━━━━━━━━\u001b[0m \u001b[32m1.8/1.8 MB\u001b[0m \u001b[31m4.8 MB/s\u001b[0m eta \u001b[36m0:00:00\u001b[0ma \u001b[36m0:00:01\u001b[0m\n",
      "Downloading emoji-2.14.1-py3-none-any.whl (590 kB)\n",
      "\u001b[2K   \u001b[90m━━━━━━━━━━━━━━━━━━━━━━━━━━━━━━━━━━━━━━━━\u001b[0m \u001b[32m590.6/590.6 kB\u001b[0m \u001b[31m6.9 MB/s\u001b[0m eta \u001b[36m0:00:00\u001b[0m\n",
      "Downloading filetype-1.2.0-py2.py3-none-any.whl (19 kB)\n",
      "Downloading html5lib-1.1-py2.py3-none-any.whl (112 kB)\n",
      "Downloading python_iso639-2025.2.18-py3-none-any.whl (167 kB)\n",
      "Downloading python_magic-0.4.27-py2.py3-none-any.whl (13 kB)\n",
      "Downloading python_oxmsg-0.0.2-py3-none-any.whl (31 kB)\n",
      "Downloading unstructured_client-0.42.1-py3-none-any.whl (207 kB)\n",
      "Using cached httpcore-1.0.9-py3-none-any.whl (78 kB)\n",
      "Downloading pydantic-2.11.7-py3-none-any.whl (444 kB)\n",
      "Using cached pydantic_core-2.33.2-cp312-cp312-manylinux_2_17_x86_64.manylinux2014_x86_64.whl (2.0 MB)\n",
      "Downloading pypdf-5.9.0-py3-none-any.whl (313 kB)\n",
      "Using cached olefile-0.47-py2.py3-none-any.whl (114 kB)\n",
      "Using cached h11-0.16.0-py3-none-any.whl (37 kB)\n",
      "Building wheels for collected packages: langdetect\n",
      "  Building wheel for langdetect (setup.py) ... \u001bdone\n",
      "\u001b[?25h  Created wheel for langdetect: filename=langdetect-1.0.9-py3-none-any.whl size=993284 sha256=6d5badb5439e75ac5a422e3e505c847bc55416b54b8d26d75bcb8e9aaac73a9d\n",
      "  Stored in directory: /home/jovyan/.cache/pip/wheels/c1/67/88/e844b5b022812e15a52e4eaa38a1e709e99f06f6639d7e3ba7\n",
      "Successfully built langdetect\n",
      "Installing collected packages: filetype, python-magic, python-iso639, pypdf, pydantic-core, olefile, langdetect, html5lib, h11, emoji, python-oxmsg, pydantic, httpcore, unstructured-client, unstructured\n",
      "  Attempting uninstall: pydantic-core\n",
      "    Found existing installation: pydantic_core 2.27.2\n",
      "    Uninstalling pydantic_core-2.27.2:\n",
      "      Successfully uninstalled pydantic_core-2.27.2\n",
      "  Attempting uninstall: h11\n",
      "    Found existing installation: h11 0.14.0\n",
      "    Uninstalling h11-0.14.0:\n",
      "      Successfully uninstalled h11-0.14.0\n",
      "  Attempting uninstall: pydantic\n",
      "    Found existing installation: pydantic 2.10.6\n",
      "    Uninstalling pydantic-2.10.6:\n",
      "      Successfully uninstalled pydantic-2.10.6\n",
      "  Attempting uninstall: httpcore\n",
      "    Found existing installation: httpcore 1.0.7\n",
      "    Uninstalling httpcore-1.0.7:\n",
      "      Successfully uninstalled httpcore-1.0.7\n",
      "Successfully installed emoji-2.14.1 filetype-1.2.0 h11-0.16.0 html5lib-1.1 httpcore-1.0.9 langdetect-1.0.9 olefile-0.47 pydantic-2.11.7 pydantic-core-2.33.2 pypdf-5.9.0 python-iso639-2025.2.18 python-magic-0.4.27 python-oxmsg-0.0.2 unstructured-0.18.11 unstructured-client-0.42.1\n",
      "Note: you may need to restart the kernel to use updated packages.\n"
     ]
    }
   ],
   "source": [
    "pip install unstructured"
   ]
  },
  {
   "cell_type": "code",
   "execution_count": 5,
   "id": "0c2e003e-d5eb-49ae-9e89-e1729a448f1c",
   "metadata": {
    "execution": {
     "iopub.execute_input": "2025-08-06T09:30:45.993284Z",
     "iopub.status.busy": "2025-08-06T09:30:45.992756Z",
     "iopub.status.idle": "2025-08-06T09:30:52.538972Z",
     "shell.execute_reply": "2025-08-06T09:30:52.535861Z",
     "shell.execute_reply.started": "2025-08-06T09:30:45.993122Z"
    }
   },
   "outputs": [
    {
     "name": "stdout",
     "output_type": "stream",
     "text": [
      "Requirement already satisfied: unstructured[docx] in /opt/conda/lib/python3.12/site-packages (0.18.11)\n",
      "Requirement already satisfied: charset-normalizer in /opt/conda/lib/python3.12/site-packages (from unstructured[docx]) (3.4.1)\n",
      "Requirement already satisfied: filetype in /opt/conda/lib/python3.12/site-packages (from unstructured[docx]) (1.2.0)\n",
      "Requirement already satisfied: python-magic in /opt/conda/lib/python3.12/site-packages (from unstructured[docx]) (0.4.27)\n",
      "Requirement already satisfied: lxml in /opt/conda/lib/python3.12/site-packages (from unstructured[docx]) (5.4.0)\n",
      "Requirement already satisfied: nltk in /opt/conda/lib/python3.12/site-packages (from unstructured[docx]) (3.9.1)\n",
      "Requirement already satisfied: requests in /opt/conda/lib/python3.12/site-packages (from unstructured[docx]) (2.32.3)\n",
      "Requirement already satisfied: beautifulsoup4 in /opt/conda/lib/python3.12/site-packages (from unstructured[docx]) (4.13.3)\n",
      "Requirement already satisfied: emoji in /opt/conda/lib/python3.12/site-packages (from unstructured[docx]) (2.14.1)\n",
      "Requirement already satisfied: dataclasses-json in /opt/conda/lib/python3.12/site-packages (from unstructured[docx]) (0.6.7)\n",
      "Requirement already satisfied: python-iso639 in /opt/conda/lib/python3.12/site-packages (from unstructured[docx]) (2025.2.18)\n",
      "Requirement already satisfied: langdetect in /opt/conda/lib/python3.12/site-packages (from unstructured[docx]) (1.0.9)\n",
      "Requirement already satisfied: numpy in /opt/conda/lib/python3.12/site-packages (from unstructured[docx]) (1.26.4)\n",
      "Requirement already satisfied: rapidfuzz in /opt/conda/lib/python3.12/site-packages (from unstructured[docx]) (3.13.0)\n",
      "Requirement already satisfied: backoff in /opt/conda/lib/python3.12/site-packages (from unstructured[docx]) (2.2.1)\n",
      "Requirement already satisfied: typing-extensions in /opt/conda/lib/python3.12/site-packages (from unstructured[docx]) (4.14.1)\n",
      "Requirement already satisfied: unstructured-client in /opt/conda/lib/python3.12/site-packages (from unstructured[docx]) (0.42.1)\n",
      "Requirement already satisfied: wrapt in /opt/conda/lib/python3.12/site-packages (from unstructured[docx]) (1.17.2)\n",
      "Requirement already satisfied: tqdm in /opt/conda/lib/python3.12/site-packages (from unstructured[docx]) (4.67.1)\n",
      "Requirement already satisfied: psutil in /opt/conda/lib/python3.12/site-packages (from unstructured[docx]) (7.0.0)\n",
      "Requirement already satisfied: python-oxmsg in /opt/conda/lib/python3.12/site-packages (from unstructured[docx]) (0.0.2)\n",
      "Requirement already satisfied: html5lib in /opt/conda/lib/python3.12/site-packages (from unstructured[docx]) (1.1)\n",
      "Collecting python-docx>=1.1.2 (from unstructured[docx])\n",
      "  Downloading python_docx-1.2.0-py3-none-any.whl.metadata (2.0 kB)\n",
      "Requirement already satisfied: soupsieve>1.2 in /opt/conda/lib/python3.12/site-packages (from beautifulsoup4->unstructured[docx]) (2.5)\n",
      "Requirement already satisfied: marshmallow<4.0.0,>=3.18.0 in /opt/conda/lib/python3.12/site-packages (from dataclasses-json->unstructured[docx]) (3.26.1)\n",
      "Requirement already satisfied: typing-inspect<1,>=0.4.0 in /opt/conda/lib/python3.12/site-packages (from dataclasses-json->unstructured[docx]) (0.9.0)\n",
      "Requirement already satisfied: six>=1.9 in /opt/conda/lib/python3.12/site-packages (from html5lib->unstructured[docx]) (1.17.0)\n",
      "Requirement already satisfied: webencodings in /opt/conda/lib/python3.12/site-packages (from html5lib->unstructured[docx]) (0.5.1)\n",
      "Requirement already satisfied: click in /opt/conda/lib/python3.12/site-packages (from nltk->unstructured[docx]) (8.2.1)\n",
      "Requirement already satisfied: joblib in /opt/conda/lib/python3.12/site-packages (from nltk->unstructured[docx]) (1.5.1)\n",
      "Requirement already satisfied: regex>=2021.8.3 in /opt/conda/lib/python3.12/site-packages (from nltk->unstructured[docx]) (2024.11.6)\n",
      "Requirement already satisfied: olefile in /opt/conda/lib/python3.12/site-packages (from python-oxmsg->unstructured[docx]) (0.47)\n",
      "Requirement already satisfied: idna<4,>=2.5 in /opt/conda/lib/python3.12/site-packages (from requests->unstructured[docx]) (3.10)\n",
      "Requirement already satisfied: urllib3<3,>=1.21.1 in /opt/conda/lib/python3.12/site-packages (from requests->unstructured[docx]) (2.3.0)\n",
      "Requirement already satisfied: certifi>=2017.4.17 in /opt/conda/lib/python3.12/site-packages (from requests->unstructured[docx]) (2025.6.15)\n",
      "Requirement already satisfied: aiofiles>=24.1.0 in /opt/conda/lib/python3.12/site-packages (from unstructured-client->unstructured[docx]) (24.1.0)\n",
      "Requirement already satisfied: cryptography>=3.1 in /opt/conda/lib/python3.12/site-packages (from unstructured-client->unstructured[docx]) (44.0.2)\n",
      "Requirement already satisfied: httpcore>=1.0.9 in /opt/conda/lib/python3.12/site-packages (from unstructured-client->unstructured[docx]) (1.0.9)\n",
      "Requirement already satisfied: httpx>=0.27.0 in /opt/conda/lib/python3.12/site-packages (from unstructured-client->unstructured[docx]) (0.28.1)\n",
      "Requirement already satisfied: pydantic>=2.11.2 in /opt/conda/lib/python3.12/site-packages (from unstructured-client->unstructured[docx]) (2.11.7)\n",
      "Requirement already satisfied: pypdf>=4.0 in /opt/conda/lib/python3.12/site-packages (from unstructured-client->unstructured[docx]) (5.9.0)\n",
      "Requirement already satisfied: requests-toolbelt>=1.0.0 in /opt/conda/lib/python3.12/site-packages (from unstructured-client->unstructured[docx]) (1.0.0)\n",
      "Requirement already satisfied: cffi>=1.12 in /opt/conda/lib/python3.12/site-packages (from cryptography>=3.1->unstructured-client->unstructured[docx]) (1.17.1)\n",
      "Requirement already satisfied: h11>=0.16 in /opt/conda/lib/python3.12/site-packages (from httpcore>=1.0.9->unstructured-client->unstructured[docx]) (0.16.0)\n",
      "Requirement already satisfied: anyio in /opt/conda/lib/python3.12/site-packages (from httpx>=0.27.0->unstructured-client->unstructured[docx]) (4.8.0)\n",
      "Requirement already satisfied: packaging>=17.0 in /opt/conda/lib/python3.12/site-packages (from marshmallow<4.0.0,>=3.18.0->dataclasses-json->unstructured[docx]) (24.2)\n",
      "Requirement already satisfied: annotated-types>=0.6.0 in /opt/conda/lib/python3.12/site-packages (from pydantic>=2.11.2->unstructured-client->unstructured[docx]) (0.7.0)\n",
      "Requirement already satisfied: pydantic-core==2.33.2 in /opt/conda/lib/python3.12/site-packages (from pydantic>=2.11.2->unstructured-client->unstructured[docx]) (2.33.2)\n",
      "Requirement already satisfied: typing-inspection>=0.4.0 in /opt/conda/lib/python3.12/site-packages (from pydantic>=2.11.2->unstructured-client->unstructured[docx]) (0.4.1)\n",
      "Requirement already satisfied: mypy-extensions>=0.3.0 in /opt/conda/lib/python3.12/site-packages (from typing-inspect<1,>=0.4.0->dataclasses-json->unstructured[docx]) (1.1.0)\n",
      "Requirement already satisfied: pycparser in /opt/conda/lib/python3.12/site-packages (from cffi>=1.12->cryptography>=3.1->unstructured-client->unstructured[docx]) (2.22)\n",
      "Requirement already satisfied: sniffio>=1.1 in /opt/conda/lib/python3.12/site-packages (from anyio->httpx>=0.27.0->unstructured-client->unstructured[docx]) (1.3.1)\n",
      "Downloading python_docx-1.2.0-py3-none-any.whl (252 kB)\n",
      "Installing collected packages: python-docx\n",
      "Successfully installed python-docx-1.2.0\n",
      "Note: you may need to restart the kernel to use updated packages.\n"
     ]
    }
   ],
   "source": [
    "pip install \"unstructured[docx]\""
   ]
  },
  {
   "cell_type": "code",
   "execution_count": 1,
   "id": "446442c0-6299-486f-89f1-aac9c63d985b",
   "metadata": {
    "execution": {
     "iopub.execute_input": "2025-08-10T06:28:09.221823Z",
     "iopub.status.busy": "2025-08-10T06:28:09.221271Z",
     "iopub.status.idle": "2025-08-10T06:28:13.753041Z",
     "shell.execute_reply": "2025-08-10T06:28:13.750264Z",
     "shell.execute_reply.started": "2025-08-10T06:28:09.221774Z"
    }
   },
   "outputs": [
    {
     "name": "stdout",
     "output_type": "stream",
     "text": [
      "Collecting rocketchat-api==1.35.1\n",
      "  Using cached rocketchat_api-1.35.1-py3-none-any.whl.metadata (4.8 kB)\n",
      "Requirement already satisfied: requests in /opt/conda/lib/python3.12/site-packages (from rocketchat-api==1.35.1) (2.32.3)\n",
      "Requirement already satisfied: packaging in /opt/conda/lib/python3.12/site-packages (from rocketchat-api==1.35.1) (24.2)\n",
      "Requirement already satisfied: charset_normalizer<4,>=2 in /opt/conda/lib/python3.12/site-packages (from requests->rocketchat-api==1.35.1) (3.4.1)\n",
      "Requirement already satisfied: idna<4,>=2.5 in /opt/conda/lib/python3.12/site-packages (from requests->rocketchat-api==1.35.1) (3.10)\n",
      "Requirement already satisfied: urllib3<3,>=1.21.1 in /opt/conda/lib/python3.12/site-packages (from requests->rocketchat-api==1.35.1) (2.3.0)\n",
      "Requirement already satisfied: certifi>=2017.4.17 in /opt/conda/lib/python3.12/site-packages (from requests->rocketchat-api==1.35.1) (2025.6.15)\n",
      "Using cached rocketchat_api-1.35.1-py3-none-any.whl (22 kB)\n",
      "Installing collected packages: rocketchat-api\n",
      "Successfully installed rocketchat-api-1.35.1\n"
     ]
    }
   ],
   "source": [
    "!pip install rocketchat-api==1.35.1"
   ]
  }
 ],
 "metadata": {
  "kernelspec": {
   "display_name": "Python 3 (ipykernel)",
   "language": "python",
   "name": "python3"
  },
  "language_info": {
   "codemirror_mode": {
    "name": "ipython",
    "version": 3
   },
   "file_extension": ".py",
   "mimetype": "text/x-python",
   "name": "python",
   "nbconvert_exporter": "python",
   "pygments_lexer": "ipython3",
   "version": "3.12.9"
  }
 },
 "nbformat": 4,
 "nbformat_minor": 5
}
