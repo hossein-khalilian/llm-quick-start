{
 "cells": [
  {
   "cell_type": "markdown",
   "id": "ae4a14f9-45e4-4710-b07b-7ec1a89a920a",
   "metadata": {
    "execution": {
     "iopub.execute_input": "2025-05-20T09:40:28.092388Z",
     "iopub.status.busy": "2025-05-20T09:40:28.092075Z",
     "iopub.status.idle": "2025-05-20T09:40:28.096521Z",
     "shell.execute_reply": "2025-05-20T09:40:28.095888Z",
     "shell.execute_reply.started": "2025-05-20T09:40:28.092357Z"
    }
   },
   "source": [
    "# setup"
   ]
  },
  {
   "cell_type": "code",
   "execution_count": 13,
   "id": "0a02b1ad-b523-4a5f-be82-aa2a8a1178c7",
   "metadata": {
    "execution": {
     "iopub.execute_input": "2025-05-20T09:45:10.588542Z",
     "iopub.status.busy": "2025-05-20T09:45:10.587738Z",
     "iopub.status.idle": "2025-05-20T09:45:10.626739Z",
     "shell.execute_reply": "2025-05-20T09:45:10.625989Z",
     "shell.execute_reply.started": "2025-05-20T09:45:10.588472Z"
    }
   },
   "outputs": [],
   "source": [
    "base_url=\"http://host.docker.internal:11434\"\n",
    "model = \"gemma3:27b\"\n",
    "from langchain_ollama import ChatOllama\n",
    "model = ChatOllama(\n",
    "    model=model,\n",
    "    base_url=base_url,\n",
    ")"
   ]
  },
  {
   "cell_type": "markdown",
   "id": "fcbdb585-76d3-4d58-8fc3-154a5980c211",
   "metadata": {},
   "source": [
    "# tools"
   ]
  },
  {
   "cell_type": "code",
   "execution_count": 59,
   "id": "a530f0ab-b00c-488d-86e3-615bd17b15d0",
   "metadata": {
    "execution": {
     "iopub.execute_input": "2025-05-20T10:10:27.969111Z",
     "iopub.status.busy": "2025-05-20T10:10:27.968558Z",
     "iopub.status.idle": "2025-05-20T10:10:27.977460Z",
     "shell.execute_reply": "2025-05-20T10:10:27.976268Z",
     "shell.execute_reply.started": "2025-05-20T10:10:27.969062Z"
    }
   },
   "outputs": [],
   "source": [
    "from pydantic import create_model\n",
    "import inspect\n",
    "from functools import wraps\n",
    "\n",
    "def register_function_schema(func):\n",
    "    sig = inspect.signature(func)\n",
    "\n",
    "    # Build Pydantic model dynamically from function parameters\n",
    "    fields = {\n",
    "        name: (param.annotation, ...)\n",
    "        for name, param in sig.parameters.items()\n",
    "    }\n",
    "\n",
    "    ParamsModel = create_model(f\"{func.__name__.title()}Params\", **fields)\n",
    "\n",
    "    # Attach schema to the function\n",
    "    func._schema = {\n",
    "        \"name\": func.__name__,\n",
    "        \"description\": func.__doc__,\n",
    "        \"parameters\": ParamsModel.model_json_schema()\n",
    "    }\n",
    "\n",
    "    return func"
   ]
  },
  {
   "cell_type": "code",
   "execution_count": 73,
   "id": "422a4413-2e38-4122-b3b0-4fb852f42afb",
   "metadata": {
    "execution": {
     "iopub.execute_input": "2025-05-20T10:13:02.151051Z",
     "iopub.status.busy": "2025-05-20T10:13:02.150157Z",
     "iopub.status.idle": "2025-05-20T10:13:02.158637Z",
     "shell.execute_reply": "2025-05-20T10:13:02.157929Z",
     "shell.execute_reply.started": "2025-05-20T10:13:02.151016Z"
    }
   },
   "outputs": [],
   "source": [
    "from langchain_core.tools import tool\n",
    "\n",
    "\n",
    "@register_function_schema\n",
    "def multiply(x: float, y: float) -> float:\n",
    "    \"\"\"Multiply two numbers together.\"\"\"\n",
    "    return x * y\n",
    "\n",
    "\n",
    "@register_function_schema\n",
    "def add(x: int, y: int) -> int:\n",
    "    \"Add two numbers.\"\n",
    "    return x + y\n",
    "\n",
    "\n",
    "tools = [multiply, add]"
   ]
  },
  {
   "cell_type": "code",
   "execution_count": 198,
   "id": "56105cb6-5ca6-4cf1-851a-ca7edc707bb8",
   "metadata": {
    "execution": {
     "iopub.execute_input": "2025-05-20T11:22:03.137387Z",
     "iopub.status.busy": "2025-05-20T11:22:03.136601Z",
     "iopub.status.idle": "2025-05-20T11:22:03.183089Z",
     "shell.execute_reply": "2025-05-20T11:22:03.182138Z",
     "shell.execute_reply.started": "2025-05-20T11:22:03.137295Z"
    }
   },
   "outputs": [
    {
     "ename": "AttributeError",
     "evalue": "'function' object has no attribute 'name'",
     "output_type": "error",
     "traceback": [
      "\u001b[31m---------------------------------------------------------------------------\u001b[39m",
      "\u001b[31mAttributeError\u001b[39m                            Traceback (most recent call last)",
      "\u001b[36mCell\u001b[39m\u001b[36m \u001b[39m\u001b[32mIn[198]\u001b[39m\u001b[32m, line 5\u001b[39m\n\u001b[32m      2\u001b[39m \u001b[38;5;28;01mfrom\u001b[39;00m\u001b[38;5;250m \u001b[39m\u001b[34;01mlangchain_core\u001b[39;00m\u001b[34;01m.\u001b[39;00m\u001b[34;01mprompts\u001b[39;00m\u001b[38;5;250m \u001b[39m\u001b[38;5;28;01mimport\u001b[39;00m ChatPromptTemplate\n\u001b[32m      3\u001b[39m \u001b[38;5;28;01mfrom\u001b[39;00m\u001b[38;5;250m \u001b[39m\u001b[34;01mlangchain_core\u001b[39;00m\u001b[34;01m.\u001b[39;00m\u001b[34;01mtools\u001b[39;00m\u001b[38;5;250m \u001b[39m\u001b[38;5;28;01mimport\u001b[39;00m render_text_description\n\u001b[32m----> \u001b[39m\u001b[32m5\u001b[39m rendered_tools = \u001b[43mrender_text_description\u001b[49m\u001b[43m(\u001b[49m\u001b[43mtools\u001b[49m\u001b[43m)\u001b[49m\n\u001b[32m      6\u001b[39m \u001b[38;5;28mprint\u001b[39m(rendered_tools)\n",
      "\u001b[36mFile \u001b[39m\u001b[32m/opt/conda/lib/python3.12/site-packages/langchain_core/tools/render.py:35\u001b[39m, in \u001b[36mrender_text_description\u001b[39m\u001b[34m(tools)\u001b[39m\n\u001b[32m     33\u001b[39m         description = \u001b[33mf\u001b[39m\u001b[33m\"\u001b[39m\u001b[38;5;132;01m{\u001b[39;00mtool.name\u001b[38;5;132;01m}\u001b[39;00m\u001b[38;5;132;01m{\u001b[39;00msig\u001b[38;5;132;01m}\u001b[39;00m\u001b[33m - \u001b[39m\u001b[38;5;132;01m{\u001b[39;00mtool.description\u001b[38;5;132;01m}\u001b[39;00m\u001b[33m\"\u001b[39m\n\u001b[32m     34\u001b[39m     \u001b[38;5;28;01melse\u001b[39;00m:\n\u001b[32m---> \u001b[39m\u001b[32m35\u001b[39m         description = \u001b[33mf\u001b[39m\u001b[33m\"\u001b[39m\u001b[38;5;132;01m{\u001b[39;00m\u001b[43mtool\u001b[49m\u001b[43m.\u001b[49m\u001b[43mname\u001b[49m\u001b[38;5;132;01m}\u001b[39;00m\u001b[33m - \u001b[39m\u001b[38;5;132;01m{\u001b[39;00mtool.description\u001b[38;5;132;01m}\u001b[39;00m\u001b[33m\"\u001b[39m\n\u001b[32m     37\u001b[39m     descriptions.append(description)\n\u001b[32m     38\u001b[39m \u001b[38;5;28;01mreturn\u001b[39;00m \u001b[33m\"\u001b[39m\u001b[38;5;130;01m\\n\u001b[39;00m\u001b[33m\"\u001b[39m.join(descriptions)\n",
      "\u001b[31mAttributeError\u001b[39m: 'function' object has no attribute 'name'"
     ]
    }
   ],
   "source": [
    "from langchain_core.output_parsers import JsonOutputParser\n",
    "from langchain_core.prompts import ChatPromptTemplate\n",
    "from langchain_core.tools import render_text_description\n",
    "\n",
    "rendered_tools = render_text_description(tools)\n",
    "print(rendered_tools)"
   ]
  },
  {
   "cell_type": "code",
   "execution_count": 168,
   "id": "e2308275-020e-4c04-8628-28c2b5e97f3f",
   "metadata": {
    "execution": {
     "iopub.execute_input": "2025-05-20T11:12:46.380494Z",
     "iopub.status.busy": "2025-05-20T11:12:46.379689Z",
     "iopub.status.idle": "2025-05-20T11:12:46.389997Z",
     "shell.execute_reply": "2025-05-20T11:12:46.387908Z",
     "shell.execute_reply.started": "2025-05-20T11:12:46.380424Z"
    }
   },
   "outputs": [],
   "source": [
    "r = json.dumps([tool._schema for tool in tools], indent=4)"
   ]
  },
  {
   "cell_type": "code",
   "execution_count": 195,
   "id": "0a561fe3-f728-4394-8873-614e17ff1683",
   "metadata": {
    "execution": {
     "iopub.execute_input": "2025-05-20T11:15:57.598543Z",
     "iopub.status.busy": "2025-05-20T11:15:57.598264Z",
     "iopub.status.idle": "2025-05-20T11:15:57.603874Z",
     "shell.execute_reply": "2025-05-20T11:15:57.603230Z",
     "shell.execute_reply.started": "2025-05-20T11:15:57.598515Z"
    }
   },
   "outputs": [],
   "source": [
    "system_prompt = f\"\"\"\\\n",
    "You have access to functions. If you decide to invoke any of the function(s),\n",
    "you MUST put it in the format of\n",
    "{{{{\"name\": function name, \"parameters\": dictionary of argument name and its value}}}}\n",
    "\n",
    "You SHOULD NOT include any other text in the response if you call a function\n",
    "{rendered_tools}\n",
    "\"\"\"\n",
    "\n",
    "prompt = ChatPromptTemplate.from_messages(\n",
    "    [(\"system\", system_prompt), (\"user\", \"{input}\")]\n",
    ")"
   ]
  },
  {
   "cell_type": "code",
   "execution_count": 196,
   "id": "0b1972c5-7eeb-4367-9486-3996173e16a2",
   "metadata": {
    "execution": {
     "iopub.execute_input": "2025-05-20T11:15:57.997520Z",
     "iopub.status.busy": "2025-05-20T11:15:57.997037Z",
     "iopub.status.idle": "2025-05-20T11:15:58.003656Z",
     "shell.execute_reply": "2025-05-20T11:15:58.002306Z",
     "shell.execute_reply.started": "2025-05-20T11:15:57.997480Z"
    }
   },
   "outputs": [
    {
     "name": "stdout",
     "output_type": "stream",
     "text": [
      "You have access to functions. If you decide to invoke any of the function(s),\n",
      "you MUST put it in the format of\n",
      "{{\"name\": function name, \"parameters\": dictionary of argument name and its value}}\n",
      "\n",
      "You SHOULD NOT include any other text in the response if you call a function\n",
      "multiply(x: float, y: float) -> float - Multiply two numbers together.\n",
      "add(x: int, y: int) -> int - Add two numbers.\n",
      "\n"
     ]
    }
   ],
   "source": [
    "print(system_prompt)"
   ]
  },
  {
   "cell_type": "code",
   "execution_count": 197,
   "id": "01c79b4c-76c9-4441-a28a-149ba6803645",
   "metadata": {
    "execution": {
     "iopub.execute_input": "2025-05-20T11:15:59.773666Z",
     "iopub.status.busy": "2025-05-20T11:15:59.773223Z",
     "iopub.status.idle": "2025-05-20T11:16:00.834813Z",
     "shell.execute_reply": "2025-05-20T11:16:00.833760Z",
     "shell.execute_reply.started": "2025-05-20T11:15:59.773630Z"
    }
   },
   "outputs": [
    {
     "data": {
      "text/plain": [
       "{'name': 'multiply', 'parameters': {'x': 13.0, 'y': 4.0}}"
      ]
     },
     "execution_count": 197,
     "metadata": {},
     "output_type": "execute_result"
    }
   ],
   "source": [
    "from langchain_core.output_parsers import JsonOutputParser\n",
    "\n",
    "chain = prompt | model | JsonOutputParser()\n",
    "chain.invoke({\"input\": \"what's thirteen times 4\"})"
   ]
  },
  {
   "cell_type": "code",
   "execution_count": 124,
   "id": "14268fad-1edd-4c9e-8050-eccdc23bbd3e",
   "metadata": {
    "execution": {
     "iopub.execute_input": "2025-05-20T11:05:27.511346Z",
     "iopub.status.busy": "2025-05-20T11:05:27.510559Z",
     "iopub.status.idle": "2025-05-20T11:05:27.520777Z",
     "shell.execute_reply": "2025-05-20T11:05:27.519294Z",
     "shell.execute_reply.started": "2025-05-20T11:05:27.511260Z"
    }
   },
   "outputs": [],
   "source": [
    "system_prompt = f\"\"\"\\\n",
    "You are an assistant that has access to the following set of tools. \n",
    "Here are the names and descriptions for each tool:\n",
    "\n",
    "{rendered_tools}\n",
    "\n",
    "Given the user input, return the name and input of the tool to use. \n",
    "Return your response as a JSON blob with 'name' and 'arguments' keys.\n",
    "\n",
    "The `arguments` should be a dictionary, with keys corresponding \n",
    "to the argument names and the values corresponding to the requested values.\n",
    "\"\"\"\n",
    "\n",
    "prompt = ChatPromptTemplate.from_messages(\n",
    "    [(\"system\", system_prompt), (\"user\", \"{input}\")]\n",
    ")"
   ]
  },
  {
   "cell_type": "code",
   "execution_count": 90,
   "id": "47f3f2c8-d09c-4f37-ba52-8101b77c930f",
   "metadata": {
    "execution": {
     "iopub.execute_input": "2025-05-20T10:56:46.832764Z",
     "iopub.status.busy": "2025-05-20T10:56:46.832125Z",
     "iopub.status.idle": "2025-05-20T10:56:59.706763Z",
     "shell.execute_reply": "2025-05-20T10:56:59.704377Z",
     "shell.execute_reply.started": "2025-05-20T10:56:46.832718Z"
    }
   },
   "outputs": [
    {
     "name": "stdout",
     "output_type": "stream",
     "text": [
      "```json\n",
      "{\n",
      "  \"name\": \"add\",\n",
      "  \"arguments\": {\n",
      "    \"x\": 3,\n",
      "    \"y\": 1132\n",
      "  }\n",
      "}\n",
      "```\n"
     ]
    }
   ],
   "source": [
    "chain = prompt | model\n",
    "message = chain.invoke({\"input\": \"what's 3 plus 1132\"})\n",
    "\n",
    "# Let's take a look at the output from the model\n",
    "# if the model is an LLM (not a chat model), the output will be a string.\n",
    "if isinstance(message, str):\n",
    "    print(message)\n",
    "else:  # Otherwise it's a chat model\n",
    "    print(message.content)"
   ]
  },
  {
   "cell_type": "code",
   "execution_count": 104,
   "id": "328d2bb5-d292-4e61-8e52-dbdba59d2180",
   "metadata": {
    "execution": {
     "iopub.execute_input": "2025-05-20T11:00:32.400975Z",
     "iopub.status.busy": "2025-05-20T11:00:32.400177Z",
     "iopub.status.idle": "2025-05-20T11:00:33.904682Z",
     "shell.execute_reply": "2025-05-20T11:00:33.902474Z",
     "shell.execute_reply.started": "2025-05-20T11:00:32.400905Z"
    }
   },
   "outputs": [
    {
     "data": {
      "text/plain": [
       "{'name': 'multiply', 'arguments': {'x': 13, 'y': 4}}"
      ]
     },
     "execution_count": 104,
     "metadata": {},
     "output_type": "execute_result"
    }
   ],
   "source": [
    "from langchain_core.output_parsers import JsonOutputParser\n",
    "\n",
    "chain = prompt | model | JsonOutputParser()\n",
    "chain.invoke({\"input\": \"what's thirteen times 4 and 12 + 7\"})"
   ]
  },
  {
   "cell_type": "code",
   "execution_count": 25,
   "id": "96251e2f-a448-4951-857d-3c8d78fee2c5",
   "metadata": {
    "execution": {
     "iopub.execute_input": "2025-05-20T09:48:40.929484Z",
     "iopub.status.busy": "2025-05-20T09:48:40.927869Z",
     "iopub.status.idle": "2025-05-20T09:48:40.942728Z",
     "shell.execute_reply": "2025-05-20T09:48:40.940767Z",
     "shell.execute_reply.started": "2025-05-20T09:48:40.929408Z"
    }
   },
   "outputs": [],
   "source": [
    "from typing import Any, Dict, Optional, TypedDict\n",
    "\n",
    "from langchain_core.runnables import RunnableConfig\n",
    "\n",
    "\n",
    "class ToolCallRequest(TypedDict):\n",
    "    \"\"\"A typed dict that shows the inputs into the invoke_tool function.\"\"\"\n",
    "\n",
    "    name: str\n",
    "    arguments: Dict[str, Any]\n",
    "\n",
    "\n",
    "def invoke_tool(\n",
    "    tool_call_request: ToolCallRequest, config: Optional[RunnableConfig] = None\n",
    "):\n",
    "    \"\"\"A function that we can use the perform a tool invocation.\n",
    "\n",
    "    Args:\n",
    "        tool_call_request: a dict that contains the keys name and arguments.\n",
    "            The name must match the name of a tool that exists.\n",
    "            The arguments are the arguments to that tool.\n",
    "        config: This is configuration information that LangChain uses that contains\n",
    "            things like callbacks, metadata, etc.See LCEL documentation about RunnableConfig.\n",
    "\n",
    "    Returns:\n",
    "        output from the requested tool\n",
    "    \"\"\"\n",
    "    tool_name_to_tool = {tool.name: tool for tool in tools}\n",
    "    name = tool_call_request[\"name\"]\n",
    "    requested_tool = tool_name_to_tool[name]\n",
    "    return requested_tool.invoke(tool_call_request[\"arguments\"], config=config)"
   ]
  },
  {
   "cell_type": "code",
   "execution_count": 28,
   "id": "407a3095-6a57-4d29-b064-022f28c62fbb",
   "metadata": {
    "execution": {
     "iopub.execute_input": "2025-05-20T09:49:32.570034Z",
     "iopub.status.busy": "2025-05-20T09:49:32.569250Z",
     "iopub.status.idle": "2025-05-20T09:49:32.579688Z",
     "shell.execute_reply": "2025-05-20T09:49:32.578740Z",
     "shell.execute_reply.started": "2025-05-20T09:49:32.569756Z"
    }
   },
   "outputs": [
    {
     "data": {
      "text/plain": [
       "15.0"
      ]
     },
     "execution_count": 28,
     "metadata": {},
     "output_type": "execute_result"
    }
   ],
   "source": [
    "invoke_tool({\"name\": \"multiply\", \"arguments\": {\"x\": 3, \"y\": 5}})"
   ]
  },
  {
   "cell_type": "code",
   "execution_count": 29,
   "id": "575be9a9-9a98-48ee-842e-173d63fc9091",
   "metadata": {
    "execution": {
     "iopub.execute_input": "2025-05-20T09:49:43.696615Z",
     "iopub.status.busy": "2025-05-20T09:49:43.695805Z",
     "iopub.status.idle": "2025-05-20T09:49:45.554767Z",
     "shell.execute_reply": "2025-05-20T09:49:45.554066Z",
     "shell.execute_reply.started": "2025-05-20T09:49:43.696543Z"
    }
   },
   "outputs": [
    {
     "data": {
      "text/plain": [
       "53.83784653"
      ]
     },
     "execution_count": 29,
     "metadata": {},
     "output_type": "execute_result"
    }
   ],
   "source": [
    "chain = prompt | model | JsonOutputParser() | invoke_tool\n",
    "chain.invoke({\"input\": \"what's thirteen times 4.14137281\"})"
   ]
  },
  {
   "cell_type": "code",
   "execution_count": 30,
   "id": "e75a3275-771f-41b3-9d8a-1f53ff4814af",
   "metadata": {
    "execution": {
     "iopub.execute_input": "2025-05-20T09:50:09.515700Z",
     "iopub.status.busy": "2025-05-20T09:50:09.515418Z",
     "iopub.status.idle": "2025-05-20T09:50:11.381480Z",
     "shell.execute_reply": "2025-05-20T09:50:11.379242Z",
     "shell.execute_reply.started": "2025-05-20T09:50:09.515676Z"
    }
   },
   "outputs": [
    {
     "data": {
      "text/plain": [
       "{'name': 'multiply',\n",
       " 'arguments': {'x': 13, 'y': 4.14137281},\n",
       " 'output': 53.83784653}"
      ]
     },
     "execution_count": 30,
     "metadata": {},
     "output_type": "execute_result"
    }
   ],
   "source": [
    "from langchain_core.runnables import RunnablePassthrough\n",
    "\n",
    "chain = (\n",
    "    prompt | model | JsonOutputParser() | RunnablePassthrough.assign(output=invoke_tool)\n",
    ")\n",
    "chain.invoke({\"input\": \"what's thirteen times 4.14137281\"})"
   ]
  },
  {
   "cell_type": "code",
   "execution_count": 31,
   "id": "e8d95360-f39b-4f31-b451-c3a6e7dd7f08",
   "metadata": {
    "execution": {
     "iopub.execute_input": "2025-05-20T09:52:40.537337Z",
     "iopub.status.busy": "2025-05-20T09:52:40.536172Z",
     "iopub.status.idle": "2025-05-20T09:52:40.546133Z",
     "shell.execute_reply": "2025-05-20T09:52:40.543824Z",
     "shell.execute_reply.started": "2025-05-20T09:52:40.537241Z"
    }
   },
   "outputs": [],
   "source": [
    "from langchain.agents import create_tool_calling_agent"
   ]
  },
  {
   "cell_type": "code",
   "execution_count": 58,
   "id": "e4e1b85c-6601-4a48-8d02-83ae1925ed6d",
   "metadata": {
    "execution": {
     "iopub.execute_input": "2025-05-20T10:09:32.595805Z",
     "iopub.status.busy": "2025-05-20T10:09:32.595457Z",
     "iopub.status.idle": "2025-05-20T10:09:32.604544Z",
     "shell.execute_reply": "2025-05-20T10:09:32.603721Z",
     "shell.execute_reply.started": "2025-05-20T10:09:32.595773Z"
    }
   },
   "outputs": [
    {
     "data": {
      "text/plain": [
       "{'name': 'add',\n",
       " 'description': 'Add two numbers.',\n",
       " 'parameters': {'properties': {'x': {'title': 'X', 'type': 'integer'},\n",
       "   'y': {'title': 'Y', 'type': 'integer'}},\n",
       "  'required': ['x', 'y'],\n",
       "  'title': 'AddParams',\n",
       "  'type': 'object'}}"
      ]
     },
     "execution_count": 58,
     "metadata": {},
     "output_type": "execute_result"
    }
   ],
   "source": [
    "@register_function_schema\n",
    "def add(x: int, y: int) -> int:\n",
    "    \"Add two numbers.\"\n",
    "    return x + y\n",
    "\n",
    "# Access the schema\n",
    "add._schema"
   ]
  },
  {
   "cell_type": "code",
   "execution_count": null,
   "id": "578bea05-5b27-4158-a6e1-c824848f8a8a",
   "metadata": {},
   "outputs": [],
   "source": []
  }
 ],
 "metadata": {
  "kernelspec": {
   "display_name": "Python 3 (ipykernel)",
   "language": "python",
   "name": "python3"
  },
  "language_info": {
   "codemirror_mode": {
    "name": "ipython",
    "version": 3
   },
   "file_extension": ".py",
   "mimetype": "text/x-python",
   "name": "python",
   "nbconvert_exporter": "python",
   "pygments_lexer": "ipython3",
   "version": "3.12.9"
  }
 },
 "nbformat": 4,
 "nbformat_minor": 5
}
