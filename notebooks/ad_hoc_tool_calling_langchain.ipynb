{
 "cells": [
  {
   "cell_type": "markdown",
   "id": "ae4a14f9-45e4-4710-b07b-7ec1a89a920a",
   "metadata": {
    "execution": {
     "iopub.execute_input": "2025-05-20T09:40:28.092388Z",
     "iopub.status.busy": "2025-05-20T09:40:28.092075Z",
     "iopub.status.idle": "2025-05-20T09:40:28.096521Z",
     "shell.execute_reply": "2025-05-20T09:40:28.095888Z",
     "shell.execute_reply.started": "2025-05-20T09:40:28.092357Z"
    },
    "jp-MarkdownHeadingCollapsed": true
   },
   "source": [
    "# setup"
   ]
  },
  {
   "cell_type": "code",
   "execution_count": 1,
   "id": "0a02b1ad-b523-4a5f-be82-aa2a8a1178c7",
   "metadata": {
    "execution": {
     "iopub.execute_input": "2025-05-21T07:45:09.113846Z",
     "iopub.status.busy": "2025-05-21T07:45:09.113597Z",
     "iopub.status.idle": "2025-05-21T07:45:09.940952Z",
     "shell.execute_reply": "2025-05-21T07:45:09.940216Z",
     "shell.execute_reply.started": "2025-05-21T07:45:09.113824Z"
    }
   },
   "outputs": [],
   "source": [
    "base_url=\"http://host.docker.internal:11434\"\n",
    "model = \"gemma3:27b\"\n",
    "from langchain_ollama import ChatOllama\n",
    "model = ChatOllama(\n",
    "    model=model,\n",
    "    base_url=base_url,\n",
    ")"
   ]
  },
  {
   "cell_type": "markdown",
   "id": "fcbdb585-76d3-4d58-8fc3-154a5980c211",
   "metadata": {
    "jp-MarkdownHeadingCollapsed": true
   },
   "source": [
    "# tools"
   ]
  },
  {
   "cell_type": "code",
   "execution_count": 2,
   "id": "ad7b2770-b831-4c5f-afa8-d85098ff3c16",
   "metadata": {
    "execution": {
     "iopub.execute_input": "2025-05-21T07:45:10.326578Z",
     "iopub.status.busy": "2025-05-21T07:45:10.325792Z",
     "iopub.status.idle": "2025-05-21T07:45:10.340881Z",
     "shell.execute_reply": "2025-05-21T07:45:10.338577Z",
     "shell.execute_reply.started": "2025-05-21T07:45:10.326508Z"
    }
   },
   "outputs": [],
   "source": [
    "import inspect\n",
    "from functools import wraps\n",
    "from pydantic import create_model\n",
    "\n",
    "def register_function_schema(func):\n",
    "    sig = inspect.signature(func)\n",
    "\n",
    "    # Build Pydantic model dynamically from function arguments\n",
    "    fields = {\n",
    "        name: (param.annotation, ...)\n",
    "        for name, param in sig.arguments.items()\n",
    "    }\n",
    "\n",
    "    ParamsModel = create_model(f\"{func.__name__.title()}Params\", **fields)\n",
    "\n",
    "    # Attach schema to the function\n",
    "    func._schema = {\n",
    "        \"name\": func.__name__,\n",
    "        \"description\": func.__doc__,\n",
    "        \"arguments\": ParamsModel.model_json_schema()\n",
    "    }\n",
    "\n",
    "    return func"
   ]
  },
  {
   "cell_type": "code",
   "execution_count": 3,
   "id": "a530f0ab-b00c-488d-86e3-615bd17b15d0",
   "metadata": {
    "execution": {
     "iopub.execute_input": "2025-05-21T07:45:10.861591Z",
     "iopub.status.busy": "2025-05-21T07:45:10.860811Z",
     "iopub.status.idle": "2025-05-21T07:45:10.877357Z",
     "shell.execute_reply": "2025-05-21T07:45:10.874629Z",
     "shell.execute_reply.started": "2025-05-21T07:45:10.861522Z"
    }
   },
   "outputs": [],
   "source": [
    "from typing import Any, Dict, Optional, TypedDict\n",
    "from langchain_core.runnables import RunnableConfig\n",
    "\n",
    "class ToolCallRequest(TypedDict):\n",
    "    \"\"\"A typed dict that shows the inputs into the invoke_tool function.\"\"\"\n",
    "\n",
    "    name: str\n",
    "    arguments: Dict[str, Any]\n",
    "\n",
    "\n",
    "def invoke_tool(\n",
    "    tool_call_request: ToolCallRequest, config: Optional[RunnableConfig] = None\n",
    "):\n",
    "    \"\"\"A function that we can use the perform a tool invocation.\n",
    "\n",
    "    Args:\n",
    "        tool_call_request: a dict that contains the keys name and arguments.\n",
    "            The name must match the name of a tool that exists.\n",
    "            The arguments are the arguments to that tool.\n",
    "        config: This is configuration information that LangChain uses that contains\n",
    "            things like callbacks, metadata, etc.See LCEL documentation about RunnableConfig.\n",
    "\n",
    "    Returns:\n",
    "        output from the requested tool\n",
    "    \"\"\"\n",
    "    tool_name_to_tool = {tool.name: tool for tool in tools}\n",
    "    name = tool_call_request[\"name\"]\n",
    "    requested_tool = tool_name_to_tool[name]\n",
    "    return requested_tool.invoke(tool_call_request[\"arguments\"], config=config)"
   ]
  },
  {
   "cell_type": "code",
   "execution_count": 26,
   "id": "422a4413-2e38-4122-b3b0-4fb852f42afb",
   "metadata": {
    "execution": {
     "iopub.execute_input": "2025-05-21T07:46:58.061910Z",
     "iopub.status.busy": "2025-05-21T07:46:58.061651Z",
     "iopub.status.idle": "2025-05-21T07:46:58.079357Z",
     "shell.execute_reply": "2025-05-21T07:46:58.078664Z",
     "shell.execute_reply.started": "2025-05-21T07:46:58.061882Z"
    }
   },
   "outputs": [
    {
     "data": {
      "text/plain": [
       "15.0"
      ]
     },
     "execution_count": 26,
     "metadata": {},
     "output_type": "execute_result"
    }
   ],
   "source": [
    "from langchain_core.tools import tool\n",
    "\n",
    "\n",
    "@tool\n",
    "def multiply(a: float, b: float) -> float:\n",
    "    \"\"\"Multiply two numbers together.\"\"\"\n",
    "    return a * b\n",
    "\n",
    "\n",
    "@tool\n",
    "def add(x: int, y: int) -> int:\n",
    "    \"Add two numbers.\"\n",
    "    return x + y\n",
    "\n",
    "tools = [multiply, add]\n",
    "\n",
    "\n",
    "# @register_function_schema\n",
    "# def multiply(x: float, y: float) -> float:\n",
    "#     \"\"\"Multiply two numbers together.\"\"\"\n",
    "#     return x * y\n",
    "\n",
    "\n",
    "# @register_function_schema\n",
    "# def add(x: int, y: int) -> int:\n",
    "#     \"Add two numbers.\"\n",
    "#     return x + y\n",
    "\n",
    "# r = json.dumps([tool._schema for tool in tools], indent=4)\n",
    "\n",
    "\n",
    "# from pydantic import BaseModel\n",
    "\n",
    "# class UserInput(BaseModel):\n",
    "#     name: str\n",
    "#     age: int\n",
    "\n",
    "# def process_user(data: UserInput):\n",
    "#     return f\"{data.name} is {data.age} years old.\"\n",
    "\n",
    "# # Example usage\n",
    "# user = UserInput(name=\"Alice\", age=30)\n",
    "# print(process_user(user))\n",
    "# UserInput.model_json_schema()\n",
    "\n",
    "# from pydantic import BaseModel\n",
    "\n",
    "# class UserInput(BaseModel):\n",
    "#     name: str\n",
    "#     age: int\n",
    "\n",
    "# def process_user(data: UserInput):\n",
    "#     return f\"{data.name} is {data.age} years old.\"\n",
    "\n",
    "# # Example usage\n",
    "# user = UserInput(name=\"Alice\", age=30)\n",
    "# print(process_user(user))\n",
    "# UserInput.model_json_schema()\n",
    "\n",
    "invoke_tool({\"name\": \"multiply\", \"arguments\": {\"a\": 3, \"b\": 5}})"
   ]
  },
  {
   "cell_type": "code",
   "execution_count": 5,
   "id": "56105cb6-5ca6-4cf1-851a-ca7edc707bb8",
   "metadata": {
    "execution": {
     "iopub.execute_input": "2025-05-21T07:45:11.914198Z",
     "iopub.status.busy": "2025-05-21T07:45:11.913748Z",
     "iopub.status.idle": "2025-05-21T07:45:11.973764Z",
     "shell.execute_reply": "2025-05-21T07:45:11.973019Z",
     "shell.execute_reply.started": "2025-05-21T07:45:11.914159Z"
    }
   },
   "outputs": [
    {
     "name": "stdout",
     "output_type": "stream",
     "text": [
      "multiply(a: float, b: float) -> float - Multiply two numbers together.\n",
      "add(x: int, y: int) -> int - Add two numbers.\n"
     ]
    }
   ],
   "source": [
    "from langchain_core.output_parsers import JsonOutputParser\n",
    "from langchain_core.prompts import ChatPromptTemplate\n",
    "from langchain_core.tools import render_text_description\n",
    "\n",
    "rendered_tools = render_text_description(tools)\n",
    "print(rendered_tools)"
   ]
  },
  {
   "cell_type": "markdown",
   "id": "ff14a1d8-86ca-4788-8538-21d3ae6bf50a",
   "metadata": {
    "jp-MarkdownHeadingCollapsed": true
   },
   "source": [
    "# single tool calling at a time"
   ]
  },
  {
   "cell_type": "code",
   "execution_count": 6,
   "id": "0a561fe3-f728-4394-8873-614e17ff1683",
   "metadata": {
    "execution": {
     "iopub.execute_input": "2025-05-21T07:45:13.024066Z",
     "iopub.status.busy": "2025-05-21T07:45:13.023801Z",
     "iopub.status.idle": "2025-05-21T07:45:13.027889Z",
     "shell.execute_reply": "2025-05-21T07:45:13.027147Z",
     "shell.execute_reply.started": "2025-05-21T07:45:13.024044Z"
    }
   },
   "outputs": [],
   "source": [
    "system_prompt = f\"\"\"\\\n",
    "You have access to functions. If you decide to invoke any of the function(s),\n",
    "you MUST put it in the format of\n",
    "{{{{\"name\": function name, \"arguments\": dictionary of argument name and its value}}}}\n",
    "\n",
    "You SHOULD NOT include any other text in the response if you call a function\n",
    "{rendered_tools}\n",
    "\n",
    "\"\"\"\n",
    "\n",
    "prompt = ChatPromptTemplate.from_messages(\n",
    "    [(\"system\", system_prompt), (\"user\", \"{input}\")]\n",
    ")"
   ]
  },
  {
   "cell_type": "code",
   "execution_count": 7,
   "id": "5a1020bf-dd55-431d-a990-767137b86e83",
   "metadata": {
    "execution": {
     "iopub.execute_input": "2025-05-21T07:45:13.875815Z",
     "iopub.status.busy": "2025-05-21T07:45:13.875527Z",
     "iopub.status.idle": "2025-05-21T07:45:15.593090Z",
     "shell.execute_reply": "2025-05-21T07:45:15.591277Z",
     "shell.execute_reply.started": "2025-05-21T07:45:13.875790Z"
    }
   },
   "outputs": [
    {
     "data": {
      "text/plain": [
       "{'name': 'multiply', 'arguments': {'a': 13, 'b': 4}}"
      ]
     },
     "execution_count": 7,
     "metadata": {},
     "output_type": "execute_result"
    }
   ],
   "source": [
    "from langchain_core.output_parsers import JsonOutputParser\n",
    "\n",
    "chain = prompt | model | JsonOutputParser()\n",
    "chain.invoke({\"input\": \"what's thirteen times 4 and 12 plus 7\"})"
   ]
  },
  {
   "cell_type": "code",
   "execution_count": 8,
   "id": "073c84cf-52a5-4161-8950-ce1d4ca077cc",
   "metadata": {
    "execution": {
     "iopub.execute_input": "2025-05-21T07:45:17.806907Z",
     "iopub.status.busy": "2025-05-21T07:45:17.806598Z",
     "iopub.status.idle": "2025-05-21T07:45:18.956323Z",
     "shell.execute_reply": "2025-05-21T07:45:18.955569Z",
     "shell.execute_reply.started": "2025-05-21T07:45:17.806886Z"
    }
   },
   "outputs": [
    {
     "data": {
      "text/plain": [
       "{'name': 'multiply',\n",
       " 'arguments': {'a': 13, 'b': 4.14137281},\n",
       " 'output': 53.83784653}"
      ]
     },
     "execution_count": 8,
     "metadata": {},
     "output_type": "execute_result"
    }
   ],
   "source": [
    "from langchain_core.runnables import RunnablePassthrough\n",
    "\n",
    "chain = (\n",
    "    prompt | model | JsonOutputParser() | RunnablePassthrough.assign(output=invoke_tool)\n",
    ")\n",
    "chain.invoke({\"input\": \"what's thirteen times 4.14137281\"})"
   ]
  },
  {
   "cell_type": "markdown",
   "id": "ce6150b6-e95e-43da-ac1e-322ceaf40bab",
   "metadata": {
    "jp-MarkdownHeadingCollapsed": true
   },
   "source": [
    "# multi-tool calling"
   ]
  },
  {
   "cell_type": "code",
   "execution_count": 9,
   "id": "d59837f9-5fb1-48fd-bc83-3a03c283d935",
   "metadata": {
    "execution": {
     "iopub.execute_input": "2025-05-21T07:45:26.291930Z",
     "iopub.status.busy": "2025-05-21T07:45:26.291119Z",
     "iopub.status.idle": "2025-05-21T07:45:26.300468Z",
     "shell.execute_reply": "2025-05-21T07:45:26.298459Z",
     "shell.execute_reply.started": "2025-05-21T07:45:26.291864Z"
    }
   },
   "outputs": [],
   "source": [
    "# [\n",
    "#   {{{{\n",
    "#     \"name\": \"tool_name\",\n",
    "#     \"arguments\": {{{{\n",
    "#       \"x\": value1,\n",
    "#       \"y\": value2\n",
    "#     }}}}\n",
    "#   }}}},\n",
    "#   ...\n",
    "# ]\n",
    "\n",
    "# [{{{{\"name\": function name, \"arguments\": }}}}, {{{{...}}}}]"
   ]
  },
  {
   "cell_type": "code",
   "execution_count": 10,
   "id": "5bfc9420-1546-42c2-9c19-8dba216cfdfd",
   "metadata": {
    "execution": {
     "iopub.execute_input": "2025-05-21T07:45:26.858713Z",
     "iopub.status.busy": "2025-05-21T07:45:26.858448Z",
     "iopub.status.idle": "2025-05-21T07:45:26.863810Z",
     "shell.execute_reply": "2025-05-21T07:45:26.863020Z",
     "shell.execute_reply.started": "2025-05-21T07:45:26.858691Z"
    }
   },
   "outputs": [
    {
     "name": "stdout",
     "output_type": "stream",
     "text": [
      "You have access to functions. If you decide to invoke any of the function(s),\n",
      "you MUST put it in the format of\n",
      "\n",
      "[\n",
      "  {{\n",
      "    \"name\": \"tool_name\",\n",
      "    \"arguments\": dictionary of argument name and its value\n",
      "  }},\n",
      "  ...\n",
      "]\n",
      "\n",
      "You SHOULD NOT include any other text in the response if you call a function\n",
      "multiply(a: float, b: float) -> float - Multiply two numbers together.\n",
      "add(x: int, y: int) -> int - Add two numbers.\n",
      "\n"
     ]
    }
   ],
   "source": [
    "system_prompt = f\"\"\"\\\n",
    "You have access to functions. If you decide to invoke any of the function(s),\n",
    "you MUST put it in the format of\n",
    "\n",
    "[\n",
    "  {{{{\n",
    "    \"name\": \"tool_name\",\n",
    "    \"arguments\": dictionary of argument name and its value\n",
    "  }}}},\n",
    "  ...\n",
    "]\n",
    "\n",
    "You SHOULD NOT include any other text in the response if you call a function\n",
    "{rendered_tools}\n",
    "\"\"\"\n",
    "\n",
    "print(system_prompt)\n",
    "prompt = ChatPromptTemplate.from_messages(\n",
    "    [(\"system\", system_prompt), (\"user\", \"{input}\")]\n",
    ")"
   ]
  },
  {
   "cell_type": "code",
   "execution_count": 19,
   "id": "01c79b4c-76c9-4441-a28a-149ba6803645",
   "metadata": {
    "execution": {
     "iopub.execute_input": "2025-05-21T07:46:23.884053Z",
     "iopub.status.busy": "2025-05-21T07:46:23.883277Z",
     "iopub.status.idle": "2025-05-21T07:46:26.501927Z",
     "shell.execute_reply": "2025-05-21T07:46:26.499634Z",
     "shell.execute_reply.started": "2025-05-21T07:46:23.883985Z"
    }
   },
   "outputs": [
    {
     "data": {
      "text/plain": [
       "[{'name': 'multiply', 'arguments': {'a': 13, 'b': 4}},\n",
       " {'name': 'add', 'arguments': {'x': 12, 'y': 7}}]"
      ]
     },
     "execution_count": 19,
     "metadata": {},
     "output_type": "execute_result"
    }
   ],
   "source": [
    "from langchain_core.output_parsers import JsonOutputParser\n",
    "\n",
    "chain = prompt | model | JsonOutputParser()\n",
    "chain.invoke({\"input\": \"what's thirteen times 4 and 12 plus 7\"})"
   ]
  },
  {
   "cell_type": "code",
   "execution_count": 20,
   "id": "a2349e1b-f116-4ac5-813a-0e9254cb49ad",
   "metadata": {
    "execution": {
     "iopub.execute_input": "2025-05-21T07:46:26.505951Z",
     "iopub.status.busy": "2025-05-21T07:46:26.505163Z",
     "iopub.status.idle": "2025-05-21T07:46:26.517561Z",
     "shell.execute_reply": "2025-05-21T07:46:26.515394Z",
     "shell.execute_reply.started": "2025-05-21T07:46:26.505883Z"
    }
   },
   "outputs": [],
   "source": [
    "def run_tool_calls(tool_calls: list[ToolCallRequest]):\n",
    "    results = []\n",
    "    for call in tool_calls:\n",
    "        result = invoke_tool(call)\n",
    "        results.append({\n",
    "            \"name\": call[\"name\"],\n",
    "            \"arguments\": call[\"arguments\"],\n",
    "            \"output\": result\n",
    "        })\n",
    "    return results"
   ]
  },
  {
   "cell_type": "code",
   "execution_count": 24,
   "id": "62b20fcb-f8b1-419b-919a-fc25846ece01",
   "metadata": {
    "execution": {
     "iopub.execute_input": "2025-05-21T07:46:37.167984Z",
     "iopub.status.busy": "2025-05-21T07:46:37.165945Z",
     "iopub.status.idle": "2025-05-21T07:46:37.175010Z",
     "shell.execute_reply": "2025-05-21T07:46:37.174129Z",
     "shell.execute_reply.started": "2025-05-21T07:46:37.167923Z"
    }
   },
   "outputs": [],
   "source": [
    "from langchain_core.runnables import RunnableLambda\n",
    "\n",
    "chain = prompt | model | JsonOutputParser() | RunnableLambda(run_tool_calls)"
   ]
  },
  {
   "cell_type": "code",
   "execution_count": 25,
   "id": "317d29d6-6552-4ddc-bcb3-27c10db10bfb",
   "metadata": {
    "execution": {
     "iopub.execute_input": "2025-05-21T07:46:38.127573Z",
     "iopub.status.busy": "2025-05-21T07:46:38.126810Z",
     "iopub.status.idle": "2025-05-21T07:46:40.750696Z",
     "shell.execute_reply": "2025-05-21T07:46:40.748657Z",
     "shell.execute_reply.started": "2025-05-21T07:46:38.127506Z"
    }
   },
   "outputs": [
    {
     "data": {
      "text/plain": [
       "[{'name': 'multiply', 'arguments': {'a': 234, 'b': 3}, 'output': 702.0},\n",
       " {'name': 'add', 'arguments': {'x': 293, 'y': 98}, 'output': 391}]"
      ]
     },
     "execution_count": 25,
     "metadata": {},
     "output_type": "execute_result"
    }
   ],
   "source": [
    "full_chain.invoke({\"input\": \"what is 234 * 3 and what is 293 + 98\"})"
   ]
  },
  {
   "cell_type": "markdown",
   "id": "a8e8f06a-c108-4ef5-b8f3-8992b0157475",
   "metadata": {
    "jp-MarkdownHeadingCollapsed": true
   },
   "source": [
    "# add summarizer"
   ]
  },
  {
   "cell_type": "code",
   "execution_count": 34,
   "id": "148963e4-d07b-4f71-89cf-17eac62ff5e4",
   "metadata": {
    "execution": {
     "iopub.execute_input": "2025-05-21T08:04:02.797279Z",
     "iopub.status.busy": "2025-05-21T08:04:02.797006Z",
     "iopub.status.idle": "2025-05-21T08:04:02.803216Z",
     "shell.execute_reply": "2025-05-21T08:04:02.802238Z",
     "shell.execute_reply.started": "2025-05-21T08:04:02.797257Z"
    }
   },
   "outputs": [],
   "source": [
    "from langchain_core.prompts import ChatPromptTemplate\n",
    "\n",
    "summarize_prompt = ChatPromptTemplate.from_messages([\n",
    "    (\n",
    "        \"system\",\n",
    "        \"You are a helpful assistant. Summarize the tool results in simple, natural language. \"\n",
    "        \"Avoid verbose introductions. Just clearly state what was computed.\"\n",
    "    ),\n",
    "    (\n",
    "        \"user\",\n",
    "        \"Tool results:\\n{results}\"\n",
    "    )\n",
    "])\n",
    "\n",
    "summarize_chain = summarize_prompt | model"
   ]
  },
  {
   "cell_type": "code",
   "execution_count": 35,
   "id": "d385b5fc-99cf-48f1-8adb-6bfae1eb2a26",
   "metadata": {
    "execution": {
     "iopub.execute_input": "2025-05-21T08:04:03.466743Z",
     "iopub.status.busy": "2025-05-21T08:04:03.465720Z",
     "iopub.status.idle": "2025-05-21T08:04:03.474441Z",
     "shell.execute_reply": "2025-05-21T08:04:03.472635Z",
     "shell.execute_reply.started": "2025-05-21T08:04:03.466704Z"
    }
   },
   "outputs": [],
   "source": [
    "from langchain_core.runnables import RunnableLambda\n",
    "\n",
    "# The full chain: parse → invoke → summarize\n",
    "chain = (\n",
    "    prompt\n",
    "    | model\n",
    "    | JsonOutputParser()\n",
    "    | RunnableLambda(run_tool_calls)\n",
    "    | RunnableLambda(lambda state: summarize_chain.invoke({\"results\": state}))\n",
    "    | RunnableLambda(lambda x: x.content if hasattr(x, \"content\") else x)\n",
    ")\n"
   ]
  },
  {
   "cell_type": "code",
   "execution_count": 39,
   "id": "b11459e8-f4ce-4d0c-86e3-0ba657015a3a",
   "metadata": {
    "execution": {
     "iopub.execute_input": "2025-05-21T08:05:53.173760Z",
     "iopub.status.busy": "2025-05-21T08:05:53.172976Z",
     "iopub.status.idle": "2025-05-21T08:05:56.994788Z",
     "shell.execute_reply": "2025-05-21T08:05:56.992569Z",
     "shell.execute_reply.started": "2025-05-21T08:05:53.173693Z"
    }
   },
   "outputs": [
    {
     "data": {
      "text/plain": [
       "'234 multiplied by 3 equals 702. \\n\\n293 plus 98 equals 391.\\n\\n\\n\\n'"
      ]
     },
     "execution_count": 39,
     "metadata": {},
     "output_type": "execute_result"
    }
   ],
   "source": [
    "chain.invoke({\"input\": \"what is 234 * 3 and 293 + 98\"})"
   ]
  }
 ],
 "metadata": {
  "kernelspec": {
   "display_name": "Python 3 (ipykernel)",
   "language": "python",
   "name": "python3"
  },
  "language_info": {
   "codemirror_mode": {
    "name": "ipython",
    "version": 3
   },
   "file_extension": ".py",
   "mimetype": "text/x-python",
   "name": "python",
   "nbconvert_exporter": "python",
   "pygments_lexer": "ipython3",
   "version": "3.12.9"
  }
 },
 "nbformat": 4,
 "nbformat_minor": 5
}
