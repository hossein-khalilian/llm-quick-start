{
 "cells": [
  {
   "cell_type": "markdown",
   "id": "ff543843-bc16-4ad4-bd34-fd1a20504f1d",
   "metadata": {
    "jp-MarkdownHeadingCollapsed": true
   },
   "source": [
    "# Setup"
   ]
  },
  {
   "cell_type": "code",
   "execution_count": 1,
   "id": "b3e85da3-10ff-4f9c-9036-cc0034e1bab4",
   "metadata": {},
   "outputs": [
    {
     "data": {
      "text/plain": [
       "True"
      ]
     },
     "execution_count": 1,
     "metadata": {},
     "output_type": "execute_result"
    }
   ],
   "source": [
    "from dotenv import load_dotenv\n",
    "load_dotenv()"
   ]
  },
  {
   "cell_type": "code",
   "execution_count": 7,
   "id": "f6197a93-d9ed-43cd-a919-cb8f628ba831",
   "metadata": {},
   "outputs": [],
   "source": [
    "import requests\n",
    "from io import BytesIO\n",
    "from openai import OpenAI\n",
    "\n",
    "client = OpenAI()"
   ]
  },
  {
   "cell_type": "markdown",
   "id": "b846af7c-8fff-4c2e-af60-939e8c9374bc",
   "metadata": {
    "jp-MarkdownHeadingCollapsed": true
   },
   "source": [
    "# RAG client"
   ]
  },
  {
   "cell_type": "code",
   "execution_count": 12,
   "id": "7273a759-517f-4dac-8647-d116f64ac8e5",
   "metadata": {},
   "outputs": [],
   "source": [
    "class RAG_Client():\n",
    "    def __init__(self):\n",
    "        self.vector_store = client.vector_stores.create()\n",
    "        self.client = OpenAI()\n",
    "        \n",
    "    def load_file(self, file_path: str):\n",
    "        if file_path.startswith(\"http://\") or file_path.startswith(\"https://\"):\n",
    "            # Download the file content from the URL\n",
    "            response = requests.get(file_path)\n",
    "            file_content = BytesIO(response.content)\n",
    "            file_name = file_path.split(\"/\")[-1]\n",
    "            file_tuple = (file_name, file_content)\n",
    "            result = client.files.create(\n",
    "                file=file_tuple,\n",
    "                purpose=\"assistants\"\n",
    "            )\n",
    "        else:\n",
    "            # Handle local file path\n",
    "            with open(file_path, \"rb\") as file_content:\n",
    "                result = client.files.create(\n",
    "                    file=file_content,\n",
    "                    purpose=\"assistants\"\n",
    "                )\n",
    "                \n",
    "        file_id = result.id\n",
    "        client.vector_stores.files.create(\n",
    "            vector_store_id=self.vector_store.id,\n",
    "            file_id=file_id\n",
    "        )\n",
    "\n",
    "    def check_loading_completion(self):\n",
    "        result = self.client.vector_stores.files.list(\n",
    "            vector_store_id=self.vector_store.id\n",
    "        )\n",
    "        if result.data[0].status == \"completed\":\n",
    "            return True\n",
    "            \n",
    "        return False\n",
    "\n",
    "    def generate_with_file_search(self, query: str):\n",
    "        if not self.check_loading_completion():\n",
    "            return \"File loading is not complete yet, please wait.\"\n",
    "            \n",
    "        response = self.client.responses.create(\n",
    "            model=\"gpt-4o-mini\",\n",
    "            input=query,\n",
    "            tools=[{\n",
    "                \"type\": \"file_search\",\n",
    "                \"vector_store_ids\": [self.vector_store.id],\n",
    "            }]\n",
    "        )\n",
    "\n",
    "        return response\n",
    "\n",
    "    "
   ]
  },
  {
   "cell_type": "markdown",
   "id": "5a22a392-3245-4196-a0ea-919234984f2b",
   "metadata": {
    "jp-MarkdownHeadingCollapsed": true
   },
   "source": [
    "# Vector store operations"
   ]
  },
  {
   "cell_type": "code",
   "execution_count": 102,
   "id": "22ca361a-ecbd-43ef-9383-ce8f9f80754b",
   "metadata": {},
   "outputs": [],
   "source": [
    "def vector_store_create(name: None | str=None):\n",
    "    vector_store = client.vector_stores.create(name=name)\n",
    "\n",
    "    return vector_store.id\n",
    "\n",
    "def vector_store_delete(vector_store_id: str):\n",
    "    try:\n",
    "        client.vector_stores.delete(\n",
    "            vector_store_id=vector_store_id\n",
    "        )\n",
    "        return True\n",
    "    except Exception as e:\n",
    "        print(\"Error occured: \", e)\n",
    "\n",
    "def vector_store_list():\n",
    "    return client.vector_stores.list().model_dump()\n",
    "\n",
    "def vector_store_retrieve(vector_store_id: str):\n",
    "    return client.vector_stores.retrieve(\n",
    "        vector_store_id=vector_store_id\n",
    "    )\n",
    "\n",
    "def vector_store_check_completion(vector_store_id: str):\n",
    "    if vector_store_retrieve(vector_store_id).status == \"completed\":\n",
    "        return True\n",
    "    else:\n",
    "        return False\n",
    "\n",
    "def vector_store_status(vector_store_id: str):\n",
    "    return vector_store_retrieve(vector_store_id).status\n",
    "\n",
    "def vector_store_update(vector_store_id, *args, **kwargs):\n",
    "    client.vector_stores.update(\n",
    "        vector_store_id=vector_store_id,\n",
    "        *args,\n",
    "        **kwargs\n",
    "    )"
   ]
  },
  {
   "cell_type": "markdown",
   "id": "65ad607f-e1fd-48c2-b086-9f14054510cb",
   "metadata": {
    "jp-MarkdownHeadingCollapsed": true
   },
   "source": [
    "# OpenAI file operations"
   ]
  },
  {
   "cell_type": "code",
   "execution_count": 39,
   "id": "40acdcd9-01ab-4cf8-a46f-398c65def937",
   "metadata": {},
   "outputs": [],
   "source": [
    "def file_upload_openai(file_path: str):\n",
    "    if file_path.startswith(\"http://\") or file_path.startswith(\"https://\"):\n",
    "        # Download the file content from the URL\n",
    "        response = requests.get(file_path)\n",
    "        file_content = BytesIO(response.content)\n",
    "        file_name = file_path.split(\"/\")[-1]\n",
    "        file_tuple = (file_name, file_content)\n",
    "        result = client.files.create(\n",
    "            file=file_tuple,\n",
    "            purpose=\"assistants\"\n",
    "        )\n",
    "    else:\n",
    "        # Handle local file path\n",
    "        with open(file_path, \"rb\") as file_content:\n",
    "            result = client.files.create(\n",
    "                file=file_content,\n",
    "                purpose=\"assistants\"\n",
    "            )\n",
    "            \n",
    "    file_id = result.id\n",
    "\n",
    "    return file_id\n",
    "\n",
    "\n",
    "def batch_upload_openai(file_paths: list[str]):\n",
    "    file_ids = []\n",
    "    for file_path in file_paths:\n",
    "        if file_path.startswith(\"http://\") or file_path.startswith(\"https://\"):\n",
    "            # Download the file content from the URL\n",
    "            response = requests.get(file_path)\n",
    "            file_content = BytesIO(response.content)\n",
    "            file_name = file_path.split(\"/\")[-1]\n",
    "            file_tuple = (file_name, file_content)\n",
    "            result = client.files.create(\n",
    "                file=file_tuple,\n",
    "                purpose=\"assistants\"\n",
    "            )\n",
    "        else:\n",
    "            # Handle local file path\n",
    "            with open(file_path, \"rb\") as file_content:\n",
    "                result = client.files.create(\n",
    "                    file=file_content,\n",
    "                    purpose=\"assistants\"\n",
    "                )\n",
    "                \n",
    "        file_ids.append(result.id)\n",
    "\n",
    "    return file_ids\n",
    "\n",
    "\n",
    "def file_list_openai():\n",
    "    return client.files.list().model_dump()\n",
    "\n",
    "\n",
    "def file_delete_openai(file_id: str):\n",
    "    try:\n",
    "        return client.files.delete(file_id)\n",
    "    except Exception as e:\n",
    "        print(\"Error occured:\", e)\n",
    "        return False\n",
    "\n",
    "def batch_delete_openai(file_ids: list[str]):\n",
    "    count = 0\n",
    "    for file_id in file_ids:\n",
    "        try:\n",
    "            client.files.delete(file_id)\n",
    "            count += 1\n",
    "        except Exception as e:\n",
    "            print(\"Error occured:\", e)\n",
    "\n",
    "    return f\"{count} out of {len(file_ids)} files deleted successfully.\""
   ]
  },
  {
   "cell_type": "markdown",
   "id": "ef2baeda-f9bb-4161-8ef9-128bbf5f7dca",
   "metadata": {
    "jp-MarkdownHeadingCollapsed": true
   },
   "source": [
    "# Vector store file operations"
   ]
  },
  {
   "cell_type": "code",
   "execution_count": 97,
   "id": "3d1b0c5f-da68-4f85-baac-eab20c4dfc79",
   "metadata": {},
   "outputs": [],
   "source": [
    "def vector_store_file_create(file_id: str, vector_store_id: str):\n",
    "    return client.vector_stores.files.create(\n",
    "        file_id=file_id,\n",
    "        vector_store_id=vector_store_id,\n",
    "    )\n",
    "\n",
    "def vector_store_file_creation_status(file_id: str, vector_store_id: str):\n",
    "    return file_retrieve(file_id, vector_store_id).status\n",
    "    \n",
    "def vector_store_file_creation_check_completion(file_id: str, vector_store_id: str):\n",
    "    if file_retrieve(file_id, vector_store_id).status == \"completed\":\n",
    "        return True\n",
    "    return False\n",
    "    \n",
    "\n",
    "def vector_store_file_create_pole(file_id: str, vector_store_id: str):\n",
    "    return client.vector_stores.files.create_and_poll(\n",
    "        file_id=file_id,\n",
    "        vector_store_id=vector_store_id,\n",
    "    )\n",
    "\n",
    "\n",
    "def vector_store_file_upload_pole(file_path: str, vector_store_id: str):\n",
    "    return client.vector_stores.files.upload_and_poll(\n",
    "        vector_store_id=vector_store_id,\n",
    "        file=open(file_path, \"rb\")\n",
    "    ).id\n",
    "\n",
    "\n",
    "def vector_store_file_retrieve(file_id: str, vector_store_id: str):\n",
    "    try:\n",
    "        return client.vector_stores.files.retrieve(\n",
    "            vector_store_id=vector_store_id,\n",
    "            file_id=file_id\n",
    "        )\n",
    "    except Exception as e:\n",
    "        return (\"Error occured: \", e)\n",
    "\n",
    "def vector_store_file_update(file_id: str, vector_store_id: str, attributes: dict):\n",
    "    client.vector_stores.files.update(\n",
    "        vector_store_id=vector_store_id,\n",
    "        file_id=file_id,\n",
    "        attributes=attributes\n",
    "    )\n",
    "\n",
    "\n",
    "def vector_store_file_delete(file_id: str, vector_store_id: str):\n",
    "    try:\n",
    "        return client.vector_stores.files.delete(\n",
    "            vector_store_id=vector_store_id,\n",
    "            file_id=file_id\n",
    "        )\n",
    "    except Exception as e:\n",
    "        return f\"Err: {e}\"\n",
    "\n",
    "\n",
    "def vector_store_file_list(vector_store_id: str):\n",
    "    return client.vector_stores.files.list(\n",
    "        vector_store_id=vector_store_id\n",
    "    ).model_dump()"
   ]
  },
  {
   "cell_type": "markdown",
   "id": "8771c188-9857-4a66-bfdc-3a15c0348806",
   "metadata": {
    "jp-MarkdownHeadingCollapsed": true
   },
   "source": [
    "## batch operations"
   ]
  },
  {
   "cell_type": "code",
   "execution_count": 5,
   "id": "56a7d90b-060b-4134-a069-1e5ed0289c58",
   "metadata": {},
   "outputs": [],
   "source": [
    "def batch_create(vector_store_id: str, file_ids: list[str]):\n",
    "    return client.vector_stores.file_batches.create(\n",
    "        vector_store_id=vector_store_id,\n",
    "        file_ids=file_ids\n",
    "    ).id\n",
    "    \n",
    "    \n",
    "def batch_create_and_pole(vector_store_id: str, file_ids: list[str]):\n",
    "    batch_id = client.vector_stores.file_batches.create_and_poll(\n",
    "        vector_store_id=vector_store_id,\n",
    "        file_ids=file_ids\n",
    "    ).id\n",
    "\n",
    "    return batch_id\n",
    "\n",
    "\n",
    "def batch_retrieve(batch_id: str, vector_store_id: str):\n",
    "    return client.vector_stores.file_batches.retrieve(\n",
    "        batch_id=batch_id,\n",
    "        vector_store_id=vector_store_id,\n",
    "    )\n",
    "\n",
    "def batch_creation_check_completion(batch_id: str, vector_store_id: str):\n",
    "    if batch_retrieve(batch_id, vector_store_id).status == \"completed\":\n",
    "        return True\n",
    "    return False\n",
    "\n",
    "def batch_creation_get_status(batch_id: str, vector_store_id: str):\n",
    "    return batch_retrieve(batch_id, vector_store_id).status\n",
    "\n",
    "def batch_cancelation(batch_id: str, vector_store_id: str):\n",
    "    return client.vector_stores.file_batches.cancel(\n",
    "        batch_id=batch_id,\n",
    "        vector_store_id=vector_store_id,\n",
    "    )\n",
    "\n",
    "def batch_list(vector_store_id: str):\n",
    "    return client.vector_stores.file_batches.list(\n",
    "        vector_store_id=vector_store_id,\n",
    "    )"
   ]
  },
  {
   "cell_type": "markdown",
   "id": "72d27d72-441e-4911-97e6-8f0c5beaec2c",
   "metadata": {
    "jp-MarkdownHeadingCollapsed": true
   },
   "source": [
    "# Genaration"
   ]
  },
  {
   "cell_type": "code",
   "execution_count": 133,
   "id": "08c2b3c6-42a4-44b7-a133-0c724fca6d87",
   "metadata": {},
   "outputs": [],
   "source": [
    "def generate_with_file_search(query: str, vector_store_id: str):\n",
    "    client = OpenAI()\n",
    "    response = client.responses.create(\n",
    "        model=\"gpt-4o-mini\",\n",
    "        input=query,\n",
    "        tools=[{\n",
    "            \"type\": \"file_search\",\n",
    "            \"vector_store_ids\": [vector_store_id],\n",
    "        }]\n",
    "    )\n",
    "\n",
    "    return response\n",
    "\n",
    "def format_results(results):\n",
    "    formatted_results = ''\n",
    "    for result in results.data:\n",
    "        formatted_result = f\"<result file_id='{result.file_id}' file_name='{result.filename}'>\"\n",
    "        for part in result.content:\n",
    "            formatted_result += f\"<content>{part.text}</content>\"\n",
    "        formatted_results += formatted_result + \"</result>\"\n",
    "    return f\"<sources>{formatted_results}</sources>\"\n",
    "    \n",
    "def semantic_search(query: str, vector_store_id: str):\n",
    "    results = client.vector_stores.search(\n",
    "        vector_store_id=vector_store_id,\n",
    "        query=query,\n",
    "    )\n",
    "    \n",
    "    return results\n",
    "\n",
    "def generate_with_information_retrieval(query: str, vector_store_id: str):\n",
    "    results = semantic_search(query, vector_store_id)\n",
    "    formatted_results = format_results(results)\n",
    "\n",
    "    response = client.chat.completions.create(\n",
    "        model=\"gpt-4o-mini\",\n",
    "        messages=[\n",
    "            {\n",
    "                \"role\": \"assistant\",\n",
    "                \"content\": \"Produce a concise answer to the query based on the provided sources. If you don't have access to related information in your context just say \\\" I don't know\\\"\"\n",
    "            },\n",
    "            {\n",
    "                \"role\": \"user\",\n",
    "                \"content\": f\"Sources: {formatted_results}\\n\\nQuery: '{query}'\"\n",
    "            }\n",
    "        ],\n",
    "    )\n",
    "\n",
    "    return response"
   ]
  },
  {
   "cell_type": "markdown",
   "id": "43621fae-77f4-4e3b-84cc-e03ddf2edd68",
   "metadata": {},
   "source": [
    "# Usage"
   ]
  },
  {
   "cell_type": "markdown",
   "id": "87ad8f7d-3242-4715-bac7-242d8fd545b9",
   "metadata": {
    "jp-MarkdownHeadingCollapsed": true
   },
   "source": [
    "## vector store operations"
   ]
  },
  {
   "cell_type": "code",
   "execution_count": 12,
   "id": "8a82ce36-a3fa-42b1-a523-887227d39fff",
   "metadata": {},
   "outputs": [
    {
     "data": {
      "text/plain": [
       "'vs_6829a2598a308191a2cdee158d5961e3'"
      ]
     },
     "execution_count": 12,
     "metadata": {},
     "output_type": "execute_result"
    }
   ],
   "source": [
    "vector_store_id = vector_store_create()\n",
    "vector_store_id"
   ]
  },
  {
   "cell_type": "code",
   "execution_count": 13,
   "id": "b98d57b1-fa80-426b-b49d-c6a0af4e2e1c",
   "metadata": {},
   "outputs": [
    {
     "data": {
      "text/plain": [
       "VectorStore(id='vs_6829a2598a308191a2cdee158d5961e3', created_at=1747559001, file_counts=FileCounts(cancelled=0, completed=0, failed=0, in_progress=0, total=0), last_active_at=1747559001, metadata={}, name=None, object='vector_store', status='completed', usage_bytes=0, expires_after=None, expires_at=None)"
      ]
     },
     "execution_count": 13,
     "metadata": {},
     "output_type": "execute_result"
    }
   ],
   "source": [
    "vector_store_retrieve(vector_store_id)"
   ]
  },
  {
   "cell_type": "code",
   "execution_count": 16,
   "id": "b6a8167d-4e98-4a1c-b859-85cb8ac809ee",
   "metadata": {},
   "outputs": [],
   "source": [
    "vector_store_update(vector_store_id=vector_store_id, name=\"my_vector_store\")"
   ]
  },
  {
   "cell_type": "code",
   "execution_count": 17,
   "id": "22c75c40-f888-4b74-b5a3-a70aaa13f529",
   "metadata": {},
   "outputs": [
    {
     "data": {
      "text/plain": [
       "'my_vector_store'"
      ]
     },
     "execution_count": 17,
     "metadata": {},
     "output_type": "execute_result"
    }
   ],
   "source": [
    "vector_store_retrieve(vector_store_id).name"
   ]
  },
  {
   "cell_type": "code",
   "execution_count": 103,
   "id": "93a7d581-0864-4b72-9fca-f82ea9a16cf6",
   "metadata": {},
   "outputs": [
    {
     "data": {
      "text/plain": [
       "'completed'"
      ]
     },
     "execution_count": 103,
     "metadata": {},
     "output_type": "execute_result"
    }
   ],
   "source": [
    "vector_store_status(vector_store_id)"
   ]
  },
  {
   "cell_type": "code",
   "execution_count": 99,
   "id": "a08da9dc-4d3c-4729-aeba-49a3955a70a9",
   "metadata": {},
   "outputs": [
    {
     "data": {
      "text/plain": [
       "True"
      ]
     },
     "execution_count": 99,
     "metadata": {},
     "output_type": "execute_result"
    }
   ],
   "source": [
    "vector_store_check_completion(vector_store_id)"
   ]
  },
  {
   "cell_type": "code",
   "execution_count": 20,
   "id": "a0c7bdac-de9a-4318-8021-09315585a088",
   "metadata": {},
   "outputs": [
    {
     "data": {
      "text/plain": [
       "True"
      ]
     },
     "execution_count": 20,
     "metadata": {},
     "output_type": "execute_result"
    }
   ],
   "source": [
    "vector_store_delete(vector_store_id)"
   ]
  },
  {
   "cell_type": "code",
   "execution_count": 21,
   "id": "1c42f33c-00e0-4ec0-8798-644d94d85229",
   "metadata": {},
   "outputs": [
    {
     "name": "stdout",
     "output_type": "stream",
     "text": [
      "Error occured:  Error code: 404 - {'error': {'message': \"No vector store found with id 'vs_6829a2598a308191a2cdee158d5961e3'.\", 'type': 'invalid_request_error', 'param': 'vector_store_id', 'code': None}}\n"
     ]
    }
   ],
   "source": [
    "vector_store_delete(vector_store_id)"
   ]
  },
  {
   "cell_type": "code",
   "execution_count": 19,
   "id": "565a5369-482a-4f5f-9973-cd6fe0704977",
   "metadata": {},
   "outputs": [
    {
     "data": {
      "text/plain": [
       "{'data': [{'id': 'vs_6829a2598a308191a2cdee158d5961e3',\n",
       "   'created_at': 1747559001,\n",
       "   'file_counts': {'cancelled': 0,\n",
       "    'completed': 0,\n",
       "    'failed': 0,\n",
       "    'in_progress': 0,\n",
       "    'total': 0},\n",
       "   'last_active_at': 1747559085,\n",
       "   'metadata': {},\n",
       "   'name': 'my_vector_store',\n",
       "   'object': 'vector_store',\n",
       "   'status': 'completed',\n",
       "   'usage_bytes': 0,\n",
       "   'expires_after': None,\n",
       "   'expires_at': None},\n",
       "  {'id': 'vs_6829a218d8988191a7a5720dd2d1c098',\n",
       "   'created_at': 1747558936,\n",
       "   'file_counts': {'cancelled': 0,\n",
       "    'completed': 0,\n",
       "    'failed': 0,\n",
       "    'in_progress': 0,\n",
       "    'total': 0},\n",
       "   'last_active_at': 1747558936,\n",
       "   'metadata': {},\n",
       "   'name': None,\n",
       "   'object': 'vector_store',\n",
       "   'status': 'completed',\n",
       "   'usage_bytes': 0,\n",
       "   'expires_after': None,\n",
       "   'expires_at': None},\n",
       "  {'id': 'vs_6829880083a88191aaf7788961e19186',\n",
       "   'created_at': 1747552256,\n",
       "   'file_counts': {'cancelled': 0,\n",
       "    'completed': 0,\n",
       "    'failed': 0,\n",
       "    'in_progress': 0,\n",
       "    'total': 0},\n",
       "   'last_active_at': 1747552256,\n",
       "   'metadata': {},\n",
       "   'name': None,\n",
       "   'object': 'vector_store',\n",
       "   'status': 'completed',\n",
       "   'usage_bytes': 0,\n",
       "   'expires_after': None,\n",
       "   'expires_at': None},\n",
       "  {'id': 'vs_68297f3275e48191a8e539bcefbb8836',\n",
       "   'created_at': 1747550002,\n",
       "   'file_counts': {'cancelled': 0,\n",
       "    'completed': 2,\n",
       "    'failed': 0,\n",
       "    'in_progress': 0,\n",
       "    'total': 2},\n",
       "   'last_active_at': 1747554809,\n",
       "   'metadata': {},\n",
       "   'name': 'hi',\n",
       "   'object': 'vector_store',\n",
       "   'status': 'completed',\n",
       "   'usage_bytes': 133078,\n",
       "   'expires_after': None,\n",
       "   'expires_at': None},\n",
       "  {'id': 'vs_68297f1504c88191bb94da2437dcf2f7',\n",
       "   'created_at': 1747549973,\n",
       "   'file_counts': {'cancelled': 0,\n",
       "    'completed': 1,\n",
       "    'failed': 0,\n",
       "    'in_progress': 0,\n",
       "    'total': 1},\n",
       "   'last_active_at': 1747549979,\n",
       "   'metadata': {},\n",
       "   'name': None,\n",
       "   'object': 'vector_store',\n",
       "   'status': 'completed',\n",
       "   'usage_bytes': 66539,\n",
       "   'expires_after': None,\n",
       "   'expires_at': None},\n",
       "  {'id': 'vs_68297ea58f2c8191983c54f7c4278d8a',\n",
       "   'created_at': 1747549861,\n",
       "   'file_counts': {'cancelled': 0,\n",
       "    'completed': 1,\n",
       "    'failed': 0,\n",
       "    'in_progress': 0,\n",
       "    'total': 1},\n",
       "   'last_active_at': 1747549914,\n",
       "   'metadata': {},\n",
       "   'name': None,\n",
       "   'object': 'vector_store',\n",
       "   'status': 'completed',\n",
       "   'usage_bytes': 66539,\n",
       "   'expires_after': None,\n",
       "   'expires_at': None},\n",
       "  {'id': 'vs_68297c73e28c81919a823802684a943e',\n",
       "   'created_at': 1747549299,\n",
       "   'file_counts': {'cancelled': 0,\n",
       "    'completed': 0,\n",
       "    'failed': 0,\n",
       "    'in_progress': 0,\n",
       "    'total': 0},\n",
       "   'last_active_at': 1747549299,\n",
       "   'metadata': {},\n",
       "   'name': None,\n",
       "   'object': 'vector_store',\n",
       "   'status': 'completed',\n",
       "   'usage_bytes': 0,\n",
       "   'expires_after': None,\n",
       "   'expires_at': None},\n",
       "  {'id': 'vs_6829796039c88191b01b7a810456f1ea',\n",
       "   'created_at': 1747548512,\n",
       "   'file_counts': {'cancelled': 0,\n",
       "    'completed': 0,\n",
       "    'failed': 0,\n",
       "    'in_progress': 0,\n",
       "    'total': 0},\n",
       "   'last_active_at': 1747548586,\n",
       "   'metadata': {},\n",
       "   'name': 'Support FAQ',\n",
       "   'object': 'vector_store',\n",
       "   'status': 'completed',\n",
       "   'usage_bytes': 0,\n",
       "   'expires_after': None,\n",
       "   'expires_at': None},\n",
       "  {'id': 'vs_6829770cd6108191b450ce28bc6b7a20',\n",
       "   'created_at': 1747547916,\n",
       "   'file_counts': {'cancelled': 0,\n",
       "    'completed': 1,\n",
       "    'failed': 0,\n",
       "    'in_progress': 0,\n",
       "    'total': 1},\n",
       "   'last_active_at': 1747547993,\n",
       "   'metadata': {},\n",
       "   'name': 'knowledge_base',\n",
       "   'object': 'vector_store',\n",
       "   'status': 'completed',\n",
       "   'usage_bytes': 66539,\n",
       "   'expires_after': None,\n",
       "   'expires_at': None},\n",
       "  {'id': 'vs_682976a4e6bc8191afec0ac62e900aa8',\n",
       "   'created_at': 1747547812,\n",
       "   'file_counts': {'cancelled': 0,\n",
       "    'completed': 1,\n",
       "    'failed': 0,\n",
       "    'in_progress': 0,\n",
       "    'total': 1},\n",
       "   'last_active_at': 1747547813,\n",
       "   'metadata': {},\n",
       "   'name': 'knowledge_base',\n",
       "   'object': 'vector_store',\n",
       "   'status': 'completed',\n",
       "   'usage_bytes': 66539,\n",
       "   'expires_after': None,\n",
       "   'expires_at': None},\n",
       "  {'id': 'vs_682970f4607881919f3547db4613e81a',\n",
       "   'created_at': 1747546356,\n",
       "   'file_counts': {'cancelled': 0,\n",
       "    'completed': 1,\n",
       "    'failed': 0,\n",
       "    'in_progress': 0,\n",
       "    'total': 1},\n",
       "   'last_active_at': 1747546405,\n",
       "   'metadata': {},\n",
       "   'name': 'knowledge_base',\n",
       "   'object': 'vector_store',\n",
       "   'status': 'completed',\n",
       "   'usage_bytes': 66539,\n",
       "   'expires_after': None,\n",
       "   'expires_at': None}],\n",
       " 'has_more': False,\n",
       " 'object': 'list',\n",
       " 'first_id': 'vs_6829a2598a308191a2cdee158d5961e3',\n",
       " 'last_id': 'vs_682970f4607881919f3547db4613e81a'}"
      ]
     },
     "execution_count": 19,
     "metadata": {},
     "output_type": "execute_result"
    }
   ],
   "source": [
    "vector_store_list()"
   ]
  },
  {
   "cell_type": "markdown",
   "id": "4a13ebf9-14c5-4bcf-90e3-7a72731c026f",
   "metadata": {
    "jp-MarkdownHeadingCollapsed": true
   },
   "source": [
    "## openai file operations"
   ]
  },
  {
   "cell_type": "code",
   "execution_count": 30,
   "id": "e1137c56-bae3-469b-b97d-7fdf9acb8ff8",
   "metadata": {},
   "outputs": [],
   "source": [
    "file_path = \"https://cdn.openai.com/API/docs/deep_research_blog.pdf\"\n",
    "file_paths = [\n",
    "    \"https://cdn.openai.com/API/docs/deep_research_blog.pdf\",\n",
    "    \"https://www.nitrd.gov/nitrdgroups/images/c/c1/American-AI-Initiative-One-Year-Annual-Report.pdf\",\n",
    "    \"https://ww2.arb.ca.gov/sites/default/files/auction-proceeds/cci_annual_report_2025.pdf\"\n",
    "]"
   ]
  },
  {
   "cell_type": "code",
   "execution_count": 35,
   "id": "2e846dbd-fb74-4084-afec-a5aa6419b51a",
   "metadata": {},
   "outputs": [
    {
     "data": {
      "text/plain": [
       "'file-MddCbCpSNzSR8SZ1XRqeFf'"
      ]
     },
     "execution_count": 35,
     "metadata": {},
     "output_type": "execute_result"
    }
   ],
   "source": [
    "file_id = file_upload_openai(file_path)\n",
    "file_id"
   ]
  },
  {
   "cell_type": "code",
   "execution_count": 36,
   "id": "de6327a8-27a4-4d47-943e-4032fafc2bee",
   "metadata": {},
   "outputs": [
    {
     "data": {
      "text/plain": [
       "FileDeleted(id='file-MddCbCpSNzSR8SZ1XRqeFf', deleted=True, object='file')"
      ]
     },
     "execution_count": 36,
     "metadata": {},
     "output_type": "execute_result"
    }
   ],
   "source": [
    "file_delete_openai(file_id)"
   ]
  },
  {
   "cell_type": "code",
   "execution_count": 37,
   "id": "07e23f23-6306-4a52-88df-ed3cff77899d",
   "metadata": {},
   "outputs": [
    {
     "name": "stdout",
     "output_type": "stream",
     "text": [
      "Error occured: Error code: 404 - {'error': {'message': 'No such File object: file-MddCbCpSNzSR8SZ1XRqeFf', 'type': 'invalid_request_error', 'param': 'id', 'code': None}}\n"
     ]
    },
    {
     "data": {
      "text/plain": [
       "False"
      ]
     },
     "execution_count": 37,
     "metadata": {},
     "output_type": "execute_result"
    }
   ],
   "source": [
    "file_delete_openai(file_id)"
   ]
  },
  {
   "cell_type": "code",
   "execution_count": 40,
   "id": "bb7ecc22-653a-4f94-bc9b-620daa0c561c",
   "metadata": {},
   "outputs": [
    {
     "data": {
      "text/plain": [
       "{'data': [{'id': 'file-SWML324Mjaw6o15CNnbaXC',\n",
       "   'bytes': 8573289,\n",
       "   'created_at': 1747550007,\n",
       "   'filename': 'deep_research_blog.pdf',\n",
       "   'object': 'file',\n",
       "   'purpose': 'assistants',\n",
       "   'status': 'processed',\n",
       "   'expires_at': None,\n",
       "   'status_details': None},\n",
       "  {'id': 'file-Rz1MyK1eji78JwH7j9J3sA',\n",
       "   'bytes': 8573289,\n",
       "   'created_at': 1747549978,\n",
       "   'filename': 'deep_research_blog.pdf',\n",
       "   'object': 'file',\n",
       "   'purpose': 'assistants',\n",
       "   'status': 'processed',\n",
       "   'expires_at': None,\n",
       "   'status_details': None},\n",
       "  {'id': 'file-HXHAxP9Y27EaWiNxF8FKpv',\n",
       "   'bytes': 8573289,\n",
       "   'created_at': 1747549913,\n",
       "   'filename': 'deep_research_blog.pdf',\n",
       "   'object': 'file',\n",
       "   'purpose': 'assistants',\n",
       "   'status': 'processed',\n",
       "   'expires_at': None,\n",
       "   'status_details': None},\n",
       "  {'id': 'file-CCMoyvub6FNPiKTSD7s1fq',\n",
       "   'bytes': 8573289,\n",
       "   'created_at': 1747547915,\n",
       "   'filename': 'deep_research_blog.pdf',\n",
       "   'object': 'file',\n",
       "   'purpose': 'assistants',\n",
       "   'status': 'processed',\n",
       "   'expires_at': None,\n",
       "   'status_details': None},\n",
       "  {'id': 'file-FJZxeo2adqYgmP81GLAg56',\n",
       "   'bytes': 8573289,\n",
       "   'created_at': 1747547811,\n",
       "   'filename': 'deep_research_blog.pdf',\n",
       "   'object': 'file',\n",
       "   'purpose': 'assistants',\n",
       "   'status': 'processed',\n",
       "   'expires_at': None,\n",
       "   'status_details': None},\n",
       "  {'id': 'file-7JioeUH3MLXGyyNwqbrhzo',\n",
       "   'bytes': 8573289,\n",
       "   'created_at': 1747547776,\n",
       "   'filename': 'deep_research_blog.pdf',\n",
       "   'object': 'file',\n",
       "   'purpose': 'assistants',\n",
       "   'status': 'processed',\n",
       "   'expires_at': None,\n",
       "   'status_details': None},\n",
       "  {'id': 'file-1f4FLXuSZfhCzcKuBndDsK',\n",
       "   'bytes': 8573289,\n",
       "   'created_at': 1747547763,\n",
       "   'filename': 'deep_research_blog.pdf',\n",
       "   'object': 'file',\n",
       "   'purpose': 'assistants',\n",
       "   'status': 'processed',\n",
       "   'expires_at': None,\n",
       "   'status_details': None},\n",
       "  {'id': 'file-6x5woZsLRLQpUpCFq1M7Du',\n",
       "   'bytes': 8573289,\n",
       "   'created_at': 1747546278,\n",
       "   'filename': 'deep_research_blog.pdf',\n",
       "   'object': 'file',\n",
       "   'purpose': 'assistants',\n",
       "   'status': 'processed',\n",
       "   'expires_at': None,\n",
       "   'status_details': None},\n",
       "  {'id': 'file-PXrYnTGcY3zawTTA14te5a',\n",
       "   'bytes': 8573289,\n",
       "   'created_at': 1747545466,\n",
       "   'filename': 'deep_research_blog.pdf',\n",
       "   'object': 'file',\n",
       "   'purpose': 'assistants',\n",
       "   'status': 'processed',\n",
       "   'expires_at': None,\n",
       "   'status_details': None}],\n",
       " 'has_more': False,\n",
       " 'object': 'list',\n",
       " 'first_id': 'file-SWML324Mjaw6o15CNnbaXC',\n",
       " 'last_id': 'file-PXrYnTGcY3zawTTA14te5a'}"
      ]
     },
     "execution_count": 40,
     "metadata": {},
     "output_type": "execute_result"
    }
   ],
   "source": [
    "list_files = file_list_openai()\n",
    "list_files"
   ]
  },
  {
   "cell_type": "code",
   "execution_count": 41,
   "id": "b540dd64-2c8c-415e-832d-d4cf2ce71427",
   "metadata": {},
   "outputs": [
    {
     "data": {
      "text/plain": [
       "['file-DprfWNMdHJtBzkKdraDZAx',\n",
       " 'file-Tgf1CcLa5r7VcVNLbwaNmJ',\n",
       " 'file-8zETMDPgMtmGWE4FCEAK7z']"
      ]
     },
     "execution_count": 41,
     "metadata": {},
     "output_type": "execute_result"
    }
   ],
   "source": [
    "file_ids = batch_upload_openai(file_paths)\n",
    "file_ids"
   ]
  },
  {
   "cell_type": "code",
   "execution_count": 42,
   "id": "805e2bdd-2533-4131-80a0-9c9b6dca16b5",
   "metadata": {},
   "outputs": [
    {
     "data": {
      "text/plain": [
       "'2 out of 2 files deleted successfully.'"
      ]
     },
     "execution_count": 42,
     "metadata": {},
     "output_type": "execute_result"
    }
   ],
   "source": [
    "file_ids = [\n",
    "    \"file-SWML324Mjaw6o15CNnbaXC\",\n",
    "    \"file-Rz1MyK1eji78JwH7j9J3sA\"\n",
    "]\n",
    "batch_delete_openai(file_ids)"
   ]
  },
  {
   "cell_type": "markdown",
   "id": "d82c1b86-2098-4026-b223-f5ce024a842d",
   "metadata": {
    "jp-MarkdownHeadingCollapsed": true
   },
   "source": [
    "## vector store file operations"
   ]
  },
  {
   "cell_type": "code",
   "execution_count": 68,
   "id": "10582feb-693d-432d-9cb0-0f12b993f5db",
   "metadata": {},
   "outputs": [],
   "source": [
    "file_path = \"https://cdn.openai.com/API/docs/deep_research_blog.pdf\"\n",
    "file_paths = [\n",
    "    \"https://cdn.openai.com/API/docs/deep_research_blog.pdf\",\n",
    "    \"https://www.nitrd.gov/nitrdgroups/images/c/c1/American-AI-Initiative-One-Year-Annual-Report.pdf\",\n",
    "    \"https://ww2.arb.ca.gov/sites/default/files/auction-proceeds/cci_annual_report_2025.pdf\"\n",
    "]\n",
    "\n",
    "# file_ids = batch_upload_openai(file_paths)\n",
    "file_ids = [\n",
    "    'file-DprfWNMdHJtBzkKdraDZAx',\n",
    "    'file-Tgf1CcLa5r7VcVNLbwaNmJ',\n",
    "    'file-8zETMDPgMtmGWE4FCEAK7z'\n",
    "]\n",
    "file_id = file_ids[0]\n",
    "# vector_store_id = vector_store_create()\n",
    "vector_store_id = 'vs_6829a9ff40448191b62872f397c9a600'"
   ]
  },
  {
   "cell_type": "code",
   "execution_count": 74,
   "id": "efe6dd36-d8f4-42e5-9f14-046969c48622",
   "metadata": {},
   "outputs": [
    {
     "data": {
      "text/plain": [
       "VectorStoreFile(id='file-DprfWNMdHJtBzkKdraDZAx', created_at=1747562576, last_error=None, object='vector_store.file', status='in_progress', usage_bytes=0, vector_store_id='vs_6829a9ff40448191b62872f397c9a600', attributes={}, chunking_strategy=StaticFileChunkingStrategyObject(static=StaticFileChunkingStrategy(chunk_overlap_tokens=400, max_chunk_size_tokens=800), type='static'))"
      ]
     },
     "execution_count": 74,
     "metadata": {},
     "output_type": "execute_result"
    }
   ],
   "source": [
    "vector_store_file_create(file_id, vector_store_id)"
   ]
  },
  {
   "cell_type": "code",
   "execution_count": 75,
   "id": "fad98ee2-6396-4ffb-afd3-4dfbc6624c64",
   "metadata": {},
   "outputs": [
    {
     "data": {
      "text/plain": [
       "'completed'"
      ]
     },
     "execution_count": 75,
     "metadata": {},
     "output_type": "execute_result"
    }
   ],
   "source": [
    "vector_store_file_creation_status(file_id, vector_store_id)"
   ]
  },
  {
   "cell_type": "code",
   "execution_count": 76,
   "id": "40fe228b-8539-4403-8197-fcee8fb880d1",
   "metadata": {},
   "outputs": [
    {
     "data": {
      "text/plain": [
       "True"
      ]
     },
     "execution_count": 76,
     "metadata": {},
     "output_type": "execute_result"
    }
   ],
   "source": [
    "vector_store_file_creation_check_completion(file_id, vector_store_id)"
   ]
  },
  {
   "cell_type": "code",
   "execution_count": 77,
   "id": "7118ad26-0131-4462-973f-f24bdaf02ea6",
   "metadata": {},
   "outputs": [
    {
     "data": {
      "text/plain": [
       "'file-DprfWNMdHJtBzkKdraDZAx'"
      ]
     },
     "execution_count": 77,
     "metadata": {},
     "output_type": "execute_result"
    }
   ],
   "source": [
    "vector_store_file_create_pole(file_id, vector_store_id)"
   ]
  },
  {
   "cell_type": "code",
   "execution_count": 84,
   "id": "c9277190-ccb4-4315-b4a1-ec8b5fe728ce",
   "metadata": {},
   "outputs": [
    {
     "data": {
      "text/plain": [
       "'file-N7ZYNST6RtfRbP1AHFryGo'"
      ]
     },
     "execution_count": 84,
     "metadata": {},
     "output_type": "execute_result"
    }
   ],
   "source": [
    "local_file_path = \"./sample_data/deep_research_blog.pdf\"\n",
    "file_id = vector_store_file_upload_pole(local_file_path, vector_store_id)\n",
    "file_id"
   ]
  },
  {
   "cell_type": "code",
   "execution_count": 85,
   "id": "82d34af7-3acc-4bde-bfa1-a334cb70448d",
   "metadata": {},
   "outputs": [
    {
     "data": {
      "text/plain": [
       "VectorStoreFile(id='file-N7ZYNST6RtfRbP1AHFryGo', created_at=1747562832, last_error=None, object='vector_store.file', status='completed', usage_bytes=66539, vector_store_id='vs_6829a9ff40448191b62872f397c9a600', attributes={}, chunking_strategy=StaticFileChunkingStrategyObject(static=StaticFileChunkingStrategy(chunk_overlap_tokens=400, max_chunk_size_tokens=800), type='static'))"
      ]
     },
     "execution_count": 85,
     "metadata": {},
     "output_type": "execute_result"
    }
   ],
   "source": [
    "vector_store_file_retrieve(file_id, vector_store_id)"
   ]
  },
  {
   "cell_type": "code",
   "execution_count": 86,
   "id": "0b9cf08b-a67c-4f64-9927-df405e81a7fa",
   "metadata": {},
   "outputs": [],
   "source": [
    "vector_store_file_update(file_id, vector_store_id, {\"location\": \"us\"})"
   ]
  },
  {
   "cell_type": "code",
   "execution_count": 93,
   "id": "7e8db3a1-4d68-4783-9aab-5010d960d9f3",
   "metadata": {},
   "outputs": [
    {
     "data": {
      "text/plain": [
       "{'data': [{'id': 'file-N7ZYNST6RtfRbP1AHFryGo',\n",
       "   'created_at': 1747562832,\n",
       "   'last_error': None,\n",
       "   'object': 'vector_store.file',\n",
       "   'status': 'completed',\n",
       "   'usage_bytes': 66539,\n",
       "   'vector_store_id': 'vs_6829a9ff40448191b62872f397c9a600',\n",
       "   'attributes': {'location': 'us'},\n",
       "   'chunking_strategy': {'static': {'chunk_overlap_tokens': 400,\n",
       "     'max_chunk_size_tokens': 800},\n",
       "    'type': 'static'}},\n",
       "  {'id': 'file-6MWxb554D2ejxuKgy7kfDM',\n",
       "   'created_at': 1747562806,\n",
       "   'last_error': None,\n",
       "   'object': 'vector_store.file',\n",
       "   'status': 'completed',\n",
       "   'usage_bytes': 66539,\n",
       "   'vector_store_id': 'vs_6829a9ff40448191b62872f397c9a600',\n",
       "   'attributes': {},\n",
       "   'chunking_strategy': {'static': {'chunk_overlap_tokens': 400,\n",
       "     'max_chunk_size_tokens': 800},\n",
       "    'type': 'static'}},\n",
       "  {'id': 'file-N1EmwEDDYthVLGUe8FGM3z',\n",
       "   'created_at': 1747562705,\n",
       "   'last_error': None,\n",
       "   'object': 'vector_store.file',\n",
       "   'status': 'completed',\n",
       "   'usage_bytes': 66539,\n",
       "   'vector_store_id': 'vs_6829a9ff40448191b62872f397c9a600',\n",
       "   'attributes': {},\n",
       "   'chunking_strategy': {'static': {'chunk_overlap_tokens': 400,\n",
       "     'max_chunk_size_tokens': 800},\n",
       "    'type': 'static'}},\n",
       "  {'id': 'file-8zETMDPgMtmGWE4FCEAK7z',\n",
       "   'created_at': 1747562561,\n",
       "   'last_error': None,\n",
       "   'object': 'vector_store.file',\n",
       "   'status': 'completed',\n",
       "   'usage_bytes': 185325,\n",
       "   'vector_store_id': 'vs_6829a9ff40448191b62872f397c9a600',\n",
       "   'attributes': {},\n",
       "   'chunking_strategy': {'static': {'chunk_overlap_tokens': 400,\n",
       "     'max_chunk_size_tokens': 800},\n",
       "    'type': 'static'}},\n",
       "  {'id': 'file-Tgf1CcLa5r7VcVNLbwaNmJ',\n",
       "   'created_at': 1747562556,\n",
       "   'last_error': None,\n",
       "   'object': 'vector_store.file',\n",
       "   'status': 'completed',\n",
       "   'usage_bytes': 177553,\n",
       "   'vector_store_id': 'vs_6829a9ff40448191b62872f397c9a600',\n",
       "   'attributes': {},\n",
       "   'chunking_strategy': {'static': {'chunk_overlap_tokens': 400,\n",
       "     'max_chunk_size_tokens': 800},\n",
       "    'type': 'static'}},\n",
       "  {'id': 'file-HYRTF6hP2UwEci3hHzUSzf',\n",
       "   'created_at': 1747561104,\n",
       "   'last_error': None,\n",
       "   'object': 'vector_store.file',\n",
       "   'status': 'completed',\n",
       "   'usage_bytes': 66539,\n",
       "   'vector_store_id': 'vs_6829a9ff40448191b62872f397c9a600',\n",
       "   'attributes': {},\n",
       "   'chunking_strategy': {'static': {'chunk_overlap_tokens': 400,\n",
       "     'max_chunk_size_tokens': 800},\n",
       "    'type': 'static'}},\n",
       "  {'id': 'file-DprfWNMdHJtBzkKdraDZAx',\n",
       "   'created_at': 1747560984,\n",
       "   'last_error': None,\n",
       "   'object': 'vector_store.file',\n",
       "   'status': 'completed',\n",
       "   'usage_bytes': 66539,\n",
       "   'vector_store_id': 'vs_6829a9ff40448191b62872f397c9a600',\n",
       "   'attributes': {},\n",
       "   'chunking_strategy': {'static': {'chunk_overlap_tokens': 400,\n",
       "     'max_chunk_size_tokens': 800},\n",
       "    'type': 'static'}}],\n",
       " 'has_more': False,\n",
       " 'object': 'list',\n",
       " 'first_id': 'file-N7ZYNST6RtfRbP1AHFryGo',\n",
       " 'last_id': 'file-DprfWNMdHJtBzkKdraDZAx'}"
      ]
     },
     "execution_count": 93,
     "metadata": {},
     "output_type": "execute_result"
    }
   ],
   "source": [
    "vector_store_file_list(vector_store_id)"
   ]
  },
  {
   "cell_type": "code",
   "execution_count": 95,
   "id": "106ea9e1-9e22-46d4-b044-ac4a0119bc6a",
   "metadata": {},
   "outputs": [
    {
     "data": {
      "text/plain": [
       "VectorStoreFileDeleted(id='file-N7ZYNST6RtfRbP1AHFryGo', deleted=True, object='vector_store.file.deleted')"
      ]
     },
     "execution_count": 95,
     "metadata": {},
     "output_type": "execute_result"
    }
   ],
   "source": [
    "vector_store_file_delete(file_id, vector_store_id)"
   ]
  },
  {
   "cell_type": "code",
   "execution_count": 98,
   "id": "e5c4df7e-2c55-47c1-bf8c-443f95c835df",
   "metadata": {},
   "outputs": [
    {
     "data": {
      "text/plain": [
       "'Err: Error code: 404 - {\\'error\\': {\\'message\\': \"No file found with id \\'file-N7ZYNST6RtfRbP1AHFryGo\\' in vector store \\'vs_6829a9ff40448191b62872f397c9a600\\'.\", \\'type\\': \\'invalid_request_error\\', \\'param\\': None, \\'code\\': None}}'"
      ]
     },
     "execution_count": 98,
     "metadata": {},
     "output_type": "execute_result"
    }
   ],
   "source": [
    "vector_store_file_delete(file_id, vector_store_id)"
   ]
  },
  {
   "cell_type": "markdown",
   "id": "66e65c9d-392a-4a4c-bd5f-acecae6562c9",
   "metadata": {
    "jp-MarkdownHeadingCollapsed": true
   },
   "source": [
    "## vector store batch operations"
   ]
  },
  {
   "cell_type": "code",
   "execution_count": null,
   "id": "15a61dbf-1400-4db3-a4ff-a779fb9773f1",
   "metadata": {},
   "outputs": [],
   "source": []
  },
  {
   "cell_type": "markdown",
   "id": "a218f9b2-1798-4296-8a34-6ec5fd70077e",
   "metadata": {
    "jp-MarkdownHeadingCollapsed": true
   },
   "source": [
    "## generation"
   ]
  },
  {
   "cell_type": "code",
   "execution_count": 107,
   "id": "dfa9356d-63be-4e16-aa57-aa1978e10dbe",
   "metadata": {},
   "outputs": [
    {
     "data": {
      "text/plain": [
       "Response(id='resp_6829b728e7f481918541b8092be80bbc048719df289826e3', created_at=1747564328.0, error=None, incomplete_details=None, instructions=None, metadata={}, model='gpt-4o-mini-2024-07-18', object='response', output=[ResponseFileSearchToolCall(id='fs_6829b72985188191abc862611df612ad048719df289826e3', queries=['What is deep research by OpenAI?'], status='completed', type='file_search_call', results=None), ResponseOutputMessage(id='msg_6829b72cc0148191b1cc2aea605fbab9048719df289826e3', content=[ResponseOutputText(annotations=[AnnotationFileCitation(file_id='file-DprfWNMdHJtBzkKdraDZAx', index=807, type='file_citation', filename='deep_research_blog.pdf'), AnnotationFileCitation(file_id='file-DprfWNMdHJtBzkKdraDZAx', index=1086, type='file_citation', filename='deep_research_blog.pdf'), AnnotationFileCitation(file_id='file-DprfWNMdHJtBzkKdraDZAx', index=1330, type='file_citation', filename='deep_research_blog.pdf'), AnnotationFileCitation(file_id='file-DprfWNMdHJtBzkKdraDZAx', index=1578, type='file_citation', filename='deep_research_blog.pdf'), AnnotationFileCitation(file_id='file-DprfWNMdHJtBzkKdraDZAx', index=1783, type='file_citation', filename='deep_research_blog.pdf'), AnnotationFileCitation(file_id='file-6MWxb554D2ejxuKgy7kfDM', index=1783, type='file_citation', filename='deep_research_blog.pdf'), AnnotationFileCitation(file_id='file-6MWxb554D2ejxuKgy7kfDM', index=1993, type='file_citation', filename='deep_research_blog.pdf'), AnnotationFileCitation(file_id='file-DprfWNMdHJtBzkKdraDZAx', index=2225, type='file_citation', filename='deep_research_blog.pdf')], text='Deep Research by OpenAI is an advanced capability being integrated into ChatGPT that allows users to conduct multi-step research and synthesize large volumes of online information. Here\\'s an overview of its key features and goals:\\n\\n1. **Functionality**: Deep Research can autonomously gather, analyze, and synthesize data from numerous online sources, producing a comprehensive report similar to what a research analyst would generate. It is designed to handle complex inquiries efficiently, completing tasks in minutes that could take hours for a human.\\n\\n2. **Technology**: This feature is built on a version of OpenAI\\'s upcoming \"o3\" model, which is optimized for web browsing and data interpretation. It employs reasoning capabilities to interpret vast amounts of text, images, and documents found online.\\n\\n3. **Target Users**: Deep Research is specifically designed for professionals engaged in intensive knowledge work across various fields, including finance, science, policy, and engineering. Additionally, it can assist consumers looking for personalized product recommendations.\\n\\n4. **Output Quality**: Every output is well-documented with clear citations, making it easy to verify the information. Deep Research is effective at uncovering niche insights that may be difficult to find through traditional browsing methods.\\n\\n5. **Usage**: Users can start Deep Research by selecting it in the ChatGPT interface, entering their queries, and optionally attaching relevant files for context. A sidebar shows the steps taken and sources referenced during the research process.\\n\\n6. **Future Enhancements**: There are plans to improve the infrastructure, expand access to more specialized data sources, and enhance the feature with embedded images and data visualizations in reports.\\n\\n7. **Limitations**: At launch, Deep Research may experience some technological limitations, such as misinterpretation of facts or incorrect inferences, although these issues are expected to improve over time.\\n\\nThis represents a significant step toward OpenAI\\'s broader goal of developing artificial general intelligence (AGI), capable of generating novel scientific research and providing highly actionable insights across multiple domains.', type='output_text')], role='assistant', status='completed', type='message')], parallel_tool_calls=True, temperature=1.0, tool_choice='auto', tools=[FileSearchTool(type='file_search', vector_store_ids=['vs_6829a9ff40448191b62872f397c9a600'], filters=None, max_num_results=20, ranking_options=RankingOptions(ranker='auto', score_threshold=0.0))], top_p=1.0, max_output_tokens=None, previous_response_id=None, reasoning=Reasoning(effort=None, generate_summary=None, summary=None), service_tier='default', status='completed', text=ResponseTextConfig(format=ResponseFormatText(type='text')), truncation='disabled', usage=ResponseUsage(input_tokens=17118, input_tokens_details=InputTokensDetails(cached_tokens=0), output_tokens=479, output_tokens_details=OutputTokensDetails(reasoning_tokens=0), total_tokens=17597), user=None, store=True)"
      ]
     },
     "execution_count": 107,
     "metadata": {},
     "output_type": "execute_result"
    }
   ],
   "source": [
    "generate_with_file_search(\n",
    "    query=\"What is deep research by OpenAI?\", \n",
    "    vector_store_id=vector_store_id,\n",
    ")"
   ]
  },
  {
   "cell_type": "code",
   "execution_count": 109,
   "id": "84a00b50-59de-4912-aab2-6801a3eb34e4",
   "metadata": {},
   "outputs": [
    {
     "data": {
      "text/plain": [
       "Response(id='resp_6829b7b465f08191a84adc75457dcb390f204767dae6234c', created_at=1747564468.0, error=None, incomplete_details=None, instructions=None, metadata={}, model='gpt-4o-mini-2024-07-18', object='response', output=[ResponseFileSearchToolCall(id='fs_6829b7b4d1008191aedd98e9d90ed2550f204767dae6234c', queries=['task decomposition'], status='completed', type='file_search_call', results=None), ResponseOutputMessage(id='msg_6829b7b718a08191994a21749b4b4e420f204767dae6234c', content=[ResponseOutputText(annotations=[], text='Task decomposition involves breaking down complex tasks into smaller, manageable components, making it easier to understand, organize, and execute the overall task. Here are some key points on task decomposition:\\n\\n1. **Purpose**: The primary purpose is to simplify large tasks, allowing for clearer planning and the ability to focus on each component individually.\\n\\n2. **Steps**:\\n   - **Identify the Task**: Clearly define the main task to be accomplished.\\n   - **Break it Down**: Divide the main task into sub-tasks or steps that can be tackled independently.\\n   - **Organize**: Structure these sub-tasks logically, often in sequential order or by priority.\\n   - **Assign Responsibilities**: If working in a team, assign sub-tasks to individuals based on their strengths or areas of expertise.\\n\\n3. **Benefits**:\\n   - **Clarity**: Clearer understanding of what needs to be done.\\n   - **Efficiency**: Can lead to faster completion as individuals can work in parallel on sub-tasks.\\n   - **Track Progress**: Easier to monitor the progress of individual components.\\n\\n4. **Application**: Commonly used in project management, software development, and creative processes to ensure smooth workflows and effective collaboration.\\n\\nThis approach can greatly enhance productivity and the quality of the final output by ensuring that every aspect of the task is addressed systematically.', type='output_text')], role='assistant', status='completed', type='message')], parallel_tool_calls=True, temperature=1.0, tool_choice='auto', tools=[FileSearchTool(type='file_search', vector_store_ids=['vs_6829a9ff40448191b62872f397c9a600'], filters=None, max_num_results=20, ranking_options=RankingOptions(ranker='auto', score_threshold=0.0))], top_p=1.0, max_output_tokens=None, previous_response_id=None, reasoning=Reasoning(effort=None, generate_summary=None, summary=None), service_tier='default', status='completed', text=ResponseTextConfig(format=ResponseFormatText(type='text')), truncation='disabled', usage=ResponseUsage(input_tokens=17763, input_tokens_details=InputTokensDetails(cached_tokens=0), output_tokens=293, output_tokens_details=OutputTokensDetails(reasoning_tokens=0), total_tokens=18056), user=None, store=True)"
      ]
     },
     "execution_count": 109,
     "metadata": {},
     "output_type": "execute_result"
    }
   ],
   "source": [
    "generate_with_file_search(\n",
    "    query=\"what do you know about task decomposition?\", \n",
    "    vector_store_id=vector_store_id,\n",
    ")"
   ]
  },
  {
   "cell_type": "code",
   "execution_count": 132,
   "id": "63eb5215-cded-430c-9998-84dc169f5ad6",
   "metadata": {},
   "outputs": [
    {
     "data": {
      "text/plain": [
       "ChatCompletion(id='chatcmpl-BYVjpt1rVDyYjyMzc9ouuEgjuk4P1', choices=[Choice(finish_reason='stop', index=0, logprobs=None, message=ChatCompletionMessage(content='Deep research by OpenAI is a new capability within ChatGPT that utilizes reasoning to conduct multi-step research tasks on the internet. It synthesizes large amounts of information, analyzes sources, and creates comprehensive reports similar to those produced by research analysts. Launched on February 2, 2025, it is currently available to Pro users, with plans to expand to Plus and Team users. Deep research can find and interpret data, cite sources, and provide insights across various domains, making it particularly beneficial for professionals in fields like finance, science, and engineering, as well as for consumers seeking detailed product recommendations.', refusal=None, role='assistant', annotations=[], audio=None, function_call=None, tool_calls=None))], created=1747564853, model='gpt-4o-mini-2024-07-18', object='chat.completion', service_tier='default', system_fingerprint='fp_92e0377081', usage=CompletionUsage(completion_tokens=121, prompt_tokens=7843, total_tokens=7964, completion_tokens_details=CompletionTokensDetails(accepted_prediction_tokens=0, audio_tokens=0, reasoning_tokens=0, rejected_prediction_tokens=0), prompt_tokens_details=PromptTokensDetails(audio_tokens=0, cached_tokens=0)))"
      ]
     },
     "execution_count": 132,
     "metadata": {},
     "output_type": "execute_result"
    }
   ],
   "source": [
    "generate_with_information_retrieval(\n",
    "    query=\"What is deep research by OpenAI?\", \n",
    "    vector_store_id=vector_store_id,\n",
    ")"
   ]
  },
  {
   "cell_type": "code",
   "execution_count": 134,
   "id": "649e8eff-4c6d-4d5c-833b-68806a261e17",
   "metadata": {},
   "outputs": [
    {
     "data": {
      "text/plain": [
       "ChatCompletion(id='chatcmpl-BYVlITUJnEKp7rC2GxYljKiHM4E2l', choices=[Choice(finish_reason='stop', index=0, logprobs=None, message=ChatCompletionMessage(content=\"I don't know.\", refusal=None, role='assistant', annotations=[], audio=None, function_call=None, tool_calls=None))], created=1747564944, model='gpt-4o-mini-2024-07-18', object='chat.completion', service_tier='default', system_fingerprint='fp_dbaca60df0', usage=CompletionUsage(completion_tokens=4, prompt_tokens=7772, total_tokens=7776, completion_tokens_details=CompletionTokensDetails(accepted_prediction_tokens=0, audio_tokens=0, reasoning_tokens=0, rejected_prediction_tokens=0), prompt_tokens_details=PromptTokensDetails(audio_tokens=0, cached_tokens=0)))"
      ]
     },
     "execution_count": 134,
     "metadata": {},
     "output_type": "execute_result"
    }
   ],
   "source": [
    "generate_with_information_retrieval(\n",
    "    query=\"what do you know about task decomposition?\", \n",
    "    vector_store_id=vector_store_id,\n",
    ")"
   ]
  },
  {
   "cell_type": "code",
   "execution_count": 112,
   "id": "90cff81c-0eb6-4644-9f67-751cd527140a",
   "metadata": {},
   "outputs": [],
   "source": [
    "# rag_client = RAG_Client()\n",
    "# rag_client.file_search(\"What is deep research by OpenAI?\")"
   ]
  }
 ],
 "metadata": {
  "kernelspec": {
   "display_name": "Python 3 (ipykernel)",
   "language": "python",
   "name": "python3"
  },
  "language_info": {
   "codemirror_mode": {
    "name": "ipython",
    "version": 3
   },
   "file_extension": ".py",
   "mimetype": "text/x-python",
   "name": "python",
   "nbconvert_exporter": "python",
   "pygments_lexer": "ipython3",
   "version": "3.12.9"
  }
 },
 "nbformat": 4,
 "nbformat_minor": 5
}
