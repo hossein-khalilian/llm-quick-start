{
 "cells": [
  {
   "cell_type": "markdown",
   "id": "14e78cf8-78fa-4bd1-95ba-9013c932ba75",
   "metadata": {},
   "source": [
    "# Setup"
   ]
  },
  {
   "cell_type": "code",
   "execution_count": 1,
   "id": "0a803f52-8a6d-4c6c-a59d-77a8228fffa3",
   "metadata": {
    "execution": {
     "iopub.execute_input": "2025-06-11T13:57:29.159207Z",
     "iopub.status.busy": "2025-06-11T13:57:29.158801Z",
     "iopub.status.idle": "2025-06-11T13:57:29.187341Z",
     "shell.execute_reply": "2025-06-11T13:57:29.186752Z",
     "shell.execute_reply.started": "2025-06-11T13:57:29.159166Z"
    }
   },
   "outputs": [
    {
     "data": {
      "text/plain": [
       "True"
      ]
     },
     "execution_count": 1,
     "metadata": {},
     "output_type": "execute_result"
    }
   ],
   "source": [
    "from dotenv import load_dotenv\n",
    "load_dotenv()"
   ]
  },
  {
   "cell_type": "code",
   "execution_count": 8,
   "id": "84c8bce8-e4a7-4a30-8b13-383413e42c5d",
   "metadata": {
    "execution": {
     "iopub.execute_input": "2025-06-11T13:59:59.158769Z",
     "iopub.status.busy": "2025-06-11T13:59:59.158176Z",
     "iopub.status.idle": "2025-06-11T14:00:02.710370Z",
     "shell.execute_reply": "2025-06-11T14:00:02.709594Z",
     "shell.execute_reply.started": "2025-06-11T13:59:59.158733Z"
    }
   },
   "outputs": [],
   "source": [
    "import json\n",
    "import getpass\n",
    "import os\n",
    "import pandas as pd\n",
    "from docx import Document as DocxDocument\n",
    "from IPython.display import Image, display\n",
    "from pydantic import Field\n",
    "from pydantic import BaseModel\n",
    "from typing import TypedDict, List, Annotated, Optional, Literal\n",
    "from langchain import hub\n",
    "from langchain_core.vectorstores import InMemoryVectorStore\n",
    "from langchain.docstore.document import Document\n",
    "from langchain_text_splitters import RecursiveCharacterTextSplitter\n",
    "from langchain.chat_models import init_chat_model\n",
    "from langchain_openai import OpenAIEmbeddings\n",
    "from langchain_core.tools import tool\n",
    "from langchain_core.messages import SystemMessage,HumanMessage\n",
    "from langgraph.prebuilt import ToolNode\n",
    "from langgraph.graph import StateGraph, START, END\n",
    "from langgraph.graph import MessagesState, StateGraph\n",
    "from langgraph.prebuilt import ToolNode, tools_condition\n",
    "from langchain_core.messages import AnyMessage, AIMessage\n",
    "from fuzzywuzzy import fuzz\n",
    "from langgraph.checkpoint.memory import MemorySaver\n",
    "import uuid\n",
    "import gradio as gr\n",
    "from langchain_milvus import Milvus\n",
    "from langfuse.callback import CallbackHandler\n",
    "import requests\n",
    "from langchain.chat_models import init_chat_model\n",
    "from langchain_google_genai import GoogleGenerativeAIEmbeddings"
   ]
  },
  {
   "cell_type": "code",
   "execution_count": 9,
   "id": "23cc0237-50c8-4a24-9777-149d8adee385",
   "metadata": {
    "execution": {
     "iopub.execute_input": "2025-06-11T14:00:05.147467Z",
     "iopub.status.busy": "2025-06-11T14:00:05.144904Z",
     "iopub.status.idle": "2025-06-11T14:00:05.193973Z",
     "shell.execute_reply": "2025-06-11T14:00:05.193227Z",
     "shell.execute_reply.started": "2025-06-11T14:00:05.147382Z"
    }
   },
   "outputs": [],
   "source": [
    "langfuse_handler = CallbackHandler(\n",
    "  secret_key=\"sk-lf-aac7fcae-34e3-46d6-afc5-247c8ea59682\",\n",
    "  public_key=\"pk-lf-36ecf322-0d82-4071-acb2-5a77ed6858a5\",\n",
    "  host=\"https://cloud.langfuse.com\"\n",
    ")"
   ]
  },
  {
   "cell_type": "code",
   "execution_count": 10,
   "id": "264734e4-11dd-458f-a9e3-bc49d4449506",
   "metadata": {
    "execution": {
     "iopub.execute_input": "2025-06-11T14:00:05.703098Z",
     "iopub.status.busy": "2025-06-11T14:00:05.702711Z",
     "iopub.status.idle": "2025-06-11T14:00:06.049133Z",
     "shell.execute_reply": "2025-06-11T14:00:06.048437Z",
     "shell.execute_reply.started": "2025-06-11T14:00:05.703065Z"
    }
   },
   "outputs": [],
   "source": [
    "if not os.environ.get(\"OPENAI_API_KEY\"):\n",
    "  os.environ[\"OPENAI_API_KEY\"] = getpass.getpass(\"Enter API key for OpenAI: \")\n",
    "\n",
    "llm = init_chat_model(\"gpt-4o-mini\", model_provider=\"openai\", temperature=0.5)\n",
    "embeddings = OpenAIEmbeddings(model=\"text-embedding-3-large\")"
   ]
  },
  {
   "cell_type": "code",
   "execution_count": 11,
   "id": "e76c51e5-6566-43e7-841a-bfe068c98565",
   "metadata": {
    "execution": {
     "iopub.execute_input": "2025-06-11T14:00:08.077344Z",
     "iopub.status.busy": "2025-06-11T14:00:08.076541Z",
     "iopub.status.idle": "2025-06-11T14:00:08.086390Z",
     "shell.execute_reply": "2025-06-11T14:00:08.084239Z",
     "shell.execute_reply.started": "2025-06-11T14:00:08.077276Z"
    }
   },
   "outputs": [],
   "source": [
    "# if not os.environ.get(\"GOOGLE_API_KEY\"):\n",
    "#   os.environ[\"GOOGLE_API_KEY\"] = getpass.getpass(\"Enter API key for Google Gemini: \")\n",
    "\n",
    "# llm = init_chat_model(\"gemini-2.0-flash\", model_provider=\"google_genai\")\n",
    "# embeddings = GoogleGenerativeAIEmbeddings(model=\"models/embedding-001\")"
   ]
  },
  {
   "cell_type": "code",
   "execution_count": 12,
   "id": "dac728d9-8123-4eaa-8c32-4208a9a69bbf",
   "metadata": {
    "execution": {
     "iopub.execute_input": "2025-06-11T14:00:08.845636Z",
     "iopub.status.busy": "2025-06-11T14:00:08.844618Z",
     "iopub.status.idle": "2025-06-11T14:00:09.605032Z",
     "shell.execute_reply": "2025-06-11T14:00:09.604355Z",
     "shell.execute_reply.started": "2025-06-11T14:00:08.845560Z"
    }
   },
   "outputs": [],
   "source": [
    "URI = \"./milvus_example.db\"\n",
    "\n",
    "vector_store = Milvus(\n",
    "    embedding_function=embeddings,\n",
    "    connection_args={\"uri\": URI},\n",
    "    index_params={\"index_type\": \"FLAT\", \"metric_type\": \"L2\"},\n",
    "    auto_id=True,\n",
    ")"
   ]
  },
  {
   "cell_type": "code",
   "execution_count": 13,
   "id": "9c2b3d24-e97c-4436-8d35-387bbcadb7db",
   "metadata": {
    "execution": {
     "iopub.execute_input": "2025-06-11T14:00:10.618148Z",
     "iopub.status.busy": "2025-06-11T14:00:10.617348Z",
     "iopub.status.idle": "2025-06-11T14:00:10.626720Z",
     "shell.execute_reply": "2025-06-11T14:00:10.624472Z",
     "shell.execute_reply.started": "2025-06-11T14:00:10.618079Z"
    }
   },
   "outputs": [],
   "source": [
    "# vector_store = InMemoryVectorStore(embeddings)"
   ]
  },
  {
   "cell_type": "markdown",
   "id": "6c0b368a-3890-48f0-ab07-57296d5f4e62",
   "metadata": {},
   "source": [
    "# Document loader"
   ]
  },
  {
   "cell_type": "code",
   "execution_count": 14,
   "id": "dd6690e4-de8f-4a48-8c52-d7de496fef5b",
   "metadata": {
    "execution": {
     "iopub.execute_input": "2025-06-11T14:00:11.930163Z",
     "iopub.status.busy": "2025-06-11T14:00:11.929246Z",
     "iopub.status.idle": "2025-06-11T14:00:12.331095Z",
     "shell.execute_reply": "2025-06-11T14:00:12.330126Z",
     "shell.execute_reply.started": "2025-06-11T14:00:11.930093Z"
    }
   },
   "outputs": [
    {
     "ename": "FileNotFoundError",
     "evalue": "[Errno 2] No such file or directory: '/home/jovyan/projects/marin/delta-chatbot/notebooks/Files/cities_per_en.csv'",
     "output_type": "error",
     "traceback": [
      "\u001b[31m---------------------------------------------------------------------------\u001b[39m",
      "\u001b[31mFileNotFoundError\u001b[39m                         Traceback (most recent call last)",
      "\u001b[36mCell\u001b[39m\u001b[36m \u001b[39m\u001b[32mIn[14]\u001b[39m\u001b[32m, line 1\u001b[39m\n\u001b[32m----> \u001b[39m\u001b[32m1\u001b[39m df_cities = \u001b[43mpd\u001b[49m\u001b[43m.\u001b[49m\u001b[43mread_csv\u001b[49m\u001b[43m(\u001b[49m\u001b[33;43m\"\u001b[39;49m\u001b[33;43m/home/jovyan/projects/marin/delta-chatbot/notebooks/Files/cities_per_en.csv\u001b[39;49m\u001b[33;43m\"\u001b[39;49m\u001b[43m)\u001b[49m\n\u001b[32m      2\u001b[39m df_regions = pd.read_csv(\u001b[33m\"\u001b[39m\u001b[33m/home/jovyan/projects/marin/delta-chatbot/notebooks/Files/regions.csv\u001b[39m\u001b[33m\"\u001b[39m)\n",
      "\u001b[36mFile \u001b[39m\u001b[32m/opt/conda/lib/python3.12/site-packages/pandas/io/parsers/readers.py:1026\u001b[39m, in \u001b[36mread_csv\u001b[39m\u001b[34m(filepath_or_buffer, sep, delimiter, header, names, index_col, usecols, dtype, engine, converters, true_values, false_values, skipinitialspace, skiprows, skipfooter, nrows, na_values, keep_default_na, na_filter, verbose, skip_blank_lines, parse_dates, infer_datetime_format, keep_date_col, date_parser, date_format, dayfirst, cache_dates, iterator, chunksize, compression, thousands, decimal, lineterminator, quotechar, quoting, doublequote, escapechar, comment, encoding, encoding_errors, dialect, on_bad_lines, delim_whitespace, low_memory, memory_map, float_precision, storage_options, dtype_backend)\u001b[39m\n\u001b[32m   1013\u001b[39m kwds_defaults = _refine_defaults_read(\n\u001b[32m   1014\u001b[39m     dialect,\n\u001b[32m   1015\u001b[39m     delimiter,\n\u001b[32m   (...)\u001b[39m\u001b[32m   1022\u001b[39m     dtype_backend=dtype_backend,\n\u001b[32m   1023\u001b[39m )\n\u001b[32m   1024\u001b[39m kwds.update(kwds_defaults)\n\u001b[32m-> \u001b[39m\u001b[32m1026\u001b[39m \u001b[38;5;28;01mreturn\u001b[39;00m \u001b[43m_read\u001b[49m\u001b[43m(\u001b[49m\u001b[43mfilepath_or_buffer\u001b[49m\u001b[43m,\u001b[49m\u001b[43m \u001b[49m\u001b[43mkwds\u001b[49m\u001b[43m)\u001b[49m\n",
      "\u001b[36mFile \u001b[39m\u001b[32m/opt/conda/lib/python3.12/site-packages/pandas/io/parsers/readers.py:620\u001b[39m, in \u001b[36m_read\u001b[39m\u001b[34m(filepath_or_buffer, kwds)\u001b[39m\n\u001b[32m    617\u001b[39m _validate_names(kwds.get(\u001b[33m\"\u001b[39m\u001b[33mnames\u001b[39m\u001b[33m\"\u001b[39m, \u001b[38;5;28;01mNone\u001b[39;00m))\n\u001b[32m    619\u001b[39m \u001b[38;5;66;03m# Create the parser.\u001b[39;00m\n\u001b[32m--> \u001b[39m\u001b[32m620\u001b[39m parser = \u001b[43mTextFileReader\u001b[49m\u001b[43m(\u001b[49m\u001b[43mfilepath_or_buffer\u001b[49m\u001b[43m,\u001b[49m\u001b[43m \u001b[49m\u001b[43m*\u001b[49m\u001b[43m*\u001b[49m\u001b[43mkwds\u001b[49m\u001b[43m)\u001b[49m\n\u001b[32m    622\u001b[39m \u001b[38;5;28;01mif\u001b[39;00m chunksize \u001b[38;5;129;01mor\u001b[39;00m iterator:\n\u001b[32m    623\u001b[39m     \u001b[38;5;28;01mreturn\u001b[39;00m parser\n",
      "\u001b[36mFile \u001b[39m\u001b[32m/opt/conda/lib/python3.12/site-packages/pandas/io/parsers/readers.py:1620\u001b[39m, in \u001b[36mTextFileReader.__init__\u001b[39m\u001b[34m(self, f, engine, **kwds)\u001b[39m\n\u001b[32m   1617\u001b[39m     \u001b[38;5;28mself\u001b[39m.options[\u001b[33m\"\u001b[39m\u001b[33mhas_index_names\u001b[39m\u001b[33m\"\u001b[39m] = kwds[\u001b[33m\"\u001b[39m\u001b[33mhas_index_names\u001b[39m\u001b[33m\"\u001b[39m]\n\u001b[32m   1619\u001b[39m \u001b[38;5;28mself\u001b[39m.handles: IOHandles | \u001b[38;5;28;01mNone\u001b[39;00m = \u001b[38;5;28;01mNone\u001b[39;00m\n\u001b[32m-> \u001b[39m\u001b[32m1620\u001b[39m \u001b[38;5;28mself\u001b[39m._engine = \u001b[38;5;28;43mself\u001b[39;49m\u001b[43m.\u001b[49m\u001b[43m_make_engine\u001b[49m\u001b[43m(\u001b[49m\u001b[43mf\u001b[49m\u001b[43m,\u001b[49m\u001b[43m \u001b[49m\u001b[38;5;28;43mself\u001b[39;49m\u001b[43m.\u001b[49m\u001b[43mengine\u001b[49m\u001b[43m)\u001b[49m\n",
      "\u001b[36mFile \u001b[39m\u001b[32m/opt/conda/lib/python3.12/site-packages/pandas/io/parsers/readers.py:1880\u001b[39m, in \u001b[36mTextFileReader._make_engine\u001b[39m\u001b[34m(self, f, engine)\u001b[39m\n\u001b[32m   1878\u001b[39m     \u001b[38;5;28;01mif\u001b[39;00m \u001b[33m\"\u001b[39m\u001b[33mb\u001b[39m\u001b[33m\"\u001b[39m \u001b[38;5;129;01mnot\u001b[39;00m \u001b[38;5;129;01min\u001b[39;00m mode:\n\u001b[32m   1879\u001b[39m         mode += \u001b[33m\"\u001b[39m\u001b[33mb\u001b[39m\u001b[33m\"\u001b[39m\n\u001b[32m-> \u001b[39m\u001b[32m1880\u001b[39m \u001b[38;5;28mself\u001b[39m.handles = \u001b[43mget_handle\u001b[49m\u001b[43m(\u001b[49m\n\u001b[32m   1881\u001b[39m \u001b[43m    \u001b[49m\u001b[43mf\u001b[49m\u001b[43m,\u001b[49m\n\u001b[32m   1882\u001b[39m \u001b[43m    \u001b[49m\u001b[43mmode\u001b[49m\u001b[43m,\u001b[49m\n\u001b[32m   1883\u001b[39m \u001b[43m    \u001b[49m\u001b[43mencoding\u001b[49m\u001b[43m=\u001b[49m\u001b[38;5;28;43mself\u001b[39;49m\u001b[43m.\u001b[49m\u001b[43moptions\u001b[49m\u001b[43m.\u001b[49m\u001b[43mget\u001b[49m\u001b[43m(\u001b[49m\u001b[33;43m\"\u001b[39;49m\u001b[33;43mencoding\u001b[39;49m\u001b[33;43m\"\u001b[39;49m\u001b[43m,\u001b[49m\u001b[43m \u001b[49m\u001b[38;5;28;43;01mNone\u001b[39;49;00m\u001b[43m)\u001b[49m\u001b[43m,\u001b[49m\n\u001b[32m   1884\u001b[39m \u001b[43m    \u001b[49m\u001b[43mcompression\u001b[49m\u001b[43m=\u001b[49m\u001b[38;5;28;43mself\u001b[39;49m\u001b[43m.\u001b[49m\u001b[43moptions\u001b[49m\u001b[43m.\u001b[49m\u001b[43mget\u001b[49m\u001b[43m(\u001b[49m\u001b[33;43m\"\u001b[39;49m\u001b[33;43mcompression\u001b[39;49m\u001b[33;43m\"\u001b[39;49m\u001b[43m,\u001b[49m\u001b[43m \u001b[49m\u001b[38;5;28;43;01mNone\u001b[39;49;00m\u001b[43m)\u001b[49m\u001b[43m,\u001b[49m\n\u001b[32m   1885\u001b[39m \u001b[43m    \u001b[49m\u001b[43mmemory_map\u001b[49m\u001b[43m=\u001b[49m\u001b[38;5;28;43mself\u001b[39;49m\u001b[43m.\u001b[49m\u001b[43moptions\u001b[49m\u001b[43m.\u001b[49m\u001b[43mget\u001b[49m\u001b[43m(\u001b[49m\u001b[33;43m\"\u001b[39;49m\u001b[33;43mmemory_map\u001b[39;49m\u001b[33;43m\"\u001b[39;49m\u001b[43m,\u001b[49m\u001b[43m \u001b[49m\u001b[38;5;28;43;01mFalse\u001b[39;49;00m\u001b[43m)\u001b[49m\u001b[43m,\u001b[49m\n\u001b[32m   1886\u001b[39m \u001b[43m    \u001b[49m\u001b[43mis_text\u001b[49m\u001b[43m=\u001b[49m\u001b[43mis_text\u001b[49m\u001b[43m,\u001b[49m\n\u001b[32m   1887\u001b[39m \u001b[43m    \u001b[49m\u001b[43merrors\u001b[49m\u001b[43m=\u001b[49m\u001b[38;5;28;43mself\u001b[39;49m\u001b[43m.\u001b[49m\u001b[43moptions\u001b[49m\u001b[43m.\u001b[49m\u001b[43mget\u001b[49m\u001b[43m(\u001b[49m\u001b[33;43m\"\u001b[39;49m\u001b[33;43mencoding_errors\u001b[39;49m\u001b[33;43m\"\u001b[39;49m\u001b[43m,\u001b[49m\u001b[43m \u001b[49m\u001b[33;43m\"\u001b[39;49m\u001b[33;43mstrict\u001b[39;49m\u001b[33;43m\"\u001b[39;49m\u001b[43m)\u001b[49m\u001b[43m,\u001b[49m\n\u001b[32m   1888\u001b[39m \u001b[43m    \u001b[49m\u001b[43mstorage_options\u001b[49m\u001b[43m=\u001b[49m\u001b[38;5;28;43mself\u001b[39;49m\u001b[43m.\u001b[49m\u001b[43moptions\u001b[49m\u001b[43m.\u001b[49m\u001b[43mget\u001b[49m\u001b[43m(\u001b[49m\u001b[33;43m\"\u001b[39;49m\u001b[33;43mstorage_options\u001b[39;49m\u001b[33;43m\"\u001b[39;49m\u001b[43m,\u001b[49m\u001b[43m \u001b[49m\u001b[38;5;28;43;01mNone\u001b[39;49;00m\u001b[43m)\u001b[49m\u001b[43m,\u001b[49m\n\u001b[32m   1889\u001b[39m \u001b[43m\u001b[49m\u001b[43m)\u001b[49m\n\u001b[32m   1890\u001b[39m \u001b[38;5;28;01massert\u001b[39;00m \u001b[38;5;28mself\u001b[39m.handles \u001b[38;5;129;01mis\u001b[39;00m \u001b[38;5;129;01mnot\u001b[39;00m \u001b[38;5;28;01mNone\u001b[39;00m\n\u001b[32m   1891\u001b[39m f = \u001b[38;5;28mself\u001b[39m.handles.handle\n",
      "\u001b[36mFile \u001b[39m\u001b[32m/opt/conda/lib/python3.12/site-packages/pandas/io/common.py:873\u001b[39m, in \u001b[36mget_handle\u001b[39m\u001b[34m(path_or_buf, mode, encoding, compression, memory_map, is_text, errors, storage_options)\u001b[39m\n\u001b[32m    868\u001b[39m \u001b[38;5;28;01melif\u001b[39;00m \u001b[38;5;28misinstance\u001b[39m(handle, \u001b[38;5;28mstr\u001b[39m):\n\u001b[32m    869\u001b[39m     \u001b[38;5;66;03m# Check whether the filename is to be opened in binary mode.\u001b[39;00m\n\u001b[32m    870\u001b[39m     \u001b[38;5;66;03m# Binary mode does not support 'encoding' and 'newline'.\u001b[39;00m\n\u001b[32m    871\u001b[39m     \u001b[38;5;28;01mif\u001b[39;00m ioargs.encoding \u001b[38;5;129;01mand\u001b[39;00m \u001b[33m\"\u001b[39m\u001b[33mb\u001b[39m\u001b[33m\"\u001b[39m \u001b[38;5;129;01mnot\u001b[39;00m \u001b[38;5;129;01min\u001b[39;00m ioargs.mode:\n\u001b[32m    872\u001b[39m         \u001b[38;5;66;03m# Encoding\u001b[39;00m\n\u001b[32m--> \u001b[39m\u001b[32m873\u001b[39m         handle = \u001b[38;5;28;43mopen\u001b[39;49m\u001b[43m(\u001b[49m\n\u001b[32m    874\u001b[39m \u001b[43m            \u001b[49m\u001b[43mhandle\u001b[49m\u001b[43m,\u001b[49m\n\u001b[32m    875\u001b[39m \u001b[43m            \u001b[49m\u001b[43mioargs\u001b[49m\u001b[43m.\u001b[49m\u001b[43mmode\u001b[49m\u001b[43m,\u001b[49m\n\u001b[32m    876\u001b[39m \u001b[43m            \u001b[49m\u001b[43mencoding\u001b[49m\u001b[43m=\u001b[49m\u001b[43mioargs\u001b[49m\u001b[43m.\u001b[49m\u001b[43mencoding\u001b[49m\u001b[43m,\u001b[49m\n\u001b[32m    877\u001b[39m \u001b[43m            \u001b[49m\u001b[43merrors\u001b[49m\u001b[43m=\u001b[49m\u001b[43merrors\u001b[49m\u001b[43m,\u001b[49m\n\u001b[32m    878\u001b[39m \u001b[43m            \u001b[49m\u001b[43mnewline\u001b[49m\u001b[43m=\u001b[49m\u001b[33;43m\"\u001b[39;49m\u001b[33;43m\"\u001b[39;49m\u001b[43m,\u001b[49m\n\u001b[32m    879\u001b[39m \u001b[43m        \u001b[49m\u001b[43m)\u001b[49m\n\u001b[32m    880\u001b[39m     \u001b[38;5;28;01melse\u001b[39;00m:\n\u001b[32m    881\u001b[39m         \u001b[38;5;66;03m# Binary mode\u001b[39;00m\n\u001b[32m    882\u001b[39m         handle = \u001b[38;5;28mopen\u001b[39m(handle, ioargs.mode)\n",
      "\u001b[31mFileNotFoundError\u001b[39m: [Errno 2] No such file or directory: '/home/jovyan/projects/marin/delta-chatbot/notebooks/Files/cities_per_en.csv'"
     ]
    }
   ],
   "source": [
    "df_cities = pd.read_csv(\"/home/jovyan/projects/marin/delta-chatbot/notebooks/Files/cities_per_en.csv\")\n",
    "df_regions = pd.read_csv(\"/home/jovyan/projects/marin/delta-chatbot/notebooks/Files/regions.csv\")"
   ]
  },
  {
   "cell_type": "code",
   "execution_count": 15,
   "id": "43f28290-8727-49ff-abfc-7af6e7b06f0d",
   "metadata": {
    "execution": {
     "iopub.execute_input": "2025-06-11T14:00:12.482931Z",
     "iopub.status.busy": "2025-06-11T14:00:12.482654Z",
     "iopub.status.idle": "2025-06-11T14:00:12.597410Z",
     "shell.execute_reply": "2025-06-11T14:00:12.596456Z",
     "shell.execute_reply.started": "2025-06-11T14:00:12.482908Z"
    }
   },
   "outputs": [
    {
     "ename": "PackageNotFoundError",
     "evalue": "Package not found at '/home/jovyan/projects/marin/delta-chatbot/notebooks/Files/delta.docx'",
     "output_type": "error",
     "traceback": [
      "\u001b[31m---------------------------------------------------------------------------\u001b[39m",
      "\u001b[31mPackageNotFoundError\u001b[39m                      Traceback (most recent call last)",
      "\u001b[36mCell\u001b[39m\u001b[36m \u001b[39m\u001b[32mIn[15]\u001b[39m\u001b[32m, line 1\u001b[39m\n\u001b[32m----> \u001b[39m\u001b[32m1\u001b[39m docx = \u001b[43mDocxDocument\u001b[49m\u001b[43m(\u001b[49m\u001b[33;43m\"\u001b[39;49m\u001b[33;43m/home/jovyan/projects/marin/delta-chatbot/notebooks/Files/delta.docx\u001b[39;49m\u001b[33;43m\"\u001b[39;49m\u001b[43m)\u001b[49m\n\u001b[32m      2\u001b[39m text = \u001b[33m\"\u001b[39m\u001b[38;5;130;01m\\n\u001b[39;00m\u001b[33m\"\u001b[39m.join([para.text \u001b[38;5;28;01mfor\u001b[39;00m para \u001b[38;5;129;01min\u001b[39;00m docx.paragraphs \u001b[38;5;28;01mif\u001b[39;00m para.text.strip()])\n\u001b[32m      4\u001b[39m docs = [Document(page_content=text, metadata={\u001b[33m\"\u001b[39m\u001b[33msource\u001b[39m\u001b[33m\"\u001b[39m: \u001b[33m\"\u001b[39m\u001b[33m/home/jovyan/projects/marin/delta-chatbot/notebooks/Files/delta.docx\u001b[39m\u001b[33m\"\u001b[39m})]\n",
      "\u001b[36mFile \u001b[39m\u001b[32m/opt/conda/lib/python3.12/site-packages/docx/api.py:27\u001b[39m, in \u001b[36mDocument\u001b[39m\u001b[34m(docx)\u001b[39m\n\u001b[32m     20\u001b[39m \u001b[38;5;250m\u001b[39m\u001b[33;03m\"\"\"Return a |Document| object loaded from `docx`, where `docx` can be either a path\u001b[39;00m\n\u001b[32m     21\u001b[39m \u001b[33;03mto a ``.docx`` file (a string) or a file-like object.\u001b[39;00m\n\u001b[32m     22\u001b[39m \n\u001b[32m     23\u001b[39m \u001b[33;03mIf `docx` is missing or ``None``, the built-in default document \"template\" is\u001b[39;00m\n\u001b[32m     24\u001b[39m \u001b[33;03mloaded.\u001b[39;00m\n\u001b[32m     25\u001b[39m \u001b[33;03m\"\"\"\u001b[39;00m\n\u001b[32m     26\u001b[39m docx = _default_docx_path() \u001b[38;5;28;01mif\u001b[39;00m docx \u001b[38;5;129;01mis\u001b[39;00m \u001b[38;5;28;01mNone\u001b[39;00m \u001b[38;5;28;01melse\u001b[39;00m docx\n\u001b[32m---> \u001b[39m\u001b[32m27\u001b[39m document_part = cast(\u001b[33m\"\u001b[39m\u001b[33mDocumentPart\u001b[39m\u001b[33m\"\u001b[39m, \u001b[43mPackage\u001b[49m\u001b[43m.\u001b[49m\u001b[43mopen\u001b[49m\u001b[43m(\u001b[49m\u001b[43mdocx\u001b[49m\u001b[43m)\u001b[49m.main_document_part)\n\u001b[32m     28\u001b[39m \u001b[38;5;28;01mif\u001b[39;00m document_part.content_type != CT.WML_DOCUMENT_MAIN:\n\u001b[32m     29\u001b[39m     tmpl = \u001b[33m\"\u001b[39m\u001b[33mfile \u001b[39m\u001b[33m'\u001b[39m\u001b[38;5;132;01m%s\u001b[39;00m\u001b[33m'\u001b[39m\u001b[33m is not a Word file, content type is \u001b[39m\u001b[33m'\u001b[39m\u001b[38;5;132;01m%s\u001b[39;00m\u001b[33m'\u001b[39m\u001b[33m\"\u001b[39m\n",
      "\u001b[36mFile \u001b[39m\u001b[32m/opt/conda/lib/python3.12/site-packages/docx/opc/package.py:127\u001b[39m, in \u001b[36mOpcPackage.open\u001b[39m\u001b[34m(cls, pkg_file)\u001b[39m\n\u001b[32m    124\u001b[39m \u001b[38;5;129m@classmethod\u001b[39m\n\u001b[32m    125\u001b[39m \u001b[38;5;28;01mdef\u001b[39;00m\u001b[38;5;250m \u001b[39m\u001b[34mopen\u001b[39m(\u001b[38;5;28mcls\u001b[39m, pkg_file: \u001b[38;5;28mstr\u001b[39m | IO[\u001b[38;5;28mbytes\u001b[39m]) -> OpcPackage:\n\u001b[32m    126\u001b[39m \u001b[38;5;250m    \u001b[39m\u001b[33;03m\"\"\"Return an |OpcPackage| instance loaded with the contents of `pkg_file`.\"\"\"\u001b[39;00m\n\u001b[32m--> \u001b[39m\u001b[32m127\u001b[39m     pkg_reader = \u001b[43mPackageReader\u001b[49m\u001b[43m.\u001b[49m\u001b[43mfrom_file\u001b[49m\u001b[43m(\u001b[49m\u001b[43mpkg_file\u001b[49m\u001b[43m)\u001b[49m\n\u001b[32m    128\u001b[39m     package = \u001b[38;5;28mcls\u001b[39m()\n\u001b[32m    129\u001b[39m     Unmarshaller.unmarshal(pkg_reader, package, PartFactory)\n",
      "\u001b[36mFile \u001b[39m\u001b[32m/opt/conda/lib/python3.12/site-packages/docx/opc/pkgreader.py:22\u001b[39m, in \u001b[36mPackageReader.from_file\u001b[39m\u001b[34m(pkg_file)\u001b[39m\n\u001b[32m     19\u001b[39m \u001b[38;5;129m@staticmethod\u001b[39m\n\u001b[32m     20\u001b[39m \u001b[38;5;28;01mdef\u001b[39;00m\u001b[38;5;250m \u001b[39m\u001b[34mfrom_file\u001b[39m(pkg_file):\n\u001b[32m     21\u001b[39m \u001b[38;5;250m    \u001b[39m\u001b[33;03m\"\"\"Return a |PackageReader| instance loaded with contents of `pkg_file`.\"\"\"\u001b[39;00m\n\u001b[32m---> \u001b[39m\u001b[32m22\u001b[39m     phys_reader = \u001b[43mPhysPkgReader\u001b[49m\u001b[43m(\u001b[49m\u001b[43mpkg_file\u001b[49m\u001b[43m)\u001b[49m\n\u001b[32m     23\u001b[39m     content_types = _ContentTypeMap.from_xml(phys_reader.content_types_xml)\n\u001b[32m     24\u001b[39m     pkg_srels = PackageReader._srels_for(phys_reader, PACKAGE_URI)\n",
      "\u001b[36mFile \u001b[39m\u001b[32m/opt/conda/lib/python3.12/site-packages/docx/opc/phys_pkg.py:21\u001b[39m, in \u001b[36mPhysPkgReader.__new__\u001b[39m\u001b[34m(cls, pkg_file)\u001b[39m\n\u001b[32m     19\u001b[39m         reader_cls = _ZipPkgReader\n\u001b[32m     20\u001b[39m     \u001b[38;5;28;01melse\u001b[39;00m:\n\u001b[32m---> \u001b[39m\u001b[32m21\u001b[39m         \u001b[38;5;28;01mraise\u001b[39;00m PackageNotFoundError(\u001b[33m\"\u001b[39m\u001b[33mPackage not found at \u001b[39m\u001b[33m'\u001b[39m\u001b[38;5;132;01m%s\u001b[39;00m\u001b[33m'\u001b[39m\u001b[33m\"\u001b[39m % pkg_file)\n\u001b[32m     22\u001b[39m \u001b[38;5;28;01melse\u001b[39;00m:  \u001b[38;5;66;03m# assume it's a stream and pass it to Zip reader to sort out\u001b[39;00m\n\u001b[32m     23\u001b[39m     reader_cls = _ZipPkgReader\n",
      "\u001b[31mPackageNotFoundError\u001b[39m: Package not found at '/home/jovyan/projects/marin/delta-chatbot/notebooks/Files/delta.docx'"
     ]
    }
   ],
   "source": [
    "docx = DocxDocument(\"/home/jovyan/projects/marin/delta-chatbot/notebooks/Files/delta.docx\")\n",
    "text = \"\\n\".join([para.text for para in docx.paragraphs if para.text.strip()])\n",
    "\n",
    "docs = [Document(page_content=text, metadata={\"source\": \"/home/jovyan/projects/marin/delta-chatbot/notebooks/Files/delta.docx\"})]"
   ]
  },
  {
   "cell_type": "code",
   "execution_count": 10,
   "id": "900123d1-d768-44e3-a714-a044328ada31",
   "metadata": {
    "execution": {
     "iopub.execute_input": "2025-06-11T13:09:13.575823Z",
     "iopub.status.busy": "2025-06-11T13:09:13.575469Z",
     "iopub.status.idle": "2025-06-11T13:09:13.585758Z",
     "shell.execute_reply": "2025-06-11T13:09:13.584223Z",
     "shell.execute_reply.started": "2025-06-11T13:09:13.575790Z"
    }
   },
   "outputs": [],
   "source": [
    "text_splitter = RecursiveCharacterTextSplitter(chunk_size=800, chunk_overlap=300)\n",
    "all_splits = text_splitter.split_documents(docs)"
   ]
  },
  {
   "cell_type": "code",
   "execution_count": 11,
   "id": "5e2179d2-9849-43ae-be23-48a1ee65691a",
   "metadata": {
    "execution": {
     "iopub.execute_input": "2025-06-11T13:09:13.587726Z",
     "iopub.status.busy": "2025-06-11T13:09:13.587341Z",
     "iopub.status.idle": "2025-06-11T13:09:20.355963Z",
     "shell.execute_reply": "2025-06-11T13:09:20.353809Z",
     "shell.execute_reply.started": "2025-06-11T13:09:13.587670Z"
    },
    "scrolled": true
   },
   "outputs": [
    {
     "name": "stderr",
     "output_type": "stream",
     "text": [
      "/opt/conda/lib/python3.12/site-packages/langsmith/client.py:272: LangSmithMissingAPIKeyWarning: API key must be provided when using hosted LangSmith API\n",
      "  warnings.warn(\n"
     ]
    }
   ],
   "source": [
    "_ = vector_store.add_documents(documents=all_splits)\n",
    "\n",
    "prompt = hub.pull(\"rlm/rag-prompt\")"
   ]
  },
  {
   "cell_type": "markdown",
   "id": "e4efc375-a904-4e87-bf90-189663524d97",
   "metadata": {},
   "source": [
    "# Functions & Classes"
   ]
  },
  {
   "cell_type": "code",
   "execution_count": 16,
   "id": "2d20a288-ed3a-4232-9134-27c582a517c2",
   "metadata": {
    "execution": {
     "iopub.execute_input": "2025-06-11T14:02:16.174312Z",
     "iopub.status.busy": "2025-06-11T14:02:16.173976Z",
     "iopub.status.idle": "2025-06-11T14:02:16.180298Z",
     "shell.execute_reply": "2025-06-11T14:02:16.179087Z",
     "shell.execute_reply.started": "2025-06-11T14:02:16.174289Z"
    }
   },
   "outputs": [],
   "source": [
    "PROPERTY_TYPE_MAPPING = {\n",
    "    \"زمین\": {\"url\": \"store\", \"display\": \"زمین\"},\n",
    "    \"آپارتمان موقعیت اداری\": {\"url\": \"OfficeLocationApartment\", \"display\": \"آپارتمان موقعیت اداری\"},\n",
    "    \"باغ\": {\"url\": \"garden\", \"display\": \"باغ\"},\n",
    "    \"باغچه\": {\"url\": \"garden\", \"display\": \"باغ\"},\n",
    "    \"تجاری\": {\"url\": \"commercial\", \"display\": \"تجاری\"},\n",
    "    \"مغازه\": {\"url\": \"commercial\", \"display\": \"مغازه\"},\n",
    "    \"آپارتمان\": {\"url\": \"apartment\", \"display\": \"آپارتمان\"}\n",
    "}\n",
    "property_types = list(PROPERTY_TYPE_MAPPING.keys())"
   ]
  },
  {
   "cell_type": "code",
   "execution_count": 17,
   "id": "0750dd21-3e60-4e1d-8967-3d2eb842af53",
   "metadata": {
    "execution": {
     "iopub.execute_input": "2025-06-11T14:02:16.775967Z",
     "iopub.status.busy": "2025-06-11T14:02:16.775674Z",
     "iopub.status.idle": "2025-06-11T14:02:16.780435Z",
     "shell.execute_reply": "2025-06-11T14:02:16.779635Z",
     "shell.execute_reply.started": "2025-06-11T14:02:16.775941Z"
    }
   },
   "outputs": [],
   "source": [
    "def fuzzy_search_return_link(neighborhood, threshold=80):\n",
    "    for idx, row in df_regions.iterrows():\n",
    "        if neighborhood == row['name']:\n",
    "            return row['link']\n",
    "    \n",
    "    for idx, row in df_regions.iterrows():\n",
    "        similarity = fuzz.partial_ratio(neighborhood, row['name'])\n",
    "        if similarity >= threshold:\n",
    "            return row['link']\n",
    "    return None"
   ]
  },
  {
   "cell_type": "code",
   "execution_count": 18,
   "id": "2fedfb4d-aa34-4c11-b607-12165b09841d",
   "metadata": {
    "execution": {
     "iopub.execute_input": "2025-06-11T14:02:17.496426Z",
     "iopub.status.busy": "2025-06-11T14:02:17.495540Z",
     "iopub.status.idle": "2025-06-11T14:02:17.546044Z",
     "shell.execute_reply": "2025-06-11T14:02:17.542652Z",
     "shell.execute_reply.started": "2025-06-11T14:02:17.496354Z"
    }
   },
   "outputs": [],
   "source": [
    "def get_delta_values(value, category, property_type):\n",
    "    response = requests.get(f\"https://api.deltadev.ir/api/v1/customFields/filter?category={category}&property={property_type}\")\n",
    "    response.raise_for_status()\n",
    "    data = response.json()\n",
    "    for item in data[\"data\"]:\n",
    "        if item[\"key\"] == value:\n",
    "            items = [row[\"value\"] for row in item[\"options\"]]\n",
    "    items = [int(x) for x in items]\n",
    "    return items\n",
    "\n",
    "def value_assignment(min_value, max_value, a):\n",
    "    if max_value:\n",
    "        value = max_value\n",
    "    else:\n",
    "        value = min_value\n",
    "        \n",
    "    max_value = None\n",
    "    min_value = None\n",
    "    \n",
    "    value = min(a, key=lambda x: abs(x - value))\n",
    "    index = a.index(value)\n",
    "    \n",
    "    if index != len(a)-1 and index !=0:\n",
    "        max_value = a[index+1]\n",
    "        min_value = a[index-1]\n",
    "        \n",
    "    elif index == len(a)-1:\n",
    "        min_value = value\n",
    "        max_value = None\n",
    "        \n",
    "    elif index == 0:\n",
    "        if a[0]==0:\n",
    "            max_value = a[1]\n",
    "        else:\n",
    "            max_value = a[0]\n",
    "        min_value = None\n",
    "    return min_value, max_value\n",
    "\n",
    "\n",
    "def set_values(value, min_value, max_value, is_value_approximate, category, property_type):\n",
    "    if is_value_approximate==True or min_value == max_value:\n",
    "        values = get_delta_values(value, category, property_type)\n",
    "        if (min_value and not max_value) or (not min_value and max_value):\n",
    "            min_value, max_value = value_assignment(min_value, max_value, values)\n",
    "        elif min_value==None and max_value==None:\n",
    "            pass\n",
    "        else:\n",
    "            min_value = min(values, key=lambda x: abs(x - min_value))\n",
    "            max_value = min(values, key=lambda x: abs(x - max_value))\n",
    "            if min_value == max_value:\n",
    "                min_value, max_value = value_assignment(min_value, None, values)\n",
    "    return min_value, max_value\n",
    "        \n",
    "def search_properties(\n",
    "    min_meter: Optional[int] = None, \n",
    "    max_meter: Optional[int] = None,\n",
    "    is_meter_approximate: Optional[bool] = None,\n",
    "    min_price: Optional[int] = None, \n",
    "    max_price: Optional[int] = None,\n",
    "    is_price_approximate: Optional[bool] = None,\n",
    "    min_rent_price: Optional[int] = None, \n",
    "    max_rent_price: Optional[int] = None, \n",
    "    is_rent_price_approximate: Optional[bool] = None,\n",
    "    neighborhood: Optional[str] = None,\n",
    "    city: Optional[str] = \"tehran\",\n",
    "    elevator: Optional[bool] = None,\n",
    "    property_type: Optional[str] = None,\n",
    "    category: Optional[str] = None,\n",
    ") -> str:\n",
    "    \"\"\"\n",
    "    if the user wants to buy or rent property make url with filters for city, area, price, elevator, and property type.\n",
    "    \"\"\"\n",
    "    print(min_meter)\n",
    "    print(max_meter)\n",
    "    if not property_type:\n",
    "        property_type = apartment\n",
    "    else:\n",
    "        property_type = PROPERTY_TYPE_MAPPING[property_type][\"url\"]\n",
    "\n",
    "    if not category:\n",
    "        category = \"buy\"\n",
    "        \n",
    "    base_url = f\"https://delta.ir/{city}/{category}/{property_type}\"\n",
    "\n",
    "    if neighborhood:\n",
    "        fuzzy_result = fuzzy_search_return_link(neighborhood)\n",
    "        if fuzzy_result:\n",
    "            base_url = base_url + '/' + fuzzy_result\n",
    "\n",
    "    \n",
    "    min_meter, max_meter = set_values(\"Area\", min_meter, max_meter, is_meter_approximate, category, property_type)\n",
    "    min_price, max_price = set_values(\"Price\", min_price, max_price, is_price_approximate, category, property_type)\n",
    "    if category == \"rent\":\n",
    "        min_rent_price, max_rent_price = set_values(\"RentalPrice\", min_rent_price, max_rent_price, is_rent_price_approximate, category, property_type)      \n",
    "\n",
    "            \n",
    "    query_params = []\n",
    "    if min_meter is not None and max_meter is not None:\n",
    "        query_params.append(f\"meter={min_meter}-{max_meter}\")\n",
    "    elif min_meter is not None:\n",
    "        query_params.append(f\"meter={min_meter}-\")\n",
    "    elif max_meter is not None:\n",
    "        query_params.append(f\"meter=-{max_meter}\")\n",
    "\n",
    "    if min_price is not None and max_price is not None:\n",
    "        query_params.append(f\"price={min_price}-{max_price}\")\n",
    "    elif min_price is not None:\n",
    "        query_params.append(f\"price={min_price}-\")\n",
    "    elif max_price is not None:\n",
    "        query_params.append(f\"price=-{max_price}\")\n",
    "\n",
    "    if elevator==True:\n",
    "        query_params.append(\"features=elevator\")\n",
    "\n",
    "    query_string = \"?\" + \"&\".join(query_params) if query_params else \"\"\n",
    "    url = base_url + query_string\n",
    "\n",
    "    filters = []\n",
    "    if min_meter is not None and max_meter is not None:\n",
    "        filters.append(f\"{min_meter} تا {max_meter} متر\")\n",
    "    elif min_meter is not None:\n",
    "        filters.append(f\"حداقل {min_meter} متر\")\n",
    "    elif max_meter is not None:\n",
    "        filters.append(f\"حداکثر {max_meter} متر\")\n",
    "\n",
    "    if min_price is not None and max_price is not None:\n",
    "        filters.append(f\"بین {min_price:,} تا {max_price:,} تومان\")\n",
    "    elif min_price is not None:\n",
    "        filters.append(f\"حداقل {min_price:,} تومان\")\n",
    "    elif max_price is not None:\n",
    "        filters.append(f\"حداکثر {max_price:,} تومان\")\n",
    "\n",
    "    if elevator:\n",
    "        filters.append(\"با آسانسور\")\n",
    "\n",
    "    if filters:\n",
    "        filters_str = \"، \".join(filters)\n",
    "        explanation = f\"با ویژگی‌هایی که گفتید ({filters_str})، می‌توانید بر روی این لینک کلیک کنید و ملک‌های مشابه را پیدا کنید: {url}\"\n",
    "    else:\n",
    "        explanation = f\"می‌توانید بر روی این لینک کلیک کنید و ملک‌های موجود را مشاهده کنید: {url}\"\n",
    "    return url"
   ]
  },
  {
   "cell_type": "code",
   "execution_count": 19,
   "id": "66adf00d-d326-4d02-be40-ec54f834b604",
   "metadata": {
    "execution": {
     "iopub.execute_input": "2025-06-11T14:02:18.126425Z",
     "iopub.status.busy": "2025-06-11T14:02:18.125591Z",
     "iopub.status.idle": "2025-06-11T14:02:18.202435Z",
     "shell.execute_reply": "2025-06-11T14:02:18.201457Z",
     "shell.execute_reply.started": "2025-06-11T14:02:18.126352Z"
    }
   },
   "outputs": [
    {
     "ename": "NameError",
     "evalue": "name 'df_cities' is not defined",
     "output_type": "error",
     "traceback": [
      "\u001b[31m---------------------------------------------------------------------------\u001b[39m",
      "\u001b[31mNameError\u001b[39m                                 Traceback (most recent call last)",
      "\u001b[36mCell\u001b[39m\u001b[36m \u001b[39m\u001b[32mIn[19]\u001b[39m\u001b[32m, line 4\u001b[39m\n\u001b[32m      1\u001b[39m \u001b[38;5;28;01mfrom\u001b[39;00m\u001b[38;5;250m \u001b[39m\u001b[34;01mpydantic\u001b[39;00m\u001b[38;5;250m \u001b[39m\u001b[38;5;28;01mimport\u001b[39;00m BaseModel, Field, field_validator\n\u001b[32m      2\u001b[39m \u001b[38;5;28;01mfrom\u001b[39;00m\u001b[38;5;250m \u001b[39m\u001b[34;01mtyping\u001b[39;00m\u001b[38;5;250m \u001b[39m\u001b[38;5;28;01mimport\u001b[39;00m Optional\n\u001b[32m----> \u001b[39m\u001b[32m4\u001b[39m \u001b[38;5;28;43;01mclass\u001b[39;49;00m\u001b[38;5;250;43m \u001b[39;49m\u001b[34;43;01mPropertyFeatures\u001b[39;49;00m\u001b[43m(\u001b[49m\u001b[43mBaseModel\u001b[49m\u001b[43m)\u001b[49m\u001b[43m:\u001b[49m\n\u001b[32m      5\u001b[39m \u001b[43m    \u001b[49m\u001b[43mmin_meter\u001b[49m\u001b[43m:\u001b[49m\u001b[43m \u001b[49m\u001b[43mOptional\u001b[49m\u001b[43m[\u001b[49m\u001b[38;5;28;43mint\u001b[39;49m\u001b[43m]\u001b[49m\u001b[43m \u001b[49m\u001b[43m=\u001b[49m\u001b[43m \u001b[49m\u001b[43mField\u001b[49m\u001b[43m(\u001b[49m\u001b[43mdefault\u001b[49m\u001b[43m=\u001b[49m\u001b[38;5;28;43;01mNone\u001b[39;49;00m\u001b[43m,\u001b[49m\u001b[43m \u001b[49m\u001b[43mdescription\u001b[49m\u001b[43m=\u001b[49m\u001b[33;43m\"\u001b[39;49m\u001b[33;43mMinimum square meters\u001b[39;49m\u001b[33;43m\"\u001b[39;49m\u001b[43m)\u001b[49m\n\u001b[32m      6\u001b[39m \u001b[43m    \u001b[49m\u001b[43mmax_meter\u001b[49m\u001b[43m:\u001b[49m\u001b[43m \u001b[49m\u001b[43mOptional\u001b[49m\u001b[43m[\u001b[49m\u001b[38;5;28;43mint\u001b[39;49m\u001b[43m]\u001b[49m\u001b[43m \u001b[49m\u001b[43m=\u001b[49m\u001b[43m \u001b[49m\u001b[43mField\u001b[49m\u001b[43m(\u001b[49m\u001b[43mdefault\u001b[49m\u001b[43m=\u001b[49m\u001b[38;5;28;43;01mNone\u001b[39;49;00m\u001b[43m,\u001b[49m\u001b[43m \u001b[49m\u001b[43mdescription\u001b[49m\u001b[43m=\u001b[49m\u001b[33;43m\"\u001b[39;49m\u001b[33;43mMaximum square meters\u001b[39;49m\u001b[33;43m\"\u001b[39;49m\u001b[43m)\u001b[49m\n",
      "\u001b[36mCell\u001b[39m\u001b[36m \u001b[39m\u001b[32mIn[19]\u001b[39m\u001b[32m, line 27\u001b[39m, in \u001b[36mPropertyFeatures\u001b[39m\u001b[34m()\u001b[39m\n\u001b[32m     21\u001b[39m is_rent_price_approximate: Optional[\u001b[38;5;28mbool\u001b[39m] = Field(\n\u001b[32m     22\u001b[39m     default=\u001b[38;5;28;01mNone\u001b[39;00m,\n\u001b[32m     23\u001b[39m     description=\u001b[33m\"\u001b[39m\u001b[33mIndicates whether the monthly rental price is approximate (e.g., \u001b[39m\u001b[33m'\u001b[39m\u001b[33maround 2 million\u001b[39m\u001b[33m'\u001b[39m\u001b[33m or \u001b[39m\u001b[33m'\u001b[39m\u001b[33msomething like 2 million\u001b[39m\u001b[33m'\u001b[39m\u001b[33m) and set to True, or an open range (e.g., \u001b[39m\u001b[33m'\u001b[39m\u001b[33mfrom 2 million\u001b[39m\u001b[33m'\u001b[39m\u001b[33m or \u001b[39m\u001b[33m'\u001b[39m\u001b[33m2 million and above\u001b[39m\u001b[33m'\u001b[39m\u001b[33m) and set to False.\u001b[39m\u001b[33m\"\u001b[39m\n\u001b[32m     24\u001b[39m )\n\u001b[32m     26\u001b[39m neighborhood: Optional[\u001b[38;5;28mstr\u001b[39m] = Field(default=\u001b[38;5;28;01mNone\u001b[39;00m, description=\u001b[33m\"\u001b[39m\u001b[33mNeighborhood in tehran in persian\u001b[39m\u001b[33m\"\u001b[39m)\n\u001b[32m---> \u001b[39m\u001b[32m27\u001b[39m city: Literal[\u001b[38;5;28mtuple\u001b[39m(\u001b[43mdf_cities\u001b[49m[\u001b[33m'\u001b[39m\u001b[33mcity\u001b[39m\u001b[33m'\u001b[39m])] = Field(default=\u001b[33m\"\u001b[39m\u001b[33mother\u001b[39m\u001b[33m\"\u001b[39m, description=\u001b[33m\"\u001b[39m\u001b[33mCity name. city=\u001b[39m\u001b[33m'\u001b[39m\u001b[33mrasht\u001b[39m\u001b[33m'\u001b[39m\u001b[33m if city is shomal\u001b[39m\u001b[33m\"\u001b[39m)\n\u001b[32m     28\u001b[39m elevator: Optional[\u001b[38;5;28mbool\u001b[39m] = Field(default=\u001b[38;5;28;01mNone\u001b[39;00m, description=\u001b[33m\"\u001b[39m\u001b[33mElevator required (True/False)\u001b[39m\u001b[33m\"\u001b[39m)\n\u001b[32m     29\u001b[39m property_type: Literal[*property_types]= Field(default=\u001b[38;5;28;01mNone\u001b[39;00m, description=\u001b[33m\"\u001b[39m\u001b[33mproperty type\u001b[39m\u001b[33m\"\u001b[39m) \n",
      "\u001b[31mNameError\u001b[39m: name 'df_cities' is not defined"
     ]
    }
   ],
   "source": [
    "from pydantic import BaseModel, Field, field_validator\n",
    "from typing import Optional\n",
    "\n",
    "class PropertyFeatures(BaseModel):\n",
    "    min_meter: Optional[int] = Field(default=None, description=\"Minimum square meters\")\n",
    "    max_meter: Optional[int] = Field(default=None, description=\"Maximum square meters\")\n",
    "    is_meter_approximate: Optional[bool] = Field(\n",
    "        default=None,\n",
    "        description=\"Indicates whether the meterage is approximate (e.g., 'around 100 meters') and set to True, or an open range (e.g., '100 meters and above' or 'from 100 meters') and set to False.\"\n",
    "    )\n",
    "    \n",
    "    min_price: Optional[int] = Field(default=None, description=\"Minimum price or Security Deposit if category is rent in Tomans\")\n",
    "    max_price: Optional[int] = Field(default=None, description=\"Maximum price or Security Deposit if category is rent in Tomans\")\n",
    "    is_price_approximate: Optional[bool] = Field(\n",
    "        default=None,\n",
    "        description=\"Indicates whether the price (or Security Deposit ( or 'ودیعه' in persian) if category is rent) is approximate (e.g., 'around 2 billion' or 'something like 2 billion') and set to True, or an open range (e.g., 'from 2 billion' or '2 billion and above') and set to False.\"\n",
    "    )\n",
    "    \n",
    "    min_rent_price: Optional[int] = Field(default=None, description=\"Minimum monthly rental price in Tomans\")\n",
    "    max_rent_price: Optional[int] = Field(default=None, description=\"Maximum monthly rental price in Tomans\")\n",
    "    is_rent_price_approximate: Optional[bool] = Field(\n",
    "        default=None,\n",
    "        description=\"Indicates whether the monthly rental price is approximate (e.g., 'around 2 million' or 'something like 2 million') and set to True, or an open range (e.g., 'from 2 million' or '2 million and above') and set to False.\"\n",
    "    )\n",
    "    \n",
    "    neighborhood: Optional[str] = Field(default=None, description=\"Neighborhood in tehran in persian\")\n",
    "    city: Literal[tuple(df_cities['city'])] = Field(default=\"other\", description=\"City name. city='rasht' if city is shomal\")\n",
    "    elevator: Optional[bool] = Field(default=None, description=\"Elevator required (True/False)\")\n",
    "    property_type: Literal[*property_types]= Field(default=None, description=\"property type\") \n",
    "    category: Literal[\"buy\", \"rent\"] = Field(default=None, description=\"Transaction type: 'buy' for purchase, 'rent' for rental\") \n",
    "    \n",
    "    @field_validator(\"is_meter_approximate\", mode=\"before\")\n",
    "    @classmethod\n",
    "    def set_meter_approximate(cls, v, info):\n",
    "        if v is None and info.data.get(\"min_meter\") is not None:\n",
    "            return True  \n",
    "        return v\n",
    "\n",
    "    @field_validator(\"is_price_approximate\", mode=\"before\")\n",
    "    @classmethod\n",
    "    def set_price_approximate(cls, v, info):\n",
    "        if v is None and info.data.get(\"min_price\") is not None:\n",
    "            return False  \n",
    "        return v"
   ]
  },
  {
   "cell_type": "code",
   "execution_count": 20,
   "id": "9e6b6364-8856-4cb8-b57a-ec5cb7a7d3cd",
   "metadata": {
    "execution": {
     "iopub.execute_input": "2025-06-11T14:02:26.013078Z",
     "iopub.status.busy": "2025-06-11T14:02:26.012297Z",
     "iopub.status.idle": "2025-06-11T14:02:26.024417Z",
     "shell.execute_reply": "2025-06-11T14:02:26.022293Z",
     "shell.execute_reply.started": "2025-06-11T14:02:26.013009Z"
    }
   },
   "outputs": [],
   "source": [
    "class FollowUpQuestions(BaseModel):\n",
    "    follow_up_questions: List[str]"
   ]
  },
  {
   "cell_type": "code",
   "execution_count": 21,
   "id": "05903948-4091-414f-81e2-0c923c1e35ac",
   "metadata": {
    "execution": {
     "iopub.execute_input": "2025-06-11T14:02:26.698351Z",
     "iopub.status.busy": "2025-06-11T14:02:26.698036Z",
     "iopub.status.idle": "2025-06-11T14:02:26.702078Z",
     "shell.execute_reply": "2025-06-11T14:02:26.701435Z",
     "shell.execute_reply.started": "2025-06-11T14:02:26.698327Z"
    }
   },
   "outputs": [],
   "source": [
    "from langchain_core.messages import AnyMessage \n",
    "from langgraph.graph.message import add_messages\n",
    "\n",
    "class State(TypedDict):\n",
    "    messages: Annotated[list, add_messages]\n",
    "    follow_up_questions: List[str]"
   ]
  },
  {
   "cell_type": "markdown",
   "id": "383907c3-7473-443c-a454-7e5ad0bec2eb",
   "metadata": {},
   "source": [
    "# Tools"
   ]
  },
  {
   "cell_type": "code",
   "execution_count": 22,
   "id": "8b527485-f263-47d1-9485-e4d5fe35c1ab",
   "metadata": {
    "execution": {
     "iopub.execute_input": "2025-06-11T14:02:27.856038Z",
     "iopub.status.busy": "2025-06-11T14:02:27.855734Z",
     "iopub.status.idle": "2025-06-11T14:02:27.867970Z",
     "shell.execute_reply": "2025-06-11T14:02:27.867356Z",
     "shell.execute_reply.started": "2025-06-11T14:02:27.856013Z"
    }
   },
   "outputs": [],
   "source": [
    "@tool\n",
    "def retrieve(query: str):\n",
    "    \"\"\"Retrieves relevant documents based on the content of the most recent message.\"\"\"\n",
    "    print(\"retrieve tool used \")\n",
    "\n",
    "    # using threshold\n",
    "    retrieved_docs = vector_store.similarity_search_with_score(query, k=3)\n",
    "    filtered_docs = [doc for doc, score in retrieved_docs if score >= 0.4]\n",
    "    serialized = \"\\n\\n\".join(\n",
    "        (f\"Source: \\n\" f\"Content: {doc}\")\n",
    "        for doc in filtered_docs\n",
    "    )\n",
    "\n",
    "    return serialized\n",
    "\n",
    "\n",
    "@tool\n",
    "def make_buy_or_rent_properties_url(query: str):\n",
    "    \"\"\"\n",
    "    Use this tool to generate a URL for purchasing or renting real estate properties.\n",
    "    \"\"\"\n",
    "    \n",
    "    structured_llm = llm.with_structured_output(PropertyFeatures)\n",
    "    property_features = structured_llm.invoke(query)\n",
    "    print(\"make_buy_or_rent_properties_url tool used with this parameters: \", property_features)\n",
    "\n",
    "    result = search_properties(**property_features.model_dump())\n",
    "    return result\n",
    "    \n",
    "tools = [retrieve, make_buy_or_rent_properties_url]"
   ]
  },
  {
   "cell_type": "markdown",
   "id": "c2dec019-1c2d-4301-998e-d1875532326f",
   "metadata": {},
   "source": [
    "# Chains"
   ]
  },
  {
   "cell_type": "code",
   "execution_count": 23,
   "id": "e82ee4d5-4a05-4c12-beb3-e21ee4569700",
   "metadata": {
    "execution": {
     "iopub.execute_input": "2025-06-11T14:02:29.636298Z",
     "iopub.status.busy": "2025-06-11T14:02:29.635496Z",
     "iopub.status.idle": "2025-06-11T14:02:29.676532Z",
     "shell.execute_reply": "2025-06-11T14:02:29.675864Z",
     "shell.execute_reply.started": "2025-06-11T14:02:29.636232Z"
    }
   },
   "outputs": [],
   "source": [
    "def query_or_respond(state: State):\n",
    "    \"\"\"Generate tool call or respond.\"\"\"\n",
    "    llm_with_tools = llm.bind_tools(tools)\n",
    "    response = llm_with_tools.invoke(state[\"messages\"])\n",
    "    return {\"messages\": [response]}\n",
    "\n",
    "def generate(state: State):\n",
    "    recent_tool_messages = []\n",
    "    for message in reversed(state[\"messages\"]):\n",
    "        if message.type == \"tool\":\n",
    "            recent_tool_messages.append(message)\n",
    "        else:\n",
    "            break\n",
    "    tool_messages = recent_tool_messages[::-1]\n",
    "    print(\"tool_messages = \", tool_messages)\n",
    "\n",
    "    docs_content = \"\\n\\n\".join(doc.content for doc in tool_messages)\n",
    "    system_message_content = (\n",
    "        \"You are an Real estate consultant of delta.ir for question-answering tasks. \"\n",
    "        \"Don't suggest any website or link from other websites except from delta.ir\"\n",
    "        \"Use the following pieces of retrieved context to answer Persian. \"\n",
    "        \"If you got an url, give the url to user and don't change the url. give url only once, don't repeate it again in a () or [].\"\n",
    "        \"If you don't know the answer, say that you \"\n",
    "        \"don't know. Use three sentences maximum and keep the answer concise. \"\n",
    "        \"don't mention the source of the document, only answer it\"\n",
    "        \"Provide only the answer, no source or metadata.\"\n",
    "        \"\\n\\n\"\n",
    "        f\"{docs_content}\"\n",
    "    )\n",
    "    \n",
    "    conversation_messages = [\n",
    "        message\n",
    "        for message in state[\"messages\"]\n",
    "        if message.type in (\"human\", \"system\")\n",
    "        or (message.type == \"ai\" and not message.tool_calls)\n",
    "    ]\n",
    "\n",
    "    prompt = [SystemMessage(content=system_message_content)] + conversation_messages\n",
    "\n",
    "    response = llm.invoke(prompt)\n",
    "\n",
    "    follow_up_system_message = SystemMessage(\n",
    "        content=(\n",
    "            \"Based on the user's query, suggest 3 relevant follow-up questions in Persian. \"\n",
    "            \"Return each question on a new line.\"\n",
    "        )\n",
    "    )\n",
    "    follow_up_prompt = [follow_up_system_message] + prompt + [response]\n",
    "    follow_up_response = llm.invoke(follow_up_prompt)\n",
    "\n",
    "    follow_up_questions = [\n",
    "        q.strip() for q in follow_up_response.content.split(\"\\n\") if q.strip()\n",
    "    ]\n",
    "\n",
    "    return {\n",
    "        \"messages\": [AIMessage(content=response.content)],\n",
    "        \"follow_up_questions\": follow_up_questions\n",
    "    }\n",
    "\n",
    "\n",
    "graph_builder = StateGraph(State)\n",
    "graph_builder.add_node(query_or_respond)\n",
    "tool_node = ToolNode(tools)\n",
    "graph_builder.add_node(tool_node)\n",
    "graph_builder.add_node(generate)\n",
    "\n",
    "graph_builder.set_entry_point(\"query_or_respond\")\n",
    "graph_builder.add_conditional_edges(\n",
    "    \"query_or_respond\",\n",
    "    tools_condition,\n",
    "    {END: END, \"tools\": \"tools\"},\n",
    ")\n",
    "graph_builder.add_edge(\"tools\", \"generate\")\n",
    "graph_builder.add_edge(\"generate\", END)\n",
    "\n",
    "memory = MemorySaver()\n",
    "graph = graph_builder.compile(checkpointer=memory)"
   ]
  },
  {
   "cell_type": "markdown",
   "id": "d78d6c07-6796-4c0e-a41c-07afa9b0ae3b",
   "metadata": {},
   "source": [
    "# Usage"
   ]
  },
  {
   "cell_type": "code",
   "execution_count": 24,
   "id": "91437cf9-93f0-41bb-8d2e-b1e11c8713bb",
   "metadata": {
    "execution": {
     "iopub.execute_input": "2025-06-11T14:02:30.730310Z",
     "iopub.status.busy": "2025-06-11T14:02:30.729883Z",
     "iopub.status.idle": "2025-06-11T14:02:30.737287Z",
     "shell.execute_reply": "2025-06-11T14:02:30.736241Z",
     "shell.execute_reply.started": "2025-06-11T14:02:30.730275Z"
    }
   },
   "outputs": [
    {
     "name": "stdout",
     "output_type": "stream",
     "text": [
      "{'callbacks': [<langfuse.callback.langchain.LangchainCallbackHandler object at 0x76b56596dd00>], 'configurable': {'thread_id': 'f7fbe76d-4bb8-4e22-a41f-3d0042f15c06'}, 'metadata': {'langfuse_session_id': 'f7fbe76d-4bb8-4e22-a41f-3d0042f15c06'}}\n"
     ]
    }
   ],
   "source": [
    "# Updating memory\n",
    "config = None\n",
    "def update_memory():\n",
    "    thread_id = str(uuid.uuid4())\n",
    "    config={\n",
    "        \"callbacks\": [langfuse_handler],\n",
    "        \"configurable\": {\"thread_id\": thread_id},\n",
    "        \"metadata\": {\"langfuse_session_id\": thread_id},\n",
    "    }\n",
    "    return config\n",
    "\n",
    "def handle_update_memory():\n",
    "    global config\n",
    "    config = update_memory()\n",
    "    return f\"حافظه با موفقیت آپدیت شد\\n {config['configurable']['thread_id']}\", []\n",
    "handle_update_memory()\n",
    "print(config)"
   ]
  },
  {
   "cell_type": "markdown",
   "id": "5e881acf-b5c0-4723-be93-716c957d1584",
   "metadata": {},
   "source": [
    "# Test Cases"
   ]
  },
  {
   "cell_type": "code",
   "execution_count": 25,
   "id": "8307e255-94e7-47bf-a2a9-b9d3b01186cb",
   "metadata": {
    "execution": {
     "iopub.execute_input": "2025-06-11T14:02:31.988570Z",
     "iopub.status.busy": "2025-06-11T14:02:31.987682Z",
     "iopub.status.idle": "2025-06-11T14:02:32.004469Z",
     "shell.execute_reply": "2025-06-11T14:02:32.002055Z",
     "shell.execute_reply.started": "2025-06-11T14:02:31.988501Z"
    }
   },
   "outputs": [],
   "source": [
    "def ask_model(input_message):\n",
    "    print(\"input= \", input_message, \"\\n\")\n",
    "    result = graph.invoke(\n",
    "        {\"messages\": [HumanMessage(content=input_message)]},\n",
    "        config=config\n",
    "    )\n",
    "\n",
    "    response = result[\"messages\"][-1].content\n",
    "    follow_ups = result.get(\"follow_up_questions\", [])\n",
    "    follow_ups_str = \"\\n\".join(f\"- {q}\" for q in follow_ups)\n",
    "\n",
    "    chat_history = []\n",
    "    for i in result[\"messages\"]:\n",
    "        if isinstance(i, HumanMessage):\n",
    "            chat_history.append((\"شما\", i.content))\n",
    "        if isinstance(i, AIMessage) and i.content != '':\n",
    "            chat_history.append((\"چت بات\", i.content))\n",
    "            \n",
    "\n",
    "    return response, follow_ups_str, chat_history"
   ]
  },
  {
   "cell_type": "code",
   "execution_count": 26,
   "id": "b97ae8e1-325c-4ca7-8e75-28fd227c00be",
   "metadata": {
    "execution": {
     "iopub.execute_input": "2025-06-11T14:02:32.625947Z",
     "iopub.status.busy": "2025-06-11T14:02:32.625178Z",
     "iopub.status.idle": "2025-06-11T14:02:32.640386Z",
     "shell.execute_reply": "2025-06-11T14:02:32.638287Z",
     "shell.execute_reply.started": "2025-06-11T14:02:32.625902Z"
    }
   },
   "outputs": [],
   "source": [
    "def test_retrieve_null(n):\n",
    "    input_messages = [\n",
    "        \"میخوام خونمو بفروشم از چه راه هایی بهتره؟\",\n",
    "        \"بهترین روش برای فروش ملک در تهران چیست؟\",\n",
    "        \"چطور میتونم ماشینم رو سریع بفروشم؟\",\n",
    "        \"راهنمایی میخواستم برای فروش ویلا در شمال\",\n",
    "        \"آیا مشاور املاک برای فروش خانه لازم است؟\"\n",
    "    ]\n",
    "    return ask_model(input_messages[n])\n",
    "\n",
    "def test_retrieve(n):\n",
    "    input_messages = [\n",
    "        \"تعداد آگهی های مجاز در روز چقدر است؟\",\n",
    "        \"در روز چه تعداد آگهی در سایت میتوان ثبت کرد؟\",\n",
    "        \"حداکثر آگهی مجاز روزانه چندتاست؟\",\n",
    "        \"محدودیت تعداد آگهی به عنوان مشاور مستقل چقدر است؟\",\n",
    "        \"آیا برای آگهی های روزانه سقفی وجود دارد؟\",\n",
    "        \"آیا میتونم لیست تراکنش هایی که انجام دادم رو ببینم؟\",\n",
    "        \"ارتقای آگهی چگونه است؟\",\n",
    "        \"ویتیرن آگهی چگونه است و هزینه آن چقدر است؟\"\n",
    "    ]\n",
    "    return ask_model(input_messages[n])\n",
    "\n",
    "def test_url(n):\n",
    "    input_messages = [\n",
    "        \"میخوام یه خونه میدون ولیعصر بخرم بالای 3 میلیارد و حدود 200 متر\",  #0\n",
    "        \"دنبال آپارتمان در نیاوران زیر 5 میلیارد میگردم\",  #1\n",
    "        \"ویلای ساحلی در شمال زیر 10 میلیارد با زمین 500 متر\",  #2\n",
    "        \"آپارتمان 2 خوابه در غرب تهران حدود 2 میلیارد\",  #3\n",
    "        \"یه آپارتمان 3 خوابه در زعفرانیه بخرم حدود 8 میلیارد\",  #4\n",
    "        \"دنبال خونه ویلایی در لواسان با بودجه 15 میلیارد\",  #5\n",
    "        \"آپارتمان 100 متری در سعادت آباد زیر 4 میلیارد\",  #6\n",
    "        \"یه واحد 2 خوابه در پونک برای اجاره، ماهی 10 میلیون\",  #7\n",
    "        \"ویلا در کردان با زمین 1000 متر زیر 12 میلیارد بخرم\",  #8\n",
    "        \"آپارتمان 1 خوابه در یوسف آباد اجاره کنم، ودیعه 200 میلیون، ماهی 8 میلیون\",  #9\n",
    "        \"خونه 150 متری در جردن بخرم حدود 6 میلیارد\",  #10\n",
    "        \"دنبال آپارتمان نوساز در الهیه با بودجه 10 میلیارد میگردم\",  #11\n",
    "        \"یه واحد 80 متری در شهرک غرب میخوام اجاره کنم، با ودیعه 300 میلیون\",  #12\n",
    "        \"ویلا در محمودآباد با بودجه 7 میلیارد و حداقل 300 متر زمین\",  #13\n",
    "        \"آپارتمان 2 خوابه در گیشا زیر 3 میلیارد بخرم\",  #14\n",
    "        \"خونه 120 متری در ونک برای اجاره، ماهی 15 میلیون\",  #15\n",
    "        \"دنبال آپارتمان 3 خوابه در فرمانیه با بودجه 12 میلیارد میگردم\",  #16\n",
    "        \"میخوام یه واحد 70 متری در تهرانپارس اجاره کنم، ودیعه 150 میلیون، ماهی 6 میلیون\",  #17\n",
    "        \"ویلا در رامسر با بودجه 9 میلیارد و ویو دریا\",  #18\n",
    "        \"آپارتمان 100 متری در صادقیه زیر 2.5 میلیارد\",  #19\n",
    "        \"خونه ویلایی در قیطریه با بودجه 20 میلیارد\",  #20\n",
    "        \"یه واحد 90 متری در مرزداران اجاره کنم، ودیعه 250 میلیون، ماهی 9 میلیون\",  #21\n",
    "        \"آپارتمان 2 خوابه در ولنجک زیر 7 میلیارد بخرم\",  #22\n",
    "        \"دنبال ویلا در نوشهر با بودجه 8 میلیارد و زمین 400 متر\",  #23\n",
    "        \"آپارتمان 80 متری در جنت آباد برای اجاره، ماهی 7 میلیون\",  #24\n",
    "        \"خونه 200 متری در اقدسیه با بودجه 15 میلیارد بخرم\",  #25\n",
    "        \"یه واحد 3 خوابه در پاسداران اجاره کنم، ودیعه 500 میلیون، ماهی 20 میلیون\",  #26\n",
    "        \"آپارتمان 1 خوابه در شهران زیر 1.5 میلیارد\",  #27\n",
    "        \"ویلا در کلاردشت با بودجه 6 میلیارد و حداقل 500 متر زمین\",  #28\n",
    "        \"دنبال آپارتمان 100 متری در تجریش برای اجاره، ودیعه 400 میلیون\",  #29\n",
    "    ]\n",
    "    return ask_model(input_messages[n])\n",
    "\n",
    "def test_none_tool(n):\n",
    "    input_messages = [\n",
    "        \"خرید و فروش تو چه منطقه ای بهتره؟\",\n",
    "        \"بهترین محله تهران برای سرمایه گذاری کجاست؟\",\n",
    "        \"کدام مناطق مشهد برای خرید ملک مناسبند؟\",\n",
    "        \"نظرشما درباره خرید ملک در شهرهای جدید چیست؟\",\n",
    "        \"آیا الان زمان خوبی برای خرید خانه است؟\"\n",
    "    ]\n",
    "    return ask_model(input_messages[n])\n",
    "\n",
    "def test_unrelated(n):\n",
    "    input_messages = [\n",
    "        \"به عنوان مشاور املاک برام یه کد به پایتون بنویس که سلام دنیا رو چاپ کنه\",\n",
    "        \"نحوه پخت قرمه سبزی چگونه است؟\",\n",
    "        \"بهترین مارک یخچال کدام است؟\",\n",
    "        \"برنامه نویسی پایتون را چگونه شروع کنم؟\",\n",
    "        \"تفاوت بین خودروهای بنزینی و الکتریکی چیست؟\"\n",
    "    ]\n",
    "    return ask_model(input_messages[n])"
   ]
  },
  {
   "cell_type": "code",
   "execution_count": 27,
   "id": "72ec0684-f597-4608-8664-45fc88f9f9e0",
   "metadata": {
    "execution": {
     "iopub.execute_input": "2025-06-11T14:02:33.385832Z",
     "iopub.status.busy": "2025-06-11T14:02:33.385088Z",
     "iopub.status.idle": "2025-06-11T14:02:33.962154Z",
     "shell.execute_reply": "2025-06-11T14:02:33.961406Z",
     "shell.execute_reply.started": "2025-06-11T14:02:33.385797Z"
    },
    "scrolled": true
   },
   "outputs": [
    {
     "name": "stderr",
     "output_type": "stream",
     "text": [
      "/tmp/ipykernel_59050/1282336978.py:4: UserWarning: You have not specified a value for the `type` parameter. Defaulting to the 'tuples' format for chatbot messages, but this is deprecated and will be removed in a future version of Gradio. Please set type='messages' instead, which uses openai-style dictionaries with 'role' and 'content' keys.\n",
      "  chat_history = gr.Chatbot(label=\"هیستوری چت\", height=300)\n"
     ]
    },
    {
     "name": "stdout",
     "output_type": "stream",
     "text": [
      "* Running on local URL:  http://127.0.0.1:7860\n",
      "\n",
      "Could not create share link. Missing file: /home/jovyan/.cache/huggingface/gradio/frpc/frpc_linux_amd64_v0.3. \n",
      "\n",
      "Please check your internet connection. This can happen if your antivirus software blocks the download of this file. You can install manually by following these steps: \n",
      "\n",
      "1. Download this file: https://cdn-media.huggingface.co/frpc-gradio-0.3/frpc_linux_amd64\n",
      "2. Rename the downloaded file to: frpc_linux_amd64_v0.3\n",
      "3. Move the file to this location: /home/jovyan/.cache/huggingface/gradio/frpc\n"
     ]
    },
    {
     "data": {
      "text/html": [
       "<div><iframe src=\"http://127.0.0.1:7860/\" width=\"100%\" height=\"500\" allow=\"autoplay; camera; microphone; clipboard-read; clipboard-write;\" frameborder=\"0\" allowfullscreen></iframe></div>"
      ],
      "text/plain": [
       "<IPython.core.display.HTML object>"
      ]
     },
     "metadata": {},
     "output_type": "display_data"
    },
    {
     "data": {
      "text/plain": []
     },
     "execution_count": 27,
     "metadata": {},
     "output_type": "execute_result"
    }
   ],
   "source": [
    "with gr.Blocks() as demo:\n",
    "    gr.Markdown(\"## مشاور املاک هوشمند\")\n",
    "\n",
    "    chat_history = gr.Chatbot(label=\"هیستوری چت\", height=300)\n",
    "    input_box = gr.Textbox(label=\"پیامت رو بنویس\")\n",
    "    ask_button = gr.Button(\"📤\")\n",
    "    \n",
    "    response_output = gr.Textbox(label=\"پاسخ مدل\", lines=4)\n",
    "    follow_up_output = gr.Textbox(label=\"سوالات پیشنهادی\", lines=4)\n",
    "\n",
    "    update_button = gr.Button(\"⚠️آپدیت حافظه\")\n",
    "    update_status = gr.Textbox(label=\"وضعیت حافظه\")\n",
    "\n",
    "    ask_button.click(\n",
    "        fn=ask_model,\n",
    "        inputs=[input_box],\n",
    "        outputs=[response_output, follow_up_output, chat_history]\n",
    "    )\n",
    "\n",
    "    update_button.click(\n",
    "        fn=handle_update_memory,\n",
    "        outputs=[update_status, chat_history]\n",
    "    )\n",
    "\n",
    "demo.launch(share=True)"
   ]
  },
  {
   "cell_type": "code",
   "execution_count": null,
   "id": "30bf8d2f-057a-41fc-9274-cf0979288c37",
   "metadata": {},
   "outputs": [],
   "source": []
  }
 ],
 "metadata": {
  "kernelspec": {
   "display_name": "Python 3 (ipykernel)",
   "language": "python",
   "name": "python3"
  },
  "language_info": {
   "codemirror_mode": {
    "name": "ipython",
    "version": 3
   },
   "file_extension": ".py",
   "mimetype": "text/x-python",
   "name": "python",
   "nbconvert_exporter": "python",
   "pygments_lexer": "ipython3",
   "version": "3.12.9"
  }
 },
 "nbformat": 4,
 "nbformat_minor": 5
}
