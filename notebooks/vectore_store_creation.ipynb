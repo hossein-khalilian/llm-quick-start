{
 "cells": [
  {
   "cell_type": "code",
   "execution_count": 16,
   "id": "906be81b-b7c2-4da1-a088-08d7d5e501fd",
   "metadata": {
    "execution": {
     "iopub.execute_input": "2025-06-09T13:03:09.968250Z",
     "iopub.status.busy": "2025-06-09T13:03:09.967971Z",
     "iopub.status.idle": "2025-06-09T13:03:09.973314Z",
     "shell.execute_reply": "2025-06-09T13:03:09.972332Z",
     "shell.execute_reply.started": "2025-06-09T13:03:09.968229Z"
    }
   },
   "outputs": [],
   "source": [
    "from dotenv import load_dotenv\n",
    "from langchain_milvus import Milvus\n",
    "from langchain_openai import OpenAIEmbeddings\n",
    "from pymilvus import MilvusClient"
   ]
  },
  {
   "cell_type": "code",
   "execution_count": 12,
   "id": "f38eabe3-3585-4ba9-b114-5ef8171c7b12",
   "metadata": {
    "execution": {
     "iopub.execute_input": "2025-06-09T13:02:55.766208Z",
     "iopub.status.busy": "2025-06-09T13:02:55.765806Z",
     "iopub.status.idle": "2025-06-09T13:02:55.778354Z",
     "shell.execute_reply": "2025-06-09T13:02:55.777501Z",
     "shell.execute_reply.started": "2025-06-09T13:02:55.766179Z"
    }
   },
   "outputs": [
    {
     "data": {
      "text/plain": [
       "True"
      ]
     },
     "execution_count": 12,
     "metadata": {},
     "output_type": "execute_result"
    }
   ],
   "source": [
    "load_dotenv()"
   ]
  },
  {
   "cell_type": "code",
   "execution_count": 14,
   "id": "c3b23780-3ad2-4389-bed0-da340ee65433",
   "metadata": {
    "execution": {
     "iopub.execute_input": "2025-06-09T13:03:01.903007Z",
     "iopub.status.busy": "2025-06-09T13:03:01.902519Z",
     "iopub.status.idle": "2025-06-09T13:03:01.926743Z",
     "shell.execute_reply": "2025-06-09T13:03:01.926013Z",
     "shell.execute_reply.started": "2025-06-09T13:03:01.902980Z"
    }
   },
   "outputs": [],
   "source": [
    "embeddings = OpenAIEmbeddings(model=\"text-embedding-3-large\")"
   ]
  },
  {
   "cell_type": "code",
   "execution_count": 4,
   "id": "77a69ca3-afd5-4314-b289-07d18c7da132",
   "metadata": {
    "execution": {
     "iopub.execute_input": "2025-06-09T12:27:24.903660Z",
     "iopub.status.busy": "2025-06-09T12:27:24.902295Z",
     "iopub.status.idle": "2025-06-09T12:27:25.654472Z",
     "shell.execute_reply": "2025-06-09T12:27:25.653299Z",
     "shell.execute_reply.started": "2025-06-09T12:27:24.903597Z"
    }
   },
   "outputs": [],
   "source": [
    "URI = \"./milvus_example.db\"\n",
    "\n",
    "vector_store = Milvus(\n",
    "    embedding_function=embeddings,\n",
    "    connection_args={\"uri\": URI},\n",
    "    index_params={\"index_type\": \"FLAT\", \"metric_type\": \"L2\"},\n",
    ")"
   ]
  },
  {
   "cell_type": "code",
   "execution_count": 75,
   "id": "5ace2a6f-e761-4048-8ab9-1a07ccee04b0",
   "metadata": {
    "execution": {
     "iopub.execute_input": "2025-06-10T07:19:13.104886Z",
     "iopub.status.busy": "2025-06-10T07:19:13.104170Z",
     "iopub.status.idle": "2025-06-10T07:19:13.141050Z",
     "shell.execute_reply": "2025-06-10T07:19:13.140381Z",
     "shell.execute_reply.started": "2025-06-10T07:19:13.104846Z"
    }
   },
   "outputs": [],
   "source": [
    "# URI = \"./milvus_expo_bot.db\"\n",
    "\n",
    "# vector_store = Milvus(\n",
    "#     embedding_function=embeddings,\n",
    "#     connection_args={\"uri\": URI},\n",
    "#     index_params={\"index_type\": \"FLAT\", \"metric_type\": \"L2\"},\n",
    "#     auto_id=True,\n",
    "# )\n",
    "\n",
    "db_name=\"milvus_expobot\"\n",
    "MILVUS_URI = \"http://host.docker.internal:19530\"\n",
    "\n",
    "\n",
    "client = MilvusClient(uri=MILVUS_URI)\n",
    "\n",
    "if db_name not in client.list_databases():\n",
    "    client.create_database(db_name=db_name)\n",
    "\n",
    "vector_store = Milvus(\n",
    "    embedding_function=embeddings,\n",
    "    collection_name=\"expobot_slides\",\n",
    "    connection_args={\"uri\": MILVUS_URI, \"db_name\": db_name},\n",
    "    index_params={\"index_type\": \"FLAT\", \"metric_type\": \"L2\"},\n",
    "    auto_id=True,\n",
    ")"
   ]
  },
  {
   "cell_type": "code",
   "execution_count": 76,
   "id": "42ca77d0-130f-4eee-b0c9-85b0a8f12342",
   "metadata": {
    "execution": {
     "iopub.execute_input": "2025-06-10T07:19:17.290474Z",
     "iopub.status.busy": "2025-06-10T07:19:17.290204Z",
     "iopub.status.idle": "2025-06-10T07:19:17.293837Z",
     "shell.execute_reply": "2025-06-10T07:19:17.293116Z",
     "shell.execute_reply.started": "2025-06-10T07:19:17.290451Z"
    }
   },
   "outputs": [],
   "source": [
    "# from langchain_community.document_loaders import Docx2txtLoader, TextLoader\n",
    "# from langchain_text_splitters import RecursiveCharacterTextSplitter\n",
    "\n",
    "# file_paths = [\n",
    "#     \"/home/jovyan/projects/data/gapido-information.txt\",\n",
    "# ]\n",
    "# docs = []\n",
    "# for file_path in file_paths:\n",
    "#     loader = TextLoader(file_path)\n",
    "#     docs.append(*loader.load())\n",
    "\n",
    "\n",
    "# text_splitter = RecursiveCharacterTextSplitter(chunk_size=800, chunk_overlap=400)\n",
    "# all_splits = text_splitter.split_documents(docs)\n",
    "\n",
    "# _ = vector_store.add_documents(documents=all_splits)"
   ]
  },
  {
   "cell_type": "code",
   "execution_count": 44,
   "id": "0df72896-19e7-49f0-ae93-b43c5edb1038",
   "metadata": {
    "execution": {
     "iopub.execute_input": "2025-06-10T06:37:08.169004Z",
     "iopub.status.busy": "2025-06-10T06:37:08.167523Z",
     "iopub.status.idle": "2025-06-10T06:37:09.015099Z",
     "shell.execute_reply": "2025-06-10T06:37:09.014147Z",
     "shell.execute_reply.started": "2025-06-10T06:37:08.168966Z"
    }
   },
   "outputs": [
    {
     "data": {
      "text/plain": [
       "[Document(metadata={'source': './data/slide_05.txt', 'pk': 458613720094612696}, page_content='5- ارسال هم\\u200cزمان چند استوری\\nدر ویرایشگر استوری، امکان انتخاب و ارسال چند عکس یا ویدیو به\\u200cصورت یک\\u200cجا فراهم شده. این قابلیت برای به\\u200cاشتراک\\u200cگذاری لحظات سفر یا مجموعه\\u200cای از میم\\u200cها به\\u200cصورت پشت\\u200cسر\\u200cهم بسیار کاربردیه.'),\n",
       " Document(metadata={'source': './data/slide_08.txt', 'pk': 458613720094612703}, page_content='8- مکالمه\\u200c گروهی امن و ساده\\nتماس\\u200cهای گروهی رمزگذاری\\u200cشده، امکان برقراری کنفرانس\\u200cهای صوتی و تصویری رو بدون نیاز به ایجاد گروه جداگانه فراهم می\\u200cکنن — گزینه\\u200cای مناسب برای جلسات فوری کاری یا گپ\\u200cهای دوستانه و خانوادگی.\\nدر تماس\\u200cهای گروهی پیشرفته، می\\u200cتونید:\\nتا ۲۰۰ نفر رو به\\u200cصورت فوری به تماس فعال اضافه کنید\\nصدا، ویدیو یا صفحه\\u200cنمایش خودتون رو با چندین نفر به اشتراک بگذارید\\nاز طریق لینک تماس یا کد QR دیگران رو دعوت کنید\\nرمزنگاری سرتاسری تماس رو به\\u200cسادگی با استفاده از ایموجی\\u200c تأیید کنید'),\n",
       " Document(metadata={'source': './data/slide_03.txt', 'pk': 458613720094612700}, page_content='3- خرید هدیه\\u200cهای کمیاب در مارکت\\u200cپلیس\\nبازار هدیه\\u200cها این امکان رو فراهم کرده که کاربران با استفاده از «ستاره\\u200cهای تلگرام» هزاران هدیه\\u200cی کمیاب رو از دیگر کاربران خریداری کنن — به شکلی امن و ساده. این مارکت\\u200cپلیس نه\\u200cتنها تنوع هدیه\\u200cها رو گسترش می\\u200cده، بلکه به کاربران اجازه می\\u200cده هدایای خودشون رو هم برای فروش عرضه کنن و در ازای اون ستاره دریافت کنن.\\nفیلترهای جستجوی پیشرفته کمک می\\u200cکنن تا دقیقاً هدیه\\u200cی دلخواه\\u200cتون رو بر اساس مدل، پس\\u200cزمینه یا نماد خاص پیدا کنید.\\nبرای ارسال هدیه، فقط کافیه وارد پروفایل هر کاربری بشید و روی دکمه «ارسال هدیه» بزنید. اگه دنبال نسخه\\u200cهای کمیاب و ارتقاءیافته هستید، از فیلتر «فروش مجدد» استفاده کنید.'),\n",
       " Document(metadata={'source': './data/slide_10.txt', 'pk': 458613720094612704}, page_content='10- دسترسی آسان\\u200cتر به هدیه\\u200cها با تنظیمات جدید\\nتلگرام هدیه\\u200cها رو معرفی کرده که با استفاده از ستاره\\u200cها قابل ارسال و ارتقا به کلکسیون\\u200cهای قابل معامله روی بلاک\\u200cچین هستن. کاربران تلگرام ماهانه بیش از ۱۰ میلیون هدیه رد و بدل می\\u200cکنن.\\nبرای راحت\\u200cتر کردن ارسال و دریافت هدیه، می\\u200cتونید دکمه «هدیه» رو به کادر ورود پیام اضافه کنید — این امکان برای خود شما و طرف مقابل چت فعال می\\u200cشه. 😉')]"
      ]
     },
     "execution_count": 44,
     "metadata": {},
     "output_type": "execute_result"
    }
   ],
   "source": [
    "vector_store.similarity_search(\"اندروید\")"
   ]
  },
  {
   "cell_type": "code",
   "execution_count": 86,
   "id": "2b38559d-ef81-4cc2-9c1f-cf57724091a0",
   "metadata": {
    "execution": {
     "iopub.execute_input": "2025-06-10T07:23:07.278756Z",
     "iopub.status.busy": "2025-06-10T07:23:07.278477Z",
     "iopub.status.idle": "2025-06-10T07:23:07.975171Z",
     "shell.execute_reply": "2025-06-10T07:23:07.972976Z",
     "shell.execute_reply.started": "2025-06-10T07:23:07.278733Z"
    }
   },
   "outputs": [
    {
     "data": {
      "text/plain": [
       "[(Document(metadata={'source': './data/slide_06.txt', 'pk': 458613720094612879}, page_content='ذخیره پست\\u200cها (Save): ذخیره\\u200cسازی پست\\u200cهای موردعلاقه برای مشاهده بعدی.\\nگزارش تخلف (Report): گزارش محتوای نامناسب برای بررسی توسط مدیران.\\nبلاک و آن\\u200cبلاک: مسدودسازی یا آزادسازی ارتباط با کاربران خاص.\\nاین شبکه اجتماعی داخلی می\\u200cتواند به بستری کارآمد برای اطلاع\\u200cرسانی، فرهنگ\\u200cسازی سازمانی و افزایش تعامل بین تیم\\u200cها تبدیل شود، بدون نیاز به استفاده از پلتفرم\\u200cهای عمومی و ناایمن.'),\n",
       "  1.0905463695526123),\n",
       " (Document(metadata={'source': './data/slide_06.txt', 'pk': 458613720094612878}, page_content='۶. شبکه اجتماعی گپیدو\\nماژول شبکه اجتماعی گپیدو با الهام از پلتفرم\\u200cهایی مانند اینستاگرام، محیطی پویا و تعاملی برای کاربران سازمان فراهم می\\u200cکند. این قابلیت به\\u200cویژه برای اطلاع\\u200cرسانی داخلی، اشتراک\\u200cگذاری محتوا، افزایش تعامل کارکنان و ایجاد حس تعلق سازمانی بسیار موثر است.\\nبرخی از قابلیت\\u200cهای کلیدی این ماژول عبارت\\u200cاند از:\\nپست و استوری: امکان انتشار مطالب در قالب پست و استوری با فرمت\\u200cهای مختلف (تصویر، ویدیو، متن و لینک).\\nلایک و کامنت: تعامل کاربران با محتوا از طریق لایک و درج نظر.\\nتگ و منشن: امکان تگ کردن کاربران در پست\\u200cها یا منشن کردن آن\\u200cها در کامنت\\u200cها.\\nفالو / آنفالو: دنبال کردن صفحات همکاران یا واحدهای سازمانی برای مشاهده به\\u200cروزترین پست\\u200cها.\\nحساب کاربری عمومی و خصوصی: کاربران می\\u200cتوانند پروفایل خود را عمومی یا خصوصی کنند.\\nذخیره پست\\u200cها (Save): ذخیره\\u200cسازی پست\\u200cهای موردعلاقه برای مشاهده بعدی.\\nگزارش تخلف (Report): گزارش محتوای نامناسب برای بررسی توسط مدیران.\\nبلاک و آن\\u200cبلاک: مسدودسازی یا آزادسازی ارتباط با کاربران خاص.'),\n",
       "  1.0994532108306885),\n",
       " (Document(metadata={'source': './data/slide_07.txt', 'pk': 458613720094612880}, page_content='۷. پیام\\u200cرسان سازمانی گپیدو\\nبا استفاده از پیام\\u200cرسان گپیدو، سازمان شما می\\u200cتواند به\\u200cطور کامل از پیام\\u200cرسان\\u200cهای عمومی و پراکنده بی\\u200cنیاز شود. تمامی کاربران سازمان از طریق یک بستر امن و یکپارچه، ارتباطات روزمره خود را انجام می\\u200cدهند، بدون نگرانی از امنیت داده\\u200cها یا سردرگمی ناشی از استفاده از چندین اپلیکیشن مختلف.\\nاین پیام\\u200cرسان کلیه امکانات مورد انتظار از یک اپلیکیشن حرفه\\u200cای ارتباطی را در اختیار شما قرار می\\u200cدهد، از جمله:\\nارسال پیام متنی، فایل، عکس، ویدیو و لوکیشن\\nارسال پیام صوتی (Voice)\\nپاسخ به پیام\\u200cها (Reply) و فوروارد کردن آن\\u200cها\\nایجاد گروه\\u200cها و کانال\\u200cهای سازمانی با قابلیت مدیریت حرفه\\u200cای\\nارسال لینک دعوت برای پیوستن به گروه\\u200cها یا کانال\\u200cها\\nری\\u200cاکشن به پیام\\u200cها (با ایموجی)\\nامکان پین کردن چت\\u200cهای مهم و پرکاربرد\\nقابلیت تماس صوتی مستقیم بین کاربران\\nامکان بلاک و آن\\u200cبلاک کردن کاربران در صورت نیاز\\nبا پیام\\u200cرسان گپیدو، تمام تعاملات درون\\u200cسازمانی در بستری یکپارچه، امن و قابل مدیریت انجام می\\u200cگیرد. این ابزار به\\u200cطور کامل قابل سفارشی\\u200cسازی بر اساس نیازهای سازمان شماست.'),\n",
       "  1.3515756130218506),\n",
       " (Document(metadata={'source': './data/slide_02.txt', 'pk': 458613720094612884}, page_content='۲. معرفی گپیدو به عنوان سوپر اپلیکیشن جامع سازمانی\\nگپیدو یک سوپر اپلیکیشن قدرتمند ارتباطی است که با هدف پاسخگویی به نیازهای سازمان\\u200cها طراحی شده است. این پلتفرم شامل ماژول\\u200cهای مختلفی مانند پیام\\u200cرسان سازمانی، ویدئو کنفرانس، شبکه اجتماعی داخلی، مدیریت وظایف (Task Manager) و هوش مصنوعی است. گپیدو برای انواع پلتفرم\\u200cها از جمله Android و iOS به\\u200cصورت نیتیو، نسخه ویندوز و نسخه وب PWA ارائه شده و امکان استفاده هم\\u200cزمان در دستگاه\\u200cهای مختلف را فراهم می\\u200cسازد.'),\n",
       "  1.3597371578216553)]"
      ]
     },
     "execution_count": 86,
     "metadata": {},
     "output_type": "execute_result"
    }
   ],
   "source": [
    "retrieved_slides = vector_store.similarity_search_with_score(\"شبکه اجتماعی\", k=4)\n",
    "retrieved_slides = sorted(retrieved_slides, key=lambda x: x[1])\n",
    "retrieved_slides"
   ]
  },
  {
   "cell_type": "code",
   "execution_count": 93,
   "id": "8047681c-8c67-4df3-8101-c489eef8b6b1",
   "metadata": {
    "execution": {
     "iopub.execute_input": "2025-06-10T07:25:35.143760Z",
     "iopub.status.busy": "2025-06-10T07:25:35.143400Z",
     "iopub.status.idle": "2025-06-10T07:25:35.149006Z",
     "shell.execute_reply": "2025-06-10T07:25:35.147345Z",
     "shell.execute_reply.started": "2025-06-10T07:25:35.143732Z"
    }
   },
   "outputs": [],
   "source": []
  },
  {
   "cell_type": "code",
   "execution_count": 95,
   "id": "8f43410e-d528-44e9-a4bc-721e9eb43b32",
   "metadata": {
    "execution": {
     "iopub.execute_input": "2025-06-10T07:27:54.060838Z",
     "iopub.status.busy": "2025-06-10T07:27:54.060550Z",
     "iopub.status.idle": "2025-06-10T07:27:54.067829Z",
     "shell.execute_reply": "2025-06-10T07:27:54.067145Z",
     "shell.execute_reply.started": "2025-06-10T07:27:54.060814Z"
    }
   },
   "outputs": [
    {
     "name": "stdout",
     "output_type": "stream",
     "text": [
      "slide_06\n"
     ]
    }
   ],
   "source": [
    "slide_path = retrieved_slides[0][0].metadata[\"source\"]\n",
    "slide_name = os.path.basename(slide_path)\n",
    "slide_id = os.path.splitext(slide_name)[0] \n",
    "print(slide_id)"
   ]
  },
  {
   "cell_type": "code",
   "execution_count": 92,
   "id": "69739374-b15d-427f-916d-4bc46cf21969",
   "metadata": {
    "execution": {
     "iopub.execute_input": "2025-06-10T07:25:18.309746Z",
     "iopub.status.busy": "2025-06-10T07:25:18.308423Z",
     "iopub.status.idle": "2025-06-10T07:25:18.317971Z",
     "shell.execute_reply": "2025-06-10T07:25:18.317193Z",
     "shell.execute_reply.started": "2025-06-10T07:25:18.309705Z"
    }
   },
   "outputs": [],
   "source": [
    "import os"
   ]
  },
  {
   "cell_type": "code",
   "execution_count": 96,
   "id": "4185c86d-8b2b-4b00-8c24-14aef3c50080",
   "metadata": {
    "execution": {
     "iopub.execute_input": "2025-06-10T07:50:01.798702Z",
     "iopub.status.busy": "2025-06-10T07:50:01.798294Z",
     "iopub.status.idle": "2025-06-10T07:50:01.812279Z",
     "shell.execute_reply": "2025-06-10T07:50:01.811153Z",
     "shell.execute_reply.started": "2025-06-10T07:50:01.798666Z"
    }
   },
   "outputs": [
    {
     "name": "stdout",
     "output_type": "stream",
     "text": [
      "name = Alice\n",
      "age = 30\n",
      "city = New York\n"
     ]
    }
   ],
   "source": [
    "def greet(**kwargs):\n",
    "    for key, value in kwargs.items():\n",
    "        print(f\"{key} = {value}\")\n",
    "\n",
    "greet(name=\"Alice\", age=30, city=\"New York\")"
   ]
  },
  {
   "cell_type": "code",
   "execution_count": 99,
   "id": "65be395a-5467-46cd-88f0-4b8be70b8cee",
   "metadata": {
    "execution": {
     "iopub.execute_input": "2025-06-10T07:50:39.893682Z",
     "iopub.status.busy": "2025-06-10T07:50:39.892956Z",
     "iopub.status.idle": "2025-06-10T07:50:39.906349Z",
     "shell.execute_reply": "2025-06-10T07:50:39.903719Z",
     "shell.execute_reply.started": "2025-06-10T07:50:39.893601Z"
    }
   },
   "outputs": [
    {
     "name": "stdout",
     "output_type": "stream",
     "text": [
      "name = ali\n"
     ]
    }
   ],
   "source": [
    "greet(**{\"name\": \"ali\"})"
   ]
  },
  {
   "cell_type": "code",
   "execution_count": 136,
   "id": "5e8a0ec9-fdb9-4fae-ae01-16f074427217",
   "metadata": {
    "execution": {
     "iopub.execute_input": "2025-06-10T08:05:30.683806Z",
     "iopub.status.busy": "2025-06-10T08:05:30.682978Z",
     "iopub.status.idle": "2025-06-10T08:05:30.696721Z",
     "shell.execute_reply": "2025-06-10T08:05:30.694830Z",
     "shell.execute_reply.started": "2025-06-10T08:05:30.683737Z"
    }
   },
   "outputs": [],
   "source": [
    "def new_function(var, **kwargs):\n",
    "    print(var)\n",
    "    print(kwargs)\n",
    "    \n",
    "def get_agent_session(name: str, **kwargs):\n",
    "    print(name)\n",
    "    print(kwargs)\n",
    "    new_function( \"var\", **kwargs, )"
   ]
  },
  {
   "cell_type": "code",
   "execution_count": null,
   "id": "ae4c418a-4f72-4148-9760-070bb7a3d4a0",
   "metadata": {},
   "outputs": [],
   "source": []
  },
  {
   "cell_type": "code",
   "execution_count": 137,
   "id": "0c4383ac-1ea8-4ae3-b43d-db6bb16e82bb",
   "metadata": {
    "execution": {
     "iopub.execute_input": "2025-06-10T08:05:31.683461Z",
     "iopub.status.busy": "2025-06-10T08:05:31.682575Z",
     "iopub.status.idle": "2025-06-10T08:05:31.696548Z",
     "shell.execute_reply": "2025-06-10T08:05:31.694175Z",
     "shell.execute_reply.started": "2025-06-10T08:05:31.683384Z"
    }
   },
   "outputs": [
    {
     "name": "stdout",
     "output_type": "stream",
     "text": [
      "hossein\n",
      "{'vad': 12}\n",
      "var\n",
      "{'vad': 12}\n"
     ]
    }
   ],
   "source": [
    "get_agent_session(\"hossein\", vad=12)"
   ]
  },
  {
   "cell_type": "code",
   "execution_count": 126,
   "id": "03015574-0ffe-472e-81b8-241b90af219f",
   "metadata": {
    "execution": {
     "iopub.execute_input": "2025-06-10T08:03:10.309798Z",
     "iopub.status.busy": "2025-06-10T08:03:10.309505Z",
     "iopub.status.idle": "2025-06-10T08:03:10.313747Z",
     "shell.execute_reply": "2025-06-10T08:03:10.312978Z",
     "shell.execute_reply.started": "2025-06-10T08:03:10.309774Z"
    }
   },
   "outputs": [],
   "source": [
    "def test(*, a, b):\n",
    "    print(a, b)"
   ]
  },
  {
   "cell_type": "code",
   "execution_count": 128,
   "id": "0fa3b5ac-ebbf-455b-946e-6bc0752c411d",
   "metadata": {
    "execution": {
     "iopub.execute_input": "2025-06-10T08:03:26.170566Z",
     "iopub.status.busy": "2025-06-10T08:03:26.169743Z",
     "iopub.status.idle": "2025-06-10T08:03:26.181280Z",
     "shell.execute_reply": "2025-06-10T08:03:26.179091Z",
     "shell.execute_reply.started": "2025-06-10T08:03:26.170496Z"
    }
   },
   "outputs": [
    {
     "name": "stdout",
     "output_type": "stream",
     "text": [
      "1 2\n"
     ]
    }
   ],
   "source": [
    "test(a=1, b=2)"
   ]
  },
  {
   "cell_type": "code",
   "execution_count": 131,
   "id": "91ad3ebe-1445-4c42-b2df-92adfaffc420",
   "metadata": {
    "execution": {
     "iopub.execute_input": "2025-06-10T08:03:51.038905Z",
     "iopub.status.busy": "2025-06-10T08:03:51.038561Z",
     "iopub.status.idle": "2025-06-10T08:03:51.043081Z",
     "shell.execute_reply": "2025-06-10T08:03:51.042264Z",
     "shell.execute_reply.started": "2025-06-10T08:03:51.038864Z"
    }
   },
   "outputs": [
    {
     "name": "stdout",
     "output_type": "stream",
     "text": [
      "1 2\n"
     ]
    }
   ],
   "source": [
    "test(**{\"a\": 1, \"b\": 2})"
   ]
  },
  {
   "cell_type": "code",
   "execution_count": null,
   "id": "1a3917b1-d43e-4527-b3f8-2b54d0ba398e",
   "metadata": {},
   "outputs": [],
   "source": []
  }
 ],
 "metadata": {
  "kernelspec": {
   "display_name": "Python 3 (ipykernel)",
   "language": "python",
   "name": "python3"
  },
  "language_info": {
   "codemirror_mode": {
    "name": "ipython",
    "version": 3
   },
   "file_extension": ".py",
   "mimetype": "text/x-python",
   "name": "python",
   "nbconvert_exporter": "python",
   "pygments_lexer": "ipython3",
   "version": "3.12.9"
  }
 },
 "nbformat": 4,
 "nbformat_minor": 5
}
