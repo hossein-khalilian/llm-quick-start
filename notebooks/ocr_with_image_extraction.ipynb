{
 "cells": [
  {
   "cell_type": "code",
   "execution_count": 26,
   "id": "25f8e48e-31b3-498a-b1f9-8bbc39899813",
   "metadata": {
    "execution": {
     "iopub.execute_input": "2025-09-13T05:53:02.084617Z",
     "iopub.status.busy": "2025-09-13T05:53:02.084287Z",
     "iopub.status.idle": "2025-09-13T05:53:05.420974Z",
     "shell.execute_reply": "2025-09-13T05:53:05.418305Z",
     "shell.execute_reply.started": "2025-09-13T05:53:02.084585Z"
    }
   },
   "outputs": [
    {
     "name": "stdout",
     "output_type": "stream",
     "text": [
      "Reading package lists... Done\n",
      "Building dependency tree... Done\n",
      "Reading state information... Done\n",
      "tesseract-ocr is already the newest version (5.3.4-1build5).\n",
      "tesseract-ocr-fas is already the newest version (1:4.1.0-2).\n",
      "poppler-utils is already the newest version (24.02.0-1ubuntu9.6).\n",
      "0 upgraded, 0 newly installed, 0 to remove and 52 not upgraded.\n"
     ]
    }
   ],
   "source": [
    "# !sudo apt-get install tesseract-ocr tesseract-ocr-fas poppler-utils\n",
    "\n",
    "# !pip install pytesseract pillow pdf2image"
   ]
  },
  {
   "cell_type": "code",
   "execution_count": 27,
   "id": "50686d80-a292-45d4-8e9d-616a7f792d85",
   "metadata": {
    "execution": {
     "iopub.execute_input": "2025-09-13T05:57:39.431500Z",
     "iopub.status.busy": "2025-09-13T05:57:39.430308Z",
     "iopub.status.idle": "2025-09-13T05:57:39.438336Z",
     "shell.execute_reply": "2025-09-13T05:57:39.437768Z",
     "shell.execute_reply.started": "2025-09-13T05:57:39.431458Z"
    }
   },
   "outputs": [],
   "source": [
    "import io\n",
    "import fitz\n",
    "import base64\n",
    "import pytesseract\n",
    "from PIL import Image\n",
    "from pathlib import Path\n",
    "\n",
    "def pdf_page_to_base64(pdf_path: str, page_number: int):\n",
    "    pdf_document = fitz.open(pdf_path)\n",
    "    page = pdf_document.load_page(page_number - 1)  # input is one-indexed\n",
    "    pix = page.get_pixmap()\n",
    "    img = Image.frombytes(\"RGB\", [pix.width, pix.height], pix.samples)\n",
    "\n",
    "    buffer = io.BytesIO()\n",
    "    img.save(buffer, format=\"PNG\")\n",
    "\n",
    "    return base64.b64encode(buffer.getvalue()).decode(\"utf-8\")"
   ]
  },
  {
   "cell_type": "code",
   "execution_count": 22,
   "id": "98338bfe-1fc1-46f4-b3ce-47be5ea4dbc3",
   "metadata": {
    "execution": {
     "iopub.execute_input": "2025-09-13T05:50:23.283124Z",
     "iopub.status.busy": "2025-09-13T05:50:23.282355Z",
     "iopub.status.idle": "2025-09-13T05:50:23.411061Z",
     "shell.execute_reply": "2025-09-13T05:50:23.410362Z",
     "shell.execute_reply.started": "2025-09-13T05:50:23.283056Z"
    }
   },
   "outputs": [
    {
     "name": "stdout",
     "output_type": "stream",
     "text": [
      "Image saved at /home/jovyan/projects/data/dining.png\n"
     ]
    }
   ],
   "source": [
    "file_path = \"/home/jovyan/projects/data/dining.pdf\"\n",
    "base64_image = pdf_page_to_base64(file_path, 2)\n",
    "image_data = base64.b64decode(base64_image)\n",
    "\n",
    "output_path = Path.home() / \"projects/data/dining.png\"\n",
    "\n",
    "with open(output_path, \"wb\") as f:\n",
    "    f.write(image_data)\n",
    "\n",
    "print(f\"Image saved at {output_path}\")"
   ]
  },
  {
   "cell_type": "code",
   "execution_count": 20,
   "id": "0bde7d3d-5f39-4803-8993-177689e1a96e",
   "metadata": {
    "execution": {
     "iopub.execute_input": "2025-09-13T05:48:03.159897Z",
     "iopub.status.busy": "2025-09-13T05:48:03.159313Z",
     "iopub.status.idle": "2025-09-13T05:48:03.980268Z",
     "shell.execute_reply": "2025-09-13T05:48:03.979603Z",
     "shell.execute_reply.started": "2025-09-13T05:48:03.159839Z"
    }
   },
   "outputs": [
    {
     "name": "stdout",
     "output_type": "stream",
     "text": [
      "Extracted Text (Persian):\n",
      "۳۵\n",
      "\n",
      "در این داکیومنت یاد میگیریم که:\n",
      "۰ چگونه بای پرسنل غذا رزوکنیم.\n",
      "صفحه ی ررو به ما چهاطلاعاتی می دهد.\n",
      "\n",
      "در این صفحه می توانیم برای پرسئل و با کرت‌های متفرقه غذارزروکنیم.\n",
      "برای دسترسی به این صفحه از طریق منو سامانه‌ی تغذیه»* رزروغذا ۰\" رزرو غذااقدام می‌کنيم\n",
      "بسیاری از سازمنهایی که می‌خواهند به پرسنل خود حق انتخاب بیش از یک مدل غذا در\n",
      "وعده‌های غذایی بدهند از این قابلیت استفاده میکنند. همچنین این قابلیت باعث میشه غذا\n",
      "فقط به تعداد افرادی که قطعی می‌خواهند سرو کنند طبخ شود و این کار باعث صرفه‌جویی در\n",
      "مصرف مواد غذایی نیز میشود.\n",
      "\n",
      "در این صفحه لیست کل غذاهایی که در بنمه‌های غذایی تعریف شده به شما تمایش داده\n",
      "می‌شود و می‌توانید آن ها را تحت شرایطی رزروکنید.\n",
      "\n",
      "نحوه رزرو غذا در این صفحه:\n",
      "\n",
      "۰ اگر بخواهیم رزروبرای تاریخ خاصی انجام دهیم از قسمت تاریخ می توانیم انتخاب کنیم و\n",
      "توسط فلش‌ها به هفته‌های قبل و بعد برویم. دقت کنید که چون در صفحه‌ی رزرو غذا\n",
      "غذاها را به صورت هفتگی نمایش میدهد هر تاریخی را انتخاب کنید لیست کل غذاهای آن\n",
      "هفته به شما نمایش داده میشود.\n",
      "\n",
      "۲ در قسمت مشخصات به صورت پیش‌فرض اسم شخص لاگین کننده است که اگر امکان\n",
      "رزروبرای پرستل زبرمچموعه‌ی خودتان هم داشته باشید میتوانید اسم آن ها را در این\n",
      "قسمت انتخاب کنید و برای آن ها غذارزرو کنید و همیتطور براساس کارت های متفرقه\n",
      "\n",
      "خود نیز رزرو انجام دهید\n",
      "\n",
      "۷/۱\n",
      "\n",
      "/\n",
      "\n",
      "/\n",
      "\n",
      "2\n",
      "\n",
      "\n"
     ]
    }
   ],
   "source": [
    "# Load the image\n",
    "image = Image.open(output_path)\n",
    "\n",
    "# Run OCR with Persian language\n",
    "# (You may need to install Persian trained data: `sudo apt-get install tesseract-ocr-fas`)\n",
    "text = pytesseract.image_to_string(image, lang=\"fas\")\n",
    "\n",
    "print(\"Extracted Text (Persian):\")\n",
    "print(text)"
   ]
  },
  {
   "cell_type": "code",
   "execution_count": 29,
   "id": "a18eaccf-820c-44c4-b13c-bb5b83123c69",
   "metadata": {
    "execution": {
     "iopub.execute_input": "2025-09-13T06:27:50.159096Z",
     "iopub.status.busy": "2025-09-13T06:27:50.158034Z",
     "iopub.status.idle": "2025-09-13T06:28:12.144529Z",
     "shell.execute_reply": "2025-09-13T06:28:12.143826Z",
     "shell.execute_reply.started": "2025-09-13T06:27:50.159015Z"
    }
   },
   "outputs": [
    {
     "name": "stdout",
     "output_type": "stream",
     "text": [
      "page: 0\n",
      "page: 1\n",
      "page: 2\n",
      "page: 3\n",
      "page: 4\n",
      "page: 5\n",
      "page: 6\n",
      "✅ Extraction complete! JSON saved to /home/jovyan/projects/data/dining.json\n"
     ]
    }
   ],
   "source": [
    "import os\n",
    "import json\n",
    "import fitz  # PyMuPDF\n",
    "import pytesseract\n",
    "from PIL import Image\n",
    "\n",
    "# Paths\n",
    "pdf_path = \"/home/jovyan/projects/data/dining.pdf\"\n",
    "output_dir = \"/home/jovyan/projects/data/extracted_images\"\n",
    "json_path = \"/home/jovyan/projects/data/dining.json\"\n",
    "\n",
    "os.makedirs(output_dir, exist_ok=True)\n",
    "\n",
    "# Open PDF\n",
    "doc = fitz.open(pdf_path)\n",
    "\n",
    "pages_data = []\n",
    "\n",
    "for page_num in range(len(doc)):\n",
    "    print(\"page:\", page_num)\n",
    "    page = doc[page_num]\n",
    "    text = \"\"\n",
    "\n",
    "    # Convert page to image (for OCR)\n",
    "    pix = page.get_pixmap(dpi=300)\n",
    "    img_path = os.path.join(output_dir, f\"page_{page_num+1}.png\")\n",
    "    pix.save(img_path)\n",
    "\n",
    "    # OCR Persian text\n",
    "    text = pytesseract.image_to_string(Image.open(img_path), lang=\"fas\")\n",
    "\n",
    "    # Extract embedded images\n",
    "    image_paths = []\n",
    "    for img_index, img in enumerate(page.get_images(full=True)):\n",
    "        xref = img[0]\n",
    "        base_image = doc.extract_image(xref)\n",
    "        image_bytes = base_image[\"image\"]\n",
    "        ext = base_image[\"ext\"]\n",
    "        image_filename = f\"page_{page_num+1}_img_{img_index+1}.{ext}\"\n",
    "        image_output_path = os.path.join(output_dir, image_filename)\n",
    "        with open(image_output_path, \"wb\") as f:\n",
    "            f.write(image_bytes)\n",
    "        image_paths.append(image_output_path)\n",
    "\n",
    "    # Store page data\n",
    "    pages_data.append({\n",
    "        \"page\": page_num + 1,\n",
    "        \"text\": text.strip(),\n",
    "        \"images\": image_paths\n",
    "    })\n",
    "\n",
    "# Save JSON\n",
    "with open(json_path, \"w\", encoding=\"utf-8\") as f:\n",
    "    json.dump(pages_data, f, ensure_ascii=False, indent=2)\n",
    "\n",
    "print(f\"✅ Extraction complete! JSON saved to {json_path}\")"
   ]
  },
  {
   "cell_type": "code",
   "execution_count": 9,
   "id": "d3aafa73-aa36-46ae-8e7a-ae174a06f0be",
   "metadata": {
    "execution": {
     "iopub.execute_input": "2025-09-13T06:39:13.573554Z",
     "iopub.status.busy": "2025-09-13T06:39:13.572750Z",
     "iopub.status.idle": "2025-09-13T06:39:22.095526Z",
     "shell.execute_reply": "2025-09-13T06:39:22.094457Z",
     "shell.execute_reply.started": "2025-09-13T06:39:13.573482Z"
    }
   },
   "outputs": [
    {
     "name": "stdout",
     "output_type": "stream",
     "text": [
      "page: 0\n",
      "page: 1\n",
      "page: 2\n",
      "page: 3\n"
     ]
    }
   ],
   "source": [
    "import os\n",
    "import json\n",
    "import fitz  # PyMuPDF\n",
    "import pytesseract\n",
    "from PIL import Image\n",
    "\n",
    "def extract_text_and_images(pdf_path, output_folder, min_width=100, min_height=100, min_filesize=5000):\n",
    "    \"\"\"\n",
    "    Extract Persian OCR text and unique images from each page of a PDF.\n",
    "    Skips small icons/logos and duplicate images (by size + dimensions).\n",
    "    Saves extracted images in output_folder.\n",
    "    Returns a list of dictionaries (one per page).\n",
    "    \"\"\"\n",
    "    doc = fitz.open(pdf_path)\n",
    "    \n",
    "    if not os.path.exists(output_folder):\n",
    "        os.makedirs(output_folder)\n",
    "    \n",
    "    seen = set()  # store (width, height, filesize) triples\n",
    "    results = []  # list of page dictionaries\n",
    "    \n",
    "    for page_num in range(len(doc)):\n",
    "        print(\"page:\", page_num)\n",
    "        if page_num > 2:\n",
    "            break\n",
    "            \n",
    "        page = doc.load_page(page_num)\n",
    "        page_dict = {\"page\": page_num + 1, \"text\": \"\", \"images\": []}\n",
    "        \n",
    "        # --- OCR Text (Persian) ---\n",
    "        # Convert the page to an image for OCR\n",
    "        pix = page.get_pixmap(dpi=300)\n",
    "        temp_img_path = os.path.join(output_folder, f\"page_{page_num+1}_ocr.png\")\n",
    "        pix.save(temp_img_path)\n",
    "        page_text = pytesseract.image_to_string(Image.open(temp_img_path), lang=\"fas\")\n",
    "        page_dict[\"text\"] = page_text.strip()\n",
    "        \n",
    "        # --- Extract Images ---\n",
    "        for img_index, img in enumerate(page.get_images(full=True)):\n",
    "            xref = img[0]\n",
    "            width, height = img[2], img[3]\n",
    "            \n",
    "            base_image = doc.extract_image(xref)\n",
    "            image_bytes = base_image[\"image\"]\n",
    "            image_ext = base_image[\"ext\"]\n",
    "            filesize = len(image_bytes)\n",
    "            \n",
    "            # Skip small images\n",
    "            if width < min_width or height < min_height or filesize < min_filesize:\n",
    "                continue\n",
    "            \n",
    "            # Skip duplicates\n",
    "            key = (width, height, filesize)\n",
    "            if key in seen:\n",
    "                continue\n",
    "            seen.add(key)\n",
    "            \n",
    "            # Save unique image\n",
    "            image_output_path = os.path.join(\n",
    "                output_folder, f\"page_{page_num+1}_img_{img_index+1}.{image_ext}\"\n",
    "            )\n",
    "            with open(image_output_path, \"wb\") as f:\n",
    "                f.write(image_bytes)\n",
    "            \n",
    "            page_dict[\"images\"].append({\n",
    "                \"path\": image_output_path,\n",
    "            })\n",
    "        \n",
    "        results.append(page_dict)\n",
    "    \n",
    "    doc.close()\n",
    "    return results\n",
    "\n",
    "\n",
    "# Example usage:\n",
    "pdf_path = \"/home/jovyan/projects/data/helpkasra.pdf\"\n",
    "output_folder = \"/home/jovyan/projects/data/extracted_images\"\n",
    "\n",
    "pages_data = extract_text_and_images(pdf_path, output_folder)\n",
    "\n",
    "# json_path = \"/home/jovyan/projects/data/dining.json\"\n",
    "# with open(json_path, \"w\", encoding=\"utf-8\") as f:\n",
    "#     json.dump(pages_data, f, ensure_ascii=False, indent=2)\n",
    "\n",
    "# print(f\"✅ JSON saved at {json_path}\")"
   ]
  },
  {
   "cell_type": "code",
   "execution_count": 10,
   "id": "d32ac0c0-a63f-49f6-87cf-d8baf1a8e5fa",
   "metadata": {
    "execution": {
     "iopub.execute_input": "2025-09-13T06:39:23.889973Z",
     "iopub.status.busy": "2025-09-13T06:39:23.889525Z",
     "iopub.status.idle": "2025-09-13T06:39:23.898208Z",
     "shell.execute_reply": "2025-09-13T06:39:23.896558Z",
     "shell.execute_reply.started": "2025-09-13T06:39:23.889936Z"
    }
   },
   "outputs": [
    {
     "data": {
      "text/plain": [
       "[{'page': 1,\n",
       "  'text': '۹5\\n\\nشرکت کیمیاگران سرزمین رایانه\\n\\n2\\n\\nراهنمای عمومی سامانه حضور و غیاب کسرا\\n(تردد)',\n",
       "  'images': [{'path': '/home/jovyan/projects/data/extracted_images/page_1_img_1.jpeg'},\n",
       "   {'path': '/home/jovyan/projects/data/extracted_images/page_1_img_2.jpeg'}]},\n",
       " {'page': 2,\n",
       "  'text': '(۸\\n\\nشرکت کیمیاگران سرزمین رایانه\\n\\nورود به نرم افزار صص_\\n\\nکسرای من ۳[\\n\\nجست و جوی صفحات ۳[\\n\\nمیز کار ۳[\\nکار کرد ماهانه |\\nکارکرد روزانه 9[\\nثبت مجوز از طریق لینک 7[\\nدرخواست مجوز ۳[\\nدرخواست تردد |\\nنمايش مجوز ها 1\\nنمایش کاردکس |\\n\\nتغییر کلمه عبور 1۱\\n\\nکارتابل 1\\n\\n1\\n\\nضرین غایبین ۳[\\nآمار روزانه پرسنل 7 صصسصپصپصسصپصپصسصپصپصسصپصرصپصپصپصرصرصر 0',\n",
       "  'images': []},\n",
       " {'page': 3,\n",
       "  'text': '۹\\n\\nشرکت کیمیاگران سرزمین رایانه\\n\\nورود به نرم افزار\\nبا وارد نمودن نام کاریری و کلمه عبور میتوانید به نرم افزار وارد شوید . این اطلاعات از طریق مدیر سیستم در اختیار\\n\\nشما قرار خواهد گرفت در صورتی فراموشی رمز عبور بایستی با مدیر سیستم تماس حاصل نمایید .\\n\\n6 ورود کاربران\\n\\n2 8 8۲ ۱۳ ۷ ۰۰ 90 786۵۲۲۵۱۲۱9۵2۴۱۵ موم / نامع 0/۸ 192.1680:106/1290:1۷۵9/1۵۷۱۵ 22 بر 90 ۵ ۵ ی«\\n\\nجهت کارکرد صحیح صفحات در نرم افزار ؛ از از مرورگرهای 086]و 6۳0۲۵۳6 (۵۵ به بالا )یا ۳۱۳۲6۲0 استفاده نمایید.\\n\\nآشنایی با سامانه :\\n\\nبا هر مرتبه ورود به نرم افزار راهنمای سیستمی به شما نمایش داده میشود که با کلیک بر روی صفحه میتوانید در آن\\nلحظه از آن خارج شوید .\\n\\nجهت عدم نمایش در هنگام ورود مجدد به نرم افزار کافی است یکبار راهنما تا انتها مشاهده گردد و دکمه عدم نمایش\\nمجدد انتخاب شود .\\n\\nهمچنین با انتخاب دعر [فگا, گزینه آشنایی با سامانه. امکان نمايش مجدد راهنما وجود دارد .',\n",
       "  'images': [{'path': '/home/jovyan/projects/data/extracted_images/page_3_img_2.jpeg'}]}]"
      ]
     },
     "execution_count": 10,
     "metadata": {},
     "output_type": "execute_result"
    }
   ],
   "source": [
    "pages_data"
   ]
  },
  {
   "cell_type": "code",
   "execution_count": 12,
   "id": "3c1769ea-9898-46c6-b679-1d84305a7c77",
   "metadata": {
    "execution": {
     "iopub.execute_input": "2025-09-13T06:40:41.116500Z",
     "iopub.status.busy": "2025-09-13T06:40:41.115632Z",
     "iopub.status.idle": "2025-09-13T06:40:41.124714Z",
     "shell.execute_reply": "2025-09-13T06:40:41.123483Z",
     "shell.execute_reply.started": "2025-09-13T06:40:41.116446Z"
    }
   },
   "outputs": [
    {
     "name": "stdout",
     "output_type": "stream",
     "text": [
      "۹\n",
      "\n",
      "شرکت کیمیاگران سرزمین رایانه\n",
      "\n",
      "ورود به نرم افزار\n",
      "با وارد نمودن نام کاریری و کلمه عبور میتوانید به نرم افزار وارد شوید . این اطلاعات از طریق مدیر سیستم در اختیار\n",
      "\n",
      "شما قرار خواهد گرفت در صورتی فراموشی رمز عبور بایستی با مدیر سیستم تماس حاصل نمایید .\n",
      "\n",
      "6 ورود کاربران\n",
      "\n",
      "2 8 8۲ ۱۳ ۷ ۰۰ 90 786۵۲۲۵۱۲۱9۵2۴۱۵ موم / نامع 0/۸ 192.1680:106/1290:1۷۵9/1۵۷۱۵ 22 بر 90 ۵ ۵ ی«\n",
      "\n",
      "جهت کارکرد صحیح صفحات در نرم افزار ؛ از از مرورگرهای 086]و 6۳0۲۵۳6 (۵۵ به بالا )یا ۳۱۳۲6۲0 استفاده نمایید.\n",
      "\n",
      "آشنایی با سامانه :\n",
      "\n",
      "با هر مرتبه ورود به نرم افزار راهنمای سیستمی به شما نمایش داده میشود که با کلیک بر روی صفحه میتوانید در آن\n",
      "لحظه از آن خارج شوید .\n",
      "\n",
      "جهت عدم نمایش در هنگام ورود مجدد به نرم افزار کافی است یکبار راهنما تا انتها مشاهده گردد و دکمه عدم نمایش\n",
      "مجدد انتخاب شود .\n",
      "\n",
      "همچنین با انتخاب دعر [فگا, گزینه آشنایی با سامانه. امکان نمايش مجدد راهنما وجود دارد .\n"
     ]
    }
   ],
   "source": [
    "print(pages_data[2][\"text\"])"
   ]
  },
  {
   "cell_type": "code",
   "execution_count": null,
   "id": "f6211dc0-1101-467e-aebf-377dad365c38",
   "metadata": {},
   "outputs": [],
   "source": []
  }
 ],
 "metadata": {
  "kernelspec": {
   "display_name": "Python 3 (ipykernel)",
   "language": "python",
   "name": "python3"
  },
  "language_info": {
   "codemirror_mode": {
    "name": "ipython",
    "version": 3
   },
   "file_extension": ".py",
   "mimetype": "text/x-python",
   "name": "python",
   "nbconvert_exporter": "python",
   "pygments_lexer": "ipython3",
   "version": "3.12.9"
  }
 },
 "nbformat": 4,
 "nbformat_minor": 5
}
