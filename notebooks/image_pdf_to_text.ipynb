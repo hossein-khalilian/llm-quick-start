{
 "cells": [
  {
   "cell_type": "code",
   "execution_count": 65,
   "id": "177e7ae6-0602-4c96-ae62-64ca430ad293",
   "metadata": {
    "execution": {
     "iopub.execute_input": "2025-09-09T10:47:08.475635Z",
     "iopub.status.busy": "2025-09-09T10:47:08.473917Z",
     "iopub.status.idle": "2025-09-09T10:47:08.484670Z",
     "shell.execute_reply": "2025-09-09T10:47:08.482307Z",
     "shell.execute_reply.started": "2025-09-09T10:47:08.475556Z"
    }
   },
   "outputs": [],
   "source": [
    "# %pip install -qU langchain-community pypdf"
   ]
  },
  {
   "cell_type": "code",
   "execution_count": 1,
   "id": "c8ac8931-4788-46e1-82f8-ca2819ee5a27",
   "metadata": {
    "execution": {
     "iopub.execute_input": "2025-09-13T04:54:41.644886Z",
     "iopub.status.busy": "2025-09-13T04:54:41.644164Z",
     "iopub.status.idle": "2025-09-13T04:54:41.670346Z",
     "shell.execute_reply": "2025-09-13T04:54:41.669379Z",
     "shell.execute_reply.started": "2025-09-13T04:54:41.644851Z"
    }
   },
   "outputs": [
    {
     "data": {
      "text/plain": [
       "True"
      ]
     },
     "execution_count": 1,
     "metadata": {},
     "output_type": "execute_result"
    }
   ],
   "source": [
    "from dotenv import load_dotenv\n",
    "load_dotenv()"
   ]
  },
  {
   "cell_type": "code",
   "execution_count": 2,
   "id": "c5cb578a-f7f5-497b-8ed1-21ac4de1bcc7",
   "metadata": {
    "execution": {
     "iopub.execute_input": "2025-09-13T04:54:42.469758Z",
     "iopub.status.busy": "2025-09-13T04:54:42.468980Z",
     "iopub.status.idle": "2025-09-13T04:54:43.429856Z",
     "shell.execute_reply": "2025-09-13T04:54:43.429188Z",
     "shell.execute_reply.started": "2025-09-13T04:54:42.469687Z"
    }
   },
   "outputs": [],
   "source": [
    "import fitz  # PyMuPDF\n",
    "import os\n",
    "import hashlib\n",
    "import base64\n",
    "from openai import OpenAI"
   ]
  },
  {
   "cell_type": "code",
   "execution_count": 3,
   "id": "db63035c-16db-46f6-bef4-dd5841c60ba6",
   "metadata": {
    "execution": {
     "iopub.execute_input": "2025-09-13T04:54:43.950251Z",
     "iopub.status.busy": "2025-09-13T04:54:43.949453Z",
     "iopub.status.idle": "2025-09-13T04:54:44.024498Z",
     "shell.execute_reply": "2025-09-13T04:54:44.023919Z",
     "shell.execute_reply.started": "2025-09-13T04:54:43.950176Z"
    }
   },
   "outputs": [],
   "source": [
    "client = OpenAI()"
   ]
  },
  {
   "cell_type": "code",
   "execution_count": 4,
   "id": "a3742cfd-708d-4ca7-a1c7-a9381e75f37e",
   "metadata": {
    "execution": {
     "iopub.execute_input": "2025-09-13T04:54:44.587717Z",
     "iopub.status.busy": "2025-09-13T04:54:44.586800Z",
     "iopub.status.idle": "2025-09-13T04:54:44.609228Z",
     "shell.execute_reply": "2025-09-13T04:54:44.608109Z",
     "shell.execute_reply.started": "2025-09-13T04:54:44.587647Z"
    }
   },
   "outputs": [],
   "source": [
    "def encode_image(image_path):\n",
    "    with open(image_path, \"rb\") as f:\n",
    "        return base64.b64encode(f.read()).decode(\"utf-8\")\n",
    "        \n",
    "        \n",
    "def extract_text_and_images(pdf_path, output_folder, min_width=100, min_height=100, min_filesize=5000):\n",
    "    \"\"\"\n",
    "    Extract text and unique images from each page of a PDF into a dictionary.\n",
    "    Skips small icons/logos and duplicate images (by size + dimensions).\n",
    "    \"\"\"\n",
    "    doc = fitz.open(pdf_path)\n",
    "    \n",
    "    if not os.path.exists(output_folder):\n",
    "        os.makedirs(output_folder)\n",
    "    \n",
    "    seen = set()  # store (width, height, filesize) triples\n",
    "    results = {}  # dictionary to hold page data\n",
    "    \n",
    "    for page_num in range(len(doc)):\n",
    "        page = doc.load_page(page_num)\n",
    "        page_dict = {\"text\": \"\", \"images\": []}\n",
    "        \n",
    "        # --- Extract text ---\n",
    "        text = page.get_text(\"text\").strip()\n",
    "        page_dict[\"text\"] = text if text else \"\"\n",
    "        \n",
    "        # --- Extract images ---\n",
    "        for img_index, img in enumerate(page.get_images(full=True)):\n",
    "            xref = img[0]\n",
    "            width, height = img[2], img[3]\n",
    "            \n",
    "            base_image = doc.extract_image(xref)\n",
    "            image_bytes = base_image[\"image\"]\n",
    "            image_ext = base_image[\"ext\"]\n",
    "            filesize = len(image_bytes)\n",
    "            \n",
    "            # Skip icons/logos (small dimension or tiny file size)\n",
    "            if width < min_width or height < min_height or filesize < min_filesize:\n",
    "                continue\n",
    "            \n",
    "            # Skip duplicates based on (dimensions + file size)\n",
    "            key = (width, height, filesize)\n",
    "            if key in seen:\n",
    "                continue\n",
    "            seen.add(key)\n",
    "            \n",
    "            # Save unique image\n",
    "            output_path = os.path.join(\n",
    "                output_folder, f\"page_{page_num+1}_img_{img_index+1}.{image_ext}\"\n",
    "            )\n",
    "            with open(output_path, \"wb\") as f:\n",
    "                f.write(image_bytes)\n",
    "            \n",
    "            page_dict[\"images\"].append(output_path)\n",
    "        \n",
    "        results[page_num + 1] = page_dict\n",
    "    \n",
    "    doc.close()\n",
    "    return results"
   ]
  },
  {
   "cell_type": "code",
   "execution_count": 5,
   "id": "fb34cfc6-77c2-4076-bb72-3495682da874",
   "metadata": {
    "execution": {
     "iopub.execute_input": "2025-09-13T04:54:45.453871Z",
     "iopub.status.busy": "2025-09-13T04:54:45.453614Z",
     "iopub.status.idle": "2025-09-13T04:54:46.517655Z",
     "shell.execute_reply": "2025-09-13T04:54:46.516910Z",
     "shell.execute_reply.started": "2025-09-13T04:54:45.453849Z"
    }
   },
   "outputs": [
    {
     "name": "stdout",
     "output_type": "stream",
     "text": [
      "\n",
      "--- Page 1 ---\n",
      "Text: 1 \n",
      " \n",
      " \n",
      " \n",
      " \n",
      " \n",
      " \n",
      " \n",
      " راهنمای\n",
      "عمومی سامانه حضور و غیاب کسرا \n",
      " \n",
      ")(تردد ...\n",
      "Images: ['extracted_images/page_1_img_1.jpeg', 'extracted_images/page_1_img_2.jpeg']\n"
     ]
    }
   ],
   "source": [
    "pdf_data = extract_text_and_images(\"/home/jovyan/projects/data/helpkasra.pdf\", \"extracted_images\")\n",
    "\n",
    "# Print summary\n",
    "for page, content in pdf_data.items():\n",
    "    print(f\"\\n--- Page {page} ---\")\n",
    "    print(\"Text:\", content[\"text\"][:200], \"...\")  # preview first 200 chars\n",
    "    print(\"Images:\", content[\"images\"])\n",
    "\n",
    "    break"
   ]
  },
  {
   "cell_type": "code",
   "execution_count": 7,
   "id": "4cea4719-c158-4a15-a853-0c54eeabf9f7",
   "metadata": {
    "execution": {
     "iopub.execute_input": "2025-09-13T04:55:03.769947Z",
     "iopub.status.busy": "2025-09-13T04:55:03.769440Z",
     "iopub.status.idle": "2025-09-13T04:55:11.501481Z",
     "shell.execute_reply": "2025-09-13T04:55:11.499782Z",
     "shell.execute_reply.started": "2025-09-13T04:55:03.769900Z"
    }
   },
   "outputs": [
    {
     "name": "stdout",
     "output_type": "stream",
     "text": [
      "متن و تصویر ارائه شده، به توضیحاتی در مورد یک نرم‌افزار سیستم مدیریت و عملکرد آن می‌پردازد. \n",
      "\n",
      "### توضیحات متن:\n",
      "\n",
      "1. **کسرای من**: این بخش به عنوان صفحه اصلی یا میزبانی شما در نرم‌افزار اشاره دارد.\n",
      "\n",
      "2. **نوار ابزار عمودی**: در این نوار ابزار، آیکن‌هایی وجود دارد که به صفحات مختلف دسترسی می‌دهد. با کلیک بر روی هر آیکن، نام صفحه نمایش داده می‌شود. برای مشاهده نام تمام صفحات، کافیست بر روی علامت مشخص شده کلیک کنید.\n",
      "\n",
      "3. **پیام‌های ارسالی مدیر سیستم**: در این صفحه، تمامی پیام‌های ارسال شده توسط مدیر سیستم و همچنین صفحات پرکاربرد انتخاب شده شما بصورت مجزا قرار دارد.\n",
      "\n",
      "4. **تنظیمات میزکار**: کاربران می‌توانند میزکار خود را به دلخواه تنظیم کنند و توضیحات اضافی درباره این ویژگی ارائه شده است.\n",
      "\n",
      "### توضیحات تصویر:\n",
      "\n",
      "- **انتخاب صفحات**: تصویر شامل یک نوار ابزار در سمت چپ که آیکن‌های مختلف برای دسترسی به صفحات است.\n",
      "- **پیام‌های مدیر سیستم**: بخشی برای نمایش پیام‌هایی که مدیر ارسال کرده و قابلیت مشاهده پیام‌های قبلی و بعدی.\n",
      "- **وضعیت مجوزها**: نموداری که وضعیت مجوزها و تعداد آن‌ها را نمایش می‌دهد.\n",
      "- **کارکرد من**: نمایش آمار و اطلاعات روند کار یک کاربر، شامل آخرین تردد، ساعات کاری، و تعداد حضور.\n",
      "\n",
      "این متن و تصویر به وضوح رویه کار با این نرم‌افزار را برای کاربران توضیح می‌دهد و امکانات موجود را مشخص می‌کند.\n"
     ]
    }
   ],
   "source": [
    "item = pdf_data[4]\n",
    "\n",
    "content = [\n",
    "    {\"type\": \"text\", \"text\": f\"لطفاً این متن و تصاویر همراه آن را بررسی کن و **توضیح کامل بده**، بدون هیچ مقدمه‌ای:\\n\\n{item['text']}\"}\n",
    "]\n",
    "\n",
    "for img in item[\"images\"]:\n",
    "    b64 = encode_image(img)\n",
    "    content.append({\n",
    "        \"type\": \"image_url\",\n",
    "        \"image_url\": {\n",
    "            \"url\": f\"data:image/png;base64,{b64}\"\n",
    "        }\n",
    "    })\n",
    "\n",
    "response = client.chat.completions.create(\n",
    "    model=\"gpt-4o-mini\",\n",
    "    messages=[\n",
    "        {\"role\": \"system\", \"content\": \"تو یک دستیار هوشمند هستی که متن و تصویر را بررسی و توضیح می‌دهی، بدون هیچ جملهٔ اضافی یا مقدمه.\"},\n",
    "        {\"role\": \"user\", \"content\": content}\n",
    "    ]\n",
    ")\n",
    "\n",
    "print(response.choices[0].message.content)"
   ]
  },
  {
   "cell_type": "code",
   "execution_count": 18,
   "id": "25333c13-d801-4aa3-be26-228005aa5f0b",
   "metadata": {
    "execution": {
     "iopub.execute_input": "2025-09-09T10:56:59.757467Z",
     "iopub.status.busy": "2025-09-09T10:56:59.757187Z",
     "iopub.status.idle": "2025-09-09T10:57:06.641615Z",
     "shell.execute_reply": "2025-09-09T10:57:06.640131Z",
     "shell.execute_reply.started": "2025-09-09T10:56:59.757444Z"
    }
   },
   "outputs": [
    {
     "name": "stdout",
     "output_type": "stream",
     "text": [
      "متن ارائه شده راهنمایی برای جستجوی صفحات در یک سیستم نرم‌افزاری است. در اولین بخش توضیح داده شده که چطور می‌توان با کلیک بر روی آیکن جستجو در پنل سمت راست، کادر جستجو را فعال کرد. سپس کاربران می‌توانند بخشی از نام صفحه مورد نظر را تایپ کنند تا لیست صفحاتی که شامل آن نام هستند و دسترسی دارند، مشاهده کنند.\n",
      "\n",
      "در ادامه بیان شده که زیر نام صفحه مورد نظر، مسیر دستیابی از طریق منو نمایش داده می‌شود. همچنین، استفاده از کلید ترکیبی SHIFT+F برای دسترسی سریع به کادر جستجو در کلیه صفحات نرم‌افزار اشاره شده است.\n",
      "\n",
      "تصویر ارائه شده به نمایش رابط کاربری نرم‌افزار می‌پردازد. آیکن جستجو در سمت راست مشخص شده و قسمت‌های مختلف پنل کاربری نیز قابل مشاهده است، از جمله لیست درخواست‌ها و نمودارهایی که به تجزیه و تحلیل داده‌ها کمک می‌کند.\n"
     ]
    }
   ],
   "source": [
    "item = pdf_data[7]\n",
    "\n",
    "content = [\n",
    "    {\"type\": \"text\", \"text\": f\"لطفاً این متن و تصاویر همراه آن را بررسی کن و **توضیح کامل بده**، بدون هیچ مقدمه‌ای:\\n\\n{item['text']}\"}\n",
    "]\n",
    "\n",
    "for img in item[\"images\"]:\n",
    "    b64 = encode_image(img)\n",
    "    content.append({\n",
    "        \"type\": \"image_url\",\n",
    "        \"image_url\": {\n",
    "            \"url\": f\"data:image/png;base64,{b64}\"\n",
    "        }\n",
    "    })\n",
    "\n",
    "response = client.chat.completions.create(\n",
    "    model=\"gpt-4o-mini\",\n",
    "    messages=[\n",
    "        {\"role\": \"system\", \"content\": \"تو یک دستیار هوشمند هستی که متن و تصویر را بررسی و توضیح می‌دهی، بدون هیچ جملهٔ اضافی یا مقدمه.\"},\n",
    "        {\"role\": \"user\", \"content\": content}\n",
    "    ]\n",
    ")\n",
    "\n",
    "print(response.choices[0].message.content)"
   ]
  },
  {
   "cell_type": "code",
   "execution_count": null,
   "id": "43a25602-c2b3-4019-94d7-c9649a857c1e",
   "metadata": {},
   "outputs": [],
   "source": []
  }
 ],
 "metadata": {
  "kernelspec": {
   "display_name": "Python 3 (ipykernel)",
   "language": "python",
   "name": "python3"
  },
  "language_info": {
   "codemirror_mode": {
    "name": "ipython",
    "version": 3
   },
   "file_extension": ".py",
   "mimetype": "text/x-python",
   "name": "python",
   "nbconvert_exporter": "python",
   "pygments_lexer": "ipython3",
   "version": "3.12.9"
  }
 },
 "nbformat": 4,
 "nbformat_minor": 5
}
