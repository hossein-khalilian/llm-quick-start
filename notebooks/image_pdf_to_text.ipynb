{
 "cells": [
  {
   "cell_type": "code",
   "execution_count": 65,
   "id": "177e7ae6-0602-4c96-ae62-64ca430ad293",
   "metadata": {
    "execution": {
     "iopub.execute_input": "2025-09-09T10:47:08.475635Z",
     "iopub.status.busy": "2025-09-09T10:47:08.473917Z",
     "iopub.status.idle": "2025-09-09T10:47:08.484670Z",
     "shell.execute_reply": "2025-09-09T10:47:08.482307Z",
     "shell.execute_reply.started": "2025-09-09T10:47:08.475556Z"
    }
   },
   "outputs": [],
   "source": [
    "# %pip install -qU langchain-community pypdf"
   ]
  },
  {
   "cell_type": "code",
   "execution_count": 10,
   "id": "c8ac8931-4788-46e1-82f8-ca2819ee5a27",
   "metadata": {
    "execution": {
     "iopub.execute_input": "2025-09-09T10:52:17.172936Z",
     "iopub.status.busy": "2025-09-09T10:52:17.172486Z",
     "iopub.status.idle": "2025-09-09T10:52:17.185137Z",
     "shell.execute_reply": "2025-09-09T10:52:17.184461Z",
     "shell.execute_reply.started": "2025-09-09T10:52:17.172903Z"
    }
   },
   "outputs": [
    {
     "data": {
      "text/plain": [
       "True"
      ]
     },
     "execution_count": 10,
     "metadata": {},
     "output_type": "execute_result"
    }
   ],
   "source": [
    "from dotenv import load_dotenv\n",
    "load_dotenv()"
   ]
  },
  {
   "cell_type": "code",
   "execution_count": 6,
   "id": "c5cb578a-f7f5-497b-8ed1-21ac4de1bcc7",
   "metadata": {
    "execution": {
     "iopub.execute_input": "2025-09-09T10:51:16.374671Z",
     "iopub.status.busy": "2025-09-09T10:51:16.373873Z",
     "iopub.status.idle": "2025-09-09T10:51:17.042178Z",
     "shell.execute_reply": "2025-09-09T10:51:17.041366Z",
     "shell.execute_reply.started": "2025-09-09T10:51:16.374641Z"
    }
   },
   "outputs": [],
   "source": [
    "import fitz  # PyMuPDF\n",
    "import os\n",
    "import hashlib\n",
    "import base64\n",
    "from openai import OpenAI"
   ]
  },
  {
   "cell_type": "code",
   "execution_count": 11,
   "id": "db63035c-16db-46f6-bef4-dd5841c60ba6",
   "metadata": {
    "execution": {
     "iopub.execute_input": "2025-09-09T10:52:41.005078Z",
     "iopub.status.busy": "2025-09-09T10:52:41.002989Z",
     "iopub.status.idle": "2025-09-09T10:52:41.073559Z",
     "shell.execute_reply": "2025-09-09T10:52:41.072321Z",
     "shell.execute_reply.started": "2025-09-09T10:52:41.004999Z"
    }
   },
   "outputs": [],
   "source": [
    "client = OpenAI()"
   ]
  },
  {
   "cell_type": "code",
   "execution_count": 7,
   "id": "a3742cfd-708d-4ca7-a1c7-a9381e75f37e",
   "metadata": {
    "execution": {
     "iopub.execute_input": "2025-09-09T10:51:56.997152Z",
     "iopub.status.busy": "2025-09-09T10:51:56.996266Z",
     "iopub.status.idle": "2025-09-09T10:51:57.015568Z",
     "shell.execute_reply": "2025-09-09T10:51:57.014674Z",
     "shell.execute_reply.started": "2025-09-09T10:51:56.997082Z"
    }
   },
   "outputs": [],
   "source": [
    "def encode_image(image_path):\n",
    "    with open(image_path, \"rb\") as f:\n",
    "        return base64.b64encode(f.read()).decode(\"utf-8\")\n",
    "        \n",
    "        \n",
    "def extract_text_and_images(pdf_path, output_folder, min_width=100, min_height=100, min_filesize=5000):\n",
    "    \"\"\"\n",
    "    Extract text and unique images from each page of a PDF into a dictionary.\n",
    "    Skips small icons/logos and duplicate images (by size + dimensions).\n",
    "    \"\"\"\n",
    "    doc = fitz.open(pdf_path)\n",
    "    \n",
    "    if not os.path.exists(output_folder):\n",
    "        os.makedirs(output_folder)\n",
    "    \n",
    "    seen = set()  # store (width, height, filesize) triples\n",
    "    results = {}  # dictionary to hold page data\n",
    "    \n",
    "    for page_num in range(len(doc)):\n",
    "        page = doc.load_page(page_num)\n",
    "        page_dict = {\"text\": \"\", \"images\": []}\n",
    "        \n",
    "        # --- Extract text ---\n",
    "        text = page.get_text(\"text\").strip()\n",
    "        page_dict[\"text\"] = text if text else \"\"\n",
    "        \n",
    "        # --- Extract images ---\n",
    "        for img_index, img in enumerate(page.get_images(full=True)):\n",
    "            xref = img[0]\n",
    "            width, height = img[2], img[3]\n",
    "            \n",
    "            base_image = doc.extract_image(xref)\n",
    "            image_bytes = base_image[\"image\"]\n",
    "            image_ext = base_image[\"ext\"]\n",
    "            filesize = len(image_bytes)\n",
    "            \n",
    "            # Skip icons/logos (small dimension or tiny file size)\n",
    "            if width < min_width or height < min_height or filesize < min_filesize:\n",
    "                continue\n",
    "            \n",
    "            # Skip duplicates based on (dimensions + file size)\n",
    "            key = (width, height, filesize)\n",
    "            if key in seen:\n",
    "                continue\n",
    "            seen.add(key)\n",
    "            \n",
    "            # Save unique image\n",
    "            output_path = os.path.join(\n",
    "                output_folder, f\"page_{page_num+1}_img_{img_index+1}.{image_ext}\"\n",
    "            )\n",
    "            with open(output_path, \"wb\") as f:\n",
    "                f.write(image_bytes)\n",
    "            \n",
    "            page_dict[\"images\"].append(output_path)\n",
    "        \n",
    "        results[page_num + 1] = page_dict  # store by page number\n",
    "    \n",
    "    doc.close()\n",
    "    return results"
   ]
  },
  {
   "cell_type": "code",
   "execution_count": 9,
   "id": "fb34cfc6-77c2-4076-bb72-3495682da874",
   "metadata": {
    "execution": {
     "iopub.execute_input": "2025-09-09T10:52:05.537198Z",
     "iopub.status.busy": "2025-09-09T10:52:05.536876Z",
     "iopub.status.idle": "2025-09-09T10:52:06.592166Z",
     "shell.execute_reply": "2025-09-09T10:52:06.591354Z",
     "shell.execute_reply.started": "2025-09-09T10:52:05.537170Z"
    }
   },
   "outputs": [
    {
     "name": "stdout",
     "output_type": "stream",
     "text": [
      "\n",
      "--- Page 1 ---\n",
      "Text: 1 \n",
      " \n",
      " \n",
      " \n",
      " \n",
      " \n",
      " \n",
      " \n",
      " راهنمای\n",
      "عمومی سامانه حضور و غیاب کسرا \n",
      " \n",
      ")(تردد ...\n",
      "Images: ['extracted_images/page_1_img_1.jpeg', 'extracted_images/page_1_img_2.jpeg']\n"
     ]
    }
   ],
   "source": [
    "pdf_data = extract_text_and_images(\"/home/jovyan/projects/data/helpkasra.pdf\", \"extracted_images\")\n",
    "\n",
    "# Print summary\n",
    "for page, content in pdf_data.items():\n",
    "    print(f\"\\n--- Page {page} ---\")\n",
    "    print(\"Text:\", content[\"text\"][:200], \"...\")  # preview first 200 chars\n",
    "    print(\"Images:\", content[\"images\"])\n",
    "\n",
    "    break"
   ]
  },
  {
   "cell_type": "code",
   "execution_count": 12,
   "id": "b3faaa63-bca6-4708-bd49-59b52bc8e8e5",
   "metadata": {
    "execution": {
     "iopub.execute_input": "2025-09-09T10:53:39.617194Z",
     "iopub.status.busy": "2025-09-09T10:53:39.616387Z",
     "iopub.status.idle": "2025-09-09T10:53:48.138191Z",
     "shell.execute_reply": "2025-09-09T10:53:48.137224Z",
     "shell.execute_reply.started": "2025-09-09T10:53:39.617125Z"
    }
   },
   "outputs": [
    {
     "name": "stdout",
     "output_type": "stream",
     "text": [
      "متن و تصویر ارائه‌شده به معرفی صفحه \"کسرای من\" در یک سیستم نرم‌افزاری می‌پردازد. در این صفحه، کاربران با استفاده از نوار ابزار عمودی می‌توانند به صفحات مختلف دسترسی پیدا کنند. آیکن‌های موجود در نوار ابزار به کاربران این امکان را می‌دهند که با کلیک بر روی هر کدام، نام صفحه مورد نظر را مشاهده کنند.\n",
      "\n",
      "**عناصر کلیدی صفحه:**\n",
      "\n",
      "1. **میزکار:** کاربران می‌توانند میزکار خود را طبق سلیقه‌شان تنظیم کنند. این بخش شامل پیام‌های ارسالی مدیر سیستم و همچنین صفحات پرکاربرد انتخابی است.\n",
      "\n",
      "2. **پیام‌ها:** قسمت ویژه‌ای برای مشاهده پیام‌های مدیر سیستم وجود دارد که می‌توان با کلیک بر روی یک آیکن، پیام‌های قبلی و بعدی را مشاهده کرد.\n",
      "\n",
      "3. **وضعیت مجوزها:** در بخشی دیگر، اطلاعاتی درباره وضعیت مجوزها و تعداد مجوزهای تایید شده و رد شده ارائه می‌شود.\n",
      "\n",
      "4. **گراف اطلاعات:** نمودار دایره‌ای در گوشه صفحه اطلاعاتی درباره تعداد درخواست‌ها و وضعیت‌های مختلف را به تصویر می‌کشد.\n",
      "\n",
      "این صفحه به کاربران کمک می‌کند تا به راحتی به اطلاعات و امکانات مختلف دسترسی داشته باشند و وضعیت مجوزهای خود را پیگیری کنند.\n"
     ]
    }
   ],
   "source": [
    "# Example input\n",
    "item = {\n",
    "    \"text\": \"\"\"4 \n",
    "\n",
    "کسرای من  \n",
    "\n",
    "صفحه کسرای من با  نماد مشاهده میشود .\n",
    ": شرح عملکرد \n",
    "نوار ابزار  عمودی \n",
    "شامل\n",
    "آیکن صفحاتی \n",
    "است که به آن دسترسی دارید که با کلیک بر روی هر آ یکن نام صفحه نمایش\n",
    "داده میشود برای مشاهده نام کلیه صفحات کافیست بر روی عالمت . کلیک نمایید \n",
    "کلیه\n",
    "پیامهای \n",
    "ارسالی \n",
    "مدیر سیستم  و صفحات پر کاربرد انتخاب شده در\n",
    "میزکار، \n",
    "در\n",
    "این صفحه \n",
    "مطابق تصویر \n",
    "قابل مشاهده\n",
    ". است \n",
    "میزکار توسط شما قابل تنظیم.میباشد \n",
    "توضیحات تکمیلی در خصوص صفحه\n",
    "میزکار را از  اینجا  \n",
    "مشاهده نمایید.\"\"\",\n",
    "    \"images\": [\"extracted_images/page_4_img_3.png\"]\n",
    "}\n",
    "\n",
    "content = [\n",
    "    {\"type\": \"text\", \"text\": f\"لطفاً این متن و تصاویر همراه آن را بررسی کرده و یک توضیح کامل و بدون مقدمه ارائه بده:\\n\\n{item['text']}\"}\n",
    "]\n",
    "\n",
    "# اضافه کردن تصاویر\n",
    "for img in item[\"images\"]:\n",
    "    b64 = encode_image(img)\n",
    "    content.append({\n",
    "        \"type\": \"image_url\",\n",
    "        \"image_url\": {\n",
    "            \"url\": f\"data:image/png;base64,{b64}\"\n",
    "        }\n",
    "    })\n",
    "\n",
    "response = client.chat.completions.create(\n",
    "    model=\"gpt-4o-mini\",\n",
    "    messages=[\n",
    "        {\"role\": \"system\", \"content\": \"تو یک دستیار هوشمند هستی که متن و تصویر را بررسی و توضیح می‌دهی.\"},\n",
    "        {\"role\": \"user\", \"content\": content}\n",
    "    ]\n",
    ")\n",
    "\n",
    "print(response.choices[0].message.content)"
   ]
  },
  {
   "cell_type": "code",
   "execution_count": 14,
   "id": "e5e29ad6-ec66-4ba6-a571-a812ed11910f",
   "metadata": {
    "execution": {
     "iopub.execute_input": "2025-09-09T10:54:36.309466Z",
     "iopub.status.busy": "2025-09-09T10:54:36.308098Z",
     "iopub.status.idle": "2025-09-09T10:54:36.319974Z",
     "shell.execute_reply": "2025-09-09T10:54:36.318530Z",
     "shell.execute_reply.started": "2025-09-09T10:54:36.309346Z"
    }
   },
   "outputs": [
    {
     "data": {
      "text/plain": [
       "{'text': '4 \\n \\n \\n کسرای من  \\n \\n  صفحه کسرای من با  نماد            مشاهده میشود . \\n : شرح عملکرد \\n نوار ابزار  عمودی \\n شامل\\nآیکن صفحاتی \\n است که به آن دسترسی دارید که با کلیک بر روی هر آ یکن نام صفحه نمایش\\n داده میشود برای مشاهده نام کلیه صفحات کافیست بر روی عالمت \\n \\n . کلیک نمایید \\n کلیه\\nپیامهای \\n ارسالی \\n مدیر سیستم  و صفحات پر کاربرد انتخاب شده در\\nمیزکار، \\n در\\nاین صفحه \\n مطابق تصویر \\n قابل مشاهده\\n . است \\n میزکار توسط شما قابل تنظیم.میباشد \\n توضیحات تکمیلی در خصوص صفحه\\nمیزکار را از  اینجا  \\n مشاهده نمایید.',\n",
       " 'images': ['extracted_images/page_4_img_3.png']}"
      ]
     },
     "execution_count": 14,
     "metadata": {},
     "output_type": "execute_result"
    }
   ],
   "source": [
    "pdf_data[4]"
   ]
  },
  {
   "cell_type": "code",
   "execution_count": 15,
   "id": "4cea4719-c158-4a15-a853-0c54eeabf9f7",
   "metadata": {
    "execution": {
     "iopub.execute_input": "2025-09-09T10:55:10.436789Z",
     "iopub.status.busy": "2025-09-09T10:55:10.435969Z",
     "iopub.status.idle": "2025-09-09T10:55:19.790590Z",
     "shell.execute_reply": "2025-09-09T10:55:19.789079Z",
     "shell.execute_reply.started": "2025-09-09T10:55:10.436710Z"
    }
   },
   "outputs": [
    {
     "name": "stdout",
     "output_type": "stream",
     "text": [
      "متن و تصویر ارائه‌شده مربوط به رابط کاربری یک سیستم مدیریتی است. توضیحات در مورد صفحه‌ی \"کسرای من\" و امکانات آن به شرح زیر است:\n",
      "\n",
      "1. **صفحه‌ی اصلی (کسرای من)**:\n",
      "   - صفحه با یک نماد خاص به نمایش درآمده و شامل نوار ابزار عمودی است که امکان دسترسی به صفحات مختلف را فراهم می‌کند.\n",
      "   - با کلیک بر روی هر آیکون، نام صفحه مربوطه نمایش داده می‌شود و برای مشاهده نام تمامی صفحات، کاربر می‌تواند بر روی علامت مشخص شده کلیک کند.\n",
      "\n",
      "2. **پیام‌ها**:\n",
      "   - در این صفحه، پیام‌های ارسالی از سوی مدیر سیستم و همچنین صفحات پرکاربرد مشخص‌شده در میزکار قابل مشاهده است.\n",
      "\n",
      "3. **تنظیمات میزکار**:\n",
      "   - میزکار قابل تنظیم توسط کاربر بوده و امکان شخصی‌سازی را فراهم می‌آورد.\n",
      "\n",
      "4. **جزئیات رابط کاربری**:\n",
      "   - در بالای صفحه، نوار جستجو و بخش‌های مختلف مانند «درخواست‌های متمرکز» و «عملکرد‌های متمرکز» قراردارد.\n",
      "   - پیوندها و آیکون‌هایی برای دسترسی به سایر خدمات (پیام‌ها، تنظیمات و ...) در سمت راست وجود دارد.\n",
      "\n",
      "5. **بخش آمار و اطلاعات**:\n",
      "   - اطلاعات مربوط به وضعیت مجوزها در زیر بخش \"کارت‌های من\" نشان داده شده است، از جمله تعداد مجوزهای تایید شده و رد شده.\n",
      "   - نمودار دایره‌ای وضعیت درخواست‌ها را به صورت بصری نمایش می‌دهد که به کاربر کمک می‌کند دید بهتری نسبت به اطلاعات داشته باشد.\n",
      "\n",
      "این سیستم طراحی شده تا کاربر به راحتی به اطلاعات و خدمات مختلف دسترسی پیدا کند و بتواند در یک محیط کارآمد فعالیت کند.\n"
     ]
    }
   ],
   "source": [
    "item = pdf_data[4]\n",
    "\n",
    "content = [\n",
    "    {\"type\": \"text\", \"text\": f\"لطفاً این متن و تصاویر همراه آن را بررسی کن و **توضیح کامل بده**، بدون هیچ مقدمه‌ای:\\n\\n{item['text']}\"}\n",
    "]\n",
    "\n",
    "for img in item[\"images\"]:\n",
    "    b64 = encode_image(img)\n",
    "    content.append({\n",
    "        \"type\": \"image_url\",\n",
    "        \"image_url\": {\n",
    "            \"url\": f\"data:image/png;base64,{b64}\"\n",
    "        }\n",
    "    })\n",
    "\n",
    "response = client.chat.completions.create(\n",
    "    model=\"gpt-4o-mini\",\n",
    "    messages=[\n",
    "        {\"role\": \"system\", \"content\": \"تو یک دستیار هوشمند هستی که متن و تصویر را بررسی و توضیح می‌دهی، بدون هیچ جملهٔ اضافی یا مقدمه.\"},\n",
    "        {\"role\": \"user\", \"content\": content}\n",
    "    ]\n",
    ")\n",
    "\n",
    "print(response.choices[0].message.content)"
   ]
  },
  {
   "cell_type": "code",
   "execution_count": 18,
   "id": "25333c13-d801-4aa3-be26-228005aa5f0b",
   "metadata": {
    "execution": {
     "iopub.execute_input": "2025-09-09T10:56:59.757467Z",
     "iopub.status.busy": "2025-09-09T10:56:59.757187Z",
     "iopub.status.idle": "2025-09-09T10:57:06.641615Z",
     "shell.execute_reply": "2025-09-09T10:57:06.640131Z",
     "shell.execute_reply.started": "2025-09-09T10:56:59.757444Z"
    }
   },
   "outputs": [
    {
     "name": "stdout",
     "output_type": "stream",
     "text": [
      "متن ارائه شده راهنمایی برای جستجوی صفحات در یک سیستم نرم‌افزاری است. در اولین بخش توضیح داده شده که چطور می‌توان با کلیک بر روی آیکن جستجو در پنل سمت راست، کادر جستجو را فعال کرد. سپس کاربران می‌توانند بخشی از نام صفحه مورد نظر را تایپ کنند تا لیست صفحاتی که شامل آن نام هستند و دسترسی دارند، مشاهده کنند.\n",
      "\n",
      "در ادامه بیان شده که زیر نام صفحه مورد نظر، مسیر دستیابی از طریق منو نمایش داده می‌شود. همچنین، استفاده از کلید ترکیبی SHIFT+F برای دسترسی سریع به کادر جستجو در کلیه صفحات نرم‌افزار اشاره شده است.\n",
      "\n",
      "تصویر ارائه شده به نمایش رابط کاربری نرم‌افزار می‌پردازد. آیکن جستجو در سمت راست مشخص شده و قسمت‌های مختلف پنل کاربری نیز قابل مشاهده است، از جمله لیست درخواست‌ها و نمودارهایی که به تجزیه و تحلیل داده‌ها کمک می‌کند.\n"
     ]
    }
   ],
   "source": [
    "item = pdf_data[7]\n",
    "\n",
    "content = [\n",
    "    {\"type\": \"text\", \"text\": f\"لطفاً این متن و تصاویر همراه آن را بررسی کن و **توضیح کامل بده**، بدون هیچ مقدمه‌ای:\\n\\n{item['text']}\"}\n",
    "]\n",
    "\n",
    "for img in item[\"images\"]:\n",
    "    b64 = encode_image(img)\n",
    "    content.append({\n",
    "        \"type\": \"image_url\",\n",
    "        \"image_url\": {\n",
    "            \"url\": f\"data:image/png;base64,{b64}\"\n",
    "        }\n",
    "    })\n",
    "\n",
    "response = client.chat.completions.create(\n",
    "    model=\"gpt-4o-mini\",\n",
    "    messages=[\n",
    "        {\"role\": \"system\", \"content\": \"تو یک دستیار هوشمند هستی که متن و تصویر را بررسی و توضیح می‌دهی، بدون هیچ جملهٔ اضافی یا مقدمه.\"},\n",
    "        {\"role\": \"user\", \"content\": content}\n",
    "    ]\n",
    ")\n",
    "\n",
    "print(response.choices[0].message.content)"
   ]
  },
  {
   "cell_type": "code",
   "execution_count": null,
   "id": "43a25602-c2b3-4019-94d7-c9649a857c1e",
   "metadata": {},
   "outputs": [],
   "source": []
  }
 ],
 "metadata": {
  "kernelspec": {
   "display_name": "Python 3 (ipykernel)",
   "language": "python",
   "name": "python3"
  },
  "language_info": {
   "codemirror_mode": {
    "name": "ipython",
    "version": 3
   },
   "file_extension": ".py",
   "mimetype": "text/x-python",
   "name": "python",
   "nbconvert_exporter": "python",
   "pygments_lexer": "ipython3",
   "version": "3.12.9"
  }
 },
 "nbformat": 4,
 "nbformat_minor": 5
}
