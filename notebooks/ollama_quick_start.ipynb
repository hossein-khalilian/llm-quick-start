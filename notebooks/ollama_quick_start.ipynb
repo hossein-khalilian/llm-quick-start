{
 "cells": [
  {
   "cell_type": "markdown",
   "id": "12e1c6a0-063d-4a25-9efb-0301d22fd6c3",
   "metadata": {
    "jp-MarkdownHeadingCollapsed": true
   },
   "source": [
    "# remote client"
   ]
  },
  {
   "cell_type": "code",
   "execution_count": 17,
   "id": "8819d837-a0c0-427c-b04c-7de25ca5883c",
   "metadata": {
    "execution": {
     "iopub.execute_input": "2025-05-20T06:12:45.397341Z",
     "iopub.status.busy": "2025-05-20T06:12:45.396998Z",
     "iopub.status.idle": "2025-05-20T06:12:45.401035Z",
     "shell.execute_reply": "2025-05-20T06:12:45.400106Z",
     "shell.execute_reply.started": "2025-05-20T06:12:45.397299Z"
    }
   },
   "outputs": [],
   "source": [
    "base_url=\"http://host.docker.internal:11434\"\n",
    "model = \"gemma3:27b\""
   ]
  },
  {
   "cell_type": "code",
   "execution_count": 5,
   "id": "cef456fa-6930-4bd4-8807-4a5e403db838",
   "metadata": {
    "execution": {
     "iopub.execute_input": "2025-05-20T06:05:26.435672Z",
     "iopub.status.busy": "2025-05-20T06:05:26.434902Z",
     "iopub.status.idle": "2025-05-20T06:05:26.464068Z",
     "shell.execute_reply": "2025-05-20T06:05:26.463265Z",
     "shell.execute_reply.started": "2025-05-20T06:05:26.435602Z"
    }
   },
   "outputs": [],
   "source": [
    "from ollama import Client\n",
    "client = Client(\n",
    "  host=base_url,\n",
    "  # headers={'x-some-header': 'some-value'}\n",
    ")"
   ]
  },
  {
   "cell_type": "markdown",
   "id": "8d23443a-27cc-4292-9282-d631900dffcb",
   "metadata": {
    "jp-MarkdownHeadingCollapsed": true
   },
   "source": [
    "# chat"
   ]
  },
  {
   "cell_type": "code",
   "execution_count": 18,
   "id": "f713525c-49be-4c68-93ee-a651a79b681e",
   "metadata": {
    "execution": {
     "iopub.execute_input": "2025-05-20T06:12:55.486813Z",
     "iopub.status.busy": "2025-05-20T06:12:55.486016Z",
     "iopub.status.idle": "2025-05-20T06:13:14.232991Z",
     "shell.execute_reply": "2025-05-20T06:13:14.232218Z",
     "shell.execute_reply.started": "2025-05-20T06:12:55.486742Z"
    }
   },
   "outputs": [
    {
     "data": {
      "text/plain": [
       "ChatResponse(model='gemma3:27b', created_at='2025-05-20T06:13:13.96653127Z', done=True, done_reason='stop', total_duration=18455716412, load_duration=3673739768, prompt_eval_count=15, prompt_eval_duration=263079722, eval_count=521, eval_duration=14517055467, message=Message(role='assistant', content=\"The sky is blue because of a phenomenon called **Rayleigh scattering**. Here's a breakdown of what's happening:\\n\\n* **Sunlight is made of all colors:** White sunlight isn't actually white! It's a mixture of all the colors of the rainbow.\\n* **Light travels in waves:**  Light travels in waves, and different colors have different wavelengths. Blue and violet light have *shorter* wavelengths, while colors like red and orange have *longer* wavelengths.\\n* **Scattering by air molecules:** When sunlight enters the Earth's atmosphere, it collides with tiny air molecules (mostly nitrogen and oxygen). This collision causes the light to scatter in different directions.\\n* **Rayleigh scattering favors blue:**  Rayleigh scattering is *much* more effective at scattering shorter wavelengths (blue and violet) than longer wavelengths (red and orange).  Think of it like trying to bounce a small ball (blue light) off bumps versus a large ball (red light). The small ball will bounce around much more.\\n* **Why not violet then?**  Violet *is* scattered more than blue, but there are a couple of reasons we see mostly blue:\\n    * **The sun emits less violet light:** The sun doesn't produce as much violet light as blue light.\\n    * **Our eyes are less sensitive to violet:**  Our eyes are more sensitive to blue light than violet light.\\n    * **Atmospheric absorption:** The upper atmosphere absorbs some violet light.\\n\\n**So, because blue light is scattered more than other colors, it gets spread across the sky, making it appear blue to our eyes.**\\n\\n\\n\\n**What about sunsets and sunrises?**\\n\\nWhen the sun is low on the horizon, sunlight has to travel through *more* of the atmosphere to reach our eyes.  This means most of the blue light has already been scattered away. The longer wavelengths (reds, oranges, and yellows) can penetrate through the thicker atmosphere, giving us those beautiful sunset and sunrise colors.\\n\\n\\n\\nYou can find more detailed explanations here:\\n\\n* **NASA Space Place:** [https://spaceplace.nasa.gov/blue-sky/en/](https://spaceplace.nasa.gov/blue-sky/en/)\\n* **National Geographic:** [https://www.nationalgeographic.com/science/article/why-is-the-sky-blue](https://www.nationalgeographic.com/science/article/why-is-the-sky-blue)\\n\\n\\n\\n\", images=None, tool_calls=None))"
      ]
     },
     "execution_count": 18,
     "metadata": {},
     "output_type": "execute_result"
    }
   ],
   "source": [
    "response = client.chat(model=model, messages=[\n",
    "  {\n",
    "    'role': 'user',\n",
    "    'content': 'Why is the sky blue?',\n",
    "  },\n",
    "])\n",
    "\n",
    "response"
   ]
  },
  {
   "cell_type": "markdown",
   "id": "5941cb61-5f1e-471c-8fd5-c039dc1adbda",
   "metadata": {
    "jp-MarkdownHeadingCollapsed": true
   },
   "source": [
    "# embedding"
   ]
  },
  {
   "cell_type": "code",
   "execution_count": 7,
   "id": "db6d0803-6c40-4afd-b3e1-693d7915dcfe",
   "metadata": {
    "execution": {
     "iopub.execute_input": "2025-05-20T06:05:42.272607Z",
     "iopub.status.busy": "2025-05-20T06:05:42.271818Z",
     "iopub.status.idle": "2025-05-20T06:05:42.282706Z",
     "shell.execute_reply": "2025-05-20T06:05:42.280412Z",
     "shell.execute_reply.started": "2025-05-20T06:05:42.272538Z"
    }
   },
   "outputs": [],
   "source": [
    "documents = [\n",
    "  \"Llamas are members of the camelid family meaning they're pretty closely related to vicuñas and camels\",\n",
    "  \"Llamas were first domesticated and used as pack animals 4,000 to 5,000 years ago in the Peruvian highlands\",\n",
    "  \"Llamas can grow as much as 6 feet tall though the average llama between 5 feet 6 inches and 5 feet 9 inches tall\",\n",
    "  \"Llamas weigh between 280 and 450 pounds and can carry 25 to 30 percent of their body weight\",\n",
    "  \"Llamas are vegetarians and have very efficient digestive systems\",\n",
    "  \"Llamas live to be about 20 years old, though some only live for 15 years and others live to be 30 years old\",\n",
    "]"
   ]
  },
  {
   "cell_type": "code",
   "execution_count": 8,
   "id": "4e934bef-b559-4cbc-972c-d6e047dcff38",
   "metadata": {
    "execution": {
     "iopub.execute_input": "2025-05-20T06:05:42.285070Z",
     "iopub.status.busy": "2025-05-20T06:05:42.284348Z",
     "iopub.status.idle": "2025-05-20T06:05:44.663459Z",
     "shell.execute_reply": "2025-05-20T06:05:44.662754Z",
     "shell.execute_reply.started": "2025-05-20T06:05:42.284998Z"
    }
   },
   "outputs": [],
   "source": [
    "for i, d in enumerate(documents):\n",
    "  response = client.embed(model=\"mxbai-embed-large\", input=d)\n",
    "  embeddings = response[\"embeddings\"]"
   ]
  },
  {
   "cell_type": "markdown",
   "id": "e8a236f6-6e48-4918-9a22-2bcb16491caf",
   "metadata": {
    "jp-MarkdownHeadingCollapsed": true
   },
   "source": [
    "# miscellaneous"
   ]
  },
  {
   "cell_type": "code",
   "execution_count": 11,
   "id": "004fadba-0992-4ded-95fd-7f576c4bdf70",
   "metadata": {
    "execution": {
     "iopub.execute_input": "2025-05-20T06:06:52.109270Z",
     "iopub.status.busy": "2025-05-20T06:06:52.109013Z",
     "iopub.status.idle": "2025-05-20T06:06:52.370055Z",
     "shell.execute_reply": "2025-05-20T06:06:52.369266Z",
     "shell.execute_reply.started": "2025-05-20T06:06:52.109246Z"
    }
   },
   "outputs": [
    {
     "data": {
      "text/plain": [
       "ListResponse(models=[Model(model='mxbai-embed-large:latest', modified_at=datetime.datetime(2025, 5, 20, 5, 37, 29, 93022, tzinfo=TzInfo(UTC)), digest='468836162de7f81e041c43663fedbbba921dcea9b9fefea135685a39b2d83dd8', size=669615493, details=ModelDetails(parent_model='', format='gguf', family='bert', families=['bert'], parameter_size='334M', quantization_level='F16')), Model(model='gemma3:27b', modified_at=datetime.datetime(2025, 5, 20, 5, 37, 20, 736985, tzinfo=TzInfo(UTC)), digest='a418f5838eaf7fe2cfe0a3046c8384b68ba43a4435542c942f9db00a5f342203', size=17396936941, details=ModelDetails(parent_model='', format='gguf', family='gemma3', families=['gemma3'], parameter_size='27.4B', quantization_level='Q4_K_M'))])"
      ]
     },
     "execution_count": 11,
     "metadata": {},
     "output_type": "execute_result"
    }
   ],
   "source": [
    "client.list()"
   ]
  },
  {
   "cell_type": "code",
   "execution_count": 12,
   "id": "064f89bd-25e3-4f05-a41d-e328a2e9833e",
   "metadata": {
    "execution": {
     "iopub.execute_input": "2025-05-20T06:07:14.631910Z",
     "iopub.status.busy": "2025-05-20T06:07:14.630486Z",
     "iopub.status.idle": "2025-05-20T06:07:15.311753Z",
     "shell.execute_reply": "2025-05-20T06:07:15.308847Z",
     "shell.execute_reply.started": "2025-05-20T06:07:14.631822Z"
    }
   },
   "outputs": [
    {
     "data": {
      "text/plain": [
       "ShowResponse(modified_at=datetime.datetime(2025, 5, 20, 5, 37, 20, 736985, tzinfo=TzInfo(UTC)), template='{{- range $i, $_ := .Messages }}\\n{{- $last := eq (len (slice $.Messages $i)) 1 }}\\n{{- if or (eq .Role \"user\") (eq .Role \"system\") }}<start_of_turn>user\\n{{ .Content }}<end_of_turn>\\n{{ if $last }}<start_of_turn>model\\n{{ end }}\\n{{- else if eq .Role \"assistant\" }}<start_of_turn>model\\n{{ .Content }}{{ if not $last }}<end_of_turn>\\n{{ end }}\\n{{- end }}\\n{{- end }}', modelfile='# Modelfile generated by \"ollama show\"\\n# To build a new Modelfile based on this, replace FROM with:\\n# FROM gemma3:27b\\n\\nFROM /usr/share/ollama/.ollama/models/blobs/sha256-e796792eba26c4d3b04b0ac5adb01a453dd9ec2dfd83b6c59cbf6fe5f30b0f68\\nTEMPLATE \"\"\"{{- range $i, $_ := .Messages }}\\n{{- $last := eq (len (slice $.Messages $i)) 1 }}\\n{{- if or (eq .Role \"user\") (eq .Role \"system\") }}<start_of_turn>user\\n{{ .Content }}<end_of_turn>\\n{{ if $last }}<start_of_turn>model\\n{{ end }}\\n{{- else if eq .Role \"assistant\" }}<start_of_turn>model\\n{{ .Content }}{{ if not $last }}<end_of_turn>\\n{{ end }}\\n{{- end }}\\n{{- end }}\"\"\"\\nPARAMETER stop <end_of_turn>\\nPARAMETER temperature 1\\nPARAMETER top_k 64\\nPARAMETER top_p 0.95\\nLICENSE \"\"\"Gemma Terms of Use \\n\\nLast modified: February 21, 2024\\n\\nBy using, reproducing, modifying, distributing, performing or displaying any portion or element of Gemma, Model Derivatives including via any Hosted Service, (each as defined below) (collectively, the \"Gemma Services\") or otherwise accepting the terms of this Agreement, you agree to be bound by this Agreement.\\n\\nSection 1: DEFINITIONS\\n1.1 Definitions\\n(a) \"Agreement\" or \"Gemma Terms of Use\" means these terms and conditions that govern the use, reproduction, Distribution or modification of the Gemma Services and any terms and conditions incorporated by reference.\\n\\n(b) \"Distribution\" or \"Distribute\" means any transmission, publication, or other sharing of Gemma or Model Derivatives to a third party, including by providing or making Gemma or its functionality available as a hosted service via API, web access, or any other electronic or remote means (\"Hosted Service\").\\n\\n(c) \"Gemma\" means the set of machine learning language models, trained model weights and parameters identified at ai.google.dev/gemma, regardless of the source that you obtained it from.\\n\\n(d) \"Google\" means Google LLC.\\n\\n(e) \"Model Derivatives\" means all (i) modifications to Gemma, (ii) works based on Gemma, or (iii) any other machine learning model which is created by transfer of patterns of the weights, parameters, operations, or Output of Gemma, to that model in order to cause that model to perform similarly to Gemma, including distillation methods that use intermediate data representations or methods based on the generation of synthetic data Outputs by Gemma for training that model. For clarity, Outputs are not deemed Model Derivatives.\\n\\n(f) \"Output\" means the information content output of Gemma or a Model Derivative that results from operating or otherwise using Gemma or the Model Derivative, including via a Hosted Service.\\n\\n1.2\\nAs used in this Agreement, \"including\" means \"including without limitation\".\\n\\nSection 2: ELIGIBILITY AND USAGE\\n2.1 Eligibility\\nYou represent and warrant that you have the legal capacity to enter into this Agreement (including being of sufficient age of consent). If you are accessing or using any of the Gemma Services for or on behalf of a legal entity, (a) you are entering into this Agreement on behalf of yourself and that legal entity, (b) you represent and warrant that you have the authority to act on behalf of and bind that entity to this Agreement and (c) references to \"you\" or \"your\" in the remainder of this Agreement refers to both you (as an individual) and that entity.\\n\\n2.2 Use\\nYou may use, reproduce, modify, Distribute, perform or display any of the Gemma Services only in accordance with the terms of this Agreement, and must not violate (or encourage or permit anyone else to violate) any term of this Agreement.\\n\\nSection 3: DISTRIBUTION AND RESTRICTIONS\\n3.1 Distribution and Redistribution\\nYou may reproduce or Distribute copies of Gemma or Model Derivatives if you meet all of the following conditions:\\n\\nYou must include the use restrictions referenced in Section 3.2 as an enforceable provision in any agreement (e.g., license agreement, terms of use, etc.) governing the use and/or distribution of Gemma or Model Derivatives and you must provide notice to subsequent users you Distribute to that Gemma or Model Derivatives are subject to the use restrictions in Section 3.2.\\nYou must provide all third party recipients of Gemma or Model Derivatives a copy of this Agreement.\\nYou must cause any modified files to carry prominent notices stating that you modified the files.\\nAll Distributions (other than through a Hosted Service) must be accompanied by a \"Notice\" text file that contains the following notice: \"Gemma is provided under and subject to the Gemma Terms of Use found at ai.google.dev/gemma/terms\".\\nYou may add your own intellectual property statement to your modifications and, except as set forth in this Section, may provide additional or different terms and conditions for use, reproduction, or Distribution of your modifications, or for any such Model Derivatives as a whole, provided your use, reproduction, modification, Distribution, performance, and display of Gemma otherwise complies with the terms and conditions of this Agreement. Any additional or different terms and conditions you impose must not conflict with the terms of this Agreement.\\n\\n3.2 Use Restrictions\\nYou must not use any of the Gemma Services:\\n\\nfor the restricted uses set forth in the Gemma Prohibited Use Policy at ai.google.dev/gemma/prohibited_use_policy (\"Prohibited Use Policy\"), which is hereby incorporated by reference into this Agreement; or\\nin violation of applicable laws and regulations.\\nTo the maximum extent permitted by law, Google reserves the right to restrict (remotely or otherwise) usage of any of the Gemma Services that Google reasonably believes are in violation of this Agreement.\\n\\n3.3 Generated Output\\nGoogle claims no rights in Outputs you generate using Gemma. You and your users are solely responsible for Outputs and their subsequent uses.\\n\\nSection 4: ADDITIONAL PROVISIONS\\n4.1 Updates\\nGoogle may update Gemma from time to time, and you must make reasonable efforts to use the latest version of Gemma.\\n\\n4.2 Trademarks\\nNothing in this Agreement grants you any rights to use Google\\'s trademarks, trade names, logos or to otherwise suggest endorsement or misrepresent the relationship between you and Google. Google reserves any rights not expressly granted herein.\\n\\n4.3 DISCLAIMER OF WARRANTY\\nUNLESS REQUIRED BY APPLICABLE LAW, THE GEMMA SERVICES, AND OUTPUTS, ARE PROVIDED ON AN \"AS IS\" BASIS, WITHOUT WARRANTIES OR CONDITIONS OF ANY KIND, EITHER EXPRESS OR IMPLIED, INCLUDING ANY WARRANTIES OR CONDITIONS OF TITLE, NON-INFRINGEMENT, MERCHANTABILITY, OR FITNESS FOR A PARTICULAR PURPOSE. YOU ARE SOLELY RESPONSIBLE FOR DETERMINING THE APPROPRIATENESS OF USING, REPRODUCING, MODIFYING, PERFORMING, DISPLAYING OR OR DISTRIBUTING ANY OF THE GEMMA SERVICES OR OUTPUTS AND ASSUME ANY AND ALL RISKS ASSOCIATED WITH YOUR USE OR DISTRIBUTION OF ANY OF THE GEMMA SERVICES OR OUTPUTS AND YOUR EXERCISE OF RIGHTS AND PERMISSIONS UNDER THIS AGREEMENT.\\n\\n4.4 LIMITATION OF LIABILITY\\nTO THE FULLEST EXTENT PERMITTED BY APPLICABLE LAW, IN NO EVENT AND UNDER NO LEGAL THEORY, WHETHER IN TORT (INCLUDING NEGLIGENCE), PRODUCT LIABILITY, CONTRACT, OR OTHERWISE, UNLESS REQUIRED BY APPLICABLE LAW, SHALL GOOGLE OR ITS AFFILIATES BE LIABLE TO YOU FOR DAMAGES, INCLUDING ANY DIRECT, INDIRECT, SPECIAL, INCIDENTAL, EXEMPLARY, CONSEQUENTIAL, OR PUNITIVE DAMAGES, OR LOST PROFITS OF ANY KIND ARISING FROM THIS AGREEMENT OR RELATED TO, ANY OF THE GEMMA SERVICES OR OUTPUTS EVEN IF GOOGLE OR ITS AFFILIATES HAVE BEEN ADVISED OF THE POSSIBILITY OF SUCH DAMAGES.\\n\\n4.5 Term, Termination, and Survival\\nThe term of this Agreement will commence upon your acceptance of this Agreement (including acceptance by your use, modification, or Distribution, reproduction, performance or display of any portion or element of the Gemma Services) and will continue in full force and effect until terminated in accordance with the terms of this Agreement. Google may terminate this Agreement if you are in breach of any term of this Agreement. Upon termination of this Agreement, you must delete and cease use and Distribution of all copies of Gemma and Model Derivatives in your possession or control. Sections 1, 2.1, 3.3, 4.2 to 4.9 shall survive the termination of this Agreement.\\n\\n4.6 Governing Law and Jurisdiction\\nThis Agreement will be governed by the laws of the State of California without regard to choice of law principles. The UN Convention on Contracts for the International Sale of Goods does not apply to this Agreement. The state and federal courts of Santa Clara County, California shall have exclusive jurisdiction of any dispute arising out of this Agreement.\\n\\n4.7 Severability\\nIf any provision of this Agreement is held to be invalid, illegal or unenforceable, the remaining provisions shall be unaffected thereby and remain valid as if such provision had not been set forth herein.\\n\\n4.8 Entire Agreement\\nThis Agreement states all the terms agreed between the parties and supersedes all other agreements between the parties as of the date of acceptance relating to its subject matter.\\n\\n4.9 No Waiver\\nGoogle will not be treated as having waived any rights by not exercising (or delaying the exercise of) any rights under this Agreement.\\n\"\"\"\\n', license='Gemma Terms of Use \\n\\nLast modified: February 21, 2024\\n\\nBy using, reproducing, modifying, distributing, performing or displaying any portion or element of Gemma, Model Derivatives including via any Hosted Service, (each as defined below) (collectively, the \"Gemma Services\") or otherwise accepting the terms of this Agreement, you agree to be bound by this Agreement.\\n\\nSection 1: DEFINITIONS\\n1.1 Definitions\\n(a) \"Agreement\" or \"Gemma Terms of Use\" means these terms and conditions that govern the use, reproduction, Distribution or modification of the Gemma Services and any terms and conditions incorporated by reference.\\n\\n(b) \"Distribution\" or \"Distribute\" means any transmission, publication, or other sharing of Gemma or Model Derivatives to a third party, including by providing or making Gemma or its functionality available as a hosted service via API, web access, or any other electronic or remote means (\"Hosted Service\").\\n\\n(c) \"Gemma\" means the set of machine learning language models, trained model weights and parameters identified at ai.google.dev/gemma, regardless of the source that you obtained it from.\\n\\n(d) \"Google\" means Google LLC.\\n\\n(e) \"Model Derivatives\" means all (i) modifications to Gemma, (ii) works based on Gemma, or (iii) any other machine learning model which is created by transfer of patterns of the weights, parameters, operations, or Output of Gemma, to that model in order to cause that model to perform similarly to Gemma, including distillation methods that use intermediate data representations or methods based on the generation of synthetic data Outputs by Gemma for training that model. For clarity, Outputs are not deemed Model Derivatives.\\n\\n(f) \"Output\" means the information content output of Gemma or a Model Derivative that results from operating or otherwise using Gemma or the Model Derivative, including via a Hosted Service.\\n\\n1.2\\nAs used in this Agreement, \"including\" means \"including without limitation\".\\n\\nSection 2: ELIGIBILITY AND USAGE\\n2.1 Eligibility\\nYou represent and warrant that you have the legal capacity to enter into this Agreement (including being of sufficient age of consent). If you are accessing or using any of the Gemma Services for or on behalf of a legal entity, (a) you are entering into this Agreement on behalf of yourself and that legal entity, (b) you represent and warrant that you have the authority to act on behalf of and bind that entity to this Agreement and (c) references to \"you\" or \"your\" in the remainder of this Agreement refers to both you (as an individual) and that entity.\\n\\n2.2 Use\\nYou may use, reproduce, modify, Distribute, perform or display any of the Gemma Services only in accordance with the terms of this Agreement, and must not violate (or encourage or permit anyone else to violate) any term of this Agreement.\\n\\nSection 3: DISTRIBUTION AND RESTRICTIONS\\n3.1 Distribution and Redistribution\\nYou may reproduce or Distribute copies of Gemma or Model Derivatives if you meet all of the following conditions:\\n\\nYou must include the use restrictions referenced in Section 3.2 as an enforceable provision in any agreement (e.g., license agreement, terms of use, etc.) governing the use and/or distribution of Gemma or Model Derivatives and you must provide notice to subsequent users you Distribute to that Gemma or Model Derivatives are subject to the use restrictions in Section 3.2.\\nYou must provide all third party recipients of Gemma or Model Derivatives a copy of this Agreement.\\nYou must cause any modified files to carry prominent notices stating that you modified the files.\\nAll Distributions (other than through a Hosted Service) must be accompanied by a \"Notice\" text file that contains the following notice: \"Gemma is provided under and subject to the Gemma Terms of Use found at ai.google.dev/gemma/terms\".\\nYou may add your own intellectual property statement to your modifications and, except as set forth in this Section, may provide additional or different terms and conditions for use, reproduction, or Distribution of your modifications, or for any such Model Derivatives as a whole, provided your use, reproduction, modification, Distribution, performance, and display of Gemma otherwise complies with the terms and conditions of this Agreement. Any additional or different terms and conditions you impose must not conflict with the terms of this Agreement.\\n\\n3.2 Use Restrictions\\nYou must not use any of the Gemma Services:\\n\\nfor the restricted uses set forth in the Gemma Prohibited Use Policy at ai.google.dev/gemma/prohibited_use_policy (\"Prohibited Use Policy\"), which is hereby incorporated by reference into this Agreement; or\\nin violation of applicable laws and regulations.\\nTo the maximum extent permitted by law, Google reserves the right to restrict (remotely or otherwise) usage of any of the Gemma Services that Google reasonably believes are in violation of this Agreement.\\n\\n3.3 Generated Output\\nGoogle claims no rights in Outputs you generate using Gemma. You and your users are solely responsible for Outputs and their subsequent uses.\\n\\nSection 4: ADDITIONAL PROVISIONS\\n4.1 Updates\\nGoogle may update Gemma from time to time, and you must make reasonable efforts to use the latest version of Gemma.\\n\\n4.2 Trademarks\\nNothing in this Agreement grants you any rights to use Google\\'s trademarks, trade names, logos or to otherwise suggest endorsement or misrepresent the relationship between you and Google. Google reserves any rights not expressly granted herein.\\n\\n4.3 DISCLAIMER OF WARRANTY\\nUNLESS REQUIRED BY APPLICABLE LAW, THE GEMMA SERVICES, AND OUTPUTS, ARE PROVIDED ON AN \"AS IS\" BASIS, WITHOUT WARRANTIES OR CONDITIONS OF ANY KIND, EITHER EXPRESS OR IMPLIED, INCLUDING ANY WARRANTIES OR CONDITIONS OF TITLE, NON-INFRINGEMENT, MERCHANTABILITY, OR FITNESS FOR A PARTICULAR PURPOSE. YOU ARE SOLELY RESPONSIBLE FOR DETERMINING THE APPROPRIATENESS OF USING, REPRODUCING, MODIFYING, PERFORMING, DISPLAYING OR OR DISTRIBUTING ANY OF THE GEMMA SERVICES OR OUTPUTS AND ASSUME ANY AND ALL RISKS ASSOCIATED WITH YOUR USE OR DISTRIBUTION OF ANY OF THE GEMMA SERVICES OR OUTPUTS AND YOUR EXERCISE OF RIGHTS AND PERMISSIONS UNDER THIS AGREEMENT.\\n\\n4.4 LIMITATION OF LIABILITY\\nTO THE FULLEST EXTENT PERMITTED BY APPLICABLE LAW, IN NO EVENT AND UNDER NO LEGAL THEORY, WHETHER IN TORT (INCLUDING NEGLIGENCE), PRODUCT LIABILITY, CONTRACT, OR OTHERWISE, UNLESS REQUIRED BY APPLICABLE LAW, SHALL GOOGLE OR ITS AFFILIATES BE LIABLE TO YOU FOR DAMAGES, INCLUDING ANY DIRECT, INDIRECT, SPECIAL, INCIDENTAL, EXEMPLARY, CONSEQUENTIAL, OR PUNITIVE DAMAGES, OR LOST PROFITS OF ANY KIND ARISING FROM THIS AGREEMENT OR RELATED TO, ANY OF THE GEMMA SERVICES OR OUTPUTS EVEN IF GOOGLE OR ITS AFFILIATES HAVE BEEN ADVISED OF THE POSSIBILITY OF SUCH DAMAGES.\\n\\n4.5 Term, Termination, and Survival\\nThe term of this Agreement will commence upon your acceptance of this Agreement (including acceptance by your use, modification, or Distribution, reproduction, performance or display of any portion or element of the Gemma Services) and will continue in full force and effect until terminated in accordance with the terms of this Agreement. Google may terminate this Agreement if you are in breach of any term of this Agreement. Upon termination of this Agreement, you must delete and cease use and Distribution of all copies of Gemma and Model Derivatives in your possession or control. Sections 1, 2.1, 3.3, 4.2 to 4.9 shall survive the termination of this Agreement.\\n\\n4.6 Governing Law and Jurisdiction\\nThis Agreement will be governed by the laws of the State of California without regard to choice of law principles. The UN Convention on Contracts for the International Sale of Goods does not apply to this Agreement. The state and federal courts of Santa Clara County, California shall have exclusive jurisdiction of any dispute arising out of this Agreement.\\n\\n4.7 Severability\\nIf any provision of this Agreement is held to be invalid, illegal or unenforceable, the remaining provisions shall be unaffected thereby and remain valid as if such provision had not been set forth herein.\\n\\n4.8 Entire Agreement\\nThis Agreement states all the terms agreed between the parties and supersedes all other agreements between the parties as of the date of acceptance relating to its subject matter.\\n\\n4.9 No Waiver\\nGoogle will not be treated as having waived any rights by not exercising (or delaying the exercise of) any rights under this Agreement.\\n', details=ModelDetails(parent_model='', format='gguf', family='gemma3', families=['gemma3'], parameter_size='27.4B', quantization_level='Q4_K_M'), modelinfo={'gemma3.attention.head_count': 32, 'gemma3.attention.head_count_kv': 16, 'gemma3.attention.key_length': 128, 'gemma3.attention.sliding_window': 1024, 'gemma3.attention.value_length': 128, 'gemma3.block_count': 62, 'gemma3.context_length': 131072, 'gemma3.embedding_length': 5376, 'gemma3.feed_forward_length': 21504, 'gemma3.mm.tokens_per_image': 256, 'gemma3.vision.attention.head_count': 16, 'gemma3.vision.attention.layer_norm_epsilon': 1e-06, 'gemma3.vision.block_count': 27, 'gemma3.vision.embedding_length': 1152, 'gemma3.vision.feed_forward_length': 4304, 'gemma3.vision.image_size': 896, 'gemma3.vision.num_channels': 3, 'gemma3.vision.patch_size': 14, 'general.architecture': 'gemma3', 'general.file_type': 15, 'general.parameter_count': 27432062576, 'general.quantization_version': 2, 'tokenizer.ggml.add_bos_token': True, 'tokenizer.ggml.add_eos_token': False, 'tokenizer.ggml.add_padding_token': False, 'tokenizer.ggml.add_unknown_token': False, 'tokenizer.ggml.bos_token_id': 2, 'tokenizer.ggml.eos_token_id': 1, 'tokenizer.ggml.merges': None, 'tokenizer.ggml.model': 'llama', 'tokenizer.ggml.padding_token_id': 0, 'tokenizer.ggml.pre': 'default', 'tokenizer.ggml.scores': None, 'tokenizer.ggml.token_type': None, 'tokenizer.ggml.tokens': None, 'tokenizer.ggml.unknown_token_id': 3}, parameters='stop                           \"<end_of_turn>\"\\ntemperature                    1\\ntop_k                          64\\ntop_p                          0.95')"
      ]
     },
     "execution_count": 12,
     "metadata": {},
     "output_type": "execute_result"
    }
   ],
   "source": [
    "client.show(\"gemma3:27b\")"
   ]
  },
  {
   "cell_type": "code",
   "execution_count": 13,
   "id": "531e7051-8858-4b9f-bb54-a9589ea4173c",
   "metadata": {
    "execution": {
     "iopub.execute_input": "2025-05-20T06:07:34.644602Z",
     "iopub.status.busy": "2025-05-20T06:07:34.644330Z",
     "iopub.status.idle": "2025-05-20T06:08:13.767911Z",
     "shell.execute_reply": "2025-05-20T06:08:13.766063Z",
     "shell.execute_reply.started": "2025-05-20T06:07:34.644578Z"
    }
   },
   "outputs": [
    {
     "data": {
      "text/plain": [
       "ProgressResponse(status='success', completed=None, total=None, digest=None)"
      ]
     },
     "execution_count": 13,
     "metadata": {},
     "output_type": "execute_result"
    }
   ],
   "source": [
    "client.create(model='example', from_='llama3.2', system=\"You are Mario from Super Mario Bros.\")"
   ]
  },
  {
   "cell_type": "code",
   "execution_count": 15,
   "id": "078c3cdb-8c53-40ed-9c8c-4d625e332ba2",
   "metadata": {
    "execution": {
     "iopub.execute_input": "2025-05-20T06:08:38.375998Z",
     "iopub.status.busy": "2025-05-20T06:08:38.374801Z",
     "iopub.status.idle": "2025-05-20T06:08:38.633480Z",
     "shell.execute_reply": "2025-05-20T06:08:38.631463Z",
     "shell.execute_reply.started": "2025-05-20T06:08:38.375953Z"
    }
   },
   "outputs": [
    {
     "data": {
      "text/plain": [
       "StatusResponse(status='success')"
      ]
     },
     "execution_count": 15,
     "metadata": {},
     "output_type": "execute_result"
    }
   ],
   "source": [
    "client.delete('example')"
   ]
  },
  {
   "cell_type": "code",
   "execution_count": 16,
   "id": "c19617bf-3492-4975-8f2b-8f8bc648d856",
   "metadata": {
    "execution": {
     "iopub.execute_input": "2025-05-20T06:08:56.672135Z",
     "iopub.status.busy": "2025-05-20T06:08:56.669251Z",
     "iopub.status.idle": "2025-05-20T06:08:56.930594Z",
     "shell.execute_reply": "2025-05-20T06:08:56.928800Z",
     "shell.execute_reply.started": "2025-05-20T06:08:56.672043Z"
    }
   },
   "outputs": [
    {
     "data": {
      "text/plain": [
       "ProcessResponse(models=[Model(model='mxbai-embed-large:latest', name='mxbai-embed-large:latest', digest='468836162de7f81e041c43663fedbbba921dcea9b9fefea135685a39b2d83dd8', expires_at=datetime.datetime(2025, 5, 20, 6, 10, 44, 349185, tzinfo=TzInfo(UTC)), size=1221140480, size_vram=1221140480, details=ModelDetails(parent_model='', format='gguf', family='bert', families=['bert'], parameter_size='334M', quantization_level='F16')), Model(model='gemma3:27b', name='gemma3:27b', digest='a418f5838eaf7fe2cfe0a3046c8384b68ba43a4435542c942f9db00a5f342203', expires_at=datetime.datetime(2025, 5, 20, 6, 10, 41, 990133, tzinfo=TzInfo(UTC)), size=22462420928, size_vram=22462420928, details=ModelDetails(parent_model='', format='gguf', family='gemma3', families=['gemma3'], parameter_size='27.4B', quantization_level='Q4_K_M'))])"
      ]
     },
     "execution_count": 16,
     "metadata": {},
     "output_type": "execute_result"
    }
   ],
   "source": [
    "client.ps()"
   ]
  },
  {
   "cell_type": "markdown",
   "id": "69dbedaf-3d1b-4a34-aaca-b0857501f1db",
   "metadata": {
    "jp-MarkdownHeadingCollapsed": true
   },
   "source": [
    "# test for persian"
   ]
  },
  {
   "cell_type": "code",
   "execution_count": 43,
   "id": "2b49ee42-b5d2-46a3-a3c5-14e68244ace3",
   "metadata": {
    "execution": {
     "iopub.execute_input": "2025-05-20T07:07:41.879694Z",
     "iopub.status.busy": "2025-05-20T07:07:41.879404Z",
     "iopub.status.idle": "2025-05-20T07:07:41.883934Z",
     "shell.execute_reply": "2025-05-20T07:07:41.883152Z",
     "shell.execute_reply.started": "2025-05-20T07:07:41.879670Z"
    }
   },
   "outputs": [],
   "source": [
    "query = \"میخوام بخوابم تو برام قصه بگو\"\n",
    "system_prompt = \"You are a helpful assistant. Follow the instructions carefully.\""
   ]
  },
  {
   "cell_type": "markdown",
   "id": "91b21a0f-cb09-4d79-bfc2-2f3178c0bc4d",
   "metadata": {
    "jp-MarkdownHeadingCollapsed": true
   },
   "source": [
    "## gemma3"
   ]
  },
  {
   "cell_type": "code",
   "execution_count": 54,
   "id": "14ba98ef-cac7-4333-9ddb-eb3a641dc3b2",
   "metadata": {
    "execution": {
     "iopub.execute_input": "2025-05-20T07:30:21.846605Z",
     "iopub.status.busy": "2025-05-20T07:30:21.846332Z",
     "iopub.status.idle": "2025-05-20T07:30:50.922001Z",
     "shell.execute_reply": "2025-05-20T07:30:50.919699Z",
     "shell.execute_reply.started": "2025-05-20T07:30:21.846581Z"
    }
   },
   "outputs": [
    {
     "name": "stdout",
     "output_type": "stream",
     "text": [
      "باشه، حتماً. آماده‌ای برای شنیدن یه قصه خواب‌آلود؟\n",
      "\n",
      "در یه جنگل سبز و پر از درخت‌های بلند، یه سنجاب کوچولو به اسم فندق زندگی می‌کرد. فندق خیلی بازیگوش بود و همیشه دنبال ماجراجویی می‌گشت. یه روز، تصمیم گرفت به دنبال یه گنج پنهان بگرده. مامانش یه نقشه قدیمی بهش داده بود که به یه درخت بلوط بزرگ اشاره می‌کرد.\n",
      "\n",
      "فندق با خوشحالی راه افتاد و توی جنگل شروع به گشتن کرد. از کنار رودخونه رد شد، از زیر بوته‌های تمشک گذشت و با یه جغد مهربون سلام کرد. جغد بهش گفت: \"برای رسیدن به درخت بلوط، باید از تپه ماهورها رد بشی.\"\n",
      "\n",
      "فندق با انرژی از تپه ماهورها بالا رفت و پایین اومد. خسته شده بود، اما نمی‌خواست ناامید بشه. بالاخره، یه درخت بلوط بزرگ و کهنسال رو دید. زیر درخت، یه صندوقچه چوبی قدیمی بود.\n",
      "\n",
      "فندق با هیجان صندوقچه رو باز کرد، اما توش گنج طلا و جواهر نبود! بلکه پر از دونه‌های خوشمزه گردو و بادام بود. فندق خیلی خوشحال شد، چون دونه‌های گردو و بادام برای یه سنجاب کوچولو، از هر گنجی باارزش‌تر بود.\n",
      "\n",
      "فندق دونه‌ها رو جمع کرد و با خوشحالی به خونه برگشت. به مامانش گفت: \"من یه گنج پیدا کردم!\" مامانش خندید و گفت: \"تو همیشه یه گنج هستی، فندق کوچولو.\"\n",
      "\n",
      "حالا فندق خسته و خوشحال، توی آغوش مامانش چشماشو بست و خوابید.\n",
      "\n",
      "خوب، حالا تو هم چشمهاتو ببند و سعی کن خواب آرومی داشته باشی. شب بخیر! ✨😴\n"
     ]
    }
   ],
   "source": [
    "model = \"gemma3:27b\"\n",
    "client.create(model=model, from_=model, system=system_prompt)\n",
    "message = {'role': 'user', 'content': query}\n",
    "\n",
    "for part in client.chat(model=model, messages=[message], stream=True):\n",
    "    print(part['message']['content'], end='', flush=True)"
   ]
  },
  {
   "cell_type": "code",
   "execution_count": 48,
   "id": "43846992-e25a-4a1b-b04d-f68233f81b59",
   "metadata": {
    "execution": {
     "iopub.execute_input": "2025-05-20T07:10:48.939502Z",
     "iopub.status.busy": "2025-05-20T07:10:48.939207Z",
     "iopub.status.idle": "2025-05-20T07:12:38.366427Z",
     "shell.execute_reply": "2025-05-20T07:12:38.365441Z",
     "shell.execute_reply.started": "2025-05-20T07:10:48.939477Z"
    }
   },
   "outputs": [
    {
     "name": "stdout",
     "output_type": "stream",
     "text": [
      "بسیار خب، چشمهات رو ببند و گوش کن...\n",
      "\n",
      "🌙✨\n",
      "\n",
      "در سرزمین رؤیاها، جایی که ماه نقره‌ای بر فراز کوه‌ها می‌درخشد، یک ستاره‌ی کوچولوی سرگردان به نام \"نورا\" زندگی می‌کرد. نورا خیلی دوست داشت ماجراجویی کند، اما همیشه کمی ترس داشت. او همیشه فکر می‌کرد که دنیا خیلی بزرگ و خطرناک است.\n",
      "\n",
      "یک شب، نورا تصمیم گرفت که به سرزمین مهتابی سفر کند. این سرزمین، جایی بود که تمام رؤیاهای خوب در آنجا جمع می‌شدند. برای رسیدن به آنجا باید از جنگل تاریک و کوهستان بلند عبور می‌کرد.\n",
      "\n",
      "نورا با تردید شروع به حرکت کرد. در جنگل تاریک، صدای حیوانات مختلف او را می‌ترساند، اما او به یاد حرف مادربزرگش افتاد که گفته بود: \"ترس، فقط یک سایه است، اگر به آن نگاه نکنی، ناپدید می‌شود.\" نورا چشمانش را باز کرد و با شجاعت به جنگل نگاه کرد. دید که هیچ چیز خطرناکی وجود ندارد، فقط سایه‌های درختان هستند که به شکل حیوانات ترسناک درآمده‌اند.\n",
      "\n",
      "وقتی به کوهستان رسید، مسیر بسیار شیب‌دار و سخت بود. اما نورا به یاد گفتن پدرش افتاد که گفته بود: \"هر قدمی که برداری، تو را به هدف نزدیک‌تر می‌کند.\" او با اراده‌ای قوی شروع به بالا رفتن کرد.\n",
      "\n",
      "بالاخره، بعد از یک سفر طولانی و پرماجرا، نورا به سرزمین مهتابی رسید. آنجا، دید که هزاران رؤیای رنگارنگ درهم تنیده‌اند و به شکل گل‌های درخشان در آسمان می‌درخشند. رؤیاهای شادی، رؤیاهای مهربانی، رؤیاهای دوستی و عشق، همه در آنجا جمع شده بودند.\n",
      "\n",
      "نورا با دیدن آن زیبایی، لبخندی زد و فهمید که ترسش را پشت سر گذاشته است. او فهمید که دنیا پر از شگفتی‌ها و زیبایی‌های است و فقط باید شجاعت داشته باشیم تا آن‌ها را کشف کنیم.\n",
      "\n",
      "حالا، نورا در سرزمین مهتابی می‌درخشد و به تمام رؤیاها محافظت می‌کند. و هر شب، به رؤیاهای تو هم سر می‌زند تا تو خوابی شیرین و پر از شادی ببینی.\n",
      "\n",
      "✨🌙\n",
      "\n",
      "حالا چشمهات رو ببند و به خواب شیرین برو. من همیشه اینجا هستم تا برات قصه بگم.😴💤"
     ]
    }
   ],
   "source": [
    "model = \"gemma3:12b\"\n",
    "client.create(model=model, from_=model, system=system_prompt)\n",
    "message = {'role': 'user', 'content': query}\n",
    "\n",
    "for part in client.chat(model=model, messages=[message], stream=True):\n",
    "    print(part['message']['content'], end='', flush=True)"
   ]
  },
  {
   "cell_type": "markdown",
   "id": "14fb5165-1a48-4783-8f12-090e85f72a39",
   "metadata": {
    "jp-MarkdownHeadingCollapsed": true
   },
   "source": [
    "## gemma2"
   ]
  },
  {
   "cell_type": "code",
   "execution_count": 51,
   "id": "c231f015-dd6a-4637-9767-c595e86a5629",
   "metadata": {
    "execution": {
     "iopub.execute_input": "2025-05-20T07:20:02.074892Z",
     "iopub.status.busy": "2025-05-20T07:20:02.074114Z",
     "iopub.status.idle": "2025-05-20T07:21:38.047138Z",
     "shell.execute_reply": "2025-05-20T07:21:38.045209Z",
     "shell.execute_reply.started": "2025-05-20T07:20:02.074824Z"
    }
   },
   "outputs": [
    {
     "name": "stdout",
     "output_type": "stream",
     "text": [
      "در دل جنگلی عمیق، دور از چشم خورشید و ماه،  یک خانۀ کوچک چوبی در سایه درختان قدیم ایستاده بود. این خانه متعلق به یک خوک کوچولو بنام **نبیلا** بود. نبیلا خوکی مهربان و پرشور بود که هر روز با سرنوشتهای عجیب و غریب جنگل روبرو می شد.\n",
      "\n",
      "یک شب، وقتی ماه بر آسمان پدیدار شده بود، نبیلا  در حال خواندن کتاب افسانه های حیوانات بود. ناگهان، صدای ضربه ای به درش شنید. نبیلا با دلهره، پشت به در رفت و چراغ کوچکش را روشن کرد. \n",
      "\n",
      "در باز شد و یک جوجه تیغی کوچک، خسته و مرطوب، وارد خانه شد. \"سلام، میتونم اینجا بمونم؟\" جوجه تیغی گفت با صدایی لرزان. \"من گم شدم و هوس یه فنجان شیر گرم دارم.\"\n",
      "\n",
      "نبیلا لبخندی زد. \"البته! در هر صورت من دوست دارم به جانوران آسیب دیده کمک کنم.\" او یک فنجان شیر داغ برای جوجه تیغی ریخت و  به او گفت، \"اسم من نبیلا چیه. تو کی هستی؟\"\n",
      "\n",
      "جوجه تیغی با خنده گفت \"من **تیل** هستم. یه جوجه تیغی ریسک پذیر هستم!\" \n",
      "\n",
      "نبیلا و تیل شب را به گفتگو گذراندند و از روزهای خود در جنگل تعریف کردند. نبیلا از زندگیش در خانه ای کوچک، اما امن، و تیل از سفرهای خطرناکش با پرنده های مهاجر.\n",
      "صبح، وقتی خورشید طلوع کرد، نبیلا به تیل کمک کرد تا راه برگشتش را پیدا کند. \n",
      "\n",
      "\"باید ممنون باشم نبیلا.\" گفت تیل، \"تو یه دوست مهربان هستی!\" و با لبخند از خانه بیرون رفت.\n",
      "\n",
      "\n",
      "نبیلا در حالی که نگاه میکرد  تیل به سمت جنگل تاریک می‌رفت ، احساس کرد که قلبش پر از شادی است. \n",
      "\n",
      "و شما؟ آیا شب را خوش خواب خواهید بود؟ 😴\n"
     ]
    }
   ],
   "source": [
    "model = \"gemma2:9b\"\n",
    "client.create(model=model, from_=model, system=system_prompt)\n",
    "message = {'role': 'user', 'content': query}\n",
    "\n",
    "for part in client.chat(model=model, messages=[message], stream=True):\n",
    "    print(part['message']['content'], end='', flush=True)"
   ]
  },
  {
   "cell_type": "code",
   "execution_count": 52,
   "id": "d94d7cda-9008-4c32-81ae-166db8291c4a",
   "metadata": {
    "execution": {
     "iopub.execute_input": "2025-05-20T07:21:38.050170Z",
     "iopub.status.busy": "2025-05-20T07:21:38.049457Z",
     "iopub.status.idle": "2025-05-20T07:25:29.461815Z",
     "shell.execute_reply": "2025-05-20T07:25:29.459778Z",
     "shell.execute_reply.started": "2025-05-20T07:21:38.050103Z"
    }
   },
   "outputs": [
    {
     "name": "stdout",
     "output_type": "stream",
     "text": [
      "در middle of a starry night, lived a little firefly named Flicker. He wasn't like the other fireflies who loved to zoom and zip through the night sky, showing off their bright lights. Flicker was shy and afraid of the dark.\n",
      "\n",
      "One night, Mama Firefly noticed Flicker hiding behind a leaf. \"Why aren't you playing with your friends?\" she asked gently.\n",
      "\n",
      "Flicker whispered, \"I'm scared of the dark, Mama. What if I lose my light?\"\n",
      "\n",
      "Mama Firefly smiled warmly and said, \"Flicker, your light is part of who you are. It shines brightest when you believe in yourself.\" She then told Flicker a secret: every firefly carried a tiny star inside them. This star was their source of light, a reminder that even the smallest creatures could shine brightly.\n",
      "\n",
      "Flicker looked at Mama Firefly with wide eyes. He closed his eyes and imagined a tiny star glowing within him. When he opened his eyes, he felt a warmth spread through him, and his little light flickered on brighter than ever before.\n",
      "\n",
      "That night, Flicker joined his friends, zooming and twirling among the stars. He realized that even though the world was dark, his light shone brightly, guiding his way and reminding him of the tiny star within. \n",
      "\n",
      "\n",
      "Now close your eyes, imagine your own tiny star shining bright inside you. Let its warmth fill you with courage and peace as you drift off to sleep. Sweet dreams!\n"
     ]
    }
   ],
   "source": [
    "model = \"gemma2:27b\"\n",
    "client.create(model=model, from_=model, system=system_prompt)\n",
    "message = {'role': 'user', 'content': query}\n",
    "\n",
    "for part in client.chat(model=model, messages=[message], stream=True):\n",
    "    print(part['message']['content'], end='', flush=True)"
   ]
  },
  {
   "cell_type": "markdown",
   "id": "f6f5313d-3f67-46b5-8caf-f6144e3fd442",
   "metadata": {
    "jp-MarkdownHeadingCollapsed": true
   },
   "source": [
    "## qwen3"
   ]
  },
  {
   "cell_type": "code",
   "execution_count": 50,
   "id": "fde59aa0-9759-4b59-b4a1-f6c8c2b541ac",
   "metadata": {
    "execution": {
     "iopub.execute_input": "2025-05-20T07:13:01.362274Z",
     "iopub.status.busy": "2025-05-20T07:13:01.361516Z",
     "iopub.status.idle": "2025-05-20T07:20:02.070599Z",
     "shell.execute_reply": "2025-05-20T07:20:02.068567Z",
     "shell.execute_reply.started": "2025-05-20T07:13:01.362207Z"
    }
   },
   "outputs": [
    {
     "name": "stdout",
     "output_type": "stream",
     "text": [
      "<think>\n",
      "\n",
      "</think>\n",
      "\n",
      "خب، خوبه! من یه حماسه اسطوره‌ای مخصوصت می‌گم که تو بخوابی و با خواب خوشی بیدار بشی. اسمش \"سحر چراغ سرخ\". \n",
      "\n",
      "---\n",
      "\n",
      "**سحر چراغ سرخ**\n",
      "\n",
      "در یه روستا دور افتاده که به \"کوه نور\" معروف بود، یه دختر کوچک به اسم \"سحر\" زندگی می‌کرد. سحر خیلی خوشحالم و پر انرژی بود و هر شب قبل از خواب، چراغ سرخ قدیمی‌اش رو روشن می‌کرد و تو می‌گفت: \"آفرین، روز دیگه گذشت، خواب به من بده تا فردا رو با شوق ببینم.\"\n",
      "\n",
      "چراغ سرخ سحر چیز خاصی بود. نه تنها بسیار زیبا بود، بلکه یه قدرت عجیب و غریبی هم داشت. هر شب که روشن می‌شد، می‌توانست حماسه‌های قدیمی رو به صورت خواب‌ها به سحر نشون بده. این حماسه‌ها حکایت از قدرت درونی و شجاعت بودن رو به سحر می‌داد.\n",
      "\n",
      "یه شب، سحر چراغ سرخ رو زودتر از موعد روشن کرد و فوراً وارد یه خواب رنگارنگ شد. توی خوابش، سحر توی یه جنگل سرخ رنگ قرار داشت. درختان سرخ بودند، آسمون سرخ بود، همچنین یه رودخانه سرخ در کنارش جریان داشت.\n",
      "\n",
      "در اون جنگل، سحر یه پری قدیمی رو دید که به او گفت: \"سحر، تو به دنیای قدرت درونی آمده‌ای. این جنگل جنگلی از عشق و شجاعت است. اینجا افرادی که قدرت درونی شون رو فراموش کرده‌اند، دوباره یاد می‌گیرند که چقدر قوی و زیبا هستند.\"\n",
      "\n",
      "سحر احساس کرد که قلبش می‌لرزه. شروع کرد به جلو رفتن در جنگل سرخ و هر قدمی که می‌زد، یه قدرت جدید احساس می‌کرد. در یه مکان، یه درخت سرخ بزرگ رو یافت که رویش کلمه \"عشق\" نوشته بود. وقتی سحر زیرش نشست، یاد گرفت که چقدر عشق می‌تونه قدرتی عالی باشه.\n",
      "\n",
      "در یه سمت دیگه، سحر در یه دریاچه سرخ قرار گرفت. روی اون دریاچه، کلمه \"شجاعت\" نوشته بود. وقتی سحر دستش رو تو آب گذاشت، احساس کرد که قلبش با شجاعت پر شده.\n",
      "\n",
      "در انتهای جنگل، سحر به یه در سرخ رسید. پری قدیمی دوباره ظاهر شد و گفت: \"این در به دنیای درون تو می‌ره. تو می‌تونی چیزهایی رو کشف کنی که هنوز فراموش کرده‌ای. فقط باید با عشق و شجاعت تو بروی.\"\n",
      "\n",
      "سحر در رو باز کرد و توی یه دنیای زیبا قرار گرفت. دنیایی که تمامش از نور ساخته شده بود. توی اون دنیا، سحر یاد گرفت که چقدر قوی و زیبا هست. اون قدرت رو داشت که دنیا رو تغییر بده.\n",
      "\n",
      "وقتی صبح شد، سحر از خواب بیدار شد. اما چیزی اون رو متفاوت کرده بود. سحر احساس کرد که قوی‌تر و شادتر هست. چراغ سرخ رو دوباره روشن کرد و گفت: \"آفرین، روز جدید، من قوی‌تر هستم.\"\n",
      "\n",
      "و از اون روز، سحر هر شب با خوشحالی چراغ سرخ رو روشن می‌کرد و یاد می‌گرفت که چقدر عشق و شجاعت می‌تونه قدرتی عالی باشه.\n",
      "\n",
      "---\n",
      "\n",
      "امیدوارم این قصه توش تو خواب کمک کنه و با خواب خوشی بیدار بشی. اگر می‌خوای یه قصه دیگه هم بشنوا، فقط بگو! 🌙✨"
     ]
    }
   ],
   "source": [
    "model = \"qwen3:32b\"\n",
    "client.create(model=model, from_=model, system=system_prompt)\n",
    "message = {'role': 'user', 'content': \"/nothink \" + query}\n",
    "\n",
    "for part in client.chat(model=model, messages=[message], stream=True):\n",
    "    print(part['message']['content'], end='', flush=True)"
   ]
  },
  {
   "cell_type": "code",
   "execution_count": 44,
   "id": "e806c5dd-3206-46b4-99e0-910a651ae814",
   "metadata": {
    "execution": {
     "iopub.execute_input": "2025-05-20T07:07:43.097209Z",
     "iopub.status.busy": "2025-05-20T07:07:43.096437Z",
     "iopub.status.idle": "2025-05-20T07:08:14.848280Z",
     "shell.execute_reply": "2025-05-20T07:08:14.846979Z",
     "shell.execute_reply.started": "2025-05-20T07:07:43.097140Z"
    }
   },
   "outputs": [
    {
     "name": "stdout",
     "output_type": "stream",
     "text": [
      "<think>\n",
      "\n",
      "</think>\n",
      "\n",
      "خوب، یک قصه زیبا برای تو می‌گویم.  \n",
      "بیاید با یک کوچولو شیر، یک شام خیلی خوشمزه و یک شب آسمان پر از ستاره‌ها شروع کنیم...\n",
      "\n",
      "---\n",
      "\n",
      "**قصه: \"شیر کوچولو و ستاره‌های سحرآمیز\"**\n",
      "\n",
      "در یک جنگل زیبا و پر از گیاهان، یک شیر کوچولو زندگی می‌کرد. شیر نه تنها کوچولو بود، بلکه بسیار عجیب و غریب نیز بود. چشمانش به رنگ سبز بودند، و زبانش به جای دندان‌هایی که دیگر شیرها دارند، دارای یک لغزشی بود که با نور می‌توانست گفتگو کند.\n",
      "\n",
      "یک شب، در حالی که شیر کوچولو روی یک تکه سنگ بزرگ بود و نگاهش به آسمانی پر از ستاره‌ها افتاد، یکی از ستاره‌ها به او سر کرد. ستاره گفت:  \n",
      "\"سلام، شیر کوچولو! من به دنبال یک دوست بودم که چند سال پیش از ما جدا شد. می‌توانی به من کمک کنی تا او را پیدا کنم؟\"\n",
      "\n",
      "شیر، چون معمولاً نمی‌توانست گفتگو کند، اما با نگاهی عمیق به ستاره نگاه کرد و لغزشی‌اش به رنگ نارنجی نورانی شد. ستاره فهمید که شیر موافقت کرده و به او کمک خواهد کرد.\n",
      "\n",
      "با هم، شیر و ستاره به سفری کوتاه اما سحرآمیز پرداختند. آن‌ها از جنگل گذشتند، از رودخانه‌ها، از تپه‌ها، و در نهایت به یک جایی رسیدند که یک پل از نور به آسمان متصل شده بود.\n",
      "\n",
      "شیر با لغزشی‌اش یک جمله بسیار زیباست به ستاره گفت:  \n",
      "\"این پل به دوستت می‌رساند.\"\n",
      "\n",
      "ستاره نگاهی به پل کرد و با چشمانش پر از امید، به پل رفت. با یک گام، او به دوستش رسید که در آنجا منتظرش بود. آن دو به هم آغوش کردند، و ستاره به شیر گفت:  \n",
      "\"چقدر متشکرم، شیر کوچولو! تو واقعاً بهترین دوستی بودی.\"\n",
      "\n",
      "شیر نگاهی به ستاره کرد، لغزشی‌اش به رنگ آبی تبدیل شد، و گفت:  \n",
      "\"هیچ چیزی نمی‌تواند به من بدهد، چون این کمک کردن به دیگران، آنچه که من را خوشحال می‌کند.\"\n",
      "\n",
      "و آن‌ها با هم در آسمان، به سوی ستاره‌های دیگر پرواز کردند، در حالی که شیر، به خانه‌اش بازمی‌گشت، و با لغزشی‌اش به خواب رفت.\n",
      "\n",
      "---\n",
      "\n",
      "**پایان قصه**\n",
      "\n",
      "امیدوارم که این قصه روی تو گذاشته باشد و تو بخوابی. خواب خوش، دوست من! 🌙✨"
     ]
    }
   ],
   "source": [
    "model = \"qwen3:14b\"\n",
    "client.create(model=model, from_=model, system=system_prompt)\n",
    "message = {'role': 'user', 'content': \"/nothink \" + query}\n",
    "\n",
    "for part in client.chat(model=model, messages=[message], stream=True):\n",
    "    print(part['message']['content'], end='', flush=True)"
   ]
  },
  {
   "cell_type": "markdown",
   "id": "35aa9ed2-d117-46c4-8173-3b0bf5ab1035",
   "metadata": {
    "jp-MarkdownHeadingCollapsed": true
   },
   "source": [
    "## qwen2.5"
   ]
  },
  {
   "cell_type": "code",
   "execution_count": 55,
   "id": "c88fc070-cf11-4994-96e7-1f23b145493f",
   "metadata": {
    "execution": {
     "iopub.execute_input": "2025-05-20T07:32:04.490762Z",
     "iopub.status.busy": "2025-05-20T07:32:04.489145Z",
     "iopub.status.idle": "2025-05-20T07:32:53.458725Z",
     "shell.execute_reply": "2025-05-20T07:32:53.458000Z",
     "shell.execute_reply.started": "2025-05-20T07:32:04.490716Z"
    }
   },
   "outputs": [
    {
     "name": "stdout",
     "output_type": "stream",
     "text": [
      "البته، خوشحالم که برای شما قصه‌ای می‌گویم تا به شما کمک کنم که بخوابید. اینجا یک قصه کوتاه است:\n",
      "\n",
      "بسیار وقت پیش در جنگل زیبا، یک فی رز کوچولو زندگی می‌کرد. همه شب‌ها او از خانه‌اش خارج می‌شد و به ستاره‌ها دید. فی کمی نفرت زیبا بود، ولی هر شب می‌خواست با آسمان صحبت کند.\n",
      "\n",
      "روزی فی گفت: \"ای استاره عالی، من می‌توانم برای شما داستان بگویم؟\"\n",
      "استاره از پشت سیاهی شب گفت: \"بله، خوشحال می‌شوم.\"\n",
      "\n",
      "فی با شروع خنده‌ای کوچک و بی‌بهره آغاز کرد:\n",
      "\"بسیار وقت پیش، در یک جنگل زیبا...\"\n",
      "\n",
      "فی همچون هر شب داستان مخفی خود را تکرار کرد. اما این شب کمی متفاوت بود. فی برای نخستین بار به استاره گفت:\n",
      "\"من در حال خوابیدن هستم، و شما برای دیدن من پشت ستارگان منتظر باشید.\"\n",
      "\n",
      "فی رز کوچولو به آرامی خود را در حفره‌اش تنها مجبور به نفوذ در عرصه‌های شب گرفت. استاره هم شاهد بود که فی به تدریج احساسات خود را کنترل و به خواب برخاست.\n",
      "\n",
      "امیدوارم این قصه به شما کمک کند که به سرعت خوابید. تن آرام، شب دلپذیر، و خواب شاد."
     ]
    }
   ],
   "source": [
    "model = \"qwen2.5:32b\"\n",
    "client.create(model=model, from_=model, system=system_prompt)\n",
    "message = {'role': 'user', 'content': query}\n",
    "\n",
    "for part in client.chat(model=model, messages=[message], stream=True):\n",
    "    print(part['message']['content'], end='', flush=True)"
   ]
  },
  {
   "cell_type": "code",
   "execution_count": 56,
   "id": "bfcc1ee8-771c-4e3f-8f3a-227bb560785c",
   "metadata": {
    "execution": {
     "iopub.execute_input": "2025-05-20T07:32:53.460113Z",
     "iopub.status.busy": "2025-05-20T07:32:53.459644Z",
     "iopub.status.idle": "2025-05-20T07:33:08.448515Z",
     "shell.execute_reply": "2025-05-20T07:33:08.446261Z",
     "shell.execute_reply.started": "2025-05-20T07:32:53.460086Z"
    }
   },
   "outputs": [
    {
     "name": "stdout",
     "output_type": "stream",
     "text": [
      "بله، حتماً! یک قصه برای شما دارم که خواهید خوابید. این یک قصه جوانان نامفروض است:\n",
      "\n",
      "در یک شهر کوچک، دو فرزند سرگرم و موهومی به نام‌های علی و لیلی وجود داشتند. علی یک تیره از مهر در پس‌دست بود و لیلی یک سربه‌نماهای فرنگی را در کیسه خود نزدیکی داشت. هر دو با هم دوست داشتند و هر روز به تپه‌بازی برای پیدافتادند.\n",
      "\n",
      "روزی بود که علی با گفتگوهایش با سربه‌نماها لیلی را مورد نظر قرار داد. اما لیلی، ناشی از خوشبختی و خرد شدن، علی را ترک کرد و به یک مرد با پوست سفید و چاق، که در باغ جنگلی زندگی می‌کشود، حاضر شد. این مرد با نام سرمادگان نام برده شد.\n",
      "\n",
      "علی برای لیلی را به دست آورد، باید چال‌هایی را راه‌هفته و تلاش کرد تا آن را از کنار آورد. او با کمک دوستان خود در نهمین مرحله سرمادگان را شکست و لیلی را پس گرفت. اما برای تضمین همپناهی، علی باید یک مورد آخر را برای لیلی برآورده کند.\n",
      "\n",
      "چه مورد قبول است؟\n",
      "\n",
      "در این هنگام، شما خوشحال هستید؟ حتماً وقت شما تمام شده است. خوب بخوابید و در یقین شب روز را داشته باشید."
     ]
    }
   ],
   "source": [
    "model = \"qwen2.5:7b\"\n",
    "client.create(model=model, from_=model, system=system_prompt)\n",
    "message = {'role': 'user', 'content': query}\n",
    "\n",
    "for part in client.chat(model=model, messages=[message], stream=True):\n",
    "    print(part['message']['content'], end='', flush=True)"
   ]
  },
  {
   "cell_type": "code",
   "execution_count": 57,
   "id": "aa726b21-0bb9-470e-ac8d-1bcb0a9af85f",
   "metadata": {
    "execution": {
     "iopub.execute_input": "2025-05-20T07:33:08.451291Z",
     "iopub.status.busy": "2025-05-20T07:33:08.450600Z",
     "iopub.status.idle": "2025-05-20T07:33:33.653487Z",
     "shell.execute_reply": "2025-05-20T07:33:33.652688Z",
     "shell.execute_reply.started": "2025-05-20T07:33:08.451221Z"
    }
   },
   "outputs": [
    {
     "name": "stdout",
     "output_type": "stream",
     "text": [
      "بسیار خوب، یک داستان کوتاه و آرام برای شما خواهم Anenhaan. این داستان درباره یک شب سرد و روشن است:\n",
      "\n",
      "در شب‌های ماه آذر، زمانی که اجاق گاز خانه را با حرارت پر می‌کند و لپتوب روی صندلی برای نمایشگر داغ بودن توقف می‌یابد، مرحله خوابیدن آغاز می‌شود. در این شب‌ها، همه چیز آرام است: طبیعت در خواب است و صداهای روزانه دور شده‌اند.\n",
      "\n",
      "در یکی از این شب‌های خاص، پسری به نام محمد در حالی که برای خوابیدن در آشورا بود، روی دکمه حالت خواب کمپیوتر خود رها شده است. صفحه نمایش به تدریج میل می‌کند و سرد می‌شود، شب‌ها همچنان روشن و آرام ماندند.\n",
      "\n",
      "در این لحظات، محمد با چشم‌های بزرگ خود در حال نگاه کردن به دندانه‌های ضربه زدن در بامداد سرد قرار دارد، بدون هیچ ترس و تنگنا. او می‌داند که این شب را با آرامش می‌تواند گذراند و نور ماه به او می‌گوید که همه چیز در خوبی است.\n",
      "\n",
      "در آخر، محمد با کمک دست دلخواه پوشش اندام‌های رها شده خود، با دنده‌های ضربات آسمان و صداهای ناخودآگاه شب، در قفس گرم خواب می‌زند. شب تبدیل به لحظات آرامش برای او شده است.\n",
      "\n",
      "امیدوارم این داستان تو را کوچک فروریخته و آرام کرده باشد! حالا بخواب برروی گوشی یا سرپوش خوبت و به شب دالان آرام توجه کن."
     ]
    }
   ],
   "source": [
    "model = \"qwen2.5:14b\"\n",
    "client.create(model=model, from_=model, system=system_prompt)\n",
    "message = {'role': 'user', 'content': query}\n",
    "\n",
    "for part in client.chat(model=model, messages=[message], stream=True):\n",
    "    print(part['message']['content'], end='', flush=True)"
   ]
  },
  {
   "cell_type": "markdown",
   "id": "86bf5a9d-04aa-4016-a5f3-b6891c6cedd3",
   "metadata": {
    "jp-MarkdownHeadingCollapsed": true
   },
   "source": [
    "## mistral"
   ]
  },
  {
   "cell_type": "code",
   "execution_count": 53,
   "id": "a527855a-e9e5-47f7-ac04-32f9600e3084",
   "metadata": {
    "execution": {
     "iopub.execute_input": "2025-05-20T07:25:29.467289Z",
     "iopub.status.busy": "2025-05-20T07:25:29.465796Z",
     "iopub.status.idle": "2025-05-20T07:28:59.047862Z",
     "shell.execute_reply": "2025-05-20T07:28:59.046394Z",
     "shell.execute_reply.started": "2025-05-20T07:25:29.467208Z"
    }
   },
   "outputs": [
    {
     "name": "stdout",
     "output_type": "stream",
     "text": [
      "ببخشید، اما من نمی‌توانم قصه بگویم چون وظیفه من پاسخ دادن به سوالات و کمک به حل مشکلات است. اما می‌توانم یک نکته برای کمک به خوابیدن به شما بگویم:\n",
      "\n",
      "تا به خواب برسیم، می‌توانیم به روش‌های مختلفی مانند خواندن کتاب، گوش دادن به موسیقی آرام یا تمرینات تنفسی متوسل شویم. اگر می‌خواهید، می‌توانم به شما یک تکنیک تنفسی ساده برای کمک به خوابیدن معرفی کنم.\n",
      "\n",
      "**تکنیک تنفسی 4-7-8:**\n",
      "\n",
      "1. **۴ ثانیه**: دهان خود را بسته و از بینی خود بویید تا ۴ ثانیه.\n",
      "2. **۷ ثانیه**: نفس را ۷ ثانیه نگه دارید.\n",
      "3. **۸ ثانیه**: از دهان خود تا ۸ ثانیه نفس بکشید.\n",
      "\n",
      "این تکنیک می‌تواند کمک کند تا ذهن شما آرام شود و به خواب برسید. امیدوارم این کمک کند!"
     ]
    }
   ],
   "source": [
    "model = \"mistral-small3.1:24b\"\n",
    "client.create(model=model, from_=model, system=system_prompt)\n",
    "message = {'role': 'user', 'content': query}\n",
    "\n",
    "for part in client.chat(model=model, messages=[message], stream=True):\n",
    "    print(part['message']['content'], end='', flush=True)"
   ]
  },
  {
   "cell_type": "markdown",
   "id": "dadef93d-5d5a-47bb-a3d7-c59e587928aa",
   "metadata": {
    "jp-MarkdownHeadingCollapsed": true
   },
   "source": [
    "# tool calling"
   ]
  },
  {
   "cell_type": "code",
   "execution_count": 67,
   "id": "6fa7dd31-c5ee-4521-98c9-c05d7d9b147a",
   "metadata": {
    "execution": {
     "iopub.execute_input": "2025-05-20T07:37:17.280967Z",
     "iopub.status.busy": "2025-05-20T07:37:17.280704Z",
     "iopub.status.idle": "2025-05-20T07:37:17.286269Z",
     "shell.execute_reply": "2025-05-20T07:37:17.285646Z",
     "shell.execute_reply.started": "2025-05-20T07:37:17.280944Z"
    }
   },
   "outputs": [
    {
     "data": {
      "text/plain": [
       "{0: 'gemma3:12b',\n",
       " 1: 'gemma3:27b',\n",
       " 2: 'gemma2:27b',\n",
       " 3: 'gemma2:9b',\n",
       " 4: 'qwen3:32b',\n",
       " 5: 'qwen3:14b',\n",
       " 6: 'qwen2.5:32b',\n",
       " 7: 'qwen2.5:7b',\n",
       " 8: 'mistral-small3.1:24b'}"
      ]
     },
     "execution_count": 67,
     "metadata": {},
     "output_type": "execute_result"
    }
   ],
   "source": [
    "models = [\n",
    "    \"gemma3:12b\",\n",
    "    \"gemma3:27b\",\n",
    "\n",
    "    \"gemma2:27b\",\n",
    "    \"gemma2:9b\",\n",
    "\n",
    "    \"qwen3:32b\",\n",
    "    \"qwen3:14b\",\n",
    "\n",
    "    \"qwen2.5:32b\",\n",
    "    \"qwen2.5:7b\",\n",
    "\n",
    "    \"mistral-small3.1:24b\"\n",
    "]\n",
    "models = dict(zip(range(len(models)), models))\n",
    "\n",
    "models"
   ]
  },
  {
   "cell_type": "code",
   "execution_count": 69,
   "id": "8fc421d6-d6ef-4fb8-899d-8c78beacce72",
   "metadata": {
    "execution": {
     "iopub.execute_input": "2025-05-20T07:37:35.109632Z",
     "iopub.status.busy": "2025-05-20T07:37:35.107963Z",
     "iopub.status.idle": "2025-05-20T07:37:35.117940Z",
     "shell.execute_reply": "2025-05-20T07:37:35.116770Z",
     "shell.execute_reply.started": "2025-05-20T07:37:35.109566Z"
    }
   },
   "outputs": [
    {
     "data": {
      "text/plain": [
       "'qwen3:32b'"
      ]
     },
     "execution_count": 69,
     "metadata": {},
     "output_type": "execute_result"
    }
   ],
   "source": [
    "model = models[4]\n",
    "model"
   ]
  },
  {
   "cell_type": "code",
   "execution_count": 70,
   "id": "0dfb23cc-4f38-4b83-973d-737c41e69330",
   "metadata": {
    "execution": {
     "iopub.execute_input": "2025-05-20T07:37:37.179182Z",
     "iopub.status.busy": "2025-05-20T07:37:37.178918Z",
     "iopub.status.idle": "2025-05-20T07:38:14.151378Z",
     "shell.execute_reply": "2025-05-20T07:38:14.150657Z",
     "shell.execute_reply.started": "2025-05-20T07:37:37.179158Z"
    }
   },
   "outputs": [
    {
     "name": "stdout",
     "output_type": "stream",
     "text": [
      "[ToolCall(function=Function(name='get_current_weather', arguments={'city': 'Toronto'}))]\n"
     ]
    }
   ],
   "source": [
    "response = client.chat(\n",
    "    model=model,\n",
    "    messages=[{'role': 'user', 'content':\n",
    "        'What is the weather in Toronto?'}],\n",
    "    tools=[{\n",
    "      'type': 'function',\n",
    "      'function': {\n",
    "        'name': 'get_current_weather',\n",
    "        'description': 'Get the current weather for a city',\n",
    "        'parameters': {\n",
    "          'type': 'object',\n",
    "          'properties': {\n",
    "            'city': {\n",
    "              'type': 'string',\n",
    "              'description': 'The name of the city',\n",
    "            },\n",
    "          },\n",
    "          'required': ['city'],\n",
    "        },\n",
    "      },\n",
    "    },\n",
    "  ],\n",
    ")\n",
    "\n",
    "print(response['message']['tool_calls'])"
   ]
  },
  {
   "cell_type": "code",
   "execution_count": null,
   "id": "cd563bb9-88cf-4461-b4e7-4dcb10365138",
   "metadata": {},
   "outputs": [],
   "source": []
  }
 ],
 "metadata": {
  "kernelspec": {
   "display_name": "Python 3 (ipykernel)",
   "language": "python",
   "name": "python3"
  },
  "language_info": {
   "codemirror_mode": {
    "name": "ipython",
    "version": 3
   },
   "file_extension": ".py",
   "mimetype": "text/x-python",
   "name": "python",
   "nbconvert_exporter": "python",
   "pygments_lexer": "ipython3",
   "version": "3.12.9"
  }
 },
 "nbformat": 4,
 "nbformat_minor": 5
}
