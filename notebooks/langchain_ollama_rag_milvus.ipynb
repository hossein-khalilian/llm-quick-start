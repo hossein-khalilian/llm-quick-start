{
 "cells": [
  {
   "cell_type": "markdown",
   "id": "c7b4790f-b792-4745-8836-b4e9243a74cc",
   "metadata": {
    "jp-MarkdownHeadingCollapsed": true
   },
   "source": [
    "# setup"
   ]
  },
  {
   "cell_type": "code",
   "execution_count": 79,
   "id": "80729afc-7cbd-4606-977b-76c29ccd6676",
   "metadata": {
    "execution": {
     "iopub.execute_input": "2025-05-25T08:34:39.826578Z",
     "iopub.status.busy": "2025-05-25T08:34:39.826034Z",
     "iopub.status.idle": "2025-05-25T08:34:40.615164Z",
     "shell.execute_reply": "2025-05-25T08:34:40.614221Z",
     "shell.execute_reply.started": "2025-05-25T08:34:39.826550Z"
    }
   },
   "outputs": [
    {
     "name": "stdout",
     "output_type": "stream",
     "text": [
      "status='success' completed=None total=None digest=None\n",
      "status='success' completed=None total=None digest=None\n"
     ]
    }
   ],
   "source": [
    "from ollama import Client\n",
    "\n",
    "base_url = \"http://host.docker.internal:11434\"\n",
    "\n",
    "client = Client(\n",
    "  host=base_url,\n",
    ")\n",
    "\n",
    "model = \"gemma3:27b\"\n",
    "embedding_model = \"mxbai-embed-large\"\n",
    "embedding_model = \"nomic-embed-text\"\n",
    "embedding_model = \"bge-m3\" # best one so far for persian\n",
    "print(client.create(model=model, from_=model))\n",
    "print(client.create(model=embedding_model, from_=embedding_model))"
   ]
  },
  {
   "cell_type": "code",
   "execution_count": 80,
   "id": "e3eb275a-0fbf-4155-ab20-0ee5c73f5c66",
   "metadata": {
    "execution": {
     "iopub.execute_input": "2025-05-25T08:34:40.616922Z",
     "iopub.status.busy": "2025-05-25T08:34:40.616637Z",
     "iopub.status.idle": "2025-05-25T08:34:40.640847Z",
     "shell.execute_reply": "2025-05-25T08:34:40.640091Z",
     "shell.execute_reply.started": "2025-05-25T08:34:40.616898Z"
    }
   },
   "outputs": [],
   "source": [
    "# from langchain_ollama import ChatOllama\n",
    "\n",
    "# base_url=\"http://host.docker.internal:11434\"\n",
    "# model = \"qwen3:32b\"\n",
    "# llm = ChatOllama(\n",
    "#     model=model,\n",
    "#     base_url=base_url,\n",
    "# )\n",
    "\n",
    "\n",
    "from utils import ChatOllamaCustomized\n",
    "\n",
    "base_url = \"http://host.docker.internal:11434\"\n",
    "model = \"gemma3:27b\"\n",
    "llm = ChatOllamaCustomized(\n",
    "    model=model,\n",
    "    base_url=base_url,\n",
    ")"
   ]
  },
  {
   "cell_type": "code",
   "execution_count": 81,
   "id": "7496f95e-797c-43cb-98d8-322cad86d9ab",
   "metadata": {
    "execution": {
     "iopub.execute_input": "2025-05-25T08:34:40.641672Z",
     "iopub.status.busy": "2025-05-25T08:34:40.641424Z",
     "iopub.status.idle": "2025-05-25T08:34:40.665884Z",
     "shell.execute_reply": "2025-05-25T08:34:40.665127Z",
     "shell.execute_reply.started": "2025-05-25T08:34:40.641648Z"
    }
   },
   "outputs": [],
   "source": [
    "from langchain_ollama import OllamaEmbeddings\n",
    "\n",
    "embeddings = OllamaEmbeddings(\n",
    "    model=embedding_model,\n",
    "    base_url=base_url,\n",
    ")"
   ]
  },
  {
   "cell_type": "markdown",
   "id": "29f274a9-1355-4b21-9329-b0efc3c8fc9e",
   "metadata": {
    "jp-MarkdownHeadingCollapsed": true
   },
   "source": [
    "# milvus"
   ]
  },
  {
   "cell_type": "code",
   "execution_count": 83,
   "id": "71c89218-35f4-4538-988a-f3ec18087bcf",
   "metadata": {
    "execution": {
     "iopub.execute_input": "2025-05-25T08:34:41.022169Z",
     "iopub.status.busy": "2025-05-25T08:34:41.021589Z",
     "iopub.status.idle": "2025-05-25T08:34:42.391371Z",
     "shell.execute_reply": "2025-05-25T08:34:42.390544Z",
     "shell.execute_reply.started": "2025-05-25T08:34:41.022128Z"
    }
   },
   "outputs": [
    {
     "name": "stderr",
     "output_type": "stream",
     "text": [
      "2025-05-25 08:34:42,384 [ERROR][handler]: RPC error: [create_database], <MilvusException: (code=65535, message=database already exist: langchain_example)>, <Time:{'RPC start': '2025-05-25 08:34:42.382472', 'RPC error': '2025-05-25 08:34:42.384385'}> (decorators.py:140)\n"
     ]
    },
    {
     "name": "stdout",
     "output_type": "stream",
     "text": [
      "database already exist: langchain_example\n"
     ]
    },
    {
     "data": {
      "text/plain": [
       "['default', 'milvus_quick_start', 'langchain_example']"
      ]
     },
     "execution_count": 83,
     "metadata": {},
     "output_type": "execute_result"
    }
   ],
   "source": [
    "from pymilvus import MilvusClient\n",
    "\n",
    "base_url = \"host.docker.internal\"\n",
    "client = MilvusClient(\n",
    "    uri=f\"http://{base_url}:19530\",\n",
    ")\n",
    "\n",
    "db_name=\"langchain_example\"\n",
    "try:\n",
    "    client.create_database(db_name=db_name)\n",
    "except Exception as e:\n",
    "    print(e.message)\n",
    "    \n",
    "client.list_databases()"
   ]
  },
  {
   "cell_type": "code",
   "execution_count": 84,
   "id": "bb50da31-3908-43e4-9f88-09950ef8f9db",
   "metadata": {
    "execution": {
     "iopub.execute_input": "2025-05-25T08:34:42.392943Z",
     "iopub.status.busy": "2025-05-25T08:34:42.392545Z",
     "iopub.status.idle": "2025-05-25T08:34:43.768130Z",
     "shell.execute_reply": "2025-05-25T08:34:43.767389Z",
     "shell.execute_reply.started": "2025-05-25T08:34:42.392908Z"
    }
   },
   "outputs": [],
   "source": [
    "from langchain_milvus import Milvus\n",
    "\n",
    "vector_store = Milvus(\n",
    "    embedding_function=embeddings,\n",
    "    connection_args={\"uri\": f\"http://{base_url}:19530\", \"db_name\": db_name},\n",
    "    index_params={\"index_type\": \"FLAT\", \"metric_type\": \"L2\"},\n",
    "    auto_id=True,\n",
    ")"
   ]
  },
  {
   "cell_type": "markdown",
   "id": "90ea5f5e-4347-4b2f-8aed-c81bc3c0d292",
   "metadata": {
    "jp-MarkdownHeadingCollapsed": true
   },
   "source": [
    "# Load documents"
   ]
  },
  {
   "cell_type": "code",
   "execution_count": 85,
   "id": "d57d8057-55f0-4303-bffc-de3ec9648835",
   "metadata": {
    "execution": {
     "iopub.execute_input": "2025-05-25T08:34:43.769379Z",
     "iopub.status.busy": "2025-05-25T08:34:43.769126Z",
     "iopub.status.idle": "2025-05-25T08:34:43.773860Z",
     "shell.execute_reply": "2025-05-25T08:34:43.773176Z",
     "shell.execute_reply.started": "2025-05-25T08:34:43.769357Z"
    }
   },
   "outputs": [],
   "source": [
    "# import bs4\n",
    "# from langchain import hub\n",
    "# from langchain_community.document_loaders import WebBaseLoader\n",
    "# from langchain_core.documents import Document\n",
    "# from langchain_text_splitters import RecursiveCharacterTextSplitter\n",
    "# from typing_extensions import List, TypedDict\n",
    "\n",
    "# # Load and chunk contents of the blog\n",
    "# loader = WebBaseLoader(\n",
    "#     web_paths=(\"https://lilianweng.github.io/posts/2023-06-23-agent/\",),\n",
    "#     bs_kwargs=dict(\n",
    "#         parse_only=bs4.SoupStrainer(\n",
    "#             class_=(\"post-content\", \"post-title\", \"post-header\")\n",
    "#         )\n",
    "#     ),\n",
    "# )\n",
    "# docs = loader.load()\n",
    "\n",
    "# text_splitter = RecursiveCharacterTextSplitter(chunk_size=1000, chunk_overlap=200) # openai file search chunck_size=800, chuck_overlap=400\n",
    "# all_splits = text_splitter.split_documents(docs)\n",
    "\n",
    "# # Index chunks\n",
    "# _ = vector_store.add_documents(documents=all_splits)"
   ]
  },
  {
   "cell_type": "code",
   "execution_count": 86,
   "id": "046877dd-573c-488f-8d09-ae94739de8de",
   "metadata": {
    "execution": {
     "iopub.execute_input": "2025-05-25T08:34:43.775373Z",
     "iopub.status.busy": "2025-05-25T08:34:43.775066Z",
     "iopub.status.idle": "2025-05-25T08:34:43.785956Z",
     "shell.execute_reply": "2025-05-25T08:34:43.784992Z",
     "shell.execute_reply.started": "2025-05-25T08:34:43.775351Z"
    }
   },
   "outputs": [],
   "source": [
    "import uuid\n",
    "import random\n",
    "import string\n",
    "\n",
    "def generate_file_id(prefix=\"file-\"):\n",
    "    random_uuid = uuid.uuid4().hex[:16]\n",
    "    random_str = ''.join(random.choices(string.ascii_letters + string.digits, k=6))\n",
    "\n",
    "    return f\"{prefix}{random_uuid}{random_str}\""
   ]
  },
  {
   "cell_type": "code",
   "execution_count": 87,
   "id": "8fae6b0a-137f-4e19-acf0-8d3ee617c8fb",
   "metadata": {
    "execution": {
     "iopub.execute_input": "2025-05-25T08:34:43.786925Z",
     "iopub.status.busy": "2025-05-25T08:34:43.786634Z",
     "iopub.status.idle": "2025-05-25T08:34:43.820490Z",
     "shell.execute_reply": "2025-05-25T08:34:43.819681Z",
     "shell.execute_reply.started": "2025-05-25T08:34:43.786900Z"
    }
   },
   "outputs": [],
   "source": [
    "from glob import glob\n",
    "from langchain_community.document_loaders import Docx2txtLoader\n",
    "from langchain_text_splitters import RecursiveCharacterTextSplitter\n",
    "\n",
    "\n",
    "docs = []\n",
    "for file_path in glob(\"sample_data/salamat/*\"):\n",
    "    loader = Docx2txtLoader(file_path)\n",
    "    docs.append(*loader.load())\n",
    "    docs[-1].metadata |= {\"file_id\": generate_file_id()}"
   ]
  },
  {
   "cell_type": "code",
   "execution_count": 88,
   "id": "b38e0bf3-a011-4454-96d0-9a648f7dfcb0",
   "metadata": {
    "execution": {
     "iopub.execute_input": "2025-05-25T08:34:43.821568Z",
     "iopub.status.busy": "2025-05-25T08:34:43.821295Z",
     "iopub.status.idle": "2025-05-25T08:34:49.866671Z",
     "shell.execute_reply": "2025-05-25T08:34:49.866036Z",
     "shell.execute_reply.started": "2025-05-25T08:34:43.821539Z"
    }
   },
   "outputs": [],
   "source": [
    "text_splitter = RecursiveCharacterTextSplitter(chunk_size=1000, chunk_overlap=200) # openai file search chunck_size=800, chuck_overlap=400\n",
    "all_splits = text_splitter.split_documents(docs)\n",
    "\n",
    "ids = vector_store.add_documents(documents=all_splits)"
   ]
  },
  {
   "cell_type": "code",
   "execution_count": 115,
   "id": "c50fd8df-b3fb-4e43-9dea-09c200096fd9",
   "metadata": {
    "execution": {
     "iopub.execute_input": "2025-05-25T09:23:19.135565Z",
     "iopub.status.busy": "2025-05-25T09:23:19.135277Z",
     "iopub.status.idle": "2025-05-25T09:23:19.750168Z",
     "shell.execute_reply": "2025-05-25T09:23:19.749011Z",
     "shell.execute_reply.started": "2025-05-25T09:23:19.135541Z"
    }
   },
   "outputs": [
    {
     "name": "stdout",
     "output_type": "stream",
     "text": [
      "* [SIM=0.944745] پرسش:\n",
      "\n",
      "هزینه اقامت (هتلینگ) اعلام شده در خصوص خدمات بستری به ازای هر شب بستری شدن بیمه شده می باشد یا برای کل دوران بستری محاسبه می شود؟\n",
      "\n",
      "پاسخ:\n",
      "\n",
      " هزینه هتلینگ  بر اساس مصوبات سالیانه اعلامی هیأت محترم وزیران، به ازای هر شب بستری مشروط به اقامت بیش از 6 ساعت  و بر اساس درجه اعتباربخشی بیمارستان محاسبه می‌گردد.\n",
      "\n",
      "پرسش:\n",
      "\n",
      "با توجه جدول هزینه اقامت (هتلینگ) در خصوص هزینه همراه آیا برای این ردیف سهم سازمان نیز لحاظ می گردد یا اینکه هزینه همراه باید بصورت کامل توسط بیمه شده پرداخت گردد؟\n",
      "\n",
      "پاسخ:\n",
      "\n",
      "هزینه همراه در بیماران عادی بالای 12 سال، خارج از تعهد سازمان بوده و  توسط بیمه شده پرداخت می‌شود. هزینه مذکور در بیماران زیر 12 سال بدون نشان بیماری، از طریق سهم یارانه وزارت بهداشت و در بیماران زیر 12 سال با نشان بیماری، از طریق سهم صندوق بیماران خاص و صعب العلاج پرداخت می‌شود. \n",
      "\n",
      "پرسش:\n",
      "\n",
      "شخصی عمل اسلیو معده دارند بیمه ایشان مربوط به استان قم است و میخواهند عمل را در اصفهان انجام دهند ، جهت تاییدیه به اداره بیمه کدام شهر باید مراجعه نمایند ؟\n",
      "\n",
      "پاسخ: [{'source': 'sample_data/salamat/بستری.docx', 'file_id': 'file-899305c3d2bc4715MoHGS7', 'pk': 458266833003756526}]\n"
     ]
    }
   ],
   "source": [
    "results = vector_store.similarity_search(\n",
    "    \"هتلینگ\",\n",
    "    k=2,\n",
    "    expr=\"\",\n",
    ")\n",
    "for res in results:\n",
    "    print(f\"* {res.page_content} [{res.metadata}]\")\n",
    "\n",
    "results = vector_store.similarity_search_with_score(\n",
    "    \"هتلینگ\", k=1\n",
    ")\n",
    "for res, score in results:\n",
    "    print(f\"* [SIM={score:3f}] {res.page_content} [{res.metadata}]\")"
   ]
  },
  {
   "cell_type": "markdown",
   "id": "aa25581f-5eb5-4632-bf17-30ec3e465a5e",
   "metadata": {
    "jp-MarkdownHeadingCollapsed": true
   },
   "source": [
    "# tools"
   ]
  },
  {
   "cell_type": "code",
   "execution_count": 89,
   "id": "4695a874-70b2-4c4e-9bf2-de7514708d2d",
   "metadata": {
    "execution": {
     "iopub.execute_input": "2025-05-25T08:34:49.867461Z",
     "iopub.status.busy": "2025-05-25T08:34:49.867235Z",
     "iopub.status.idle": "2025-05-25T08:34:49.884097Z",
     "shell.execute_reply": "2025-05-25T08:34:49.883281Z",
     "shell.execute_reply.started": "2025-05-25T08:34:49.867439Z"
    }
   },
   "outputs": [],
   "source": [
    "from langchain_core.tools import tool\n",
    "\n",
    "\n",
    "@tool\n",
    "def retrieve(input_query: str):\n",
    "    \"\"\"\n",
    "    Accesses an external knowledge base to retrieve relevant and useful documents based on the user's query.\n",
    "    Use this function whenever the query requires detailed factual information, specific reference material,\n",
    "    or external background context that might not be part of my general training data.\n",
    "    This function is particularly useful for questions seeking explanations, definitions, or examples\n",
    "    that benefit from a comprehensive document search.\n",
    "    \"\"\"\n",
    "    retrieved_docs = vector_store.similarity_search(input_query, k=2)\n",
    "    serialized = \"\\n\\n\".join(\n",
    "        (f\"Source: {doc.metadata}\\n\" f\"Content: {doc.page_content}\")\n",
    "        for doc in retrieved_docs\n",
    "    )\n",
    "    return serialized\n",
    "\n",
    "\n",
    "tools = [retrieve]"
   ]
  },
  {
   "cell_type": "markdown",
   "id": "2abc5bdc-7b1a-4cd5-a65e-ac5c24278742",
   "metadata": {
    "jp-MarkdownHeadingCollapsed": true
   },
   "source": [
    "# graph"
   ]
  },
  {
   "cell_type": "code",
   "execution_count": 90,
   "id": "a5c419cf-03f9-42bf-b37a-1eb0af08a037",
   "metadata": {
    "execution": {
     "iopub.execute_input": "2025-05-25T08:34:49.886127Z",
     "iopub.status.busy": "2025-05-25T08:34:49.885767Z",
     "iopub.status.idle": "2025-05-25T08:34:49.900472Z",
     "shell.execute_reply": "2025-05-25T08:34:49.897581Z",
     "shell.execute_reply.started": "2025-05-25T08:34:49.886102Z"
    }
   },
   "outputs": [],
   "source": [
    "from langgraph.graph import MessagesState\n",
    "from langchain_core.messages import SystemMessage\n",
    "\n",
    "\n",
    "def query_or_respond(state: MessagesState):\n",
    "    \"\"\"Generate tool call for retrieval or respond.\"\"\"\n",
    "    llm_with_tools = llm.bind_tools([retrieve])\n",
    "    response = llm_with_tools.invoke(state[\"messages\"])\n",
    "\n",
    "    return {\"messages\": [response]}\n",
    "\n",
    "\n",
    "def generate(state: MessagesState):\n",
    "    \"\"\"Generate answer.\"\"\"\n",
    "    recent_tool_messages = []\n",
    "    for message in reversed(state[\"messages\"]):\n",
    "        if message.type == \"tool\":\n",
    "            recent_tool_messages.append(message)\n",
    "        else:\n",
    "            break\n",
    "    tool_messages = recent_tool_messages[::-1]\n",
    "\n",
    "    docs_content = \"\\n\\n\".join(doc.content for doc in tool_messages)\n",
    "    system_message_content = (\n",
    "        \"You are an assistant for question-answering tasks. \"\n",
    "        \"Use the following pieces of retrieved context to answer \"\n",
    "        \"the question. If you don't know the answer, please state that you don't know \"\n",
    "        \"in the same language as the question. \"\n",
    "        \"Use three sentences maximum and keep the answer concise.\"\n",
    "        \"\\n\\n\"\n",
    "        \"\\n\\n\"\n",
    "        f\"{docs_content}\"\n",
    "    )\n",
    "    conversation_messages = [\n",
    "        message\n",
    "        for message in state[\"messages\"]\n",
    "        if message.type in (\"human\", \"system\")\n",
    "        or (message.type == \"ai\" and not message.tool_calls)\n",
    "    ]\n",
    "    prompt = [SystemMessage(system_message_content)] + conversation_messages\n",
    "\n",
    "    response = llm.invoke(prompt)\n",
    "    return {\"messages\": [response]}"
   ]
  },
  {
   "cell_type": "code",
   "execution_count": 91,
   "id": "f0ed7639-9efe-4d92-9ad9-2d70c1e11068",
   "metadata": {
    "execution": {
     "iopub.execute_input": "2025-05-25T08:34:49.901371Z",
     "iopub.status.busy": "2025-05-25T08:34:49.901099Z",
     "iopub.status.idle": "2025-05-25T08:34:51.027956Z",
     "shell.execute_reply": "2025-05-25T08:34:51.025900Z",
     "shell.execute_reply.started": "2025-05-25T08:34:49.901345Z"
    }
   },
   "outputs": [
    {
     "data": {
      "image/png": "[encoded data removed]",
      "text/plain": [
       "<langgraph.graph.state.CompiledStateGraph object at 0x77361b8e8c20>"
      ]
     },
     "execution_count": 91,
     "metadata": {},
     "output_type": "execute_result"
    }
   ],
   "source": [
    "from langgraph.prebuilt import ToolNode\n",
    "from langgraph.graph import END, StateGraph\n",
    "from langgraph.prebuilt import ToolNode, tools_condition\n",
    "\n",
    "graph_builder = StateGraph(MessagesState)\n",
    "graph_builder.add_node(query_or_respond)\n",
    "\n",
    "graph_builder.add_node(ToolNode(tools))\n",
    "graph_builder.add_node(generate)\n",
    "\n",
    "graph_builder.set_entry_point(\"query_or_respond\")\n",
    "graph_builder.add_conditional_edges(\n",
    "    \"query_or_respond\",\n",
    "    tools_condition,\n",
    "    {END: END, \"tools\": \"tools\"},\n",
    ")\n",
    "graph_builder.add_edge(\"tools\", \"generate\")\n",
    "graph_builder.add_edge(\"generate\", END)\n",
    "\n",
    "graph = graph_builder.compile()\n",
    "graph"
   ]
  },
  {
   "cell_type": "markdown",
   "id": "ff29b935-f20d-4577-8aa8-b314eb14b951",
   "metadata": {
    "execution": {
     "iopub.execute_input": "2025-05-20T09:22:51.192974Z",
     "iopub.status.busy": "2025-05-20T09:22:51.192146Z",
     "iopub.status.idle": "2025-05-20T09:22:51.206845Z",
     "shell.execute_reply": "2025-05-20T09:22:51.204702Z",
     "shell.execute_reply.started": "2025-05-20T09:22:51.192906Z"
    },
    "jp-MarkdownHeadingCollapsed": true
   },
   "source": [
    "# usage"
   ]
  },
  {
   "cell_type": "code",
   "execution_count": 111,
   "id": "79171862-79cc-4973-b73a-b17ebbbc5bbb",
   "metadata": {
    "execution": {
     "iopub.execute_input": "2025-05-25T09:00:59.382445Z",
     "iopub.status.busy": "2025-05-25T09:00:59.381644Z",
     "iopub.status.idle": "2025-05-25T09:01:02.761974Z",
     "shell.execute_reply": "2025-05-25T09:01:02.758681Z",
     "shell.execute_reply.started": "2025-05-25T09:00:59.382378Z"
    }
   },
   "outputs": [
    {
     "name": "stdout",
     "output_type": "stream",
     "text": [
      "================================\u001b[1m Human Message \u001b[0m=================================\n",
      "\n",
      "سلام\n",
      "==================================\u001b[1m Ai Message \u001b[0m==================================\n",
      "Tool Calls:\n",
      "  retrieve (25be6201-e31c-47ee-89b8-b2be69a1ae6f)\n",
      " Call ID: 25be6201-e31c-47ee-89b8-b2be69a1ae6f\n",
      "  Args:\n",
      "    input_query: meaning of سلام\n",
      "=================================\u001b[1m Tool Message \u001b[0m=================================\n",
      "Name: retrieve\n",
      "\n",
      "Source: {'source': 'sample_data/salamat/سرپایی.docx', 'file_id': 'file-eef26790060443268YU5lP', 'pk': 458266833003756400}\n",
      "Content: سرپایی\n",
      "\n",
      "پرسش:\n",
      "\n",
      "شریک کاری (آزمایشگاه) در زمان ارسال نسخه های بیمه سلامت برای سازمان در سامانه نسخه نویسی متوجه شدند چند عدد از نسخه های روز گذشته در سیستم ننشسته است، علت چیست؟\n",
      "\n",
      "پاسخ:\n",
      "\n",
      "نیاز به بررسی از طریق تماس با مرکز1666می باشد .\n",
      "\n",
      "پرسش:\n",
      "\n",
      "آیا امکان افزایش سقف خدمت در شرایط خاص وجود دارد؟ چگونه؟\n",
      "\n",
      "پاسخ:\n",
      "\n",
      "قابلیت افزایش سقف خدمات در سامانه الکترونیک وجود دارد. برخی از خدمات با توجه به استانداردهای ابلاغی از وزارت بهداشت دارای سقف هستند در برخی موارد پزشک  و یا کارشناس اداره کل با درج مستندات می تواند سقف خدمت را افزایش دهد.\n",
      "\n",
      "پرسش:\n",
      "\n",
      "آزمایشگاه اعلام می‌کنند در نسخه بعضی از بیمه شده ها با پیغام \"مشمول حمایت دولت در کاهش 10 درصدی فرانشیز\" مواجه می‌شوند و برای برخی سهم سازمان صفر درنظر گرفته می‌شود، علت روئیت این پیغام چیست؟ چرا سهم سازمان صفر درنظر گرفته می‌شود؟ آیا مشکلی برای آزمایشگاه ایجاد می‌کند؟\n",
      "\n",
      "پاسخ:\n",
      "\n",
      "Source: {'source': 'sample_data/salamat/سرپایی.docx', 'file_id': 'file-8eb881c5689d4497TvMnaF', 'pk': 458266833003756138}\n",
      "Content: سرپایی\n",
      "\n",
      "پرسش:\n",
      "\n",
      "شریک کاری (آزمایشگاه) در زمان ارسال نسخه های بیمه سلامت برای سازمان در سامانه نسخه نویسی متوجه شدند چند عدد از نسخه های روز گذشته در سیستم ننشسته است، علت چیست؟\n",
      "\n",
      "پاسخ:\n",
      "\n",
      "نیاز به بررسی از طریق تماس با مرکز1666می باشد .\n",
      "\n",
      "پرسش:\n",
      "\n",
      "آیا امکان افزایش سقف خدمت در شرایط خاص وجود دارد؟ چگونه؟\n",
      "\n",
      "پاسخ:\n",
      "\n",
      "قابلیت افزایش سقف خدمات در سامانه الکترونیک وجود دارد. برخی از خدمات با توجه به استانداردهای ابلاغی از وزارت بهداشت دارای سقف هستند در برخی موارد پزشک  و یا کارشناس اداره کل با درج مستندات می تواند سقف خدمت را افزایش دهد.\n",
      "\n",
      "پرسش:\n",
      "\n",
      "آزمایشگاه اعلام می‌کنند در نسخه بعضی از بیمه شده ها با پیغام \"مشمول حمایت دولت در کاهش 10 درصدی فرانشیز\" مواجه می‌شوند و برای برخی سهم سازمان صفر درنظر گرفته می‌شود، علت روئیت این پیغام چیست؟ چرا سهم سازمان صفر درنظر گرفته می‌شود؟ آیا مشکلی برای آزمایشگاه ایجاد می‌کند؟\n",
      "\n",
      "پاسخ:\n",
      "==================================\u001b[1m Ai Message \u001b[0m==================================\n",
      "\n",
      "I don't know.\n"
     ]
    }
   ],
   "source": [
    "input_message = \"سلام\"\n",
    "for step in graph.stream(\n",
    "    {\"messages\": [{\"role\": \"user\", \"content\": input_message}]},\n",
    "    stream_mode=\"values\",\n",
    "):\n",
    "    step[\"messages\"][-1].pretty_print()"
   ]
  },
  {
   "cell_type": "code",
   "execution_count": 104,
   "id": "482ba647-16f2-4bc3-8f80-ca622a06e532",
   "metadata": {
    "execution": {
     "iopub.execute_input": "2025-05-25T08:51:15.526013Z",
     "iopub.status.busy": "2025-05-25T08:51:15.525213Z",
     "iopub.status.idle": "2025-05-25T08:51:20.321999Z",
     "shell.execute_reply": "2025-05-25T08:51:20.319758Z",
     "shell.execute_reply.started": "2025-05-25T08:51:15.525946Z"
    }
   },
   "outputs": [
    {
     "name": "stdout",
     "output_type": "stream",
     "text": [
      "================================\u001b[1m Human Message \u001b[0m=================================\n",
      "\n",
      "sleeve gastrectomy\n",
      "==================================\u001b[1m Ai Message \u001b[0m==================================\n",
      "Tool Calls:\n",
      "  retrieve (3cedc0a5-6a47-4c57-b741-7fed26755e3b)\n",
      " Call ID: 3cedc0a5-6a47-4c57-b741-7fed26755e3b\n",
      "  Args:\n",
      "    input_query: sleeve gastrectomy\n",
      "=================================\u001b[1m Tool Message \u001b[0m=================================\n",
      "Name: retrieve\n",
      "\n",
      "Source: {'file_id': 'file-899305c3d2bc4715MoHGS7', 'source': 'sample_data/salamat/بستری.docx', 'pk': 458266833003756528}\n",
      "Content: پرسش:\n",
      "\n",
      "آیاعمل اسلیو معده در تعهد سازمان است؟\n",
      "\n",
      "پاسخ:\n",
      "\n",
      " در بیماران عادی  BMI مساوی و یا بالای 40  که جنبه درمانی داشته باشد. \n",
      " در بیمار ان دیابتی  دارای چاقی35= BMI کفایت میکند.\n",
      "\n",
      "\n",
      "پرسش:\n",
      "\n",
      "آیا عمل لوزه سوم تحت پوشش بیمه است؟\n",
      "\n",
      "پاسخ:\n",
      "\n",
      "بله_x000D_\n",
      "\n",
      "\n",
      "پرسش:\n",
      "\n",
      "آیا عمل دیسک کمر در تعهد بیمه است ؟\n",
      "\n",
      "پاسخ:\n",
      "\n",
      "بله_x000D_\n",
      "\n",
      "\n",
      "پرسش:\n",
      "\n",
      "آیا عمل لیزیک چشم در تعهد بیمه است ؟\n",
      "\n",
      "پاسخ:\n",
      "\n",
      "خیر_x000D_\n",
      "\n",
      "\n",
      "پرسش:\n",
      "\n",
      "آیا عمل فتخ ناف در تعهد بیمه می یاشدو نیاز به تایید دارد؟\n",
      "\n",
      "پاسخ:\n",
      "\n",
      "بله در تعهد است و نیاز به تاییدیه ندارد.\n",
      "\n",
      "پرسش:\n",
      "\n",
      "آیا برای عمل جراحی پروتز زانو محدودیت در نظر گرفته شده است؟\n",
      "\n",
      "پاسخ:\n",
      "\n",
      "بیمه شدگان دارای 5 سال سابقه بیمه پردازی می توانند جراحی تعویض مفصل  را در مراکز طرف قرارداد به صورت بیمه ای و در مراکز غیرطرف قرارداد در قالب خسارت دریافت کنند. در موارد عفونت، شکستگی و تومور نزدیک مفصل، نیاز به سوابق بیمه پردازی نمی‌باشد..\n",
      "\n",
      "پرسش:\n",
      "\n",
      "آیا خدمت بافت برداری (بیوپسی-Biopsie) برای تشخیص سرطان در تعهد سازمان بیمه سلامت هست؟\n",
      "\n",
      "پاسخ:\n",
      "\n",
      "بله در تعهد می باشد.\n",
      "\n",
      "پرسش:\n",
      "\n",
      "ایا دریافت خدمات ناباروری برای اتباع امکان پذیر میباشد ؟\n",
      "\n",
      "پاسخ:\n",
      "\n",
      "Source: {'file_id': 'file-011f179cb2d3438dw53iVS', 'source': 'sample_data/salamat/بستری.docx', 'pk': 458266833003756266}\n",
      "Content: پرسش:\n",
      "\n",
      "آیاعمل اسلیو معده در تعهد سازمان است؟\n",
      "\n",
      "پاسخ:\n",
      "\n",
      " در بیماران عادی  BMI مساوی و یا بالای 40  که جنبه درمانی داشته باشد. \n",
      " در بیمار ان دیابتی  دارای چاقی35= BMI کفایت میکند.\n",
      "\n",
      "\n",
      "پرسش:\n",
      "\n",
      "آیا عمل لوزه سوم تحت پوشش بیمه است؟\n",
      "\n",
      "پاسخ:\n",
      "\n",
      "بله_x000D_\n",
      "\n",
      "\n",
      "پرسش:\n",
      "\n",
      "آیا عمل دیسک کمر در تعهد بیمه است ؟\n",
      "\n",
      "پاسخ:\n",
      "\n",
      "بله_x000D_\n",
      "\n",
      "\n",
      "پرسش:\n",
      "\n",
      "آیا عمل لیزیک چشم در تعهد بیمه است ؟\n",
      "\n",
      "پاسخ:\n",
      "\n",
      "خیر_x000D_\n",
      "\n",
      "\n",
      "پرسش:\n",
      "\n",
      "آیا عمل فتخ ناف در تعهد بیمه می یاشدو نیاز به تایید دارد؟\n",
      "\n",
      "پاسخ:\n",
      "\n",
      "بله در تعهد است و نیاز به تاییدیه ندارد.\n",
      "\n",
      "پرسش:\n",
      "\n",
      "آیا برای عمل جراحی پروتز زانو محدودیت در نظر گرفته شده است؟\n",
      "\n",
      "پاسخ:\n",
      "\n",
      "بیمه شدگان دارای 5 سال سابقه بیمه پردازی می توانند جراحی تعویض مفصل  را در مراکز طرف قرارداد به صورت بیمه ای و در مراکز غیرطرف قرارداد در قالب خسارت دریافت کنند. در موارد عفونت، شکستگی و تومور نزدیک مفصل، نیاز به سوابق بیمه پردازی نمی‌باشد..\n",
      "\n",
      "پرسش:\n",
      "\n",
      "آیا خدمت بافت برداری (بیوپسی-Biopsie) برای تشخیص سرطان در تعهد سازمان بیمه سلامت هست؟\n",
      "\n",
      "پاسخ:\n",
      "\n",
      "بله در تعهد می باشد.\n",
      "\n",
      "پرسش:\n",
      "\n",
      "ایا دریافت خدمات ناباروری برای اتباع امکان پذیر میباشد ؟\n",
      "\n",
      "پاسخ:\n",
      "==================================\u001b[1m Ai Message \u001b[0m==================================\n",
      "\n",
      "عمل اسلیو معده در صورت داشتن BMI مساوی یا بالای 40 برای بیماران عادی و BMI 35 برای بیماران دیابتی، تحت پوشش درمانی قرار دارد.\n"
     ]
    }
   ],
   "source": [
    "input_message = \"sleeve gastrectomy\"\n",
    "for step in graph.stream(\n",
    "    {\"messages\": [{\"role\": \"user\", \"content\": input_message}]},\n",
    "    stream_mode=\"values\",\n",
    "):\n",
    "    step[\"messages\"][-1].pretty_print()"
   ]
  },
  {
   "cell_type": "code",
   "execution_count": 92,
   "id": "6b37f31b-ee5d-4404-a2af-8f458e5ddd9c",
   "metadata": {
    "execution": {
     "iopub.execute_input": "2025-05-25T08:34:51.031092Z",
     "iopub.status.busy": "2025-05-25T08:34:51.030309Z",
     "iopub.status.idle": "2025-05-25T08:35:01.770886Z",
     "shell.execute_reply": "2025-05-25T08:35:01.768472Z",
     "shell.execute_reply.started": "2025-05-25T08:34:51.031020Z"
    }
   },
   "outputs": [
    {
     "name": "stdout",
     "output_type": "stream",
     "text": [
      "================================\u001b[1m Human Message \u001b[0m=================================\n",
      "\n",
      "رادیولوژی  تحت پوشش بیمه قرار میگیرد؟\n",
      "==================================\u001b[1m Ai Message \u001b[0m==================================\n",
      "Tool Calls:\n",
      "  retrieve (d15d2dae-26ae-4345-a062-dd795fb57518)\n",
      " Call ID: d15d2dae-26ae-4345-a062-dd795fb57518\n",
      "  Args:\n",
      "    input_query: آیا رادیولوژی تحت پوشش بیمه قرار میگیرد؟\n",
      "=================================\u001b[1m Tool Message \u001b[0m=================================\n",
      "Name: retrieve\n",
      "\n",
      "Source: {'source': 'sample_data/salamat/صعب العلاج.docx', 'file_id': 'file-a22847f4f7564623I3iqq2', 'pk': 458266833003756485}\n",
      "Content: پاسخ:\n",
      "\n",
      "  خیر. رادیوتراپی از تعهدات بیمه حذف نشده است در صورت داشتن نشان بیماری صعب العلاج در مراکز دولتی رایگان و در مراکز غیر دولتی علاوه بر سهم بیمه پایه حداکثر معادل 100درصد تعرفه دولتی نیز از محل صندوق با رعایت ضوابط قابل محاسبه و پرداخت است    \n",
      "در صورت هرگونه ابهام و به منظور پیگیری بیشتر با در دست داشتن مدارک و مستندات به ادارات کل بیمه سلامت استان مراجعه نمایند.\n",
      "\n",
      "پرسش:\n",
      "\n",
      "آیا کمک هزینه بیماریهای خاص وصعب العلاج شامل سایر بیمه ها مانند تامین اجتماعی ونیروهای مسلح نیز میشود؟این پیگیری باید ازسمت بیمه سلامت انجام شود؟\n",
      "\n",
      "پاسخ:\n",
      "\n",
      "بله\n",
      " در خصوص خدمات مندرج در بسته های ابلاغی: \n",
      "-سهم صندوق بیمه شدگان تامین اجتماعی از نسخ دارویی  بصورت برخط محاسبه می گردد.  و برای سایر خدمات به سازمان مذکور مراجعه شود\n",
      "-در صورت عدم محاسبه سهم صندوق بیمه شدگان نیروهای مسلح (دارو و خدمات) به سازمان مربوطه مراجعه گردد\n",
      "در خصوص مساعدت موضوع تبصره ذیل ماده 9:\n",
      "ابتدا ارائه درخواست و مدارک به سازمان بیمه گر مربوطه انجام و سپس در کمیته مشترک بررسی و در صورت تصویب توسط بیمه سلامت پرداخت می گردد\n",
      "\n",
      "\n",
      "\n",
      "پرسش:\n",
      "\n",
      "Source: {'source': 'sample_data/salamat/صعب العلاج.docx', 'file_id': 'file-3afef3656de049759rVoAF', 'pk': 458266833003756223}\n",
      "Content: پاسخ:\n",
      "\n",
      "  خیر. رادیوتراپی از تعهدات بیمه حذف نشده است در صورت داشتن نشان بیماری صعب العلاج در مراکز دولتی رایگان و در مراکز غیر دولتی علاوه بر سهم بیمه پایه حداکثر معادل 100درصد تعرفه دولتی نیز از محل صندوق با رعایت ضوابط قابل محاسبه و پرداخت است    \n",
      "در صورت هرگونه ابهام و به منظور پیگیری بیشتر با در دست داشتن مدارک و مستندات به ادارات کل بیمه سلامت استان مراجعه نمایند.\n",
      "\n",
      "پرسش:\n",
      "\n",
      "آیا کمک هزینه بیماریهای خاص وصعب العلاج شامل سایر بیمه ها مانند تامین اجتماعی ونیروهای مسلح نیز میشود؟این پیگیری باید ازسمت بیمه سلامت انجام شود؟\n",
      "\n",
      "پاسخ:\n",
      "\n",
      "بله\n",
      " در خصوص خدمات مندرج در بسته های ابلاغی: \n",
      "-سهم صندوق بیمه شدگان تامین اجتماعی از نسخ دارویی  بصورت برخط محاسبه می گردد.  و برای سایر خدمات به سازمان مذکور مراجعه شود\n",
      "-در صورت عدم محاسبه سهم صندوق بیمه شدگان نیروهای مسلح (دارو و خدمات) به سازمان مربوطه مراجعه گردد\n",
      "در خصوص مساعدت موضوع تبصره ذیل ماده 9:\n",
      "ابتدا ارائه درخواست و مدارک به سازمان بیمه گر مربوطه انجام و سپس در کمیته مشترک بررسی و در صورت تصویب توسط بیمه سلامت پرداخت می گردد\n",
      "\n",
      "\n",
      "\n",
      "پرسش:\n",
      "==================================\u001b[1m Ai Message \u001b[0m==================================\n",
      "\n",
      "بله، رادیوتراپی از تعهدات بیمه حذف نشده است و در صورت داشتن نشان بیماری صعب العلاج در مراکز دولتی رایگان و در مراکز غیر دولتی نیز قابل پرداخت است. برای پیگیری بیشتر با مدارک به ادارات کل بیمه سلامت استان مراجعه کنید. اطلاعات بیشتری در این مورد در دسترس نیست.\n"
     ]
    }
   ],
   "source": [
    "input_message = \"رادیولوژی  تحت پوشش بیمه قرار میگیرد؟\"\n",
    "for step in graph.stream(\n",
    "    {\"messages\": [{\"role\": \"user\", \"content\": input_message}]},\n",
    "    stream_mode=\"values\",\n",
    "):\n",
    "    step[\"messages\"][-1].pretty_print()"
   ]
  },
  {
   "cell_type": "code",
   "execution_count": 95,
   "id": "8d15a42d-7c86-4849-8373-ce3554677996",
   "metadata": {
    "execution": {
     "iopub.execute_input": "2025-05-25T08:35:30.388203Z",
     "iopub.status.busy": "2025-05-25T08:35:30.387668Z",
     "iopub.status.idle": "2025-05-25T08:35:36.001999Z",
     "shell.execute_reply": "2025-05-25T08:35:36.000046Z",
     "shell.execute_reply.started": "2025-05-25T08:35:30.388168Z"
    }
   },
   "outputs": [
    {
     "name": "stdout",
     "output_type": "stream",
     "text": [
      "================================\u001b[1m Human Message \u001b[0m=================================\n",
      "\n",
      "تعهدات ivf چجوریه؟\n",
      "==================================\u001b[1m Ai Message \u001b[0m==================================\n",
      "Tool Calls:\n",
      "  retrieve (4a29c7b9-b959-49f3-a1e1-07afa6139cf1)\n",
      " Call ID: 4a29c7b9-b959-49f3-a1e1-07afa6139cf1\n",
      "  Args:\n",
      "    input_query: تعهدات ivf\n",
      "=================================\u001b[1m Tool Message \u001b[0m=================================\n",
      "Name: retrieve\n",
      "\n",
      "Source: {'source': 'sample_data/salamat/بستری.docx', 'file_id': 'file-899305c3d2bc4715MoHGS7', 'pk': 458266833003756525}\n",
      "Content: بستری\n",
      "\n",
      "پرسش:\n",
      "\n",
      "تعهدات IVF در صندوق های بیمه سلامت در مراکز طرف قرارداد و غیر طرف قرارداد به چه صورت می باشد ؟\n",
      "\n",
      "پاسخ:\n",
      "\n",
      "1-در مراکز دولتی با90% تعرفه مصوب بخش دولتی 2- در مراکز عمومی غیردولتی با 90%تعرفه مصوب بخش عمومی غیردولتی 3- درمراکز خصوصی وخیریه با 70% تعرفه مصوب بخش خصوصی وخیریه می توانند از 4 بسته خدمتی استفاده نمایند.\n",
      "\n",
      "پرسش:\n",
      "\n",
      " فرانشیز خدمات بستری جهت مددجویان بهزیستی و کمیته امداد و همچنین روستاییان با رعایت نظام ارجاع صفر می باشد آیا این موضوع صرفا مربوط به مراکز دولتی و دانشگاهی بوده یا اینکه در مراکز دولتی غیر دانشگاهی نیز اعمال گردیده است؟\n",
      "\n",
      "پاسخ:\n",
      "\n",
      "  بر اساس مصوبه هیأت محترم وزیران ، فرانشیز مددجویان بهزیستی و کمیته امداد و همچنین روستاییان در صورت دریافت خدمات بستری و بستری فوریت های پزشکی(اورژانس)(دارای پرونده) در مراکز دولتی دانشگاهی در قالب  نظام ارجاع صفر می باشد.\n",
      "\n",
      "پرسش:\n",
      "\n",
      "هزینه اقامت (هتلینگ) اعلام شده در خصوص خدمات بستری به ازای هر شب بستری شدن بیمه شده می باشد یا برای کل دوران بستری محاسبه می شود؟\n",
      "\n",
      "پاسخ:\n",
      "\n",
      "Source: {'source': 'sample_data/salamat/بستری.docx', 'file_id': 'file-011f179cb2d3438dw53iVS', 'pk': 458266833003756263}\n",
      "Content: بستری\n",
      "\n",
      "پرسش:\n",
      "\n",
      "تعهدات IVF در صندوق های بیمه سلامت در مراکز طرف قرارداد و غیر طرف قرارداد به چه صورت می باشد ؟\n",
      "\n",
      "پاسخ:\n",
      "\n",
      "1-در مراکز دولتی با90% تعرفه مصوب بخش دولتی 2- در مراکز عمومی غیردولتی با 90%تعرفه مصوب بخش عمومی غیردولتی 3- درمراکز خصوصی وخیریه با 70% تعرفه مصوب بخش خصوصی وخیریه می توانند از 4 بسته خدمتی استفاده نمایند.\n",
      "\n",
      "پرسش:\n",
      "\n",
      " فرانشیز خدمات بستری جهت مددجویان بهزیستی و کمیته امداد و همچنین روستاییان با رعایت نظام ارجاع صفر می باشد آیا این موضوع صرفا مربوط به مراکز دولتی و دانشگاهی بوده یا اینکه در مراکز دولتی غیر دانشگاهی نیز اعمال گردیده است؟\n",
      "\n",
      "پاسخ:\n",
      "\n",
      "  بر اساس مصوبه هیأت محترم وزیران ، فرانشیز مددجویان بهزیستی و کمیته امداد و همچنین روستاییان در صورت دریافت خدمات بستری و بستری فوریت های پزشکی(اورژانس)(دارای پرونده) در مراکز دولتی دانشگاهی در قالب  نظام ارجاع صفر می باشد.\n",
      "\n",
      "پرسش:\n",
      "\n",
      "هزینه اقامت (هتلینگ) اعلام شده در خصوص خدمات بستری به ازای هر شب بستری شدن بیمه شده می باشد یا برای کل دوران بستری محاسبه می شود؟\n",
      "\n",
      "پاسخ:\n",
      "==================================\u001b[1m Ai Message \u001b[0m==================================\n",
      "\n",
      "در مراکز دولتی با 90% تعرفه مصوب بخش دولتی، در مراکز عمومی غیردولتی با 90% تعرفه مصوب بخش عمومی غیردولتی و در مراکز خصوصی و خیریه با 70% تعرفه مصوب بخش خصوصی و خیریه، بیماران می‌توانند از 4 بسته خدمتی استفاده کنند.\n"
     ]
    }
   ],
   "source": [
    "input_message = \"تعهدات ivf چجوریه؟\"\n",
    "for step in graph.stream(\n",
    "    {\"messages\": [{\"role\": \"user\", \"content\": input_message}]},\n",
    "    stream_mode=\"values\",\n",
    "):\n",
    "    step[\"messages\"][-1].pretty_print()"
   ]
  },
  {
   "cell_type": "code",
   "execution_count": 96,
   "id": "3bb97e39-2e7f-472f-b6f7-31feee8c99c0",
   "metadata": {
    "execution": {
     "iopub.execute_input": "2025-05-25T08:36:14.949537Z",
     "iopub.status.busy": "2025-05-25T08:36:14.949154Z",
     "iopub.status.idle": "2025-05-25T08:36:20.660520Z",
     "shell.execute_reply": "2025-05-25T08:36:20.657812Z",
     "shell.execute_reply.started": "2025-05-25T08:36:14.949503Z"
    }
   },
   "outputs": [
    {
     "name": "stdout",
     "output_type": "stream",
     "text": [
      "================================\u001b[1m Human Message \u001b[0m=================================\n",
      "\n",
      "هزینه اقامت به چه صورته؟\n",
      "==================================\u001b[1m Ai Message \u001b[0m==================================\n",
      "Tool Calls:\n",
      "  retrieve (5824a785-ce23-44de-bf53-31d483292ccd)\n",
      " Call ID: 5824a785-ce23-44de-bf53-31d483292ccd\n",
      "  Args:\n",
      "    input_query: هزینه اقامت\n",
      "=================================\u001b[1m Tool Message \u001b[0m=================================\n",
      "Name: retrieve\n",
      "\n",
      "Source: {'source': 'sample_data/salamat/بستری.docx', 'file_id': 'file-899305c3d2bc4715MoHGS7', 'pk': 458266833003756526}\n",
      "Content: پرسش:\n",
      "\n",
      "هزینه اقامت (هتلینگ) اعلام شده در خصوص خدمات بستری به ازای هر شب بستری شدن بیمه شده می باشد یا برای کل دوران بستری محاسبه می شود؟\n",
      "\n",
      "پاسخ:\n",
      "\n",
      " هزینه هتلینگ  بر اساس مصوبات سالیانه اعلامی هیأت محترم وزیران، به ازای هر شب بستری مشروط به اقامت بیش از 6 ساعت  و بر اساس درجه اعتباربخشی بیمارستان محاسبه می‌گردد.\n",
      "\n",
      "پرسش:\n",
      "\n",
      "با توجه جدول هزینه اقامت (هتلینگ) در خصوص هزینه همراه آیا برای این ردیف سهم سازمان نیز لحاظ می گردد یا اینکه هزینه همراه باید بصورت کامل توسط بیمه شده پرداخت گردد؟\n",
      "\n",
      "پاسخ:\n",
      "\n",
      "هزینه همراه در بیماران عادی بالای 12 سال، خارج از تعهد سازمان بوده و  توسط بیمه شده پرداخت می‌شود. هزینه مذکور در بیماران زیر 12 سال بدون نشان بیماری، از طریق سهم یارانه وزارت بهداشت و در بیماران زیر 12 سال با نشان بیماری، از طریق سهم صندوق بیماران خاص و صعب العلاج پرداخت می‌شود. \n",
      "\n",
      "پرسش:\n",
      "\n",
      "شخصی عمل اسلیو معده دارند بیمه ایشان مربوط به استان قم است و میخواهند عمل را در اصفهان انجام دهند ، جهت تاییدیه به اداره بیمه کدام شهر باید مراجعه نمایند ؟\n",
      "\n",
      "پاسخ:\n",
      "\n",
      "Source: {'source': 'sample_data/salamat/بستری.docx', 'file_id': 'file-011f179cb2d3438dw53iVS', 'pk': 458266833003756264}\n",
      "Content: پرسش:\n",
      "\n",
      "هزینه اقامت (هتلینگ) اعلام شده در خصوص خدمات بستری به ازای هر شب بستری شدن بیمه شده می باشد یا برای کل دوران بستری محاسبه می شود؟\n",
      "\n",
      "پاسخ:\n",
      "\n",
      " هزینه هتلینگ  بر اساس مصوبات سالیانه اعلامی هیأت محترم وزیران، به ازای هر شب بستری مشروط به اقامت بیش از 6 ساعت  و بر اساس درجه اعتباربخشی بیمارستان محاسبه می‌گردد.\n",
      "\n",
      "پرسش:\n",
      "\n",
      "با توجه جدول هزینه اقامت (هتلینگ) در خصوص هزینه همراه آیا برای این ردیف سهم سازمان نیز لحاظ می گردد یا اینکه هزینه همراه باید بصورت کامل توسط بیمه شده پرداخت گردد؟\n",
      "\n",
      "پاسخ:\n",
      "\n",
      "هزینه همراه در بیماران عادی بالای 12 سال، خارج از تعهد سازمان بوده و  توسط بیمه شده پرداخت می‌شود. هزینه مذکور در بیماران زیر 12 سال بدون نشان بیماری، از طریق سهم یارانه وزارت بهداشت و در بیماران زیر 12 سال با نشان بیماری، از طریق سهم صندوق بیماران خاص و صعب العلاج پرداخت می‌شود. \n",
      "\n",
      "پرسش:\n",
      "\n",
      "شخصی عمل اسلیو معده دارند بیمه ایشان مربوط به استان قم است و میخواهند عمل را در اصفهان انجام دهند ، جهت تاییدیه به اداره بیمه کدام شهر باید مراجعه نمایند ؟\n",
      "\n",
      "پاسخ:\n",
      "==================================\u001b[1m Ai Message \u001b[0m==================================\n",
      "\n",
      "هزینه اقامت (هتلینگ) به ازای هر شب بستری مشروط به اقامت بیش از ۶ ساعت محاسبه می‌شود. این هزینه بر اساس مصوبات سالیانه هیأت وزیران و درجه اعتباربخشی بیمارستان تعیین می‌گردد. همچنین، هزینه همراه برای بیماران بالای ۱۲ سال خارج از تعهد سازمان است و توسط خود بیمار پرداخت می‌شود.\n"
     ]
    }
   ],
   "source": [
    "input_message = \"هزینه اقامت به چه صورته؟\"\n",
    "for step in graph.stream(\n",
    "    {\"messages\": [{\"role\": \"user\", \"content\": input_message}]},\n",
    "    stream_mode=\"values\",\n",
    "):\n",
    "    step[\"messages\"][-1].pretty_print()"
   ]
  },
  {
   "cell_type": "code",
   "execution_count": 9,
   "id": "10773adb-e8b2-459a-a7db-ef6617c00885",
   "metadata": {
    "execution": {
     "iopub.execute_input": "2025-05-24T09:04:28.305789Z",
     "iopub.status.busy": "2025-05-24T09:04:28.305360Z",
     "iopub.status.idle": "2025-05-24T09:04:32.664958Z",
     "shell.execute_reply": "2025-05-24T09:04:32.662724Z",
     "shell.execute_reply.started": "2025-05-24T09:04:28.305747Z"
    }
   },
   "outputs": [
    {
     "name": "stdout",
     "output_type": "stream",
     "text": [
      "================================\u001b[1m Human Message \u001b[0m=================================\n",
      "\n",
      "can you tell me what is task decomposition?\n",
      "==================================\u001b[1m Ai Message \u001b[0m==================================\n",
      "Tool Calls:\n",
      "  retrieve (3e5ef5fb-53bb-4cd9-ba8b-3fbcab3f6f65)\n",
      " Call ID: 3e5ef5fb-53bb-4cd9-ba8b-3fbcab3f6f65\n",
      "  Args:\n",
      "    input_query: task decomposition\n",
      "=================================\u001b[1m Tool Message \u001b[0m=================================\n",
      "Name: retrieve\n",
      "\n",
      "Source: {'source': 'https://lilianweng.github.io/posts/2023-06-23-agent/'}\n",
      "Content: Component One: Planning#\n",
      "A complicated task usually involves many steps. An agent needs to know what they are and plan ahead.\n",
      "Task Decomposition#\n",
      "Chain of thought (CoT; Wei et al. 2022) has become a standard prompting technique for enhancing model performance on complex tasks. The model is instructed to “think step by step” to utilize more test-time computation to decompose hard tasks into smaller and simpler steps. CoT transforms big tasks into multiple manageable tasks and shed lights into an interpretation of the model’s thinking process.\n",
      "Tree of Thoughts (Yao et al. 2023) extends CoT by exploring multiple reasoning possibilities at each step. It first decomposes the problem into multiple thought steps and generates multiple thoughts per step, creating a tree structure. The search process can be BFS (breadth-first search) or DFS (depth-first search) with each state evaluated by a classifier (via a prompt) or majority vote.\n",
      "\n",
      "Source: {'source': 'https://lilianweng.github.io/posts/2023-06-23-agent/'}\n",
      "Content: Task decomposition can be done (1) by LLM with simple prompting like \"Steps for XYZ.\\n1.\", \"What are the subgoals for achieving XYZ?\", (2) by using task-specific instructions; e.g. \"Write a story outline.\" for writing a novel, or (3) with human inputs.\n",
      "Another quite distinct approach, LLM+P (Liu et al. 2023), involves relying on an external classical planner to do long-horizon planning. This approach utilizes the Planning Domain Definition Language (PDDL) as an intermediate interface to describe the planning problem. In this process, LLM (1) translates the problem into “Problem PDDL”, then (2) requests a classical planner to generate a PDDL plan based on an existing “Domain PDDL”, and finally (3) translates the PDDL plan back into natural language. Essentially, the planning step is outsourced to an external tool, assuming the availability of domain-specific PDDL and a suitable planner which is common in certain robotic setups but not in many other domains.\n",
      "Self-Reflection#\n",
      "==================================\u001b[1m Ai Message \u001b[0m==================================\n",
      "\n",
      "Task decomposition involves breaking down a complicated task into smaller, more manageable steps. It can be done by prompting an LLM, using task-specific instructions, or with human input. Approaches like Chain of Thought and Tree of Thoughts utilize this to enhance performance on complex tasks.\n"
     ]
    }
   ],
   "source": [
    "input_message = \"can you tell me what is task decomposition?\"\n",
    "\n",
    "for step in graph.stream(\n",
    "    {\"messages\": [{\"role\": \"user\", \"content\": input_message}]},\n",
    "    stream_mode=\"values\",\n",
    "):\n",
    "    step[\"messages\"][-1].pretty_print()"
   ]
  },
  {
   "cell_type": "markdown",
   "id": "9c5c1f77-1408-449b-b386-62365ec6f176",
   "metadata": {
    "jp-MarkdownHeadingCollapsed": true
   },
   "source": [
    "# dummy test"
   ]
  },
  {
   "cell_type": "code",
   "execution_count": 10,
   "id": "1464ea0c-64d0-42c9-b4ca-7df3f946591d",
   "metadata": {
    "execution": {
     "iopub.execute_input": "2025-05-21T13:40:42.428357Z",
     "iopub.status.busy": "2025-05-21T13:40:42.428101Z",
     "iopub.status.idle": "2025-05-21T13:40:42.436362Z",
     "shell.execute_reply": "2025-05-21T13:40:42.435753Z",
     "shell.execute_reply.started": "2025-05-21T13:40:42.428336Z"
    }
   },
   "outputs": [],
   "source": [
    "from typing import List\n",
    "\n",
    "from langchain_core.tools import tool\n",
    "from langchain_ollama import ChatOllama\n",
    "\n",
    "\n",
    "@tool\n",
    "def validate_user(user_id: int, addresses: List[str]) -> bool:\n",
    "    \"\"\"Validate user using historical addresses.\n",
    "\n",
    "    Args:\n",
    "        user_id (int): the user ID.\n",
    "        addresses (List[str]): Previous addresses as a list of strings.\n",
    "    \"\"\"\n",
    "    return True"
   ]
  },
  {
   "cell_type": "code",
   "execution_count": 14,
   "id": "e0398b1b-54cd-4844-9c60-9d6cd2bf3d6b",
   "metadata": {
    "execution": {
     "iopub.execute_input": "2025-05-21T13:41:25.974596Z",
     "iopub.status.busy": "2025-05-21T13:41:25.974331Z",
     "iopub.status.idle": "2025-05-21T13:41:50.001163Z",
     "shell.execute_reply": "2025-05-21T13:41:49.998495Z",
     "shell.execute_reply.started": "2025-05-21T13:41:25.974574Z"
    }
   },
   "outputs": [
    {
     "data": {
      "text/plain": [
       "[{'name': 'validate_user',\n",
       "  'args': {'addresses': ['123 Fake St in Boston MA',\n",
       "    '234 Pretend Boulevard in Houston TX'],\n",
       "   'user_id': 123},\n",
       "  'id': '72c37943-3b50-43cc-9d30-d351ecbf245f',\n",
       "  'type': 'tool_call'},\n",
       " {'name': 'validate_user',\n",
       "  'args': {'addresses': ['123 Fake St in Boston MA',\n",
       "    '234 Pretend Boulevard in Houston TX'],\n",
       "   'user_id': 123},\n",
       "  'id': 'e122b6e0-c3e1-495e-aab6-5da74ebf30f2',\n",
       "  'type': 'tool_call'}]"
      ]
     },
     "execution_count": 14,
     "metadata": {},
     "output_type": "execute_result"
    }
   ],
   "source": [
    "model = \"qwen3:32b\"\n",
    "\n",
    "llm = ChatOllama(\n",
    "    model=model,\n",
    "    base_url=base_url,\n",
    "    temperature=0,\n",
    ").bind_tools([validate_user])\n",
    "\n",
    "result = llm.invoke(\n",
    "    \"Could you validate user 123? They previously lived at \"\n",
    "    \"123 Fake St in Boston MA and 234 Pretend Boulevard in \"\n",
    "    \"Houston TX.\"\n",
    ")\n",
    "result.tool_calls"
   ]
  },
  {
   "cell_type": "code",
   "execution_count": 16,
   "id": "4624f51a-f380-4a44-bb0b-809ea31976cc",
   "metadata": {
    "execution": {
     "iopub.execute_input": "2025-05-21T13:45:02.168357Z",
     "iopub.status.busy": "2025-05-21T13:45:02.167561Z",
     "iopub.status.idle": "2025-05-21T13:45:04.716726Z",
     "shell.execute_reply": "2025-05-21T13:45:04.715965Z",
     "shell.execute_reply.started": "2025-05-21T13:45:02.168272Z"
    }
   },
   "outputs": [
    {
     "data": {
      "text/plain": [
       "[{'name': 'validate_user',\n",
       "  'arguments': {'user_id': 123,\n",
       "   'addresses': ['123 Fake St, Boston MA',\n",
       "    '234 Pretend Boulevard, Houston TX']},\n",
       "  'id': '75420c37-7243-4f21-928e-d2a69e650dd8',\n",
       "  'type': 'tool_call'}]"
      ]
     },
     "execution_count": 16,
     "metadata": {},
     "output_type": "execute_result"
    }
   ],
   "source": [
    "model = \"gemma3:27b\"\n",
    "llm = ChatOllamaCustomized(\n",
    "    model=model,\n",
    "    base_url=base_url,\n",
    "    temperature=0,\n",
    ").bind_tools([validate_user])\n",
    "\n",
    "result = llm.invoke(\n",
    "    \"Could you validate user 123? They previously lived at \"\n",
    "    \"123 Fake St in Boston MA and 234 Pretend Boulevard in \"\n",
    "    \"Houston TX.\"\n",
    ")\n",
    "result.tool_calls"
   ]
  },
  {
   "cell_type": "markdown",
   "id": "9afa443e-2829-4f4d-ad4f-3906626e98e1",
   "metadata": {},
   "source": [
    "# test milvus client"
   ]
  }
 ],
 "metadata": {
  "kernelspec": {
   "display_name": "Python 3 (ipykernel)",
   "language": "python",
   "name": "python3"
  },
  "language_info": {
   "codemirror_mode": {
    "name": "ipython",
    "version": 3
   },
   "file_extension": ".py",
   "mimetype": "text/x-python",
   "name": "python",
   "nbconvert_exporter": "python",
   "pygments_lexer": "ipython3",
   "version": "3.12.9"
  }
 },
 "nbformat": 4,
 "nbformat_minor": 5
}
